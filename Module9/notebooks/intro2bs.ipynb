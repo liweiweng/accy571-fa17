{
 "cells": [
  {
   "cell_type": "markdown",
   "metadata": {},
   "source": [
    "# Introduction to \n",
    "\n",
    "-----"
   ]
  },
  {
   "cell_type": "markdown",
   "metadata": {},
   "source": [
    "In this notebook, we build \n",
    "\n",
    "https://blog.stata.com/2016/11/01/introduction-to-bayesian-statistics-part-1-the-basic-concepts/\n",
    "\n",
    "-----"
   ]
  },
  {
   "cell_type": "markdown",
   "metadata": {},
   "source": [
    "## Table of Contents\n",
    "\n",
    "[](#)\n",
    "\n",
    "[](#)\n",
    "\n",
    "\n",
    "-----\n",
    "\n",
    "Before proceeding with the rest of this notebook, we first include the notebook setup code.\n",
    "\n",
    "-----"
   ]
  },
  {
   "cell_type": "code",
   "execution_count": 1,
   "metadata": {
    "collapsed": true
   },
   "outputs": [],
   "source": [
    "# Set up Notebook\n",
    "\n",
    "% matplotlib inline\n",
    "\n",
    "# Standard imports\n",
    "import numpy as np\n",
    "import pandas as pd\n",
    "import matplotlib.pyplot as plt\n",
    "import seaborn as sns\n",
    "\n",
    "# These two lines suppress warnings that sometimes\n",
    "# occur when making visualizations\n",
    "import warnings\n",
    "warnings.filterwarnings('ignore')"
   ]
  },
  {
   "cell_type": "markdown",
   "metadata": {},
   "source": [
    "-----\n",
    "\n",
    "[[Back to TOC]](#Table-of-Contents)\n",
    "\n",
    "## XXX YYY\n",
    "\n",
    "A \n",
    "\n",
    "-----\n",
    "[wcn]: https://en.wikipedia.org/\n"
   ]
  },
  {
   "cell_type": "markdown",
   "metadata": {},
   "source": [
    "-----\n",
    "\n",
    "<font color='red' size = '5'> Student Exercise </font>\n",
    "\n",
    "\n",
    "In the preceding cells, we introduced the **XYZ**. Now that you have run the notebook, go back and make the following changes to see how the results change.\n",
    "\n",
    "1. Change the \n",
    "2. Try \n",
    "3. Try \n",
    "\n",
    "-----"
   ]
  },
  {
   "cell_type": "markdown",
   "metadata": {},
   "source": [
    "## Ancillary Information\n",
    "\n",
    "The following links are to additional documentation that you might find helpful in learning this material. Reading these web-accessible documents is completely optional.\n",
    "\n",
    "1. Wikipedia article on [XXX YYY][ZZZ]\n",
    "\n",
    "http://sxxz.blogspot.com/2005/03/bayes-theorem-and-why-it-matters.html\n",
    "\n",
    "-----\n",
    "\n",
    "[ZZZ]: https://en.wikipedia.org/\n",
    "\n",
    "https://blog.codinghorror.com/an-initiate-of-the-bayesian-conspiracy/\n",
    "https://betterexplained.com/articles/an-intuitive-and-short-explanation-of-bayes-theorem/\n",
    "\n",
    "http://yudkowsky.net/rational/bayes\n",
    "\n",
    "https://courses.lumenlearning.com/math4libarts/chapter/bayes-theorem/\n",
    "\n",
    "http://sxxzdata.blogspot.com/2005/03/taxicab-example-of-bayesian-thinking.html\n",
    "\n",
    "https://datasciencebe.com/2016/10/05/bayes-in-action/\n",
    "\n",
    "https://www.quantstart.com/articles/Bayesian-Statistics-A-Beginners-Guide\n",
    "\n",
    "\n",
    "http://ipython-books.github.io/featured-07/\n",
    "http://nbviewer.jupyter.org/github/ipython-books/cookbook-code/blob/master/notebooks/chapter07_stats/05_mlfit.ipynb\n",
    "\n",
    "https://github.com/CamDavidsonPilon/Probabilistic-Programming-and-Bayesian-Methods-for-Hackers/blob/master/Chapter1_Introduction/Ch1_Introduction_PyMC3.ipynb\n",
    "\n",
    "\n",
    "https://github.com/fonnesbeck/statistical-analysis-python-tutorial/blob/master/4.%20Statistical%20Data%20Modeling.ipynb\n",
    "\n",
    "https://www.datascience.com/blog/introduction-to-bayesian-inference-learn-data-science-tutorials\n",
    "\n",
    "http://dogdogfish.com/ab-testing/bayesian-ab-testing-using-python/\n",
    "\n",
    "http://varianceexplained.org/r/bayesian_ab_baseball/\n",
    "\n",
    "\n",
    "http://crucialconsiderations.org/rationality/bayes-theorem/\n",
    "\n",
    "https://www.countbayesie.com/blog/2015/2/18/hans-solo-and-bayesian-priors\n",
    "\n",
    "https://github.com/ericmjl/bayesian-analysis-recipes\n",
    "\n",
    "https://www.stat.auckland.ac.nz/~brewer/stats331.pdf\n",
    "\n",
    "\n"
   ]
  },
  {
   "cell_type": "markdown",
   "metadata": {
    "deletable": false,
    "editable": false
   },
   "source": [
    "**&copy; 2017: Robert J. Brunner at the University of Illinois.**\n",
    "\n",
    "This notebook is released under the [Creative Commons license CC BY-NC-SA 4.0][ll]. Any reproduction, adaptation, distribution, dissemination or making available of this notebook for commercial use is not allowed unless authorized in writing by the copyright holder.\n",
    "\n",
    "[ll]: https://creativecommons.org/licenses/by-nc-sa/4.0/legalcode"
   ]
  }
 ],
 "metadata": {
  "kernelspec": {
   "display_name": "Python 3",
   "language": "python",
   "name": "python3"
  },
  "language_info": {
   "codemirror_mode": {
    "name": "ipython",
    "version": 3
   },
   "file_extension": ".py",
   "mimetype": "text/x-python",
   "name": "python",
   "nbconvert_exporter": "python",
   "pygments_lexer": "ipython3",
   "version": "3.6.1"
  }
 },
 "nbformat": 4,
 "nbformat_minor": 1
}
