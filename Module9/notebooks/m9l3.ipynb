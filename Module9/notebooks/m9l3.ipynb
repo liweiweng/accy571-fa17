{
 "cells": [
  {
   "cell_type": "markdown",
   "metadata": {},
   "source": [
    "# Module 9: Lesson 3\n",
    "\n",
    "-----\n",
    "\n",
    "## Introduction to Markov Chains\n",
    "\n",
    "In this lesson, we introduce Markov chains, a simple technique to model systems that change state with well-define probabilities. Specifically, a Markov chain is memoryless, which means the transition is independent of previous steps. A Markov chain model can be used to predict the state of a system under uncertainty, and forms the basis for more powerful modeling techniques, such as hidden Markov models, that extend this approach to individual components within the overall system.\n",
    "\n",
    "### Objectives\n",
    "\n",
    "By the end of this lesson, you will be able to \n",
    "\n",
    "- articulate the fundamental concepts behind a Markov chain,\n",
    "- explain how a Markov chain can be used to model a simple system, and\n",
    "- construct and evaluate a simple Markov chain model.\n",
    "\n",
    "### Time Estimate\n",
    "\n",
    "Approximately 2 hours.\n",
    "\n",
    "### Activities\n",
    "\n",
    "Video: Watch the [Introduction to Markov Chains][lv] video, which will discuss Markov chains and how they can be used to model a simple system that changes over time.\n",
    "\n",
    "Reading: Article presenting a simplified introduction to [Markov chains][mc] from AnalyticsVidhya  \n",
    "Reading: Article presenting a business case that uses [simple Markov chains][smc]  from AnalyticsVidhya  \n",
    "Reading: A visual introduction to [Markov chains][vmc]  from Setosa\n",
    "\n",
    "Notebook: Read and complete the practice exercises in the [Introduction to Markov Chains][intro2mc] notebook.\n",
    "\n",
    "------\n",
    "\n",
    "[mc]: https://www.analyticsvidhya.com/blog/2014/07/markov-chain-simplified/\n",
    "[smc]: https://www.analyticsvidhya.com/blog/2014/07/solve-business-case-simple-markov-chain/\n",
    "[vmc]: http://setosa.io/ev/markov-chains/\n",
    "\n",
    "[lv]: https://mediaspace.illinois.edu/media/t/1_5uvyfmwh/80455691\n",
    "\n",
    "[intro2mc]: intro2mc.ipynb"
   ]
  }
 ],
 "metadata": {
  "kernelspec": {
   "display_name": "Python 3",
   "language": "python",
   "name": "python3"
  },
  "language_info": {
   "codemirror_mode": {
    "name": "ipython",
    "version": 3
   },
   "file_extension": ".py",
   "mimetype": "text/x-python",
   "name": "python",
   "nbconvert_exporter": "python",
   "pygments_lexer": "ipython3",
   "version": "3.6.1"
  }
 },
 "nbformat": 4,
 "nbformat_minor": 2
}
