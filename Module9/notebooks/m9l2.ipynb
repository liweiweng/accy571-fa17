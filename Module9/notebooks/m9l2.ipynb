{
 "cells": [
  {
   "cell_type": "markdown",
   "metadata": {},
   "source": [
    "# Module 9: Lesson 2\n",
    "\n",
    "-----\n",
    "\n",
    "##  Introduction to Bayesian Statistics\n",
    "\n",
    "To include uncertainty in the decision making process, we require a statistical framework that supports probabilistic reasoning. Bayesian statistics is based on the premise that probability encodes our degree of belief in an event. Thus, by employing Bayesian statistics, we can model a process of interest that naturally includes any inherent uncertainty.\n",
    "\n",
    "### Objectives\n",
    "\n",
    "By the end of this lesson, you will be able to \n",
    "\n",
    "- describe the different components of Bayes' theorem,\n",
    "- explain how Bayesian statistics includes uncertainty, and\n",
    "- apply Bayes theorem to a simple statistical model.\n",
    "\n",
    "\n",
    "### Time Estimate\n",
    "\n",
    "Approximately 1 hour.\n",
    "\n",
    "### Activities\n",
    "\n",
    "Video: Watch the [Introduction to Bayesian Statistics][lv] video, which will introduce Bayes theorem and how it impacts statistical thinking.\n",
    "\n",
    "Reading: Article discussing how [Bayes' Theorem][bt] can make you a better thinker  \n",
    "Reading: Article on [Visualizing Bayes' Theorem][vbt]\n",
    "\n",
    "Notebook: Read and complete the practice exercises in the [Introduction to Bayesian Statistics][intro2bs] notebook.\n",
    "\n",
    "------\n",
    "\n",
    "[bt]: https://io9.gizmodo.com/how-bayes-rule-can-make-you-a-better-thinker-471233405\n",
    "[vbt]: https://oscarbonilla.com/2009/05/visualizing-bayes-theorem/\n",
    "\n",
    "[lv]: https://mediaspace.illinois.edu/media/t/1_0z3i5qjw/80455691\n",
    "\n",
    "[intro2bs]: intro2bs.ipynb"
   ]
  }
 ],
 "metadata": {
  "kernelspec": {
   "display_name": "Python 3",
   "language": "python",
   "name": "python3"
  },
  "language_info": {
   "codemirror_mode": {
    "name": "ipython",
    "version": 3
   },
   "file_extension": ".py",
   "mimetype": "text/x-python",
   "name": "python",
   "nbconvert_exporter": "python",
   "pygments_lexer": "ipython3",
   "version": "3.6.1"
  }
 },
 "nbformat": 4,
 "nbformat_minor": 2
}
