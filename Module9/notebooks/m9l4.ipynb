{
 "cells": [
  {
   "cell_type": "markdown",
   "metadata": {},
   "source": [
    "# Module 9: Lesson 4\n",
    "\n",
    "-----\n",
    "\n",
    "##  Introduction to Markov Chain Monte Carlo \n",
    "\n",
    "This lesson introduces Markov chain Monte Carlo (MCMC), a technique to generate samples from (potentially) complex distributions. Monte Carlo techniques have been used for many years to numerically evaluate a function by using random sampling (e.g., numerical integration). Markov chain Monte Carlo extends these ideas to use a Markov chain to sample from a distribution that we wish to numerically evaluate, and we use Monte Carlo to perform the numerical evaluation. \n",
    "\n",
    "### Objectives\n",
    "\n",
    "By the end of this lesson, you will be able to \n",
    "\n",
    "- explain how a Monte Carlo approach can be used to performa  numerically integration,\n",
    "- articulate the basic concepts behind Markov chain Monte Carlo, and\n",
    "- perform a simple MCMC estimation by using the PyMC3 library.\n",
    "\n",
    "### Time Estimate\n",
    "\n",
    "Approximately 2 hours.\n",
    "\n",
    "### Activities\n",
    "\n",
    "Video: Watch the [Introduction to Markov Chain Monte Carlo][lv] video, which will introduce MCMC and demonstrate how it can be used to compute model quantities from a distribution.\n",
    "\n",
    "Reading: An introduction to [MCMC][jcmcmc] from John Cook  \n",
    "Reading: An overview of [MCMC sampling][twmcmc] from Thomas Wiecki\n",
    "\n",
    "\n",
    "Notebook: Read and complete the practice exercises in the [Introduction to Markov Chain Monte Carlo][intro2mcmc] notebook.\n",
    "\n",
    "------\n",
    "\n",
    "[jcmcmc]: https://www.johndcook.com/blog/2016/01/23/introduction-to-mcmc/\n",
    "\n",
    "[twmcmc]: http://twiecki.github.io/blog/2015/11/10/mcmc-sampling/\n",
    "\n",
    "\n",
    "[lv]: https://mediaspace.illinois.edu/media/t/1_ztsbx709/80455691\n",
    "\n",
    "[intro2mcmc]: intro2mcmc.ipynb"
   ]
  }
 ],
 "metadata": {
  "kernelspec": {
   "display_name": "Python 3",
   "language": "python",
   "name": "python3"
  },
  "language_info": {
   "codemirror_mode": {
    "name": "ipython",
    "version": 3
   },
   "file_extension": ".py",
   "mimetype": "text/x-python",
   "name": "python",
   "nbconvert_exporter": "python",
   "pygments_lexer": "ipython3",
   "version": "3.6.1"
  }
 },
 "nbformat": 4,
 "nbformat_minor": 2
}
