{
 "cells": [
  {
   "cell_type": "markdown",
   "metadata": {},
   "source": [
    "# Module 9: Lesson 1\n",
    "\n",
    "-----\n",
    "\n",
    "## Probabilistic Decision Making\n",
    "\n",
    "Many problems in the real world involve uncertainty, yet traditional analytics techniques often ignore or minimize the impact of uncertainty to simplify the process of making decisions. In this lesson, we review the importance of including probabilities in decision making and how, even with _big data_ including uncertainty in decision making can produce a strategic advantage over the competition.\n",
    "\n",
    "\n",
    "### Objectives\n",
    "\n",
    "By the end of this lesson, you will be able to \n",
    "\n",
    "- discuss the nature of uncertainty,\n",
    "- explain how uncertainty is actually implicit in real-world devision making, and\n",
    "- present at least one example of how a strategic advantage was created from accounting for uncertainty in the decision making process.\n",
    "\n",
    "### Time Estimate\n",
    "\n",
    "Approximately 1 hour.\n",
    "\n",
    "### Activities\n",
    "\n",
    "Video: Watch the [Probabilistic Decision Making][lv] video, which will discuss how probabilities thinking can lead to better decisions.\n",
    "\n",
    "Reading: Article from PWC on [decision making][pdm] in the era of big data.  \n",
    "Reading: Article from Deloitte on how [statistical thinking][dst] can lead to better decisions.\n",
    "\n",
    "------\n",
    "\n",
    "[pdm]: https://www.pwc.com/us/en/advisory-services/data-possibilities/big-decision-survey/view-of-decisions.html\n",
    "\n",
    "[dst]: https://dupress.deloitte.com/dup-us-en/deloitte-review/issue-4/irrational-expectations-statistical-thinking-for-better-decisions.html\n",
    "\n",
    "\n",
    "[lv]: https://mediaspace.illinois.edu/media/"
   ]
  }
 ],
 "metadata": {
  "kernelspec": {
   "display_name": "Python 3",
   "language": "python",
   "name": "python3"
  },
  "language_info": {
   "codemirror_mode": {
    "name": "ipython",
    "version": 3
   },
   "file_extension": ".py",
   "mimetype": "text/x-python",
   "name": "python",
   "nbconvert_exporter": "python",
   "pygments_lexer": "ipython3",
   "version": "3.6.1"
  }
 },
 "nbformat": 4,
 "nbformat_minor": 2
}
