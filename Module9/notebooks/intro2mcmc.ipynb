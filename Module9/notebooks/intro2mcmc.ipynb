{
 "cells": [
  {
   "cell_type": "markdown",
   "metadata": {},
   "source": [
    "# Introduction to MCMC\n",
    "\n",
    "-----"
   ]
  },
  {
   "cell_type": "markdown",
   "metadata": {},
   "source": [
    "In this notebook, we build \n",
    "\n",
    "https://gist.github.com/AustinRochford/d83ecc6acd17a632a2b9df788386540b\n",
    "\n",
    "-----"
   ]
  },
  {
   "cell_type": "markdown",
   "metadata": {},
   "source": [
    "## Table of Contents\n",
    "\n",
    "[](#)\n",
    "\n",
    "[](#)\n",
    "\n",
    "\n",
    "-----\n",
    "\n",
    "Before proceeding with the rest of this notebook, we first include the notebook setup code.\n",
    "\n",
    "-----"
   ]
  },
  {
   "cell_type": "code",
   "execution_count": 1,
   "metadata": {
    "collapsed": true
   },
   "outputs": [],
   "source": [
    "# Set up Notebook\n",
    "\n",
    "% matplotlib inline\n",
    "\n",
    "# Standard imports\n",
    "import numpy as np\n",
    "import pandas as pd\n",
    "import matplotlib.pyplot as plt\n",
    "import seaborn as sns\n",
    "\n",
    "# These two lines suppress warnings that sometimes\n",
    "# occur when making visualizations\n",
    "import warnings\n",
    "warnings.filterwarnings('ignore')"
   ]
  },
  {
   "cell_type": "markdown",
   "metadata": {},
   "source": [
    "-----\n",
    "\n",
    "[[Back to TOC]](#Table-of-Contents)\n",
    "\n",
    "## XXX YYY\n",
    "\n",
    "A \n",
    "\n",
    "-----\n",
    "[wcn]: https://en.wikipedia.org/\n"
   ]
  },
  {
   "cell_type": "markdown",
   "metadata": {},
   "source": [
    "-----\n",
    "\n",
    "<font color='red' size = '5'> Student Exercise </font>\n",
    "\n",
    "\n",
    "In the preceding cells, we introduced the **XYZ**. Now that you have run the notebook, go back and make the following changes to see how the results change.\n",
    "\n",
    "1. Change the \n",
    "2. Try \n",
    "3. Try \n",
    "\n",
    "-----"
   ]
  },
  {
   "cell_type": "markdown",
   "metadata": {},
   "source": [
    "## Ancillary Information\n",
    "\n",
    "The following links are to additional documentation that you might find helpful in learning this material. Reading these web-accessible documents is completely optional.\n",
    "\n",
    "1. Wikipedia article on [XXX YYY][ZZZ]\n",
    "\n",
    "-----\n",
    "\n",
    "http://scikit-learn.sourceforge.net/stable/modules/hmm.html\n",
    "\n",
    "[ZZZ]: https://en.wikipedia.org/\n",
    "\n",
    "https://theclevermachine.wordpress.com/2012/10/05/mcmc-the-metropolis-sampler/\n",
    "\n",
    "https://theclevermachine.wordpress.com/2012/09/24/a-brief-introduction-to-markov-chains/\n",
    "\n",
    "https://theclevermachine.wordpress.com/2012/09/22/monte-carlo-approximations/\n",
    "\n",
    "\n",
    "[jcmcmc]: https://www.johndcook.com/blog/2016/01/23/introduction-to-mcmc/\n",
    "\n",
    "[twmcmc]: http://twiecki.github.io/blog/2015/11/10/mcmc-sampling/\n",
    "\n",
    "\n",
    "\n",
    "https://www.johndcook.com/blog/2016/01/25/mcmc-burn-in/\n",
    "\n",
    "http://www.lbreyer.com/classic.html\n",
    "\n",
    "https://theclevermachine.wordpress.com/2012/11/19/a-gentle-introduction-to-markov-chain-monte-carlo-mcmc/\n",
    "\n",
    "https://theclevermachine.wordpress.com/2012/11/05/mcmc-the-gibbs-sampler/\n",
    "\n",
    "https://healthyalgorithms.com/2010/10/19/mcmc-in-python-how-to-stick-a-statistical-model-on-a-system-dynamics-model-in-pymc/\n",
    "\n",
    "https://jeremykun.com/2015/04/06/markov-chain-monte-carlo-without-all-the-bullshit/\n",
    "\n",
    "http://michaeljflynn.net/2015/06/01/my-favorite-algorithm-metropolis-hastings/\n",
    "\n",
    "https://colcarroll.github.io/hamiltonian_monte_carlo_talk/bayes_talk.html\n",
    "\n",
    "https://github.com/fonnesbeck/PyMC3_DataScienceLA/blob/master/notebooks/2.%20Markov%20Chain%20Monte%20Carlo.ipynb\n",
    "\n"
   ]
  },
  {
   "cell_type": "markdown",
   "metadata": {
    "deletable": false,
    "editable": false
   },
   "source": [
    "**&copy; 2017: Robert J. Brunner at the University of Illinois.**\n",
    "\n",
    "This notebook is released under the [Creative Commons license CC BY-NC-SA 4.0][ll]. Any reproduction, adaptation, distribution, dissemination or making available of this notebook for commercial use is not allowed unless authorized in writing by the copyright holder.\n",
    "\n",
    "[ll]: https://creativecommons.org/licenses/by-nc-sa/4.0/legalcode"
   ]
  }
 ],
 "metadata": {
  "kernelspec": {
   "display_name": "Python 3",
   "language": "python",
   "name": "python3"
  },
  "language_info": {
   "codemirror_mode": {
    "name": "ipython",
    "version": 3
   },
   "file_extension": ".py",
   "mimetype": "text/x-python",
   "name": "python",
   "nbconvert_exporter": "python",
   "pygments_lexer": "ipython3",
   "version": "3.6.1"
  }
 },
 "nbformat": 4,
 "nbformat_minor": 1
}
