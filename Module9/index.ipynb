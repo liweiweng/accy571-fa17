{
 "cells": [
  {
   "cell_type": "markdown",
   "metadata": {},
   "source": [
    "# Module 9: Introduction to Probabilistic Analysis\n",
    "\n",
    "This module introduces basic concepts in probabilistic analysis. First, we learn how quantifying uncertainty can improve the decision making process, which can lead to strategic advantages. Second, we introduce Bayesian statistics, which provides a natural framework to include uncertainty when statistically modeling a system. Third, we introduce Markov chains, which can be used to evaluate a system that transitions between states in a memoryless manner. Finally, we introduce Markov chain Monte Carlo, which is a technique for numerically evaluating functions, such as integrals of probability distributions.\n",
    "\n",
    "## Learning Objectives\n",
    "\n",
    "#### By the end of this module, you should be able to:\n",
    "\n",
    "- explain the importance of including uncertainty in the decision making process,\n",
    "- articulate the basic tenets of Bayesian statistics,\n",
    "- construct a Bayesian model for a simple system, \n",
    "- create a Markov chain to model a system,\n",
    "- apply Markov chain Monte Carlo to compute model parameters under uncertainty.\n",
    "\n",
    "### Activities and Assignments\n",
    "\n",
    "| Activities and Assignments               | Time Estimate | Deadline* | Points |\n",
    "| :--------------------------------------- | ------------- | --------- | -----: |\n",
    "| **[Module 9 Overview Video][wv]**      | 10 Minutes    | Tuesday  |    N/A |\n",
    "| **[Module 9 Lesson 1: Probabilistic Decision Making][nb1]** | 1 Hour  | Thursday  |     N/A |\n",
    "| **[Module 9 Lesson 2: Introduction to Bayesian Statistics][nb2]** | 1 Hour | Thursday  |     N/A |\n",
    "| **[Module 9 Lesson 3: Introduction to Markov Chains][nb3]** | 2 Hours | Thursday  |     N/A |\n",
    "| **[Module 9 Lesson 4: Introduction to Markov Chain Monte Carlo][nb4]** | 2 Hours   | Thursday  |     N/A |\n",
    "| **[Module 9 Quiz][wq]**                    | 30 Minutes    | Friday    |     25|\n",
    "| **[Module 9 Assignment][ma]**                    | 2 hours   | (following) Monday    |  100 |\n",
    "\n",
    "*Please note that unless otherwise noted, the due time is 6pm Central time!\n",
    "\n",
    "----------\n",
    "\n",
    "[nb1]: notebooks/m9l1.ipynb\n",
    "[nb2]: notebooks/m9l2.ipynb\n",
    "[nb3]: notebooks/m9l3.ipynb\n",
    "[nb4]: notebooks/m9l4.ipynb\n",
    "\n",
    "[ma]: https://datascience.business.illinois.edu/user/accy/notebooks/accy571/assignments/Module9/assignment.ipynb\n",
    "\n",
    "[wv]: https://mediaspace.illinois.edu/media/t/1_9ygtydjp/80455691\n",
    "[wq]: https://learn.illinois.edu/mod/quiz/view.php?id=2366476"
   ]
  }
 ],
 "metadata": {
  "kernelspec": {
   "display_name": "Python 3",
   "language": "python",
   "name": "python3"
  },
  "language_info": {
   "codemirror_mode": {
    "name": "ipython",
    "version": 3
   },
   "file_extension": ".py",
   "mimetype": "text/x-python",
   "name": "python",
   "nbconvert_exporter": "python",
   "pygments_lexer": "ipython3",
   "version": "3.6.1"
  }
 },
 "nbformat": 4,
 "nbformat_minor": 2
}
