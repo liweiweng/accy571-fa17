{
 "cells": [
  {
   "cell_type": "markdown",
   "metadata": {},
   "source": [
    "# Module 13: Hypothesis Testing\n",
    "\n",
    "Classical statistics provides a number of tests that can be used to infer insights about an unseen population from observed samples. Traditionally, these tests were developed in an age when both the data sets and available computational power were limited. Many of these tests also assume a specific distribution for the parent population, such as the Normal distribution, which introduces a limitation to the efficacy of these methods. In this lesson, we first introduce classical hypothesis testing before introducing an alternative, distribution-free approach to computing these tests that involves resampling.\n",
    "\n",
    "## Learning Objectives\n",
    "\n",
    "#### By the end of this module, you should be able to:\n",
    "\n",
    "- describe classical hypothesis tests such as the t-test and ANOVA,\n",
    "- apply classical hypothesis tests by using Python to make statistical inferences about populations,\n",
    "- explain how resampling can be used in place of many hypothesis tests, and\n",
    "- apply resampling by using Python to make statistical inferences about populations.\n",
    "\n",
    "### Activities and Assignments\n",
    "\n",
    "| Activities and Assignments               | Time Estimate | Deadline* | Points |\n",
    "| :--------------------------------------- | ------------- | --------- | -----: |\n",
    "| **[Module 13 Overview Video][wv]**      | 10 Minutes    | Tuesday  |    N/A |\n",
    "| **[Module 13 Lesson 1: Introduction to Hypothesis Testing][nb1]** | 2 Hours  | Thursday  |     N/A |\n",
    "| **[Module 13 Lesson 2: Classical Hypothesis Testing][nb2]** | 2 Hours | Thursday  |     N/A |\n",
    "| **[Module 13 Lesson 3: Introduction to Resampling][nb3]** | 2 Hours | Thursday  |     N/A |\n",
    "| **[Module 13 Lesson 4: Resampling and Hypothesis Testing][nb4]** | 2 Hours   | Thursday  |     N/A |\n",
    "| **[Module 13 Quiz][wq]**                    | 30 Minutes    | Friday    |     25|\n",
    "\n",
    "*Please note that unless otherwise noted, the due time is 6pm Central time!\n",
    "\n",
    "----------\n",
    "\n",
    "[nb1]: notebooks/m13l1.ipynb\n",
    "[nb2]: notebooks/m13l2.ipynb\n",
    "[nb3]: notebooks/m13l3.ipynb\n",
    "[nb4]: notebooks/m13l4.ipynb\n",
    "\n",
    "[wv]: https://mediaspace.illinois.edu/media/\n",
    "[wq]: https://learn.illinois.edu/mod/quiz/view.php?id=2452848"
   ]
  }
 ],
 "metadata": {
  "kernelspec": {
   "display_name": "Python 3",
   "language": "python",
   "name": "python3"
  },
  "language_info": {
   "codemirror_mode": {
    "name": "ipython",
    "version": 3
   },
   "file_extension": ".py",
   "mimetype": "text/x-python",
   "name": "python",
   "nbconvert_exporter": "python",
   "pygments_lexer": "ipython3",
   "version": "3.6.1"
  }
 },
 "nbformat": 4,
 "nbformat_minor": 2
}
