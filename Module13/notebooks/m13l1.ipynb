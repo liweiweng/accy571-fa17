{
 "cells": [
  {
   "cell_type": "markdown",
   "metadata": {},
   "source": [
    "# Module 13: Lesson 1\n",
    "\n",
    "-----\n",
    "\n",
    "## Introduction to Hypothesis Testing\n",
    "\n",
    "In this lesson, we introduce the basic concepts behind classical hypothesis testing, which include the _Null Hypothesis_, _p-values_, false discovery rate, and _Type I/II_ errors.\n",
    "\n",
    "### Objectives\n",
    "\n",
    "By the end of this lesson, you will be able to \n",
    "\n",
    "- explain  the basic concepts behind classical hypothesis testing, such as the _Null Hypothesis_ and _p-values_,\n",
    "- explain how the importance of the false discovery rate,\n",
    "- discuss the concept of _p-value hacking_ and other challenges of classical hypothesis testing, and\n",
    "- articulate the differences between _Type I_ and _Type II_ errors.\n",
    "\n",
    "### Time Estimate\n",
    "\n",
    "Approximately 2 hours.\n",
    "\n",
    "### Activities\n",
    "\n",
    "Video: Watch the [Introduction to Hypothesis Testing][lv] video, which will introduce hypothesis testing, demonstrate how it can be applied, and discuss ways that it can be misused.\n",
    "\n",
    "Reading: Read about the use, and misuse, of [p-values][vpv].\n",
    "\n",
    "Reading: Read about the fundamental concepts behind [Hypothesis Testing][sa]\n",
    "\n",
    "Reading: Read about [p-values, false discovery rate, and q-values][fdr]\n",
    "\n",
    "------\n",
    "\n",
    "[vpv]: https://www.vox.com/science-and-health/2017/7/31/16021654/p-values-statistical-significance-redefine-0005\n",
    "\n",
    "[fdr]: http://www.nonlinear.com/support/progenesis/comet/faq/v2.0/pq-values.aspx\n",
    "\n",
    "[sa]: http://work.thaslwanter.at/Stats/html/statsAnalysis.html\n",
    "\n",
    "\n",
    "\n",
    "[lv]: https://mediaspace.illinois.edu/media/t/1_lu7dvtyz/80455691"
   ]
  }
 ],
 "metadata": {
  "kernelspec": {
   "display_name": "Python 3",
   "language": "python",
   "name": "python3"
  },
  "language_info": {
   "codemirror_mode": {
    "name": "ipython",
    "version": 3
   },
   "file_extension": ".py",
   "mimetype": "text/x-python",
   "name": "python",
   "nbconvert_exporter": "python",
   "pygments_lexer": "ipython3",
   "version": "3.6.1"
  }
 },
 "nbformat": 4,
 "nbformat_minor": 2
}
