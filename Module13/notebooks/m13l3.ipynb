{
 "cells": [
  {
   "cell_type": "markdown",
   "metadata": {},
   "source": [
    "# Module 13: Lesson 3\n",
    "\n",
    "-----\n",
    "\n",
    "## Introduction to Resampling\n",
    "\n",
    "Classical hypothesis testing relies on an assumption of a distribution such as a Normal distribution for many applications. In general, however, we do not know the true distribution of the population of data we are studying, or if we do it is not a Normal. An alternative approach to classical hypothesis testing, which is is distribution-free, involves resampling, where new samples are drawn from the observed data to infer statistical results about the parent population. In this lesson, we introduce the basic concepts behind resampling and demonstrate how it can be used on real data.\n",
    "\n",
    "### Objectives\n",
    "\n",
    "By the end of this lesson, you will be able to \n",
    "\n",
    "- explain how resampling is used to generate new data samples from observed data,\n",
    "- why resampling techniques can be effective, and\n",
    "- apply resampling by using basic Python concepts.\n",
    "\n",
    "### Time Estimate\n",
    "\n",
    "Approximately 2 hours.\n",
    "\n",
    "### Activities\n",
    "\n",
    "Video: Watch the [Introduction to Resampling][lv] video, which will introduce the technique of resampling, which simplifies the computation of many hypothesis tests.\n",
    "\n",
    "Reading: Read Chapters 1-3 from  [Statistics is Easy][sie], note this PDF can be downloaded only if you are on the campus network (a VPN connection will also work).\n",
    "\n",
    "------\n",
    "\n",
    "[sie]: http://www.morganclaypool.com/doi/pdf/10.2200/S00295ED1V01Y201009MAS008\n",
    "\n",
    "[lv]: https://mediaspace.illinois.edu/media/t/1_7dmskv17/80455691"
   ]
  }
 ],
 "metadata": {
  "kernelspec": {
   "display_name": "Python 3",
   "language": "python",
   "name": "python3"
  },
  "language_info": {
   "codemirror_mode": {
    "name": "ipython",
    "version": 3
   },
   "file_extension": ".py",
   "mimetype": "text/x-python",
   "name": "python",
   "nbconvert_exporter": "python",
   "pygments_lexer": "ipython3",
   "version": "3.6.1"
  }
 },
 "nbformat": 4,
 "nbformat_minor": 2
}
