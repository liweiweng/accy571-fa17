{
 "cells": [
  {
   "cell_type": "markdown",
   "metadata": {},
   "source": [
    "# Module 13: Lesson 3\n",
    "\n",
    "-----\n",
    "\n",
    "## Introduction to Resampling\n",
    "\n",
    "XYZ\n",
    "\n",
    "### Objectives\n",
    "\n",
    "By the end of this lesson, you will understand \n",
    "\n",
    "- XYZ\n",
    "\n",
    "### Time Estimate\n",
    "\n",
    "Approximately 2 hours.\n",
    "\n",
    "### Activities\n",
    "\n",
    "Video: Watch the [Introduction to Resampling][lv] video, which will introduce the technique of resampling, which simplifies the computation of many hypothesis tests.\n",
    "\n",
    "Reading: Read Chapters 1-3 from  [Statistics is Easy][sie], note this PDF can be downloaded only if you are on the campus network (a VPN connection will also work).\n",
    "\n",
    "------\n",
    "\n",
    "[sie]: http://www.morganclaypool.com/doi/pdf/10.2200/S00295ED1V01Y201009MAS008\n",
    "\n",
    "[lv]: https://mediaspace.illinois.edu/media/"
   ]
  }
 ],
 "metadata": {
  "kernelspec": {
   "display_name": "Python 3",
   "language": "python",
   "name": "python3"
  },
  "language_info": {
   "codemirror_mode": {
    "name": "ipython",
    "version": 3
   },
   "file_extension": ".py",
   "mimetype": "text/x-python",
   "name": "python",
   "nbconvert_exporter": "python",
   "pygments_lexer": "ipython3",
   "version": "3.6.1"
  }
 },
 "nbformat": 4,
 "nbformat_minor": 2
}
