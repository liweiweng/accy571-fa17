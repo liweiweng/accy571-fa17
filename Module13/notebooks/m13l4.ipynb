{
 "cells": [
  {
   "cell_type": "markdown",
   "metadata": {},
   "source": [
    "# Module 13: Lesson 4\n",
    "\n",
    "-----\n",
    "\n",
    "## Resampling and Hypothesis Testing\n",
    "\n",
    "XYZ\n",
    "\n",
    "### Objectives\n",
    "\n",
    "By the end of this lesson, you will understand \n",
    "\n",
    "- XYZ\n",
    "\n",
    "### Time Estimate\n",
    "\n",
    "Approximately 2 hours.\n",
    "\n",
    "### Activities\n",
    "\n",
    "Video: Watch the [Resampling and Hypothesis Testing][lv] video, which will introduce how resampling can be used to perform hypothesis testing.\n",
    "\n",
    "Reading: Read Chapters 4 (you can skip 4.7-4.9) from [Statistics is Easy][sie], note this PDF can be downloaded only if you are on the campus network (a VPN connection will also work).\n",
    "\n",
    "------\n",
    "\n",
    "[sie]: http://www.morganclaypool.com/doi/pdf/10.2200/S00295ED1V01Y201009MAS008\n",
    "\n",
    "[lv]: https://mediaspace.illinois.edu/media/"
   ]
  }
 ],
 "metadata": {
  "kernelspec": {
   "display_name": "Python 3",
   "language": "python",
   "name": "python3"
  },
  "language_info": {
   "codemirror_mode": {
    "name": "ipython",
    "version": 3
   },
   "file_extension": ".py",
   "mimetype": "text/x-python",
   "name": "python",
   "nbconvert_exporter": "python",
   "pygments_lexer": "ipython3",
   "version": "3.6.1"
  }
 },
 "nbformat": 4,
 "nbformat_minor": 2
}
