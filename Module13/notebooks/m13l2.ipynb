{
 "cells": [
  {
   "cell_type": "markdown",
   "metadata": {},
   "source": [
    "# Module 13: Lesson 2\n",
    "\n",
    "-----\n",
    "\n",
    "## Classical Hypothesis Testing\n",
    "\n",
    "In this lesson, we will introduce the most common classical hypothesis testing techniques, including the t-test and ANOVA with examples in Python to demonstrate how they can be used to infer statistical constraints from samples of data..\n",
    "\n",
    "### Objectives\n",
    "\n",
    "By the end of this lesson, you will be able to \n",
    "\n",
    "- apply the one sample t-test to constrain the population mean,\n",
    "- explain the utility of the Wicoxon signed rank sum test,\n",
    "- describe the difference between the paired and unpaired t-tests,\n",
    "- articulate the basic concepts behind ANOVA and explain how it can be applied to compare different groups of data, and\n",
    "- apply false discovery rate to reduce the number of false positives in a hypothesis test.\n",
    "\n",
    "### Time Estimate\n",
    "\n",
    "Approximately 2 hours.\n",
    "\n",
    "### Activities\n",
    "\n",
    "Video: Watch the [Classical Hypothesis Testing][lv] video, which will introduce many of the most common hypothesis tests.\n",
    "\n",
    "Reading: Read how to perform many of the most common [Hypothesis test][sc]\n",
    "\n",
    "Reading: Read how to threshold by using the [false discovery rate][fdr]\n",
    "\n",
    "------\n",
    "\n",
    "[sc]: http://work.thaslwanter.at/Stats/html/statsContinuous.html\n",
    "\n",
    "[fdr]: https://matthew-brett.github.io/teaching/fdr.html\n",
    "\n",
    "[lv]: https://mediaspace.illinois.edu/media/t/1_vpz8qad6/80455691"
   ]
  }
 ],
 "metadata": {
  "kernelspec": {
   "display_name": "Python 3",
   "language": "python",
   "name": "python3"
  },
  "language_info": {
   "codemirror_mode": {
    "name": "ipython",
    "version": 3
   },
   "file_extension": ".py",
   "mimetype": "text/x-python",
   "name": "python",
   "nbconvert_exporter": "python",
   "pygments_lexer": "ipython3",
   "version": "3.6.1"
  }
 },
 "nbformat": 4,
 "nbformat_minor": 2
}
