{
 "cells": [
  {
   "cell_type": "markdown",
   "metadata": {},
   "source": [
    "# Module 2: Introduction to Data Persistence \n",
    "\n",
    "This week you will learn about relational database management systems (RDBMS), still the most popular data storage technology. You will learn SQL, the language by which database users interact with a relational database. To test database and SQL concepts, we will use the open source database system known as SQLite, specifically version 3 of the SQLite database known as sqlite3. Note, most of the documentation you will read and follow online will refer to running the sqlite program at the command line, you will run the sqlite3 program both from within an IPython Notebook and at the command line. Using SQLite, you will learn about SQL data definition language (DDL) functionality and SQL data manipulation language (DML) functionality. Finally, you will learn how to connect, access, and persist data in a relational database from within a Python program by using a Pandas DataFrame.\n",
    "\n",
    "## Learning Objectives\n",
    "\n",
    "#### By the end of this module, you will\n",
    "\n",
    "- understand how databases are commonly used for business applications,\n",
    "- understand the basic concepts behind a relational database system,\n",
    "- understand how to create and use a SQLite database,\n",
    "- understand how to use SQL to interact with a SQLite database, and\n",
    "- be able to interact with a database by using a Python program.\n",
    "\n",
    "### Activities and Assignments\n",
    "\n",
    "| Activities and Assignments               | Time Estimate | Deadline* | Points |\n",
    "| :--------------------------------------- | ------------- | --------- | -----: |\n",
    "| **[Module 2 Overview Video][wv]**      | 10 Minutes    | Tuesday |    N/A |\n",
    "| **[Module 2 Lesson 1: Introduction to Data Persistence][nb1]** | 2 Hours | Thursday  |     N/A \n",
    "| **[Module 2 Lesson 2: Introduction to SQL: Schema Manipulation][nb2]** | 2 Hours | Thursday  |     N/A |\n",
    "| **[Module 2 Lesson 3: Introduction to SQL: Data Manipulation][nb3]** | 2 Hours   | Thursday  |   N/A |\n",
    "| **[Module 2 Lesson 4: Python Database Programming with Pandas][nb4]** | 2 Hours | Thursday  |     N/A |\n",
    "| **[Module 2 Quiz][wq]**               | 30 Minutes    | Friday    |    25  |\n",
    "| **[Module 2 Assignment][ma]**         | 1 hour    | Tuesday    |    100  |\n",
    "\n",
    "*Please note that unless otherwise noted, the due time is 6pm Central time!\n",
    "\n",
    "----------\n",
    "\n",
    "[nb1]: notebooks/m2l1.ipynb\n",
    "[nb2]: notebooks/m2l2.ipynb\n",
    "[nb3]: notebooks/m2l3.ipynb\n",
    "[nb4]: notebooks/m2l4.ipynb\n",
    "\n",
    "[ma]: https://datascience.business.illinois.edu/user/accy/notebooks/accy571/assignments/Module2/assignment.ipynb\n",
    "\n",
    "[wv]: https://mediaspace.illinois.edu/media/\n",
    "[wq]: https://learn.illinois.edu/mod/quiz/"
   ]
  }
 ],
 "metadata": {
  "kernelspec": {
   "display_name": "Python 3",
   "language": "python",
   "name": "python3"
  },
  "language_info": {
   "codemirror_mode": {
    "name": "ipython",
    "version": 3
   },
   "file_extension": ".py",
   "mimetype": "text/x-python",
   "name": "python",
   "nbconvert_exporter": "python",
   "pygments_lexer": "ipython3",
   "version": "3.6.1"
  }
 },
 "nbformat": 4,
 "nbformat_minor": 2
}
