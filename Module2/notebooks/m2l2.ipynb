{
 "cells": [
  {
   "cell_type": "markdown",
   "metadata": {},
   "source": [
    "# Module 2: Lesson 2\n",
    "\n",
    "-----\n",
    "\n",
    "## Introduction to SQL: Schema Manipulation\n",
    "\n",
    "In this lesson, you will learn how to create and delete database and database schema. First, you will earn about basic SQL Syntax, including the allowed SQL data types. While this will focus on the Sqlite3 syntax and data types,  more general information will be conveyed. Next, you will learn how to create and delete databases. Next you will learn how to create database schema, including relational tables, and the columns that define the characteristics of those tables. This will also include a discussion of views, indices, and user defined functions. Finally, you will learn how to drop and alter existing tables.\n",
    "\n",
    "### Objectives\n",
    "\n",
    "By the end of this lesson, you will understand \n",
    "\n",
    "- how to create and delete databases in SQLite,\n",
    "- how to create and delete relational database tables by using SQLite,\n",
    "- the creation and maintenance of relational database schema, and\n",
    "- the difference between relational database tables and views.\n",
    "\n",
    "### Time Estimate\n",
    "\n",
    "Approximately 2 hours.\n",
    "\n",
    "### Activities\n",
    "\n",
    "Video: Watch the [Introduction to SQL: Schema Manipulation][lv] video, which will introduce SQL, schemas, and techniques for creating and manipulating schemas.\n",
    "\n",
    "Reading: Read about the SQLite syntax for [schema manipulation][xyz], specifically from the SQLite-Syntax page through the SQLite-Drop Table page.\n",
    "\n",
    "Notebook: Read and complete the practice exercises in the [Introduction to SQL: Schema Manipulation][intro2sqlddl] notebook.\n",
    "\n",
    "------\n",
    "\n",
    "[xyz]: http://www.tutorialspoint.com/sqlite/index.htm\n",
    "\n",
    "[lv]: https://mediaspace.illinois.edu/media/\n",
    "\n",
    "[intro2sqlddl]: intro2sqlddl.ipynb"
   ]
  }
 ],
 "metadata": {
  "kernelspec": {
   "display_name": "Python 3",
   "language": "python",
   "name": "python3"
  },
  "language_info": {
   "codemirror_mode": {
    "name": "ipython",
    "version": 3
   },
   "file_extension": ".py",
   "mimetype": "text/x-python",
   "name": "python",
   "nbconvert_exporter": "python",
   "pygments_lexer": "ipython3",
   "version": "3.6.1"
  }
 },
 "nbformat": 4,
 "nbformat_minor": 2
}
