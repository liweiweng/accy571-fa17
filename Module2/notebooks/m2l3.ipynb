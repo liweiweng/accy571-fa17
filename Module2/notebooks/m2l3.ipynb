{
 "cells": [
  {
   "cell_type": "markdown",
   "metadata": {},
   "source": [
    "# Module 2: Lesson 3\n",
    "\n",
    "-----\n",
    "\n",
    "## Introduction to SQL: Data Manipulation\n",
    "\n",
    "In this lesson, you will learn how to add, change, delete, and select data by using the SQLite database. First, you will learn about the SQL INSERT command, which you will use to insert data into a SQLite database. Second, you will learn about the SQL SELECT query command, including the use of operators, expressions, and a WHERE clause to extract data from a SQLite database. Next you will learn about making more complex SQL queries by creating compound SQL statements with the AND and OR clauses. Next, you will leaner about changing or deleting data from a SQLIte database by using the SQL UPDATE and DELETE commands. Finally, you will learn more advanced SQL commands to create more powerful queries for extracting, changing, or deleting data from a SQLite database. \n",
    "\n",
    "### Objectives\n",
    "\n",
    "By the end of this lesson, you will understand \n",
    "\n",
    "- how to insert data into a SQL database,\n",
    "- how to extract data from a SQL database,\n",
    "- how to change data in a SQL database, and\n",
    "- how to delete data in a SQL database.\n",
    "\n",
    "\n",
    "### Time Estimate\n",
    "\n",
    "Approximately 2 hours.\n",
    "\n",
    "### Activities\n",
    "\n",
    "Video: Watch the [Introduction to SQL: Data Manipulation][lv] video, which will discuss .\n",
    "\n",
    "Reading: Read about the SQLite syntax for [data manipulation][xyz], specifically from the SQLite-Insert Query page through the SQLite-Distinct page.\n",
    "\n",
    "Notebook: Read and complete the practice exercises in the [Introduction to SQL: Data Manipulation][intro2sqldml] notebook.\n",
    "\n",
    "------\n",
    "\n",
    "[xyz]: http://www.tutorialspoint.com/sqlite/index.htm\n",
    "\n",
    "[lv]: https://mediaspace.illinois.edu/media/\n",
    "\n",
    "[intro2sqldml]: intro2sqldml.ipynb"
   ]
  }
 ],
 "metadata": {
  "kernelspec": {
   "display_name": "Python 3",
   "language": "python",
   "name": "python3"
  },
  "language_info": {
   "codemirror_mode": {
    "name": "ipython",
    "version": 3
   },
   "file_extension": ".py",
   "mimetype": "text/x-python",
   "name": "python",
   "nbconvert_exporter": "python",
   "pygments_lexer": "ipython3",
   "version": "3.6.1"
  }
 },
 "nbformat": 4,
 "nbformat_minor": 2
}
