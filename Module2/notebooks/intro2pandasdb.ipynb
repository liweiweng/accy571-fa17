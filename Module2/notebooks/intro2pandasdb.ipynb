{
 "cells": [
  {
   "cell_type": "markdown",
   "metadata": {},
   "source": [
    "<DIV ALIGN=CENTER>\n",
    "\n",
    "# Introduction to Pandas & Databases\n",
    "## Professor Robert J. Brunner\n",
    "  \n",
    "</DIV>  \n",
    "-----\n",
    "-----"
   ]
  },
  {
   "cell_type": "markdown",
   "metadata": {},
   "source": [
    "### Pandas and SQL\n",
    "\n",
    "After a previous IPython Notebook explored how to use standard Python to work\n",
    "with a database, you have probably realized that there is a lot of\n",
    "standard code we must write to simply execute some SQL commands. While\n",
    "there are different Python libraries that exist to simplify these steps,\n",
    "we will focus on using the Pandas library, which is a standard library\n",
    "for doing _Data Analysis in Python_.\n",
    "\n",
    "----"
   ]
  },
  {
   "cell_type": "code",
   "execution_count": 1,
   "metadata": {},
   "outputs": [],
   "source": [
    "import sqlite3 as sl\n",
    "import pandas as pd"
   ]
  },
  {
   "cell_type": "markdown",
   "metadata": {},
   "source": [
    "-----\n",
    "\n",
    "Pandas provides built-in support for executing a SQL query and\n",
    "retrieving the result as a DataFrame. This is demonstrated in the next\n",
    "code cell, where we execute a SQL query on the airlines database. We\n",
    "select several columns, and for simplicity we restrict our query result\n",
    "to only ten rows by using the ANSI SQL `LIMIT` clause.\n",
    "\n",
    "The Pandas method to execute a SQL statement is `read_sql`, and mimics\n",
    "in appearance other Panda methods for _reading_ data into a Pandas\n",
    "DataFrame. In this case, the method takes our SQL statement, database\n",
    "connection, and an optional parameter, `index_col` that we can use to\n",
    "specify which column in our result should be treated as an index column.\n",
    "Pandas will supply an auto-incrementing column if no column is explicitly\n",
    "supplied. To save space in the output display, we specify our own column\n",
    "in these examples.\n",
    "\n",
    "\n",
    "-----"
   ]
  },
  {
   "cell_type": "code",
   "execution_count": 2,
   "metadata": {},
   "outputs": [
    {
     "name": "stdout",
     "output_type": "stream",
     "text": [
      "                   airport              city  state latitude longitude\n",
      "code                                                                  \n",
      "iata               airport              city  state      lat      long\n",
      "00M               Thigpen        Bay Springs     MS  31.9538  -89.2345\n",
      "00R   Livingston Municipal        Livingston     TX  30.6859  -95.0179\n",
      "00V            Meadow Lake  Colorado Springs     CO  38.9457   -104.57\n",
      "01G           Perry-Warsaw             Perry     NY  42.7413  -78.0521\n",
      "01J       Hilliard Airpark          Hilliard     FL   30.688  -81.9059\n",
      "01M      Tishomingo County           Belmont     MS  34.4917  -88.2011\n",
      "02A            Gragg-Wade            Clanton     AL  32.8505  -86.6115\n",
      "02C                Capitol        Brookfield     WI  43.0875  -88.1779\n",
      "02G      Columbiana County    East Liverpool     OH  40.6733  -80.6414\n"
     ]
    }
   ],
   "source": [
    "query = \"SELECT code, airport, city, state, latitude, longitude FROM airports LIMIT 10 ;\"\n",
    "\n",
    "database = '/home/data_scientist/database/rppds'\n",
    "\n",
    "with sl.connect(database) as con:\n",
    "    data = pd.read_sql(query, con, index_col ='code')\n",
    "    \n",
    "    print(data)"
   ]
  },
  {
   "cell_type": "markdown",
   "metadata": {},
   "source": [
    "-----\n",
    "\n",
    "In the next code cell, we use the column selection feature with a Pandas\n",
    "DataFrame to select only those rows that have airports in the state of\n",
    "Mississippi. We do this by selecting the `state` attribute of the\n",
    "DataFrame, which corresponds to the _state_ column, and applying a\n",
    "Boolean condition.\n",
    "\n",
    "-----"
   ]
  },
  {
   "cell_type": "code",
   "execution_count": 3,
   "metadata": {},
   "outputs": [
    {
     "name": "stdout",
     "output_type": "stream",
     "text": [
      "                     airport         city state latitude longitude\n",
      "code                                                              \n",
      "00M                 Thigpen   Bay Springs    MS  31.9538  -89.2345\n",
      "01M        Tishomingo County      Belmont    MS  34.4917  -88.2011\n",
      "04M           Calhoun County    Pittsboro    MS  33.9301  -89.3429\n",
      "06M         Eupora Municipal       Eupora    MS  33.5346  -89.3126\n",
      "08M    Carthage-Leake County     Carthage    MS  32.7612  -89.5301\n",
      "09M     Charleston Municipal   Charleston    MS  33.9915  -90.0781\n",
      "0M6            Panola County   Batesville    MS  34.3668  -89.9001\n",
      "0R0   Columbia-Marion County     Columbia    MS   31.297  -89.8128\n"
     ]
    }
   ],
   "source": [
    "query = \"SELECT code, airport, city, state, latitude, longitude FROM airports LIMIT 100 ;\"\n",
    "\n",
    "with sl.connect(database) as con:\n",
    "    data = pd.read_sql(query, con, index_col ='code')\n",
    "    \n",
    "    print(data[data.state == 'MS'])"
   ]
  },
  {
   "cell_type": "markdown",
   "metadata": {},
   "source": [
    "-----\n",
    "\n",
    "Pandas also simplifies the insertion of new data into a SQL database.\n",
    "For this, we can simply take an existing Pandas DataFrame and call the\n",
    "`to_sql()` method. This method requires two parameters, the name of the\n",
    "database table, and the database connection. If the table does not\n",
    "exist, a new table will be created to match the DataFrame, including\n",
    "appropriate column names and data types. "
   ]
  },
  {
   "cell_type": "code",
   "execution_count": 4,
   "metadata": {},
   "outputs": [
    {
     "name": "stdout",
     "output_type": "stream",
     "text": [
      "Error: no such table: ILAirports\r\n"
     ]
    }
   ],
   "source": [
    "# We drop the table if it exists\n",
    "!sqlite3 \"/home/data_scientist/database/rppds\" \"DROP TABLE  ILAirports ;\""
   ]
  },
  {
   "cell_type": "markdown",
   "metadata": {},
   "source": [
    "In the next two code blocks, we first query the airports table, and use\n",
    "Pandas to extract all airports in Illinois. We next insert this data\n",
    "back into our database as a new table called `ILAirports`. The following\n",
    "code block queries this new table and display the results for\n",
    "confirmation.\n",
    "\n",
    "-----"
   ]
  },
  {
   "cell_type": "code",
   "execution_count": 5,
   "metadata": {},
   "outputs": [],
   "source": [
    "# Creating table automatically works better if columns are explicitly listed.\n",
    "\n",
    "query = \"SELECT code, airport, city, state, latitude, longitude FROM airports ;\"\n",
    "with sl.connect(database) as con:\n",
    "    data = pd.read_sql(query, con)\n",
    "\n",
    "    data[data.state == 'IL'].to_sql('ILAirports', con)"
   ]
  },
  {
   "cell_type": "code",
   "execution_count": 6,
   "metadata": {},
   "outputs": [
    {
     "name": "stdout",
     "output_type": "stream",
     "text": [
      "                       city                airport   latitude  longitude\n",
      "code                                                                    \n",
      "3CK       Lake In The Hills      Lake In The Hills  42.206803 -88.323040\n",
      "3K6   Troy/Marine/St. Louis    St Louis-Metro East  38.732909 -89.806567\n",
      "3LC                 Lincoln           Logan County  40.158472 -89.334972\n",
      "3LF              Litchfield   Litchfield Municipal  39.166353 -89.674897\n",
      "3MY                  Peoria   Mt. Hawley Auxiliary  40.795259 -89.613403\n",
      "9I0                  Havana        Havana Regional  40.221155 -90.022894\n",
      "AJG               Mt Carmel    Mt Carmel Municipal  38.606547 -87.726694\n",
      "ALN         Alton/St. Louis     St. Louis Regional  38.890291 -90.046043\n",
      "ARR          Chicago/Aurora       Aurora Municipal  41.771929 -88.475659\n",
      "BLV    Belleville/St. Louis  Scott AFB/MidAmerica   38.545179 -89.835184\n"
     ]
    }
   ],
   "source": [
    "with sl.connect(database) as con:\n",
    "    data = pd.read_sql('SELECT code, city, airport, latitude, longitude FROM ILAirports', \n",
    "                       con, index_col ='code')\n",
    "    \n",
    "    print(data[10:20])"
   ]
  },
  {
   "cell_type": "markdown",
   "metadata": {},
   "source": [
    "### Additional References\n",
    "\n",
    "1. [Pandas Documentation][pdd]\n",
    "2. A slightly dated Pandas [tutorial][pdt]\n",
    "-----\n",
    "\n",
    "[pdd]: http://pandas.pydata.org/pandas-docs/stable/index.html\n",
    "[pdt]: http://www.gregreda.com/2013/10/26/intro-to-pandas-data-structures/"
   ]
  }
 ],
 "metadata": {
  "kernelspec": {
   "display_name": "Python 3",
   "language": "python",
   "name": "python3"
  },
  "language_info": {
   "codemirror_mode": {
    "name": "ipython",
    "version": 3
   },
   "file_extension": ".py",
   "mimetype": "text/x-python",
   "name": "python",
   "nbconvert_exporter": "python",
   "pygments_lexer": "ipython3",
   "version": "3.6.1"
  }
 },
 "nbformat": 4,
 "nbformat_minor": 1
}
