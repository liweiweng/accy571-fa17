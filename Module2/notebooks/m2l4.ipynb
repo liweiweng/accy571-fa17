{
 "cells": [
  {
   "cell_type": "markdown",
   "metadata": {},
   "source": [
    "# Module 2: Lesson 4\n",
    "\n",
    "-----\n",
    "\n",
    "## Python Database Programming\n",
    "\n",
    "In this lesson, you will learn how to work with a SQL based database by using a Python program. This will include using the SQLite database module from within a Python program to connect to a database, execute queries, and process the results. We also will use the Pandas Python library to understand how using a DataFrame can simplify many database programming tasks. In general, Pandas hides many of the database interaction mechanisms to allow one to easily query, update, or insert new data into an existing database. \n",
    "\n",
    "### Objectives\n",
    "\n",
    "By the end of this lesson, you will understand \n",
    "\n",
    "- the basic concepts involved in enabling a Python program to interact with a database,\n",
    "- how to query data by using a Python program,\n",
    "- how to update data by using a Python program, and\n",
    "- how to use Pandas to create and populate new database tables.\n",
    "\n",
    "### Time Estimate\n",
    "\n",
    "Approximately 1 hour.\n",
    "\n",
    "### Activities\n",
    "\n",
    "Video: Watch the [Python Database Programming with Pandas][lv] video, which will discuss how the Pandas DataFrame can be used to simplify using a database from a Python program.\n",
    "\n",
    "Reading: Read about how a database is [better than a spreadsheet][xyz].\n",
    "\n",
    "Notebook: Read and complete the practice exercises in the [Python Database Programming with Pandas][intro2pythondb] notebook.\n",
    "\n",
    "------\n",
    "\n",
    "[xyz]: https://www.techwalla.com/articles/the-advantages-of-databases-over-spreadsheets\n",
    "\n",
    "[lv]: https://mediaspace.illinois.edu/media/\n",
    "\n",
    "[intro2pythondb]: intro2pythondb.ipynb"
   ]
  }
 ],
 "metadata": {
  "kernelspec": {
   "display_name": "Python 3",
   "language": "python",
   "name": "python3"
  },
  "language_info": {
   "codemirror_mode": {
    "name": "ipython",
    "version": 3
   },
   "file_extension": ".py",
   "mimetype": "text/x-python",
   "name": "python",
   "nbconvert_exporter": "python",
   "pygments_lexer": "ipython3",
   "version": "3.6.1"
  }
 },
 "nbformat": 4,
 "nbformat_minor": 2
}
