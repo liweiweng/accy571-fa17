{
 "cells": [
  {
   "cell_type": "markdown",
   "metadata": {},
   "source": [
    "# Module 2: Lesson 4\n",
    "\n",
    "-----\n",
    "\n",
    "## Python Database Programming with Pandas\t\n",
    "\n",
    "In this lesson, you will learn how to work with a SQL based database by using the Pandas Python library. Pandas simplifies many data tasks by hiding details that are not relevant for many projects. In this case, Pandas can hide many of the database interaction mechanisms to allow one to easily query, update, or insert new data into an existing database. \n",
    "\n",
    "### Objectives\n",
    "\n",
    "By the end of this lesson, you will understand \n",
    "\n",
    "- the basic concepts involved in using a Pandas DataFrame to interact with a database,\n",
    "- how to query data by using Pandas,\n",
    "- how to update data by using Pandas, and\n",
    "- how to use Pandas to create and populate new database tables.\n",
    "\n",
    "### Time Estimate\n",
    "\n",
    "Approximately 1 hour.\n",
    "\n",
    "### Activities\n",
    "\n",
    "Video: Watch the [Python Database Programming with Pandas][lv] video, which will discuss how the Pandas DataFrame can be used to simplify using a database from a Python program.\n",
    "\n",
    "Reading: Read about how a database is [better than a spreadsheet][xyz].\n",
    "\n",
    "Notebook: Read and complete the practice exercises in the [Python Database Programming with Pandas][intro2pandasdb] notebook.\n",
    "\n",
    "------\n",
    "\n",
    "[xyz]: https://www.techwalla.com/articles/the-advantages-of-databases-over-spreadsheets\n",
    "\n",
    "[lv]: https://mediaspace.illinois.edu/media/\n",
    "\n",
    "[intro2pandasdb]: intro2pandasdb.ipynb"
   ]
  }
 ],
 "metadata": {
  "kernelspec": {
   "display_name": "Python 3",
   "language": "python",
   "name": "python3"
  },
  "language_info": {
   "codemirror_mode": {
    "name": "ipython",
    "version": 3
   },
   "file_extension": ".py",
   "mimetype": "text/x-python",
   "name": "python",
   "nbconvert_exporter": "python",
   "pygments_lexer": "ipython3",
   "version": "3.6.1"
  }
 },
 "nbformat": 4,
 "nbformat_minor": 2
}
