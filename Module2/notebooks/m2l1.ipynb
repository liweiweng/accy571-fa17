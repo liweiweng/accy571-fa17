{
 "cells": [
  {
   "cell_type": "markdown",
   "metadata": {},
   "source": [
    "# Module 2: Lesson 1\n",
    "\n",
    "-----\n",
    "\n",
    "##  Introduction to Data Persistence\n",
    "\n",
    "In this lesson, you will start learning about data persistence techniques by using Python. First, you will review using basic file I/O to save Python data. Next, you will learn about Pickling, a Python technique for saving and restoring data by using a custom Python format. Third, you will learn about relational databases, including the basic relational database concepts such as database roles and the ACID test. Finally you will learn about the SQLite database that we will use to demonstrate relational database concept in this course.\n",
    "\n",
    "### Objectives\n",
    "\n",
    "By the end of this lesson, you will understand \n",
    "\n",
    "- the concept of pickling data,\n",
    "- relational database technology,\n",
    "- database roles,\n",
    "- the ACID test, and\n",
    "- the basic concepts behind the Sqlite database.\n",
    "\n",
    "### Time Estimate\n",
    "\n",
    "Approximately 2 hours.\n",
    "\n",
    "### Activities\n",
    "\n",
    "Video: Watch the [Introduction to Data Persistence][lv] video, which will discuss data persistence and introduce relational databases.\n",
    "\n",
    "Reading: Read a short guide to [what is a database?][xyz]\n",
    "\n",
    "Notebook: Read and complete the practice exercises in the [Introduction to Data Persistence][intro2db] notebook.\n",
    "\n",
    "------\n",
    "\n",
    "[xyz]: https://smallbiztrends.com/2013/06/what-is-a-database.html\n",
    "\n",
    "[lv]: https://mediaspace.illinois.edu/media/t/1_428umr0h\n",
    "\n",
    "[intro2db]: intro2db.ipynb"
   ]
  }
 ],
 "metadata": {
  "kernelspec": {
   "display_name": "Python 3",
   "language": "python",
   "name": "python3"
  },
  "language_info": {
   "codemirror_mode": {
    "name": "ipython",
    "version": 3
   },
   "file_extension": ".py",
   "mimetype": "text/x-python",
   "name": "python",
   "nbconvert_exporter": "python",
   "pygments_lexer": "ipython3",
   "version": "3.6.1"
  }
 },
 "nbformat": 4,
 "nbformat_minor": 2
}
