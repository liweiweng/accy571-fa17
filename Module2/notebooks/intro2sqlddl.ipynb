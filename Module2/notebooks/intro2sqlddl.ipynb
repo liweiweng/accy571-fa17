{
 "cells": [
  {
   "cell_type": "markdown",
   "metadata": {},
   "source": [
    "# Introduction to SQL:  Data Definition Language\n",
    "\n",
    "-----"
   ]
  },
  {
   "cell_type": "markdown",
   "metadata": {},
   "source": [
    "In this notebook, we focus on a basic component of relational database management systems, SQL. Specifically, we will use the SQLite database to build a fictitious database. We will cover SQL data types and how to create SQL schemas before moving on to creating and executing queries and finishing with updating and deleting data.\n",
    "\n",
    "First we will test SQLite from within the notebook environment, before switching to the command line to actually create and populate a SQLite database. Note that if we run the `sqlite3` command line client from within an notebook Code cell, the process will continue to run _in the background_ since we can not directly enter commands. Thus, you should either redirect _STDIN_ for the `sqlite3` client to be a file containing commands, or work directly with this tool at the command line.\n",
    "\n",
    "-----"
   ]
  },
  {
   "cell_type": "markdown",
   "metadata": {},
   "source": [
    "## Table of Contents\n",
    "\n",
    "[Using SQLite](#Using-SQLite)\n",
    "- [SQLite Client Tool Options](#SQLite-Client-Tool-Options)\n",
    "\n",
    "[Relational Database Systems](#Relational-Database-Systems)\n",
    "\n",
    "[SQL: Structured Query Language](#SQL:-Structured-Query-Language)\n",
    "\n",
    "- [SQL Data Types](#SQL-Data-Types)\n",
    "- [Create Table](#Create-Table)\n",
    "- [Drop Table](#Drop-Table)\n",
    "\n",
    "[SQL Scripts](#SQL-Scripts)\n",
    "\n",
    "-----\n",
    "\n",
    "Before proceeding, we will define our database directory, which will be used by the sqlite database engine.\n",
    "\n",
    "-----"
   ]
  },
  {
   "cell_type": "code",
   "execution_count": 1,
   "metadata": {},
   "outputs": [
    {
     "name": "stdout",
     "output_type": "stream",
     "text": [
      "Database will persist at /home/data_scientist/data/database/\n",
      "\n"
     ]
    }
   ],
   "source": [
    "# First we find our HOME directory\n",
    "home_dir = !echo $HOME\n",
    "\n",
    "# Define data directory\n",
    "database_dir = home_dir[0] +'/data/database/'\n",
    "\n",
    "print(f'Database will persist at {database_dir}\\n')"
   ]
  },
  {
   "cell_type": "markdown",
   "metadata": {},
   "source": [
    "-----\n",
    "[[Back to TOC]](#Table-of-Contents)\n",
    "\n",
    "## Using SQLite\n",
    "\n",
    "By default, the `sqlite3` command line client will operate in interactive mode. However, this tool will also read and execute commands either in from a separate file by redirecting _STDIN_ or by enclosing the commands in quotes. Since SQLite databases are files, unless explicitly created from within a program as in memory databases, we pass the name of the database as a command line argument. Thus, to connect to the `i2ds` database with the `sqlite3` command line client in interactive mode, we simply enter the following at a command prompt in our Docker container:\n",
    "\n",
    "```sql\n",
    "/home/data_scientist/database: $ sqlite3 i2ds\n",
    "SQLite version 3.8.2 2013-12-06 14:53:30\n",
    "Enter \".help\" for instructions\n",
    "Enter SQL statements terminated with a \";\"\n",
    "sqlite> \n",
    "```\n",
    "\n",
    "To exit from the `sqlite3` client, simply enter either ctrl-d or use the `.quit` command. The `sqlite3` client can either accept SQL commands, which we will discus in more detail in the next lesson, or the client can accept dot commands, which are instructions to the SQLite database engine that begin with a `.` character. These commands can be explicitly listed by entering `.help` at the `sqlite3` client prompt. We can do this from within our Notebook by creating and using a file as shown below.\n",
    "\n",
    "-----"
   ]
  },
  {
   "cell_type": "code",
   "execution_count": 2,
   "metadata": {},
   "outputs": [
    {
     "name": "stdout",
     "output_type": "stream",
     "text": [
      "Usage: sqlite3 [OPTIONS] FILENAME [SQL]\r\n",
      "FILENAME is the name of an SQLite database. A new database is created\r\n",
      "if the file does not previously exist.\r\n",
      "OPTIONS include:\r\n",
      "   -ascii               set output mode to 'ascii'\r\n",
      "   -bail                stop after hitting an error\r\n",
      "   -batch               force batch I/O\r\n",
      "   -column              set output mode to 'column'\r\n",
      "   -cmd COMMAND         run \"COMMAND\" before reading stdin\r\n",
      "   -csv                 set output mode to 'csv'\r\n",
      "   -echo                print commands before execution\r\n",
      "   -init FILENAME       read/process named file\r\n",
      "   -[no]header          turn headers on or off\r\n",
      "   -help                show this message\r\n",
      "   -html                set output mode to HTML\r\n",
      "   -interactive         force interactive I/O\r\n",
      "   -line                set output mode to 'line'\r\n",
      "   -list                set output mode to 'list'\r\n",
      "   -lookaside SIZE N    use N entries of SZ bytes for lookaside memory\r\n",
      "   -mmap N              default mmap size set to N\r\n",
      "   -newline SEP         set output row separator. Default: '\\n'\r\n",
      "   -nullvalue TEXT      set text string for NULL values. Default ''\r\n",
      "   -pagecache SIZE N    use N slots of SZ bytes each for page cache memory\r\n",
      "   -scratch SIZE N      use N slots of SZ bytes each for scratch memory\r\n",
      "   -separator SEP       set output column separator. Default: '|'\r\n",
      "   -stats               print memory stats before each finalize\r\n",
      "   -version             show SQLite version\r\n",
      "   -vfs NAME            use NAME as the default VFS\r\n"
     ]
    }
   ],
   "source": [
    "# Run the SQLite command line client\n",
    "!sqlite3 -help"
   ]
  },
  {
   "cell_type": "code",
   "execution_count": 3,
   "metadata": {},
   "outputs": [
    {
     "name": "stdout",
     "output_type": "stream",
     "text": [
      "Overwriting help.txt\n"
     ]
    }
   ],
   "source": [
    "%%writefile help.txt\n",
    ".help"
   ]
  },
  {
   "cell_type": "code",
   "execution_count": 4,
   "metadata": {},
   "outputs": [
    {
     "name": "stdout",
     "output_type": "stream",
     "text": [
      ".auth ON|OFF           Show authorizer callbacks\r\n",
      ".backup ?DB? FILE      Backup DB (default \"main\") to FILE\r\n",
      ".bail on|off           Stop after hitting an error.  Default OFF\r\n",
      ".binary on|off         Turn binary output on or off.  Default OFF\r\n",
      ".changes on|off        Show number of rows changed by SQL\r\n",
      ".clone NEWDB           Clone data into NEWDB from the existing database\r\n",
      ".databases             List names and files of attached databases\r\n",
      ".dbinfo ?DB?           Show status information about the database\r\n",
      ".dump ?TABLE? ...      Dump the database in an SQL text format\r\n",
      "                         If TABLE specified, only dump tables matching\r\n",
      "                         LIKE pattern TABLE.\r\n",
      ".echo on|off           Turn command echo on or off\r\n",
      ".eqp on|off|full       Enable or disable automatic EXPLAIN QUERY PLAN\r\n",
      ".exit                  Exit this program\r\n",
      ".explain ?on|off|auto? Turn EXPLAIN output mode on or off or to automatic\r\n",
      ".fullschema ?--indent? Show schema and the content of sqlite_stat tables\r\n",
      ".headers on|off        Turn display of headers on or off\r\n",
      ".help                  Show this message\r\n",
      ".import FILE TABLE     Import data from FILE into TABLE\r\n",
      ".indexes ?TABLE?       Show names of all indexes\r\n",
      "                         If TABLE specified, only show indexes for tables\r\n",
      "                         matching LIKE pattern TABLE.\r\n",
      ".limit ?LIMIT? ?VAL?   Display or change the value of an SQLITE_LIMIT\r\n",
      ".load FILE ?ENTRY?     Load an extension library\r\n",
      ".log FILE|off          Turn logging on or off.  FILE can be stderr/stdout\r\n",
      ".mode MODE ?TABLE?     Set output mode where MODE is one of:\r\n",
      "                         ascii    Columns/rows delimited by 0x1F and 0x1E\r\n",
      "                         csv      Comma-separated values\r\n",
      "                         column   Left-aligned columns.  (See .width)\r\n",
      "                         html     HTML <table> code\r\n",
      "                         insert   SQL insert statements for TABLE\r\n",
      "                         line     One value per line\r\n",
      "                         list     Values delimited by .separator strings\r\n",
      "                         tabs     Tab-separated values\r\n",
      "                         tcl      TCL list elements\r\n",
      ".nullvalue STRING      Use STRING in place of NULL values\r\n",
      ".once FILENAME         Output for the next SQL command only to FILENAME\r\n",
      ".open ?FILENAME?       Close existing database and reopen FILENAME\r\n",
      ".output ?FILENAME?     Send output to FILENAME or stdout\r\n",
      ".print STRING...       Print literal STRING\r\n",
      ".prompt MAIN CONTINUE  Replace the standard prompts\r\n",
      ".quit                  Exit this program\r\n",
      ".read FILENAME         Execute SQL in FILENAME\r\n",
      ".restore ?DB? FILE     Restore content of DB (default \"main\") from FILE\r\n",
      ".save FILE             Write in-memory database into FILE\r\n",
      ".scanstats on|off      Turn sqlite3_stmt_scanstatus() metrics on or off\r\n",
      ".schema ?PATTERN?      Show the CREATE statements matching PATTERN\r\n",
      "                          Add --indent for pretty-printing\r\n",
      ".separator COL ?ROW?   Change the column separator and optionally the row\r\n",
      "                         separator for both the output mode and .import\r\n",
      ".shell CMD ARGS...     Run CMD ARGS... in a system shell\r\n",
      ".show                  Show the current values for various settings\r\n",
      ".stats ?on|off?        Show stats or turn stats on or off\r\n",
      ".system CMD ARGS...    Run CMD ARGS... in a system shell\r\n",
      ".tables ?TABLE?        List names of tables\r\n",
      "                         If TABLE specified, only list tables matching\r\n",
      "                         LIKE pattern TABLE.\r\n",
      ".timeout MS            Try opening locked tables for MS milliseconds\r\n",
      ".timer on|off          Turn SQL timer on or off\r\n",
      ".trace FILE|off        Output each SQL statement as it is run\r\n",
      ".vfsinfo ?AUX?         Information about the top-level VFS\r\n",
      ".vfslist               List all available VFSes\r\n",
      ".vfsname ?AUX?         Print the name of the VFS stack\r\n",
      ".width NUM1 NUM2 ...   Set column widths for \"column\" mode\r\n",
      "                         Negative values right-justify\r\n"
     ]
    }
   ],
   "source": [
    "# List 'dot' commands\n",
    "!sqlite3 < help.txt"
   ]
  },
  {
   "cell_type": "markdown",
   "metadata": {},
   "source": [
    "-----\n",
    "[[Back to TOC]](#Table-of-Contents)\n",
    "\n",
    "### SQLite Client Tool Options\n",
    "\n",
    "The previous code block listed the available dot commands that we can use within the `sqlite3` client. We will use several of these, including\n",
    "\n",
    "- `.header`: If this is `on`, headers will be displayed. Generally this is used to see the names of columns in a table.\n",
    "\n",
    "- `.separator`: This specifies the separator character for fields, either in output displays or when importing data. By default, the separator character is the vertical bar, `|`. However, to import data from a comma-separated-value (CSV) file, you would change the separator to a comma, `.separator \",\"`.\n",
    "\n",
    "- `.import`: This command is used to read data from a file and insert this data into a specific table in the database.\n",
    "\n",
    "- `.schema`: This command will list the schema commands required to recreate the tables contained in the database.\n",
    "\n",
    "- `.stats`: This command lists statistics after each command entered at the sqlite prompt. This can be useful for profiling SQL commands.\n",
    "\n",
    "- `.width`: This command changes the default width for columns, which can improve the visual formatting of the results from database queries that are displayed to the screen."
   ]
  },
  {
   "cell_type": "markdown",
   "metadata": {},
   "source": [
    "-----\n",
    "[[Back to TOC]](#Table-of-Contents)\n",
    "\n",
    "### Creating and Populating a Database\n",
    "\n",
    "We can easily create and populate a database by using the `sqlite3` client. While we could do this at the command line (and advanced users are encouraged to do so), we can also complete these tasks from within this IPython Notebook. The steps we must complete include\n",
    "\n",
    "1. Create the new database. We do this by simply passing the name of our new database to the `sqlite3` client. If the file does not exist, a new file will be created. This file will hold the entire contents of the new database.\n",
    "\n",
    "2. Create the schema for our new database. A relational database is built on a tabular data model. Thus our schema consists of the table definitions as well as the relationships that might exist between tables. To accomplish this, we must execute SQL `CREATE TABLE` statements. For now, we simply create the schema.\n",
    "\n",
    "3. Populate the tables with data. For simplicity, we will use the `.import` command within the `sqlite3` client to import data from a file directly into the relevant table in our database.\n",
    "\n",
    "-----"
   ]
  },
  {
   "cell_type": "code",
   "execution_count": 5,
   "metadata": {},
   "outputs": [
    {
     "name": "stdout",
     "output_type": "stream",
     "text": [
      "Directory already exists.\n"
     ]
    }
   ],
   "source": [
    "%%bash -s \"$database_dir\"\n",
    "\n",
    "# Note, we passed in a Python variable above to the Bash script \n",
    "# which is then accessed via positional parameter, or $1 in this case.\n",
    "\n",
    "# First test if directory of interest does not exist\n",
    "if [ -d \"$1\" ] ; then\n",
    "    \n",
    "    echo \"Directory already exists.\"\n",
    "    \n",
    "else\n",
    "   # If it does not exist, we grab the file from the Internet and\n",
    "    # store it locally in the data directory\n",
    "\n",
    "    mkdir $1\n",
    "    echo \"Creating database directory.\"\n",
    "fi"
   ]
  },
  {
   "cell_type": "code",
   "execution_count": 6,
   "metadata": {},
   "outputs": [
    {
     "name": "stdout",
     "output_type": "stream",
     "text": [
      "total 548868\r\n",
      "drwxr-xr-x 2 data_scientist users      4096 Oct 16 19:58 .\r\n",
      "drwxr-xr-x 3 data_scientist users      4096 Oct 16 18:58 ..\r\n",
      "-rw-r--r-- 1 data_scientist users 562025472 Oct 16 19:58 rppds\r\n"
     ]
    }
   ],
   "source": [
    "!ls -la $database_dir"
   ]
  },
  {
   "cell_type": "code",
   "execution_count": 7,
   "metadata": {
    "collapsed": true
   },
   "outputs": [],
   "source": [
    "# We could create a schema SQL file, then use Bulk imort to load the databases."
   ]
  },
  {
   "cell_type": "markdown",
   "metadata": {},
   "source": [
    "-----\n",
    "[[Back to TOC]](#Table-of-Contents)\n",
    "\n",
    "## Relational Database Systems\n",
    "\n",
    "Before you can begin to develop database applications, you need to understand the basic concepts. Relational databases hold data. This data can be of different types, such as numbers, characters, or dates. Within the database, the data are organized into logical units called tables. A table is like a spreadsheet, because it contains rows of data. Each row is made up of a number of columns. The columns hold data of a specific data type, like integer values or strings of characters. In most cases, a database has more than one table. To relate the tables together, a database designer takes advantage of natural (or artificial) links between the tables. In a spreadsheet, you can link rows in different sheets by cell values. The same idea holds in a relational database, and the column used to make the link is referred to as a key column.\n",
    "\n",
    "To make it easier to understand the purpose of a table or a particular column, you should select appropriate names. The naming conventions can vary between databases. For a SQLite database, individual names: \n",
    "\n",
    "- by default, case insensitive (although this can be changed),\n",
    "\n",
    "- are unlimited in length, but should be kept to a reasonable length (given readability constraints),\n",
    "\n",
    "- must begin with a letter or an underscore character, and\n",
    "\n",
    "- must only code alphanumeric characters or underscores.\n",
    "\n",
    "You can escape these rules by placing the name in double quotation marks, which allows names to be case sensitive and to include additional characters (including spaces). Doing this, however, is generally a bad practice: It requires the name to always be enclosed in double quotation marks and can easily confuse someone else who may be maintaining your code. Finally, a name can not be one of the reserved [keywords](https://www.sqlite.org/lang_keywords.html).\n",
    "\n",
    "### Class Style\n",
    "\n",
    "For this class, we will follow a specific style: All SQL commands are presented entirely in uppercase, and item names use camelCase. In camelCase style, words are joined together, and the first letter of each word-following the first one-is capitalized, such as aLongIdentifier. Combining these two styles together, these articles write SQL commands using the following style: `SELECT aLongIdentifier FROM dataTable ;`.\n",
    "\n",
    "### Schema\n",
    "\n",
    "Related tables are often grouped together into a schema. You can think of a schema as a container for all the related structure definitions within a particular database. A table name must be unique within a given schema. Thus, by using schemas, you can have identically named objects (such as tables) enclosed within different schemas. When you're using the Apache Derby database, a table is always in a schema. If you don't specify a schema explicitly, Derby implicitly uses the built-in apps schema. A second built-in schema called sys is used to isolate system tables.\n",
    "\n",
    "You can use the schema name to qualify a name. By default, SQLite uses the database name as the schema, and you do not need to prefix names to indicate the correct schema. For other databases, however, this is not the case. For these databases, you specify the schema name followed by a period and then the table name. For example, `bigdog.products` references the products table in the `bigdog` schema. Without the relevant schema name, a table name is said to be unqualified, as in products. When the schema name and the table name are completely specified, as in `bigdog.products`, the name is said to be fully qualified.\n",
    "\n",
    "In an abstract sense, these database concepts may seem confusing, but in practice they're fairly straightforward. For example, imagine you own a store called Bigdog's Surf Shop that sells a variety of items like sunglasses, shirts, and so on. If you want to be profitable, you must keep a close eye on your inventory so you can easily order additional inventory or change vendors to keep your overhead to a minimum. One simple method for tracking this information is to write entries in a table-like format:\n",
    "\n",
    "**<DIV ALIGN=CENTER>Product Table </DIV>**\n",
    "\n",
    "| Item# | Price | Stock Date | Description |\n",
    "| ---- | ----- | ---------- | ----------- |\n",
    "| 1 | 29.95 | 1/15/15 | Basic Sunglasses |\n",
    "| 2 | 9.95 | 12/14/14 | Generic Shirt |\n",
    "| 3 | 99.95 | 8/04/14 | Boogie Board |\n",
    "\n",
    "**<DIV ALIGN=CENTER>Vendors Table </DIV>**\n",
    "\n",
    "| Item# | Vendor# | Vendor Name |\n",
    "| ---- | ----- | ---------- | ----------- |\n",
    "| 1 | 101 | Mikal Arroyo |\n",
    "| 2 | 102 | Quiet Beach Industries |\n",
    "| 3 | 103 | Vista Luna |\n",
    "\n",
    "\n",
    "From this simple visual design you can easily map the business logic straight into database tables. You have two database tables, `Products` and `Vendors`, which are naturally linked by the item number. The data types for the columns in each table are easy to determine. Later in this lesson we will actually create this sample schema for Bigdog's Surf Shop, which consists of these two tables, in a SQLite database. But first, we need to address how data is stored in a relational database table.\n",
    "\n",
    "-----"
   ]
  },
  {
   "cell_type": "markdown",
   "metadata": {},
   "source": [
    "-----\n",
    "[[Back to TOC]](#Table-of-Contents)\n",
    "\n",
    "## SQL: Structured Query Language\n",
    "\n",
    "Database systems can be complex pieces of software, especially when they scale to support enterprise-level applications. As a result, you may expect that every database has its own application programming interface (API) and that these APIs may be different from one system to the next. When relational databases were first developed, this was the case; but, fortunately, a number of vendors agreed to develop a standard language for accessing and manipulating relational databases. This language is officially called Structured Query Language (or SQL, pronounced sea-quill). Several official standard versions have been produced, including one in 1992 that is referred to as SQL-92, and one in 1999 that is referred to as SQL-99. The Apache Derby database provides a nearly complete implementation of the SQL-92 standard, so applications developed with Derby can be easily transported to other database systems.\n",
    "\n",
    "SQL has two main components: a Data Definition Language (DDL) and a Data Manipulation Language (DML). DDL commands are used to create, modify, or delete items (such as tables) in a database. DML commands are used to add, modify, delete, or select data from a table in the database. The rest of this article provides a basic introduction to the DDL components of SQL. Future articles will focus on the DML commands and more advanced DDL commands. \n",
    "\n",
    "-----"
   ]
  },
  {
   "cell_type": "markdown",
   "metadata": {},
   "source": [
    "[[Back to TOC]](#Table-of-Contents)\n",
    "\n",
    "### SQL Data Types\n",
    "\n",
    "SQL, being a programming language in its own right, defines a rich data-type hierarchy. Persisting these data types is one of the most important responsibilities of the database. As databases have become more powerful, this type hierarchy has grown more complex. But most simple databases don't require the full range of allowed types, and often they need to store only numerical, character, and date or time data. \n",
    "\n",
    "While the SQL standard defines basic [data types][1], different database systems can support the standard to varying degrees. While this might seem odd, doing so provides more flexibility in allowing a particular implementation to achieve a market niche. In the case of SQLite, the design decisions support a compact, zero-configuration database file that is platform-independent. As a result, [SQLite does not support][2] a rich data type hierarchy, and instead focuses on ease-of-use. \n",
    "\n",
    "SQLite supports five storage classes:\n",
    "\n",
    "- **NULL**: A null value.\n",
    "\n",
    "- **INTEGER**: A signed integer, the number of bytes (1, 2, 3, 4, 6, or 8) used depends on the magnitude of the value.\n",
    "\n",
    "- **REAL**: A floating-point value stored as an 8 byte IEEE floating-point value.\n",
    "\n",
    "- **TEXT**: A string of character values stored in the default database encoding (e.g., UTF-8).\n",
    "\n",
    "- **BLOB**: A blob of data stored *exactly* as is in the database.\n",
    "\n",
    "Note that SQLite does not support Boolean or Date/Time values directly. Instead, Boolean values are encoded as INTEGERs (0 = False, 1 = True). Likewise Date/Time values can be encoded either as TEXT, REAL, or INTEGER values. For full details, see the SQLite documentation. In addition, SQLite supports the concept of _Type Affinity_, whereby different data types can be easily mapped into each other. This simplifies moving schemas from other database systems to SQLite.\n",
    "\n",
    "-----\n",
    "[1]: https://en.wikipedia.org/wiki/SQL#Data_types\n",
    "[2]: https://www.sqlite.org/datatype3.html"
   ]
  },
  {
   "cell_type": "markdown",
   "metadata": {},
   "source": [
    "#### The SQL NULL type\n",
    "\n",
    "Before you begin creating database tables, you must know what to do when no value is specified for a column. To illustrate this point, imagine that you've been asked to fill out a Web form. If you leave a particular column blank, what is inserted into the database? As you can imagine, this problem could be cumbersome if you had to track no value markers. Fortunately, SQL defines a special value, NULL, to indicate that a column has no value.\n",
    "\n"
   ]
  },
  {
   "cell_type": "markdown",
   "metadata": {},
   "source": [
    "-----\n",
    "[[Back to TOC]](#Table-of-Contents)\n",
    "\n",
    "### Create Table\n",
    "\n",
    "So far, you've learned how to design a table, including mapping out the\n",
    "table columns and defining the data type for each column. After you've\n",
    "properly designed a table, the method for creating a table in SQL is\n",
    "straightforward. Listing 1 shows the formal syntax for creating a table\n",
    "in Derby.\n",
    "\n",
    "```\n",
    "-- Comment describing the purpose and layout of the table \n",
    "\n",
    "CREATE TABLE tableName ( { <columnDefinition> | <tableLevelConstraint> } \n",
    "    [, { <columnDefinition> | <tableLevelConstraint> } ]* ) ;\n",
    "```\n",
    "\n",
    "You may feel bewildered after looking at this syntax for the first time.\n",
    "But it's easy to follow once you have the basics down. The square\n",
    "brackets ([ and ]) enclose optional parameters. As you can see from the\n",
    "formal syntax, any column definitions or table-level constraints after\n",
    "the required initial one (it wouldn't make sense to create a table with\n",
    "no columns!) are optional.\n",
    "\n",
    "You probably understand what is meant by a column definition, but you\n",
    "might not understand the idea of a constraint. Constraints come in two\n",
    "types: table-level constraints and column constraints. A constraint\n",
    "limits either a column or a table in some manner. For example, you can\n",
    "use a constraint to require that a column always be assigned an actual\n",
    "value (no NULL values), or that every entry in a column must be unique,\n",
    "or that a column is automatically assigned a default value. \n",
    "\n",
    "The asterisk (\\*) after the last closing square bracket indicates that\n",
    "more than one of the enclosing items can be included. This implies that\n",
    "the table must have one or more columns or table-level constraints. The\n",
    "vertical line (|) indicates an either/or condition. In this syntax\n",
    "example, you must either define a new column or define a new table-level\n",
    "constraint. The curly brackets ({ and }) group related items together,\n",
    "and the parentheses (( and )) are required elements. Finally, the\n",
    "semicolon (;) indicates the end of a SQL statement.\n",
    "\n",
    "#### SQLite Schema Creation\n",
    "\n",
    "In the following code block, we create our schema for Bigdog's Surf\n",
    "Shop, which includes two new tables: `myProducts` and `myVendors`. The\n",
    "myProducts table has four columns: itemNumber, price, stockDate, and\n",
    "description. The itemNumber column provides a unique identity for each\n",
    "item (or row) and has an attached column-level constraint that enforces\n",
    "a valid value to always be supplied (NOT NULL). Without this\n",
    "requirement, the itemNumber column isn't guaranteed to be unique because\n",
    "multiple columns could be assigned a NULL value. The price column is\n",
    "created as a REAL data type. The last two columns are simple: The\n",
    "stockDate column is stored as a TEXT (we can use application logic to\n",
    "transform the date/time information into and out of the appropriate\n",
    "YYYY-MM-DD format), and description is also stored in a TEXT field.\n",
    "\n",
    "The myVendors table has three columns: itemNumber, vendorNumber, and\n",
    "vendorName. In this case, both the itemNumber and vendorNumber columns\n",
    "have attached column-level constraints (NOT NULL). In addition, the\n",
    "vendorName column is stored as a TEXT field."
   ]
  },
  {
   "cell_type": "markdown",
   "metadata": {},
   "source": [
    "-----\n",
    "[[Back to TOC]](#Table-of-Contents)\n",
    "\n",
    "### Drop Table\n",
    "\n",
    "No one is perfect. What do you do when you incorrectly create a table or a table is no longer needed? The simple answer is to delete the table from the database and, if necessary, create a replacement table. Deleting a table is easy, which means, of course, that you should exercise great care when doing so, no dialog box pops up and asks if you're sure you want to proceed!\n",
    "\n",
    "The full syntax for deleting-or, more formally, dropping-a table from a database in SQLite is\n",
    "\n",
    "```sql\n",
    "DROP TABLE tableName ;\n",
    "```\n",
    "\n",
    "The syntax is simple: You append the fully qualified name and a semicolon to the DROP TABLE SQL command, and you're finished.\n"
   ]
  },
  {
   "cell_type": "markdown",
   "metadata": {},
   "source": [
    "In the next few code cells, we first create our schema file, before executing the SQL commands on our new database by using the `sqlite3` client tool.\n",
    "\n",
    "-----"
   ]
  },
  {
   "cell_type": "code",
   "execution_count": 8,
   "metadata": {},
   "outputs": [
    {
     "name": "stdout",
     "output_type": "stream",
     "text": [
      "Overwriting create.sql\n"
     ]
    }
   ],
   "source": [
    "%%writefile create.sql\n",
    "\n",
    "-- First we drop any tables if they exist\n",
    "-- Ignore the no such Table error if present\n",
    "\n",
    "DROP TABLE myVendors ;\n",
    "DROP TABLE myProducts ;\n",
    "\n",
    "-- Vendor Table: Could contain full vendor contact information.\n",
    "    \n",
    "CREATE TABLE myVendors (\n",
    "    itemNumber INT NOT NULL,\n",
    "    vendornumber INT NOT NULL,\n",
    "    vendorName TEXT\n",
    ") ;\n",
    "\n",
    "-- Product Table: Could include additional data like quantity\n",
    "    \n",
    "CREATE TABLE myProducts (\n",
    "    itemNumber INT NOT NULL,\n",
    "    price REAL,\n",
    "    stockDate TEXT,\n",
    "    description TEXT\n",
    ") ;"
   ]
  },
  {
   "cell_type": "code",
   "execution_count": 9,
   "metadata": {},
   "outputs": [],
   "source": [
    "# Now create the schema in a new test database\n",
    "\n",
    "!sqlite3 test < create.sql"
   ]
  },
  {
   "cell_type": "code",
   "execution_count": 10,
   "metadata": {},
   "outputs": [
    {
     "name": "stdout",
     "output_type": "stream",
     "text": [
      "CREATE TABLE myVendors (\r\n",
      "    itemNumber INT NOT NULL,\r\n",
      "    vendornumber INT NOT NULL,\r\n",
      "    vendorName TEXT\r\n",
      ");\r\n",
      "CREATE TABLE myProducts (\r\n",
      "    itemNumber INT NOT NULL,\r\n",
      "    price REAL,\r\n",
      "    stockDate TEXT,\r\n",
      "    description TEXT\r\n",
      ");\r\n"
     ]
    }
   ],
   "source": [
    "# We can test the results\n",
    "\n",
    "!sqlite3 test \".schema\""
   ]
  },
  {
   "cell_type": "markdown",
   "metadata": {},
   "source": [
    "-----\n",
    "[[Back to TOC]](#Table-of-Contents)\n",
    "\n",
    "## SQL Scripts\n",
    "\n",
    "As the previous code blocks demonstrated, we can write SQL commands into a script file that can be easily executed by the `sqlite3` client. While this might seem like overkill given the simplicity of our current schema, it is actually a useful technique. Often, you'll need to execute multiple, complex commands. To simplify debugging a set of complex SQL commands,  it's generally easier to write them in a text file and then execute the commands in the text file all at once. By placing SQL commands in a script file, you gain the additional benefit of being able to execute the commands as many times as necessary.\n",
    "\n",
    "A script file is just a plain text file that contains a combination of SQL commands and SQLite commands that can be run directly from the `sqlite3` tool. A script file simplifies the development and maintenance of relational databases and provides a self-documenting technique for building databases. You should store these files as ASCII text files, not as RTF files (or any other format), to prevent text-encoding errors. Some text applications may try to automatically save your file as a rich text file. Be careful to avoid doing so, or you may have problems when you try to execute your script file. For this reason, you probably will want to always create and edit your SQL scripts at the Unix command prompt.\n",
    "\n",
    "Our previous script file, `create.sql`, includes several lines that start with two dashes (--). These lines are SQL comments; you should use them to provide a basic description of the purpose of each major component within the script file. The first actual commands ion the script file are SQL DROP statements that delete the `myProducts` and `myVendors` tables from the database. If the tables don't exist (which is the case if the database was just created), an error message is displayed; but as the preceding SQL comments indicate, you can safely ignore those messages.\n",
    "\n",
    "You first drop the tables, if they exist, so that you can cleanly create new tables with the exact column definitions you need. The next two SQL statements do just that, creating the myProducts and myVendors tables. To run this script file, we can either have the `sqlite3` client tool read the file form _STDIN_, as shown above, or we can start `sqlite3` and use the `.read` command to read and execute SQL commands from our `create.sql` file.\n",
    "\n",
    "#### What if something goes wrong?\n",
    "\n",
    "Sometimes, no matter how hard you try, things don't work out quite right. If you can't safely execute the create.sql script, there are a number of possibilities to check:\n",
    "\n",
    "- Be sure the SQLite client tool starts up properly. You can do this at the Unix command prompt.\n",
    "\n",
    "- Be sure you have free disk space in which to create a new database.\n",
    "\n",
    "- Be sure you have proper permissions (to read the script file and to create the new database) in the directory where you try to execute the script file.\n",
    "\n",
    "- Be sure your script file is a simple ASCII text file (and not an RTF file).\n",
    "\n",
    "If the output of the `!sqlite3 test \".schema\"` matches the data in the `create.sql` file, congratulations are in order. You now have a new test database with two new tables ready to hold data.\n",
    "\n",
    "Now we'll focus on the process of inserting data into a table by using SQLite. To follow along, you will need a SQLite database with the `myProducts` table available. If you haven't already done so, you should execute the `create.sql` script file.\n",
    "\n",
    "-----"
   ]
  },
  {
   "cell_type": "markdown",
   "metadata": {},
   "source": [
    "<font color='red' size = '5'> Student Exercise </font>\n",
    "\n",
    "Earlier in this notebook, we used the SQLite command tool to create a database and tables. By using the preceding Code cells, try to make the following changes to see if you can complete the following tasks successfully.\n",
    "\n",
    "3. Try creating a new database called BusinessAnalytics.\n",
    "4. Try adding a new table to this database called tools. This table should have tool number that is an integer and is required, a name that is text, and a description that is text.\n",
    "2. Try adding a second new table that has at least five columns, that include integers, real numbers, and text.\n",
    "\n",
    "-----"
   ]
  },
  {
   "cell_type": "markdown",
   "metadata": {},
   "source": [
    "## Ancillary Information\n",
    "\n",
    "The following links are to additional documentation that you might find helpful in learning this material. Reading these web-accessible documents is completely optional. The following sites allow you to try out SQL commands online.\n",
    "\n",
    "23. The [SQLite documentation][23] provides more details on the commands presented in this notebook.\n",
    "1. [W3 Schools SQL][1], a general SQL demo site\n",
    "2. [SQLZoo][2], allows you to specify the Relational Database to target\n",
    "\n",
    "-----\n",
    "\n",
    "[23]: https://www.sqlite.org/lang.html\n",
    "[1]: http://www.w3schools.com/SQL/\n",
    "[2]: http://sqlzoo.net/wiki/SELECT_basics"
   ]
  },
  {
   "cell_type": "markdown",
   "metadata": {
    "deletable": false,
    "editable": false
   },
   "source": [
    "**&copy; 2017: Robert J. Brunner at the University of Illinois.**\n",
    "\n",
    "This notebook is released under the [Creative Commons license CC BY-NC-SA 4.0][ll]. Any reproduction, adaptation, distribution, dissemination or making available of this notebook for commercial use is not allowed unless authorized in writing by the copyright holder.\n",
    "\n",
    "[ll]: https://creativecommons.org/licenses/by-nc-sa/4.0/legalcode"
   ]
  }
 ],
 "metadata": {
  "kernelspec": {
   "display_name": "Python 3",
   "language": "python",
   "name": "python3"
  },
  "language_info": {
   "codemirror_mode": {
    "name": "ipython",
    "version": 3
   },
   "file_extension": ".py",
   "mimetype": "text/x-python",
   "name": "python",
   "nbconvert_exporter": "python",
   "pygments_lexer": "ipython3",
   "version": "3.6.1"
  }
 },
 "nbformat": 4,
 "nbformat_minor": 1
}
