{
 "cells": [
  {
   "cell_type": "markdown",
   "metadata": {},
   "source": [
    "# Introduction to Text Data Processing\n",
    "\n",
    "-----"
   ]
  },
  {
   "cell_type": "markdown",
   "metadata": {},
   "source": [
    "In this notebook we explore how to actually pull text data of interest out of unstructured data sets. First we will review basic Python tools that can be used for either an initial data exploration or in many cases, more advanced data processing tasks. Next, we review another important tool, regular expressions, which can simplify the task of finding and selecting specific data in a large document. Python provides a native implementation of [regular expressions][re] through the `re` module.\n",
    "\n",
    "-----\n",
    "[re]: https://docs.python.org/3/library/re.html"
   ]
  },
  {
   "cell_type": "markdown",
   "metadata": {},
   "source": [
    "## Table of Contents\n",
    "\n",
    "\n",
    "[XXX](#XXX)\n",
    "- [YYY](#YYY)\n"
   ]
  },
  {
   "cell_type": "markdown",
   "metadata": {},
   "source": [
    "### Text Data Processing\n",
    "\n",
    "In many cases, we will be presented with unstructured or even\n",
    "semi-structured text data. For example, Tweet messages, email messages,\n",
    "or other documents can often be considered as character sequences. In\n",
    "these cases, we often can perform basic data processing by employing\n",
    "built-in Python data structures and collections. \n",
    "\n",
    "The main tool we can use for text processing is the Python `string`\n",
    "object and its associated methods. One important point to remember is\n",
    "that in Python, a `string` is immutable, thus any change will create a\n",
    "new `string`. This will have an impact on using Python to process large\n",
    "text data sets, which often leads to other solutions, of which several\n",
    "are presented later in this Notebook. The `string` object has a number\n",
    "of [useful methods][pystm]:\n",
    "\n",
    "- `split`: Return a list of token strings that are delimited by a\n",
    "character, such as space.\n",
    "\n",
    "- `find`: return the lowest index in the string where a substring is\n",
    "located.\n",
    "\n",
    "- `replace`: return a new string with all occurrences of a pattern\n",
    "replaced.\n",
    "\n",
    "- `join`: return a string that is the combination of the input strings\n",
    "\n",
    "- `count`: return the number of non-overlapping instances of a substring.\n",
    "\n",
    "- `lower`: convert text to lowercase characters.\n",
    "\n",
    "- `lstrip` / `rstrip`: return a string with the leading/trailing\n",
    "characters removed.\n",
    "\n",
    "In addition, one can make use of standard [Python sequence\n",
    "operators][pso] to quickly perform basic text data processing.  Given a\n",
    "value `v`, integer `n`, and similar typed sequences `s` and `t`:\n",
    "\n",
    "| Operation | Description |\n",
    "| ----- | ----- |\n",
    "| `v in s`| `True` if `v` is in the sequence `s`, otherwise `False`|\n",
    "| `v not in s`| `False` if `v` is in the sequence `s`, otherwise `True`|\n",
    "| `s + t`| concatenation of `s` and `t`|\n",
    "| `s * n` or `n* s`| `n` shallow copies of `s` concatenated|\n",
    "| `len(s)`| the number of elements in the sequence `s`|\n",
    "| `min(s)`| the smallest elements in the sequence `s`|\n",
    "| `max(s)`| the largest of elements in the sequence `s`|\n",
    "| `s.count(v)`| number of times `v` appears in `s`|\n",
    "\n",
    "Finally, Python provides additional [data collection classes][cl] in the\n",
    "`collections` library, which is part of the standard Python\n",
    "distribution. Current;y, this library introduces the `namedTuple`,\n",
    "`deque`, `ChainMap`, `Counter`, `OrderedDict`, `defaultDict`,\n",
    "`UserDict`, `UserList`, and `UserString` classes. In the following code\n",
    "example, we demonstrate the use of a `Counter` object to perform a\n",
    "simple word count.\n",
    "\n",
    "-----\n",
    "[pystm]: https://docs.python.org/3/library/stdtypes.html#string-methods\n",
    "[pso]: https://docs.python.org/3/library/stdtypes.html#common-sequence-operations\n",
    "[cl]: https://docs.python.org/3/library/collections.html"
   ]
  },
  {
   "cell_type": "code",
   "execution_count": 1,
   "metadata": {},
   "outputs": [
    {
     "name": "stdout",
     "output_type": "stream",
     "text": [
      "[('a', 4), ('you', 4), ('the', 4), ('Docker', 3), ('at', 3), ('new', 3), ('on', 3), ('your', 3), ('this', 3), ('ACCY', 2), ('570', 2), ('Instructor', 2), ('New', 2), ('Course', 2), ('Image', 2), ('a.student@gmail.com', 2), ('Robert', 2), ('course', 2), ('to', 2), ('or', 2), ('command', 2), ('if', 2), ('is', 2), ('have', 2), ('email', 2)]\n"
     ]
    }
   ],
   "source": [
    "with open (\"data/email.txt\", \"r\") as myfile:\n",
    "    msg = myfile.read().replace('\\n', ' ')\n",
    "    \n",
    "words = msg.split()\n",
    "\n",
    "import collections as cl\n",
    "\n",
    "mr = cl.Counter(words)\n",
    "\n",
    "print(mr.most_common(25))"
   ]
  },
  {
   "cell_type": "markdown",
   "metadata": {},
   "source": [
    "### Regular Expressions\n",
    "\n",
    "Regular expressions, or RE or regexes, are expressions that can be used\n",
    "to match one or more occurrences of a particular pattern. Regular\n",
    "expressions are not unique to Python, they are used in many programming\n",
    "languages and many Unix command line tools like sed, grep, or awk.\n",
    "[Regular expressions][re] are used in Python through the `re` module. To\n",
    "build a regular expression, you need to understand the syntax of the RE\n",
    "language. Once a regular expression is developed, it is compiled and\n",
    "executed by an engine written in C in order to provide fast execution.\n",
    "\n",
    "To begin, most characters in a regular expression simply match\n",
    "themselves, For example `python` would match any occurrence of the six\n",
    "letters `python` either alone or embedded in another word. There are\n",
    "several special characters, known as metacharacters, that control the\n",
    "behaviour of the rest of the regular expresion. These metacharacters are\n",
    "listed in the following table.\n",
    "\n",
    "| Metacharacter | Meaning | Example |\n",
    "| ---- | ----- | ----- |\n",
    "| . |  Matches any character except a newline | `1.3` matches `123`, `1a3`, and `1#3` among others |\n",
    "| ^ | Matches sequence at the beginning of the line| `^Python` matches `Python` at the beginning of a line |\n",
    "| $ | Matches sequence at the end of the line | `Python$` matches `Python` at the end of a line |\n",
    "| * | Matches zero or more occurrences of a pattern | `12*3` matches `13`, `123`, `1223`, etc. |\n",
    "| + |  Matches one or more occurrences of a pattern | `12+3` matches `123`, `1223`, etc. |\n",
    "| ? |  Matches zero or one occurrences of a pattern | `12?3` matches `13` and `123` |\n",
    "| { }| Match repeated qualifier | `{m, n}` means match at least `m` and at most `n` occurrences | \n",
    "| [ ] | Used to specify a character class | `[a-z]` means match any lower case character |\n",
    "| \\ | Escape character | `\\w` means match an alphanumeric character, `\\s` means match any whitespace character, and `\\\\` means match a backslash |\n",
    "| &#124; | or operator | `A ` &#124; ` B` match either `A` or `B` |\n",
    "| ( ) | Grouping Operator | (a, b) |\n",
    "\n",
    "One additional point to remember is that inside a character class (i.e.,\n",
    "`[ ]`) many of these metacharacters lose their special meaning, and thus\n",
    "can be used to match themselves. For example, inside a character class,\n",
    "the `^` character means _not_, so `[^\\w]` means match any\n",
    "non-alphanumeric character.\n",
    "\n",
    "To master regular expressions requires a lot of practice, but the\n",
    "investment is well worth it as they are used in many different contexts\n",
    "and can greatly simplify otherwise complex tasks. Given a regular\n",
    "expression, there are several functions that can be used to process text\n",
    "data.\n",
    "\n",
    "- `compile`: compiles a regular expression for faster evaluation.\n",
    "- `search`: find regular expression in string\n",
    "- `match`: find regular expression at start of string\n",
    "- `split`: splits the string by matches of a regular expression.\n",
    "- `sub`: replaces substrings that match a regular expression with different string\n",
    "\n",
    "We can modify our previous string processing example, by using regular\n",
    "expressions to removing punctuation and other non-alphanumeric or\n",
    "whitespace characters.\n",
    "\n",
    "-----\n",
    "[re]: https://docs.python.org/3/howto/regex.html"
   ]
  },
  {
   "cell_type": "code",
   "execution_count": 2,
   "metadata": {},
   "outputs": [
    {
     "name": "stdout",
     "output_type": "stream",
     "text": [
      "[('a', 6), ('you', 4), ('the', 4), ('Docker', 3), ('at', 3), ('new', 3), ('on', 3), ('your', 3), ('this', 3), ('ACCY', 2), ('570', 2), ('Instructor', 2), ('no', 2), ('Note', 2), ('New', 2), ('Course', 2), ('Image', 2), ('student', 2), ('gmail', 2), ('com', 2), ('Robert', 2), ('course', 2), ('image', 2), ('to', 2), ('or', 2)]\n"
     ]
    }
   ],
   "source": [
    "import re\n",
    "\n",
    "pattern = re.compile(r'[^\\w\\s]')\n",
    "with open (\"data/email.txt\", \"r\") as myfile:\n",
    "    msg = myfile.read().replace('\\n', ' ')\n",
    "    \n",
    "words = re.sub(pattern, ' ', msg).split()\n",
    "\n",
    "mr = cl.Counter(words)\n",
    "\n",
    "print(mr.most_common(25))"
   ]
  },
  {
   "cell_type": "markdown",
   "metadata": {},
   "source": [
    "-----\n",
    "\n",
    "Another example\n",
    "\n",
    "-----"
   ]
  },
  {
   "cell_type": "code",
   "execution_count": null,
   "metadata": {
    "collapsed": true
   },
   "outputs": [],
   "source": []
  },
  {
   "cell_type": "markdown",
   "metadata": {},
   "source": [
    "-----\n",
    "## Breakout Session\n",
    "\n",
    "During this breakout, you should work to improve your Python text data\n",
    "processing skills. Specific problems you can attempt include the\n",
    "following:\n",
    "\n",
    "1. Modify the first String Processing code to convert all text to\n",
    "lowercase characters before accumulating the word counts.\n",
    "\n",
    "2. Use the Python set to obtain the list of unique words in the text\n",
    "message.\n",
    "\n",
    "3. Use Regular Expressions to remove the email encoding characters from\n",
    "the message text.\n",
    "\n",
    "Additional, more advanced problems:\n",
    "\n",
    "1. Save several emails from within your mail reader and modify the\n",
    "Python code to process them in bulk to extract out the sender, date\n",
    "sent, and subject.\n",
    "\n",
    "2. Save several webpages (perhaps by using wget), and modify the\n",
    "BeautifulSoup code example to parse out and display the page title, any\n",
    "Javascript code libraries, and any css style file references.\n",
    "\n",
    "-----"
   ]
  },
  {
   "cell_type": "markdown",
   "metadata": {},
   "source": [
    "<font color='red' size = '5'> Student Exercise </font>\n",
    "\n",
    "Earlier in this notebook, we used the sqlite module to execute SQL queries. Now that you have run the cells in this notebook, go back to the relevant cells and make these changes. Be sure to understand how your changes impact the file input and output process.\n",
    "\n",
    "3. Try creating the Surf Shop database as a persistent database (i.e., not in memory).\n",
    "4. With the persistent Surf Shop database, execute queries to count the number of items in the store, and sort them into descending order by their description.\n",
    "56. The airport example demonstrate how easy it is to use the `to_sql` function on a Pandas DataFrame. Using any data set you choose (e.g., the Adult data or the Auto MPG data), read the data into a DataFrame and persist in a new database that you have created. Using the database, find all missing values.\n",
    "\n",
    "-----"
   ]
  },
  {
   "cell_type": "markdown",
   "metadata": {},
   "source": [
    "## Ancillary Information\n",
    "\n",
    "The following links are to additional documentation that you might find helpful in learning this material. Reading these web-accessible documents is completely optional.\n",
    "\n",
    "1. [Dive Into Python3][1] regular expression chapter.\n",
    "4. The [Python Collectins][pycol] documentation.\n",
    "\n",
    "-----\n",
    "\n",
    "[1]: http://www.diveintopython3.net/regular-expressions.html\n",
    "[pycol]: https://docs.python.org/3/library/collections.html"
   ]
  },
  {
   "cell_type": "markdown",
   "metadata": {
    "deletable": false,
    "editable": false
   },
   "source": [
    "**&copy; 2017: Robert J. Brunner at the University of Illinois.**\n",
    "\n",
    "This notebook is released under the [Creative Commons license CC BY-NC-SA 4.0][ll]. Any reproduction, adaptation, distribution, dissemination or making available of this notebook for commercial use is not allowed unless authorized in writing by the copyright holder.\n",
    "\n",
    "[ll]: https://creativecommons.org/licenses/by-nc-sa/4.0/legalcode"
   ]
  }
 ],
 "metadata": {
  "kernelspec": {
   "display_name": "Python 3",
   "language": "python",
   "name": "python3"
  },
  "language_info": {
   "codemirror_mode": {
    "name": "ipython",
    "version": 3
   },
   "file_extension": ".py",
   "mimetype": "text/x-python",
   "name": "python",
   "nbconvert_exporter": "python",
   "pygments_lexer": "ipython3",
   "version": "3.6.1"
  }
 },
 "nbformat": 4,
 "nbformat_minor": 1
}
