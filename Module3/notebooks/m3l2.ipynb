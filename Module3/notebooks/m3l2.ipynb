{
 "cells": [
  {
   "cell_type": "markdown",
   "metadata": {},
   "source": [
    "# Module 3: Lesson 2\n",
    "\n",
    "-----\n",
    "\n",
    "## Introduction to Text Data Processing\n",
    "\n",
    "In this lesson, you will learn about basic text processing techniques by using Python, including string manipulation functions, regular expressions, and the proper use of the `re` module.\n",
    "\n",
    "\n",
    "### Objectives\n",
    "\n",
    "By the end of this lesson, you will understand \n",
    "\n",
    "- how to perform basic text processing using Python string functions,\n",
    "- how to structure verbose regular expressions in Python,\n",
    "- how to use the `sub`, `search`, and `compile` functions within the Python `re` module, and\n",
    "- how to effectively specify the position and structure of the substring you are searching for by using meta-characters.\n",
    "\n",
    "### Time Estimate\n",
    "\n",
    "Approximately 2 hours.\n",
    "\n",
    "### Activities\n",
    "\n",
    "Video: Watch the [Introduction to Text Data Processing][lv] video, which will introduce basic text processing techniques in Python, including using string functions to parse text and regular expressions.\n",
    "\n",
    "Reading: Dive into Python3, Chapter 5: [Regular Expressions][xyz].\n",
    "\n",
    "Notebook: Read and complete the practice exercises in the [Introduction to Text Data Processing][intro2tdp] notebook.\n",
    "\n",
    "------\n",
    "\n",
    "[xyz]: http://www.diveintopython3.net/regular-expressions.html\n",
    "\n",
    "[lv]: https://mediaspace.illinois.edu/media/\n",
    "\n",
    "[intro2tdp]: intro2tdp.ipynb"
   ]
  }
 ],
 "metadata": {
  "kernelspec": {
   "display_name": "Python 3",
   "language": "python",
   "name": "python3"
  },
  "language_info": {
   "codemirror_mode": {
    "name": "ipython",
    "version": 3
   },
   "file_extension": ".py",
   "mimetype": "text/x-python",
   "name": "python",
   "nbconvert_exporter": "python",
   "pygments_lexer": "ipython3",
   "version": "3.6.1"
  }
 },
 "nbformat": 4,
 "nbformat_minor": 2
}
