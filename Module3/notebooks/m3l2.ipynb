{
 "cells": [
  {
   "cell_type": "markdown",
   "metadata": {},
   "source": [
    "# Module 1: Lesson 2\n",
    "\n",
    "-----\n",
    "\n",
    "## Introduction to Text Data Processing\n",
    "\n",
    "XYZ\n",
    "\n",
    "### Objectives\n",
    "\n",
    "By the end of this lesson, you will understand \n",
    "\n",
    "- how to perform basic text processing using Python string functions,\n",
    "- how to structure verbose regular expressions in Python,\n",
    "- how to use the `sub`, `search`, and `compile` functions within the Python `re` module, and\n",
    "- how to effectively specify the position and structure of the substring you are searching for by using meta-characters.\n",
    "\n",
    "### Time Estimate\n",
    "\n",
    "Approximately 2 hours.\n",
    "\n",
    "### Activities\n",
    "\n",
    "Video: Watch the [XYZ][lv] video, which will discuss .\n",
    "\n",
    "Reading: XYZ [xyz][xyz].\n",
    "\n",
    "\n",
    "Notebook: Read and complete the practice exercises in the [Introduction to Text Data Processing][intro2tdp] notebook.\n",
    "\n",
    "------\n",
    "\n",
    "[xyz]: https://\n",
    "\n",
    "[lv]: https://mediaspace.illinois.edu/media/\n",
    "\n",
    "[intro2tdp]: intro2tdp.ipynb"
   ]
  }
 ],
 "metadata": {
  "kernelspec": {
   "display_name": "Python 3",
   "language": "python",
   "name": "python3"
  },
  "language_info": {
   "codemirror_mode": {
    "name": "ipython",
    "version": 3
   },
   "file_extension": ".py",
   "mimetype": "text/x-python",
   "name": "python",
   "nbconvert_exporter": "python",
   "pygments_lexer": "ipython3",
   "version": "3.6.1"
  }
 },
 "nbformat": 4,
 "nbformat_minor": 2
}
