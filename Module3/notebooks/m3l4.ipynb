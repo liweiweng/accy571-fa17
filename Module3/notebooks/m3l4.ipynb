{
 "cells": [
  {
   "cell_type": "markdown",
   "metadata": {},
   "source": [
    "# Module 3: Lesson 4\n",
    "\n",
    "-----\n",
    "\n",
    "## Data Analytics: Worked Example\n",
    "\n",
    "In this lesson, you will complete a worked example that demonstrates how to work with different data sets to make an interesting data visualization known as a _choropleth_. To do this we need to access web resources, parse an XML-based data format, extract meaningful data from a second web accessible resource, and combine it all into a new and interesting visualization.\n",
    "\n",
    "### Objectives\n",
    "\n",
    "By the end of this lesson, you will understand \n",
    "\n",
    "- how to download and access web resources,\n",
    "- how to use Pandas to access online data files,\n",
    "- how to extract data from XML-based resources, and\n",
    "- how to create and display a Choropleth visualization.\n",
    "\n",
    "### Time Estimate\n",
    "\n",
    "Approximately 1 hour.\n",
    "\n",
    "### Activities\n",
    "\n",
    "Video: Watch the [Data Analytics][lv] video, which will discuss the basic steps in a data analytics project and walk you through the basic concepts behind the worked example used in this lesson.\n",
    "\n",
    "Reading: Read the Wikipedia article on [Choropleths][wc].\n",
    "\n",
    "Reading: Select and read one [Choropleth article][fdc] form the FlowingData website.\n",
    "\n",
    "Notebook: Read and complete the practice exercises in the [Data Analytics: Worked Example][dawe] notebook.\n",
    "\n",
    "------\n",
    "\n",
    "[xyz]: https://\n",
    "\n",
    "[fdc]: http://flowingdata.com/tag/choropleth/\n",
    "\n",
    "[wc]: https://en.wikipedia.org/wiki/Choropleth_map\n",
    "\n",
    "[lv]: https://mediaspace.illinois.edu/media/t/1_s2arih8b/80455691\n",
    "\n",
    "[dawe]: dawe.ipynb"
   ]
  }
 ],
 "metadata": {
  "kernelspec": {
   "display_name": "Python 3",
   "language": "python",
   "name": "python3"
  },
  "language_info": {
   "codemirror_mode": {
    "name": "ipython",
    "version": 3
   },
   "file_extension": ".py",
   "mimetype": "text/x-python",
   "name": "python",
   "nbconvert_exporter": "python",
   "pygments_lexer": "ipython3",
   "version": "3.6.1"
  }
 },
 "nbformat": 4,
 "nbformat_minor": 2
}
