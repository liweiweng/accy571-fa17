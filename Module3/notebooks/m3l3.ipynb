{
 "cells": [
  {
   "cell_type": "markdown",
   "metadata": {},
   "source": [
    "# Module 3: Lesson 3\n",
    "\n",
    "-----\n",
    "\n",
    "## Introduction to Web Scraping\n",
    "\n",
    "In this lesson, you will learn how to extract information from structured data sets. This includes parsing data from XML formats such as HTML, which is the language in which many web pages are written and stored. To do this you will learn about the BeautifulSoup parsing library and the libxml parsing engine. To demonstrate these concepts, we use them to perform web-scraping, where data is extracted from Internet-accessible webpages.\n",
    "\n",
    "### Objectives\n",
    "\n",
    "By the end of this lesson, you will understand \n",
    "\n",
    "- how to use a data parsing library like BeautifulSoup,\n",
    "- how to find and extract information from an XML format file,\n",
    "- the document object model, and\n",
    "- how to extract data from a webpage.\n",
    "\n",
    "### Time Estimate\n",
    "\n",
    "Approximately 2 hours.\n",
    "\n",
    "### Activities\n",
    "\n",
    "Video: Watch the [Introduction to Web Scraping][lv] video, which will discuss how to perform web scraping to extract information from web-accessible documents.\n",
    "\n",
    "Reading: A blog article introducing [Web Scraping with BeautifulSoup][xyz].\n",
    "\n",
    "Notebook: Read and complete the practice exercises in the [Introduction to Web Scraping][intro2ws] notebook.\n",
    "\n",
    "------\n",
    "\n",
    "[xyz]: https://www.dataquest.io/blog/web-scraping-tutorial-python/\n",
    "\n",
    "[lv]: https://mediaspace.illinois.edu/media/\n",
    "\n",
    "[intro2ws]: intro2ws.ipynb"
   ]
  }
 ],
 "metadata": {
  "kernelspec": {
   "display_name": "Python 3",
   "language": "python",
   "name": "python3"
  },
  "language_info": {
   "codemirror_mode": {
    "name": "ipython",
    "version": 3
   },
   "file_extension": ".py",
   "mimetype": "text/x-python",
   "name": "python",
   "nbconvert_exporter": "python",
   "pygments_lexer": "ipython3",
   "version": "3.6.1"
  }
 },
 "nbformat": 4,
 "nbformat_minor": 2
}
