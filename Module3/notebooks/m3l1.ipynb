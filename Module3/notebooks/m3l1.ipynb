{
 "cells": [
  {
   "cell_type": "markdown",
   "metadata": {},
   "source": [
    "# Module 3: Lesson 1\n",
    "\n",
    "-----\n",
    "\n",
    "## Applied Data Analytics\n",
    "\n",
    "This lesson introduces how advanced analytic techniques can be used to generate new insights from data by extending analytics to data beyond a spreadsheet.\n",
    "\n",
    "### Objectives\n",
    "\n",
    "By the end of this lesson, you will understand \n",
    "\n",
    "- how non-numerical data can be used to provide new insights into a company's operations,\n",
    "- how data and advanced analytics can improve human decision making, and\n",
    "- how integration of different forms of data can provide strategic advantages.\n",
    "\n",
    "### Time Estimate\n",
    "\n",
    "Approximately 1 hour.\n",
    "\n",
    "### Activities\n",
    "\n",
    "Video: Watch the [Applied Data Analytics][lv] video, which will discuss how advanced analytics techniques can be used to improve business revenue.\n",
    "\n",
    "Reading: Chapter 4 from the 2016 McKinsey Global Institute [The Age of Analytics: Competing in a Data-Driven World][xyz] report.\n",
    "\n",
    "------\n",
    "\n",
    "[xyz]: https://www.mckinsey.com/~/media/mckinsey/business%20functions/mckinsey%20analytics/our%20insights/the%20age%20of%20analytics%20competing%20in%20a%20data%20driven%20world/mgi-the-age-of-analytics-full-report.ashx\n",
    "\n",
    "[lv]: https://mediaspace.illinois.edu/media/"
   ]
  }
 ],
 "metadata": {
  "kernelspec": {
   "display_name": "Python 3",
   "language": "python",
   "name": "python3"
  },
  "language_info": {
   "codemirror_mode": {
    "name": "ipython",
    "version": 3
   },
   "file_extension": ".py",
   "mimetype": "text/x-python",
   "name": "python",
   "nbconvert_exporter": "python",
   "pygments_lexer": "ipython3",
   "version": "3.6.1"
  }
 },
 "nbformat": 4,
 "nbformat_minor": 2
}
