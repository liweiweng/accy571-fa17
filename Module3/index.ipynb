{
 "cells": [
  {
   "cell_type": "markdown",
   "metadata": {},
   "source": [
    "# Module 3: Applied Data Analytics\n",
    "\n",
    "In this module, you will learn to perform basic data analytics tasks by using Python. First, you will learn about how advanced data analytics are often used in business settings. Second, you will learn how to perform text processing by using Python. This will include using built-in string functions to parse text data as well as regular expressions, which can perform fast search and replace operations on text data. Third, you will learn about web pages, and how to programmatically extract data from a web page or even websites. Finally, you will learn how to write a Python program that extract data from a website, processes an XML-based file to encode this information, in order to generate a new type of visualization known as a Choropleth.\n",
    "\n",
    "## Learning Objectives\n",
    "\n",
    "#### By the end of this module, you should be able to:\n",
    "\n",
    "- explain how advanced analytics can empower business,\n",
    "- use Python string functions to find and modify text data,\n",
    "- effectively use regular expressions in a Python program, \n",
    "- scrape data form a website, and\n",
    "- combine these operations together to perform a data analytics task.\n",
    "\n",
    "### Activities and Assignments\n",
    "\n",
    "| Activities and Assignments               | Time Estimate | Deadline* | Points |\n",
    "| :--------------------------------------- | ------------- | --------- | -----: |\n",
    "| **[Module 3 Overview Video][wv]**      | 10 Minutes    | Tuesday  |    N/A |\n",
    "| **[Module 3 Lesson 1: Applied Data Analytics][nb1]** | 1 Hour  | Thursday  |     N/A |\n",
    "| **[Module 3 Lesson 2: Introduction to Text Data Processing][nb2]** | 2 Hours | Thursday  |     N/A |\n",
    "| **[Module 3 Lesson 3: Introduction to Web Scraping][nb3]** | 2 Hours | Thursday  |     N/A |\n",
    "| **[Module 3 Lesson 4: Data Analytics: Worked Example][nb4]** | 1 Hour   | Thursday  |     N/A |\n",
    "| **[Module 3 Quiz][wq]**                    | 30 Minutes    | Friday    |     25|\n",
    "| **[Module 3 Assignment][ma]**                    | 1 hour   | (following) Monday    |  100 |\n",
    "\n",
    "*Please note that unless otherwise noted, the due time is 6pm Central time!\n",
    "\n",
    "----------\n",
    "\n",
    "[nb1]: notebooks/m3l1.ipynb\n",
    "[nb2]: notebooks/m3l2.ipynb\n",
    "[nb3]: notebooks/m3l3.ipynb\n",
    "[nb4]: notebooks/m3l4.ipynb\n",
    "\n",
    "[ma]: https://datascience.business.illinois.edu/user/accy/notebooks/accy571/assignments/Module3/assignment.ipynb\n",
    "\n",
    "[wv]: https://mediaspace.illinois.edu/media/t/1_52x6bd8n/80455691\n",
    "[wq]: https://learn.illinois.edu/mod/quiz/view.php?id=2366437"
   ]
  }
 ],
 "metadata": {
  "kernelspec": {
   "display_name": "Python 3",
   "language": "python",
   "name": "python3"
  },
  "language_info": {
   "codemirror_mode": {
    "name": "ipython",
    "version": 3
   },
   "file_extension": ".py",
   "mimetype": "text/x-python",
   "name": "python",
   "nbconvert_exporter": "python",
   "pygments_lexer": "ipython3",
   "version": "3.6.1"
  }
 },
 "nbformat": 4,
 "nbformat_minor": 2
}
