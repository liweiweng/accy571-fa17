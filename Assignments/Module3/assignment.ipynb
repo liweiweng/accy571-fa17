{
 "cells": [
  {
   "cell_type": "markdown",
   "metadata": {},
   "source": [
    "# Module 3 Assignment\n",
    "\n",
    "A few things you should keep in mind when working on assignments:\n",
    "\n",
    "1. Make sure you fill in any place that says `YOUR CODE HERE`. Do **not** write your answer in anywhere else other than where it says `YOUR CODE HERE`. Anything you write anywhere else will be removed or overwritten by the autograder.\n",
    "\n",
    "2. Before you submit your assignment, make sure everything runs as expected. Go to menubar, select _Kernel_, and restart the kernel and run all cells (_Restart & Run all_).\n",
    "\n",
    "3. Do not change the title (i.e. file name) of this notebook.\n",
    "\n",
    "4. Make sure that you save your work (in the menubar, select _File_ → _Save and CheckPoint_)\n"
   ]
  },
  {
   "cell_type": "code",
   "execution_count": null,
   "metadata": {
    "deletable": false,
    "editable": false,
    "nbgrader": {
     "checksum": "ed3a64a062a481fcbe591b698c7688fb",
     "grade": false,
     "grade_id": "cell-b83ff30e2ecad9d9",
     "locked": true,
     "schema_version": 1,
     "solution": false
    }
   },
   "outputs": [],
   "source": [
    "import numpy as np\n",
    "import re\n",
    "from nose.tools import assert_equal\n",
    "from bs4 import BeautifulSoup\n",
    "from nose.tools import assert_equal"
   ]
  },
  {
   "cell_type": "markdown",
   "metadata": {},
   "source": [
    "# Problem 1: Find the home directory\n",
    "\n",
    "Create a variable called \"home\" which contains the home directory."
   ]
  },
  {
   "cell_type": "code",
   "execution_count": null,
   "metadata": {
    "deletable": false,
    "nbgrader": {
     "checksum": "9e1e98d7d1d9d4a6d5c611e7dbbc4e09",
     "grade": false,
     "grade_id": "cell-06d785bc86f15aff",
     "locked": false,
     "schema_version": 1,
     "solution": true
    }
   },
   "outputs": [],
   "source": [
    "# YOUR CODE HERE"
   ]
  },
  {
   "cell_type": "code",
   "execution_count": null,
   "metadata": {
    "deletable": false,
    "editable": false,
    "nbgrader": {
     "checksum": "8a60d94695607c04be836426ab2a1753",
     "grade": true,
     "grade_id": "cell-fa236aad89580777",
     "locked": true,
     "points": 1,
     "schema_version": 1,
     "solution": false
    }
   },
   "outputs": [],
   "source": [
    "assert_equal(home,['/home/data_scientist'])"
   ]
  },
  {
   "cell_type": "markdown",
   "metadata": {},
   "source": [
    "Now, let's look at an excerpt from Enron's annual report from 2000, available [here](http://picker.uchicago.edu/Enron/EnronAnnualReport2000.pdf): \n"
   ]
  },
  {
   "cell_type": "code",
   "execution_count": null,
   "metadata": {
    "deletable": false,
    "editable": false,
    "nbgrader": {
     "checksum": "0f563d62e5315dab3c69bb74003dc56d",
     "grade": false,
     "grade_id": "cell-d5653e139f57fdb4",
     "locked": true,
     "schema_version": 1,
     "solution": false
    }
   },
   "outputs": [],
   "source": [
    "text = \"\"\"Enron engages in price risk management activities for both trading  and  non-trading  purposes.\n",
    "Instruments  utilized  in  connection with trading activities are accounted for using the mark-to-market  method.\n",
    "Under  the  mark-to-market  method  of accounting, forwards, swaps, options, energy transportation contracts  utilized\n",
    "for  trading  activities  and  other  instruments  with third parties are reflected at fair value and are shown as\n",
    "“Assets and  Liabilities  from  Price  Risk  Management  Activities” in  the Consolidated  Balance  Sheet.\n",
    "These  activities  also include  the commodity  risk  management  component  embedded  in  energy outsourcing\n",
    "contracts.  Unrealized  gains  and  losses  from  newly originated  contracts,  contract  restructurings  and \n",
    "the  impact  of price movements are recognized as 'Other Revenues' .Changes in the assets and liabilities from price\n",
    "risk management activities result primarily from changes in the valuation of the portfolio of contracts,\n",
    "newly originated transactions and the timing of settlement  relative  to  the  receipt  of  cash  for  certain\n",
    "contracts.  The market  prices  used  to  value  these  transactions  reflect  management’s best estimate considering\n",
    "various factors including closing exchange and  over-the-counter  quotations,  time  value  and volatility factors\n",
    "underlying the commitments.\"\"\" "
   ]
  },
  {
   "cell_type": "code",
   "execution_count": null,
   "metadata": {
    "deletable": false,
    "editable": false,
    "nbgrader": {
     "checksum": "9ac648d68b1e37ce760655e6c19783c7",
     "grade": false,
     "grade_id": "cell-78523d5f868965a9",
     "locked": true,
     "schema_version": 1,
     "solution": false
    }
   },
   "outputs": [],
   "source": [
    "#remove the \\n character\n",
    "text.replace(\"\\n\",'')"
   ]
  },
  {
   "cell_type": "code",
   "execution_count": null,
   "metadata": {
    "deletable": false,
    "editable": false,
    "nbgrader": {
     "checksum": "0728ca1ba9084dd5c9918fdf052c4d94",
     "grade": false,
     "grade_id": "cell-12dfb0947d910008",
     "locked": true,
     "schema_version": 1,
     "solution": false
    }
   },
   "outputs": [],
   "source": [
    "#Let's see what the text looks like \n",
    "text"
   ]
  },
  {
   "cell_type": "markdown",
   "metadata": {},
   "source": [
    "# Problem 2: Determine if a word is in the text\n",
    "\n",
    "Write a function called \"word_finder\" which takes in a string of text and a word, and returns true if the supplied word is found in the text."
   ]
  },
  {
   "cell_type": "code",
   "execution_count": null,
   "metadata": {
    "deletable": false,
    "nbgrader": {
     "checksum": "818ee9b60e6f82b234c3c293bb1f3ca2",
     "grade": false,
     "grade_id": "cell-29203eac37051b20",
     "locked": false,
     "schema_version": 1,
     "solution": true
    }
   },
   "outputs": [],
   "source": [
    "def word_finder(text,word):\n",
    "    \"\"\"\n",
    "    Inputs:\n",
    "    -------\n",
    "\n",
    "    text: a string containing the full text to search through\n",
    "    word: a string, the word to search for\n",
    "    \n",
    "    Outputs:\n",
    "    --------\n",
    "    \n",
    "    is_in: a boolean, true if word is in the text, false otherwise\n",
    "    \n",
    "    \"\"\"\n",
    "    # YOUR CODE HERE\n",
    "    \n",
    "    return is_in"
   ]
  },
  {
   "cell_type": "code",
   "execution_count": null,
   "metadata": {
    "deletable": false,
    "editable": false,
    "nbgrader": {
     "checksum": "183a6a31b78fe70f6d117a0968483126",
     "grade": true,
     "grade_id": "cell-40585129e7c39ace",
     "locked": true,
     "points": 1,
     "schema_version": 1,
     "solution": false
    }
   },
   "outputs": [],
   "source": [
    "is_in = word_finder(text,'Enron')\n",
    "assert_equal(is_in,True)"
   ]
  },
  {
   "cell_type": "markdown",
   "metadata": {},
   "source": [
    "# Problem 3: Counting the number of times a word occurs\n",
    "\n",
    "Write a function called \"word_counter\" which takes in a string of text and a word, and returns the number of times the word occurs in the text"
   ]
  },
  {
   "cell_type": "code",
   "execution_count": null,
   "metadata": {
    "deletable": false,
    "nbgrader": {
     "checksum": "a9f5d2fac8b8458bd9a525dc5cb96e08",
     "grade": false,
     "grade_id": "cell-5e82191513cc318e",
     "locked": false,
     "schema_version": 1,
     "solution": true
    }
   },
   "outputs": [],
   "source": [
    "def word_counter(text,word):\n",
    "    \"\"\"\n",
    "    Inputs:\n",
    "    -------\n",
    "\n",
    "    text: a string containing the full text to search through\n",
    "    word: a string, the word to search for\n",
    "    \n",
    "    Outputs:\n",
    "    --------\n",
    "    \n",
    "    num_occurences: the number of times the word occurs in the text\n",
    "    \n",
    "    \"\"\"\n",
    "    # YOUR CODE HERE\n",
    "    \n",
    "    return num_occurences"
   ]
  },
  {
   "cell_type": "code",
   "execution_count": null,
   "metadata": {
    "deletable": false,
    "editable": false,
    "nbgrader": {
     "checksum": "3bbbbaf63ac23d4208d5ffe54c2d28f2",
     "grade": true,
     "grade_id": "cell-259e9d1a17608f06",
     "locked": true,
     "points": 1,
     "schema_version": 1,
     "solution": false
    }
   },
   "outputs": [],
   "source": [
    "risk_count = word_counter(text,'risk')\n",
    "assert_equal(risk_count,3)\n",
    "Enron_count = word_counter(text,'Enron')\n",
    "assert_equal(Enron_count,1)"
   ]
  },
  {
   "cell_type": "markdown",
   "metadata": {},
   "source": [
    "# Problem 4: Find the first word of the text\n",
    "\n",
    "Write a function called \"first_word\" which takes in a string of text and returns the first word of the text."
   ]
  },
  {
   "cell_type": "code",
   "execution_count": null,
   "metadata": {
    "deletable": false,
    "nbgrader": {
     "checksum": "9bca425b3040a79e70dbbaa93bf635aa",
     "grade": false,
     "grade_id": "cell-c014030a652957bd",
     "locked": false,
     "schema_version": 1,
     "solution": true
    }
   },
   "outputs": [],
   "source": [
    "def first_word(text):\n",
    "    '''\n",
    "    Inputs:\n",
    "    -------\n",
    "\n",
    "    text: a string containing the full text to search through\n",
    "    \n",
    "    Outputs:\n",
    "    --------\n",
    "    \n",
    "    first_word: the first word of the text\n",
    "    '''\n",
    "    \n",
    "    # YOUR CODE HERE\n",
    "    \n",
    "    return first_word"
   ]
  },
  {
   "cell_type": "code",
   "execution_count": null,
   "metadata": {
    "deletable": false,
    "editable": false,
    "nbgrader": {
     "checksum": "2e1a738f40c45de446e7c7be3d47e4e3",
     "grade": true,
     "grade_id": "cell-108b5e3378f64846",
     "locked": true,
     "points": 1,
     "schema_version": 1,
     "solution": false
    }
   },
   "outputs": [],
   "source": [
    "first = first_word(text)\n",
    "assert_equal(first,'Enron')"
   ]
  },
  {
   "cell_type": "markdown",
   "metadata": {},
   "source": [
    "# Problem 5: Covering up words\n",
    "\n",
    "Write a regular expression that will replace all instances of either \"Risk\" or \"risk\" with \"REDACTED\". Save this new text in a variable called \"redacted_text\"\n"
   ]
  },
  {
   "cell_type": "code",
   "execution_count": null,
   "metadata": {
    "deletable": false,
    "nbgrader": {
     "checksum": "b6314ee2e4fbfd4dad58d96700df4b4c",
     "grade": false,
     "grade_id": "cell-3cdf09193b402a2c",
     "locked": false,
     "schema_version": 1,
     "solution": true
    }
   },
   "outputs": [],
   "source": [
    "# YOUR CODE HERE"
   ]
  },
  {
   "cell_type": "code",
   "execution_count": null,
   "metadata": {
    "deletable": false,
    "editable": false,
    "nbgrader": {
     "checksum": "b152903dae79f3c51b8c180329683a9e",
     "grade": true,
     "grade_id": "cell-5467ed911840ed7c",
     "locked": true,
     "points": 1,
     "schema_version": 1,
     "solution": false
    }
   },
   "outputs": [],
   "source": [
    "assert_equal(word_finder(redacted_text,'Risk'),False)\n",
    "assert_equal(word_finder(redacted_text,'risk'),False)\n",
    "assert_equal(word_counter(redacted_text,'REDACTED'),4)"
   ]
  },
  {
   "cell_type": "markdown",
   "metadata": {},
   "source": [
    "# Problem 6: Grabbing A Column from a table\n",
    "\n",
    "We have downloaded the html from the world bank and it is in your current directory labeled as *WV.1.html* You can view the webpage here: http://wdi.worldbank.org/table/WV.1 (*if you cannot view the link download the WV.1.html file in the current directory and view it in your browser locally*). Use beautifulSoup to parse the html and grab the country names from the first column (Ignore the header). Store the column in a list called ans_col."
   ]
  },
  {
   "cell_type": "code",
   "execution_count": null,
   "metadata": {
    "deletable": false,
    "nbgrader": {
     "checksum": "40902d3ffa8fcd2d7753123b045524f0",
     "grade": false,
     "grade_id": "cell-c7bfcbc15ac158c5",
     "locked": false,
     "schema_version": 1,
     "solution": true
    }
   },
   "outputs": [],
   "source": [
    "# YOUR CODE HERE"
   ]
  },
  {
   "cell_type": "code",
   "execution_count": null,
   "metadata": {
    "deletable": false,
    "editable": false,
    "nbgrader": {
     "checksum": "a88183f292ac6decda70cb56ded4365f",
     "grade": true,
     "grade_id": "cell-955140df708d0414",
     "locked": true,
     "points": 1,
     "schema_version": 1,
     "solution": false
    }
   },
   "outputs": [],
   "source": [
    "assert_equal(ans_col, \n",
    "['Afghanistan', 'Albania', 'Algeria', 'American Samoa', 'Andorra', 'Angola', 'Antigua and Barbuda', 'Argentina', 'Armenia', 'Aruba', 'Australia', 'Austria', 'Azerbaijan', 'Bahamas, The', 'Bahrain', 'Bangladesh', 'Barbados', 'Belarus', 'Belgium', 'Belize', 'Benin', 'Bermuda', 'Bhutan', 'Bolivia', 'Bosnia and Herzegovina', 'Botswana', 'Brazil', 'Brunei Darussalam', 'Bulgaria', 'Burkina Faso', 'Burundi', 'Cambodia', 'Cameroon', 'Canada', 'Cabo Verde', 'Cayman Islands', 'Central African Republic', 'Chad', 'Channel Islands', 'Chile', 'China', 'Hong Kong SAR, China', 'Macao SAR, China', 'Colombia', 'Comoros', 'Congo, Dem. Rep.', 'Congo, Rep.', 'Costa Rica', \"Cote d'Ivoire\", 'Croatia', 'Cuba', 'Curacao', 'Cyprus', 'Czech Republic', 'Denmark', 'Djibouti', 'Dominica', 'Dominican Republic', 'Ecuador', 'Egypt, Arab Rep.', 'El Salvador', 'Equatorial Guinea', 'Eritrea', 'Estonia', 'Ethiopia', 'Faroe Islands', 'Fiji', 'Finland', 'France', 'French Polynesia', 'Gabon', 'Gambia, The', 'Georgia', 'Germany', 'Ghana', 'Greece', 'Greenland', 'Grenada', 'Guam', 'Guatemala', 'Guinea', 'Guinea-Bissau', 'Guyana', 'Haiti', 'Honduras', 'Hungary', 'Iceland', 'India', 'Indonesia', 'Iran, Islamic Rep.', 'Iraq', 'Ireland', 'Isle of Man', 'Israel', 'Italy', 'Jamaica', 'Japan', 'Jordan', 'Kazakhstan', 'Kenya', 'Kiribati', 'Korea, Dem. People’s Rep.', 'Korea, Rep.', 'Kosovo', 'Kuwait', 'Kyrgyz Republic', 'Lao PDR', 'Latvia', 'Lebanon', 'Lesotho', 'Liberia', 'Libya', 'Liechtenstein', 'Lithuania', 'Luxembourg', 'Macedonia, FYR', 'Madagascar', 'Malawi', 'Malaysia', 'Maldives', 'Mali', 'Malta', 'Marshall Islands', 'Mauritania', 'Mauritius', 'Mexico', 'Micronesia, Fed. Sts.', 'Moldova', 'Monaco', 'Mongolia', 'Montenegro', 'Morocco', 'Mozambique', 'Myanmar', 'Namibia', 'Nauru', 'Nepal', 'Netherlands', 'New Caledonia', 'New Zealand', 'Nicaragua', 'Niger', 'Nigeria', 'Northern Mariana Islands', 'Norway', 'Oman', 'Pakistan', 'Palau', 'Panama', 'Papua New Guinea', 'Paraguay', 'Peru', 'Philippines', 'Poland', 'Portugal', 'Puerto Rico', 'Qatar', 'Romania', 'Russian Federation', 'Rwanda', 'Samoa', 'San Marino', 'Sao Tome and Principe', 'Saudi Arabia', 'Senegal', 'Serbia', 'Seychelles', 'Sierra Leone', 'Singapore', 'Sint Maarten (Dutch part)', 'Slovak Republic', 'Slovenia', 'Solomon Islands', 'Somalia', 'South Africa', 'South Sudan', 'Spain', 'Sri Lanka', 'St. Kitts and Nevis', 'St. Lucia', 'St. Martin (French part)', 'St. Vincent and the Grenadines', 'Sudan', 'Suriname', 'Swaziland', 'Sweden', 'Switzerland', 'Syrian Arab Republic', 'Tajikistan', 'Tanzania', 'Thailand', 'Timor-Leste', 'Togo', 'Tonga', 'Trinidad and Tobago', 'Tunisia', 'Turkey', 'Turkmenistan', 'Turks and Caicos Islands', 'Tuvalu', 'Uganda', 'Ukraine', 'United Arab Emirates', 'United Kingdom', 'United States', 'Uruguay', 'Uzbekistan', 'Vanuatu', 'Venezuela, RB', 'Vietnam', 'Virgin Islands (U.S.)', 'West Bank and Gaza', 'Yemen, Rep.', 'Zambia', 'Zimbabwe', 'World', 'East Asia & Pacific', 'Europe & Central Asia', 'Latin America & Caribbean', 'Middle East & North Africa', 'North America', 'South Asia', 'Sub-Saharan Africa', 'Low income', 'Lower middle income', 'Upper middle income', 'High income'])"
   ]
  },
  {
   "cell_type": "markdown",
   "metadata": {
    "collapsed": true
   },
   "source": [
    "# Problem 7: Grabbing Highlighted Values from a table\n",
    "For this problem complete the grab_highlighted function below by doing the following:\n",
    "- Use beautifulSoup to parse the html of WV.1.html and grab the highlighted values excluding names and ignore headers.\n",
    "    - Parse from the top of the table and read thr rows from left to right.\n",
    "- Store the highlighted values in a list and convert these values to a float.\n",
    "- Lastly return the list.\n",
    "\n",
    "If done correctly your function should be able to grab highlighted values from other tables found here: http://wdi.worldbank.org/tables. Otherwise you will not pass all of the assert statements.\n"
   ]
  },
  {
   "cell_type": "code",
   "execution_count": null,
   "metadata": {
    "deletable": false,
    "nbgrader": {
     "checksum": "d3d3de5cb35de15666aeaf39a83bfe2b",
     "grade": false,
     "grade_id": "cell-0da89171f524f0e3",
     "locked": false,
     "schema_version": 1,
     "solution": true
    }
   },
   "outputs": [],
   "source": [
    "def grab_highlighted(file_path):\n",
    "    '''\n",
    "    file_path: string containing path to file.\n",
    "    returns list with highlighted values\n",
    "    '''\n",
    "    # YOUR CODE HERE"
   ]
  },
  {
   "cell_type": "code",
   "execution_count": null,
   "metadata": {
    "deletable": false,
    "editable": false,
    "nbgrader": {
     "checksum": "23d10825fecf5316506a1729bc5136f7",
     "grade": true,
     "grade_id": "cell-dfa3e813049c934a",
     "locked": true,
     "points": 1,
     "schema_version": 1,
     "solution": false
    }
   },
   "outputs": [],
   "source": [
    "ans_WV1 = grab_highlighted('WV.1.html')\n",
    "assert_equal(ans_WV1, [1.1, 0.9, 24.1, 8.7, 9.8, 31.2, 22740.0, 61.3, 44690.0, 2.9, 0.2, 9.5, 11.3, 0.1, 16.1, 38520.0, 34.8, 83250.0, 7.3, 38.8, 64580.0, 59.2, 98450.0, 4.2, 4.4, 4.2, 0.2, 10.6, 5.7, 6.5, 4.7, 1.3, 5.5, 66.9, 82.7, 10.7, 1.7, 2.0, 0.4, -0.1, 9.8, 0.3, 511.8, 6530.0, 1361.8, 17370.0, -1.5, -2.7, 4.8, 7.4, 89970.0, 5.0, 4.3, 8.5, 60.6, 17.8, 1.8, 164.0, 41680.0, 328.3, 83420.0, 1.8, -2.1, 6.1, 2.0, 2.9, 0.6, 0.4, 0.4, 1.3, 3.6, 0.6, 62.4, 1190.0, 265.8, 5070.0, 17.0, 0.3, 4.7, 3.4, 2.8, 5.2, 75.9, 18080.0, 173.5, 41320.0, 5.7, -0.4, 16.7, 2160.0, 20.9, 2700.0, 8.5, 6.3, 37.9, 10.3, 187.8, 75660.0, 309.5, 124740.0, 19.7, 7.1, 0.0, 5.4, 2.1, 9.7, 820.0, 20.2, 1700.0, -6.3, -9.1, 46.4, 21.2, 1879.4, 9.9, 8.4, 2.7, 2180.0, 5.4, 4340.0, 4.3, 1.9, 45.0, 65.6, 0.8, 3170.0, 0.8, 3050.0, 92.7, 0.2, 0.8])\n",
    "\n",
    "ans_WV2 = grab_highlighted('WV.2.html')\n",
    "assert_equal(ans_WV2, [396.0, 70.0, 0.01, 189.0, 8.9, 29.0, 14.0, 0.01, 19.0, 22.3, 39.8, 9.4, 11.7, 140.0, 25.0, 0.01, 75.0, 1.6, 1.6, 8.0, 3.0, 7.0, 5.4, 477.0, 83.0, 0.17, 370.0, 9.0, 8.0, 4.8, 52.0, 11.0, 0.02, 25.0, 102.0, 0.5, 1.3, 8.4, 20.8, 25.0, 13.0, 0.02, 41.0, 4.4, 10.5, 12.0, 101.0, 7.3, 6.0, 4.0, 0.01, 6.0, 0.2, 0.3, 8.1, 4.0, 4.0, 8.0, 1.5, 1.7, 8.4, 18.0, 25.0, 31.0, 0.02, 69.0, 103.0, 26.0, 33.2, 80.0, 11.0, 18.0, 15.0, 8.0, 0.01, 18.0, 8.9, 36.4, 176.0, 34.0, 0.01, 225.0, 7.7, 27.0, 12.0, 0.11, 96.0, 9.3, 4.0, 4.0, 0.04, 55.0, 8.6, 7.0, 4.0, 9.0, 0.5, 1.4, 19.3, 28.0, 15.0, 0.13, 25.0, 6.1, 34.0, 405.0, 98.0, 0.06, 60.0, 0.5, 6.7, 33.6, 148.0, 32.0, 155.0, 99.0, 24.6, 48.2, 3.6, 206.0, 37.0, 0.02, 117.0, 8.5, 29.5, 7.3, 8.9, 11.0, 6.0, 37.0, 1.7, 7.9, 2.8, 129.0, 41.0, 0.93, 356.0, 100.0, 3.6, 3.9, 3.6, 44.0, 15.0, 0.04, 41.0, 1.9, 4.1, 23.0, 10.0, 58.0, 6.0, 11.0, 8.0, 0.01, 24.0, 0.4, 0.9, 8.3, 35.1, 371.0, 85.0, 0.03, 52.0, 6.6, 57.5, 712.0, 72.0, 0.03, 122.0, 5.0, 42.0, 21.0, 0.05, 139.0, 33.5, 161.0, 31.0, 0.01, 380.0, 5.2, 6.1, 4.5, 31.7, 596.0, 80.0, 0.23, 212.0, 6.6, 7.0, 5.0, 5.0, 0.1, 0.2, 13.0, 0.1, 0.1, 3.3, 40.7, 882.0, 124.0, 0.32, 391.0, 44.0, 4.9, 39.9, 856.0, 127.0, 0.06, 152.0, 38.0, 5.1, 1.8, 22.0, 8.0, 0.05, 16.0, 0.7, 1.9, 5.2, 9.4, 27.0, 10.0, 67.0, 71.0, 0.1, 0.6, 72.0, 0.1, 0.6, 3.4, 12.7, 64.0, 15.0, 0.02, 31.0, 2.3, 6.3, 4.5, 32.1, 335.0, 73.0, 0.01, 35.0, 76.0, 5.5, 42.6, 693.0, 94.0, 0.03, 324.0, 67.0, 4.2, 21.2, 442.0, 54.0, 0.28, 379.0, 74.0, 4.2, 25.0, 9.0, 0.03, 11.0, 1.6, 4.0, 5.1, 29.6, 645.0, 92.0, 0.13, 159.0, 14.7, 30.0, 7.1, 8.0, 5.0, 0.01, 13.0, 1.1, 2.8, 39.0, 6.0, 0.06, 7.0, 4.0, 7.6, 7.0, 3.0, 6.0, 97.0, 1.2, 1.4, 9.7, 4.0, 3.0, 0.01, 5.0, 0.3, 1.0, 9.1, 6.0, 4.0, 6.0, 0.3, 0.3, 4.9, 33.5, 229.0, 64.0, 0.09, 378.0, 34.0, 11.0, 5.1, 7.1, 92.0, 31.0, 0.04, 60.0, 1.0, 2.0, 4.8, 25.2, 64.0, 21.0, 0.02, 52.0, 4.9, 15.5, 9.5, 22.3, 33.0, 23.0, 0.01, 15.0, 104.0, 5.7, 40.1, 5.7, 14.0, 54.0, 15.0, 0.03, 43.0, 7.1, 8.5, 26.2, 342.0, 91.0, 0.49, 172.0, 50.3, 501.0, 45.0, 0.02, 65.0, 7.0, 9.0, 3.0, 18.0, 0.1, 0.2, 8.0, 40.4, 353.0, 58.0, 0.05, 192.0, 6.2, 13.4, 7.6, 30.0, 22.0, 0.02, 51.0, 9.4, 3.0, 2.0, 6.0, 0.6, 0.4, 8.0, 8.0, 4.0, 0.02, 8.0, 0.1, 0.6, 19.0, 5.8, 17.5, 291.0, 47.0, 0.14, 465.0, 4.8, 25.0, 706.0, 65.0, 0.12, 174.0, 0.4, 0.2, 5.6, 36.0, 11.0, 0.05, 99.0, 13.6, 33.8, 8.1, 6.0, 4.0, 8.0, 0.2, 0.6, 5.4, 18.7, 319.0, 59.0, 0.12, 160.0, 16.4, 27.9, 5.9, 3.0, 4.0, 5.0, 96.0, 3.0, 6.3, 164.0, 27.0, 16.0, 5.0, 89.0, 51.0, 4.4, 46.5, 88.0, 29.0, 0.03, 25.0, 11.4, 17.6, 7.6, 35.8, 679.0, 89.0, 0.1, 177.0, 62.0, 4.5, 27.6, 549.0, 88.0, 0.12, 373.0, 12.0, 229.0, 32.0, 0.14, 93.0, 84.0, 5.6, 21.9, 359.0, 67.0, 0.13, 194.0, 3.5, 22.7, 129.0, 19.0, 0.02, 43.0, 12.6, 14.3, 7.6, 17.0, 5.0, 9.0, 0.3, 0.3, 9.7, 3.0, 2.0, 2.0, 97.0, 0.0, 0.0, 8.3, 38.7, 174.0, 43.0, 0.01, 217.0, 98.0, 7.2, 36.4, 126.0, 26.0, 0.03, 395.0, 5.7, 28.0, 6.3, 25.0, 15.0, 0.01, 16.0, 2.4, 19.9, 8.8, 22.6, 50.0, 31.0, 43.0, 7.9, 8.0, 4.0, 0.01, 7.0, 0.6, 0.9, 4.7, 5.0, 4.0, 4.0, 0.1, 0.1, 6.2, 4.0, 3.0, 0.01, 6.0, 1.0, 1.9, 5.3, 5.7, 89.0, 15.0, 0.11, 5.0, 7.4, 7.1, 5.0, 3.0, 17.0, 102.0, 0.8, 4.8, 8.2, 7.8, 58.0, 18.0, 0.01, 7.0, 91.0, 10.0, 13.1, 12.0, 11.0, 0.03, 89.0, 0.1, 0.1, 4.7, 26.0, 510.0, 49.0, 0.25, 233.0, 6.6, 90.0, 54.0, 551.0, 112.0, 27.9, 82.0, 20.0, 561.0, 7.3, 2.5, 11.0, 3.0, 80.0, 1.0, 9.8, 9.4, 8.1, 6.8, 5.8, 4.0, 8.0, 0.01, 22.0, 103.0, 10.0, 12.9, 76.0, 21.0, 0.02, 144.0, 4.7, 17.1, 7.6, 43.8, 197.0, 64.0, 0.02, 182.0, 6.6, 18.0, 5.0, 0.05, 41.0, 1.0, 0.6, 7.8, 15.0, 8.0, 0.01, 13.0, 2.8, 33.2, 487.0, 94.0, 2.27, 788.0, 7.8, 32.1, 725.0, 67.0, 0.11, 308.0, 59.0, 9.0, 13.0, 40.0, 106.0, 6.0, 10.0, 5.0, 0.02, 56.0, 0.9, 1.4, 7.9, 10.0, 2.0, 0.03, 6.0, 79.0, 0.6, 1.0, 5.3, 4.9, 8.0, 12.0, 0.01, 13.0, 5.1, 12.3, 5.7, 353.0, 46.0, 0.03, 236.0, 23.5, 59.4, 5.4, 42.4, 634.0, 55.0, 0.41, 193.0, 79.0, 4.6, 40.0, 8.0, 0.03, 89.0, 2.2, 8.2, 6.4, 68.0, 9.0, 53.0, 92.0, 8.0, 587.0, 111.0, 0.05, 57.0, 9.0, 7.0, 0.01, 9.0, 0.0, 0.0, 35.0, 344.0, 7.6, 22.0, 602.0, 81.0, 0.02, 107.0, 7.4, 53.0, 14.0, 22.0, 1.0, 4.7, 5.1, 13.6, 38.0, 15.0, 0.02, 21.0, 105.0, 3.9, 7.9, 5.5, 100.0, 33.0, 124.0, 9.7, 6.4, 23.0, 16.0, 0.07, 152.0, 91.0, 2.2, 5.4, 3.0, 8.1, 10.8, 44.0, 18.0, 0.01, 428.0, 0.8, 3.1, 8.5, 9.4, 7.0, 4.0, 0.02, 21.0, 1.8, 3.3, 6.5, 14.9, 121.0, 27.0, 0.01, 107.0, 12.5, 47.3, 5.2, 43.1, 489.0, 71.0, 0.66, 551.0, 178.0, 51.0, 0.04, 365.0, 85.0, 3.3, 23.1, 265.0, 45.0, 0.78, 489.0, 86.0, 3.8, 5.5, 8.3, 37.4, 258.0, 35.0, 0.01, 156.0, 8.8, 7.0, 4.0, 0.01, 6.0, 0.3, 0.9, 24.0, 11.0, 5.0, 7.0, 0.7, 1.1, 5.0, 150.0, 20.0, 0.01, 51.0, 7.8, 43.0, 553.0, 91.0, 0.02, 95.0, 5.4, 32.9, 814.0, 104.0, 0.2, 322.0, 58.0, 9.1, 5.0, 3.0, 6.0, 0.2, 0.2, 14.1, 17.0, 11.0, 8.0, 9.2, 45.0, 178.0, 79.0, 0.02, 270.0, 16.0, 76.0, 3.4, 94.0, 16.0, 0.06, 50.0, 100.0, 3.3, 6.5, 5.1, 49.5, 215.0, 54.0, 0.06, 432.0, 79.0, 3.8, 10.9, 132.0, 20.0, 0.03, 41.0, 89.0, 6.5, 11.9, 4.6, 14.6, 68.0, 15.0, 0.02, 119.0, 5.8, 17.8, 6.1, 30.3, 114.0, 27.0, 0.02, 322.0, 101.0, 7.2, 14.2, 8.0, 3.0, 5.0, 19.0, 98.0, 1.9, 4.2, 6.5, 10.0, 4.0, 23.0, 0.4, 0.6, 14.0, 2.0, 13.0, 9.0, 0.01, 34.0, 0.1, 0.0, 8.9, 31.0, 9.0, 0.01, 84.0, 5.5, 14.9, 6.6, 25.0, 8.0, 80.0, 0.4, 0.4, 5.2, 44.3, 290.0, 39.0, 0.13, 56.0, 5.9, 12.4, 6.4, 51.0, 17.0, 11.0, 0.8, 2.8, 3.0, 3.0, 95.0, 8.4, 17.2, 156.0, 34.0, 97.0, 83.0, 12.0, 13.0, 0.01, 12.0, 0.0, 0.0, 6.1, 19.4, 315.0, 47.0, 0.01, 139.0, 8.6, 6.0, 17.0, 6.0, 0.01, 21.0, 101.0, 4.3, 13.2, 5.4, 7.9, 14.0, 10.0, 0.1, 0.3, 7.9, 37.9, 1360.0, 114.0, 0.15, 307.0, 10.0, 3.0, 44.0, 0.3, 0.5, 6.0, 8.4, 6.0, 6.0, 0.01, 7.0, 0.1, 0.3, 9.4, 9.0, 2.0, 0.01, 7.0, 99.0, 2.9, 5.4, 7.0, 114.0, 26.0, 89.0, 732.0, 133.0, 0.03, 274.0, 2.5, 138.0, 43.0, 0.99, 834.0, 0.4, 0.8, 3.9, 31.1, 789.0, 91.0, 0.23, 146.0, 5.7, 5.0, 3.0, 0.02, 12.0, 0.4, 0.7, 7.1, 14.7, 30.0, 9.0, 0.01, 65.0, 2.9, 20.6, 9.0, 5.0, 2.5, 48.0, 13.0, 9.0, 45.0, 17.0, 7.0, 6.8, 38.2, 311.0, 65.0, 0.02, 88.0, 57.0, 8.8, 155.0, 20.0, 0.11, 33.0, 0.6, 1.6, 4.0, 25.5, 389.0, 70.0, 1.66, 565.0, 79.0, 9.0, 4.0, 3.0, 0.01, 9.0, 0.2, 0.3, 7.9, 5.0, 4.0, 7.0, 1.4, 2.4, 7.7, 68.0, 18.0, 20.0, 69.0, 8.8, 26.8, 32.0, 43.0, 0.03, 87.0, 7.4, 34.8, 398.0, 57.0, 0.21, 306.0, 74.0, 21.1, 50.3, 6.9, 16.3, 20.0, 12.0, 0.02, 172.0, 12.6, 26.7, 9.1, 50.2, 215.0, 50.0, 498.0, 4.8, 27.5, 368.0, 76.0, 0.1, 52.0, 6.7, 8.1, 124.0, 16.0, 15.0, 111.0, 63.0, 19.0, 0.05, 17.0, 0.1, 0.6, 6.7, 10.1, 62.0, 14.0, 0.01, 37.0, 100.0, 3.5, 6.9, 5.8, 9.5, 16.0, 13.0, 18.0, 4.5, 28.2, 42.0, 51.0, 70.0, 7.0, 6.6, 25.0, 232.0, 98.0, 6.4, 33.7, 343.0, 53.0, 0.3, 202.0, 22.8, 30.2, 10.4, 24.0, 9.0, 0.07, 91.0, 110.0, 0.2, 0.3, 6.0, 8.0, 2.0, 7.3, 9.0, 4.0, 10.0, 0.3, 0.4, 5.1, 2.1, 14.0, 7.0, 0.02, 3.0, 0.1, 0.1, 5.2, 11.7, 15.0, 9.0, 0.03, 30.0, 103.0, 0.6, 1.5, 7.4, 36.0, 24.0, 79.0, 6.8, 28.5, 78.0, 28.0, 63.0, 94.0, 3.2, 95.0, 16.0, 0.04, 29.0, 0.4, 0.9, 7.1, 23.3, 54.0, 22.0, 0.02, 137.0, 11.4, 23.3, 8.0, 7.7, 7.4, 45.0, 19.0, 1.0, 4.7, 17.0, 7.3, 46.8, 385.0, 55.0, 0.01, 48.0, 69.0, 3.8, 40.0, 224.0, 63.0, 0.73, 391.0, 81.0, 5.8, 27.6, 443.0, 56.0, 0.54, 242.0, 90.0, 1.2, 1.8, 22.9, 216.0, 41.0, 0.04, 142.0, 90.0, 12.2, 136.0, 98.0, 36.0, 99.0, 11.0, 40.0, 100.0, 2.0, 5.4, 15.4, 34.0, 94.0, 2.3, 0.02, 3.0, 35.8, 182.0, 48.0, 220.0, 91.0, 34.1, 276.0, 69.0, 36.2, 496.0, 73.0, 232.0, 66.0, 32.0, 254.0, 51.0, 228.0, 92.0, 6.9, 41.0, 14.0, 81.0, 2.5, 10.0, 5.0, 12.0, 99.0])\n",
    "\n",
    "\n",
    "ans_WV3 = grab_highlighted('WV.3.htm')\n",
    "assert_equal(ans_WV3, [6.6, 10.6, 66.4, 42.9, 97.9, 13.0, 11.2, 73.0, 70.2, 62.0, 93.5, 2.2, 88.2, 84.3, 2.5, 78.2, 29.8, 80.0, 8.5, 98.0, 18.2, -11.9, 79.5, 3.6, 71.1, 86.5, 34.4, 44.6, 3.7, 12.0, 98.0, 2.7, 41.8, 12.4, 39.7, 69.3, 0.5, 39.4, 59.7, 0.5, 75.0, 59.8, 5.2, 0.7, 14.0, 0.1, -6.7, 4.0, 5.2, 0.1, 11.1, 48.2, 0.1, 4.6, 25.6, -7.4, 25.0, 89.8, 79.0, 4.0, 5.0, 3.6, 66.0, 0.7, 53.2, 87.3, 81.6, 58.1, 1.6, 7.9, 6.2, 8.1, 66.0, 10.1, 26.5, 72.7, 38.8, 61.9, 75.9, 4.7, 76.5, 97.0, 13.1, 67.0, 17.4, 61.3, 8.2, 54.1, 39.2, 29.0, 23.8, 0.1, 1.2, 87.2, 0.6, 8.6, 15.4, 95.1, 3.0, 46.5, 87.7, 85.6, 68.4, 48.1, 0.1, -1.6, 18.5, 2.7, 50.0, 89.6, 34.7, 69.1, 68.5, 7.5, 55.9, 77.0, 0.0, 31.2, 34.5, -55.4, 9.8, -18.1, 3.8, 35.7, 10.0, 12.2, 30.0, 1.5, 79.3, 98.2, 0.6, 3.2, 29.5, 0.1, 0.5, 25.4, 0.3, 53.2, 6.8, 21.2, 82.2, 79.8, 61.3, 45.0, 0.3, 92.0, 2.0, 62.3, 9.7, 76.8, -10.8, 26.0, 7.5, 13.7, 0.7, 92.7, 0.3, 1.8, 78.4, 34.5, -10.3, 21.9, 79.9, 76.1, 0.1, 27.4, -35.9, 3.2, 7.3, 20.3, 98.1, 74.4, 0.7, 97.5, 5.2, 1.6, 72.2, -3.4, 4.7, 1.8, 9.6, 78.8, 0.9, 59.1, -8.0, 11.1, 77.3, 4.7, 29.8, -9.0, 18.0, 0.2, 53.2, 59.5, 33.4, 3.2, 71.0, 95.2, 22.3, 69.9, 1.0, 58.3, 0.3, 17.5, 25.1, 16.9, 31.0, 2.3, 19.7, 90.4, 1.2, 11.8, 0.9, 88.5, 11.5, 24.6, 7.5, 4.5, 4.3, 25.7, 0.6, 97.3, 69.8, 0.2, 7.8, 15.5, 3.1, 0.1, 30.9, 54.0, 9.6, 51.3, 45.5, 0.1, 9.8, 55.5, 73.3, 70.4, 0.4, 80.3, 0.5, 94.3, 59.5, 76.4, -0.2, 4.5, 20.0, 3.2, 29.4, 28.0, 0.8, 73.8, 5.6, 25.7, -2.9, 67.1, 56.5, -9.4, 11.8, 81.0, 80.5, 75.5, 11.0, 1.9, 0.7, 54.0, 13.7, 6.7, 80.6, 0.1, 2.9, 32.1, 33.6, 76.8, 5.5, 21.6, 46.7, -17.3, 25.6, 55.6, 0.3, 28.0, 45.4, 14.4, 8.2, 28.6, 91.5, 3.0, 89.4, 31.9, -6.5, 1.4, 20.5, 0.5, 13.0, 47.5, 25.2, -23.2, 11.3, 15.4, 1.0, 40.0, 73.3, 3.1, 50.9, 4.3, 58.3, 18.0, 20.3, 46.0, -5.2, 11.8, 21.9, 52.5, 90.6, 0.9, 94.8, 76.2, 66.4, 51.2, 46.8, 24.3, 24.0, 17.1, 60.0, 0.4, 46.5, 59.6, 0.5, 0.6, 0.6, 61.2, 6.7, 24.6, 25.5, 6.7, 23.1, 0.9, 0.6, -4.0])\n",
    "\n",
    "ans_WV5 = grab_highlighted('WV.5.htm')\n",
    "assert_equal(ans_WV5, [34.8, 15.8, 3.8, 2.2, 9.6, 39.8, 42.6, 12.5, 2.5, 60.9, 40.1, 34.5, 40.8, 56.6, 21.3, 71.5, 79.9, 38.0, 7.2, 57.3, 57.1, 25.3, 86.0, 92.5, 80.5, 84.5, 79.1, 87.4, 79.6, 84.2, 84.7, 89.6, 11.0, 32.6, 25.9, 36.7, 27.4, 4.5, 86.7, 81.9, 58.3, 90.2, 66.7, 98.0, 97.5, 58.6, 26.5, 49.2, 12.7, 10.7, 78.4, 88.2, 43.5, 3.2, 43.6, 78.8, 83.9, 81.3, 88.9, 25.9, 71.3, 78.4, 30.4, 31.9, 12.5, 4.0, 36.7, 77.3, 84.9, 78.2, 86.7, 25.8, 36.8, 15.9, 43.3, 40.4, 32.1, 41.3, 3.5, 74.3, 78.2, 27.2, 68.2, 68.7, 55.3, 64.5, 71.5, 71.1, 78.0, 85.1, 91.2, 39.0, 51.6, 20.4, 44.0, 18.5, 49.1, 39.3, 46.2, 38.4, 28.6, 11.2, 39.7, 99.0, 99.2, 81.4, 88.3, 89.0, 95.9, 67.9, 53.3, 66.9, 11.7, 4.0, 73.7, 65.1, 29.6, 64.2, 87.5, 94.7, 91.0, 95.8, 23.4, 48.1, 50.3, 35.3, 31.6, 37.3, 13.3, 8.5, 15.1, 32.6, 21.2, 74.0, 80.7, 43.5, 33.2, 25.2, 8.6, 24.4, 81.6, 87.8, 32.1, 26.0, 53.3, 77.9, 81.9, 88.4, 76.4, 82.7, 79.1, 87.2, 30.8, 79.1, 83.2, 88.2, 94.1, 22.3, 41.0, 36.5, 47.0, 70.2, 30.0, 61.4, 48.4, 24.1, 17.4, 65.3, 51.6, 16.1, 62.4, 41.4, 38.4, 29.5, 40.7, 72.4, 82.1, 88.0, 93.4, 35.8, 41.0, 50.3, 45.7, 36.2, 78.8, 84.1, 81.3, 90.5, 79.5, 86.0, 85.0, 91.6, 21.9, 69.1, 59.5, 30.4, 30.6, 14.6, 14.0, 39.6, 39.8, 42.8, 41.8, 33.9, 11.0, 78.7, 83.6, 86.6, 92.3, 20.7, 32.5, 13.2, 31.6, 79.1, 84.2, 61.1, 70.4, 57.3, 29.5, 42.7, 47.0, 44.2, 51.7, 9.0, 22.0, 23.0, 58.3, 17.5, 33.6, 49.2, 42.2, 43.3, 72.4, 79.7, 86.6, 91.8, 47.1, 81.3, 84.5, 84.1, 92.5, 62.5, 42.6, 10.7, 13.6, 40.3, 35.9, 22.1, 17.0, 55.8, 56.0, 24.3, 6.8, 79.6, 83.5, 75.3, 91.8, 89.9, 90.0, 84.2, 91.0, 27.3, 81.1, 86.0, 71.3, 81.7, 7.9, 38.2, 87.8, 90.4, 8.4, 15.7, 6.1, 71.7, 74.3, 28.3, 22.9, 48.7, 20.3, 40.1, 41.0, 79.0, 85.5, 71.6, 75.4, 68.5, 79.3, 11.1, 79.3, 64.0, 11.6, 54.0, 57.3, 49.4, 35.4, 20.4, 10.9, 43.1, 69.1, 79.4, 84.2, 90.5, 36.3, 6.1, 62.4, 32.9, 43.5, 17.3, 39.1, 35.9, 27.3, 8.6, 81.0, 83.2, 69.9, 80.6, 85.4, 90.0, 35.8, 79.4, 85.2, 89.2, 90.8, 6.9, 70.7, 78.7, 30.0, 41.2, 6.0, 5.5, 13.0, 8.0, 41.6, 46.3, 28.1, 74.5, 72.9, 25.4, 3.9, 63.9, 67.7, 59.6, 16.1, 10.5, 15.3, 79.8, 84.2, 81.7, 93.0, 34.3, 15.0, 71.1, 77.8, 76.1, 83.9, 22.9, 68.9, 67.4, 25.7, 12.2, 16.4, 19.0, 60.1, 70.8, 47.3, 4.7, 47.1, 51.6, 37.8, 4.5, 74.6, 84.5, 23.9, 47.1, 33.9, 31.3, 48.2, 28.6, 17.1, 27.3, 6.9, 72.4, 54.8, 41.0, 36.6, 21.8, 80.0, 83.5, 80.2, 86.6, 74.7, 81.0, 79.7, 83.3, 78.8, 85.5, 61.9, 76.3, 4.4, 2.5, 42.8, 54.3, 33.6, 16.2, 80.1, 84.2, 90.9, 95.4, 96.5, 95.3, 21.0, 14.2, 3.0, 11.8, 26.4, 65.1, 70.7, 24.7, 46.5, 56.1, 55.4, 51.6, 18.6, 53.1, 39.3, 28.7, 15.0, 60.8, 56.9, 69.2, 74.4, 82.2, 75.8, 82.4, 40.4, 78.4, 84.8, 78.1, 86.6, 76.6, 92.1, 4.2, 99.6, 99.6, 71.4, 78.7, 70.1, 72.2, 47.0, 65.5, 76.6, 91.9, 93.7, 28.5, 6.8, 24.6, 11.5, 42.7, 10.8, 64.6, 63.2, 89.1, 93.5, 34.4, 75.3, 61.1, 94.6, 98.6, 32.3, 16.0, 8.2, 28.6, 13.9, 22.9, 73.0, 78.1, 3.2, 65.8, 75.3, 29.8, 68.4, 78.3, 75.1, 91.8, 38.9, 96.6, 96.1, 82.0, 90.8, 73.7, 80.9, 81.0, 89.7, 29.7, 78.2, 84.1, 81.0, 86.5, 34.5, 47.4, 9.6, 6.0, 83.5, 87.9, 51.5, 21.9, 80.6, 86.3, 79.5, 87.2, 57.3, 54.7, 26.1, 57.8, 7.5, 32.1, 76.0, 32.9, 20.2, 10.0, 8.2, 18.8, 3.8, 1.6, 18.3, 6.5, 36.0, 80.6, 84.6, 86.1, 93.8, 52.5, 81.1, 85.4, 84.0, 87.8, 59.7, 83.0, 11.6, 32.7, 31.1, 17.4, 9.3, 24.7, 22.1, 46.0, 45.2, 64.4, 1.0, 18.9, 32.2, 20.3, 64.4, 21.8, 25.3, 5.6, 71.7, 84.3, 45.1, 1.6, 68.6, 80.2, 49.5, 14.7, 69.4, 61.8, 25.4, 39.7, 26.1, 13.4, 26.6, 9.1, 54.0, 51.7, 82.2, 86.2, 31.5, 89.8, 66.3, 79.8, 83.5, 80.7, 89.3, 76.4, 81.2, 92.5, 94.8, 24.6, 70.5, 76.1, 23.1, 29.2, 21.4, 56.5, 63.5, 30.7, 10.6, 29.8, 31.9, 44.1, 34.3, 51.1, 15.3, 27.3, 21.2, 69.1, 66.9, 12.6, 31.9, 11.4, 1.7, 6.6, 31.4, 49.8, 32.4, 32.4, 16.9, 42.5, 64.1, 57.4, 34.3, 46.9, 80.2, 85.9, 32.5, 63.8, 66.9, 39.7, 23.2, 91.4, 94.1, 53.9, 36.8, 18.4, 32.7, 25.4, 19.3, 28.3, 48.1, 35.5, 34.1, 73.5, 67.3, 35.7, 90.8, 90.5, 85.8, 90.4, 38.2])"
   ]
  },
  {
   "cell_type": "code",
   "execution_count": null,
   "metadata": {},
   "outputs": [],
   "source": []
  }
 ],
 "metadata": {
  "kernelspec": {
   "display_name": "Python 3",
   "language": "python",
   "name": "python3"
  },
  "language_info": {
   "codemirror_mode": {
    "name": "ipython",
    "version": 3
   },
   "file_extension": ".py",
   "mimetype": "text/x-python",
   "name": "python",
   "nbconvert_exporter": "python",
   "pygments_lexer": "ipython3",
   "version": "3.6.1"
  }
 },
 "nbformat": 4,
 "nbformat_minor": 2
}
