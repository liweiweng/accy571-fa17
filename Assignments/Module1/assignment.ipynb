{
 "cells": [
  {
   "cell_type": "markdown",
   "metadata": {},
   "source": [
    "# Module 1 Assignment\n",
    "\n",
    "A few things you should keep in mind when working on assignments:\n",
    "\n",
    "1. Make sure you fill in any place that says `YOUR CODE HERE`. Do **not** write your answer in anywhere else other than where it says `YOUR CODE HERE`. Anything you write anywhere else will be removed or overwritten by the autograder.\n",
    "\n",
    "2. Before you submit your assignment, make sure everything runs as expected. Go to menubar, select _Kernel_, and restart the kernel and run all cells (_Restart & Run all_).\n",
    "\n",
    "3. Do not change the title (i.e. file name) of this notebook.\n",
    "\n",
    "4. Make sure that you save your work (in the menubar, select _File_ → _Save and CheckPoint_)\n",
    "\n",
    "5. You are allowed to submit an assignment multiple times, but only the most recent submission will be graded."
   ]
  },
  {
   "cell_type": "code",
   "execution_count": null,
   "metadata": {
    "deletable": false,
    "editable": false,
    "nbgrader": {
     "checksum": "d2a92b3e5c61053348eae2ca410a3780",
     "grade": false,
     "grade_id": "cell-e72d9ddd2f8302a5",
     "locked": true,
     "schema_version": 1,
     "solution": false
    }
   },
   "outputs": [],
   "source": [
    "from nose.tools import assert_equal, assert_almost_equal, assert_is_instance\n",
    "import numpy as np\n",
    "from pprint import pprint\n",
    "from collections import Counter\n",
    "import csv, json, helper\n",
    "import xml.etree.ElementTree as ET"
   ]
  },
  {
   "cell_type": "markdown",
   "metadata": {},
   "source": [
    "Load in the cars datafile"
   ]
  },
  {
   "cell_type": "code",
   "execution_count": null,
   "metadata": {
    "deletable": false,
    "editable": false,
    "nbgrader": {
     "checksum": "67de9c34ba8be8eac5892c2734c5ba09",
     "grade": false,
     "grade_id": "cell-585dd4ec5dc31bd2",
     "locked": true,
     "schema_version": 1,
     "solution": false
    }
   },
   "outputs": [],
   "source": [
    "data_file = \"./imports-85.data\""
   ]
  },
  {
   "cell_type": "markdown",
   "metadata": {},
   "source": [
    "# Problem 1: Write a function that reads in a text file and returns the column names.\n",
    "\n",
    "Write a function called \"get_names\" which takes in a comma separate file as an input and outputs a list containing the data in the file, and also returns the header of the file, containing all the column names."
   ]
  },
  {
   "cell_type": "code",
   "execution_count": null,
   "metadata": {
    "deletable": false,
    "nbgrader": {
     "checksum": "ffba26a71833948faebee382bbb25b1e",
     "grade": false,
     "grade_id": "cell-f7463603e5fea09c",
     "locked": false,
     "schema_version": 1,
     "solution": true
    }
   },
   "outputs": [],
   "source": [
    "def get_names(file):\n",
    "    \n",
    "    '''\n",
    "    Inputs\n",
    "    --------\n",
    "    file: the file to be read\n",
    "    \n",
    "    Returns\n",
    "    -------\n",
    "    car_data: a list contaning all the data from the file\n",
    "    header: the header of the datafile\n",
    " \n",
    "    '''\n",
    "    \n",
    "    # YOUR CODE HERE\n",
    "        \n",
    "    return car_data, header\n",
    "    "
   ]
  },
  {
   "cell_type": "code",
   "execution_count": null,
   "metadata": {
    "deletable": false,
    "editable": false,
    "nbgrader": {
     "checksum": "c96d26d244367180f065f1b96d639ec8",
     "grade": true,
     "grade_id": "cell-3ef73391403401dc",
     "locked": true,
     "points": 1,
     "schema_version": 1,
     "solution": false
    }
   },
   "outputs": [],
   "source": [
    "data, col_names = get_names(data_file)\n",
    "\n",
    "true_names = ['symboling', 'normalized-losses', 'make',\n",
    "              'fuel-type', 'aspiration', 'num-of-doors', 'body-style', 'drive-wheels', \"'engine-location'\",\n",
    "              'wheel-base', 'length', 'width', 'height', 'curb-weight', 'engine-type', 'num-of-cylinders',\n",
    "              'engine-size', 'fuel-system', 'bore', 'stroke', \"compression-ratio'\", 'horsepower', 'peak-rpm',\n",
    "              'city-mpg', 'highway', 'price']\n",
    "\n",
    "\n",
    "assert_equal(true_names,col_names)\n",
    "assert_is_instance(data,list)\n",
    "assert_equal(data[1][0],'3')"
   ]
  },
  {
   "cell_type": "markdown",
   "metadata": {},
   "source": [
    "# Problem 2: Reading in JSON\n",
    "For this problem write a function called read_json, that accepts 1 parameter. This parameter will contain the file path to a json dataset about projects that the world bank has funded. Your task is to:\n",
    "- Read the first line in the dataset\n",
    "- Use python's [json](https://docs.python.org/3/library/json.html) library to decode the json.\n",
    "- Lastly return the decoded json (this should have the type of a dictionary if done correctly)"
   ]
  },
  {
   "cell_type": "code",
   "execution_count": null,
   "metadata": {
    "deletable": false,
    "nbgrader": {
     "checksum": "1f22d44dffaed3eacbc8885d34a80877",
     "grade": false,
     "grade_id": "cell-13521609cdadce80",
     "locked": false,
     "schema_version": 1,
     "solution": true
    }
   },
   "outputs": [],
   "source": [
    "# YOUR CODE HERE"
   ]
  },
  {
   "cell_type": "code",
   "execution_count": null,
   "metadata": {
    "deletable": false,
    "editable": false,
    "nbgrader": {
     "checksum": "d15dd20991c75cabc4d6dd54425a0d3d",
     "grade": true,
     "grade_id": "cell-2cc5041c33116c85",
     "locked": true,
     "points": 1,
     "schema_version": 1,
     "solution": false
    }
   },
   "outputs": [],
   "source": [
    "_file = './world_bank.json'\n",
    "data = read_json(_file)\n",
    "assert_equal(type(helper.json_l3), type(data), msg=\"You did not decode the data correctly\")\n",
    "assert_equal(helper.json_l3, data, \"You data does not match the solutions\")"
   ]
  },
  {
   "cell_type": "code",
   "execution_count": null,
   "metadata": {
    "deletable": false,
    "editable": false,
    "nbgrader": {
     "checksum": "a7b96547f415aca3a0b163a10a5b1992",
     "grade": false,
     "grade_id": "cell-16957b6b5c382da9",
     "locked": true,
     "schema_version": 1,
     "solution": false
    }
   },
   "outputs": [],
   "source": [
    "world_bank_names = []"
   ]
  },
  {
   "cell_type": "markdown",
   "metadata": {},
   "source": [
    "# Problem 3: Grabbing project names from the world bank.\n",
    "For this problem grab the names of each project funded by the world bank and append it to a list called world_bank_names. Remember that the data is stored in a variable called data."
   ]
  },
  {
   "cell_type": "code",
   "execution_count": null,
   "metadata": {
    "deletable": false,
    "nbgrader": {
     "checksum": "1bc2a442874fb7c7fbb2dae5bfc0328b",
     "grade": false,
     "grade_id": "cell-17fa2dd7ddfeca0a",
     "locked": false,
     "schema_version": 1,
     "solution": true
    }
   },
   "outputs": [],
   "source": [
    "# YOUR CODE HERE"
   ]
  },
  {
   "cell_type": "code",
   "execution_count": null,
   "metadata": {
    "deletable": false,
    "editable": false,
    "nbgrader": {
     "checksum": "bcc8f81fa529b4dab41a6d31d89b2789",
     "grade": true,
     "grade_id": "cell-afb5e85f6e7f0adc",
     "locked": true,
     "points": 1,
     "schema_version": 1,
     "solution": false
    }
   },
   "outputs": [],
   "source": [
    "assert_equal(world_bank_names, ['World Development Indicators',\n",
    " 'Africa Development Indicators',\n",
    " 'Global Economic Monitor',\n",
    " 'Research Datasets and Analytical Tools',\n",
    " 'Millennium Development Goals',\n",
    " 'GovData360',\n",
    " 'Data on Statistical Capacity',\n",
    " 'Doing Business',\n",
    " 'Education Statistics',\n",
    " 'Enterprise Surveys'])"
   ]
  },
  {
   "cell_type": "markdown",
   "metadata": {},
   "source": [
    "# Problem 4: Working with XML\n",
    "For this problem write a function called book_xml that accepts 1 parameter. This parameter will contain the file path to a xml dataset about books. (I suggest you take a look at books.xml *be sure not to modify this file or you may fail the assertion test*). Your task is to:\n",
    "- Read in the xml file using python's [ElementTree](https://docs.python.org/3/library/xml.etree.elementtree.html)s XML documentation.\n",
    "- Grab the root node of the tree.\n",
    "- Next iterate through the children of the root node and append the **title** of each book to a list. Return this list."
   ]
  },
  {
   "cell_type": "code",
   "execution_count": null,
   "metadata": {
    "deletable": false,
    "nbgrader": {
     "checksum": "3c98eb1400447c054b381da18b9e4281",
     "grade": false,
     "grade_id": "cell-f401375361368483",
     "locked": false,
     "schema_version": 1,
     "solution": true
    }
   },
   "outputs": [],
   "source": [
    "# YOUR CODE HERE"
   ]
  },
  {
   "cell_type": "code",
   "execution_count": null,
   "metadata": {
    "deletable": false,
    "editable": false,
    "nbgrader": {
     "checksum": "827ac40d41e4798ba1a5c5b75d7a828c",
     "grade": true,
     "grade_id": "cell-e2d767c2d829b65e",
     "locked": true,
     "points": 1,
     "schema_version": 1,
     "solution": false
    }
   },
   "outputs": [],
   "source": [
    "book_titles = book_xml('books.xml')\n",
    "assert_equal(book_titles, [\"XML Developer's Guide\", 'Midnight Rain', 'Maeve Ascendant', \"Oberon's Legacy\", 'The Sundered Grail', 'Lover Birds', 'Splish Splash', 'Creepy Crawlies', 'Paradox Lost', 'Microsoft .NET: The Programming Bible', 'MSXML3: A Comprehensive Guide', 'Visual Studio 7: A Comprehensive Guide'])"
   ]
  },
  {
   "cell_type": "markdown",
   "metadata": {},
   "source": [
    "# Problem 5: Finding the most common author.\n",
    "For this problem write a function called most_common_author that accepts 1 parameter. This parameter will contain the file path to a xml dataset about books. (I suggest you take a look at books.xml *be sure not to modify this file or you may fail the assertion test*). Your task is to:\n",
    "- Read in the xml file using python's [ElementTree](https://docs.python.org/3/library/xml.etree.elementtree.html)s XML documentation.\n",
    "- Grab the root node of the tree.\n",
    "- Next iterate through the children of the root node and append the **author** of each book to a list.\n",
    "- Now iterate through the list of the authors and return the most common author (there are a lot of ways that you can do this. I recommend taking a look at the [Counter documentation](https://docs.python.org/3/library/collections.html#counter-objects) in the collections library's doc). Be sure that this generalizes to other xml datasets that have the same structure."
   ]
  },
  {
   "cell_type": "code",
   "execution_count": null,
   "metadata": {
    "deletable": false,
    "nbgrader": {
     "checksum": "251f4038d52249432ed049dd5bad352e",
     "grade": false,
     "grade_id": "cell-ca7648ef58ace751",
     "locked": false,
     "schema_version": 1,
     "solution": true
    }
   },
   "outputs": [],
   "source": [
    "# YOUR CODE HERE"
   ]
  },
  {
   "cell_type": "code",
   "execution_count": null,
   "metadata": {
    "deletable": false,
    "editable": false,
    "nbgrader": {
     "checksum": "f0fa6d50412a2dcfe337005bbf18cdff",
     "grade": true,
     "grade_id": "cell-1d1f2b95e5d9f27d",
     "locked": true,
     "points": 1,
     "schema_version": 1,
     "solution": false
    }
   },
   "outputs": [],
   "source": [
    "com_auth_1 = most_common_author('books.xml')\n",
    "assert_equal(com_auth_1, 'Corets, Eva')\n",
    "com_auth_2 = most_common_author('books1.xml')\n",
    "assert_equal(com_auth_2, 'Galos, Mike')\n"
   ]
  },
  {
   "cell_type": "code",
   "execution_count": null,
   "metadata": {},
   "outputs": [],
   "source": []
  }
 ],
 "metadata": {
  "kernelspec": {
   "display_name": "Python 3",
   "language": "python",
   "name": "python3"
  },
  "language_info": {
   "codemirror_mode": {
    "name": "ipython",
    "version": 3
   },
   "file_extension": ".py",
   "mimetype": "text/x-python",
   "name": "python",
   "nbconvert_exporter": "python",
   "pygments_lexer": "ipython3",
   "version": "3.6.1"
  }
 },
 "nbformat": 4,
 "nbformat_minor": 2
}
