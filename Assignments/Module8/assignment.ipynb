{
 "cells": [
  {
   "cell_type": "code",
   "execution_count": null,
   "metadata": {
    "deletable": false,
    "editable": false,
    "nbgrader": {
     "checksum": "eb9b8cd604029aaf6e99e7dc3cf63b53",
     "grade": false,
     "grade_id": "cell-fc1b1e6c58d625d8",
     "locked": true,
     "schema_version": 1,
     "solution": false
    }
   },
   "outputs": [],
   "source": [
    "import numpy as np\n",
    "from nose.tools import assert_equal, assert_is_instance\n",
    "import networkx as nx\n",
    "import matplotlib.pyplot as plt\n",
    "import seaborn as sns\n",
    "%matplotlib inline\n",
    "import matplotlib as mpl\n",
    "import warnings\n",
    "import tweepy as tw\n",
    "import os\n",
    "import string\n",
    "from itertools import combinations\n",
    "from collections import Counter\n",
    "import pandas as pd\n",
    "\n",
    "from nose.tools import assert_true, assert_equal, assert_list_equal\n",
    "warnings.filterwarnings('ignore')"
   ]
  },
  {
   "cell_type": "markdown",
   "metadata": {},
   "source": [
    "# Problem 1: Create and Draw a graph\n",
    "\n",
    "Make an undirected graph with an integer number of nodes, and edges connecting every even integer node to the next odd integer node. Start from zero (Zero is an even number). Furthermore, running the function should plot the graph using matplotlib. You should pass the matplotlib.Axes instance to the ax parameter in the drawing method used by networkx. Furthermore, set the $\\texttt{with_labels}$ parameter in the networkx graphing function to be $\\texttt{True}$."
   ]
  },
  {
   "cell_type": "code",
   "execution_count": null,
   "metadata": {
    "deletable": false,
    "nbgrader": {
     "checksum": "a82646294e7edba263f56b4afc5c3337",
     "grade": false,
     "grade_id": "cell-5f62be8bd82e31ea",
     "locked": false,
     "schema_version": 1,
     "solution": true
    }
   },
   "outputs": [],
   "source": [
    "def undirected_graph(num_nodes):\n",
    "    \"\"\"\n",
    "    Creates a directed graph with 20 integer nodes.\n",
    "    Every even interger node is connected to the next odd integer node.\n",
    "    \n",
    "    Paramters\n",
    "    ---------\n",
    "    num_nodes: the number of nodes to have in the graph\n",
    "    \n",
    "    Returns\n",
    "    -------\n",
    "    g: the networkx undirected graph\n",
    "    ax: the matplotlib axes object that is used to plot the graph\n",
    "    \"\"\"\n",
    "    \n",
    "    # YOUR CODE HERE\n",
    "    \n",
    "    return g, ax"
   ]
  },
  {
   "cell_type": "code",
   "execution_count": null,
   "metadata": {
    "deletable": false,
    "editable": false,
    "nbgrader": {
     "checksum": "8753612c22caf7e7f706602b9a38c6a8",
     "grade": false,
     "grade_id": "cell-ab009653fa015271",
     "locked": true,
     "schema_version": 1,
     "solution": false
    }
   },
   "outputs": [],
   "source": [
    "g,ax=undirected_graph(20)"
   ]
  },
  {
   "cell_type": "code",
   "execution_count": null,
   "metadata": {
    "deletable": false,
    "editable": false,
    "nbgrader": {
     "checksum": "7e12c205028bd41f5dfe850f26825e20",
     "grade": true,
     "grade_id": "cell-776a48187b6fe897",
     "locked": true,
     "points": 1,
     "schema_version": 1,
     "solution": false
    }
   },
   "outputs": [],
   "source": [
    "assert_is_instance(g, nx.Graph)\n",
    "\n",
    "nodes = np.array(g.nodes())\n",
    "assert_equal(nodes.size, 20)\n",
    "assert_equal(nodes.min(), 0)\n",
    "assert_equal(nodes.max(), 19)\n",
    "\n",
    "edges = np.array(g.edges())\n",
    "assert_equal(edges.shape[0], 10)\n",
    "assert_equal(edges.shape[1], 2)\n",
    "assert_equal(edges[:, 0].min(), 0)\n",
    "assert_equal(edges[:, 0].max(), 18)\n",
    "assert_equal(edges[:, 1].min(), 1)\n",
    "assert_equal(edges[:, 1].max(), 19)\n",
    "\n",
    "assert_is_instance(ax, mpl.axes.Axes)\n"
   ]
  },
  {
   "cell_type": "markdown",
   "metadata": {},
   "source": [
    "# Problem 2: Get the Adjacency or Incidence Matrix\n",
    "\n",
    "Write a function called $\\texttt{get_matrix}$ that returns either the adjacency or the indicidence matrix. The function should have one input called $\\texttt{matrix_type}$ that can take value either $\\texttt{\"adjacency\"}$ or $\\texttt{\"incidence\"}$"
   ]
  },
  {
   "cell_type": "code",
   "execution_count": null,
   "metadata": {
    "deletable": false,
    "nbgrader": {
     "checksum": "79ea04226c2afae326424ea312ba1f65",
     "grade": false,
     "grade_id": "cell-1c42b486c877750a",
     "locked": false,
     "schema_version": 1,
     "solution": true
    }
   },
   "outputs": [],
   "source": [
    "def get_matrix(matrix_type,graph):\n",
    "    \"\"\"\n",
    "    get dense representation of matrix of a graph\n",
    "    \n",
    "    Paramters\n",
    "    ---------\n",
    "    matrix_type: a string, the type of matrix to calculate, either \"adjacency\" or \"incidence\"\n",
    "    graph: the graph to calculate the adjacency or incidence matrix of\n",
    "    \n",
    "    Returns\n",
    "    -------\n",
    "    matrix: the dense representation of the matrix\n",
    "    \"\"\"\n",
    "    \n",
    "    # YOUR CODE HERE\n",
    "    \n",
    "    return matrix"
   ]
  },
  {
   "cell_type": "code",
   "execution_count": null,
   "metadata": {
    "deletable": false,
    "editable": false,
    "nbgrader": {
     "checksum": "6f43622cc0063f10bb656b279524bc29",
     "grade": false,
     "grade_id": "cell-b36f5acd0c56ee92",
     "locked": true,
     "schema_version": 1,
     "solution": false
    }
   },
   "outputs": [],
   "source": [
    "adjacency_matrix = get_matrix(\"adjacency\",g)\n",
    "incidence_matrix = get_matrix(\"incidence\",g)"
   ]
  },
  {
   "cell_type": "code",
   "execution_count": null,
   "metadata": {
    "deletable": false,
    "editable": false,
    "nbgrader": {
     "checksum": "43e1f98547f5b1d8611c2b5a680b4156",
     "grade": true,
     "grade_id": "cell-e93a540b6cb5051d",
     "locked": true,
     "points": 1,
     "schema_version": 1,
     "solution": false
    }
   },
   "outputs": [],
   "source": [
    "assert_is_instance(incidence_matrix,np.matrixlib.defmatrix.matrix)\n",
    "assert_is_instance(adjacency_matrix,np.matrixlib.defmatrix.matrix)\n",
    "assert_equal(incidence_matrix.shape[0],20)\n",
    "assert_equal(incidence_matrix.shape[1],10)\n",
    "assert_equal(adjacency_matrix.shape[0],20)\n",
    "assert_equal(adjacency_matrix.shape[1],20)"
   ]
  },
  {
   "cell_type": "markdown",
   "metadata": {},
   "source": [
    "# Problem 3: barbell or lollipop graph \n",
    "Write a function called barbell_lollipop. This function take in 3 parameters, the type of graph, and 2 integers (which represents the number of nodes). If the type of graph is a string named 'barbell' create a [barbell graph](https://networkx.github.io/documentation/networkx-1.10/reference/generated/networkx.generators.classic.barbell_graph.html?highlight=barbell%20graph#networkx.generators.classic.barbell_graph) and pass in the 2 integers as arguments in the same order as the function. If the type of graph is anything else create a [lollipop graph](https://networkx.github.io/documentation/latest/reference/generated/networkx.generators.classic.lollipop_graph.html) and pass in the 2 integers as arguments in the same order as the function."
   ]
  },
  {
   "cell_type": "code",
   "execution_count": null,
   "metadata": {
    "deletable": false,
    "nbgrader": {
     "checksum": "688e1f962e2fd78f0bc642df0104c9b1",
     "grade": false,
     "grade_id": "cell-52fb44b3fcf9faed",
     "locked": false,
     "schema_version": 1,
     "solution": true
    }
   },
   "outputs": [],
   "source": [
    "# YOUR CODE HERE"
   ]
  },
  {
   "cell_type": "code",
   "execution_count": null,
   "metadata": {
    "deletable": false,
    "editable": false,
    "nbgrader": {
     "checksum": "3f92b6a6e2d302fdb40f23446d56998a",
     "grade": false,
     "grade_id": "cell-9529f04a8aca5c5d",
     "locked": true,
     "schema_version": 1,
     "solution": false
    }
   },
   "outputs": [],
   "source": [
    "b1 = barbell_lollipop('barbell', 10, 4)\n",
    "l1 = barbell_lollipop('lollipop', 20, 4)"
   ]
  },
  {
   "cell_type": "code",
   "execution_count": null,
   "metadata": {
    "deletable": false,
    "editable": false,
    "nbgrader": {
     "checksum": "9aceb3a26f15f1a73ae3bd57671a2ebc",
     "grade": true,
     "grade_id": "cell-6aed72d019baf720",
     "locked": true,
     "points": 1,
     "schema_version": 1,
     "solution": false
    }
   },
   "outputs": [],
   "source": [
    "assert_equal(b1.edges(), [(0, 1), (0, 2), (0, 3), (0, 4), (0, 5), (0, 6), (0, 7), (0, 8), (0, 9), (1, 2), (1, 3), (1, 4), (1, 5), (1, 6), (1, 7), (1, 8), (1, 9), (2, 3), (2, 4), (2, 5), (2, 6), (2, 7), (2, 8), (2, 9), (3, 4), (3, 5), (3, 6), (3, 7), (3, 8), (3, 9), (4, 5), (4, 6), (4, 7), (4, 8), (4, 9), (5, 6), (5, 7), (5, 8), (5, 9), (6, 7), (6, 8), (6, 9), (7, 8), (7, 9), (8, 9), (9, 10), (10, 11), (11, 12), (12, 13), (13, 14), (14, 15), (14, 16), (14, 17), (14, 18), (14, 19), (14, 20), (14, 21), (14, 22), (14, 23), (15, 16), (15, 17), (15, 18), (15, 19), (15, 20), (15, 21), (15, 22), (15, 23), (16, 17), (16, 18), (16, 19), (16, 20), (16, 21), (16, 22), (16, 23), (17, 18), (17, 19), (17, 20), (17, 21), (17, 22), (17, 23), (18, 19), (18, 20), (18, 21), (18, 22), (18, 23), (19, 20), (19, 21), (19, 22), (19, 23), (20, 21), (20, 22), (20, 23), (21, 22), (21, 23), (22, 23)])\n",
    "assert_equal(l1.edges(), [(0, 1), (0, 2), (0, 3), (0, 4), (0, 5), (0, 6), (0, 7), (0, 8), (0, 9), (0, 10), (0, 11), (0, 12), (0, 13), (0, 14), (0, 15), (0, 16), (0, 17), (0, 18), (0, 19), (1, 2), (1, 3), (1, 4), (1, 5), (1, 6), (1, 7), (1, 8), (1, 9), (1, 10), (1, 11), (1, 12), (1, 13), (1, 14), (1, 15), (1, 16), (1, 17), (1, 18), (1, 19), (2, 3), (2, 4), (2, 5), (2, 6), (2, 7), (2, 8), (2, 9), (2, 10), (2, 11), (2, 12), (2, 13), (2, 14), (2, 15), (2, 16), (2, 17), (2, 18), (2, 19), (3, 4), (3, 5), (3, 6), (3, 7), (3, 8), (3, 9), (3, 10), (3, 11), (3, 12), (3, 13), (3, 14), (3, 15), (3, 16), (3, 17), (3, 18), (3, 19), (4, 5), (4, 6), (4, 7), (4, 8), (4, 9), (4, 10), (4, 11), (4, 12), (4, 13), (4, 14), (4, 15), (4, 16), (4, 17), (4, 18), (4, 19), (5, 6), (5, 7), (5, 8), (5, 9), (5, 10), (5, 11), (5, 12), (5, 13), (5, 14), (5, 15), (5, 16), (5, 17), (5, 18), (5, 19), (6, 7), (6, 8), (6, 9), (6, 10), (6, 11), (6, 12), (6, 13), (6, 14), (6, 15), (6, 16), (6, 17), (6, 18), (6, 19), (7, 8), (7, 9), (7, 10), (7, 11), (7, 12), (7, 13), (7, 14), (7, 15), (7, 16), (7, 17), (7, 18), (7, 19), (8, 9), (8, 10), (8, 11), (8, 12), (8, 13), (8, 14), (8, 15), (8, 16), (8, 17), (8, 18), (8, 19), (9, 10), (9, 11), (9, 12), (9, 13), (9, 14), (9, 15), (9, 16), (9, 17), (9, 18), (9, 19), (10, 11), (10, 12), (10, 13), (10, 14), (10, 15), (10, 16), (10, 17), (10, 18), (10, 19), (11, 12), (11, 13), (11, 14), (11, 15), (11, 16), (11, 17), (11, 18), (11, 19), (12, 13), (12, 14), (12, 15), (12, 16), (12, 17), (12, 18), (12, 19), (13, 14), (13, 15), (13, 16), (13, 17), (13, 18), (13, 19), (14, 15), (14, 16), (14, 17), (14, 18), (14, 19), (15, 16), (15, 17), (15, 18), (15, 19), (16, 17), (16, 18), (16, 19), (17, 18), (17, 19), (18, 19), (19, 20), (20, 21), (21, 22), (22, 23)])\n"
   ]
  },
  {
   "cell_type": "code",
   "execution_count": null,
   "metadata": {
    "deletable": false,
    "editable": false,
    "nbgrader": {
     "checksum": "9054132abe3b0a7d11c1ab442bba4e0b",
     "grade": false,
     "grade_id": "cell-d5464a4b5e161774",
     "locked": true,
     "schema_version": 1,
     "solution": false
    }
   },
   "outputs": [],
   "source": [
    "# Let's see what both graphs look like\n",
    "nx.draw(b1)"
   ]
  },
  {
   "cell_type": "code",
   "execution_count": null,
   "metadata": {
    "deletable": false,
    "editable": false,
    "nbgrader": {
     "checksum": "bb5acf1786078f927d0efb9f920da919",
     "grade": false,
     "grade_id": "cell-374b577d8b4f3de2",
     "locked": true,
     "schema_version": 1,
     "solution": false
    }
   },
   "outputs": [],
   "source": [
    "nx.draw(l1)"
   ]
  },
  {
   "cell_type": "markdown",
   "metadata": {},
   "source": [
    "# Problem 4:  Finding memebers of the karate club\n",
    "Each node in the graph below belongs to a particular club. In other words each node has an attirbute in G.\n",
    "![color_graph.png](color_graph.png)\n",
    "This snippet of code shows you how acess the club attribute for node 5 and 18:\n",
    "```python\n",
    "print(G.node[5]['club'])  # prints out Mr.Hi\n",
    "print(G.node[18]['club'])  # prints out Officer\n",
    "```\n",
    "Iterate through all of the nodes in G and if the node is a memeber of Mr.Hi assign it a color of red (use the string 'r' to denote this). If the node is a member of Officer assign it a color of blue (use the string 'b' to denote this). Store these colors in a list called colors."
   ]
  },
  {
   "cell_type": "code",
   "execution_count": null,
   "metadata": {
    "deletable": false,
    "editable": false,
    "nbgrader": {
     "checksum": "6519a6e5a69f9e96141ce25b062130e4",
     "grade": false,
     "grade_id": "cell-c8693d41a13203f0",
     "locked": true,
     "schema_version": 1,
     "solution": false
    }
   },
   "outputs": [],
   "source": [
    "G = nx.karate_club_graph()"
   ]
  },
  {
   "cell_type": "code",
   "execution_count": null,
   "metadata": {
    "deletable": false,
    "nbgrader": {
     "checksum": "400fabeb0bd563d699a6044d6aded9e5",
     "grade": false,
     "grade_id": "cell-210ce48026729e40",
     "locked": false,
     "schema_version": 1,
     "solution": true
    }
   },
   "outputs": [],
   "source": [
    "# YOUR CODE HERE"
   ]
  },
  {
   "cell_type": "code",
   "execution_count": null,
   "metadata": {
    "deletable": false,
    "editable": false,
    "nbgrader": {
     "checksum": "241e632328c8766f1db0ac894663066c",
     "grade": false,
     "grade_id": "cell-f6957d682af91966",
     "locked": true,
     "schema_version": 1,
     "solution": false
    }
   },
   "outputs": [],
   "source": [
    "# Let's see if our graph matches above.\n",
    "nx.draw_circular(G, node_color=colors)"
   ]
  },
  {
   "cell_type": "code",
   "execution_count": null,
   "metadata": {
    "deletable": false,
    "editable": false,
    "nbgrader": {
     "checksum": "9cfe5681571a86b5a14b04f8c7552b9f",
     "grade": true,
     "grade_id": "cell-4ced908d91130abe",
     "locked": true,
     "points": 1,
     "schema_version": 1,
     "solution": false
    }
   },
   "outputs": [],
   "source": [
    "assert_equal(colors, ['r', 'r', 'r', 'r', 'r', 'r', 'r', 'r', 'r', 'b', 'r', 'r', 'r', 'r', 'b', 'b', 'r', 'r', 'b', 'r', 'b', 'r', 'b', 'b', 'b', 'b', 'b', 'b', 'b', 'b', 'b', 'b', 'b', 'b'])"
   ]
  },
  {
   "cell_type": "markdown",
   "metadata": {},
   "source": [
    "# Problem 5: Finding the most common hash tags.\n",
    "We have searched for *#data* and stored it in a file called tweets.data. Each row in tweets.data contains 1 tweet. For this problem do the following:\n",
    "Read in all of the tweets using which ever method you prefer (numpy, pandas, built-in python functions, etc). Next go through the tweets and find all of the hash tags. Convert the hashtags to all lowercase letters and sort the list of tags. Create a set that only contains unique tags.  Now make combinations for the pairs of unique tags. Create a Counter variable to keep track of the combination of tags commonly found together. Iterate through the combinations of tags and add a new key to the counter if it does not exists and increment the Counter by 1 otherwise increment the value of the key in the counter variable if the combination already exists. Store the Counter variable as *cnt*."
   ]
  },
  {
   "cell_type": "code",
   "execution_count": null,
   "metadata": {
    "deletable": false,
    "nbgrader": {
     "checksum": "4c3beddc342e412ed89b4b93d8b58ed0",
     "grade": false,
     "grade_id": "cell-880588e138f3c678",
     "locked": false,
     "schema_version": 1,
     "solution": true
    }
   },
   "outputs": [],
   "source": [
    "# YOUR CODE HERE"
   ]
  },
  {
   "cell_type": "code",
   "execution_count": null,
   "metadata": {
    "deletable": false,
    "editable": false,
    "nbgrader": {
     "checksum": "e17e10cb60f4db69337536235148083e",
     "grade": true,
     "grade_id": "cell-4422485ffdfd428e",
     "locked": true,
     "points": 1,
     "schema_version": 1,
     "solution": false
    }
   },
   "outputs": [],
   "source": [
    "top_10_counts = cnt.most_common(10)\n",
    "top_20_counts = cnt.most_common(20)\n",
    "top_50_counts = cnt.most_common(50)\n",
    "\n",
    "assert_equal(top_10_counts, [(('data', 'marketing'), 73), (('analytics', 'data'), 68), (('bigdata', 'data'), 48), (('ai', 'data'), 44), (('data', 'tech'), 32), (('data', 'datascience'), 22), (('cloud', 'data'), 20), (('blockchain', 'data'), 20), (('data', 'netflix'), 19), (('data', 'phishing'), 19)])\n",
    "assert_equal(top_20_counts, [(('data', 'marketing'), 73), (('analytics', 'data'), 68), (('bigdata', 'data'), 48), (('ai', 'data'), 44), (('data', 'tech'), 32), (('data', 'datascience'), 22), (('cloud', 'data'), 20), (('blockchain', 'data'), 20), (('data', 'netflix'), 19), (('data', 'phishing'), 19), (('netflix', 'phishing'), 19), (('analytics', 'bigdata'), 19), (('data', 'iot'), 18), (('data', 'security'), 18), (('data', 'ecommerce'), 18), (('data', 'gdpr'), 18), (('ecommerce', 'marketing'), 17), (('business', 'data'), 16), (('data', 'machinelearning'), 13), (('cybersecurity', 'data'), 13)])\n",
    "assert_equal(top_50_counts, [(('data', 'marketing'), 73), (('analytics', 'data'), 68), (('bigdata', 'data'), 48), (('ai', 'data'), 44), (('data', 'tech'), 32), (('data', 'datascience'), 22), (('cloud', 'data'), 20), (('blockchain', 'data'), 20), (('data', 'netflix'), 19), (('data', 'phishing'), 19), (('netflix', 'phishing'), 19), (('analytics', 'bigdata'), 19), (('data', 'iot'), 18), (('data', 'security'), 18), (('data', 'ecommerce'), 18), (('data', 'gdpr'), 18), (('ecommerce', 'marketing'), 17), (('business', 'data'), 16), (('data', 'machinelearning'), 13), (('cybersecurity', 'data'), 13), (('data', 'infosec'), 13), (('data', 'science'), 13), (('data', 'ml'), 12), (('data', 'fintech'), 12), (('data', 'journalism…'), 11), (('data', 'visual'), 11), (('journalism…', 'visual'), 11), (('data', '…'), 11), (('ai', 'bigdata'), 10), (('bigdata', 'ml'), 10), (('data', 'startup'), 10), (('data', 'startups'), 10), (('data', 'digital'), 10), (('myths', 'narratives'), 10), (('data', 'martech'), 10), (('data', 'dataviz'), 10), (('data', 'python'), 10), (('analytics', 'marketing'), 10), (('ai', 'watsonce'), 10), (('data', 'watsonce'), 10), (('data', 'news'), 9), (('bigdata', 'business'), 9), (('data', 'myths'), 9), (('data', 'narratives'), 9), (('big', 'data'), 9), (('commvaultgo', 'data'), 9), (('breach', 'data'), 9), (('bigdata', 'marketing'), 9), (('ai', 'ml'), 8), (('bigdata', 'datascience'), 8)])"
   ]
  },
  {
   "cell_type": "markdown",
   "metadata": {
    "collapsed": true
   },
   "source": [
    "The below ugly piece of code takes in the top 10 pairs and finds all of the unique hashtags that show up."
   ]
  },
  {
   "cell_type": "code",
   "execution_count": null,
   "metadata": {
    "deletable": false,
    "editable": false,
    "nbgrader": {
     "checksum": "35d68076a7f63847e545cf82169e67d3",
     "grade": false,
     "grade_id": "cell-a1eaf1579c91392e",
     "locked": true,
     "schema_version": 1,
     "solution": false
    }
   },
   "outputs": [],
   "source": [
    "hashtags = list(set([element for k in top_10_counts for element in k[0]]))\n",
    "print(hashtags)"
   ]
  },
  {
   "cell_type": "code",
   "execution_count": null,
   "metadata": {
    "deletable": false,
    "editable": false,
    "nbgrader": {
     "checksum": "4b6db4fc4ef301c3f12012f7349f1bb8",
     "grade": false,
     "grade_id": "cell-9f9b11de4f16ae16",
     "locked": true,
     "schema_version": 1,
     "solution": false
    }
   },
   "outputs": [],
   "source": [
    "top_10_counts"
   ]
  },
  {
   "cell_type": "markdown",
   "metadata": {},
   "source": [
    "# Problem 6: Create a graph from the Twitter hashtag pairs\n",
    "\n",
    "Write a function called $\\texttt{create_graph}$ which creates a graph using the twitter hashtag pairs. The nodes should represent the twitter hashtag names, and edges should be drawn between nodes which are paired together. For example, 'data' and 'marketing' should have an edge since they are paired together."
   ]
  },
  {
   "cell_type": "code",
   "execution_count": null,
   "metadata": {
    "deletable": false,
    "nbgrader": {
     "checksum": "b215a258393dcf9b9fa37a1f3fab406f",
     "grade": false,
     "grade_id": "cell-d44234517380f392",
     "locked": false,
     "schema_version": 1,
     "solution": true
    }
   },
   "outputs": [],
   "source": [
    "def create_graph(list_of_pairs,hashtags):\n",
    "    '''\n",
    "    Inputs\n",
    "    --------\n",
    "    \n",
    "    list_of_pairs: a list of tuples where each tuple is of the form (('name1', 'name2), #)\n",
    "    hastags: a list containing the unique hashtags that show up in list_of_pairs\n",
    "    \n",
    "    Returns\n",
    "    -------\n",
    "    G: a networkx graph\n",
    "    '''\n",
    "    \n",
    "    # YOUR CODE HERE"
   ]
  },
  {
   "cell_type": "code",
   "execution_count": null,
   "metadata": {
    "deletable": false,
    "editable": false,
    "nbgrader": {
     "checksum": "793331b5248c984a410f5ba8292c23e8",
     "grade": true,
     "grade_id": "cell-afb7b74079eb4a06",
     "locked": true,
     "points": 1,
     "schema_version": 1,
     "solution": false
    }
   },
   "outputs": [],
   "source": [
    "g = create_graph(top_10_counts,hashtags)\n",
    "assert_is_instance(g, nx.Graph)\n",
    "\n",
    "nodes = np.array(g.nodes())\n",
    "assert_equal(nodes.size, 11)\n",
    "nodes_list = ['analytics',\n",
    " 'netflix',\n",
    " 'blockchain',\n",
    " 'ai',\n",
    " 'data',\n",
    " 'bigdata',\n",
    " 'marketing',\n",
    " 'datascience',\n",
    " 'phishing',\n",
    " 'cloud',\n",
    " 'tech']\n",
    "\n",
    "assert_equal(1,'data' in nodes)\n",
    "assert_equal(edges.shape[0],10)"
   ]
  },
  {
   "cell_type": "code",
   "execution_count": null,
   "metadata": {
    "deletable": false,
    "editable": false,
    "nbgrader": {
     "checksum": "67b85aada13e01e366b63a5a7e3e6a02",
     "grade": false,
     "grade_id": "cell-e23795d58cd9f1aa",
     "locked": true,
     "schema_version": 1,
     "solution": false
    }
   },
   "outputs": [],
   "source": [
    "#Let ssee how the graph looks\n",
    "nx.draw(g,with_labels=True)"
   ]
  }
 ],
 "metadata": {
  "kernelspec": {
   "display_name": "Python 3",
   "language": "python",
   "name": "python3"
  },
  "language_info": {
   "codemirror_mode": {
    "name": "ipython",
    "version": 3
   },
   "file_extension": ".py",
   "mimetype": "text/x-python",
   "name": "python",
   "nbconvert_exporter": "python",
   "pygments_lexer": "ipython3",
   "version": "3.6.1"
  }
 },
 "nbformat": 4,
 "nbformat_minor": 2
}
