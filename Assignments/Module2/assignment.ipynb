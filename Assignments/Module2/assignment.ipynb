{
 "cells": [
  {
   "cell_type": "code",
   "execution_count": null,
   "metadata": {
    "deletable": false,
    "editable": false,
    "nbgrader": {
     "checksum": "93e61fbe8873e8c9b662493f06c675ac",
     "grade": false,
     "grade_id": "cell-e4218e5ab0541788",
     "locked": true,
     "schema_version": 1,
     "solution": false
    }
   },
   "outputs": [],
   "source": [
    "import os, pickle, sqlite3, os, math, helper\n",
    "import pandas as pd\n",
    "from nose.tools import assert_true, assert_equal, assert_is_instance"
   ]
  },
  {
   "cell_type": "markdown",
   "metadata": {},
   "source": [
    "Let's read in the familiar car price data."
   ]
  },
  {
   "cell_type": "code",
   "execution_count": null,
   "metadata": {
    "deletable": false,
    "editable": false,
    "nbgrader": {
     "checksum": "b097397072f4dab701f97bb5ce8dcf4e",
     "grade": false,
     "grade_id": "cell-ce98c40e5d0982ce",
     "locked": true,
     "schema_version": 1,
     "solution": false
    }
   },
   "outputs": [],
   "source": [
    "df = pd.read_csv('./imports-85.data')"
   ]
  },
  {
   "cell_type": "code",
   "execution_count": null,
   "metadata": {
    "deletable": false,
    "editable": false,
    "nbgrader": {
     "checksum": "ebbee0ce152c58734ca7a5339030572a",
     "grade": false,
     "grade_id": "cell-14fac4c521be92a5",
     "locked": true,
     "schema_version": 1,
     "solution": false
    }
   },
   "outputs": [],
   "source": [
    "df.head()"
   ]
  },
  {
   "cell_type": "markdown",
   "metadata": {},
   "source": [
    "Now let's suppose that we only need the \"make\" column of this file. We don't want to keep reading in the whole file, so we will instead just pickle and save the \"make\" column."
   ]
  },
  {
   "cell_type": "code",
   "execution_count": null,
   "metadata": {
    "deletable": false,
    "editable": false,
    "nbgrader": {
     "checksum": "c144cd3e174c10a8b12142343bad8327",
     "grade": false,
     "grade_id": "cell-68b2546d2c54ce8e",
     "locked": true,
     "schema_version": 1,
     "solution": false
    }
   },
   "outputs": [],
   "source": [
    "make = df['make'].values\n",
    "df=0"
   ]
  },
  {
   "cell_type": "markdown",
   "metadata": {},
   "source": [
    "# Problem 1: Pickle data and save to a file\n",
    "\n",
    "Write a function called \"save\" which takes in some data that will be pickled and saves it in a file called \"filename\" "
   ]
  },
  {
   "cell_type": "code",
   "execution_count": null,
   "metadata": {
    "deletable": false,
    "nbgrader": {
     "checksum": "68b1b7de5eea2c76a105fd2a61c375aa",
     "grade": false,
     "grade_id": "cell-f70579b1ab2577e9",
     "locked": false,
     "schema_version": 1,
     "solution": true
    }
   },
   "outputs": [],
   "source": [
    "def save(data, filename):\n",
    "    \"\"\"\n",
    "    Inputs\n",
    "    ----------\n",
    "    data: Any pickable object.\n",
    "    filename: A string, the name to give the pickled data\n",
    "    \n",
    "    Returns\n",
    "    -------\n",
    "    None\n",
    "    \"\"\"\n",
    "    \n",
    "    # YOUR CODE HERE\n",
    "\n"
   ]
  },
  {
   "cell_type": "code",
   "execution_count": null,
   "metadata": {
    "deletable": false,
    "editable": false,
    "nbgrader": {
     "checksum": "b1da3d96697f36f915a17701221047da",
     "grade": true,
     "grade_id": "cell-22ec709af498344b",
     "locked": true,
     "points": 1,
     "schema_version": 1,
     "solution": false
    }
   },
   "outputs": [],
   "source": [
    "save(make, \"make.pickle\")\n",
    "\n",
    "assert_true(os.path.exists(\"make.pickle\"))\n",
    "\n",
    "def get_checksum(filename):\n",
    "    import hashlib\n",
    "    with open(filename, 'rb') as f:\n",
    "        md5 = hashlib.md5(f.read())\n",
    "    return md5.hexdigest()\n",
    "\n",
    "assert_equal(\n",
    "    get_checksum(\"make.pickle\"),\n",
    "    '69ce5d072a0df028ee274c3106b60a63')"
   ]
  },
  {
   "cell_type": "markdown",
   "metadata": {},
   "source": [
    "# Problem 2: Unpickle data\n",
    "\n",
    "Write a function called \"load\" that given the argument \"filename\" unpickles the file."
   ]
  },
  {
   "cell_type": "code",
   "execution_count": null,
   "metadata": {
    "deletable": false,
    "nbgrader": {
     "checksum": "484f494f06c499b2ca926662590a6874",
     "grade": false,
     "grade_id": "cell-86bdd4fbee9e6f49",
     "locked": false,
     "schema_version": 1,
     "solution": true
    }
   },
   "outputs": [],
   "source": [
    "def load(filename):\n",
    "    \"\"\"\n",
    "    Inputs\n",
    "    ----------\n",
    "    filename: A string containing the file name to unpickle\n",
    "    \n",
    "    Returns\n",
    "    -------\n",
    "    data: the unpickled data\n",
    "    \"\"\"\n",
    "    \n",
    "    # YOUR CODE HERE"
   ]
  },
  {
   "cell_type": "code",
   "execution_count": null,
   "metadata": {
    "deletable": false,
    "editable": false,
    "nbgrader": {
     "checksum": "002dcd493f65d6c705fa90ff32e202fd",
     "grade": true,
     "grade_id": "cell-0db5bb525c3ae0d4",
     "locked": true,
     "points": 1,
     "schema_version": 1,
     "solution": false
    }
   },
   "outputs": [],
   "source": [
    "unpickled_make = load(\"make.pickle\")\n",
    "\n",
    "assert_equal(unpickled_make[0],0)\n",
    "assert_equal(len(unpickled_make),205)"
   ]
  },
  {
   "cell_type": "code",
   "execution_count": null,
   "metadata": {
    "deletable": false,
    "editable": false,
    "nbgrader": {
     "checksum": "5bc971dd5e0f4564d0cec0f6454084d3",
     "grade": false,
     "grade_id": "cell-c6caa6bbabe78553",
     "locked": true,
     "schema_version": 1,
     "solution": false
    }
   },
   "outputs": [],
   "source": [
    "#this line deletes the make.pickle file\n",
    "os.remove(\"make.pickle\")"
   ]
  },
  {
   "cell_type": "markdown",
   "metadata": {},
   "source": [
    "# Problem 3: Create a schema file\n",
    "\n",
    "In the below code cell, create a schema file called \"cars.sql\" with three columns: \n",
    "\n",
    "$\\texttt{make}$: an integer\n",
    "\n",
    "$\\texttt{price}$: a real number\n",
    "\n",
    "$\\texttt{enginelocation}$: a string\n",
    "\n",
    "Name the table \"carinfo\". Note that SQLite uses a different symbol that Pyhon to denote a comment. \"--\" denotes a comment in SQLite."
   ]
  },
  {
   "cell_type": "code",
   "execution_count": null,
   "metadata": {
    "deletable": false,
    "nbgrader": {
     "checksum": "f1540d3615d58bcbb2bb18e115167a6c",
     "grade": false,
     "grade_id": "cell-aa7971d7e5bebdbc",
     "locked": false,
     "schema_version": 1,
     "solution": true
    }
   },
   "outputs": [],
   "source": [
    "%%writefile cars.sql\n",
    "\n",
    "-- YOUR CODE HERE\n",
    "\n",
    "# YOUR CODE HERE"
   ]
  },
  {
   "cell_type": "code",
   "execution_count": null,
   "metadata": {
    "deletable": false,
    "editable": false,
    "nbgrader": {
     "checksum": "86f380af1e130e060b6fcffb99ee0d94",
     "grade": true,
     "grade_id": "cell-a5c5450529603789",
     "locked": true,
     "points": 1,
     "schema_version": 1,
     "solution": false
    }
   },
   "outputs": [],
   "source": [
    "assert_true(os.path.exists(\"cars.sql\"))"
   ]
  },
  {
   "cell_type": "markdown",
   "metadata": {},
   "source": [
    "# Problem 4: Create the schema in a new database\n",
    "\n",
    "In the below cell write a UNIX command that will create the schema in a new database named \"cars.db\""
   ]
  },
  {
   "cell_type": "code",
   "execution_count": null,
   "metadata": {
    "deletable": false,
    "nbgrader": {
     "checksum": "9c2ff8506b19a781b6d56c8ec107cef6",
     "grade": false,
     "grade_id": "cell-af891f3a7181621b",
     "locked": false,
     "schema_version": 1,
     "solution": true
    }
   },
   "outputs": [],
   "source": [
    "# YOUR CODE HERE"
   ]
  },
  {
   "cell_type": "code",
   "execution_count": null,
   "metadata": {
    "deletable": false,
    "editable": false,
    "nbgrader": {
     "checksum": "31206622ef0d29f88fe60d8ab2faf3e4",
     "grade": false,
     "grade_id": "cell-dc831f2195a05b69",
     "locked": true,
     "schema_version": 1,
     "solution": false
    }
   },
   "outputs": [],
   "source": [
    "#Let's check to make sure it worked, if so it will output the schema made in the cars.sql file\n",
    "!sqlite3 cars.db \".schema\""
   ]
  },
  {
   "cell_type": "code",
   "execution_count": null,
   "metadata": {
    "deletable": false,
    "editable": false,
    "nbgrader": {
     "checksum": "3768b0924cb82f083055503d3d021638",
     "grade": true,
     "grade_id": "cell-162920b4a23a57b9",
     "locked": true,
     "points": 1,
     "schema_version": 1,
     "solution": false
    }
   },
   "outputs": [],
   "source": [
    "assert_true(os.path.exists(\"cars.db\"))\n",
    "\n",
    "!sqlite3 cars.db \"DELETE FROM carinfo\"\n",
    "!sqlite3 cars.db \"INSERT INTO carinfo VALUES (1,137.3,'Hyundai')\"\n",
    "test_result = !sqlite3 cars.db \"SELECT * FROM carinfo\"\n",
    "assert_equal(test_result, ['1|137.3|Hyundai'])"
   ]
  },
  {
   "cell_type": "code",
   "execution_count": null,
   "metadata": {
    "deletable": false,
    "editable": false,
    "nbgrader": {
     "checksum": "cc19d2073fc02c6727fb60329db5ac6d",
     "grade": false,
     "grade_id": "cell-d1ae4b8876991f09",
     "locked": true,
     "schema_version": 1,
     "solution": false
    }
   },
   "outputs": [],
   "source": [
    "!rm cars.*"
   ]
  },
  {
   "cell_type": "code",
   "execution_count": null,
   "metadata": {
    "deletable": false,
    "editable": false,
    "nbgrader": {
     "checksum": "e36639e5992bc104cba0c883102fe4a5",
     "grade": false,
     "grade_id": "cell-6d565ef899ed54af",
     "locked": true,
     "schema_version": 1,
     "solution": false
    }
   },
   "outputs": [],
   "source": [
    "df = pd.read_csv(\"./breast-cancer-wisconsin.data\")\n",
    "df.head(5)"
   ]
  },
  {
   "cell_type": "markdown",
   "metadata": {},
   "source": [
    "# Problem 5: Creating a Database\n",
    "For this problem:\n",
    "- Create a database using sqlite3 called *breast-cancer-wisconsin* in the same directory and establish a connection to it.\n",
    "- Create a table in this database called *bCancer*. All of the columns present in the breast cancer dataset data frame should be created in the database.\n",
    "    - The type for all columns should be numeric, excluding the id column. Make the type of the id column text. In addition to the columns from the breast cancer dataset, also create a new column called combined.\n",
    "    - When you create the table be sure to create the columns in this order with the following names (df name: col name in db):\n",
    "        - id: id\n",
    "        - clump thickness: c_thick\n",
    "        - uniformity cell size: u_c_size\n",
    "        - uniformity cell shape: u_c_shape\n",
    "        - marginal adhesion: m_adh\n",
    "        - epithelial cell size: e_cell_size\n",
    "        - bare nuclei: b_nuceli\n",
    "        - bland chromatin: b_chro\n",
    "        - normal nucleoli: n_nucl\n",
    "        - mitoses: mitoses\n",
    "        - class: class\n",
    "        - combined: combined\n",
    "  \n",
    "- Commit the changes and **close the connection to your database** (if you do not close the connection you may run into problems.)"
   ]
  },
  {
   "cell_type": "code",
   "execution_count": null,
   "metadata": {
    "deletable": false,
    "nbgrader": {
     "checksum": "86af20652da75e12ee8032e4fed7aab3",
     "grade": false,
     "grade_id": "cell-a00346cddb588fbe",
     "locked": false,
     "schema_version": 1,
     "solution": true
    }
   },
   "outputs": [],
   "source": [
    "# YOUR CODE HERE"
   ]
  },
  {
   "cell_type": "code",
   "execution_count": null,
   "metadata": {
    "deletable": false,
    "editable": false,
    "nbgrader": {
     "checksum": "bdab5efc6f3765e05a3d2f463fc2cc33",
     "grade": true,
     "grade_id": "cell-9465c4284286a87f",
     "locked": true,
     "points": 1,
     "schema_version": 1,
     "solution": false
    }
   },
   "outputs": [],
   "source": [
    "# Making sure db Exists\n",
    "assert_equal(os.path.exists(\"./breast-cancer-wisconsin.db\"), True, \"Make a database called breast-cancer-wisconsin in the same directory.\")\n",
    "\n",
    "# Making sure Table Exist\n",
    "test_conn = sqlite3.connect('breast-cancer-wisconsin.db')\n",
    "test_c = test_conn.cursor()\n",
    "test_c.execute(\"SELECT count(*) FROM sqlite_master WHERE type='table' AND name='bCancer';\")\n",
    "sol = test_c.fetchone()[0]\n",
    "assert_equal(sol, 1, \"You need to a table called bCancer\")\n",
    "\n",
    "# Making sure the columns in the table match the description\n",
    "test_c.execute('select * from bCancer')\n",
    "names = [description[0] for description in test_c.description]\n",
    "assert_equal(names, ['id', 'c_thick', 'u_c_size', 'u_c_shape', 'm_adh', 'e_cell_size', 'b_nuceli', 'b_chro', 'n_nucl', 'mitoses', 'class', 'combined'])\n",
    "\n",
    "test_conn.close()  # Closing connection"
   ]
  },
  {
   "cell_type": "markdown",
   "metadata": {},
   "source": [
    "# Problem 6: Populating a database\n",
    "For this problem you will populate a database using the breast cancer data stored df (which is of type pandas dataframe). Do the following:\n",
    "- You need to create data for our new column combined. The data for combined should be made by the following expression: *uniformity cell size ^2 + uniformity cell shape - sqrt(marginal adhesion)* Round the data to 3 decimal places. *There are many ways to do this*\n",
    "- Open the database you have created.\n",
    "- Next iterate through the pandas dataframe starting from row 0 until the end of the dataframe. For each iteration store the rows using the order defined in the problem above.\n",
    "- Lastly close the connection to the database."
   ]
  },
  {
   "cell_type": "code",
   "execution_count": null,
   "metadata": {
    "deletable": false,
    "nbgrader": {
     "checksum": "ab0ae9070e93e14c4a79fb9f6096469e",
     "grade": false,
     "grade_id": "cell-9a64ec5bc29beb39",
     "locked": false,
     "schema_version": 1,
     "solution": true
    }
   },
   "outputs": [],
   "source": [
    "# YOUR CODE HERE"
   ]
  },
  {
   "cell_type": "code",
   "execution_count": null,
   "metadata": {
    "deletable": false,
    "editable": false,
    "nbgrader": {
     "checksum": "c2bfb48b3e2580e7202a6eadb47144b6",
     "grade": true,
     "grade_id": "cell-b3f8cc3e76a2705e",
     "locked": true,
     "points": 1,
     "schema_version": 1,
     "solution": false
    }
   },
   "outputs": [],
   "source": [
    "test_conn = sqlite3.connect('breast-cancer-wisconsin.db')\n",
    "test_c = test_conn.cursor()\n",
    "test_c.execute(\"Select * from bCancer\")\n",
    "ans = test_c.fetchall()\n",
    "test_conn.close()\n",
    "assert_equal(ans, helper.wbc_combined)"
   ]
  },
  {
   "cell_type": "markdown",
   "metadata": {},
   "source": [
    "# Problem 7: Querying a database\n",
    "For this problem do the following:\n",
    "-  open a connect to the breast-cancer database\n",
    "- select the clump thickness, mitoses, combined , and class column *(in this order)* from the bCancer table but only select rows where combined is greater than 50. Stored this result in a variable called *ans* and close the connection to your database."
   ]
  },
  {
   "cell_type": "code",
   "execution_count": null,
   "metadata": {
    "deletable": false,
    "nbgrader": {
     "checksum": "a22ed7ca8c6c877a476a07a3a0c8bd1a",
     "grade": false,
     "grade_id": "cell-bd606ef440a3d4bc",
     "locked": false,
     "schema_version": 1,
     "solution": true
    }
   },
   "outputs": [],
   "source": [
    "# YOUR CODE HERE"
   ]
  },
  {
   "cell_type": "code",
   "execution_count": null,
   "metadata": {
    "deletable": false,
    "editable": false,
    "nbgrader": {
     "checksum": "42db5c8c54d29669500eb7f05573ae42",
     "grade": true,
     "grade_id": "cell-e1d7deb2672bb656",
     "locked": true,
     "points": 1,
     "schema_version": 1,
     "solution": false
    }
   },
   "outputs": [],
   "source": [
    "assert_equal(ans, helper.wbc_sol50)"
   ]
  },
  {
   "cell_type": "markdown",
   "metadata": {},
   "source": [
    "# Problem 8: Dropping Tables\n",
    "For this problem do the following:\n",
    "- open a connection to the breast-cancer database we have worked with so far.\n",
    "- Now drop the bCancer table\n",
    "- Commit the changes\n",
    "- Close the connection to the breast-cancer database\n"
   ]
  },
  {
   "cell_type": "code",
   "execution_count": null,
   "metadata": {
    "deletable": false,
    "nbgrader": {
     "checksum": "9c08b76053b02b0fbd6771871cf25cd3",
     "grade": false,
     "grade_id": "cell-926ef10ce4e91dbc",
     "locked": false,
     "schema_version": 1,
     "solution": true
    }
   },
   "outputs": [],
   "source": [
    "# YOUR CODE HERE"
   ]
  },
  {
   "cell_type": "code",
   "execution_count": null,
   "metadata": {
    "deletable": false,
    "editable": false,
    "nbgrader": {
     "checksum": "e354fc7a90b1dc4a1fd96d8d2cb01ef8",
     "grade": true,
     "grade_id": "cell-a8f5156b61291933",
     "locked": true,
     "points": 1,
     "schema_version": 1,
     "solution": false
    }
   },
   "outputs": [],
   "source": [
    "test_c.execute(\"SELECT count(*) FROM sqlite_master WHERE type='table' AND name='bCancer';\")\n",
    "sol = test_c.fetchone()[0]\n",
    "assert_equal(sol, 0, \"You need delete the bCancer table\")"
   ]
  },
  {
   "cell_type": "code",
   "execution_count": null,
   "metadata": {
    "deletable": false,
    "editable": false,
    "nbgrader": {
     "checksum": "ead165a77465ac410e0e9d4cb9c625b0",
     "grade": false,
     "grade_id": "cell-a16e6aa612b46377",
     "locked": true,
     "schema_version": 1,
     "solution": false
    }
   },
   "outputs": [],
   "source": [
    "! rm breast-cancer-wisconsin.db"
   ]
  },
  {
   "cell_type": "code",
   "execution_count": null,
   "metadata": {},
   "outputs": [],
   "source": []
  }
 ],
 "metadata": {
  "kernelspec": {
   "display_name": "Python 3",
   "language": "python",
   "name": "python3"
  },
  "language_info": {
   "codemirror_mode": {
    "name": "ipython",
    "version": 3
   },
   "file_extension": ".py",
   "mimetype": "text/x-python",
   "name": "python",
   "nbconvert_exporter": "python",
   "pygments_lexer": "ipython3",
   "version": "3.6.1"
  }
 },
 "nbformat": 4,
 "nbformat_minor": 2
}
