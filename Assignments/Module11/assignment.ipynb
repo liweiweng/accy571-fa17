{
 "cells": [
  {
   "cell_type": "markdown",
   "metadata": {},
   "source": [
    "# Module 11 Assignment\n",
    "\n",
    "A few things you should keep in mind when working on assignments:\n",
    "\n",
    "1. Make sure you fill in any place that says `YOUR CODE HERE`. Do **not** write your answer in anywhere else other than where it says `YOUR CODE HERE`. Anything you write anywhere else will be removed or overwritten by the autograder.\n",
    "\n",
    "2. Before you submit your assignment, make sure everything runs as expected. Go to menubar, select _Kernel_, and restart the kernel and run all cells (_Restart & Run all_).\n",
    "\n",
    "3. Do not change the title (i.e. file name) of this notebook.\n",
    "\n",
    "4. Make sure that you save your work (in the menubar, select _File_ → _Save and CheckPoint_)\n",
    "\n",
    "5. You are allowed to submit an assignment multiple times, but only the most recent submission will be graded."
   ]
  },
  {
   "cell_type": "code",
   "execution_count": null,
   "metadata": {
    "deletable": false,
    "editable": false,
    "nbgrader": {
     "checksum": "f69715bb9ef22aaa3a875b1198f9f62b",
     "grade": false,
     "grade_id": "cell-5fbd9d39fa719e48",
     "locked": true,
     "schema_version": 1,
     "solution": false
    }
   },
   "outputs": [],
   "source": [
    "import numpy as np\n",
    "import pandas as pd\n",
    "import datetime\n",
    "import matplotlib.pyplot as plt\n",
    "import seaborn as sns\n",
    "%matplotlib inline\n",
    "\n",
    "import warnings\n",
    "warnings.filterwarnings('ignore')\n",
    "\n",
    "from nose.tools import assert_equal, assert_true\n",
    "import helper\n",
    "\n",
    "from datetime import datetime as dt\n",
    "from datetime import time\n",
    "from datetime import date \n",
    "from dateutil import tz\n",
    "from datetime import timedelta"
   ]
  },
  {
   "cell_type": "code",
   "execution_count": null,
   "metadata": {
    "deletable": false,
    "editable": false,
    "nbgrader": {
     "checksum": "73fa4210bb13b4b7957cc109d438f8c9",
     "grade": false,
     "grade_id": "cell-d16a8e1c90d47a0c",
     "locked": true,
     "schema_version": 1,
     "solution": false
    }
   },
   "outputs": [],
   "source": [
    "#get the current day\n",
    "current_day = datetime.date.today()"
   ]
  },
  {
   "cell_type": "markdown",
   "metadata": {},
   "source": [
    "# Problem 1: Write a function to get the time and date in a given city\n",
    "\n",
    "Write a function called $\\texttt{get_time_and_date}$ which, using tz from the dateutil library, takes in a string containing a country and city and returns the current time in that city in iso format. "
   ]
  },
  {
   "cell_type": "code",
   "execution_count": null,
   "metadata": {
    "deletable": false,
    "nbgrader": {
     "checksum": "d36f1f9c138dfcc8173d1a3e4579fd10",
     "grade": false,
     "grade_id": "cell-693337c2e9173d00",
     "locked": false,
     "schema_version": 1,
     "solution": true
    }
   },
   "outputs": [],
   "source": [
    "def get_time_and_date(timezone):\n",
    "    '''\n",
    "    Inputs\n",
    "    -------\n",
    "    \n",
    "    Timezone: a string, the country/city to check the time and date in\n",
    "    \n",
    "    \n",
    "    Returns\n",
    "    --------\n",
    "    \n",
    "    date_and_time: a date and time in iso format\n",
    "    \n",
    "    \n",
    "    '''\n",
    "    \n",
    "    # YOUR CODE HERE\n",
    "    \n",
    "    return date_and_time"
   ]
  },
  {
   "cell_type": "code",
   "execution_count": null,
   "metadata": {
    "deletable": false,
    "editable": false,
    "nbgrader": {
     "checksum": "3dd29f8f47f08bd925bac683251f24b4",
     "grade": true,
     "grade_id": "cell-f4331217723823e8",
     "locked": true,
     "points": 1,
     "schema_version": 1,
     "solution": false
    }
   },
   "outputs": [],
   "source": [
    "date_and_time = get_time_and_date('Spain/Barcelona')\n",
    "assert_equal(date_and_time[:4],'2017')\n",
    "assert_equal(len(date_and_time) > 10, 1)"
   ]
  },
  {
   "cell_type": "markdown",
   "metadata": {},
   "source": [
    "# Problem 2: Write a function to get the past time\n",
    "\n",
    "Write a function called $\\texttt{get_past_time}$ which takes in a number of hours, and then returns the time that is $\\texttt{hours}$ before the current time."
   ]
  },
  {
   "cell_type": "code",
   "execution_count": null,
   "metadata": {
    "deletable": false,
    "nbgrader": {
     "checksum": "7ce9ccbb88b8ec9408b7ad5b59cea243",
     "grade": false,
     "grade_id": "cell-32d55078e5c4ddb4",
     "locked": false,
     "schema_version": 1,
     "solution": true
    }
   },
   "outputs": [],
   "source": [
    "def get_past_time(hours):\n",
    "    '''\n",
    "    Inputs\n",
    "    -------\n",
    "    \n",
    "    hours: the number of hours to go back\n",
    "    \n",
    "    \n",
    "    Returns\n",
    "    --------\n",
    "    \n",
    "    past_time: the time in the past in iso format\n",
    "    \n",
    "    \n",
    "    '''\n",
    "    \n",
    "    # YOUR CODE HERE\n",
    "    \n",
    "    return past_time"
   ]
  },
  {
   "cell_type": "markdown",
   "metadata": {},
   "source": [
    "One note: Since we're dealing with times here, it's possible that you may not pass the first assert statement, especially if you're doing your homework late at night. It may be necessary to restart and run all cells in order to pass the assert statement."
   ]
  },
  {
   "cell_type": "code",
   "execution_count": null,
   "metadata": {
    "deletable": false,
    "editable": false,
    "nbgrader": {
     "checksum": "603a24c8aa00d147746a3cc540b935cf",
     "grade": true,
     "grade_id": "cell-dbbe96a68ed2be68",
     "locked": true,
     "points": 1,
     "schema_version": 1,
     "solution": false
    }
   },
   "outputs": [],
   "source": [
    "past_time = get_past_time(hours=24)\n",
    "assert_equal(past_time[:4],'2017')\n",
    "assert_equal(str(current_day.day-1) in past_time,1)"
   ]
  },
  {
   "cell_type": "markdown",
   "metadata": {},
   "source": [
    "# Problem 3 : Preprocessing Stock Data\n",
    "For this problem read in the dow jones dataset (which is in the same directory) using whichever method you prefer. Then based on how you read in data select the following columns: stock, date, open, high, low, close, percent_change_price and create a dataframe. Set the index to be the date column from the dow jones dataset (*Do not convert your index to datetime*). \n",
    "\n",
    "Save this panadas dataframe as df.\n"
   ]
  },
  {
   "cell_type": "code",
   "execution_count": null,
   "metadata": {
    "deletable": false,
    "nbgrader": {
     "checksum": "f58add0193f51f112b475d638a4ec793",
     "grade": false,
     "grade_id": "cell-8bbb4993abc54c8f",
     "locked": false,
     "schema_version": 1,
     "solution": true
    }
   },
   "outputs": [],
   "source": [
    "# YOUR CODE HERE"
   ]
  },
  {
   "cell_type": "code",
   "execution_count": null,
   "metadata": {
    "deletable": false,
    "editable": false,
    "nbgrader": {
     "checksum": "03be248f93729354399cfc78f1759abe",
     "grade": false,
     "grade_id": "cell-079db0baf9d857b7",
     "locked": true,
     "schema_version": 1,
     "solution": false
    }
   },
   "outputs": [],
   "source": [
    "df.head(5)"
   ]
  },
  {
   "cell_type": "code",
   "execution_count": null,
   "metadata": {
    "deletable": false,
    "editable": false,
    "nbgrader": {
     "checksum": "d957429d7c6651476063c9f6d745f1f2",
     "grade": true,
     "grade_id": "cell-0cc630de094f497d",
     "locked": true,
     "points": 1,
     "schema_version": 1,
     "solution": false
    }
   },
   "outputs": [],
   "source": [
    "assert_true(type(df) == pd.core.frame.DataFrame, \"You did not create a dataframe called df\")\n",
    "assert_equal(sorted(df.columns.tolist()), ['close', 'high', 'low', 'open', 'percent_change_price', 'stock'])\n",
    "assert_equal(helper.df, df[['open', 'high', 'low', 'close']].values.tolist())\n",
    "assert_equal(helper.index, df.index.tolist())"
   ]
  },
  {
   "cell_type": "markdown",
   "metadata": {},
   "source": [
    "# Problem 4: Converting Index to Datetime Index\n",
    "\n",
    "For this problem convert the index to a datetime index."
   ]
  },
  {
   "cell_type": "code",
   "execution_count": null,
   "metadata": {
    "deletable": false,
    "nbgrader": {
     "checksum": "8373ed304e0f052e39cd2ec366a9d54c",
     "grade": false,
     "grade_id": "cell-c9a4a36949a16cb7",
     "locked": false,
     "schema_version": 1,
     "solution": true
    }
   },
   "outputs": [],
   "source": [
    "# YOUR CODE HERE"
   ]
  },
  {
   "cell_type": "code",
   "execution_count": null,
   "metadata": {
    "deletable": false,
    "editable": false,
    "nbgrader": {
     "checksum": "a8e4059838785a28f3662e28f7c6fd7c",
     "grade": true,
     "grade_id": "cell-1c758bac8933c7e2",
     "locked": true,
     "points": 1,
     "schema_version": 1,
     "solution": false
    }
   },
   "outputs": [],
   "source": [
    "assert_true(type(df.index) == pd.tseries.index.DatetimeIndex, msg = 'You did not create a datetime index')\n",
    "assert_equal(df.index.values.tolist()[61:205], helper.index_65_205)"
   ]
  },
  {
   "cell_type": "code",
   "execution_count": null,
   "metadata": {
    "deletable": false,
    "editable": false,
    "nbgrader": {
     "checksum": "e608e6faf5d314693798fd74450ac583",
     "grade": false,
     "grade_id": "cell-540129ba3f6fd8a3",
     "locked": true,
     "schema_version": 1,
     "solution": false
    }
   },
   "outputs": [],
   "source": [
    "# Let's take a look at our data\n",
    "g = sns.pairplot(df, hue='stock', size=3, markers=\"+\", diag_kind=\"kde\")"
   ]
  },
  {
   "cell_type": "markdown",
   "metadata": {},
   "source": [
    "In the cell below we'll take a look at percent_change_price for MSFT, IBM, and CSCO."
   ]
  },
  {
   "cell_type": "code",
   "execution_count": null,
   "metadata": {
    "deletable": false,
    "editable": false,
    "nbgrader": {
     "checksum": "1baf9d0e395b9b0c03e2da40f73f47b5",
     "grade": false,
     "grade_id": "cell-39da175a13ed861e",
     "locked": true,
     "schema_version": 1,
     "solution": false
    }
   },
   "outputs": [],
   "source": [
    "df[(df['stock'] == 'IBM') | (df['stock'] == 'MSFT') | (df['stock'] == 'CSCO')].percent_change_price.plot(figsize=(12, 6))"
   ]
  },
  {
   "cell_type": "markdown",
   "metadata": {},
   "source": [
    "# Problem 5: Fourier Transforms \n",
    "\n",
    "For this problem compute a one-dimensional discrete Fourier Transform on *data* save this variable as yfft. Then compute the Discrete Fourier Transform sample frequencies (set the Sample spacing  to .1) and save it in a variable called freq_yfft.\n"
   ]
  },
  {
   "cell_type": "code",
   "execution_count": null,
   "metadata": {
    "deletable": false,
    "editable": false,
    "nbgrader": {
     "checksum": "ab5f9fbef2448ad3016cd42fa64abe6a",
     "grade": false,
     "grade_id": "cell-7c9990ce0313d069",
     "locked": true,
     "schema_version": 1,
     "solution": false
    }
   },
   "outputs": [],
   "source": [
    "data = df[(df['stock'] == 'IBM') | (df['stock'] == 'MSFT') | (df['stock'] == 'CSCO')].percent_change_price"
   ]
  },
  {
   "cell_type": "code",
   "execution_count": null,
   "metadata": {
    "deletable": false,
    "nbgrader": {
     "checksum": "80de70abf32cff5f557ea6ccd5e0e295",
     "grade": false,
     "grade_id": "cell-d5dbeb683ac5d982",
     "locked": false,
     "schema_version": 1,
     "solution": true
    }
   },
   "outputs": [],
   "source": [
    "# YOUR CODE HERE"
   ]
  },
  {
   "cell_type": "code",
   "execution_count": null,
   "metadata": {
    "deletable": false,
    "editable": false,
    "nbgrader": {
     "checksum": "6f0703c7760757fc53a1028fb9c7fa93",
     "grade": true,
     "grade_id": "cell-a4f925f786a95929",
     "locked": true,
     "points": 1,
     "schema_version": 1,
     "solution": false
    }
   },
   "outputs": [],
   "source": [
    "assert_equal(yfft.tolist(), helper.yf)\n",
    "assert_equal(freq_yfft.tolist(), helper.freq)"
   ]
  },
  {
   "cell_type": "markdown",
   "metadata": {},
   "source": [
    "# Problem 6: Visualizing Results\n",
    "\n",
    "For this problem, we will plot the signal from problem 5. Plot it using matplotlib with a fig and ax object. Title the plot \"signal\" and label the x-axis as \"Frequency\". Finally, set the limits of the x-axis to be 0 to 4."
   ]
  },
  {
   "cell_type": "code",
   "execution_count": null,
   "metadata": {
    "deletable": false,
    "nbgrader": {
     "checksum": "18fd8d7ff7b5a6b0a01021d808dde1c2",
     "grade": false,
     "grade_id": "cell-88678889904a65e4",
     "locked": false,
     "schema_version": 1,
     "solution": true
    }
   },
   "outputs": [],
   "source": [
    "# YOUR CODE HERE"
   ]
  },
  {
   "cell_type": "code",
   "execution_count": null,
   "metadata": {
    "deletable": false,
    "editable": false,
    "nbgrader": {
     "checksum": "3e266c17d2686008b41e7c049fe9b762",
     "grade": true,
     "grade_id": "cell-45bfef3ce30a2fae",
     "locked": true,
     "points": 1,
     "schema_version": 1,
     "solution": false
    }
   },
   "outputs": [],
   "source": [
    "assert_equal(ax.get_xlabel(),'Frequency')\n",
    "assert_equal(ax.get_title(),'Signal')\n",
    "assert_equal(ax.get_xlim()[0],0.0)\n",
    "assert_equal(ax.get_xlim()[1],4.0)\n",
    "assert_equal(ax.lines[0].get_data()[0][3],0.4)\n",
    "assert_equal(len(ax.lines[0].get_data()[0]),75)"
   ]
  }
 ],
 "metadata": {
  "kernelspec": {
   "display_name": "Python 3",
   "language": "python",
   "name": "python3"
  },
  "language_info": {
   "codemirror_mode": {
    "name": "ipython",
    "version": 3
   },
   "file_extension": ".py",
   "mimetype": "text/x-python",
   "name": "python",
   "nbconvert_exporter": "python",
   "pygments_lexer": "ipython3",
   "version": "3.6.1"
  }
 },
 "nbformat": 4,
 "nbformat_minor": 2
}
