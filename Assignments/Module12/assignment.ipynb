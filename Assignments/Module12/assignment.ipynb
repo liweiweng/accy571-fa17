{
 "cells": [
  {
   "cell_type": "markdown",
   "metadata": {},
   "source": [
    "# Module 12 Assignment\n",
    "\n",
    "A few things you should keep in mind when working on assignments:\n",
    "\n",
    "1. Make sure you fill in any place that says `YOUR CODE HERE`. Do **not** write your answer in anywhere else other than where it says `YOUR CODE HERE`. Anything you write anywhere else will be removed or overwritten by the autograder.\n",
    "\n",
    "2. Before you submit your assignment, make sure everything runs as expected. Go to menubar, select _Kernel_, and restart the kernel and run all cells (_Restart & Run all_).\n",
    "\n",
    "3. Do not change the title (i.e. file name) of this notebook.\n",
    "\n",
    "4. Make sure that you save your work (in the menubar, select _File_ → _Save and CheckPoint_)\n",
    "\n",
    "5. You are allowed to submit an assignment multiple times, but only the most recent submission will be graded."
   ]
  },
  {
   "cell_type": "code",
   "execution_count": null,
   "metadata": {
    "collapsed": true,
    "deletable": false,
    "editable": false,
    "nbgrader": {
     "checksum": "33939500e53a36a9eaf99edd6318df5e",
     "grade": false,
     "grade_id": "cell-c024f82b8380093a",
     "locked": true,
     "schema_version": 1,
     "solution": false
    }
   },
   "outputs": [],
   "source": [
    "import numpy as np\n",
    "import matplotlib.pyplot as plt\n",
    "%matplotlib inline\n",
    "\n",
    "from nose.tools import assert_equal, assert_almost_equal, assert_is_instance\n",
    "import helper\n",
    "\n",
    "import pandas as pd\n",
    "\n",
    "\n",
    "import matplotlib.pyplot as plt\n",
    "import seaborn as sns\n",
    "\n",
    "# These two lines suppress warnings that sometimes\n",
    "# occur when making visualizations\n",
    "import warnings\n",
    "warnings.filterwarnings('ignore')\n",
    "\n",
    "# Set global figure properties\n",
    "import matplotlib as mpl\n",
    "mpl.rcParams.update({'axes.titlesize' : 20,\n",
    "                     'axes.labelsize' : 18,\n",
    "                     'legend.fontsize': 16})\n",
    "\n",
    "# Set default Seaborn plotting style\n",
    "sns.set_style('white')\n",
    "\n",
    "from datetime import datetime\n",
    "import statsmodels.api as sm"
   ]
  },
  {
   "cell_type": "markdown",
   "metadata": {},
   "source": [
    "Let's load in the stock data and convert its index to date time."
   ]
  },
  {
   "cell_type": "code",
   "execution_count": null,
   "metadata": {
    "collapsed": true,
    "deletable": false,
    "editable": false,
    "nbgrader": {
     "checksum": "72fdf75685e0f663ea13a26d8683ce80",
     "grade": false,
     "grade_id": "cell-8ed27814e234935a",
     "locked": true,
     "schema_version": 1,
     "solution": false
    }
   },
   "outputs": [],
   "source": [
    "df = pd.read_csv('./dow_jones_index.data', index_col=1, usecols=(1,2,3,4,5,6,8))\n",
    "df.index = pd.to_datetime(df.index)"
   ]
  },
  {
   "cell_type": "markdown",
   "metadata": {},
   "source": [
    "# Problem 1: Plot time series data\n",
    "\n",
    "Write a function called $\\texttt{time_series_plotter}$ which takes in a pandas data frame and a stock ticker name and plots the time series of the stocks high price. The function should return a matplotlib.axes object. Furthermore, title the plot \"Stock price\", label the x-axis \"Date\", and label the y-axis \"Price high\"."
   ]
  },
  {
   "cell_type": "code",
   "execution_count": null,
   "metadata": {
    "collapsed": true,
    "deletable": false,
    "nbgrader": {
     "checksum": "7e878489997f9fef8462da9b7bf88227",
     "grade": false,
     "grade_id": "cell-82a0eba13c6ad805",
     "locked": false,
     "schema_version": 1,
     "solution": true
    }
   },
   "outputs": [],
   "source": [
    "def time_series_plotter(stock_name,data):\n",
    "    '''\n",
    "    \n",
    "    Inputs\n",
    "    --------\n",
    "    \n",
    "    stock_name: a string, the ticker name of the stock\n",
    "    \n",
    "    data: the data containing the stock names and prices\n",
    "    \n",
    "    \n",
    "    Outputs\n",
    "    --------\n",
    "    \n",
    "    ax: a matplotlib axes object containing the time series plot\n",
    "    \n",
    "    '''\n",
    "    \n",
    "    \n",
    "    # YOUR CODE HERE\n",
    "    \n",
    "    return ax"
   ]
  },
  {
   "cell_type": "code",
   "execution_count": null,
   "metadata": {
    "collapsed": true,
    "deletable": false,
    "editable": false,
    "nbgrader": {
     "checksum": "b99d3214f5967fbd17ca8022db1c1c74",
     "grade": false,
     "grade_id": "cell-acb681ddc75088e8",
     "locked": true,
     "schema_version": 1,
     "solution": false
    }
   },
   "outputs": [],
   "source": [
    "#Let's see how the plot looks\n",
    "time_series_plot = time_series_plotter('AA',df)"
   ]
  },
  {
   "cell_type": "code",
   "execution_count": null,
   "metadata": {
    "collapsed": true,
    "deletable": false,
    "editable": false,
    "nbgrader": {
     "checksum": "91ed019b4f2a18ebbfbf4492481a485f",
     "grade": true,
     "grade_id": "cell-d26f83c390986ef1",
     "locked": true,
     "points": 1,
     "schema_version": 1,
     "solution": false
    }
   },
   "outputs": [],
   "source": [
    "assert_equal(time_series_plot.get_title(),'Stock price')\n",
    "assert_equal(time_series_plot.get_xlabel(),'Date')\n",
    "assert_equal(time_series_plot.get_ylabel(),'Price high')\n",
    "assert_equal(time_series_plot.lines[0].get_data()[1][0],16.72)\n",
    "assert_equal(np.shape(time_series_plot.lines[0].get_data())[0],2)\n",
    "assert_equal(np.shape(time_series_plot.lines[0].get_data())[1],25)"
   ]
  },
  {
   "cell_type": "markdown",
   "metadata": {},
   "source": [
    "# Problem 2: Fit an ARMA model\n",
    "\n",
    "Write a function called $\\texttt{ARMA_model}$ which takes in a pandas data frame and a stock ticker name and fits an ARMA model to the price high of the stock. When initializing the ARMA model, pass (7,1) as the order parameters. Furthermore when fitting the model, set \"trend = 'c'\" and \"disp = True\"."
   ]
  },
  {
   "cell_type": "code",
   "execution_count": null,
   "metadata": {
    "collapsed": true,
    "deletable": false,
    "nbgrader": {
     "checksum": "338ed668099d4c4925a8ac40b5755a3f",
     "grade": false,
     "grade_id": "cell-d30dff10e6bb73fe",
     "locked": false,
     "schema_version": 1,
     "solution": true
    }
   },
   "outputs": [],
   "source": [
    "def ARMA_model(stock_name,data):\n",
    "    '''\n",
    "    \n",
    "    Inputs\n",
    "    --------\n",
    "    \n",
    "    stock_name: a string, the ticker name of the stock\n",
    "    \n",
    "    data: the data containing the stock names and prices\n",
    "    \n",
    "    \n",
    "    Outputs\n",
    "    --------\n",
    "    \n",
    "    estimated_parameters: a pandas series, containing the estimated parameter values for the ARMA model\n",
    "    \n",
    "    '''\n",
    "    \n",
    "    \n",
    "    # YOUR CODE HERE\n",
    "    \n",
    "    return estimated_parameters"
   ]
  },
  {
   "cell_type": "code",
   "execution_count": null,
   "metadata": {
    "collapsed": true,
    "deletable": false,
    "editable": false,
    "nbgrader": {
     "checksum": "979e048252d6793ec227fd3c26e18f08",
     "grade": true,
     "grade_id": "cell-553e98825a470a3d",
     "locked": true,
     "points": 1,
     "schema_version": 1,
     "solution": false
    }
   },
   "outputs": [],
   "source": [
    "estimated_params = ARMA_model('AA',df)\n",
    "assert_equal(estimated_params[0],16.990166121630605)\n",
    "assert_equal(len(estimated_params),9)\n",
    "assert_is_instance(estimated_params,pd.core.series.Series)"
   ]
  },
  {
   "cell_type": "code",
   "execution_count": null,
   "metadata": {
    "collapsed": true,
    "deletable": false,
    "editable": false,
    "nbgrader": {
     "checksum": "3490f1b0bf514373b328c53f0a9986ea",
     "grade": false,
     "grade_id": "cell-8fc96051d3b3ab55",
     "locked": true,
     "schema_version": 1,
     "solution": false
    }
   },
   "outputs": [],
   "source": [
    "#Let's see what the estimated parameter values are.\n",
    "print(estimated_params)"
   ]
  },
  {
   "cell_type": "markdown",
   "metadata": {},
   "source": [
    "# Problem 3: Simulating Hidden States\n",
    "\n",
    "Recall in Assignment 9 Problem 3 We had a 2 State Markov Chain: Cancer and No Cancer for 50 trials. where the state transition probabilities were as:\n",
    "```\n",
    " .90 .10\n",
    " .05 .95 \n",
    "```\n",
    "which corresponded to\n",
    "```\n",
    "CC CN\n",
    "NC NN\n",
    "```\n",
    "where C is Cancer and N is No Cancer and the first state was [0 1].\n",
    "\n",
    "To complete this problem simulate 100 hidden states using the first state (as the starting state) and transisition probabilites with numpy's implementation for a [pseudo-random number generator](https://docs.scipy.org/doc/numpy-1.13.0/reference/generated/numpy.random.RandomState.html).\n",
    "\n",
    "Store the hidden states in a variable called hidden_state (this should be a 100x1 numpy array).\n"
   ]
  },
  {
   "cell_type": "code",
   "execution_count": null,
   "metadata": {
    "collapsed": true,
    "deletable": false,
    "nbgrader": {
     "checksum": "5a985f74004db9c6a7711b0c69f15c82",
     "grade": false,
     "grade_id": "cell-a20a1a3cb393fac1",
     "locked": false,
     "schema_version": 1,
     "solution": true
    }
   },
   "outputs": [],
   "source": [
    "# YOUR CODE HERE"
   ]
  },
  {
   "cell_type": "code",
   "execution_count": null,
   "metadata": {
    "collapsed": true,
    "deletable": false,
    "editable": false,
    "nbgrader": {
     "checksum": "376386f04b9c8b060cf30e29eecd1076",
     "grade": true,
     "grade_id": "cell-3bf2b3422ea158d7",
     "locked": true,
     "points": 1,
     "schema_version": 1,
     "solution": false
    }
   },
   "outputs": [],
   "source": [
    "assert_equal(hidden_state.tolist(), \n",
    "[1, 1, 1, 1, 0, 0, 0, 0, 0, 0, 0, 0, 0, 0, 0, 0, 0, 0, 0, 0, 0, 1, 1, 1, 1, 1, 1, 1, 1, 1, 1, 1, 1, 1, 1, 1, 1, 1, 1, 1, 1, 1, 1, 1, 1, 1, 1, 1, 1, 1, 1, 1, 1, 1, 1, 1, 1, 1, 1, 1, 1, 0, 0, 0, 0, 0, 0, 0, 0, 0, 0, 1, 1, 1, 1, 1, 1, 1, 1, 1, 0, 0, 0, 0, 0, 0, 1, 1, 1, 1, 1, 1, 0, 0, 0, 0, 1, 1, 1, 1])"
   ]
  },
  {
   "cell_type": "markdown",
   "metadata": {},
   "source": [
    "# Problem 4: Plot the Hidden States\n",
    "\n",
    "For this problem create a figure and axes object using the subplot function. Use the plot function from the Axes object to plot the index (0-99) and the hidden states. Name the axes object ax."
   ]
  },
  {
   "cell_type": "code",
   "execution_count": null,
   "metadata": {
    "collapsed": true,
    "deletable": false,
    "nbgrader": {
     "checksum": "2a596ea397f1bb6d7360807c97dd2449",
     "grade": false,
     "grade_id": "cell-bddaf91afe7c5385",
     "locked": false,
     "schema_version": 1,
     "solution": true
    }
   },
   "outputs": [],
   "source": [
    "# YOUR CODE HERE"
   ]
  },
  {
   "cell_type": "code",
   "execution_count": null,
   "metadata": {
    "collapsed": true,
    "deletable": false,
    "editable": false,
    "nbgrader": {
     "checksum": "3c37549263e8153b7f5a73f1d6ae6276",
     "grade": true,
     "grade_id": "cell-ab979ec3e417ccac",
     "locked": true,
     "points": 1,
     "schema_version": 1,
     "solution": false
    }
   },
   "outputs": [],
   "source": [
    "assert_equal(ax.lines[0].get_xdata().tolist()[0:20], \n",
    "             [0, 1, 2, 3, 4, 5, 6, 7, 8, 9, 10, 11, 12, 13, 14, 15, 16, 17, 18, 19])\n",
    "\n",
    "assert_equal(ax.lines[0].get_ydata().tolist()[0:100], \n",
    "[1, 1, 1, 1, 0, 0, 0, 0, 0, 0, 0, 0, 0, 0, 0, 0, 0, 0, 0, 0, 0, 1, 1, 1, 1, 1, 1, 1, 1, 1, 1, 1, 1, 1, 1, 1, 1, 1, 1, 1, 1, 1, 1, 1, 1, 1, 1, 1, 1, 1, 1, 1, 1, 1, 1, 1, 1, 1, 1, 1, 1, 0, 0, 0, 0, 0, 0, 0, 0, 0, 0, 1, 1, 1, 1, 1, 1, 1, 1, 1, 0, 0, 0, 0, 0, 0, 1, 1, 1, 1, 1, 1, 0, 0, 0, 0, 1, 1, 1, 1])"
   ]
  },
  {
   "cell_type": "markdown",
   "metadata": {},
   "source": [
    "# Problem 5: Estimating Hidden States with Kalman Filters\n",
    "\n",
    "Write a function called kalman_filter that accepts 1 parameter. The autograder will pass in hidden states that you genereated as the signal. Create 100x1 numpy arrays for the signal estimates and prior, the error estimates and prior, and the gain. Set the inital state of signal estimate to 0 and the error estimate to 2.5.\n",
    "\n",
    "Lastly, Perform Kalman filtering:\n",
    "- when updating priors use a variance of 0.1\n",
    "- when updating estimates use a variance of 0.01\n",
    "\n",
    "Return the estimate of the signal and also the error of the signal."
   ]
  },
  {
   "cell_type": "code",
   "execution_count": null,
   "metadata": {
    "collapsed": true,
    "deletable": false,
    "nbgrader": {
     "checksum": "5ecbaeb4c9c8e85ed18a908527d11b9d",
     "grade": false,
     "grade_id": "cell-a8a2f164546468cf",
     "locked": false,
     "schema_version": 1,
     "solution": true
    }
   },
   "outputs": [],
   "source": [
    "# YOUR CODE HERE"
   ]
  },
  {
   "cell_type": "code",
   "execution_count": null,
   "metadata": {
    "collapsed": true,
    "deletable": false,
    "editable": false,
    "nbgrader": {
     "checksum": "ca6b50eb332cb136a3103b4d43f75433",
     "grade": true,
     "grade_id": "cell-29be8c067bb3dc91",
     "locked": true,
     "points": 1,
     "schema_version": 1,
     "solution": false
    }
   },
   "outputs": [],
   "source": [
    "x_est, err_prior = kalman_filter(hidden_state)"
   ]
  },
  {
   "cell_type": "markdown",
   "metadata": {},
   "source": [
    "Let's take a look at the estimates."
   ]
  },
  {
   "cell_type": "code",
   "execution_count": null,
   "metadata": {
    "collapsed": true,
    "deletable": false,
    "editable": false,
    "nbgrader": {
     "checksum": "49c32e89039646ba5b8cb97104443d50",
     "grade": false,
     "grade_id": "cell-0a18db51ddfc2a17",
     "locked": true,
     "schema_version": 1,
     "solution": false
    }
   },
   "outputs": [],
   "source": [
    "fig, ax = plt.subplots(figsize=(12, 6))\n",
    "x = np.linspace(0, len(hidden_state) - 1, len(hidden_state))\n",
    "ax.scatter(x, hidden_state, marker='+', alpha=0.75, label='Observed Hidden States')\n",
    "ax.plot(x_est, lw=2,color='orange', label='Estimate')\n",
    "ax.legend()"
   ]
  },
  {
   "cell_type": "code",
   "execution_count": null,
   "metadata": {
    "collapsed": true,
    "deletable": false,
    "editable": false,
    "nbgrader": {
     "checksum": "f0fea480fd23e2f06bca39d798a374c6",
     "grade": true,
     "grade_id": "cell-cdd3b9c26e8ab789",
     "locked": true,
     "points": 1,
     "schema_version": 1,
     "solution": false
    }
   },
   "outputs": [],
   "source": [
    "for ans, sol in zip(x_est.tolist(), [0.0, 0.996168582375479, 0.9996806132226126, 0.9999731982525261, 0.08391793990566809, 0.007042411702294915, 0.0005910007175486858, 4.959690840496253e-05, 4.162183310932926e-06, 3.492913262326489e-07, 2.931260385886664e-08, 2.459920073751117e-09, 2.0643702614680221e-10, 1.7324240010509863e-11, 1.4538539793162977e-12, 1.2200774128570992e-13, 1.0238916112222692e-14, 8.592520609625629e-16, 7.210861932808018e-17, 6.051370974399703e-18, 5.078323647163105e-19, 0.9160797830996161, 0.9929573971953926, 0.9994089832450941, 0.9999504017457366, 0.9999958377037443, 0.9999996506991954, 0.9999999706866007, 0.9999999975400132, 0.9999999997935574, 0.9999999999826753, 0.9999999999985462, 0.999999999999878, 0.9999999999999898, 0.9999999999999991, 0.9999999999999999, 1.0, 1.0, 1.0, 1.0, 1.0, 1.0, 1.0, 1.0, 1.0, 1.0, 1.0, 1.0, 1.0, 1.0, 1.0, 1.0, 1.0, 1.0, 1.0, 1.0, 1.0, 1.0, 1.0, 1.0, 1.0, 0.08392021690038387, 0.007042602804607473, 0.000591016754905911, 4.959825426346508e-05, 4.162296255670378e-06, 3.4930080457951383e-07, 2.9313399283791385e-08, 2.4599868259833305e-09, 2.0644262800860806e-10, 1.732471011996765e-11, 0.91607978310107, 0.9929573971955146, 0.9994089832451043, 0.9999504017457373, 0.9999958377037445, 0.9999996506991954, 0.9999999706866007, 0.9999999975400132, 0.9999999997935574, 0.08392021688305917, 0.00704260280315358, 0.0005910167547839001, 4.9598254253225877e-05, 4.1622962548111e-06, 3.4930080450740295e-07, 0.9160798124130154, 0.9929573996553793, 0.9994089834515367, 0.9999504017630613, 0.9999958377051982, 0.9999996506993174, 0.08392018758699482, 0.007042600344621508, 0.0005910165484633552, 4.959823693876102e-05, 0.916083945394418, 0.992957746496075, 0.9994090125584831, 0.9999504042057225]):\n",
    "    assert_almost_equal(ans, sol, places=2)\n"
   ]
  },
  {
   "cell_type": "markdown",
   "metadata": {},
   "source": [
    "# Problem 6: Plotting the error convergence\n",
    "\n",
    "Using a matplotlib axes object, plot the estimated error versus the number of iterations of the Kalman filter. Title the plot \"Convergence\", label the x-axis \"Iteration\", and label the y-axis \"Error in estimate\". Save the matplotlib axes object as a variable called $\\texttt{ax}$."
   ]
  },
  {
   "cell_type": "code",
   "execution_count": null,
   "metadata": {
    "collapsed": true,
    "deletable": false,
    "nbgrader": {
     "checksum": "8f00055f906b20086a4864bbc195f888",
     "grade": false,
     "grade_id": "cell-84d40521478ec851",
     "locked": false,
     "schema_version": 1,
     "solution": true
    }
   },
   "outputs": [],
   "source": [
    "# YOUR CODE HERE"
   ]
  },
  {
   "cell_type": "code",
   "execution_count": null,
   "metadata": {
    "collapsed": true,
    "deletable": false,
    "editable": false,
    "nbgrader": {
     "checksum": "7b0667ff122dd5ec7597cc2e7ed92fcb",
     "grade": true,
     "grade_id": "cell-81a8b13fd6b640af",
     "locked": true,
     "points": 1,
     "schema_version": 1,
     "solution": false
    }
   },
   "outputs": [],
   "source": [
    "assert_equal(ax.get_title(),'Convergence')\n",
    "assert_equal(ax.get_xlabel(),'Iteration')\n",
    "assert_equal(ax.get_ylabel(),'Error in estimate')\n",
    "assert_equal(ax.lines[0].get_data()[1][0],0.1099616858237546)\n",
    "assert_equal(np.shape(ax.lines[0].get_data())[0],2)\n",
    "assert_equal(np.shape(ax.lines[0].get_data())[1],98)"
   ]
  },
  {
   "cell_type": "code",
   "execution_count": null,
   "metadata": {
    "collapsed": true
   },
   "outputs": [],
   "source": []
  }
 ],
 "metadata": {
  "kernelspec": {
   "display_name": "Python 3",
   "language": "python",
   "name": "python3"
  },
  "language_info": {
   "codemirror_mode": {
    "name": "ipython",
    "version": 3
   },
   "file_extension": ".py",
   "mimetype": "text/x-python",
   "name": "python",
   "nbconvert_exporter": "python",
   "pygments_lexer": "ipython3",
   "version": "3.6.1"
  }
 },
 "nbformat": 4,
 "nbformat_minor": 2
}
