{
 "cells": [
  {
   "cell_type": "markdown",
   "metadata": {},
   "source": [
    "# Module 9 Assignment\n",
    "\n",
    "A few things you should keep in mind when working on assignments:\n",
    "\n",
    "1. Make sure you fill in any place that says `YOUR CODE HERE`. Do **not** write your answer in anywhere else other than where it says `YOUR CODE HERE`. Anything you write anywhere else will be removed or overwritten by the autograder.\n",
    "\n",
    "2. Before you submit your assignment, make sure everything runs as expected. Go to menubar, select _Kernel_, and restart the kernel and run all cells (_Restart & Run all_).\n",
    "\n",
    "3. Do not change the title (i.e. file name) of this notebook.\n",
    "\n",
    "4. Make sure that you save your work (in the menubar, select _File_ → _Save and CheckPoint_)\n",
    "\n",
    "5. You are allowed to submit an assignment multiple times, but only the most recent submission will be graded."
   ]
  },
  {
   "cell_type": "code",
   "execution_count": null,
   "metadata": {
    "deletable": false,
    "editable": false,
    "nbgrader": {
     "checksum": "5dfd0a50aa007c3b3857f05cece471a5",
     "grade": false,
     "grade_id": "cell-09b57c293a1b924a",
     "locked": true,
     "schema_version": 1,
     "solution": false
    }
   },
   "outputs": [],
   "source": [
    "import numpy as np\n",
    "from nose.tools import assert_equal, assert_is_instance, assert_almost_equal\n",
    "import matplotlib.pyplot as plt\n",
    "%matplotlib inline\n",
    "from numpy.random import RandomState\n",
    "import helper\n",
    "\n"
   ]
  },
  {
   "cell_type": "markdown",
   "metadata": {},
   "source": [
    "# Problem 1: Bernoulli Success Probability Posterior Estimation\n",
    "\n",
    "Write a function called $\\texttt{binom_posterior}$ which takes as inputs a variable $\\texttt{bias}$ which gives the probability a coin lands heads and $\\texttt{num_flips}$ which is the number of flips to simulate. When evaluating the prior and the likelihood use the same values as in the $\\texttt{intro2bs}$ notebook. Furthermore, we will also go ahead and define the binomial function from the same notebook."
   ]
  },
  {
   "cell_type": "code",
   "execution_count": null,
   "metadata": {
    "deletable": false,
    "editable": false,
    "nbgrader": {
     "checksum": "1836df5aa4c998492611ddb1cf4c2ed5",
     "grade": false,
     "grade_id": "cell-414da8feb31cd23f",
     "locked": true,
     "schema_version": 1,
     "solution": false
    }
   },
   "outputs": [],
   "source": [
    "#Set seed for reproducability\n",
    "np.random.seed(0)"
   ]
  },
  {
   "cell_type": "code",
   "execution_count": null,
   "metadata": {
    "deletable": false,
    "editable": false,
    "nbgrader": {
     "checksum": "fc6b3bd237dd6fcc7cdd87f16f35f7d5",
     "grade": false,
     "grade_id": "cell-d401cb19c762deef",
     "locked": true,
     "schema_version": 1,
     "solution": false
    }
   },
   "outputs": [],
   "source": [
    "def binomial(data, n, h):\n",
    "    # We can ignore the combination since it divides out in the normalization\n",
    "    # Build up our probabilities\n",
    "    p = [(x**h * (1 - x)**(n - h)) for x in data]\n",
    "    \n",
    "    # Normalize probabilities\n",
    "    return (p / sum(p))"
   ]
  },
  {
   "cell_type": "code",
   "execution_count": null,
   "metadata": {
    "deletable": false,
    "nbgrader": {
     "checksum": "713ff6e7bd966772fafafe3dad556126",
     "grade": false,
     "grade_id": "cell-080040e4f3164695",
     "locked": false,
     "schema_version": 1,
     "solution": true
    }
   },
   "outputs": [],
   "source": [
    "def binom_posterior(bias,num_flips):\n",
    "    \n",
    "    '''\n",
    "    Inputs\n",
    "    -------\n",
    "    bias: the probability the biased coin in heads\n",
    "    \n",
    "    num_flips: the number of coin flips to simulate\n",
    "    \n",
    "    \n",
    "    Returns\n",
    "    -------\n",
    "    \n",
    "    posterior: the posterior distribution for the probability of landing on heads\n",
    "    \n",
    "    '''\n",
    "    \n",
    "    # YOUR CODE HERE\n",
    "    \n",
    "    return posterior"
   ]
  },
  {
   "cell_type": "code",
   "execution_count": null,
   "metadata": {
    "deletable": false,
    "editable": false,
    "nbgrader": {
     "checksum": "354542f138462833c39bd64092975eeb",
     "grade": true,
     "grade_id": "cell-7e661a47d259b3f6",
     "locked": true,
     "points": 1,
     "schema_version": 1,
     "solution": false
    }
   },
   "outputs": [],
   "source": [
    "x = np.arange(0.0, 1.0, 0.01)\n",
    "posterior_mean  = sum(x*binom_posterior(.7,1000))\n",
    "assert_equal(0.69762845849802357,posterior_mean)"
   ]
  },
  {
   "cell_type": "markdown",
   "metadata": {},
   "source": [
    "# Problem 2: Bayesian Disease Calculation\n",
    "\n",
    "Write a function called $\\texttt{disease_calc}$ which, given $P(+|Disease)$,$P(Disease)$, and $P(+|No Disease)$ returns $P(Disease|+)$"
   ]
  },
  {
   "cell_type": "code",
   "execution_count": null,
   "metadata": {
    "deletable": false,
    "nbgrader": {
     "checksum": "22690c07c8955838d3de7ce9927ef013",
     "grade": false,
     "grade_id": "cell-892ed45124bcbf1f",
     "locked": false,
     "schema_version": 1,
     "solution": true
    }
   },
   "outputs": [],
   "source": [
    "def disease_calc(pd,ppd,ppnd):\n",
    "    \n",
    "    '''\n",
    "    Inputs\n",
    "    -------\n",
    "    pd: the probability of having the disease\n",
    "    \n",
    "    ppd: the probability of getting a positive result given you have the disease\n",
    "    \n",
    "    ppnd: the probability of getting a positive result given you dont have the disease\n",
    "    \n",
    "    \n",
    "    Returns\n",
    "    -------\n",
    "    \n",
    "    posterior: the probability you have a disease given a positive test result\n",
    "    \n",
    "    '''\n",
    "    \n",
    "    # YOUR CODE HERE\n",
    "    \n",
    "    return posterior"
   ]
  },
  {
   "cell_type": "code",
   "execution_count": null,
   "metadata": {
    "deletable": false,
    "editable": false,
    "nbgrader": {
     "checksum": "dbfe1852b99fad112d9d5823e6538b55",
     "grade": true,
     "grade_id": "cell-cf4cbb94aa45f2ee",
     "locked": true,
     "points": 1,
     "schema_version": 1,
     "solution": false
    }
   },
   "outputs": [],
   "source": [
    "p_pos_given_disease = disease_calc(.01,.9,.5)\n",
    "assert_equal(p_pos_given_disease,0.01785714285714286)"
   ]
  },
  {
   "cell_type": "code",
   "execution_count": null,
   "metadata": {
    "deletable": false,
    "editable": false,
    "nbgrader": {
     "checksum": "050e02ba4065b11ea61937c8da919d99",
     "grade": false,
     "grade_id": "cell-753f83b04f24c927",
     "locked": true,
     "schema_version": 1,
     "solution": false
    }
   },
   "outputs": [],
   "source": [
    "from numpy.random import RandomState\n",
    "import numpy as np\n",
    "from nose.tools import assert_equal"
   ]
  },
  {
   "cell_type": "markdown",
   "metadata": {},
   "source": [
    "# Problem 3: Create a Discrete Markov Distribution\n",
    "\n",
    "We have a 2 State Markov Chain: Cancer and No Cancer for 50 trials. Define the state transition probabilities  as:\n",
    "```\n",
    " .90 .10\n",
    " .05 .95 \n",
    "```\n",
    "this corresponds to\n",
    "```\n",
    "CC CN\n",
    "NC NN\n",
    "```\n",
    "where C is Cancer and N is No Cancer.\n",
    "and the first state should be [0 1]. Save the states to a variable called state.\n"
   ]
  },
  {
   "cell_type": "code",
   "execution_count": null,
   "metadata": {
    "deletable": false,
    "nbgrader": {
     "checksum": "d892e41b032f5efac48bcb27f8f3f3bd",
     "grade": false,
     "grade_id": "cell-deb0f99768b3f63d",
     "locked": false,
     "schema_version": 1,
     "solution": true
    }
   },
   "outputs": [],
   "source": [
    "# YOUR CODE HERE"
   ]
  },
  {
   "cell_type": "code",
   "execution_count": null,
   "metadata": {
    "deletable": false,
    "editable": false,
    "nbgrader": {
     "checksum": "160166084a914cc405836cc265906d36",
     "grade": true,
     "grade_id": "cell-a61354a72f3e90d7",
     "locked": true,
     "points": 0,
     "schema_version": 1,
     "solution": false
    }
   },
   "outputs": [],
   "source": [
    "_sol = [[0.0, 1.0], [0.05, 0.95], [0.0925, 0.9074999999999999], [0.128625, 0.8713749999999998], [0.15933124999999998, 0.8406687499999997], [0.18543156249999998, 0.8145684374999997], [0.20761682812499996, 0.7923831718749997], [0.22647430390624995, 0.7735256960937497], [0.24250315832031244, 0.7574968416796871], [0.25612768457226553, 0.743872315427734], [0.2677085318864257, 0.7322914681135738], [0.2775522521034618, 0.7224477478965377], [0.2859194142879425, 0.7140805857120569], [0.2930315021447511, 0.7069684978552483], [0.2990767768230384, 0.700923223176961], [0.3042152602995826, 0.6957847397004168], [0.30858297125464523, 0.6914170287453542], [0.31229552556644846, 0.687704474433551], [0.3154511967314812, 0.6845488032685183], [0.31813351722175903, 0.6818664827782405], [0.32041348963849514, 0.6795865103615043], [0.3223514661927208, 0.6776485338072786], [0.3239987462638127, 0.6760012537361868], [0.3253989343242408, 0.6746010656757587], [0.3265890941756046, 0.6734109058243949], [0.32760073004926393, 0.6723992699507356], [0.3284606205418743, 0.6715393794581253], [0.3291915274605931, 0.6708084725394063], [0.3298127983415041, 0.6701872016584953], [0.3303408785902785, 0.669659121409721], [0.33078974680173673, 0.6692102531982628], [0.33117128478147617, 0.6688287152185233], [0.3314955920642547, 0.6685044079357447], [0.3317712532546165, 0.6682287467453829], [0.332005565266424, 0.6679944347335753], [0.3322047304764604, 0.667795269523539], [0.3323740209049913, 0.667625979095008], [0.33251791776924255, 0.6674820822307567], [0.3326402301038562, 0.6673597698961431], [0.3327441955882777, 0.6672558044117215], [0.33283256625003604, 0.6671674337499631], [0.3329076813125306, 0.6670923186874685], [0.33297152911565103, 0.6670284708843481], [0.3330257997483033, 0.6669742002516958], [0.33307192978605776, 0.6669280702139414], [0.33311114031814903, 0.6668888596818501], [0.3331444692704266, 0.6668555307295725], [0.33317279887986256, 0.6668272011201365], [0.33319687904788314, 0.6668031209521159], [0.3332173471907007, 0.6667826528092984]]\n",
    "for ans, sol in zip(state.tolist(), _sol):\n",
    "    assert_almost_equal(ans[0], sol[0], places=2)\n",
    "    assert_almost_equal(ans[1], sol[1], places=2)"
   ]
  },
  {
   "cell_type": "code",
   "execution_count": null,
   "metadata": {
    "deletable": false,
    "editable": false,
    "nbgrader": {
     "checksum": "1be77f90009f7a6f81ec45beb0f790d7",
     "grade": false,
     "grade_id": "cell-337312a4bb4568f8",
     "locked": true,
     "schema_version": 1,
     "solution": false
    }
   },
   "outputs": [],
   "source": [
    "# Let's take a look at the states during the first 20 trials\n",
    "print(state[0:20])"
   ]
  },
  {
   "cell_type": "markdown",
   "metadata": {},
   "source": [
    "# Problem 4: Create a Continous Markov Distribution\n",
    "\n",
    "Create a Continous Markov Distribution using 6000 samples and 5 chains using the Random State Module. Set the seed to be 20. The first index should be 5999 and the last index should be 0. Draw initial state(state[5999]) from standard normal distribution. Following states(state[n]) should be drawn from normal distribution with mean equals to 50% of previous state(state[n+1]), standard deviation equals to 1. Indicies 0:5 should look like this:\n",
    "```\n",
    "[[ 0.79352534  1.56613209 -0.84327939  0.27570066 -0.46833509]\n",
    " [ 0.35753197  1.15865014 -0.93834194 -0.01651544 -1.45133482]\n",
    " [ 0.03662266  0.13186933 -0.16851393  0.25371851  0.50757933]\n",
    " [-0.8261146   0.81980239  0.09537365 -0.08503631  2.06463159]\n",
    " [ 0.65934452  0.50782782 -0.9881284   1.12211264  2.31557286]]\n",
    "```\n",
    "\n",
    "Save the states in a variable called state."
   ]
  },
  {
   "cell_type": "code",
   "execution_count": null,
   "metadata": {
    "deletable": false,
    "nbgrader": {
     "checksum": "6b97b907632356e9eef2c07ab93aca16",
     "grade": false,
     "grade_id": "cell-5a53aed73ab5641f",
     "locked": false,
     "schema_version": 1,
     "solution": true
    }
   },
   "outputs": [],
   "source": [
    "# YOUR CODE HERE"
   ]
  },
  {
   "cell_type": "code",
   "execution_count": null,
   "metadata": {
    "deletable": false,
    "editable": false,
    "nbgrader": {
     "checksum": "17e0438789d37ee707c90015d56d404d",
     "grade": false,
     "grade_id": "cell-09985b166cfca509",
     "locked": true,
     "schema_version": 1,
     "solution": false
    }
   },
   "outputs": [],
   "source": [
    "print(state[0:5])"
   ]
  },
  {
   "cell_type": "markdown",
   "metadata": {},
   "source": [
    "# Problem 5: MCMC integration\n",
    "\n",
    "Write a function called $\\texttt{mcmc_integration}$ which takes in a number of points to randomly generate uniformly in the unit square and then estimates the value of the integral of the given function. Make sure to use the $\\texttt{RandomState}$ module to generate the random data, and also pass to it a $\\texttt{random_state}$ parameter for reproducibility."
   ]
  },
  {
   "cell_type": "code",
   "execution_count": null,
   "metadata": {
    "deletable": false,
    "nbgrader": {
     "checksum": "90e93ebff2de97f753b6f3acb933b338",
     "grade": false,
     "grade_id": "cell-323eaa6791be117b",
     "locked": false,
     "schema_version": 1,
     "solution": true
    }
   },
   "outputs": [],
   "source": [
    "def mcmc_integration(num_pts,function,random_state):\n",
    "    \n",
    "    '''\n",
    "    Inputs\n",
    "    -------\n",
    "    num_pts: the number of points to generate\n",
    "    \n",
    "    functon: the name of a user made function \n",
    "    \n",
    "    random_state: a parameter for reproducibility\n",
    "    \n",
    "    \n",
    "    Returns\n",
    "    -------\n",
    "    \n",
    "    integral: the estimated value of the integral\n",
    "    \n",
    "    '''\n",
    "    \n",
    "    # YOUR CODE HERE\n",
    "    \n",
    "    return integral"
   ]
  },
  {
   "cell_type": "code",
   "execution_count": null,
   "metadata": {
    "deletable": false,
    "editable": false,
    "nbgrader": {
     "checksum": "291627c6d19925e29d71c5127d38459b",
     "grade": false,
     "grade_id": "cell-eb46c4031e3f65c7",
     "locked": true,
     "schema_version": 1,
     "solution": false
    }
   },
   "outputs": [],
   "source": [
    "#Define the function we want to integrate\n",
    "def our_function(x):\n",
    "    return .3*np.sin(x) + .1*np.cos(x) + .3*np.exp(-x)"
   ]
  },
  {
   "cell_type": "code",
   "execution_count": null,
   "metadata": {
    "deletable": false,
    "editable": false,
    "nbgrader": {
     "checksum": "ce3c12cf65ca217e2f2c8310ac81e7b0",
     "grade": true,
     "grade_id": "cell-ef1446a90cd240e6",
     "locked": true,
     "points": 1,
     "schema_version": 1,
     "solution": false
    }
   },
   "outputs": [],
   "source": [
    "integral_estimate = mcmc_integration(25000,our_function,random_state=20)\n",
    "assert_equal(integral_estimate,0.40968)"
   ]
  },
  {
   "cell_type": "markdown",
   "metadata": {},
   "source": [
    "# Problem 6: Plotting Function and Data\n",
    "Create a figure and axes object. Name the Axes object ax. Create another RandomState object with the same seed to generate the random data. Plot the data using the scatter function from the axes object and plot our_function using the plot function with axes object.\n"
   ]
  },
  {
   "cell_type": "code",
   "execution_count": null,
   "metadata": {
    "deletable": false,
    "nbgrader": {
     "checksum": "0f2056db104299f4406a0bbfa63b483f",
     "grade": false,
     "grade_id": "cell-28825d5cabd848e2",
     "locked": false,
     "schema_version": 1,
     "solution": true
    }
   },
   "outputs": [],
   "source": [
    "# YOUR CODE HERE"
   ]
  },
  {
   "cell_type": "code",
   "execution_count": null,
   "metadata": {
    "deletable": false,
    "editable": false,
    "nbgrader": {
     "checksum": "b982b152782a9d89e8722cbaf8f28b37",
     "grade": true,
     "grade_id": "cell-b6f14c308971ce80",
     "locked": true,
     "points": 1,
     "schema_version": 1,
     "solution": false
    }
   },
   "outputs": [],
   "source": [
    "d0 = ax.collections[0]\n",
    "d1 = ax.collections[1]\n",
    "\n",
    "d0.set_offset_position('data')\n",
    "d1.set_offset_position('data')\n",
    "\n",
    "line = ax.lines[0]\n",
    "# Checking first 1500 pts\n",
    "\n",
    "assert_equal(d0.get_offsets().tolist()[0:1500], helper.l4_1500_0)\n",
    "assert_equal(d1.get_offsets().tolist()[0:1500], helper.l4_1500_1)\n",
    "for line_ans, line_sol in zip(line.get_xydata().tolist()[0:1500], helper.l4_1500_line):\n",
    "    assert_almost_equal(line_ans[0], line_sol[0], places=2)\n",
    "    assert_almost_equal(line_ans[1], line_sol[1], places=2)\n",
    "\n",
    "#assert_equal(line.get_xydata().tolist()[0:1500], helper.l4_1500_line)\n"
   ]
  },
  {
   "cell_type": "code",
   "execution_count": null,
   "metadata": {},
   "outputs": [],
   "source": []
  }
 ],
 "metadata": {
  "kernelspec": {
   "display_name": "Python 3",
   "language": "python",
   "name": "python3"
  },
  "language_info": {
   "codemirror_mode": {
    "name": "ipython",
    "version": 3
   },
   "file_extension": ".py",
   "mimetype": "text/x-python",
   "name": "python",
   "nbconvert_exporter": "python",
   "pygments_lexer": "ipython3",
   "version": "3.6.1"
  }
 },
 "nbformat": 4,
 "nbformat_minor": 2
}
