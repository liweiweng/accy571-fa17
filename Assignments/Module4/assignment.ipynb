{
 "cells": [
  {
   "cell_type": "markdown",
   "metadata": {},
   "source": [
    "# Module 4 Assignment\n",
    "\n",
    "A few things you should keep in mind when working on assignments:\n",
    "\n",
    "1. Make sure you fill in any place that says `YOUR CODE HERE`. Do **not** write your answer in anywhere else other than where it says `YOUR CODE HERE`. Anything you write anywhere else will be removed or overwritten by the autograder.\n",
    "\n",
    "2. Before you submit your assignment, make sure everything runs as expected. Go to menubar, select _Kernel_, and restart the kernel and run all cells (_Restart & Run all_).\n",
    "\n",
    "3. Do not change the title (i.e. file name) of this notebook.\n",
    "\n",
    "4. Make sure that you save your work (in the menubar, select _File_ → _Save and CheckPoint_)\n",
    "\n",
    "5. You are allowed to submit an assignment multiple times, but only the most recent submission will be graded."
   ]
  },
  {
   "cell_type": "code",
   "execution_count": null,
   "metadata": {
    "deletable": false,
    "editable": false,
    "nbgrader": {
     "checksum": "77d00c2a9c20dfa37c45ee702726f2a2",
     "grade": false,
     "grade_id": "cell-a06fc8fe245d2dd0",
     "locked": true,
     "schema_version": 1,
     "solution": false
    }
   },
   "outputs": [],
   "source": [
    "import numpy as np\n",
    "import pandas as pd\n",
    "from sklearn.neural_network import MLPClassifier, MLPRegressor\n",
    "from sklearn.model_selection import train_test_split\n",
    "from sklearn.preprocessing import LabelEncoder\n",
    "import pandas as pd\n",
    "import numpy as np\n",
    "import random\n",
    "from nose.tools import assert_equal, assert_almost_equal\n",
    "from keras.utils import np_utils\n",
    "from keras.layers.core import Dropout\n",
    "from keras.models import Sequential\n",
    "from keras.layers.core import Dense, Activation\n",
    "from keras.optimizers import RMSprop\n",
    "from keras.utils.np_utils import to_categorical\n",
    "from nose.tools import assert_is_instance, assert_equal\n",
    "from numpy.testing import assert_array_equal"
   ]
  },
  {
   "cell_type": "markdown",
   "metadata": {},
   "source": [
    "Let's consider a hypothetical dataset containing movie watchers and their reviews on a scale from 0 to 5 of 7 different movies."
   ]
  },
  {
   "cell_type": "code",
   "execution_count": null,
   "metadata": {
    "deletable": false,
    "editable": false,
    "nbgrader": {
     "checksum": "6f2035033edf37d0bb80080e367444f2",
     "grade": false,
     "grade_id": "cell-4c3dc28e2a413f5d",
     "locked": true,
     "schema_version": 1,
     "solution": false
    }
   },
   "outputs": [],
   "source": [
    "user_ids = [\"Robert\", \"Edward\", \"Kelechi\", \"Will\"]\n",
    "movie_ids = list(range(7))\n",
    "\n",
    "data = np.array(\n",
    "    [[4, 0, 1, 5, 1, 2, 3],\n",
    "     [5, 5, 4, 3, 1, 0, 1],\n",
    "     [2, 3, 4, 1, 0, 5, 1],\n",
    "     [1, 2, 2, 1, 0, 1, 4]]\n",
    ")\n",
    "\n",
    "movies_df = pd.DataFrame(\n",
    "    data=data,\n",
    "    index=user_ids,\n",
    "    columns=movie_ids\n",
    ")\n",
    "\n",
    "print(movies_df)"
   ]
  },
  {
   "cell_type": "markdown",
   "metadata": {},
   "source": [
    "# Problem 1: Create the matrix of favorable ratings\n",
    "\n",
    "Write a function called \"$\\texttt{favorable_matrix}$\" which takes in a dataframe of movie ratings and changes any rating above or equal to \"$\\texttt{min_rating}$\" to a 1 and any rating below \"$\\texttt{min_rating}$\" to a 0, returning a numpy matrix."
   ]
  },
  {
   "cell_type": "code",
   "execution_count": null,
   "metadata": {
    "deletable": false,
    "nbgrader": {
     "checksum": "4062fd9ed2213c927c952ac41ec6da70",
     "grade": false,
     "grade_id": "cell-3458304c047b9b61",
     "locked": false,
     "schema_version": 1,
     "solution": true
    }
   },
   "outputs": [],
   "source": [
    "def favorable_matrix(df,min_rating):\n",
    "    \"\"\"\n",
    "    Takes a pandas data frame and returns a numpy matrix\n",
    "    with 1 for ratings > 3 and 0 for ratings <= 3.\n",
    "    \n",
    "    Parameters\n",
    "    ----------\n",
    "    df: A pandas.DataFrame\n",
    "    min_rating: the minimum rating for the review to be favorable\n",
    "    \n",
    "    Returns\n",
    "    -------\n",
    "    rating_matrix: A 2-d numpy array of favorable ratings\n",
    "    \"\"\"\n",
    "    \n",
    "    # YOUR CODE HERE\n",
    "    \n",
    "    return rating_matrix"
   ]
  },
  {
   "cell_type": "code",
   "execution_count": null,
   "metadata": {
    "deletable": false,
    "editable": false,
    "nbgrader": {
     "checksum": "5defd181b385328abf57ea58936f24bd",
     "grade": true,
     "grade_id": "cell-a62da77714c763bf",
     "locked": true,
     "points": 1,
     "schema_version": 1,
     "solution": false
    }
   },
   "outputs": [],
   "source": [
    "rating_matrix = favorable_matrix(movies_df,3)\n",
    "\n",
    "assert_is_instance(rating_matrix,np.ndarray)\n",
    "assert_array_equal(favorable_matrix(movies_df,3)[1],np.array([1, 1, 1, 1, 0, 0, 0]))"
   ]
  },
  {
   "cell_type": "markdown",
   "metadata": {},
   "source": [
    "Now let's define the cosine similarity function so that we can come up with recommendations."
   ]
  },
  {
   "cell_type": "code",
   "execution_count": null,
   "metadata": {
    "deletable": false,
    "editable": false,
    "nbgrader": {
     "checksum": "043ed4e6bc34ce1aab3cde8fcd7eaedb",
     "grade": false,
     "grade_id": "cell-5148a4567fd537d7",
     "locked": true,
     "schema_version": 1,
     "solution": false
    }
   },
   "outputs": [],
   "source": [
    "# Define the Cosine Similarity function\n",
    "\n",
    "def cosine_similarity(u, v):\n",
    "    return(np.dot(u, v)/np.sqrt((np.dot(u, u) * np.dot(v, v))))"
   ]
  },
  {
   "cell_type": "markdown",
   "metadata": {},
   "source": [
    "# Problem 2: Find similar users\n",
    "\n",
    "Write a function called \"$\\texttt{find_similar}$\" which takes in a given user's movie scores and compares them to the scores in a matrix of other user's ratings. The function should then output which user in our dataset is most similar to the candidate user."
   ]
  },
  {
   "cell_type": "code",
   "execution_count": null,
   "metadata": {
    "deletable": false,
    "nbgrader": {
     "checksum": "d48dbfba2a93e23fba78078674896416",
     "grade": false,
     "grade_id": "cell-8f3fb117aca2827e",
     "locked": false,
     "schema_version": 1,
     "solution": true
    }
   },
   "outputs": [],
   "source": [
    "def find_similar(ratings_matrix, user_ratings):\n",
    "    \"\"\"\n",
    "    Parameters\n",
    "    ----------\n",
    "    ratings_matrix: the matrix of past user ratings\n",
    "    user_ratings: the ratings of the given user\n",
    "    \n",
    "    Returns\n",
    "    -------\n",
    "    most_similar_index: the row of the matrix that is most similar to the given user\n",
    "    \"\"\"\n",
    "    \n",
    "    # YOUR CODE HERE\n",
    "    \n",
    "    return most_similar_index"
   ]
  },
  {
   "cell_type": "code",
   "execution_count": null,
   "metadata": {
    "deletable": false,
    "editable": false,
    "nbgrader": {
     "checksum": "1bee334f136ac58f381bfed9f275281a",
     "grade": true,
     "grade_id": "cell-f9dc5d68673ebd31",
     "locked": true,
     "points": 1,
     "schema_version": 1,
     "solution": false
    }
   },
   "outputs": [],
   "source": [
    "user_ratings = np.array([0,1,0,1,0,0,1])\n",
    "most_similar_index = find_similar(rating_matrix, user_ratings)\n",
    "assert_equal(movies_df.index[most_similar_index],'Robert')"
   ]
  },
  {
   "cell_type": "code",
   "execution_count": null,
   "metadata": {
    "deletable": false,
    "editable": false,
    "nbgrader": {
     "checksum": "89b552897d49a3b59cb5088f132e0498",
     "grade": true,
     "grade_id": "cell-39bbef9149a90a02",
     "locked": true,
     "points": 1,
     "schema_version": 1,
     "solution": false
    }
   },
   "outputs": [],
   "source": [
    "user_ratings = np.array([0,1,1,1,0,0,1])\n",
    "most_similar_index = find_similar(rating_matrix, user_ratings)\n",
    "assert_equal(movies_df.index[most_similar_index],'Edward')"
   ]
  },
  {
   "cell_type": "markdown",
   "metadata": {},
   "source": [
    "Now let's switch gears and load in the familiar breast cancer data"
   ]
  },
  {
   "cell_type": "code",
   "execution_count": null,
   "metadata": {
    "deletable": false,
    "editable": false,
    "nbgrader": {
     "checksum": "5e3042e237f7247483bfc95db59f6ce9",
     "grade": false,
     "grade_id": "cell-30bfb3f642b73447",
     "locked": true,
     "schema_version": 1,
     "solution": false
    }
   },
   "outputs": [],
   "source": [
    "df = pd.read_csv('./breast-cancer-wisconsin.data')\n",
    "df.drop('id', axis=1, inplace=True)\n",
    "df.head()"
   ]
  },
  {
   "cell_type": "markdown",
   "metadata": {},
   "source": [
    "# Problem 3: Splitting Data into Training and Testing sets\n",
    "For this problem use [train_test_split](http://scikit-learn.org/stable/modules/generated/sklearn.model_selection.train_test_split.html) function from sci-kit learn on the dataframe that contains the breast cancer dataset. Set the random_state argument to be 0 and use 20% of the data for testing. The labels for this dataset are the classes and the features are the other columns.\n",
    "\n",
    "Convert the dataframe and series objects to numpy arrays.\n",
    "\n",
    "After you split the data encode the Labels using [LabelEncoder](http://scikit-learn.org/stable/modules/generated/sklearn.preprocessing.LabelEncoder.html).  \n",
    "\n",
    "The name of encoded Labels for the training and testing set should be: *train_y* & *test_y*.  \n",
    "The name of the Features for the training and testing set should be: *train_X* & *test_X*."
   ]
  },
  {
   "cell_type": "code",
   "execution_count": null,
   "metadata": {
    "deletable": false,
    "editable": false,
    "nbgrader": {
     "checksum": "af36197078a184cf740cc21dfcd8c9fe",
     "grade": false,
     "grade_id": "cell-731bd1c1543faf6e",
     "locked": true,
     "schema_version": 1,
     "solution": false
    }
   },
   "outputs": [],
   "source": [
    "random.seed(0)"
   ]
  },
  {
   "cell_type": "code",
   "execution_count": null,
   "metadata": {
    "deletable": false,
    "nbgrader": {
     "checksum": "e7d99a21f7c5706d6b8897180be5a572",
     "grade": false,
     "grade_id": "cell-03f92af120e221da",
     "locked": false,
     "schema_version": 1,
     "solution": true
    }
   },
   "outputs": [],
   "source": [
    "# YOUR CODE HERE"
   ]
  },
  {
   "cell_type": "code",
   "execution_count": null,
   "metadata": {
    "deletable": false,
    "editable": false,
    "nbgrader": {
     "checksum": "8f5f2f2443c1795765323b192c5ca0e7",
     "grade": true,
     "grade_id": "cell-6050a3efc0aa700a",
     "locked": true,
     "points": 1,
     "schema_version": 1,
     "solution": false
    }
   },
   "outputs": [],
   "source": [
    "# Checking Type\n",
    "for x in [train_y, train_X, test_y, test_X]:\n",
    "    assert_equal(type(x), np.ndarray)\n",
    "\n",
    "# Checking Shape \n",
    "assert_equal(train_X.shape, (546, 9))\n",
    "assert_equal(train_y.shape, (546, ))\n",
    "assert_equal(test_y.shape, (137, ))\n",
    "assert_equal(test_X.shape, (137, 9))\n",
    "\n",
    "# Checking Data\n",
    "assert_equal(train_X.tolist(), [[10, 1, 1, 1, 2, 10, 5, 4, 1], [1, 1, 1, 1, 1, 1, 3, 1, 1], [5, 1, 1, 1, 2, 1, 3, 1, 1], [3, 1, 2, 1, 2, 1, 2, 1, 1], [8, 2, 3, 1, 6, 3, 7, 1, 1], [1, 1, 1, 1, 2, 1, 3, 1, 1], [2, 1, 1, 1, 2, 1, 3, 1, 1], [4, 1, 1, 3, 1, 1, 2, 1, 1], [5, 7, 7, 1, 5, 8, 3, 4, 1], [8, 10, 10, 8, 6, 9, 3, 10, 10], [1, 1, 1, 1, 2, 1, 2, 1, 1], [6, 1, 3, 1, 4, 5, 5, 10, 1], [3, 1, 1, 1, 2, 1, 2, 1, 1], [5, 10, 10, 5, 4, 5, 4, 4, 1], [5, 3, 3, 1, 3, 3, 3, 3, 3], [3, 1, 1, 1, 3, 1, 2, 1, 1], [2, 1, 1, 1, 2, 1, 2, 1, 1], [1, 1, 1, 1, 1, 1, 1, 1, 1], [4, 2, 1, 1, 2, 1, 1, 1, 1], [3, 10, 8, 7, 6, 9, 9, 3, 8], [10, 7, 7, 4, 5, 10, 5, 7, 2], [1, 1, 1, 1, 3, 1, 1, 1, 1], [5, 10, 10, 3, 7, 3, 8, 10, 2], [3, 10, 7, 8, 5, 8, 7, 4, 1], [10, 4, 4, 6, 2, 10, 2, 3, 1], [8, 7, 8, 5, 5, 10, 9, 10, 1], [5, 3, 3, 3, 2, 3, 4, 4, 1], [10, 8, 10, 10, 6, 1, 3, 1, 10], [4, 1, 4, 1, 2, 1, 1, 1, 1], [5, 1, 2, 1, 2, 1, 1, 1, 1], [4, 1, 1, 1, 2, 2, 3, 2, 1], [5, 1, 1, 1, 2, 1, 3, 1, 2], [2, 2, 2, 1, 1, 1, 7, 1, 1], [2, 1, 1, 1, 2, 1, 3, 1, 1], [7, 6, 10, 5, 3, 10, 9, 10, 2], [8, 3, 8, 3, 4, 9, 8, 9, 8], [8, 10, 10, 10, 6, 10, 10, 10, 1], [1, 1, 1, 1, 2, 1, 1, 1, 1], [1, 1, 3, 1, 1, 1, 2, 1, 1], [1, 1, 1, 1, 2, 1, 1, 1, 1], [5, 6, 6, 2, 4, 10, 3, 6, 1], [3, 1, 1, 1, 2, 1, 2, 1, 1], [2, 1, 3, 2, 2, 1, 2, 1, 1], [4, 6, 6, 5, 7, 6, 7, 7, 3], [7, 4, 6, 4, 6, 1, 4, 3, 1], [5, 1, 3, 3, 2, 2, 2, 3, 1], [10, 6, 4, 3, 10, 10, 9, 10, 1], [1, 1, 1, 1, 2, 10, 3, 1, 1], [1, 1, 1, 1, 2, 1, 2, 1, 1], [9, 4, 5, 10, 6, 10, 4, 8, 1], [8, 10, 10, 10, 6, 10, 10, 10, 10], [1, 1, 1, 1, 2, 1, 3, 1, 1], [1, 1, 1, 1, 2, 1, 2, 1, 1], [3, 1, 1, 1, 2, 1, 3, 1, 1], [3, 1, 4, 1, 2, 1, 1, 1, 1], [3, 1, 1, 1, 2, 1, 3, 1, 1], [1, 1, 1, 1, 2, 1, 1, 1, 1], [3, 1, 1, 1, 2, 1, 3, 2, 1], [1, 1, 3, 1, 2, 1, 1, 1, 1], [4, 1, 1, 1, 2, 1, 3, 1, 1], [4, 1, 1, 2, 2, 1, 1, 1, 1], [4, 8, 8, 5, 4, 5, 10, 4, 1], [1, 1, 2, 2, 2, 1, 3, 1, 1], [5, 1, 1, 1, 2, 1, 3, 1, 1], [1, 1, 3, 1, 2, 1, 2, 1, 1], [3, 1, 2, 2, 2, 1, 1, 1, 1], [3, 1, 1, 1, 1, 1, 2, 1, 1], [10, 8, 4, 4, 4, 10, 3, 10, 4], [8, 6, 4, 3, 5, 9, 3, 1, 1], [4, 1, 1, 1, 1, 1, 2, 1, 1], [8, 10, 8, 8, 4, 8, 7, 7, 1], [5, 2, 2, 2, 2, 1, 2, 2, 1], [8, 4, 4, 5, 4, 7, 7, 8, 2], [4, 4, 4, 4, 6, 5, 7, 3, 1], [10, 10, 10, 7, 10, 10, 8, 2, 1], [3, 1, 2, 1, 2, 1, 2, 1, 1], [1, 1, 1, 1, 2, 1, 1, 1, 1], [1, 1, 1, 1, 1, 1, 3, 1, 1], [2, 1, 1, 1, 2, 1, 1, 1, 1], [6, 6, 7, 10, 3, 10, 8, 10, 2], [9, 7, 7, 5, 5, 10, 7, 8, 3], [1, 2, 1, 3, 2, 1, 2, 1, 1], [5, 2, 2, 4, 2, 4, 1, 1, 1], [9, 10, 10, 10, 10, 5, 10, 10, 10], [10, 10, 10, 6, 8, 4, 8, 5, 1], [2, 1, 1, 1, 2, 1, 2, 1, 1], [3, 1, 1, 1, 3, 1, 2, 1, 1], [5, 3, 3, 3, 6, 10, 3, 1, 1], [8, 7, 6, 4, 4, 10, 5, 1, 1], [1, 1, 1, 3, 2, 1, 1, 1, 1], [8, 10, 5, 3, 8, 4, 4, 10, 3], [4, 1, 1, 1, 2, 1, 3, 1, 1], [7, 5, 6, 10, 5, 10, 7, 9, 4], [10, 4, 3, 10, 4, 10, 10, 1, 1], [2, 1, 1, 1, 2, 1, 1, 1, 1], [2, 1, 1, 1, 2, 1, 2, 1, 1], [1, 1, 1, 1, 2, 1, 3, 1, 1], [9, 8, 8, 9, 6, 3, 4, 1, 1], [4, 1, 1, 1, 2, 3, 2, 1, 1], [9, 6, 9, 2, 10, 6, 2, 9, 10], [1, 2, 1, 3, 2, 1, 1, 2, 1], [5, 3, 2, 8, 5, 10, 8, 1, 2], [3, 1, 1, 1, 2, 1, 2, 1, 2], [1, 1, 1, 1, 2, 1, 1, 1, 1], [3, 1, 1, 2, 2, 1, 1, 1, 1], [1, 1, 1, 1, 1, 1, 1, 3, 1], [2, 1, 1, 1, 1, 1, 3, 1, 1], [10, 10, 10, 8, 2, 10, 4, 1, 1], [5, 1, 1, 1, 2, 1, 3, 1, 1], [4, 1, 1, 3, 2, 1, 3, 1, 1], [5, 10, 10, 3, 8, 1, 5, 10, 3], [1, 1, 1, 1, 2, 1, 1, 1, 1], [3, 1, 1, 1, 1, 1, 2, 1, 1], [10, 8, 8, 2, 8, 10, 4, 8, 10], [1, 1, 1, 1, 2, 1, 3, 1, 1], [4, 1, 2, 1, 2, 1, 2, 1, 1], [1, 1, 1, 1, 2, 1, 3, 1, 1], [2, 1, 1, 2, 2, 1, 3, 1, 1], [6, 1, 1, 1, 2, 1, 3, 1, 1], [6, 5, 4, 4, 3, 9, 7, 8, 3], [5, 1, 2, 10, 4, 5, 2, 1, 1], [4, 1, 1, 1, 2, 1, 1, 1, 1], [10, 10, 10, 3, 10, 10, 9, 10, 1], [5, 1, 1, 1, 2, 1, 1, 1, 1], [10, 10, 10, 10, 10, 1, 8, 8, 8], [1, 3, 1, 2, 2, 2, 5, 3, 2], [6, 1, 3, 1, 2, 1, 3, 1, 1], [8, 7, 8, 5, 10, 10, 7, 2, 1], [6, 10, 10, 10, 4, 10, 7, 10, 1], [9, 10, 10, 1, 10, 8, 3, 3, 1], [1, 1, 1, 1, 2, 1, 2, 1, 1], [1, 3, 1, 1, 2, 1, 2, 2, 1], [3, 1, 1, 1, 2, 1, 3, 1, 1], [1, 2, 3, 1, 2, 1, 1, 1, 1], [1, 1, 1, 3, 2, 1, 1, 1, 1], [2, 1, 1, 1, 2, 1, 3, 1, 1], [5, 10, 10, 10, 5, 2, 8, 5, 1], [7, 4, 7, 4, 3, 7, 7, 6, 1], [5, 1, 1, 1, 2, 1, 2, 1, 1], [4, 1, 1, 1, 2, 1, 1, 1, 1], [4, 1, 1, 1, 2, 1, 1, 1, 1], [6, 8, 8, 1, 3, 4, 3, 7, 1], [4, 1, 1, 1, 2, 1, 2, 1, 1], [5, 1, 1, 1, 2, 1, 2, 1, 1], [2, 3, 1, 1, 5, 1, 1, 1, 1], [10, 5, 10, 3, 5, 8, 7, 8, 3], [5, 2, 2, 2, 1, 1, 2, 1, 1], [3, 1, 1, 1, 2, 1, 1, 1, 1], [6, 8, 7, 5, 6, 8, 8, 9, 2], [1, 1, 1, 1, 1, 1, 2, 1, 1], [2, 1, 1, 1, 2, 1, 3, 1, 1], [1, 1, 1, 1, 1, 1, 1, 1, 1], [5, 1, 1, 1, 2, 1, 1, 1, 1], [5, 1, 1, 1, 2, 1, 1, 1, 1], [3, 1, 1, 1, 2, 1, 1, 1, 1], [4, 1, 1, 1, 2, 1, 1, 1, 1], [5, 10, 10, 10, 10, 2, 10, 10, 10], [4, 2, 2, 1, 2, 1, 2, 1, 1], [3, 3, 2, 1, 2, 3, 3, 1, 1], [6, 1, 1, 3, 2, 1, 1, 1, 1], [7, 3, 2, 10, 5, 10, 5, 4, 4], [5, 3, 4, 1, 8, 10, 4, 9, 1], [2, 1, 1, 1, 3, 1, 2, 1, 1], [8, 3, 5, 4, 5, 10, 1, 6, 2], [1, 1, 1, 1, 2, 1, 1, 1, 1], [1, 1, 1, 1, 2, 1, 1, 1, 1], [3, 1, 1, 1, 2, 1, 1, 1, 1], [4, 10, 8, 5, 4, 1, 10, 1, 1], [3, 1, 1, 1, 2, 1, 1, 1, 1], [3, 1, 1, 1, 2, 1, 2, 1, 1], [2, 1, 2, 1, 2, 1, 3, 1, 1], [4, 8, 6, 4, 3, 4, 10, 6, 1], [5, 4, 6, 10, 2, 10, 4, 1, 1], [3, 1, 3, 1, 3, 4, 1, 1, 1], [7, 5, 10, 10, 10, 10, 4, 10, 3], [1, 1, 1, 1, 2, 1, 1, 1, 1], [2, 1, 1, 1, 2, 1, 3, 1, 1], [8, 10, 10, 1, 3, 6, 3, 9, 1], [2, 1, 1, 1, 2, 1, 3, 1, 1], [2, 1, 1, 1, 2, 1, 1, 1, 1], [4, 1, 2, 1, 2, 1, 3, 1, 1], [5, 1, 1, 1, 2, 1, 2, 1, 1], [5, 1, 1, 3, 2, 1, 1, 1, 1], [5, 2, 2, 2, 2, 1, 1, 1, 2], [1, 1, 1, 1, 2, 1, 3, 1, 1], [5, 2, 3, 1, 6, 10, 5, 1, 1], [9, 10, 10, 1, 10, 8, 3, 3, 1], [8, 7, 8, 2, 4, 2, 5, 10, 1], [8, 4, 7, 1, 3, 10, 3, 9, 2], [2, 3, 1, 1, 3, 1, 1, 1, 1], [3, 3, 5, 2, 3, 10, 7, 1, 1], [5, 1, 1, 1, 3, 2, 2, 2, 1], [10, 10, 10, 10, 3, 10, 10, 6, 1], [3, 1, 1, 1, 2, 4, 1, 1, 1], [10, 6, 3, 6, 4, 10, 7, 8, 4], [6, 10, 10, 10, 8, 10, 10, 10, 7], [2, 5, 3, 3, 6, 7, 7, 5, 1], [1, 1, 1, 1, 1, 1, 2, 1, 1], [5, 1, 1, 1, 2, 1, 2, 1, 1], [8, 6, 4, 10, 10, 1, 3, 5, 1], [5, 1, 1, 3, 4, 1, 3, 2, 1], [1, 1, 1, 1, 1, 1, 1, 1, 1], [3, 1, 1, 1, 2, 1, 2, 1, 1], [1, 1, 1, 2, 1, 1, 1, 1, 1], [7, 5, 3, 7, 4, 10, 7, 5, 5], [9, 9, 10, 3, 6, 10, 7, 10, 6], [5, 1, 1, 3, 2, 1, 1, 1, 1], [1, 1, 1, 1, 2, 2, 2, 1, 1], [5, 1, 1, 1, 2, 1, 2, 2, 1], [6, 8, 7, 8, 6, 8, 8, 9, 1], [1, 1, 1, 1, 2, 1, 1, 1, 1], [4, 4, 2, 1, 2, 5, 2, 1, 2], [8, 10, 10, 7, 10, 10, 7, 3, 8], [4, 3, 2, 1, 3, 1, 2, 1, 1], [3, 2, 2, 1, 2, 1, 2, 3, 1], [3, 1, 1, 1, 2, 1, 3, 1, 1], [1, 1, 1, 2, 1, 3, 1, 1, 7], [5, 5, 5, 8, 10, 8, 7, 3, 7], [3, 6, 4, 10, 3, 3, 3, 4, 1], [5, 1, 1, 1, 2, 1, 1, 1, 1], [2, 1, 1, 1, 2, 1, 2, 2, 1], [3, 3, 2, 6, 3, 3, 3, 5, 1], [1, 1, 1, 1, 2, 1, 2, 1, 1], [3, 1, 1, 1, 2, 1, 3, 1, 1], [1, 1, 4, 1, 2, 1, 2, 1, 1], [1, 1, 1, 1, 2, 1, 3, 1, 1], [2, 1, 1, 1, 2, 1, 1, 1, 1], [4, 1, 1, 3, 2, 1, 3, 1, 1], [1, 1, 1, 1, 2, 1, 1, 1, 1], [5, 1, 1, 1, 2, 1, 2, 1, 1], [8, 5, 6, 2, 3, 10, 6, 6, 1], [1, 1, 1, 1, 2, 1, 1, 1, 1], [8, 10, 10, 8, 7, 10, 9, 7, 1], [2, 1, 1, 1, 2, 1, 2, 1, 1], [4, 1, 1, 2, 2, 1, 2, 1, 1], [3, 1, 1, 1, 2, 1, 1, 1, 1], [1, 1, 1, 1, 2, 1, 3, 1, 1], [5, 1, 1, 1, 2, 1, 2, 1, 1], [3, 1, 1, 1, 2, 1, 2, 1, 1], [10, 10, 7, 8, 7, 1, 10, 10, 3], [8, 10, 10, 10, 8, 10, 10, 7, 3], [5, 5, 7, 8, 6, 10, 7, 4, 1], [10, 5, 7, 3, 3, 7, 3, 3, 8], [2, 1, 1, 1, 2, 1, 3, 1, 1], [1, 1, 1, 1, 2, 1, 1, 1, 1], [10, 5, 7, 4, 4, 10, 8, 9, 1], [4, 2, 4, 3, 2, 2, 2, 1, 1], [8, 6, 7, 3, 3, 10, 3, 4, 2], [6, 1, 1, 1, 1, 1, 1, 1, 1], [10, 10, 10, 2, 10, 10, 5, 3, 3], [3, 1, 1, 1, 2, 2, 7, 1, 1], [3, 1, 1, 1, 2, 1, 2, 3, 1], [1, 1, 1, 1, 2, 3, 3, 1, 1], [1, 1, 1, 1, 2, 4, 1, 1, 1], [10, 10, 10, 10, 5, 10, 10, 10, 7], [1, 1, 1, 1, 2, 1, 2, 1, 1], [5, 6, 7, 8, 8, 10, 3, 10, 3], [1, 1, 1, 1, 2, 1, 1, 1, 1], [5, 1, 1, 2, 2, 2, 3, 1, 1], [1, 1, 1, 1, 1, 1, 1, 1, 1], [6, 9, 7, 5, 5, 8, 4, 2, 1], [6, 3, 2, 1, 3, 4, 4, 1, 1], [5, 3, 2, 4, 2, 1, 1, 1, 1], [2, 3, 1, 1, 2, 1, 2, 1, 1], [10, 8, 8, 4, 10, 10, 8, 1, 1], [5, 1, 1, 4, 2, 1, 3, 1, 1], [1, 1, 1, 1, 4, 3, 1, 1, 1], [4, 1, 1, 1, 2, 1, 2, 1, 1], [1, 1, 1, 1, 2, 1, 2, 1, 1], [3, 1, 1, 1, 2, 1, 1, 1, 1], [1, 1, 1, 1, 2, 1, 2, 3, 1], [4, 1, 1, 1, 2, 1, 2, 1, 1], [10, 4, 2, 1, 3, 2, 4, 3, 10], [3, 2, 1, 1, 2, 1, 2, 2, 1], [1, 6, 8, 10, 8, 10, 5, 7, 1], [5, 2, 1, 1, 2, 1, 1, 1, 1], [1, 1, 3, 1, 2, 1, 2, 1, 1], [1, 1, 1, 1, 2, 1, 1, 1, 1], [10, 3, 5, 4, 3, 7, 3, 5, 3], [5, 1, 1, 1, 2, 1, 3, 2, 1], [3, 2, 2, 3, 2, 3, 3, 1, 1], [4, 1, 1, 1, 2, 1, 1, 1, 1], [1, 1, 1, 1, 2, 1, 3, 1, 1], [1, 1, 1, 1, 1, 1, 2, 1, 1], [5, 10, 6, 1, 10, 4, 4, 10, 10], [5, 1, 1, 1, 2, 1, 2, 1, 1], [3, 2, 2, 1, 4, 3, 2, 1, 1], [2, 1, 1, 1, 1, 1, 1, 1, 1], [1, 1, 1, 1, 2, 1, 3, 1, 1], [8, 8, 7, 4, 10, 10, 7, 8, 7], [2, 1, 1, 1, 2, 1, 2, 1, 1], [1, 1, 1, 1, 2, 1, 1, 1, 1], [10, 4, 3, 1, 3, 3, 6, 5, 2], [4, 1, 1, 1, 1, 1, 2, 1, 1], [1, 1, 1, 1, 2, 1, 1, 1, 1], [3, 1, 1, 1, 2, 1, 2, 1, 1], [4, 1, 1, 1, 2, 1, 3, 2, 1], [6, 5, 5, 8, 4, 10, 3, 4, 1], [5, 10, 10, 6, 10, 10, 10, 6, 5], [6, 2, 3, 1, 2, 1, 1, 1, 1], [4, 1, 1, 1, 2, 1, 2, 1, 1], [4, 1, 1, 1, 2, 1, 1, 1, 1], [1, 1, 3, 1, 2, 1, 1, 1, 1], [6, 10, 2, 8, 10, 2, 7, 8, 10], [3, 1, 1, 1, 2, 2, 3, 1, 1], [1, 1, 1, 1, 2, 1, 2, 1, 1], [8, 9, 9, 5, 3, 5, 7, 7, 1], [5, 1, 1, 1, 2, 1, 2, 1, 1], [1, 1, 1, 1, 1, 1, 3, 1, 1], [1, 1, 1, 1, 2, 1, 3, 1, 1], [4, 1, 1, 1, 2, 1, 3, 6, 1], [7, 5, 6, 10, 4, 10, 5, 3, 1], [5, 7, 10, 6, 5, 10, 7, 5, 1], [8, 3, 3, 1, 2, 2, 3, 2, 1], [7, 8, 8, 7, 3, 10, 7, 2, 3], [2, 1, 1, 1, 2, 1, 1, 1, 1], [8, 4, 4, 1, 6, 10, 2, 5, 2], [5, 1, 1, 1, 2, 1, 3, 1, 1], [6, 1, 1, 1, 2, 1, 3, 1, 1], [3, 1, 1, 1, 2, 1, 2, 1, 1], [7, 6, 6, 3, 2, 10, 7, 1, 1], [8, 6, 5, 4, 3, 10, 6, 1, 1], [3, 10, 3, 10, 6, 10, 5, 1, 4], [1, 1, 1, 2, 2, 1, 2, 1, 1], [1, 1, 3, 2, 2, 1, 3, 1, 1], [3, 1, 1, 1, 2, 1, 2, 1, 1], [4, 1, 1, 1, 2, 1, 2, 1, 1], [3, 1, 1, 1, 2, 1, 1, 1, 1], [4, 1, 1, 1, 2, 1, 3, 1, 1], [4, 1, 2, 1, 2, 1, 2, 1, 1], [3, 1, 1, 1, 2, 5, 1, 1, 1], [10, 3, 4, 5, 3, 10, 4, 1, 1], [8, 8, 9, 4, 5, 10, 7, 8, 1], [3, 1, 1, 1, 2, 1, 2, 1, 1], [3, 1, 1, 1, 2, 1, 3, 1, 1], [1, 1, 1, 1, 2, 1, 1, 1, 1], [4, 1, 1, 1, 2, 1, 2, 1, 1], [3, 1, 1, 3, 2, 1, 2, 1, 1], [6, 3, 3, 3, 3, 2, 6, 1, 1], [5, 1, 3, 1, 2, 1, 3, 1, 1], [10, 4, 4, 10, 6, 10, 5, 5, 1], [10, 4, 3, 2, 3, 10, 5, 3, 2], [5, 1, 1, 1, 2, 2, 3, 3, 1], [3, 1, 2, 1, 2, 1, 2, 1, 1], [1, 1, 1, 1, 2, 1, 3, 1, 1], [3, 2, 2, 3, 2, 1, 1, 1, 1], [10, 10, 10, 7, 9, 10, 7, 10, 10], [3, 7, 7, 4, 4, 9, 4, 8, 1], [5, 8, 8, 10, 5, 10, 8, 10, 3], [4, 1, 1, 1, 3, 1, 2, 2, 1], [6, 3, 4, 1, 5, 2, 3, 9, 1], [5, 3, 2, 1, 3, 1, 1, 1, 1], [5, 10, 10, 9, 6, 10, 7, 10, 5], [5, 1, 1, 6, 3, 1, 2, 1, 1], [2, 1, 1, 1, 2, 1, 2, 1, 1], [2, 3, 2, 2, 2, 2, 3, 1, 1], [3, 2, 1, 2, 2, 1, 3, 1, 1], [1, 1, 1, 1, 2, 1, 3, 1, 1], [3, 3, 5, 2, 3, 10, 7, 1, 1], [3, 1, 1, 4, 3, 1, 2, 2, 1], [5, 7, 9, 8, 6, 10, 8, 10, 1], [10, 5, 5, 6, 3, 10, 7, 9, 2], [1, 1, 1, 1, 1, 1, 2, 1, 1], [5, 1, 1, 1, 2, 1, 2, 1, 1], [4, 3, 3, 1, 2, 1, 3, 3, 1], [3, 1, 1, 1, 2, 5, 5, 1, 1], [1, 1, 2, 1, 2, 2, 4, 2, 1], [1, 1, 1, 1, 2, 1, 2, 1, 1], [1, 1, 1, 1, 2, 1, 3, 1, 1], [10, 10, 10, 8, 6, 1, 8, 9, 1], [5, 1, 2, 1, 2, 1, 3, 1, 1], [3, 1, 1, 1, 1, 1, 2, 1, 1], [3, 1, 1, 3, 2, 1, 1, 1, 1], [5, 4, 6, 8, 4, 1, 8, 10, 1], [5, 1, 1, 1, 2, 1, 2, 2, 1], [5, 1, 2, 1, 2, 1, 1, 1, 1], [7, 5, 6, 3, 3, 8, 7, 4, 1], [6, 10, 5, 5, 4, 10, 6, 10, 1], [10, 10, 10, 1, 6, 1, 2, 8, 1], [2, 1, 1, 1, 2, 1, 1, 1, 1], [6, 10, 7, 7, 6, 4, 8, 10, 2], [4, 8, 6, 3, 4, 10, 7, 1, 1], [2, 5, 7, 6, 4, 10, 7, 6, 1], [1, 2, 2, 1, 2, 1, 1, 1, 1], [3, 1, 1, 3, 1, 1, 3, 1, 1], [1, 1, 1, 1, 2, 1, 3, 2, 1], [5, 2, 3, 4, 2, 7, 3, 6, 1], [3, 1, 1, 1, 2, 1, 2, 1, 1], [4, 1, 1, 3, 1, 5, 2, 1, 1], [2, 1, 1, 1, 2, 1, 3, 1, 1], [4, 4, 4, 2, 2, 3, 2, 1, 1], [10, 10, 10, 3, 10, 8, 8, 1, 1], [1, 1, 1, 1, 2, 1, 2, 1, 1], [10, 10, 10, 10, 7, 10, 7, 10, 4], [4, 5, 5, 8, 6, 10, 10, 7, 1], [10, 4, 6, 1, 2, 10, 5, 3, 1], [5, 2, 4, 1, 1, 1, 1, 1, 1], [3, 1, 1, 1, 2, 1, 2, 1, 1], [5, 1, 1, 1, 2, 2, 2, 1, 1], [9, 1, 2, 6, 4, 10, 7, 7, 2], [5, 1, 2, 1, 2, 1, 1, 1, 1], [10, 3, 3, 1, 2, 10, 7, 6, 1], [5, 3, 5, 1, 8, 10, 5, 3, 1], [10, 4, 5, 4, 3, 5, 7, 3, 1], [3, 3, 2, 1, 3, 1, 3, 6, 1], [5, 1, 1, 3, 2, 1, 1, 1, 1], [3, 2, 1, 1, 2, 2, 3, 1, 1], [4, 8, 7, 10, 4, 10, 7, 5, 1], [3, 2, 1, 1, 1, 1, 2, 1, 1], [10, 3, 3, 10, 2, 10, 7, 3, 3], [4, 1, 1, 1, 2, 3, 1, 1, 1], [1, 2, 2, 1, 2, 1, 2, 1, 1], [4, 1, 1, 1, 2, 1, 2, 1, 1], [4, 1, 2, 1, 2, 1, 1, 1, 1], [9, 5, 5, 4, 4, 5, 4, 3, 3], [10, 8, 8, 2, 3, 4, 8, 7, 8], [1, 1, 1, 1, 2, 1, 3, 1, 1], [4, 1, 1, 1, 2, 1, 2, 1, 1], [3, 1, 1, 1, 2, 1, 1, 1, 1], [10, 9, 8, 7, 6, 4, 7, 10, 3], [9, 10, 10, 10, 10, 10, 10, 10, 1], [6, 1, 1, 1, 2, 1, 3, 1, 1], [2, 1, 1, 1, 2, 1, 1, 1, 1], [7, 8, 7, 6, 4, 3, 8, 8, 4], [1, 1, 1, 1, 2, 1, 3, 1, 1], [8, 4, 6, 3, 3, 1, 4, 3, 1], [2, 1, 1, 2, 2, 1, 1, 1, 1], [7, 4, 4, 3, 4, 10, 6, 9, 1], [5, 6, 6, 8, 6, 10, 4, 10, 4], [8, 2, 1, 1, 5, 1, 1, 1, 1], [5, 4, 5, 1, 8, 1, 3, 6, 1], [5, 1, 3, 1, 2, 1, 1, 1, 1], [10, 10, 10, 8, 6, 8, 7, 10, 1], [3, 3, 2, 2, 3, 1, 1, 2, 3], [4, 1, 1, 1, 2, 1, 2, 1, 1], [1, 1, 1, 1, 2, 1, 1, 1, 1], [7, 4, 5, 10, 2, 10, 3, 8, 2], [1, 1, 1, 1, 2, 1, 2, 1, 1], [5, 8, 4, 10, 5, 8, 9, 10, 1], [2, 1, 1, 2, 2, 1, 3, 1, 1], [5, 2, 1, 1, 2, 1, 3, 1, 1], [7, 6, 3, 2, 5, 10, 7, 4, 6], [2, 1, 1, 1, 2, 1, 2, 1, 1], [1, 1, 1, 1, 2, 1, 2, 1, 2], [4, 1, 1, 1, 2, 1, 3, 1, 1], [6, 2, 1, 1, 1, 1, 7, 1, 1], [5, 3, 5, 5, 3, 3, 4, 10, 1], [5, 6, 5, 6, 10, 1, 3, 1, 1], [5, 3, 6, 1, 2, 1, 1, 1, 1], [1, 1, 1, 1, 2, 1, 2, 1, 1], [8, 7, 8, 7, 5, 5, 5, 10, 2], [10, 10, 8, 6, 4, 5, 8, 10, 1], [1, 1, 1, 1, 2, 1, 2, 1, 1], [5, 1, 1, 1, 2, 1, 1, 1, 1], [10, 3, 5, 1, 10, 5, 3, 10, 2], [10, 8, 7, 4, 3, 10, 7, 9, 1], [5, 10, 8, 10, 8, 10, 3, 6, 3], [1, 1, 1, 1, 2, 1, 3, 1, 1], [3, 1, 1, 1, 2, 1, 1, 1, 1], [8, 10, 4, 4, 8, 10, 8, 2, 1], [2, 1, 1, 1, 2, 1, 1, 1, 1], [4, 1, 1, 1, 2, 1, 3, 1, 1], [4, 1, 1, 1, 2, 1, 1, 1, 1], [1, 1, 1, 1, 1, 1, 3, 1, 1], [3, 2, 2, 2, 2, 1, 3, 2, 1], [10, 10, 8, 10, 6, 5, 10, 3, 1], [3, 1, 1, 1, 2, 1, 1, 1, 1], [8, 3, 4, 9, 3, 10, 3, 3, 1], [7, 9, 4, 10, 10, 3, 5, 3, 3], [7, 1, 2, 3, 2, 1, 2, 1, 1], [5, 1, 1, 1, 2, 1, 3, 1, 1], [5, 1, 1, 1, 2, 1, 3, 1, 1], [5, 1, 1, 1, 2, 1, 1, 1, 1], [5, 8, 7, 7, 10, 10, 5, 7, 1], [4, 1, 2, 1, 2, 1, 2, 1, 1], [1, 1, 1, 1, 5, 1, 3, 1, 1], [5, 1, 2, 1, 2, 1, 3, 1, 1], [5, 3, 3, 2, 3, 1, 3, 1, 1], [10, 4, 5, 5, 5, 10, 4, 1, 1], [1, 1, 1, 1, 3, 2, 2, 1, 1], [1, 5, 8, 6, 5, 8, 7, 10, 1], [3, 1, 1, 1, 2, 1, 2, 2, 1], [7, 8, 7, 2, 4, 8, 3, 8, 2], [1, 1, 1, 1, 1, 1, 2, 1, 1], [5, 1, 1, 1, 1, 1, 3, 1, 1], [3, 3, 6, 4, 5, 8, 4, 4, 1], [5, 1, 2, 1, 2, 1, 2, 1, 1], [2, 1, 1, 1, 2, 5, 1, 1, 1], [5, 1, 2, 1, 2, 1, 3, 1, 1], [1, 1, 1, 1, 2, 1, 2, 1, 1], [3, 5, 7, 8, 8, 9, 7, 10, 7], [2, 1, 1, 1, 2, 1, 1, 1, 1], [4, 2, 1, 1, 2, 2, 3, 1, 1], [1, 1, 1, 1, 2, 1, 3, 1, 1], [9, 5, 5, 2, 2, 2, 5, 1, 1], [1, 1, 1, 1, 2, 1, 1, 1, 1], [5, 1, 4, 1, 2, 1, 3, 2, 1], [5, 7, 4, 1, 6, 1, 7, 10, 3], [8, 8, 9, 6, 6, 3, 10, 10, 1], [10, 10, 10, 4, 8, 1, 8, 10, 1], [8, 7, 4, 4, 5, 3, 5, 10, 1], [5, 3, 3, 1, 2, 1, 2, 1, 1], [4, 2, 3, 5, 3, 8, 7, 6, 1], [1, 4, 3, 10, 4, 10, 5, 6, 1], [4, 1, 1, 1, 2, 1, 3, 1, 1], [5, 7, 10, 10, 5, 10, 10, 10, 1], [10, 6, 6, 3, 4, 5, 3, 6, 1], [4, 1, 1, 1, 2, 1, 3, 1, 1], [5, 1, 3, 1, 2, 1, 2, 1, 1], [1, 1, 3, 1, 2, 1, 1, 1, 1], [1, 2, 3, 1, 2, 1, 3, 1, 1], [5, 1, 1, 1, 2, 1, 1, 1, 1], [3, 1, 1, 2, 2, 1, 1, 1, 1], [5, 5, 5, 6, 3, 10, 3, 1, 1], [6, 3, 3, 5, 3, 10, 3, 5, 3], [2, 1, 1, 1, 2, 1, 2, 1, 1], [5, 1, 1, 1, 2, 1, 2, 1, 1], [3, 1, 1, 1, 2, 1, 2, 1, 1], [7, 2, 4, 1, 3, 4, 3, 3, 1], [8, 4, 10, 5, 4, 4, 7, 10, 1], [4, 1, 3, 3, 2, 1, 1, 1, 1], [7, 2, 4, 1, 6, 10, 5, 4, 3], [5, 8, 8, 8, 5, 10, 7, 8, 1], [2, 3, 4, 4, 2, 5, 2, 5, 1], [4, 1, 1, 1, 2, 1, 1, 2, 1], [1, 1, 1, 1, 2, 1, 1, 1, 1], [4, 5, 5, 10, 4, 10, 7, 5, 8], [10, 6, 4, 1, 3, 4, 3, 2, 3], [3, 2, 2, 2, 2, 1, 4, 2, 1], [1, 1, 1, 1, 2, 1, 1, 1, 8], [1, 1, 1, 1, 1, 1, 3, 1, 1], [2, 1, 1, 2, 3, 1, 2, 1, 1], [3, 1, 2, 1, 2, 1, 3, 1, 1], [4, 1, 1, 1, 2, 1, 2, 1, 1], [8, 10, 3, 2, 6, 4, 3, 10, 1], [1, 1, 1, 1, 2, 1, 2, 1, 1], [4, 1, 3, 1, 2, 1, 2, 1, 1], [10, 10, 10, 10, 6, 10, 8, 1, 5], [1, 3, 3, 2, 2, 1, 7, 2, 1], [2, 1, 1, 1, 1, 1, 2, 1, 1], [10, 10, 10, 10, 10, 10, 4, 10, 10], [4, 2, 1, 1, 2, 1, 2, 1, 1], [5, 1, 1, 2, 2, 1, 2, 1, 1], [1, 1, 1, 1, 2, 1, 1, 1, 1], [3, 1, 1, 1, 2, 1, 2, 1, 1], [10, 9, 7, 3, 4, 2, 7, 7, 1]])\n",
    "assert_equal(test_X.tolist(), [[1, 1, 1, 1, 2, 5, 1, 1, 1], [3, 1, 1, 1, 2, 1, 2, 1, 1], [5, 5, 5, 2, 5, 10, 4, 3, 1], [4, 7, 8, 3, 4, 10, 9, 1, 1], [1, 1, 1, 1, 2, 1, 1, 1, 1], [3, 3, 1, 1, 2, 1, 1, 1, 1], [5, 3, 1, 2, 2, 1, 2, 1, 1], [8, 10, 10, 10, 7, 5, 4, 8, 7], [1, 1, 1, 3, 1, 3, 1, 1, 1], [1, 1, 1, 1, 2, 1, 2, 1, 1], [8, 7, 5, 10, 7, 9, 5, 5, 4], [4, 1, 1, 1, 2, 1, 3, 2, 1], [10, 5, 6, 10, 6, 10, 7, 7, 10], [3, 1, 1, 1, 2, 1, 2, 1, 1], [5, 1, 1, 6, 3, 1, 1, 1, 1], [3, 1, 1, 3, 8, 1, 5, 8, 1], [9, 8, 8, 5, 6, 2, 4, 10, 4], [6, 10, 10, 2, 8, 10, 7, 3, 3], [7, 6, 4, 8, 10, 10, 9, 5, 3], [5, 1, 3, 1, 2, 1, 2, 1, 1], [3, 1, 1, 1, 2, 1, 2, 1, 1], [4, 1, 1, 2, 2, 1, 2, 1, 1], [3, 4, 5, 2, 6, 8, 4, 1, 1], [3, 1, 1, 1, 2, 1, 1, 1, 1], [10, 4, 6, 4, 5, 10, 7, 1, 1], [6, 6, 6, 5, 4, 10, 7, 6, 2], [5, 3, 1, 1, 2, 1, 1, 1, 1], [2, 1, 1, 1, 2, 1, 1, 1, 5], [5, 1, 1, 1, 2, 1, 1, 1, 1], [10, 7, 7, 3, 8, 5, 7, 4, 3], [1, 1, 1, 1, 2, 1, 1, 1, 1], [5, 10, 10, 10, 10, 10, 10, 1, 1], [8, 10, 10, 10, 5, 10, 8, 10, 6], [3, 1, 1, 1, 2, 1, 3, 1, 1], [4, 1, 1, 1, 2, 1, 1, 1, 1], [3, 1, 1, 1, 2, 1, 3, 1, 1], [3, 6, 6, 6, 5, 10, 6, 8, 3], [8, 5, 5, 5, 2, 10, 4, 3, 1], [4, 1, 1, 1, 2, 1, 1, 1, 1], [5, 4, 6, 7, 9, 7, 8, 10, 1], [3, 1, 1, 1, 2, 3, 3, 1, 1], [1, 1, 1, 1, 2, 5, 5, 1, 1], [1, 2, 3, 1, 2, 1, 2, 1, 1], [3, 1, 1, 1, 1, 1, 1, 1, 1], [1, 1, 1, 1, 2, 1, 1, 1, 1], [3, 1, 1, 1, 3, 2, 1, 1, 1], [1, 2, 2, 1, 2, 1, 1, 1, 1], [10, 6, 5, 8, 5, 10, 8, 6, 1], [5, 1, 1, 3, 2, 1, 1, 1, 1], [5, 1, 1, 1, 2, 1, 1, 1, 1], [10, 10, 9, 3, 7, 5, 3, 5, 1], [4, 2, 2, 1, 2, 1, 2, 1, 1], [10, 3, 6, 2, 3, 5, 4, 10, 2], [5, 1, 1, 2, 1, 1, 2, 1, 1], [5, 1, 3, 1, 2, 1, 2, 1, 1], [3, 1, 1, 2, 3, 4, 1, 1, 1], [10, 4, 4, 10, 2, 10, 5, 3, 3], [5, 4, 4, 5, 7, 10, 3, 2, 1], [5, 2, 2, 2, 2, 2, 3, 2, 2], [10, 8, 10, 1, 3, 10, 5, 1, 1], [1, 1, 1, 1, 2, 1, 3, 1, 1], [1, 1, 1, 1, 2, 2, 1, 1, 1], [2, 1, 1, 1, 2, 1, 3, 1, 1], [3, 1, 1, 1, 2, 1, 1, 1, 1], [3, 1, 1, 1, 2, 1, 3, 1, 1], [1, 1, 1, 1, 2, 1, 3, 1, 1], [1, 1, 1, 1, 2, 1, 3, 1, 1], [3, 1, 1, 1, 2, 1, 3, 1, 1], [5, 4, 4, 9, 2, 10, 5, 6, 1], [9, 5, 8, 1, 2, 3, 2, 1, 5], [1, 1, 2, 1, 2, 1, 2, 1, 1], [3, 1, 1, 1, 2, 1, 2, 1, 1], [1, 1, 1, 1, 2, 1, 2, 1, 1], [5, 1, 1, 1, 1, 1, 1, 1, 1], [5, 2, 2, 2, 3, 1, 1, 3, 1], [4, 1, 1, 1, 2, 1, 3, 1, 1], [10, 5, 5, 6, 8, 8, 7, 1, 1], [4, 1, 1, 1, 2, 1, 1, 1, 1], [3, 1, 1, 1, 2, 1, 2, 1, 1], [1, 1, 1, 1, 2, 1, 2, 1, 1], [5, 10, 10, 10, 6, 10, 6, 5, 2], [4, 1, 1, 3, 2, 1, 1, 1, 1], [10, 4, 3, 10, 3, 10, 7, 1, 2], [1, 1, 1, 1, 2, 1, 3, 1, 1], [1, 1, 1, 1, 2, 1, 1, 1, 1], [6, 10, 10, 10, 10, 10, 8, 10, 10], [6, 1, 3, 2, 2, 1, 1, 1, 1], [5, 3, 4, 3, 4, 5, 4, 7, 1], [10, 5, 8, 10, 3, 10, 5, 1, 3], [5, 3, 4, 1, 4, 1, 3, 1, 1], [10, 7, 7, 6, 4, 10, 4, 1, 2], [3, 1, 1, 1, 1, 1, 2, 1, 1], [10, 4, 7, 2, 2, 8, 6, 1, 1], [8, 2, 4, 1, 5, 1, 5, 4, 4], [5, 3, 3, 4, 2, 4, 3, 4, 1], [3, 4, 5, 3, 7, 3, 4, 6, 1], [5, 8, 9, 4, 3, 10, 7, 1, 1], [6, 10, 10, 2, 8, 10, 7, 3, 3], [7, 3, 4, 4, 3, 3, 3, 2, 7], [5, 1, 1, 1, 2, 1, 3, 1, 1], [6, 1, 1, 1, 2, 1, 2, 1, 1], [1, 1, 1, 2, 2, 1, 3, 1, 1], [10, 6, 6, 2, 4, 10, 9, 7, 1], [10, 10, 6, 3, 3, 10, 4, 3, 2], [4, 1, 1, 1, 2, 1, 3, 1, 1], [1, 1, 1, 3, 2, 3, 1, 1, 1], [2, 7, 10, 10, 7, 10, 4, 9, 4], [10, 2, 2, 1, 2, 6, 1, 1, 2], [3, 1, 1, 1, 1, 1, 2, 1, 1], [1, 1, 1, 1, 2, 1, 1, 1, 1], [7, 8, 3, 7, 4, 5, 7, 8, 2], [6, 1, 1, 3, 2, 1, 1, 1, 1], [3, 1, 1, 1, 2, 1, 2, 1, 1], [8, 10, 10, 8, 5, 10, 7, 8, 1], [1, 1, 1, 1, 1, 1, 3, 1, 1], [4, 3, 1, 1, 2, 1, 4, 8, 1], [5, 1, 1, 1, 2, 1, 2, 2, 1], [3, 4, 4, 10, 5, 1, 3, 3, 1], [1, 1, 1, 1, 2, 1, 2, 1, 1], [2, 1, 1, 1, 2, 1, 1, 1, 1], [1, 1, 1, 1, 2, 1, 2, 1, 1], [5, 4, 6, 6, 4, 10, 4, 3, 1], [3, 1, 1, 1, 2, 1, 2, 1, 1], [1, 1, 1, 1, 2, 1, 2, 1, 1], [5, 10, 10, 10, 4, 10, 5, 6, 3], [6, 10, 10, 10, 8, 10, 7, 10, 7], [1, 1, 1, 1, 2, 5, 1, 1, 1], [8, 4, 4, 1, 2, 9, 3, 3, 1], [1, 1, 1, 1, 2, 1, 3, 1, 1], [5, 10, 10, 8, 5, 5, 7, 10, 1], [1, 1, 1, 1, 10, 1, 1, 1, 1], [1, 1, 1, 1, 1, 1, 3, 1, 1], [10, 5, 5, 3, 6, 7, 7, 10, 1], [1, 1, 2, 1, 2, 1, 2, 1, 1], [4, 1, 1, 1, 3, 1, 1, 1, 1], [4, 10, 4, 7, 3, 10, 9, 10, 1], [2, 1, 1, 1, 3, 1, 2, 1, 1]])\n",
    "assert_equal(test_y.tolist(), [0, 0, 1, 1, 0, 0, 0, 1, 0, 0, 1, 0, 1, 0, 0, 0, 1, 1, 1, 0, 0, 0, 1, 0, 1, 1, 0, 0, 0, 1, 0, 1, 1, 0, 0, 0, 1, 1, 0, 1, 0, 0, 0, 0, 0, 0, 0, 1, 0, 0, 1, 0, 1, 0, 0, 0, 1, 0, 0, 1, 0, 0, 0, 0, 0, 0, 0, 0, 1, 1, 0, 0, 0, 0, 0, 0, 1, 0, 0, 0, 1, 0, 1, 0, 0, 1, 0, 0, 1, 0, 1, 0, 1, 1, 1, 0, 1, 1, 1, 0, 0, 0, 1, 1, 0, 0, 1, 1, 0, 0, 1, 0, 0, 1, 0, 0, 0, 1, 0, 0, 0, 1, 0, 0, 1, 1, 0, 1, 0, 1, 0, 0, 1, 0, 0, 1, 0])\n",
    "assert_equal(train_y.tolist(), [1, 0, 0, 0, 1, 0, 0, 0, 0, 1, 0, 1, 0, 1, 1, 0, 0, 0, 0, 1, 1, 0, 1, 1, 1, 1, 1, 1, 0, 0, 0, 0, 0, 0, 1, 1, 1, 0, 0, 0, 1, 0, 0, 1, 1, 0, 1, 0, 0, 1, 1, 0, 0, 0, 0, 0, 0, 0, 0, 0, 0, 1, 0, 0, 0, 0, 0, 1, 1, 0, 1, 0, 0, 0, 1, 0, 0, 0, 0, 1, 1, 0, 0, 1, 1, 0, 0, 1, 1, 0, 1, 0, 1, 1, 0, 0, 0, 1, 0, 1, 0, 1, 0, 0, 0, 0, 0, 1, 0, 0, 1, 0, 0, 1, 0, 0, 0, 0, 0, 1, 0, 0, 1, 0, 1, 0, 0, 1, 1, 1, 0, 0, 0, 0, 0, 0, 1, 1, 0, 0, 0, 0, 0, 0, 0, 1, 0, 0, 1, 0, 0, 0, 0, 0, 0, 0, 1, 0, 0, 0, 1, 1, 0, 1, 0, 0, 0, 1, 0, 0, 0, 1, 1, 0, 1, 0, 0, 1, 0, 0, 0, 0, 0, 0, 0, 1, 1, 1, 1, 0, 1, 0, 1, 0, 1, 1, 1, 0, 0, 1, 0, 0, 0, 0, 1, 1, 0, 0, 0, 1, 0, 0, 1, 0, 0, 0, 0, 1, 1, 0, 0, 0, 0, 0, 0, 0, 0, 0, 0, 0, 1, 0, 1, 0, 0, 0, 0, 0, 0, 1, 1, 1, 1, 0, 0, 1, 0, 1, 0, 1, 0, 0, 0, 0, 1, 0, 1, 0, 0, 0, 0, 1, 0, 0, 1, 0, 0, 0, 0, 0, 0, 0, 1, 0, 1, 0, 0, 0, 1, 0, 0, 0, 0, 0, 1, 0, 0, 0, 0, 1, 0, 0, 1, 0, 0, 0, 0, 1, 1, 0, 0, 0, 0, 1, 0, 0, 1, 0, 0, 0, 0, 1, 1, 0, 1, 0, 1, 0, 0, 0, 1, 1, 1, 0, 0, 0, 0, 0, 0, 0, 0, 1, 1, 0, 0, 0, 0, 0, 0, 0, 1, 1, 0, 0, 0, 0, 1, 1, 1, 0, 1, 0, 1, 0, 0, 0, 0, 0, 1, 0, 1, 1, 0, 0, 0, 0, 0, 0, 0, 1, 0, 0, 0, 1, 0, 0, 1, 1, 1, 0, 1, 1, 1, 0, 0, 0, 1, 0, 1, 0, 0, 1, 0, 1, 1, 1, 0, 0, 0, 1, 0, 1, 1, 1, 0, 0, 0, 1, 0, 1, 0, 0, 0, 0, 1, 1, 0, 0, 0, 1, 1, 0, 0, 1, 0, 0, 0, 1, 1, 0, 0, 0, 1, 0, 0, 0, 1, 0, 1, 0, 0, 1, 0, 0, 0, 0, 1, 1, 0, 0, 1, 1, 0, 0, 1, 1, 1, 0, 0, 1, 0, 0, 0, 0, 0, 1, 0, 1, 1, 0, 0, 0, 0, 1, 0, 0, 0, 0, 1, 0, 1, 0, 1, 0, 0, 1, 0, 0, 0, 0, 1, 0, 0, 0, 1, 0, 0, 1, 1, 1, 1, 0, 1, 1, 0, 1, 1, 0, 0, 0, 0, 0, 0, 1, 0, 0, 0, 0, 1, 1, 0, 1, 1, 1, 0, 0, 1, 1, 0, 0, 0, 0, 0, 0, 1, 0, 0, 1, 0, 0, 1, 0, 0, 0, 0, 1])"
   ]
  },
  {
   "cell_type": "markdown",
   "metadata": {},
   "source": [
    "# Problem 4: Training a Multi-Layer Perceptron classifier\n",
    "For this problem create a Multi-Layer Perceptron classifier using sci-kit learns implementation Set random_state to be 100. Fit this on the training set. Lastly, name this model *modelMLPc*"
   ]
  },
  {
   "cell_type": "code",
   "execution_count": null,
   "metadata": {
    "deletable": false,
    "nbgrader": {
     "checksum": "e5e5c3ff4b22074df9fa382910cf0bbc",
     "grade": false,
     "grade_id": "cell-ca83da335cd76ada",
     "locked": false,
     "schema_version": 1,
     "solution": true
    }
   },
   "outputs": [],
   "source": [
    "# YOUR CODE HERE"
   ]
  },
  {
   "cell_type": "code",
   "execution_count": null,
   "metadata": {
    "deletable": false,
    "editable": false,
    "nbgrader": {
     "checksum": "225e5265d27d159adaf85ce1fd8feb9c",
     "grade": true,
     "grade_id": "cell-0f1c27e05d57087c",
     "locked": true,
     "points": 1,
     "schema_version": 1,
     "solution": false
    }
   },
   "outputs": [],
   "source": [
    "assert_almost_equal(.9708, modelMLPc.score(test_X, test_y), places=2)"
   ]
  },
  {
   "cell_type": "markdown",
   "metadata": {},
   "source": [
    "# Problem 5: Using Deep Learning for classification\n",
    "\n",
    "For this problem you will use keras to perform deep learning:\n",
    "- First  convert the training and testing labels using the to_categorical method. \n",
    "- Next Create Sequential model and save it in a variable called $\\texttt{model}$\n",
    "- Add a densely connected neural net layer with 2 units and the input shape should be the number of columns in the training set\n",
    "- Add a softmax activation function \n",
    "- Now configure the model for training by using the compile function from the Sequential model object. Set the loss to be *categorical_crossentropy*, the optimizier should be RMSprop and set the metrics to parameter so that the accuracy can be returned.\n",
    "\n",
    "get the shape of both dimensions for the training features "
   ]
  },
  {
   "cell_type": "code",
   "execution_count": null,
   "metadata": {
    "deletable": false,
    "nbgrader": {
     "checksum": "14dc450db8077648733f83e578fa4364",
     "grade": false,
     "grade_id": "cell-68c07c40d9715ffd",
     "locked": false,
     "schema_version": 1,
     "solution": true
    }
   },
   "outputs": [],
   "source": [
    "# YOUR CODE HERE"
   ]
  },
  {
   "cell_type": "code",
   "execution_count": null,
   "metadata": {
    "deletable": false,
    "editable": false,
    "nbgrader": {
     "checksum": "d20cbaea62dccc04599968c89939e5c2",
     "grade": false,
     "grade_id": "cell-7ba5014eee1d3d5b",
     "locked": true,
     "schema_version": 1,
     "solution": false
    }
   },
   "outputs": [],
   "source": [
    "# Fit model\n",
    "batch_size = 25\n",
    "num_epoch = 20\n",
    "val_spl = 0.2\n",
    "\n",
    "# Train model, use last part of training data to validate\n",
    "history = model.fit(train_X, y_trainc,\n",
    "                    batch_size=batch_size, epochs=num_epoch,\n",
    "                    verbose=1, validation_split = val_spl)\n",
    "\n",
    "score = model.evaluate(test_X, y_testc, verbose=0)"
   ]
  },
  {
   "cell_type": "code",
   "execution_count": null,
   "metadata": {
    "deletable": false,
    "editable": false,
    "nbgrader": {
     "checksum": "5d80567fd4ac320a7f2f4aaf0ca08e22",
     "grade": false,
     "grade_id": "cell-1e561a2efb027d7d",
     "locked": true,
     "schema_version": 1,
     "solution": false
    }
   },
   "outputs": [],
   "source": [
    "print(\"Testing Accuracy:\", round(score[1], 3))"
   ]
  },
  {
   "cell_type": "code",
   "execution_count": null,
   "metadata": {
    "deletable": false,
    "editable": false,
    "nbgrader": {
     "checksum": "24de2b72ea0f272d85d97e7a12907362",
     "grade": true,
     "grade_id": "cell-f287354529cf639c",
     "locked": true,
     "points": 1,
     "schema_version": 1,
     "solution": false
    }
   },
   "outputs": [],
   "source": [
    "assert_equal(model.get_config()[1]['config']['activation'], 'softmax')\n",
    "\n",
    "sol = {'activation': 'linear',\n",
    " 'activity_regularizer': None,\n",
    " 'batch_input_shape': (None, 9),\n",
    " 'bias_constraint': None,\n",
    " 'bias_initializer': {'class_name': 'Zeros', 'config': {}},\n",
    " 'bias_regularizer': None,\n",
    " 'dtype': 'float32',\n",
    " 'kernel_constraint': None,\n",
    " 'kernel_initializer': {'class_name': 'VarianceScaling',\n",
    "  'config': {'distribution': 'uniform',\n",
    "   'mode': 'fan_avg',\n",
    "   'scale': 1.0,\n",
    "   'seed': None}},\n",
    " 'kernel_regularizer': None,\n",
    " 'name': 'dense_1',\n",
    " 'trainable': True,\n",
    " 'units': 2,\n",
    " 'use_bias': True}\n",
    "\n",
    "vals = []\n",
    "for ans_key in model.get_config()[0]['config']:\n",
    "    if ans_key == 'name': pass \n",
    "    else: assert_equal(model.get_config()[0]['config'][ans_key], sol[ans_key])"
   ]
  },
  {
   "cell_type": "markdown",
   "metadata": {},
   "source": [
    "# Problem 6: Create a more complicated model\n",
    "\n",
    "As mentioned in the notes, the power of deep learning lies in being able to build complex models that capture details in the data. For this problem, we will modify the previous deep learning model by adding in more layers and changing the activiation function. Read the instructions carefully.\n",
    "\n",
    "- First  convert the training and testing labels using the to_categorical method. \n",
    "- Next Create Sequential model, and save it in a variable called $\\texttt{model}$\n",
    "- Add a densely connected neural net layer with 20 units and the input shape should be the number of columns in the training set\n",
    "- Add a softmax activation function \n",
    "- Add a densely connected neural net layer with 2 units and the input shape should be the number of columns in the training set\n",
    "- Add a tanh activation function \n",
    "- Add a densely connected neural net layer with 2 units and the input shape should be the number of columns in the training set\n",
    "- Add a softmax activation function \n",
    "- Now configure the model for training by using the compile function from the Sequential model object. Set the loss to be *categorical_crossentropy*, the optimizier should be RMSprop and set the metrics to parameter so that the accuracy can be returned."
   ]
  },
  {
   "cell_type": "code",
   "execution_count": null,
   "metadata": {
    "deletable": false,
    "editable": false,
    "nbgrader": {
     "checksum": "7f6e4679b2b17a90a9e2a4cda16e2183",
     "grade": false,
     "grade_id": "cell-bb6324fcfd84fcb8",
     "locked": true,
     "schema_version": 1,
     "solution": false
    }
   },
   "outputs": [],
   "source": [
    "train_dim_one = train_X.shape[0]\n",
    "train_dim_two = train_X.shape[1]\n",
    "test_dim_one = test_X.shape[0]\n",
    "\n",
    "random.seed(0)"
   ]
  },
  {
   "cell_type": "code",
   "execution_count": null,
   "metadata": {
    "deletable": false,
    "nbgrader": {
     "checksum": "edec1bae83c690b37858467f29997ccb",
     "grade": false,
     "grade_id": "cell-1b400ee6d1249b00",
     "locked": false,
     "schema_version": 1,
     "solution": true
    }
   },
   "outputs": [],
   "source": [
    "random.seed(0)\n",
    "# YOUR CODE HERE"
   ]
  },
  {
   "cell_type": "code",
   "execution_count": null,
   "metadata": {
    "deletable": false,
    "editable": false,
    "nbgrader": {
     "checksum": "15fc29d5e9109c78a51a138d7b010fbc",
     "grade": false,
     "grade_id": "cell-52aff8dcf9f04e97",
     "locked": true,
     "schema_version": 1,
     "solution": false
    }
   },
   "outputs": [],
   "source": [
    "random.seed(0)\n",
    "\n",
    "# Fit model\n",
    "batch_size = 25\n",
    "num_epoch = 20\n",
    "val_spl = 0.2\n",
    "\n",
    "# Train model, use last part of training data to validate\n",
    "history = model.fit(train_X, y_trainc,\n",
    "                    batch_size=batch_size, epochs=num_epoch,\n",
    "                    verbose=1, validation_split = val_spl)\n",
    "\n",
    "score = model.evaluate(test_X, y_testc, verbose=0)"
   ]
  },
  {
   "cell_type": "markdown",
   "metadata": {},
   "source": [
    "Now let's see how accurate the model is"
   ]
  },
  {
   "cell_type": "code",
   "execution_count": null,
   "metadata": {
    "deletable": false,
    "editable": false,
    "nbgrader": {
     "checksum": "c053d3e7814a2da97fd2e48b86fff219",
     "grade": false,
     "grade_id": "cell-79e4dcd0f4f3d107",
     "locked": true,
     "schema_version": 1,
     "solution": false
    }
   },
   "outputs": [],
   "source": [
    "print(\"Testing Accuracy:\", round(score[1], 3))"
   ]
  },
  {
   "cell_type": "code",
   "execution_count": null,
   "metadata": {
    "deletable": false,
    "editable": false,
    "nbgrader": {
     "checksum": "ea96bd377b1b9c5ba5fa9f78de5b2874",
     "grade": true,
     "grade_id": "cell-db3bb6bed2946d73",
     "locked": true,
     "points": 1,
     "schema_version": 1,
     "solution": false
    }
   },
   "outputs": [],
   "source": [
    "assert_equal(model.get_config()[3]['config']['activation'], 'tanh')\n",
    "\n",
    "sol = {'activation': 'linear',\n",
    " 'activity_regularizer': None,\n",
    " 'batch_input_shape': (None, 9),\n",
    " 'bias_constraint': None,\n",
    " 'bias_initializer': {'class_name': 'Zeros', 'config': {}},\n",
    " 'bias_regularizer': None,\n",
    " 'dtype': 'float32',\n",
    " 'kernel_constraint': None,\n",
    " 'kernel_initializer': {'class_name': 'VarianceScaling',\n",
    "  'config': {'distribution': 'uniform',\n",
    "   'mode': 'fan_avg',\n",
    "   'scale': 1.0,\n",
    "   'seed': None}},\n",
    " 'kernel_regularizer': None,\n",
    " 'name': 'dense_1',\n",
    " 'trainable': True,\n",
    " 'units': 20,\n",
    " 'use_bias': True}\n",
    "\n",
    "vals = []\n",
    "for ans_key in model.get_config()[0]['config']:\n",
    "    if ans_key == 'name': pass \n",
    "    else: assert_equal(model.get_config()[0]['config'][ans_key], sol[ans_key])"
   ]
  },
  {
   "cell_type": "code",
   "execution_count": null,
   "metadata": {},
   "outputs": [],
   "source": []
  }
 ],
 "metadata": {
  "kernelspec": {
   "display_name": "Python 3",
   "language": "python",
   "name": "python3"
  },
  "language_info": {
   "codemirror_mode": {
    "name": "ipython",
    "version": 3
   },
   "file_extension": ".py",
   "mimetype": "text/x-python",
   "name": "python",
   "nbconvert_exporter": "python",
   "pygments_lexer": "ipython3",
   "version": "3.6.1"
  }
 },
 "nbformat": 4,
 "nbformat_minor": 2
}
