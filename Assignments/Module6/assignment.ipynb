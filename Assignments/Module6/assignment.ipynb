{
 "cells": [
  {
   "cell_type": "markdown",
   "metadata": {},
   "source": [
    "# Module 6 Assignment\n",
    "\n",
    "A few things you should keep in mind when working on assignments:\n",
    "\n",
    "1. Make sure you fill in any place that says `YOUR CODE HERE`. Do **not** write your answer in anywhere else other than where it says `YOUR CODE HERE`. Anything you write anywhere else will be removed or overwritten by the autograder.\n",
    "\n",
    "2. Before you submit your assignment, make sure everything runs as expected. Go to menubar, select _Kernel_, and restart the kernel and run all cells (_Restart & Run all_).\n",
    "\n",
    "3. Do not change the title (i.e. file name) of this notebook.\n",
    "\n",
    "4. Make sure that you save your work (in the menubar, select _File_ → _Save and CheckPoint_)\n",
    "\n",
    "5. You are allowed to submit an assignment multiple times, but only the most recent submission will be graded."
   ]
  },
  {
   "cell_type": "code",
   "execution_count": null,
   "metadata": {
    "deletable": false,
    "editable": false,
    "nbgrader": {
     "checksum": "6a6893dc4fe28f91f4be21cf2da6db3e",
     "grade": false,
     "grade_id": "cell-b682df554cd11dbc",
     "locked": true,
     "schema_version": 1,
     "solution": false
    }
   },
   "outputs": [],
   "source": [
    "import pandas as pd\n",
    "import numpy as np\n",
    "from collections import Counter\n",
    "from gensim import corpora, models\n",
    "from nose.tools import assert_equal, assert_almost_equal, assert_is_instance\n",
    "\n",
    "import random\n",
    "import nltk\n",
    "from nltk.corpus import reuters\n",
    "from sklearn.pipeline import Pipeline\n",
    "from sklearn.naive_bayes import MultinomialNB\n",
    "from sklearn.metrics import accuracy_score\n",
    "from nltk.corpus import wordnet as wn\n",
    "from sklearn.feature_extraction.text import CountVectorizer\n",
    "from nltk.tokenize import WhitespaceTokenizer\n",
    "from nltk.tokenize import WordPunctTokenizer\n",
    "from nltk.collocations import BigramCollocationFinder, BigramAssocMeasures"
   ]
  },
  {
   "cell_type": "code",
   "execution_count": null,
   "metadata": {
    "deletable": false,
    "editable": false,
    "nbgrader": {
     "checksum": "78a8448d44de46eade4f9d2e1538d9bf",
     "grade": false,
     "grade_id": "cell-eb51a489a4d24fde",
     "locked": true,
     "schema_version": 1,
     "solution": false
    }
   },
   "outputs": [],
   "source": [
    "text = \"\"\"When analyzing large text corpora, trends can appear. These trends can be repeated use of common\n",
    "phrases or terms that are indicative of common underlying themes or topics. For example, books on programming\n",
    "might refer to themes such as human computer interaction, optimization and performance, or identifying\n",
    "and removing error conditions. Finding these common topics can be important for a number of reasons.\n",
    "On the one hand, when they are completely unknown, they can be used to provide new insight into text documents.\n",
    "On the other hand, when they may be partially or even completely unknown, computationally identified topics can\n",
    "provide deeper or more concise insight into the relationship between documents.\n",
    "The process of identifying these common topics is known as topic modeling, which is generally a form\n",
    "of unsupervised learning. As a specific example, consider the twenty newsgroup data that we have analyzed\n",
    "in scikit learn. While there are twenty different newsgroups, it turns out they can be grouped into six related\n",
    "categories: computers, sports, science, politics, religion, and miscellaneous. While we now these topics ahead of\n",
    "time (from the newsgroup titles), we can apply topic modeling to these data to identify the common words or phrases\n",
    "that define these common topics.\n",
    "In the rest of this notebook, we explore the concept of topic modeling. First we will use the scikit learn\n",
    "library to perform topic modeling. We will introduce and use non-negative matrix factorization and Latent Dirichlet\n",
    "allocation. We apply topic modeling to a text classification problem, and also explore the terms that make up\n",
    "identified topics. Finally, we introduce the gensim library, which provides additional techniques for topic modeling.\n",
    "\"\"\""
   ]
  },
  {
   "cell_type": "markdown",
   "metadata": {},
   "source": [
    "# Problem 1: Counting the number of tokens in a document\n",
    "\n",
    "Write a function called $\\texttt{token_counter}$ that tokenizes a document using an nltk.tokenize method and then returns the number of tokens in the document."
   ]
  },
  {
   "cell_type": "code",
   "execution_count": null,
   "metadata": {
    "deletable": false,
    "nbgrader": {
     "checksum": "2cd042b7b8d1a25bf73056a28286a45d",
     "grade": false,
     "grade_id": "cell-14d4608336996c6c",
     "locked": false,
     "schema_version": 1,
     "solution": true
    }
   },
   "outputs": [],
   "source": [
    "def token_counter(tokenizer,text):\n",
    "    \"\"\"\n",
    "\n",
    "    Inputs\n",
    "    ----------\n",
    "\n",
    "    tokenizer: the nltk.tokenize method used to tokenize the document\n",
    "    text: the document to tokenize\n",
    "    \n",
    "    Returns\n",
    "    -------\n",
    "\n",
    "    num_tokens: the number of tokens found in the text by the tokenizer\n",
    "    \"\"\"\n",
    "\n",
    "    # YOUR CODE HERE\n",
    "    \n",
    "    return num_tokens, tokens"
   ]
  },
  {
   "cell_type": "code",
   "execution_count": null,
   "metadata": {
    "deletable": false,
    "editable": false,
    "nbgrader": {
     "checksum": "a177fa1993532716f09faed4527f995a",
     "grade": true,
     "grade_id": "cell-0680053a6ba8a5e2",
     "locked": true,
     "points": 1,
     "schema_version": 1,
     "solution": false
    }
   },
   "outputs": [],
   "source": [
    "token_count,tokens = token_counter(WhitespaceTokenizer(),text)\n",
    "assert_equal(tokens[0],'When')\n",
    "assert_equal(272,token_count)\n",
    "token_count,tokens = token_counter(WordPunctTokenizer(),text)\n",
    "assert_equal(312,token_count)"
   ]
  },
  {
   "cell_type": "markdown",
   "metadata": {},
   "source": [
    "# Problem 2: Finding the top collocated words\n",
    "\n",
    "Write a function called $\\texttt{top_collocated}$ which, given a tokenized text, returns the top collocated bi-grams in a tokenized text using PMI."
   ]
  },
  {
   "cell_type": "code",
   "execution_count": null,
   "metadata": {
    "deletable": false,
    "nbgrader": {
     "checksum": "50478c208119f1d5ff52094d06cc65ac",
     "grade": false,
     "grade_id": "cell-92a0dff6c41c9d46",
     "locked": false,
     "schema_version": 1,
     "solution": true
    }
   },
   "outputs": [],
   "source": [
    "def top_collocated(tokenized_text, num_collocations):\n",
    "    \"\"\"\n",
    "\n",
    "    Inputs\n",
    "    ----------\n",
    "\n",
    "    tokenized_text: the tokenized text\n",
    "    num_collocations: integer, the number of top collocated words to return\n",
    "    \n",
    "    Returns\n",
    "    -------\n",
    "\n",
    "    top_collocations: the top collocated words\n",
    "    \"\"\"\n",
    "\n",
    "    # YOUR CODE HERE\n",
    "    \n",
    "    return top_collocations"
   ]
  },
  {
   "cell_type": "code",
   "execution_count": null,
   "metadata": {
    "deletable": false,
    "editable": false,
    "nbgrader": {
     "checksum": "445b72d756c96a38ff52d5ff3eb8c425",
     "grade": true,
     "grade_id": "cell-89f1a213ef016c9a",
     "locked": true,
     "points": 1,
     "schema_version": 1,
     "solution": false
    }
   },
   "outputs": [],
   "source": [
    "top = top_collocated(tokens,10)\n",
    "\n",
    "top_c = [('(', 'from'),\n",
    " ('-', 'negative'),\n",
    " (':', 'computers'),\n",
    " ('Dirichlet', 'allocation'),\n",
    " ('Latent', 'Dirichlet'),\n",
    " ('The', 'process'),\n",
    " ('When', 'analyzing'),\n",
    " ('additional', 'techniques'),\n",
    " ('analyzed', 'in'),\n",
    " ('analyzing', 'large')]\n",
    "\n",
    "assert_equal(top_c,top)"
   ]
  },
  {
   "cell_type": "code",
   "execution_count": null,
   "metadata": {
    "deletable": false,
    "editable": false,
    "nbgrader": {
     "checksum": "1858c636085035621c94b9b18af21c4f",
     "grade": false,
     "grade_id": "cell-fc83c4dab3215b92",
     "locked": true,
     "schema_version": 1,
     "solution": false
    }
   },
   "outputs": [],
   "source": [
    "# text taken from \"Introduction to NLP: Topic Modeling\" notebook\n",
    "\n",
    "text = \"\"\"When analyzing large text corpora, trends can appear. These trends can be repeated use of common phrases or terms that are indicative of common underlying themes or topics. For example, books on programming might refer to themes such as human computer interaction, optimization and performance, or identifying and removing error conditions. Finding these common topics can be important for a number of reasons. On the one hand, when they are completely unknown, they can be used to provide new insight into text documents. On the other hand, when they may be partially or even completely unknown, computationally identified topics can provide deeper or more concise insight into the relationship between documents.\n",
    "The process of identifying these common topics is known as topic modeling, which is generally a form of unsupervised learning. As a specific example, consider the twenty newsgroup data that we have analyzed in scikit learn. While there are twenty different newsgroups, it turns out they can be grouped into six related categories: computers, sports, science, politics, religion, and miscellaneous. While we now these topics ahead of time (from the newsgroup titles), we can apply topic modeling to these data to identify the common words or phrases that define these common topics.\n",
    "In the rest of this notebook, we explore the concept of topic modeling. First we will use the scikit learn library to perform topic modeling. We will introduce and use non-negative matrix factorization and Latent Dirichlet allocation. We apply topic modeling to a text classification problem, and also explore the terms that make up identified topics. Finally, we introduce the gensim library, which provides additional techniques for topic modeling.\n",
    "\"\"\"\n",
    "\n",
    "print(text)"
   ]
  },
  {
   "cell_type": "markdown",
   "metadata": {},
   "source": [
    "# Problem 3: Preprocessing Text\n",
    "\n",
    "For this problem take the text from above and replace all instances of '\\n' with nothing. Next convert the the text above to a list using a period as the delimiter.\n",
    "\n",
    "If done correctly the first 5 items in data will look like this:\n",
    "```\n",
    "['When analyzing large text corpora, trends can appear',\n",
    " ' These trends can be repeated use of common phrases or terms that are indicative of common underlying themes or topics',\n",
    " ' For example, books on programming might refer to themes such as human computer interaction, optimization and performance, or identifying and removing error conditions',\n",
    " ' Finding these common topics can be important for a number of reasons',\n",
    " ' On the one hand, when they are completely unknown, they can be used to provide new insight into text documents',\n",
    " ' On the other hand, when they may be partially or even completely unknown, computationally identified topics can provide deeper or more concise insight into the relationship between documents']\n",
    "```"
   ]
  },
  {
   "cell_type": "code",
   "execution_count": null,
   "metadata": {
    "deletable": false,
    "nbgrader": {
     "checksum": "1d17b560952dcb7d42ff5e026d216bef",
     "grade": false,
     "grade_id": "cell-9ba7d05bd9a8cedc",
     "locked": false,
     "schema_version": 1,
     "solution": true
    }
   },
   "outputs": [],
   "source": [
    "# YOUR CODE HERE"
   ]
  },
  {
   "cell_type": "code",
   "execution_count": null,
   "metadata": {
    "deletable": false,
    "editable": false,
    "nbgrader": {
     "checksum": "b6c537a11ef479bfd5bf8aac0d5fff58",
     "grade": false,
     "grade_id": "cell-ef4e8f4c4ebebcad",
     "locked": true,
     "schema_version": 1,
     "solution": false
    }
   },
   "outputs": [],
   "source": [
    "print(data)"
   ]
  },
  {
   "cell_type": "code",
   "execution_count": null,
   "metadata": {
    "deletable": false,
    "editable": false,
    "nbgrader": {
     "checksum": "b858011e21ac90a0c156ad093d3d46b1",
     "grade": true,
     "grade_id": "cell-e667bfde897b122f",
     "locked": true,
     "points": 1,
     "schema_version": 1,
     "solution": false
    }
   },
   "outputs": [],
   "source": [
    "assert_equal(data, \n",
    "['When analyzing large text corpora, trends can appear', ' These trends can be repeated use of common phrases or terms that are indicative of common underlying themes or topics', ' For example, books on programming might refer to themes such as human computer interaction, optimization and performance, or identifying and removing error conditions', ' Finding these common topics can be important for a number of reasons', ' On the one hand, when they are completely unknown, they can be used to provide new insight into text documents', ' On the other hand, when they may be partially or even completely unknown, computationally identified topics can provide deeper or more concise insight into the relationship between documents', 'The process of identifying these common topics is known as topic modeling, which is generally a form of unsupervised learning', ' As a specific example, consider the twenty newsgroup data that we have analyzed in scikit learn', ' While there are twenty different newsgroups, it turns out they can be grouped into six related categories: computers, sports, science, politics, religion, and miscellaneous', ' While we now these topics ahead of time (from the newsgroup titles), we can apply topic modeling to these data to identify the common words or phrases that define these common topics', 'In the rest of this notebook, we explore the concept of topic modeling', ' First we will use the scikit learn library to perform topic modeling', ' We will introduce and use non-negative matrix factorization and Latent Dirichlet allocation', ' We apply topic modeling to a text classification problem, and also explore the terms that make up identified topics', ' Finally, we introduce the gensim library, which provides additional techniques for topic modeling', '']\n",
    "            )"
   ]
  },
  {
   "cell_type": "markdown",
   "metadata": {},
   "source": [
    "# Problem 4: Creating a vectore space model with Gensim\n",
    "For this problem create a set of stop words by reading in data from 'english.txt' in the same directory and storing it in a set.\n",
    "\n",
    "Next parse text from the variable data and remove stop words (make all words in the sentence lower case). *Label this as txts (we will use it in the next problem).*\n",
    "\n",
    "Then remove words appearing more than once. Now grab each word that eppears more than once (these are our tokens).\n",
    "\n",
    "Now create a dictionary mapping for our text corupus and convert the collection of words in our corpus to a bag of words.\n",
    "\n",
    "Next calculate the inverse document counts for all terms using the gensim's implementation of Tf-idf using on the bag of words and transform the bag of words into the tfidf space.\n",
    "\n",
    "Lastly create an LDA model for our corpus using the  LdaModel implementation in gensim. The random_state should be 0, id2word should the dictionary mapping of ids to words, the number of iterations shoulde be 10000, and the corpus should be the bag of words in the tfidf space. *Name this model: lda_model\n",
    "\n"
   ]
  },
  {
   "cell_type": "code",
   "execution_count": null,
   "metadata": {
    "deletable": false,
    "editable": false,
    "nbgrader": {
     "checksum": "ea896845e2b29ca205209409191b110d",
     "grade": false,
     "grade_id": "cell-f703d973a1cd3cd0",
     "locked": true,
     "schema_version": 1,
     "solution": false
    }
   },
   "outputs": [],
   "source": [
    "np.random.seed(0)"
   ]
  },
  {
   "cell_type": "code",
   "execution_count": null,
   "metadata": {
    "deletable": false,
    "nbgrader": {
     "checksum": "47cd560ee7fc9ccf47805e7967c44c03",
     "grade": false,
     "grade_id": "cell-6a59cdfe0f459f24",
     "locked": false,
     "schema_version": 1,
     "solution": true
    }
   },
   "outputs": [],
   "source": [
    "# YOUR CODE HERE"
   ]
  },
  {
   "cell_type": "code",
   "execution_count": null,
   "metadata": {
    "deletable": false,
    "editable": false,
    "nbgrader": {
     "checksum": "443556877382d5b02ed22d1755ecadf6",
     "grade": false,
     "grade_id": "cell-610cc832bbd0e4e2",
     "locked": true,
     "schema_version": 1,
     "solution": false
    }
   },
   "outputs": [],
   "source": [
    "# Let's take a look at the topics our model selected.\n",
    "lda_model.print_topics(5)\n"
   ]
  },
  {
   "cell_type": "code",
   "execution_count": null,
   "metadata": {
    "deletable": false,
    "editable": false,
    "nbgrader": {
     "checksum": "9d79980abb1eb07b5c278a978b1ce645",
     "grade": true,
     "grade_id": "cell-fc7ed3bebc389e3a",
     "locked": true,
     "points": 1,
     "schema_version": 1,
     "solution": false
    }
   },
   "outputs": [],
   "source": [
    "assert_equal(lda_model.iterations, 10000)\n",
    "assert_equal(lda_model.decay, .5)"
   ]
  },
  {
   "cell_type": "markdown",
   "metadata": {},
   "source": [
    "# Problem 5: Using Word2Vec\n",
    "\n",
    "For this problem create a Word2Vec model using gensim's implementation. \n",
    "Pass in the sentences without stop words from the previous problem. Set the maximum distance between the current and predicited word within a sentence to be 5. Ignore all words with a total frequency less than 1. Assign the argument that controls random number generator to be 0, and set the number of iterations over the corpus to be 100. Name this the Word2Vec model to be *model*. \n"
   ]
  },
  {
   "cell_type": "code",
   "execution_count": null,
   "metadata": {
    "deletable": false,
    "editable": false,
    "nbgrader": {
     "checksum": "8a2c05404dd8f263421053cfabcf387b",
     "grade": false,
     "grade_id": "cell-373547e61a19c489",
     "locked": true,
     "schema_version": 1,
     "solution": false
    }
   },
   "outputs": [],
   "source": [
    "np.random.seed(0)"
   ]
  },
  {
   "cell_type": "code",
   "execution_count": null,
   "metadata": {
    "deletable": false,
    "nbgrader": {
     "checksum": "440d565614ef499e0e8882861b9e2b11",
     "grade": false,
     "grade_id": "cell-6a41e81ff781fc0f",
     "locked": false,
     "schema_version": 1,
     "solution": true
    }
   },
   "outputs": [],
   "source": [
    "# YOUR CODE HERE"
   ]
  },
  {
   "cell_type": "code",
   "execution_count": null,
   "metadata": {
    "deletable": false,
    "editable": false,
    "nbgrader": {
     "checksum": "1469bc41b822807f84311f6ee825dd1d",
     "grade": true,
     "grade_id": "cell-65d86a1e1f88559c",
     "locked": true,
     "points": 1,
     "schema_version": 1,
     "solution": false
    }
   },
   "outputs": [],
   "source": [
    "assert_equal(model.alpha, .025)\n",
    "assert_equal(model.batch_words, 10000)\n",
    "assert_equal(model.train_count, 1)"
   ]
  },
  {
   "cell_type": "code",
   "execution_count": null,
   "metadata": {
    "deletable": false,
    "editable": false,
    "nbgrader": {
     "checksum": "9433754f856df5f1f979277229dc677f",
     "grade": false,
     "grade_id": "cell-fb0d8ba516207e99",
     "locked": true,
     "schema_version": 1,
     "solution": false
    }
   },
   "outputs": [],
   "source": [
    "ans1 = model.similarity('scikit', 'learn')\n",
    "ans3 = model.similarity('corpora,', 'text')\n",
    "ans4 = model.similarity('text', 'text')\n",
    "print(\"Similarity between %s and %s is %s\"%('scikit', 'learn', ans1) )\n",
    "print(\"Similarity between %s and %s is %s\"%('corpora', 'text', ans3) )\n",
    "print(\"Similarity between %s and %s is %s\"%('text', 'text', ans4) )\n",
    "\n"
   ]
  },
  {
   "cell_type": "markdown",
   "metadata": {},
   "source": [
    "# Problem 6: Computing path similarity\n",
    "\n",
    "Write a function called $\\texttt{get_path_similarity}$ that takes in two words and calculates their path similarity using the wordnet corpus. Note that the wordnet corpus has been imported above as $\\texttt{wn}$. Recall also that words passed to wordnet have an ending indicated their part of speech. In this case, we will use words that are marked with $\\texttt{.n.01}$ See the lesson notebook."
   ]
  },
  {
   "cell_type": "code",
   "execution_count": null,
   "metadata": {
    "deletable": false,
    "nbgrader": {
     "checksum": "039540c7b596c8f2514ab34e6e8cc4a3",
     "grade": false,
     "grade_id": "cell-6acfa88da9637051",
     "locked": false,
     "schema_version": 1,
     "solution": true
    }
   },
   "outputs": [],
   "source": [
    "def get_path_similarity(x,y):\n",
    "    \"\"\"\n",
    "\n",
    "    Inputs\n",
    "    ----------\n",
    "\n",
    "    x: the first word\n",
    "    y: the second word\n",
    "    \n",
    "    Returns\n",
    "    -------\n",
    "\n",
    "    similarity: the path similarity between the two words\n",
    "    \"\"\"\n",
    "\n",
    "    # YOUR CODE HERE\n",
    "    \n",
    "    return similarity"
   ]
  },
  {
   "cell_type": "code",
   "execution_count": null,
   "metadata": {
    "deletable": false,
    "editable": false,
    "nbgrader": {
     "checksum": "cebcceb81ff12d57ca3a4feb27c17e47",
     "grade": true,
     "grade_id": "cell-231c7b20be27f398",
     "locked": true,
     "points": 1,
     "schema_version": 1,
     "solution": false
    }
   },
   "outputs": [],
   "source": [
    "assert_almost_equal(get_path_similarity('dog','boy'),0.14285714285714285)\n",
    "assert_almost_equal(get_path_similarity('drive','boy'),0.08333333333333333)\n",
    "assert_almost_equal(get_path_similarity('man','boy'),0.3333333333333333)"
   ]
  },
  {
   "cell_type": "code",
   "execution_count": null,
   "metadata": {},
   "outputs": [],
   "source": []
  }
 ],
 "metadata": {
  "kernelspec": {
   "display_name": "Python 3",
   "language": "python",
   "name": "python3"
  },
  "language_info": {
   "codemirror_mode": {
    "name": "ipython",
    "version": 3
   },
   "file_extension": ".py",
   "mimetype": "text/x-python",
   "name": "python",
   "nbconvert_exporter": "python",
   "pygments_lexer": "ipython3",
   "version": "3.6.1"
  }
 },
 "nbformat": 4,
 "nbformat_minor": 2
}
