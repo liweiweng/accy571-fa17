{
 "cells": [
  {
   "cell_type": "markdown",
   "metadata": {},
   "source": [
    "# Mandatory Orientation Module\n",
    "\n",
    "-----\n",
    "\n",
    "In this module, you will become familiar with the course, your instructor, your classmates, and our learning environment.\n",
    "\n",
    "## Time Estimate\n",
    "\n",
    "This orientation module should take approximately 2-3 hours of dedicated time to complete.\n",
    "\n",
    "## Objectives\n",
    "\n",
    "The goal of the orientation module is to familiarize you with the course structure and the online learning environment. The orientation also helps you obtain the technical skills required for the course.\n",
    "\n",
    "After this module, you should be able to:\n",
    "\n",
    "- Recall important information about this course.\n",
    "- Update your Moodle profile.\n",
    "- Use the technologies required in this course.\n",
    "\n",
    "## Instructional Activities \n",
    "\n",
    "Below is a list of the activities and assignments you must complete in this orientation module. Click on the name of each activity for more detailed instructions. Please do these activities before starting with the normal class material. To facilitate late enrollment, these items will not be formally due until the relevant day of the second week of the course.\n",
    "\n",
    "| Activity                                 | Time Estimate | Deadline  | Points |\n",
    "| ---------------------------------------- | ------------- | --------- | ------ |\n",
    "| [Course Overview Video][OV]              | 15 Minutes    | Wednesday | N/A     |\n",
    "| [Course Information and Resources (Syllabus)](syllabus.ipynb) | 1 Hour | Wednesday | N/A |\n",
    "| [Orientation Quiz][OQ]                   | 30 minutes    | Wednesday | 70     |\n",
    "| [Pre-Class Activity: Introduce Yourself](Pre-Class_Activity.ipynb) | 30 Minutes |Wednesday | 60 |\n",
    "\n",
    "\n",
    "## Tips for Success\n",
    "\n",
    "To do well in this course, remember the following:\n",
    "\n",
    "- Log in frequently to manage your messages on a near-daily basis. If you let them pile up for 3 to 4 days, you might be overwhelmed. You should start working on new weekly content right away, on Monday of each week.\n",
    "\n",
    "- Stay on top of the course work. Falling behind will make it harder to catch up, and even harder to understand new concepts that build on previous lessons.\n",
    "\n",
    "- When possible, provide tips and suggestions to your peers in this class. As a learning community, we can help each other learn and grow. One way of doing this is by helping to address the questions that your peers pose. By engaging with each other, we'll all learn better.\n",
    "\n",
    "-----\n",
    "[OV]: https://mediaspace.illinois.edu/media/Course+Intro/1_oq8795f3\n",
    "[OQ]: https://learn.illinois.edu/mod/quiz/view.php?id=2240156"
   ]
  }
 ],
 "metadata": {
  "kernelspec": {
   "display_name": "Python 3",
   "language": "python",
   "name": "python3"
  },
  "language_info": {
   "codemirror_mode": {
    "name": "ipython",
    "version": 3
   },
   "file_extension": ".py",
   "mimetype": "text/x-python",
   "name": "python",
   "nbconvert_exporter": "python",
   "pygments_lexer": "ipython3",
   "version": "3.6.1"
  }
 },
 "nbformat": 4,
 "nbformat_minor": 2
}
