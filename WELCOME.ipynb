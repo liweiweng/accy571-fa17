{
 "cells": [
  {
   "cell_type": "markdown",
   "metadata": {},
   "source": [
    "# Welcome to ACCY 571: Statistical Analysis for Accountancy\n",
    "\n",
    "-----\n",
    "\n",
    "***Professor:*** Dr. Robert Brunner\n",
    "\n",
    "***Server Administrator:*** Edward Kim\n",
    "\n",
    "***Teaching Assistants:*** \n",
    "\n",
    "- Trevor Harris\n",
    "- Kelechi Ikegwu\n",
    "- Linden Lu\n",
    "\n",
    "-----\n",
    "\n",
    "For contact information see the course [moodle site](https://learn.illinois.edu/course/view.php?id=26257).\n",
    "\n",
    "-----\n",
    "\n",
    "This class is a synchronous, face-to-face course. This course follows ACCY 570, and will teach students how to leverage the tools and concepts developed in ACCY 570 to draw inferences from large, complex, and diverse data. This course integrates with ACCY 570, _Data Analytics Foundations for Accountancy_. Rather than teach these two courses simultaneously (or in parallel), we will instead offer them sequentially (or in serial) and we will, therefore, devote the first 8 weeks of both courses to ACCY 570, while the latter 7 weeks of both courses will be devoted to ACCY 571. Thus you will be responsible for completing two **Modules** per week from ACCY 571, thus completing the entire course in seven weeks.\n",
    "\n",
    "Students will learn about the basic tasks in statistical and machine learning, including the importance of data preparation. Specific application areas are explored for these learning techniques, including text analysis, network analysis, and social media analysis. The last part of the course focuses on probabilistic programming, time series analysis, and hypothesis testing.\n",
    "\n",
    "Students must have access to a fairly modern computer, with a modern web browser to work with the course websites and course [JupyterHub server](http://datascience.business.illinois.edu).\n",
    "\n",
    "This class is restricted to MAS or select MSA students pursuing the data analytics concentration in Accountancy program.\n",
    "\n",
    "Please refer to the [course syllabus](orientation/syllabus.ipynb) for more information about course content and grading policies.\n",
    "\n",
    "**If you have any questions, or if something is not working properly, *PLEASE* first search through the _Moodle Q&A Forum_ before emailing a TA or course instructor.**\n",
    "\n",
    "-----"
   ]
  }
 ],
 "metadata": {
  "kernelspec": {
   "display_name": "Python 3",
   "language": "python",
   "name": "python3"
  },
  "language_info": {
   "codemirror_mode": {
    "name": "ipython",
    "version": 3
   },
   "file_extension": ".py",
   "mimetype": "text/x-python",
   "name": "python",
   "nbconvert_exporter": "python",
   "pygments_lexer": "ipython3",
   "version": "3.6.1"
  }
 },
 "nbformat": 4,
 "nbformat_minor": 2
}
