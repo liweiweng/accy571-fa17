{
 "cells": [
  {
   "cell_type": "markdown",
   "metadata": {},
   "source": [
    "# Introduction to NLP: Topic Modeling\n",
    "\n",
    "-----"
   ]
  },
  {
   "cell_type": "markdown",
   "metadata": {},
   "source": [
    "When analyzing large text corpora, trends can appear. These trends can be repeated use of common phrases or terms that are indicative of common underlying themes or topics. For example, books on programming might refer to themes such as human computer interaction, optimization and performance, or identifying and removing error conditions. Finding these common topics can be important for a number of reasons. On the one hand, when they are completely unknown, they can be used to provide new insight into text documents. On the other hand, when they may be partially or even completely unknown, computationally identified topics can provide deeper or more concise insight into the relationship between documents.\n",
    "\n",
    "The process of identifying these common topics is known as topic modeling, which is generally a form of unsupervised learning. As a specific example, consider the [twenty newsgroup][tw] data that we have analyzed in scikit learn. While there are twenty different newsgroups, it turns out they can be grouped into six related categories: computers, sports, science, politics, religion, and miscellaneous. While we now these topics ahead of time (from the newsgroup titles), we can apply topic modeling to these data to identify the common words or phrases that define these common topics.\n",
    "\n",
    "In the rest of this notebook, we explore the concept of topic modeling. First we will use the scikit learn library to perform topic modeling. We will introduce and use non-negative matrix factorization and Latent Dirchlet allocation. We apply topic modeling to a text classification problem, and also explore the terms that make up identified topics. Finally, we introduce the gensim library, which provides additional techniques for topic modeling.\n",
    "\n",
    "-----\n",
    "\n",
    "[tw]: http://qwone.com/~jason/20Newsgroups/"
   ]
  },
  {
   "cell_type": "markdown",
   "metadata": {},
   "source": [
    "## Table of Contents\n",
    "\n",
    "[N-Grams](#N-Grams)\n",
    "\n",
    "[N-Gram Classification](#N-Gram-Classification)\n",
    "\n",
    "[Stemming](#Stemming)\n",
    "\n",
    "[Clustering Analysis](#Clustering-Analysis)\n",
    "\n",
    "[Dimension-Reduction](#Dimension-Reduction)\n",
    "\n",
    "-----\n",
    "\n",
    "Before proceeding with the rest of this notebook, we first include the notebook setup code and we define our _home_ directory.\n",
    "\n",
    "-----"
   ]
  },
  {
   "cell_type": "code",
   "execution_count": 1,
   "metadata": {
    "collapsed": true
   },
   "outputs": [],
   "source": [
    "# Set up Notebook\n",
    "\n",
    "% matplotlib inline\n",
    "\n",
    "# Standard imports\n",
    "import numpy as np\n",
    "import pandas as pd\n",
    "import matplotlib.pyplot as plt\n",
    "import seaborn as sns\n",
    "\n",
    "# We do this to ignore several specific Pandas warnings\n",
    "import warnings\n",
    "warnings.filterwarnings(\"ignore\")"
   ]
  },
  {
   "cell_type": "code",
   "execution_count": 2,
   "metadata": {
    "collapsed": true
   },
   "outputs": [],
   "source": [
    "# First we find our HOME directory\n",
    "home_dir = !echo $HOME\n",
    "\n",
    "# Define data directory\n",
    "data_dir = home_dir[0] +'/data/'"
   ]
  },
  {
   "cell_type": "markdown",
   "metadata": {},
   "source": [
    "-----\n",
    "\n",
    "## Data Access\n",
    "\n",
    "-----"
   ]
  },
  {
   "cell_type": "code",
   "execution_count": 3,
   "metadata": {
    "collapsed": true
   },
   "outputs": [],
   "source": [
    "# Load Dataset\n",
    "from sklearn.datasets import fetch_20newsgroups\n",
    "\n",
    "train = fetch_20newsgroups(data_home=data_dir + 'textdm', \n",
    "                           subset='train', shuffle=True, random_state=23,\n",
    "                           remove=('headers', 'footers', 'quotes'))\n",
    "\n",
    "test = fetch_20newsgroups(data_home=data_dir + 'textdm', \n",
    "                          subset='test', shuffle=True, random_state=23,\n",
    "                          remove=('headers', 'footers', 'quotes'))"
   ]
  },
  {
   "cell_type": "code",
   "execution_count": 4,
   "metadata": {
    "collapsed": true
   },
   "outputs": [],
   "source": [
    "# Use TD-IDF on newgroup data.\n",
    "from sklearn.feature_extraction.text import TfidfVectorizer\n",
    "\n",
    "cv = TfidfVectorizer(stop_words = 'english',\n",
    "                     lowercase=True,\n",
    "                     min_df=2,\n",
    "                     max_features=5000)\n",
    "                     \n",
    "train_data = cv.fit_transform(train['data'])\n",
    "test_data = cv.transform(test['data'])"
   ]
  },
  {
   "cell_type": "markdown",
   "metadata": {},
   "source": [
    "-----\n",
    "\n",
    "[[Back to TOC]](#Table-of-Contents)\n",
    "\n",
    "## Non-Negative Matrix Factorization\n",
    "\n",
    "We can apply [non-negative matrix factorization][wnmf] (NMF) to compute\n",
    "topics in a corpus. We start with a term-document matrix, which we\n",
    "factor in to a term-feature and a feature-document matrices. The latter\n",
    "matrix can be used to identify data clusters (or topics) in the corpus.\n",
    "We demonstrate the use of NMF to perform topic modeling by using the\n",
    "scikit learn library's [NMF implementation][sknmf]. \n",
    "\n",
    "-----\n",
    "\n",
    "[wnmf]: https://en.wikipedia.org/wiki/Non-negative_matrix_factorization\n",
    "[sknmf]: http://scikit-learn.org/stable/modules/generated/sklearn.decomposition.NMF.html"
   ]
  },
  {
   "cell_type": "code",
   "execution_count": 5,
   "metadata": {
    "collapsed": true
   },
   "outputs": [],
   "source": [
    "# Compute topics by using NMF\n",
    "from sklearn.decomposition import NMF\n",
    "\n",
    "num_topics = 6\n",
    "nmf = NMF(n_components = num_topics, max_iter = 1000).fit(train_data)"
   ]
  },
  {
   "cell_type": "code",
   "execution_count": 6,
   "metadata": {},
   "outputs": [
    {
     "name": "stdout",
     "output_type": "stream",
     "text": [
      "Topic  0: don just think people like good time know did right\n",
      "Topic  1: thanks windows does know file mail program files advance use\n",
      "Topic  2: god jesus bible believe faith christian christ christians people does\n",
      "Topic  3: geb edu dsl chastity n3jxp cadre pitt shameful intellect skepticism\n",
      "Topic  4: key chip encryption clipper keys government use escrow law public\n",
      "Topic  5: drive scsi card disk hard drives controller ide new sale\n"
     ]
    }
   ],
   "source": [
    "from helper_code import tpterms as tp\n",
    "\n",
    "nmf_topics = tp.get_topics(cv, nmf)"
   ]
  },
  {
   "cell_type": "markdown",
   "metadata": {},
   "source": [
    "-----\n",
    "\n",
    "[[Back to TOC]](#Table-of-Contents)\n",
    "\n",
    "\n",
    "### Understanding Topic Terms\n",
    "\n",
    "We can explore the terms that are important for each topic by creating a\n",
    "DataFrame to map our topic terms to the original twenty newsgroups. We\n",
    "demonstrate this below by first normalizing the transformed data to have\n",
    "unit probability. We use these data to create the DataFrame and group\n",
    "the resulting rows by the associated newsgroup as shown below.\n",
    "\n",
    "-----"
   ]
  },
  {
   "cell_type": "code",
   "execution_count": 7,
   "metadata": {
    "collapsed": true
   },
   "outputs": [],
   "source": [
    "# We transform and normalize the data, \n",
    "# by using l1 so document topic probabilty sums to unity.\n",
    "\n",
    "from sklearn.preprocessing import normalize\n",
    "\n",
    "td = nmf.transform(train_data)\n",
    "td_norm = normalize(td, norm='l1', axis=1)"
   ]
  },
  {
   "cell_type": "code",
   "execution_count": 8,
   "metadata": {
    "collapsed": true
   },
   "outputs": [],
   "source": [
    "# We use a DataFrame to simplify the collecting of the data for display.\n",
    "\n",
    "df = pd.DataFrame(td_norm, columns=nmf_topics)\n",
    "df.fillna(value=0, inplace=True)\n",
    "df['label'] = pd.Series(train['target'])"
   ]
  },
  {
   "cell_type": "code",
   "execution_count": 9,
   "metadata": {},
   "outputs": [
    {
     "data": {
      "text/html": [
       "<div>\n",
       "<table border=\"1\" class=\"dataframe\">\n",
       "  <thead>\n",
       "    <tr style=\"text-align: right;\">\n",
       "      <th></th>\n",
       "      <th>don, just, think, people, like</th>\n",
       "      <th>thanks, windows, does, know, file</th>\n",
       "      <th>god, jesus, bible, believe, faith</th>\n",
       "      <th>geb, edu, dsl, chastity, n3jxp</th>\n",
       "      <th>key, chip, encryption, clipper, keys</th>\n",
       "      <th>drive, scsi, card, disk, hard</th>\n",
       "      <th>Names</th>\n",
       "    </tr>\n",
       "    <tr>\n",
       "      <th>label</th>\n",
       "      <th></th>\n",
       "      <th></th>\n",
       "      <th></th>\n",
       "      <th></th>\n",
       "      <th></th>\n",
       "      <th></th>\n",
       "      <th></th>\n",
       "    </tr>\n",
       "  </thead>\n",
       "  <tbody>\n",
       "    <tr>\n",
       "      <th>0</th>\n",
       "      <td>0.427240</td>\n",
       "      <td>0.067960</td>\n",
       "      <td>0.381636</td>\n",
       "      <td>0.017604</td>\n",
       "      <td>0.056752</td>\n",
       "      <td>0.019641</td>\n",
       "      <td>alt.atheism</td>\n",
       "    </tr>\n",
       "    <tr>\n",
       "      <th>1</th>\n",
       "      <td>0.172783</td>\n",
       "      <td>0.557776</td>\n",
       "      <td>0.026730</td>\n",
       "      <td>0.020680</td>\n",
       "      <td>0.077858</td>\n",
       "      <td>0.113351</td>\n",
       "      <td>comp.graphics</td>\n",
       "    </tr>\n",
       "    <tr>\n",
       "      <th>2</th>\n",
       "      <td>0.111802</td>\n",
       "      <td>0.607872</td>\n",
       "      <td>0.017682</td>\n",
       "      <td>0.020585</td>\n",
       "      <td>0.047719</td>\n",
       "      <td>0.150347</td>\n",
       "      <td>comp.os.ms-windows.misc</td>\n",
       "    </tr>\n",
       "    <tr>\n",
       "      <th>3</th>\n",
       "      <td>0.115351</td>\n",
       "      <td>0.282048</td>\n",
       "      <td>0.022845</td>\n",
       "      <td>0.016008</td>\n",
       "      <td>0.059350</td>\n",
       "      <td>0.482365</td>\n",
       "      <td>comp.sys.ibm.pc.hardware</td>\n",
       "    </tr>\n",
       "    <tr>\n",
       "      <th>4</th>\n",
       "      <td>0.163271</td>\n",
       "      <td>0.246300</td>\n",
       "      <td>0.023583</td>\n",
       "      <td>0.014559</td>\n",
       "      <td>0.069946</td>\n",
       "      <td>0.444279</td>\n",
       "      <td>comp.sys.mac.hardware</td>\n",
       "    </tr>\n",
       "    <tr>\n",
       "      <th>5</th>\n",
       "      <td>0.130575</td>\n",
       "      <td>0.660687</td>\n",
       "      <td>0.027255</td>\n",
       "      <td>0.020951</td>\n",
       "      <td>0.103860</td>\n",
       "      <td>0.051613</td>\n",
       "      <td>comp.windows.x</td>\n",
       "    </tr>\n",
       "    <tr>\n",
       "      <th>6</th>\n",
       "      <td>0.182213</td>\n",
       "      <td>0.198363</td>\n",
       "      <td>0.020352</td>\n",
       "      <td>0.032615</td>\n",
       "      <td>0.048391</td>\n",
       "      <td>0.504392</td>\n",
       "      <td>misc.forsale</td>\n",
       "    </tr>\n",
       "    <tr>\n",
       "      <th>7</th>\n",
       "      <td>0.527155</td>\n",
       "      <td>0.135022</td>\n",
       "      <td>0.033287</td>\n",
       "      <td>0.020677</td>\n",
       "      <td>0.056916</td>\n",
       "      <td>0.169703</td>\n",
       "      <td>rec.autos</td>\n",
       "    </tr>\n",
       "    <tr>\n",
       "      <th>8</th>\n",
       "      <td>0.600719</td>\n",
       "      <td>0.136160</td>\n",
       "      <td>0.036235</td>\n",
       "      <td>0.025403</td>\n",
       "      <td>0.043387</td>\n",
       "      <td>0.131340</td>\n",
       "      <td>rec.motorcycles</td>\n",
       "    </tr>\n",
       "    <tr>\n",
       "      <th>9</th>\n",
       "      <td>0.710964</td>\n",
       "      <td>0.101199</td>\n",
       "      <td>0.039010</td>\n",
       "      <td>0.024643</td>\n",
       "      <td>0.019901</td>\n",
       "      <td>0.054032</td>\n",
       "      <td>rec.sport.baseball</td>\n",
       "    </tr>\n",
       "    <tr>\n",
       "      <th>10</th>\n",
       "      <td>0.756510</td>\n",
       "      <td>0.073889</td>\n",
       "      <td>0.023789</td>\n",
       "      <td>0.028906</td>\n",
       "      <td>0.018926</td>\n",
       "      <td>0.069647</td>\n",
       "      <td>rec.sport.hockey</td>\n",
       "    </tr>\n",
       "    <tr>\n",
       "      <th>11</th>\n",
       "      <td>0.208288</td>\n",
       "      <td>0.090121</td>\n",
       "      <td>0.032196</td>\n",
       "      <td>0.016877</td>\n",
       "      <td>0.595801</td>\n",
       "      <td>0.034869</td>\n",
       "      <td>sci.crypt</td>\n",
       "    </tr>\n",
       "    <tr>\n",
       "      <th>12</th>\n",
       "      <td>0.307385</td>\n",
       "      <td>0.265785</td>\n",
       "      <td>0.021882</td>\n",
       "      <td>0.021901</td>\n",
       "      <td>0.156071</td>\n",
       "      <td>0.194826</td>\n",
       "      <td>sci.electronics</td>\n",
       "    </tr>\n",
       "    <tr>\n",
       "      <th>13</th>\n",
       "      <td>0.462422</td>\n",
       "      <td>0.152622</td>\n",
       "      <td>0.066282</td>\n",
       "      <td>0.180517</td>\n",
       "      <td>0.068764</td>\n",
       "      <td>0.039089</td>\n",
       "      <td>sci.med</td>\n",
       "    </tr>\n",
       "    <tr>\n",
       "      <th>14</th>\n",
       "      <td>0.504300</td>\n",
       "      <td>0.194010</td>\n",
       "      <td>0.047009</td>\n",
       "      <td>0.022255</td>\n",
       "      <td>0.126040</td>\n",
       "      <td>0.077719</td>\n",
       "      <td>sci.space</td>\n",
       "    </tr>\n",
       "    <tr>\n",
       "      <th>15</th>\n",
       "      <td>0.229380</td>\n",
       "      <td>0.075832</td>\n",
       "      <td>0.619072</td>\n",
       "      <td>0.009616</td>\n",
       "      <td>0.032331</td>\n",
       "      <td>0.018745</td>\n",
       "      <td>soc.religion.christian</td>\n",
       "    </tr>\n",
       "    <tr>\n",
       "      <th>16</th>\n",
       "      <td>0.575647</td>\n",
       "      <td>0.076125</td>\n",
       "      <td>0.080494</td>\n",
       "      <td>0.021782</td>\n",
       "      <td>0.184045</td>\n",
       "      <td>0.036266</td>\n",
       "      <td>talk.politics.guns</td>\n",
       "    </tr>\n",
       "    <tr>\n",
       "      <th>17</th>\n",
       "      <td>0.624197</td>\n",
       "      <td>0.061268</td>\n",
       "      <td>0.144854</td>\n",
       "      <td>0.020562</td>\n",
       "      <td>0.095526</td>\n",
       "      <td>0.019906</td>\n",
       "      <td>talk.politics.mideast</td>\n",
       "    </tr>\n",
       "    <tr>\n",
       "      <th>18</th>\n",
       "      <td>0.558830</td>\n",
       "      <td>0.059315</td>\n",
       "      <td>0.113805</td>\n",
       "      <td>0.020108</td>\n",
       "      <td>0.169359</td>\n",
       "      <td>0.042024</td>\n",
       "      <td>talk.politics.misc</td>\n",
       "    </tr>\n",
       "    <tr>\n",
       "      <th>19</th>\n",
       "      <td>0.359700</td>\n",
       "      <td>0.064228</td>\n",
       "      <td>0.413835</td>\n",
       "      <td>0.019289</td>\n",
       "      <td>0.065668</td>\n",
       "      <td>0.024229</td>\n",
       "      <td>talk.religion.misc</td>\n",
       "    </tr>\n",
       "  </tbody>\n",
       "</table>\n",
       "</div>"
      ],
      "text/plain": [
       "       don, just, think, people, like  thanks, windows, does, know, file  \\\n",
       "label                                                                      \n",
       "0                            0.427240                           0.067960   \n",
       "1                            0.172783                           0.557776   \n",
       "2                            0.111802                           0.607872   \n",
       "3                            0.115351                           0.282048   \n",
       "4                            0.163271                           0.246300   \n",
       "5                            0.130575                           0.660687   \n",
       "6                            0.182213                           0.198363   \n",
       "7                            0.527155                           0.135022   \n",
       "8                            0.600719                           0.136160   \n",
       "9                            0.710964                           0.101199   \n",
       "10                           0.756510                           0.073889   \n",
       "11                           0.208288                           0.090121   \n",
       "12                           0.307385                           0.265785   \n",
       "13                           0.462422                           0.152622   \n",
       "14                           0.504300                           0.194010   \n",
       "15                           0.229380                           0.075832   \n",
       "16                           0.575647                           0.076125   \n",
       "17                           0.624197                           0.061268   \n",
       "18                           0.558830                           0.059315   \n",
       "19                           0.359700                           0.064228   \n",
       "\n",
       "       god, jesus, bible, believe, faith  geb, edu, dsl, chastity, n3jxp  \\\n",
       "label                                                                      \n",
       "0                               0.381636                        0.017604   \n",
       "1                               0.026730                        0.020680   \n",
       "2                               0.017682                        0.020585   \n",
       "3                               0.022845                        0.016008   \n",
       "4                               0.023583                        0.014559   \n",
       "5                               0.027255                        0.020951   \n",
       "6                               0.020352                        0.032615   \n",
       "7                               0.033287                        0.020677   \n",
       "8                               0.036235                        0.025403   \n",
       "9                               0.039010                        0.024643   \n",
       "10                              0.023789                        0.028906   \n",
       "11                              0.032196                        0.016877   \n",
       "12                              0.021882                        0.021901   \n",
       "13                              0.066282                        0.180517   \n",
       "14                              0.047009                        0.022255   \n",
       "15                              0.619072                        0.009616   \n",
       "16                              0.080494                        0.021782   \n",
       "17                              0.144854                        0.020562   \n",
       "18                              0.113805                        0.020108   \n",
       "19                              0.413835                        0.019289   \n",
       "\n",
       "       key, chip, encryption, clipper, keys  drive, scsi, card, disk, hard  \\\n",
       "label                                                                        \n",
       "0                                  0.056752                       0.019641   \n",
       "1                                  0.077858                       0.113351   \n",
       "2                                  0.047719                       0.150347   \n",
       "3                                  0.059350                       0.482365   \n",
       "4                                  0.069946                       0.444279   \n",
       "5                                  0.103860                       0.051613   \n",
       "6                                  0.048391                       0.504392   \n",
       "7                                  0.056916                       0.169703   \n",
       "8                                  0.043387                       0.131340   \n",
       "9                                  0.019901                       0.054032   \n",
       "10                                 0.018926                       0.069647   \n",
       "11                                 0.595801                       0.034869   \n",
       "12                                 0.156071                       0.194826   \n",
       "13                                 0.068764                       0.039089   \n",
       "14                                 0.126040                       0.077719   \n",
       "15                                 0.032331                       0.018745   \n",
       "16                                 0.184045                       0.036266   \n",
       "17                                 0.095526                       0.019906   \n",
       "18                                 0.169359                       0.042024   \n",
       "19                                 0.065668                       0.024229   \n",
       "\n",
       "                          Names  \n",
       "label                            \n",
       "0                   alt.atheism  \n",
       "1                 comp.graphics  \n",
       "2       comp.os.ms-windows.misc  \n",
       "3      comp.sys.ibm.pc.hardware  \n",
       "4         comp.sys.mac.hardware  \n",
       "5                comp.windows.x  \n",
       "6                  misc.forsale  \n",
       "7                     rec.autos  \n",
       "8               rec.motorcycles  \n",
       "9            rec.sport.baseball  \n",
       "10             rec.sport.hockey  \n",
       "11                    sci.crypt  \n",
       "12              sci.electronics  \n",
       "13                      sci.med  \n",
       "14                    sci.space  \n",
       "15       soc.religion.christian  \n",
       "16           talk.politics.guns  \n",
       "17        talk.politics.mideast  \n",
       "18           talk.politics.misc  \n",
       "19           talk.religion.misc  "
      ]
     },
     "execution_count": 9,
     "metadata": {},
     "output_type": "execute_result"
    }
   ],
   "source": [
    "# Now group and add human names for the labels\n",
    "df_lbl = df.groupby('label').mean()\n",
    "df_lbl['Names'] = pd.Series(train['target_names'], dtype=\"category\")\n",
    "\n",
    "# Now display the grouped data\n",
    "df_lbl"
   ]
  },
  {
   "cell_type": "markdown",
   "metadata": {},
   "source": [
    "-----\n",
    "\n",
    "[[Back to TOC]](#Table-of-Contents)\n",
    "\n",
    "\n",
    "### Topic-based Classification\n",
    "\n",
    "If documents are composed of topics, we can leverage defined topics to\n",
    "classify new documents based on the topics that are assigned to each new\n",
    "document. In the following code cells, we first train a Naive Bayes\n",
    "classifier on the topics in the training data sample of the twenty\n",
    "newsgroup data set. We compute the topics, by using the previously\n",
    "created NMF model, for the test data and compute classifications from\n",
    "these topic models. Finally, the resulting classification report and\n",
    "confusion matrix are shown to demonstrate the quality of this\n",
    "classification method.\n",
    "\n",
    "-----"
   ]
  },
  {
   "cell_type": "code",
   "execution_count": 10,
   "metadata": {},
   "outputs": [
    {
     "name": "stdout",
     "output_type": "stream",
     "text": [
      "                          precision    recall  f1-score   support\n",
      "\n",
      "             alt.atheism       0.00      0.00      0.00       319\n",
      "           comp.graphics       0.00      0.00      0.00       389\n",
      " comp.os.ms-windows.misc       0.24      0.20      0.22       394\n",
      "comp.sys.ibm.pc.hardware       0.27      0.49      0.35       392\n",
      "   comp.sys.mac.hardware       0.00      0.00      0.00       385\n",
      "          comp.windows.x       0.27      0.66      0.38       395\n",
      "            misc.forsale       0.33      0.03      0.06       390\n",
      "               rec.autos       0.31      0.01      0.02       396\n",
      "         rec.motorcycles       0.08      0.13      0.10       398\n",
      "      rec.sport.baseball       0.04      0.00      0.00       397\n",
      "        rec.sport.hockey       0.12      0.87      0.21       399\n",
      "               sci.crypt       0.53      0.65      0.59       396\n",
      "         sci.electronics       0.29      0.12      0.17       393\n",
      "                 sci.med       0.14      0.04      0.06       396\n",
      "               sci.space       0.07      0.03      0.04       394\n",
      "  soc.religion.christian       0.37      0.82      0.51       398\n",
      "      talk.politics.guns       0.00      0.00      0.00       364\n",
      "   talk.politics.mideast       0.00      0.00      0.00       376\n",
      "      talk.politics.misc       0.00      0.00      0.00       310\n",
      "      talk.religion.misc       0.00      0.00      0.00       251\n",
      "\n",
      "             avg / total       0.16      0.21      0.14      7532\n",
      "\n"
     ]
    }
   ],
   "source": [
    "# Build classifier from topics.\n",
    "from sklearn.naive_bayes import MultinomialNB\n",
    "\n",
    "clf = MultinomialNB().fit(td, train['target'])\n",
    "\n",
    "# Apply classifier to blind test data\n",
    "ts_preds = clf.predict(nmf.transform(test_data))\n",
    "\n",
    "from sklearn import metrics\n",
    "\n",
    "print(metrics.classification_report(test['target'], ts_preds,\n",
    "    target_names = test['target_names']))"
   ]
  },
  {
   "cell_type": "code",
   "execution_count": 11,
   "metadata": {},
   "outputs": [
    {
     "data": {
      "image/png": "[encoded data removed]",
      "text/plain": [
       "<matplotlib.figure.Figure at 0x7fd43bce1a20>"
      ]
     },
     "metadata": {},
     "output_type": "display_data"
    }
   ],
   "source": [
    "# Create Confusion Plot\n",
    "fig, ax = plt.subplots(figsize=(12, 10))\n",
    "\n",
    "from helper_code import mlplots as mp\n",
    "mp.confusion(test['target'], ts_preds, range(20), 20, 'Naive Bayes Model')"
   ]
  },
  {
   "cell_type": "markdown",
   "metadata": {},
   "source": [
    "-----\n",
    "\n",
    "<font color='red' size = '5'> Student Exercise </font>\n",
    "\n",
    "In the preceding cells, we introduced basic topic modeling by using the\n",
    "scikit learn library and employed NMF in a text classification pipeline.\n",
    "Now that you have run the Notebook, why do you think the results from\n",
    "the topic model-based classification are so poor, especially when\n",
    "compared to the same algorithm without topic modeling (feel free to\n",
    "discuss this in the class forum)?\n",
    "\n",
    "Try making the following changes:\n",
    "\n",
    "1. Increase the number of topics from six to sixty. Do the results change?\n",
    "2. Change the classification algorithm to a random forest. Do the results\n",
    "change?\n",
    "3. Try changing the TFIDF parameters to use more features and n-grams. Do\n",
    "the results change?"
   ]
  },
  {
   "cell_type": "markdown",
   "metadata": {},
   "source": [
    "-----\n",
    "\n",
    "[[Back to TOC]](#Table-of-Contents)\n",
    "\n",
    "\n",
    "\n",
    "## Latent Dirichlet allocation\n",
    "\n",
    "Perhaps the most popular topic modeling algorithm is [Latent Dirichlet\n",
    "allocation][wlda] or LDA. LDA assumes that documents in a Corpus result\n",
    "from a mixture of a small number of topics,  and that the words in the\n",
    "document can be attributed to one of the topics that make up that\n",
    "document. The scikit learn library has an [LDA implementation][sklda],\n",
    "which can be easily applied to a data set, as demonstrated below. After\n",
    "constructing an LDA model, we extract the topics (in this case we are\n",
    "identifying topics for the newsgroup data set) and display the top terms\n",
    "in each topic.\n",
    "\n",
    "-----\n",
    "[wlda]: https://en.wikipedia.org/wiki/Latent_Dirichlet_allocation\n",
    "[sklda]: http://scikit-learn.org/stable/modules/generated/sklearn.decomposition.LatentDirichletAllocation.html"
   ]
  },
  {
   "cell_type": "code",
   "execution_count": 12,
   "metadata": {
    "collapsed": true
   },
   "outputs": [],
   "source": [
    "from sklearn.decomposition import LatentDirichletAllocation\n",
    "\n",
    "lda = LatentDirichletAllocation(n_topics=num_topics, max_iter=5,\n",
    "                                learning_method='online', learning_offset=5.,\n",
    "                                random_state=23).fit(train_data)"
   ]
  },
  {
   "cell_type": "code",
   "execution_count": 13,
   "metadata": {},
   "outputs": [
    {
     "name": "stdout",
     "output_type": "stream",
     "text": [
      "Topic  0: game team games year players season play hockey baseball league\n",
      "Topic  1: people god don think just say believe know like did\n",
      "Topic  2: ax eisa holes marc vax xdm disc dx _____ bu\n",
      "Topic  3: thanks use know like does windows just new edu drive\n",
      "Topic  4: bike car government gun just space clinton guns 000 year\n",
      "Topic  5: msg chinese sphere plants sk mt ho pl p2 printf\n"
     ]
    }
   ],
   "source": [
    "lda_topics = tp.get_topics(cv, lda)"
   ]
  },
  {
   "cell_type": "markdown",
   "metadata": {},
   "source": [
    "-----\n",
    "\n",
    "[[Back to TOC]](#Table-of-Contents)\n",
    "\n",
    "\n",
    "\n",
    "### Visualizing Topics\n",
    "\n",
    "We can visualize he important terms in a topic by constructing a\n",
    "[wordle][ww], which is a word cloud where the size of the word indicates\n",
    "its relative importance. To do this, we will use the Python [word cloud][pwn]\n",
    "library as demonstrated in the following code cell, where we display a\n",
    "word cloud for the first topic and a word cloud for all topics.\n",
    "\n",
    "-----\n",
    "[ww]: http://www.wordle.net\n",
    "[pwn]: http://amueller.github.io/word_cloud/"
   ]
  },
  {
   "cell_type": "code",
   "execution_count": 14,
   "metadata": {},
   "outputs": [
    {
     "data": {
      "image/png": "[encoded data removed]",
      "text/plain": [
       "<matplotlib.figure.Figure at 0x7fd3eca5a710>"
      ]
     },
     "metadata": {},
     "output_type": "display_data"
    },
    {
     "data": {
      "image/png": "[encoded data removed]",
      "text/plain": [
       "<matplotlib.figure.Figure at 0x7fd3eca83e48>"
      ]
     },
     "metadata": {},
     "output_type": "display_data"
    }
   ],
   "source": [
    "from helper_code import wcviz as wc\n",
    "\n",
    "wc.make_wc(lda_topics[0].replace(',', ''), 'Words from Topic 0')\n",
    "\n",
    "text = ', '.join(lda_topics)\n",
    "wc.make_wc(text.replace(',', ''), 'Words from all Topics')"
   ]
  },
  {
   "cell_type": "markdown",
   "metadata": {},
   "source": [
    "-----\n",
    "\n",
    "<font color='red' size = '5'> Student Exercise </font>\n",
    "\n",
    "\n",
    "In the preceding cells, we introduced Latent Dirichlet allocation. Now\n",
    "that you have run the Notebook, try to use LDA in the previous text\n",
    "classification problem. Are the results better or worse? Can you explain\n",
    "why?"
   ]
  },
  {
   "cell_type": "markdown",
   "metadata": {},
   "source": [
    "-----\n",
    "\n",
    "[[Back to TOC]](#Table-of-Contents)\n",
    "\n",
    "\n",
    "## Gensim\n",
    "\n",
    "While NLTK is a useful library to learn the basic concepts in text analysis and natural language processing, there are other libraries that provide powerful NLP functionality. One of the most important libraries in this category is the [_gensim_ library][gl], which is an open source, Python library to create vector-space models for text data that can be used to create topic models. In the following section, we review how to use the gensim library to perform basic text analysis, before learning how to use gensim  to create topic models. \n",
    "\n",
    "An important task in gensim is to the creation of the vector space model for a text document. The indices into the vector space are mapped to the actual terms (or words) by a dictionary; thus we will need the actual vector space model and this dictionary to use gensim for topic modeling. These concepts are demonstrated in the following few code cells, where we analyze the course description.\n",
    "\n",
    "-----\n",
    "[gl]: http://radimrehurek.com/gensim/"
   ]
  },
  {
   "cell_type": "code",
   "execution_count": 15,
   "metadata": {},
   "outputs": [
    {
     "name": "stdout",
     "output_type": "stream",
     "text": [
      "[ ['advanced', 'data', 'this', 'class', 'is'],\n",
      "  [ 'this', 'course', 'will', 'advanced', 'data', 'science', 'concepts',\n",
      "    'concepts', 'info', 'data'],\n",
      "  ['students', 'will', 'learn', 'statistical', 'data', 'statistical'],\n",
      "  ['students', 'will', 'learn', 'techniques'],\n",
      "  ['will', 'techniques', 'data,', 'data,', 'data,'],\n",
      "  ['students', 'will', 'learn', 'data'], ['students', 'have'],\n",
      "  [ 'this', 'class', 'is', 'students', 'have', 'info', 'data', 'science',\n",
      "    'course', 'have']]\n"
     ]
    }
   ],
   "source": [
    "# Next section follows gensim tutorial\n",
    "\n",
    "# As a text example, we use the following course description.\n",
    "info_course = ['Advanced Data Science: This class is an asynchronous, ',\n",
    "               'online course. This course will introduce advanced ',\n",
    "               'data science concepts by building ',\n",
    "               'on the foundational concepts presented in the ',\n",
    "               'prerequisite course: Foundations of Data Science. ', \n",
    "               'Students will first learn how to perform more ',\n",
    "               'statistical data exploration and constructing and ',\n",
    "               'evaluating statistical models. Next, students will ',\n",
    "               'learn machine learning techniques including supervised ',\n",
    "               'and unsupervised learning, dimensional reduction, and ',\n",
    "               'cluster finding. An emphasis will be placed on the ',\n",
    "               'practical application of these techniques to ',\n",
    "               'high-dimensional numerical data, time series data, ',\n",
    "               'image data, and text data. Finally, students will ',\n",
    "               'learn to use relational databases and cloud computing ',\n",
    "               'software components such as Hadoop, Spark, and NoSQL ',\n",
    "               'data stores. Students must have access to a fairly ',\n",
    "               'modern computer, ideally that supports hardware ',\n",
    "               'virtualization, on which they can install software.', \n",
    "               'This class is open to sophomores, juniors, seniors ',\n",
    "               'and graduate students in any discipline who have ',\n",
    "               'either taken a previous data science course or ',\n",
    "               'have received instructor permission.']\n",
    "\n",
    "# Simple stop words\n",
    "stop_words = set('for a of the and to in on an'.split())\n",
    "\n",
    "# Parse text into words, make lowercase and remove stop words\n",
    "txts = [[word for word in sentance.lower().split() if word not in stop_words]\n",
    "        for sentance in info_course]\n",
    "\n",
    "# Keep only those words appearing more than once\n",
    "# Easy with a Counter, but need a flat list\n",
    "from collections import Counter\n",
    "frequency = Counter([word for txt in txts for word in txt])\n",
    "\n",
    "# Now grab tokens that appear more than once\n",
    "tokens = [[token for token in txt if frequency[token] > 1]\n",
    "          for txt in txts]\n",
    "\n",
    "# Display the tokens\n",
    "import pprint\n",
    "pp = pprint.PrettyPrinter(indent=2, depth=2, width=80, compact=True)\n",
    "\n",
    "pp.pprint(tokens)"
   ]
  },
  {
   "cell_type": "code",
   "execution_count": 16,
   "metadata": {},
   "outputs": [
    {
     "name": "stdout",
     "output_type": "stream",
     "text": [
      "Dictionary(16 unique tokens: ['advanced', 'data', 'this', 'class', 'is']...)\n"
     ]
    }
   ],
   "source": [
    "# Compute dictionary mapptin for given text corpus\n",
    "\n",
    "from gensim import corpora\n",
    "dict_gensim = corpora.Dictionary(tokens)\n",
    "print(dict_gensim)"
   ]
  },
  {
   "cell_type": "code",
   "execution_count": 17,
   "metadata": {},
   "outputs": [
    {
     "name": "stdout",
     "output_type": "stream",
     "text": [
      "{'advanced': 0, 'data': 1, 'this': 2, 'class': 3, 'is': 4, 'course': 5, 'will': 6, 'science': 7, 'concepts': 8, 'info': 9, 'students': 10, 'learn': 11, 'statistical': 12, 'techniques': 13, 'data,': 14, 'have': 15}\n"
     ]
    }
   ],
   "source": [
    "# Display mapping between index and word in Bag of Word model.\n",
    "\n",
    "print(dict_gensim.token2id)"
   ]
  },
  {
   "cell_type": "code",
   "execution_count": 18,
   "metadata": {},
   "outputs": [
    {
     "name": "stdout",
     "output_type": "stream",
     "text": [
      "[(1, 2), (2, 1), (4, 1), (5, 1), (7, 1), (8, 1), (11, 1)]\n"
     ]
    }
   ],
   "source": [
    "# Display sample text string as a bag of words.\n",
    "\n",
    "new_txt = 'data science is cool, you should take this course to learn data concepts'\n",
    "new_vec = dict_gensim.doc2bow(new_txt.lower().split())\n",
    "pp.pprint(new_vec)"
   ]
  },
  {
   "cell_type": "code",
   "execution_count": 19,
   "metadata": {},
   "outputs": [
    {
     "name": "stdout",
     "output_type": "stream",
     "text": [
      "[[(0, 1), (1, 1), (2, 1), (3, 1), (4, 1)], [(0, 1), (1, 2), (2, 1), (5, 1), (6, 1), (7, 1), (8, 2), (9, 1)], [(1, 1), (6, 1), (10, 1), (11, 1), (12, 2)], [(6, 1), (10, 1), (11, 1), (13, 1)], [(6, 1), (13, 1), (14, 3)], [(1, 1), (6, 1), (10, 1), (11, 1)], [(10, 1), (15, 1)], [(1, 1), (2, 1), (3, 1), (4, 1), (5, 1), (7, 1), (9, 1), (10, 1), (15, 2)]]\n"
     ]
    }
   ],
   "source": [
    "# Display corpus as bag of words.\n",
    "\n",
    "crps = [dict_gensim.doc2bow(txt) for txt in txts]\n",
    "print(crps)"
   ]
  },
  {
   "cell_type": "markdown",
   "metadata": {},
   "source": [
    "-----\n",
    "\n",
    "[[Back to TOC]](#Table-of-Contents)\n",
    "\n",
    "\n",
    "### Topic Modeling with gensim\n",
    "\n",
    "We can use the gensim library to perform topic modeling. We first\n",
    "transform our info text document to a TFIDF model. The gensim library\n",
    "requires a dictionary to map indices into the TFIDF model to the words,\n",
    "which we can do with our `dict_gensim` object. In the next few code\n",
    "cells, we first create our TFIDF document matrix, display the a sample\n",
    "text string, the bag of words model for this text strings, and the TFIDF\n",
    "model of this document. Next, we construct an Latent Dirchlet allocation\n",
    "model of this document using our dictionary mapping object. Finally, we\n",
    "display the topics, before quantifying the top topic for each sentence\n",
    "in our original corpus.\n",
    "\n",
    "-----"
   ]
  },
  {
   "cell_type": "code",
   "execution_count": 20,
   "metadata": {
    "collapsed": true
   },
   "outputs": [],
   "source": [
    "from gensim import models\n",
    "\n",
    "tfidf = models.TfidfModel(crps)"
   ]
  },
  {
   "cell_type": "code",
   "execution_count": 21,
   "metadata": {},
   "outputs": [
    {
     "name": "stdout",
     "output_type": "stream",
     "text": [
      "data science is cool, you should take this course to learn data concepts\n",
      "[(1, 2), (2, 1), (4, 1), (5, 1), (7, 1), (8, 1), (11, 1)]\n",
      "[ (1, 0.2617482842884797), (2, 0.2731153103729994), (4, 0.3860184772660643),\n",
      "  (5, 0.3860184772660643), (7, 0.3860184772660643), (8, 0.5790277158990964),\n",
      "  (11, 0.2731153103729994)]\n"
     ]
    }
   ],
   "source": [
    "# Print sentance, bago of words model, and TFIDF representation.\n",
    "\n",
    "print(new_txt)\n",
    "print(new_vec)\n",
    "\n",
    "pp.pprint(tfidf[new_vec])"
   ]
  },
  {
   "cell_type": "code",
   "execution_count": 22,
   "metadata": {
    "collapsed": true
   },
   "outputs": [],
   "source": [
    "# Compute LDA model for corpus\n",
    "\n",
    "crps_tfidf = tfidf[crps]\n",
    "lda_gs = models.LdaModel(corpus=crps_tfidf, id2word=dict_gensim, num_topics=3, passes=15)"
   ]
  },
  {
   "cell_type": "code",
   "execution_count": 23,
   "metadata": {
    "scrolled": true
   },
   "outputs": [
    {
     "data": {
      "text/plain": [
       "[(0,\n",
       "  '0.098*\"class\" + 0.098*\"is\" + 0.092*\"this\" + 0.092*\"advanced\" + 0.081*\"have\" + 0.075*\"info\" + 0.075*\"course\" + 0.075*\"science\" + 0.069*\"concepts\" + 0.065*\"data\"'),\n",
       " (1,\n",
       "  '0.153*\"data,\" + 0.132*\"learn\" + 0.093*\"will\" + 0.084*\"data\" + 0.083*\"students\" + 0.062*\"techniques\" + 0.040*\"concepts\" + 0.040*\"have\" + 0.039*\"statistical\" + 0.039*\"info\"'),\n",
       " (2,\n",
       "  '0.124*\"statistical\" + 0.123*\"have\" + 0.108*\"techniques\" + 0.104*\"learn\" + 0.100*\"students\" + 0.070*\"will\" + 0.061*\"concepts\" + 0.043*\"data\" + 0.034*\"science\" + 0.034*\"course\"')]"
      ]
     },
     "execution_count": 23,
     "metadata": {},
     "output_type": "execute_result"
    }
   ],
   "source": [
    "# Display topics as functions over their top terms\n",
    "\n",
    "lda_gs.print_topics(3)"
   ]
  },
  {
   "cell_type": "code",
   "execution_count": 24,
   "metadata": {},
   "outputs": [
    {
     "name": "stdout",
     "output_type": "stream",
     "text": [
      "Sentance 0 has primary topic 0 with probability = 0.782\n",
      "Sentance 1 has primary topic 0 with probability = 0.782\n",
      "Sentance 2 has primary topic 2 with probability = 0.712\n",
      "Sentance 3 has primary topic 2 with probability = 0.737\n",
      "Sentance 4 has primary topic 1 with probability = 0.686\n",
      "Sentance 5 has primary topic 1 with probability = 0.739\n",
      "Sentance 6 has primary topic 2 with probability = 0.688\n",
      "Sentance 7 has primary topic 0 with probability = 0.799\n"
     ]
    }
   ],
   "source": [
    "# Determine primary topic for each sentance in original text\n",
    "import operator\n",
    "\n",
    "for idx, txt in enumerate(lda_gs[crps_tfidf]):\n",
    "    srt_txt = sorted(txt, key=operator.itemgetter(1))\n",
    "    print('Sentance {0:1d} has primary topic {1:1d} with probability = {2:4.3f}'\\\n",
    "          .format(idx, srt_txt[-1][0], srt_txt[-1][1]))"
   ]
  },
  {
   "cell_type": "code",
   "execution_count": 25,
   "metadata": {},
   "outputs": [
    {
     "name": "stdout",
     "output_type": "stream",
     "text": [
      "Topic 0\n",
      "-----------------------------------\n",
      "    class               : 0.0979\n",
      "    is                  : 0.0979\n",
      "    this                : 0.0925\n",
      "    advanced            : 0.0925\n",
      "    have                : 0.0814\n",
      "-----------------------------------\n",
      "Topic 1\n",
      "-----------------------------------\n",
      "    data,               : 0.1527\n",
      "    learn               : 0.1321\n",
      "    will                : 0.0932\n",
      "    data                : 0.0839\n",
      "    students            : 0.0825\n",
      "-----------------------------------\n",
      "Topic 2\n",
      "-----------------------------------\n",
      "    statistical         : 0.1244\n",
      "    have                : 0.1233\n",
      "    techniques          : 0.1079\n",
      "    learn               : 0.1036\n",
      "    students            : 0.1003\n",
      "-----------------------------------\n"
     ]
    }
   ],
   "source": [
    "ttps = lda_gs.top_topics(corpus=crps_tfidf, topn=5)\n",
    "idx = 0\n",
    "\n",
    "for lst, val in ttps:\n",
    "    print('Topic {0}'.format(idx))\n",
    "    print(35*('-'))\n",
    "    idx += 1\n",
    "    for i, z in lst:\n",
    "        print('    {0:20s}: {1:5.4f}'.format(z, i))\n",
    "    print(35*('-'))"
   ]
  },
  {
   "cell_type": "markdown",
   "metadata": {},
   "source": [
    "-----\n",
    "\n",
    "[[Back to TOC]](#Table-of-Contents)\n",
    "\n",
    "\n",
    "### Topic Modeling with gensim\n",
    "\n",
    "We can use the gensim library to perform topic modeling of the twenty\n",
    "newsgroup data. We first need to transform a sparse matrix (as provided\n",
    "by the scikit learn library) into a gensim corpus. We also need to\n",
    "construct a vocabulary dictionary, which we can do by transforming the\n",
    "scikit learn `CountVectorizer` vocabulary into a dictionary that maps\n",
    "between `id` and the `word`. We demonstrate this transformation in the\n",
    "following code cell for the newsgroup training data.\n",
    "\n",
    "-----"
   ]
  },
  {
   "cell_type": "code",
   "execution_count": 26,
   "metadata": {
    "collapsed": true
   },
   "outputs": [],
   "source": [
    "from gensim import matutils as mat\n",
    "from gensim import models as md\n",
    "from gensim.corpora.dictionary import Dictionary\n",
    "\n",
    "# transform sparse matrix into gensim corpus\n",
    "td_gensim = mat.Sparse2Corpus(train_data, documents_columns=False)\n",
    "\n",
    "# Build temporary dictionary from scikit learn vectorizer\n",
    "# for use with gensim\n",
    "tmp_dct = dict((idv, word) for word, idv in cv.vocabulary_.items())\n",
    "dct = Dictionary.from_corpus(td_gensim, id2word=tmp_dct)"
   ]
  },
  {
   "cell_type": "markdown",
   "metadata": {},
   "source": [
    "-----\n",
    "\n",
    "[[Back to TOC]](#Table-of-Contents)\n",
    "\n",
    "\n",
    "### Latent Semantic Analysis\n",
    "\n",
    "We can use the gensim library to perform [Latent Semantic\n",
    "Analysis][wlsa] or LSA; in gensim, however, this technique is called\n",
    "[Latent Semantic Indexing][glsi] (or LSI). LSA assumes that words with\n",
    "similar meanings will occur in close proximity. By leveraging this\n",
    "assumption, we can build and process a term document matrix. After\n",
    "processing, a cosine similarity can be used to identify words that are\n",
    "similar. This technique is applied in the following code cell, where we\n",
    "build an LSA model with six topics from the newsgroup text. The topics\n",
    "are subsequently displayed as functions of the most important terms in\n",
    "each topic.\n",
    "\n",
    "-----\n",
    "[wlsa]: https://en.wikipedia.org/wiki/Latent_semantic_analysis\n",
    "[glsi]: http://radimrehurek.com/gensim/models/lsimodel.html"
   ]
  },
  {
   "cell_type": "code",
   "execution_count": 27,
   "metadata": {},
   "outputs": [
    {
     "data": {
      "text/plain": [
       "[(0,\n",
       "  '0.167*\"don\" + 0.164*\"just\" + 0.162*\"like\" + 0.161*\"know\" + 0.153*\"people\" + 0.138*\"think\" + 0.128*\"does\" + 0.115*\"good\" + 0.114*\"use\" + 0.110*\"time\"'),\n",
       " (1,\n",
       "  '-0.257*\"god\" + 0.241*\"windows\" + 0.226*\"thanks\" + -0.190*\"people\" + 0.158*\"card\" + 0.147*\"drive\" + 0.124*\"dos\" + -0.114*\"jesus\" + 0.113*\"file\" + 0.111*\"mail\"'),\n",
       " (2,\n",
       "  '-0.484*\"god\" + -0.182*\"jesus\" + -0.156*\"windows\" + -0.149*\"does\" + -0.127*\"thanks\" + 0.125*\"year\" + 0.123*\"edu\" + 0.122*\"pitt\" + 0.121*\"geb\" + 0.120*\"dsl\"'),\n",
       " (3,\n",
       "  '0.256*\"edu\" + 0.236*\"geb\" + 0.234*\"dsl\" + 0.234*\"cadre\" + 0.234*\"chastity\" + 0.234*\"n3jxp\" + 0.233*\"shameful\" + 0.232*\"skepticism\" + 0.232*\"intellect\" + 0.232*\"pitt\"'),\n",
       " (4,\n",
       "  '0.308*\"key\" + -0.257*\"drive\" + -0.213*\"god\" + 0.176*\"chip\" + 0.171*\"government\" + 0.169*\"encryption\" + 0.154*\"clipper\" + -0.146*\"game\" + 0.137*\"use\" + 0.131*\"keys\"'),\n",
       " (5,\n",
       "  '-0.422*\"drive\" + 0.279*\"thanks\" + -0.224*\"scsi\" + 0.147*\"know\" + 0.146*\"game\" + 0.138*\"mail\" + -0.136*\"key\" + -0.134*\"disk\" + -0.133*\"drives\" + -0.125*\"chip\"')]"
      ]
     },
     "execution_count": 27,
     "metadata": {},
     "output_type": "execute_result"
    }
   ],
   "source": [
    "# LSI\n",
    "\n",
    "lsi = md.lsimodel.LsiModel(corpus=td_gensim, id2word=dct, num_topics=6)\n",
    "lsi.print_topics()"
   ]
  },
  {
   "cell_type": "markdown",
   "metadata": {},
   "source": [
    "-----\n",
    "\n",
    "[[Back to TOC]](#Table-of-Contents)\n",
    "\n",
    "\n",
    "### Latent Dirichlet allocation\n",
    "\n",
    "The gensim library also provides an implementation of the [Latent\n",
    "Dirichlet allocation][glda] or LDA. We demonstrate the gensim LDA\n",
    "technique in the following code cell, where we once again create an LDA\n",
    "model with six topics for the newsgroup text. We subsequently display\n",
    "the topics as functions of the top words within each topic. Finally, we\n",
    "display the top five words in each topic, along with their topic\n",
    "coherence, which is a measure of the words importance to the specific\n",
    "topic.\n",
    "\n",
    "-----\n",
    "\n",
    "[glda]: http://radimrehurek.com/gensim/models/ldamodel.html"
   ]
  },
  {
   "cell_type": "code",
   "execution_count": 28,
   "metadata": {},
   "outputs": [
    {
     "data": {
      "text/plain": [
       "[(0,\n",
       "  '0.009*\"pittsburgh\" + 0.009*\"cubs\" + 0.007*\"devils\" + 0.006*\"cancer\" + 0.006*\"bat\" + 0.006*\"leafs\" + 0.005*\"hawks\" + 0.005*\"captain\" + 0.005*\"islanders\" + 0.005*\"trained\"'),\n",
       " (1,\n",
       "  '0.006*\"thanks\" + 0.006*\"windows\" + 0.005*\"drive\" + 0.005*\"card\" + 0.005*\"edu\" + 0.004*\"know\" + 0.004*\"use\" + 0.004*\"does\" + 0.004*\"file\" + 0.004*\"mail\"'),\n",
       " (2,\n",
       "  '0.003*\"like\" + 0.003*\"just\" + 0.003*\"don\" + 0.003*\"use\" + 0.003*\"key\" + 0.003*\"good\" + 0.003*\"people\" + 0.003*\"government\" + 0.002*\"know\" + 0.002*\"time\"'),\n",
       " (3,\n",
       "  '0.005*\"people\" + 0.005*\"god\" + 0.004*\"don\" + 0.004*\"think\" + 0.004*\"just\" + 0.003*\"like\" + 0.003*\"say\" + 0.003*\"know\" + 0.003*\"time\" + 0.003*\"good\"'),\n",
       " (4,\n",
       "  '0.011*\"israel\" + 0.010*\"lc\" + 0.007*\"israeli\" + 0.007*\"adam\" + 0.006*\"com\" + 0.005*\"sea\" + 0.005*\"tek\" + 0.005*\"fpu\" + 0.005*\"homosexuality\" + 0.005*\"palestinians\"'),\n",
       " (5,\n",
       "  '0.006*\"window\" + 0.006*\"code\" + 0.005*\"thanks\" + 0.005*\"program\" + 0.005*\"widget\" + 0.005*\"motif\" + 0.004*\"know\" + 0.004*\"icon\" + 0.004*\"faq\" + 0.004*\"source\"')]"
      ]
     },
     "execution_count": 28,
     "metadata": {},
     "output_type": "execute_result"
    }
   ],
   "source": [
    "# LDA\n",
    "\n",
    "lda_gs = md.LdaModel(corpus=td_gensim, id2word=dct, num_topics=6, passes=2)\n",
    "lda_gs.show_topics()"
   ]
  },
  {
   "cell_type": "code",
   "execution_count": 29,
   "metadata": {
    "collapsed": true
   },
   "outputs": [],
   "source": [
    "ttps = lda_gs.top_topics(corpus=td_gensim, topn=5)"
   ]
  },
  {
   "cell_type": "code",
   "execution_count": 30,
   "metadata": {},
   "outputs": [
    {
     "name": "stdout",
     "output_type": "stream",
     "text": [
      "Topic 0\n",
      "-----------------------------------\n",
      "    people              : 0.0049\n",
      "    god                 : 0.0048\n",
      "    don                 : 0.0044\n",
      "    think               : 0.0043\n",
      "    just                : 0.0040\n",
      "-----------------------------------\n",
      "Topic 1\n",
      "-----------------------------------\n",
      "    like                : 0.0032\n",
      "    just                : 0.0031\n",
      "    don                 : 0.0030\n",
      "    use                 : 0.0029\n",
      "    key                 : 0.0028\n",
      "-----------------------------------\n",
      "Topic 2\n",
      "-----------------------------------\n",
      "    thanks              : 0.0059\n",
      "    windows             : 0.0059\n",
      "    drive               : 0.0055\n",
      "    card                : 0.0046\n",
      "    edu                 : 0.0046\n",
      "-----------------------------------\n",
      "Topic 3\n",
      "-----------------------------------\n",
      "    window              : 0.0065\n",
      "    code                : 0.0060\n",
      "    thanks              : 0.0053\n",
      "    program             : 0.0048\n",
      "    widget              : 0.0047\n",
      "-----------------------------------\n",
      "Topic 4\n",
      "-----------------------------------\n",
      "    israel              : 0.0112\n",
      "    lc                  : 0.0100\n",
      "    israeli             : 0.0068\n",
      "    adam                : 0.0065\n",
      "    com                 : 0.0056\n",
      "-----------------------------------\n",
      "Topic 5\n",
      "-----------------------------------\n",
      "    pittsburgh          : 0.0088\n",
      "    cubs                : 0.0087\n",
      "    devils              : 0.0070\n",
      "    cancer              : 0.0063\n",
      "    bat                 : 0.0061\n",
      "-----------------------------------\n"
     ]
    }
   ],
   "source": [
    "idx = 0\n",
    "\n",
    "for lst, val in ttps:\n",
    "    print('Topic {0}'.format(idx))\n",
    "    print(35*('-'))\n",
    "    idx += 1\n",
    "    for i, z in lst:\n",
    "        print('    {0:20s}: {1:5.4f}'.format(z, i))\n",
    "    print(35*('-'))"
   ]
  },
  {
   "cell_type": "markdown",
   "metadata": {},
   "source": [
    "-----\n",
    "\n",
    "<font color='red' size = '5'> Student Exercise </font>\n",
    "\n",
    "\n",
    "In the preceding cells, we used the gensim library to perform topic\n",
    "modeling on the twenty newsgroup data set. Now that you have n the\n",
    "Notebook, try making the following changes.\n",
    "\n",
    "1. Increase the number of topics, how do the results change?\n",
    "2. Can you map the topics to the original newsgroups?\n",
    "\n",
    "-----"
   ]
  },
  {
   "cell_type": "markdown",
   "metadata": {},
   "source": [
    "## Ancillary Information\n",
    "\n",
    "The following links are to additional documentation that you might find helpful in learning this material. Reading these web-accessible documents is completely optional.\n",
    "\n",
    "1. Blog article on [topic modeling][botm]\n",
    "2. Wikipedia article on [Latent Dirichlet Allocation (LDA)][wlda] \n",
    "22. Wikipedia article on [Non-negative Matrix Factorization][wnmf] (focus on text-mining)\n",
    "12. Tutorial on using gensim for [topic modeling][gtm] \n",
    "43. [Text Analysis with topic Models][tatm] for the Humanities and Social Sciences\n",
    "101. Blog article on [matrix factorization][bnmf], with application to NMF\n",
    "\n",
    "-----\n",
    "\n",
    "[wlda]: https://en.wikipedia.org/wiki/Latent_Dirichlet_allocation\n",
    "[wtm]: https://en.wikipedia.org/wiki/Topic_model\n",
    "[wnmf]: https://en.wikipedia.org/wiki/Non-negative_matrix_factorization\n",
    "\n",
    "[gtm]: http://radimrehurek.com/gensim/tut2.html\n",
    "[tatm]: https://www.de.dariah.eu/tatom/index.html\n",
    "\n",
    "[bnmf]: http://www.quuxlabs.com/blog/2010/09/matrix-factorization-a-simple-tutorial-and-implementation-in-python/\n",
    "\n",
    "[botm]: https://www.oreilly.com/ideas/topic-models-past-present-and-future"
   ]
  },
  {
   "cell_type": "markdown",
   "metadata": {
    "deletable": false,
    "editable": false
   },
   "source": [
    "**&copy; 2017: Robert J. Brunner at the University of Illinois.**\n",
    "\n",
    "This notebook is released under the [Creative Commons license CC BY-NC-SA 4.0][ll]. Any reproduction, adaptation, distribution, dissemination or making available of this notebook for commercial use is not allowed unless authorized in writing by the copyright holder.\n",
    "\n",
    "[ll]: https://creativecommons.org/licenses/by-nc-sa/4.0/legalcode"
   ]
  }
 ],
 "metadata": {
  "kernelspec": {
   "display_name": "Python 3",
   "language": "python",
   "name": "python3"
  },
  "language_info": {
   "codemirror_mode": {
    "name": "ipython",
    "version": 3
   },
   "file_extension": ".py",
   "mimetype": "text/x-python",
   "name": "python",
   "nbconvert_exporter": "python",
   "pygments_lexer": "ipython3",
   "version": "3.6.1"
  }
 },
 "nbformat": 4,
 "nbformat_minor": 1
}
