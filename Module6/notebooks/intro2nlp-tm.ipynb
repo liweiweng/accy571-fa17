{
 "cells": [
  {
   "cell_type": "markdown",
   "metadata": {},
   "source": [
    "# Introduction to NLP: Topic Modeling\n",
    "\n",
    "-----"
   ]
  },
  {
   "cell_type": "markdown",
   "metadata": {},
   "source": [
    "When analyzing large text corpora, trends can appear. These trends can be repeated use of common phrases or terms that are indicative of common underlying themes or topics. For example, books on programming might refer to themes such as human computer interaction, optimization and performance, or identifying and removing error conditions. Finding these common topics can be important for a number of reasons. On the one hand, when they are completely unknown, they can be used to provide new insight into text documents. On the other hand, when they may be partially or even completely unknown, computationally identified topics can provide deeper or more concise insight into the relationship between documents.\n",
    "\n",
    "The process of identifying these common topics is known as topic modeling, which is generally a form of unsupervised learning. As a specific example, consider the [twenty newsgroup][tw] data that we have analyzed in scikit learn. While there are twenty different newsgroups, it turns out they can be grouped into six related categories: computers, sports, science, politics, religion, and miscellaneous. While we now these topics ahead of time (from the newsgroup titles), we can apply topic modeling to these data to identify the common words or phrases that define these common topics.\n",
    "\n",
    "In the rest of this notebook, we explore the concept of topic modeling. First we will use the scikit learn library to perform topic modeling. We will introduce and use non-negative matrix factorization and Latent Dirichlet allocation. We apply topic modeling to a text classification problem, and also explore the terms that make up identified topics. Finally, we introduce the gensim library, which provides additional techniques for topic modeling.\n",
    "\n",
    "-----\n",
    "\n",
    "[tw]: http://qwone.com/~jason/20Newsgroups/"
   ]
  },
  {
   "cell_type": "markdown",
   "metadata": {},
   "source": [
    "## Table of Contents\n",
    "\n",
    "[Data Access](#Data-Access)\n",
    "\n",
    "[Non-Negative Matrix Factorization](#Non-Negative-Matrix-Factorization)\n",
    "\n",
    "- [Understanding Topic Terms](#Understanding-Topic-Terms)\n",
    "- [Topic-Based Classification](#Topic-Based-Classification)\n",
    "\n",
    "[Latent Dirichlet Allocation](#Latent-Dirichlet-Allocation)\n",
    "\n",
    "- [Visualizing Topics](#Visualizing-Topics)\n",
    "\n",
    "[Gensim](#Gensim)\n",
    "\n",
    "- [Topic Modeling with Gensim](#Topic-Modeling-with-Gensim)\n",
    "- [Newsgroup Topic Modeling with Gensim](#Newsgroup-Topic-Modeling-with-Gensim)\n",
    "- [Latent Semantic Analysis with Gensim](#Latent-Semantic-Analysis-with-Gensim)\n",
    "- [Latent Dirichlet Allocation with Gensim](#Latent-Dirichlet-Allocation-with-Gensim)\n",
    "\n",
    "-----\n",
    "\n",
    "Before proceeding with the rest of this notebook, we first include the notebook setup code and we define our _home_ directory.\n",
    "\n",
    "-----"
   ]
  },
  {
   "cell_type": "code",
   "execution_count": 1,
   "metadata": {
    "collapsed": true
   },
   "outputs": [],
   "source": [
    "# Set up Notebook\n",
    "\n",
    "% matplotlib inline\n",
    "\n",
    "# Standard imports\n",
    "import numpy as np\n",
    "import pandas as pd\n",
    "import matplotlib.pyplot as plt\n",
    "import seaborn as sns\n",
    "\n",
    "# We do this to ignore several specific Pandas warnings\n",
    "import warnings\n",
    "warnings.filterwarnings(\"ignore\")"
   ]
  },
  {
   "cell_type": "code",
   "execution_count": 2,
   "metadata": {
    "collapsed": true
   },
   "outputs": [],
   "source": [
    "# First we find our HOME directory\n",
    "home_dir = !echo $HOME\n",
    "\n",
    "# Define data directory\n",
    "data_dir = home_dir[0] +'/data/'"
   ]
  },
  {
   "cell_type": "markdown",
   "metadata": {},
   "source": [
    "-----\n",
    "\n",
    "[[Back to TOC]](#Table-of-Contents)\n",
    "\n",
    "## Data Access\n",
    "\n",
    "To introduce topic modeling, we will use the twenty newsgroup data set, which is included with the scikit learn library. The following Code cell loads these data into the notebook and splits them into training and testing samples. The second Code cell applies a TF-IDF vectorizer to tokenize these documents to create a suitable document-term matrix. The vectorize uses and _english_ vocabulary, transforms all words to lowercase, requires terms to appear in at least two documents, and restricts the total number of features to be 5000.\n",
    "\n",
    "-----"
   ]
  },
  {
   "cell_type": "code",
   "execution_count": 3,
   "metadata": {
    "collapsed": true
   },
   "outputs": [],
   "source": [
    "# Load Dataset\n",
    "from sklearn.datasets import fetch_20newsgroups\n",
    "\n",
    "train = fetch_20newsgroups(data_home=data_dir + 'textdm', \n",
    "                           subset='train', shuffle=True, random_state=23,\n",
    "                           remove=('headers', 'footers', 'quotes'))\n",
    "\n",
    "test = fetch_20newsgroups(data_home=data_dir + 'textdm', \n",
    "                          subset='test', shuffle=True, random_state=23,\n",
    "                          remove=('headers', 'footers', 'quotes'))"
   ]
  },
  {
   "cell_type": "code",
   "execution_count": 4,
   "metadata": {
    "collapsed": true
   },
   "outputs": [],
   "source": [
    "# Use TD-IDF on newgroup data.\n",
    "from sklearn.feature_extraction.text import TfidfVectorizer\n",
    "\n",
    "cv = TfidfVectorizer(stop_words = 'english',\n",
    "                     lowercase=True,\n",
    "                     min_df=2,\n",
    "                     max_features=5000)\n",
    "                     \n",
    "train_data = cv.fit_transform(train['data'])\n",
    "test_data = cv.transform(test['data'])"
   ]
  },
  {
   "cell_type": "markdown",
   "metadata": {},
   "source": [
    "-----\n",
    "\n",
    "[[Back to TOC]](#Table-of-Contents)\n",
    "\n",
    "## Non-Negative Matrix Factorization\n",
    "\n",
    "We can apply [non-negative matrix factorization][wnmf] (NMF) to compute topics in a corpus. We start with a term-document matrix, which we factor in to a term-feature and a feature-document matrices. The latter matrix can be used to identify data clusters (or topics) in the corpus. We demonstrate the use of NMF to perform topic modeling by using the scikit learn library's [NMF implementation][sknmf]. \n",
    "\n",
    "-----\n",
    "\n",
    "[wnmf]: https://en.wikipedia.org/wiki/Non-negative_matrix_factorization\n",
    "[sknmf]: http://scikit-learn.org/stable/modules/generated/sklearn.decomposition.NMF.html"
   ]
  },
  {
   "cell_type": "code",
   "execution_count": 5,
   "metadata": {
    "collapsed": true
   },
   "outputs": [],
   "source": [
    "# Compute topics by using NMF\n",
    "from sklearn.decomposition import NMF\n",
    "\n",
    "# Pick six topics\n",
    "num_topics = 6\n",
    "nmf = NMF(n_components = num_topics, max_iter = 1000).fit(train_data)"
   ]
  },
  {
   "cell_type": "code",
   "execution_count": 6,
   "metadata": {},
   "outputs": [
    {
     "name": "stdout",
     "output_type": "stream",
     "text": [
      "Topic  0: don just think people like good time know did right\n",
      "Topic  1: thanks windows does know file mail program files advance use\n",
      "Topic  2: god jesus bible believe faith christian christ christians people does\n",
      "Topic  3: geb edu dsl chastity n3jxp cadre pitt shameful intellect skepticism\n",
      "Topic  4: key chip encryption clipper keys government use escrow law public\n",
      "Topic  5: drive scsi card disk hard drives controller ide new sale\n"
     ]
    }
   ],
   "source": [
    "from helper_code import tpterms as tp\n",
    "\n",
    "nmf_topics = tp.get_topics(cv, nmf)"
   ]
  },
  {
   "cell_type": "markdown",
   "metadata": {},
   "source": [
    "-----\n",
    "\n",
    "[[Back to TOC]](#Table-of-Contents)\n",
    "\n",
    "\n",
    "### Understanding Topic Terms\n",
    "\n",
    "We can explore the terms that are important for each topic by creating a DataFrame to map our topic terms to the original twenty newsgroups. We demonstrate this below by first normalizing the transformed data to have unit probability. We use these data to create the DataFrame and group the resulting rows by the associated newsgroup as shown below.\n",
    "\n",
    "-----"
   ]
  },
  {
   "cell_type": "code",
   "execution_count": 7,
   "metadata": {
    "collapsed": true
   },
   "outputs": [],
   "source": [
    "# We transform and normalize the data, \n",
    "# by using l1-norm so document topic probabilty sums to unity.\n",
    "\n",
    "from sklearn.preprocessing import normalize\n",
    "\n",
    "td = nmf.transform(train_data)\n",
    "td_norm = normalize(td, norm='l1', axis=1)"
   ]
  },
  {
   "cell_type": "code",
   "execution_count": 8,
   "metadata": {
    "collapsed": true
   },
   "outputs": [],
   "source": [
    "# We use a DataFrame to simplify the collecting of the data for display.\n",
    "df = pd.DataFrame(td_norm, columns=nmf_topics)\n",
    "df.fillna(value=0, inplace=True)\n",
    "df['label'] = pd.Series(train['target'])"
   ]
  },
  {
   "cell_type": "code",
   "execution_count": 9,
   "metadata": {},
   "outputs": [
    {
     "data": {
      "text/html": [
       "<div>\n",
       "<table border=\"1\" class=\"dataframe\">\n",
       "  <thead>\n",
       "    <tr style=\"text-align: right;\">\n",
       "      <th></th>\n",
       "      <th>don, just, think, people, like</th>\n",
       "      <th>thanks, windows, does, know, file</th>\n",
       "      <th>god, jesus, bible, believe, faith</th>\n",
       "      <th>geb, edu, dsl, chastity, n3jxp</th>\n",
       "      <th>key, chip, encryption, clipper, keys</th>\n",
       "      <th>drive, scsi, card, disk, hard</th>\n",
       "      <th>Names</th>\n",
       "    </tr>\n",
       "    <tr>\n",
       "      <th>label</th>\n",
       "      <th></th>\n",
       "      <th></th>\n",
       "      <th></th>\n",
       "      <th></th>\n",
       "      <th></th>\n",
       "      <th></th>\n",
       "      <th></th>\n",
       "    </tr>\n",
       "  </thead>\n",
       "  <tbody>\n",
       "    <tr>\n",
       "      <th>0</th>\n",
       "      <td>0.427200</td>\n",
       "      <td>0.067960</td>\n",
       "      <td>0.381667</td>\n",
       "      <td>0.017609</td>\n",
       "      <td>0.056736</td>\n",
       "      <td>0.019662</td>\n",
       "      <td>alt.atheism</td>\n",
       "    </tr>\n",
       "    <tr>\n",
       "      <th>1</th>\n",
       "      <td>0.172752</td>\n",
       "      <td>0.557725</td>\n",
       "      <td>0.026731</td>\n",
       "      <td>0.020683</td>\n",
       "      <td>0.077827</td>\n",
       "      <td>0.113459</td>\n",
       "      <td>comp.graphics</td>\n",
       "    </tr>\n",
       "    <tr>\n",
       "      <th>2</th>\n",
       "      <td>0.111769</td>\n",
       "      <td>0.607803</td>\n",
       "      <td>0.017682</td>\n",
       "      <td>0.020589</td>\n",
       "      <td>0.047698</td>\n",
       "      <td>0.150466</td>\n",
       "      <td>comp.os.ms-windows.misc</td>\n",
       "    </tr>\n",
       "    <tr>\n",
       "      <th>3</th>\n",
       "      <td>0.115288</td>\n",
       "      <td>0.281933</td>\n",
       "      <td>0.022836</td>\n",
       "      <td>0.016005</td>\n",
       "      <td>0.059309</td>\n",
       "      <td>0.482595</td>\n",
       "      <td>comp.sys.ibm.pc.hardware</td>\n",
       "    </tr>\n",
       "    <tr>\n",
       "      <th>4</th>\n",
       "      <td>0.163177</td>\n",
       "      <td>0.246204</td>\n",
       "      <td>0.023575</td>\n",
       "      <td>0.014557</td>\n",
       "      <td>0.069897</td>\n",
       "      <td>0.444527</td>\n",
       "      <td>comp.sys.mac.hardware</td>\n",
       "    </tr>\n",
       "    <tr>\n",
       "      <th>5</th>\n",
       "      <td>0.130558</td>\n",
       "      <td>0.660672</td>\n",
       "      <td>0.027258</td>\n",
       "      <td>0.020956</td>\n",
       "      <td>0.103828</td>\n",
       "      <td>0.051671</td>\n",
       "      <td>comp.windows.x</td>\n",
       "    </tr>\n",
       "    <tr>\n",
       "      <th>6</th>\n",
       "      <td>0.182103</td>\n",
       "      <td>0.198282</td>\n",
       "      <td>0.020347</td>\n",
       "      <td>0.032610</td>\n",
       "      <td>0.048356</td>\n",
       "      <td>0.504627</td>\n",
       "      <td>misc.forsale</td>\n",
       "    </tr>\n",
       "    <tr>\n",
       "      <th>7</th>\n",
       "      <td>0.527023</td>\n",
       "      <td>0.135012</td>\n",
       "      <td>0.033290</td>\n",
       "      <td>0.020680</td>\n",
       "      <td>0.056894</td>\n",
       "      <td>0.169862</td>\n",
       "      <td>rec.autos</td>\n",
       "    </tr>\n",
       "    <tr>\n",
       "      <th>8</th>\n",
       "      <td>0.600618</td>\n",
       "      <td>0.136152</td>\n",
       "      <td>0.036237</td>\n",
       "      <td>0.025408</td>\n",
       "      <td>0.043370</td>\n",
       "      <td>0.131459</td>\n",
       "      <td>rec.motorcycles</td>\n",
       "    </tr>\n",
       "    <tr>\n",
       "      <th>9</th>\n",
       "      <td>0.710905</td>\n",
       "      <td>0.101202</td>\n",
       "      <td>0.039014</td>\n",
       "      <td>0.024648</td>\n",
       "      <td>0.019895</td>\n",
       "      <td>0.054084</td>\n",
       "      <td>rec.sport.baseball</td>\n",
       "    </tr>\n",
       "    <tr>\n",
       "      <th>10</th>\n",
       "      <td>0.756445</td>\n",
       "      <td>0.073890</td>\n",
       "      <td>0.023791</td>\n",
       "      <td>0.028913</td>\n",
       "      <td>0.018921</td>\n",
       "      <td>0.069706</td>\n",
       "      <td>rec.sport.hockey</td>\n",
       "    </tr>\n",
       "    <tr>\n",
       "      <th>11</th>\n",
       "      <td>0.208290</td>\n",
       "      <td>0.090126</td>\n",
       "      <td>0.032204</td>\n",
       "      <td>0.016883</td>\n",
       "      <td>0.595738</td>\n",
       "      <td>0.034911</td>\n",
       "      <td>sci.crypt</td>\n",
       "    </tr>\n",
       "    <tr>\n",
       "      <th>12</th>\n",
       "      <td>0.307304</td>\n",
       "      <td>0.265749</td>\n",
       "      <td>0.021882</td>\n",
       "      <td>0.021905</td>\n",
       "      <td>0.156000</td>\n",
       "      <td>0.195011</td>\n",
       "      <td>sci.electronics</td>\n",
       "    </tr>\n",
       "    <tr>\n",
       "      <th>13</th>\n",
       "      <td>0.462369</td>\n",
       "      <td>0.152622</td>\n",
       "      <td>0.066291</td>\n",
       "      <td>0.180537</td>\n",
       "      <td>0.068741</td>\n",
       "      <td>0.039136</td>\n",
       "      <td>sci.med</td>\n",
       "    </tr>\n",
       "    <tr>\n",
       "      <th>14</th>\n",
       "      <td>0.504244</td>\n",
       "      <td>0.194008</td>\n",
       "      <td>0.047014</td>\n",
       "      <td>0.022260</td>\n",
       "      <td>0.125998</td>\n",
       "      <td>0.077807</td>\n",
       "      <td>sci.space</td>\n",
       "    </tr>\n",
       "    <tr>\n",
       "      <th>15</th>\n",
       "      <td>0.229347</td>\n",
       "      <td>0.075830</td>\n",
       "      <td>0.619095</td>\n",
       "      <td>0.009618</td>\n",
       "      <td>0.032319</td>\n",
       "      <td>0.018767</td>\n",
       "      <td>soc.religion.christian</td>\n",
       "    </tr>\n",
       "    <tr>\n",
       "      <th>16</th>\n",
       "      <td>0.575622</td>\n",
       "      <td>0.076128</td>\n",
       "      <td>0.080509</td>\n",
       "      <td>0.021788</td>\n",
       "      <td>0.184005</td>\n",
       "      <td>0.036307</td>\n",
       "      <td>talk.politics.guns</td>\n",
       "    </tr>\n",
       "    <tr>\n",
       "      <th>17</th>\n",
       "      <td>0.624166</td>\n",
       "      <td>0.061269</td>\n",
       "      <td>0.144876</td>\n",
       "      <td>0.020568</td>\n",
       "      <td>0.095502</td>\n",
       "      <td>0.019930</td>\n",
       "      <td>talk.politics.mideast</td>\n",
       "    </tr>\n",
       "    <tr>\n",
       "      <th>18</th>\n",
       "      <td>0.558797</td>\n",
       "      <td>0.059318</td>\n",
       "      <td>0.113822</td>\n",
       "      <td>0.020115</td>\n",
       "      <td>0.169319</td>\n",
       "      <td>0.042071</td>\n",
       "      <td>talk.politics.misc</td>\n",
       "    </tr>\n",
       "    <tr>\n",
       "      <th>19</th>\n",
       "      <td>0.359664</td>\n",
       "      <td>0.064228</td>\n",
       "      <td>0.413860</td>\n",
       "      <td>0.019293</td>\n",
       "      <td>0.065648</td>\n",
       "      <td>0.024256</td>\n",
       "      <td>talk.religion.misc</td>\n",
       "    </tr>\n",
       "  </tbody>\n",
       "</table>\n",
       "</div>"
      ],
      "text/plain": [
       "       don, just, think, people, like  thanks, windows, does, know, file  \\\n",
       "label                                                                      \n",
       "0                            0.427200                           0.067960   \n",
       "1                            0.172752                           0.557725   \n",
       "2                            0.111769                           0.607803   \n",
       "3                            0.115288                           0.281933   \n",
       "4                            0.163177                           0.246204   \n",
       "5                            0.130558                           0.660672   \n",
       "6                            0.182103                           0.198282   \n",
       "7                            0.527023                           0.135012   \n",
       "8                            0.600618                           0.136152   \n",
       "9                            0.710905                           0.101202   \n",
       "10                           0.756445                           0.073890   \n",
       "11                           0.208290                           0.090126   \n",
       "12                           0.307304                           0.265749   \n",
       "13                           0.462369                           0.152622   \n",
       "14                           0.504244                           0.194008   \n",
       "15                           0.229347                           0.075830   \n",
       "16                           0.575622                           0.076128   \n",
       "17                           0.624166                           0.061269   \n",
       "18                           0.558797                           0.059318   \n",
       "19                           0.359664                           0.064228   \n",
       "\n",
       "       god, jesus, bible, believe, faith  geb, edu, dsl, chastity, n3jxp  \\\n",
       "label                                                                      \n",
       "0                               0.381667                        0.017609   \n",
       "1                               0.026731                        0.020683   \n",
       "2                               0.017682                        0.020589   \n",
       "3                               0.022836                        0.016005   \n",
       "4                               0.023575                        0.014557   \n",
       "5                               0.027258                        0.020956   \n",
       "6                               0.020347                        0.032610   \n",
       "7                               0.033290                        0.020680   \n",
       "8                               0.036237                        0.025408   \n",
       "9                               0.039014                        0.024648   \n",
       "10                              0.023791                        0.028913   \n",
       "11                              0.032204                        0.016883   \n",
       "12                              0.021882                        0.021905   \n",
       "13                              0.066291                        0.180537   \n",
       "14                              0.047014                        0.022260   \n",
       "15                              0.619095                        0.009618   \n",
       "16                              0.080509                        0.021788   \n",
       "17                              0.144876                        0.020568   \n",
       "18                              0.113822                        0.020115   \n",
       "19                              0.413860                        0.019293   \n",
       "\n",
       "       key, chip, encryption, clipper, keys  drive, scsi, card, disk, hard  \\\n",
       "label                                                                        \n",
       "0                                  0.056736                       0.019662   \n",
       "1                                  0.077827                       0.113459   \n",
       "2                                  0.047698                       0.150466   \n",
       "3                                  0.059309                       0.482595   \n",
       "4                                  0.069897                       0.444527   \n",
       "5                                  0.103828                       0.051671   \n",
       "6                                  0.048356                       0.504627   \n",
       "7                                  0.056894                       0.169862   \n",
       "8                                  0.043370                       0.131459   \n",
       "9                                  0.019895                       0.054084   \n",
       "10                                 0.018921                       0.069706   \n",
       "11                                 0.595738                       0.034911   \n",
       "12                                 0.156000                       0.195011   \n",
       "13                                 0.068741                       0.039136   \n",
       "14                                 0.125998                       0.077807   \n",
       "15                                 0.032319                       0.018767   \n",
       "16                                 0.184005                       0.036307   \n",
       "17                                 0.095502                       0.019930   \n",
       "18                                 0.169319                       0.042071   \n",
       "19                                 0.065648                       0.024256   \n",
       "\n",
       "                          Names  \n",
       "label                            \n",
       "0                   alt.atheism  \n",
       "1                 comp.graphics  \n",
       "2       comp.os.ms-windows.misc  \n",
       "3      comp.sys.ibm.pc.hardware  \n",
       "4         comp.sys.mac.hardware  \n",
       "5                comp.windows.x  \n",
       "6                  misc.forsale  \n",
       "7                     rec.autos  \n",
       "8               rec.motorcycles  \n",
       "9            rec.sport.baseball  \n",
       "10             rec.sport.hockey  \n",
       "11                    sci.crypt  \n",
       "12              sci.electronics  \n",
       "13                      sci.med  \n",
       "14                    sci.space  \n",
       "15       soc.religion.christian  \n",
       "16           talk.politics.guns  \n",
       "17        talk.politics.mideast  \n",
       "18           talk.politics.misc  \n",
       "19           talk.religion.misc  "
      ]
     },
     "execution_count": 9,
     "metadata": {},
     "output_type": "execute_result"
    }
   ],
   "source": [
    "# Now group and add human names for the labels\n",
    "df_lbl = df.groupby('label').mean()\n",
    "df_lbl['Names'] = pd.Series(train['target_names'], dtype=\"category\")\n",
    "\n",
    "# Now display the grouped data\n",
    "df_lbl"
   ]
  },
  {
   "cell_type": "markdown",
   "metadata": {},
   "source": [
    "-----\n",
    "\n",
    "[[Back to TOC]](#Table-of-Contents)\n",
    "\n",
    "\n",
    "### Topic-Based Classification\n",
    "\n",
    "If documents are composed of topics, we can leverage defined topics to classify new documents based on the topics that are assigned to each new document. In the following Code cells, we first train a Naive Bayes classifier on the topics in the training data sample of the twenty newsgroup data set. We compute the topics, by using the previously created NMF model, for the test data and compute classifications from these topic models. Finally, the resulting classification report and confusion matrix are shown to demonstrate the quality of this classification method.\n",
    "\n",
    "-----"
   ]
  },
  {
   "cell_type": "code",
   "execution_count": 10,
   "metadata": {},
   "outputs": [
    {
     "name": "stdout",
     "output_type": "stream",
     "text": [
      "                          precision    recall  f1-score   support\n",
      "\n",
      "             alt.atheism       0.00      0.00      0.00       319\n",
      "           comp.graphics       0.00      0.00      0.00       389\n",
      " comp.os.ms-windows.misc       0.24      0.20      0.22       394\n",
      "comp.sys.ibm.pc.hardware       0.27      0.49      0.35       392\n",
      "   comp.sys.mac.hardware       0.00      0.00      0.00       385\n",
      "          comp.windows.x       0.27      0.66      0.38       395\n",
      "            misc.forsale       0.33      0.03      0.06       390\n",
      "               rec.autos       0.35      0.02      0.03       396\n",
      "         rec.motorcycles       0.08      0.13      0.10       398\n",
      "      rec.sport.baseball       0.04      0.00      0.00       397\n",
      "        rec.sport.hockey       0.12      0.87      0.21       399\n",
      "               sci.crypt       0.53      0.65      0.59       396\n",
      "         sci.electronics       0.29      0.12      0.17       393\n",
      "                 sci.med       0.14      0.04      0.06       396\n",
      "               sci.space       0.07      0.03      0.04       394\n",
      "  soc.religion.christian       0.37      0.82      0.51       398\n",
      "      talk.politics.guns       0.00      0.00      0.00       364\n",
      "   talk.politics.mideast       0.00      0.00      0.00       376\n",
      "      talk.politics.misc       0.00      0.00      0.00       310\n",
      "      talk.religion.misc       0.00      0.00      0.00       251\n",
      "\n",
      "             avg / total       0.16      0.21      0.14      7532\n",
      "\n"
     ]
    }
   ],
   "source": [
    "# Build classifier from topics.\n",
    "from sklearn.naive_bayes import MultinomialNB\n",
    "\n",
    "clf = MultinomialNB().fit(td, train['target'])\n",
    "\n",
    "# Apply classifier to blind test data\n",
    "ts_preds = clf.predict(nmf.transform(test_data))\n",
    "\n",
    "from sklearn import metrics\n",
    "\n",
    "print(metrics.classification_report(test['target'], ts_preds,\n",
    "    target_names = test['target_names']))"
   ]
  },
  {
   "cell_type": "code",
   "execution_count": 11,
   "metadata": {},
   "outputs": [
    {
     "data": {
      "image/png": "[encoded data removed]",
      "text/plain": [
       "<matplotlib.figure.Figure at 0x7f9552bdff98>"
      ]
     },
     "metadata": {},
     "output_type": "display_data"
    }
   ],
   "source": [
    "# Create Confusion Plot\n",
    "fig, ax = plt.subplots(figsize=(12, 10))\n",
    "\n",
    "from helper_code import mlplots as mp\n",
    "mp.confusion(test['target'], ts_preds, range(20), 20, 'Naive Bayes Model')"
   ]
  },
  {
   "cell_type": "markdown",
   "metadata": {},
   "source": [
    "-----\n",
    "\n",
    "<font color='red' size = '5'> Student Exercise </font>\n",
    "\n",
    "In the preceding cells, we introduced basic topic modeling by using the scikit learn library and employed NMF in a text classification pipeline. Now that you have run the notebook, why do you think the results from the topic model-based classification are so poor, especially when compared to the same algorithm without topic modeling (feel free to discuss this in the class forum)?\n",
    "\n",
    "Try making the following changes:\n",
    "\n",
    "1. Increase the number of topics from six to sixty. Do the results change?\n",
    "2. Change the classification algorithm to a random forest. Do the results change?\n",
    "3. Try changing the TFIDF parameters to use more features and n-grams. Do the results change?"
   ]
  },
  {
   "cell_type": "markdown",
   "metadata": {},
   "source": [
    "-----\n",
    "\n",
    "[[Back to TOC]](#Table-of-Contents)\n",
    "\n",
    "\n",
    "\n",
    "## Latent Dirichlet Allocation\n",
    "\n",
    "Perhaps the most popular topic modeling algorithm is [Latent Dirichlet Allocation][wlda] or LDA. LDA assumes that documents in a Corpus result from a mixture of a small number of topics,  and that the words in the document can be attributed to one of the topics that make up that document. The scikit learn library has an [LDA implementation][sklda], which can be easily applied to a data set, as demonstrated below. After constructing an LDA model, we extract the topics (in this case we are identifying topics for the newsgroup data set) and display the top terms in each topic.\n",
    "\n",
    "-----\n",
    "[wlda]: https://en.wikipedia.org/wiki/Latent_Dirichlet_allocation\n",
    "[sklda]: http://scikit-learn.org/stable/modules/generated/sklearn.decomposition.LatentDirichletAllocation.html"
   ]
  },
  {
   "cell_type": "code",
   "execution_count": 12,
   "metadata": {
    "collapsed": true
   },
   "outputs": [],
   "source": [
    "from sklearn.decomposition import LatentDirichletAllocation\n",
    "\n",
    "lda = LatentDirichletAllocation(n_topics=num_topics, max_iter=5,\n",
    "                                learning_method='online', learning_offset=5.,\n",
    "                                random_state=23).fit(train_data)"
   ]
  },
  {
   "cell_type": "code",
   "execution_count": 13,
   "metadata": {},
   "outputs": [
    {
     "name": "stdout",
     "output_type": "stream",
     "text": [
      "Topic  0: game team games year players season play hockey baseball league\n",
      "Topic  1: people god don think just say believe know like did\n",
      "Topic  2: ax eisa holes marc vax xdm disc dx _____ bu\n",
      "Topic  3: thanks use know like does windows just new edu drive\n",
      "Topic  4: bike car government gun just space clinton guns 000 year\n",
      "Topic  5: msg chinese sphere plants sk mt ho pl p2 printf\n"
     ]
    }
   ],
   "source": [
    "lda_topics = tp.get_topics(cv, lda)"
   ]
  },
  {
   "cell_type": "markdown",
   "metadata": {},
   "source": [
    "-----\n",
    "\n",
    "[[Back to TOC]](#Table-of-Contents)\n",
    "\n",
    "\n",
    "\n",
    "### Visualizing Topics\n",
    "\n",
    "We can visualize he important terms in a topic by constructing a [wordle][ww], which is a word cloud where the size of the word indicates its relative importance. To do this, we will use the Python [word cloud][pwn] library as demonstrated in the following Code cell, where we display a word cloud for the first topic and a word cloud for all topics.\n",
    "\n",
    "-----\n",
    "[ww]: http://www.wordle.net\n",
    "[pwn]: http://amueller.github.io/word_cloud/"
   ]
  },
  {
   "cell_type": "code",
   "execution_count": 14,
   "metadata": {},
   "outputs": [
    {
     "data": {
      "image/png": "[encoded data removed]",
      "text/plain": [
       "<matplotlib.figure.Figure at 0x7f9543afcda0>"
      ]
     },
     "metadata": {},
     "output_type": "display_data"
    },
    {
     "data": {
      "image/png": "[encoded data removed]",
      "text/plain": [
       "<matplotlib.figure.Figure at 0x7f9541e571d0>"
      ]
     },
     "metadata": {},
     "output_type": "display_data"
    }
   ],
   "source": [
    "# We display a wrod cloud\n",
    "from helper_code import wcviz as wc\n",
    "\n",
    "wc.make_wc(lda_topics[0].replace(',', ''), 'Words from Topic 0')\n",
    "\n",
    "text = ', '.join(lda_topics)\n",
    "wc.make_wc(text.replace(',', ''), 'Words from all Topics')"
   ]
  },
  {
   "cell_type": "markdown",
   "metadata": {},
   "source": [
    "-----\n",
    "\n",
    "<font color='red' size = '5'> Student Exercise </font>\n",
    "\n",
    "In the preceding cells, we introduced Latent Dirichlet Allocation. Now that you have run the notebook, try to use LDA in the previous text classification problem. Are the results better or worse? Can you explain why?"
   ]
  },
  {
   "cell_type": "markdown",
   "metadata": {},
   "source": [
    "-----\n",
    "\n",
    "[[Back to TOC]](#Table-of-Contents)\n",
    "\n",
    "\n",
    "## Gensim\n",
    "\n",
    "While NLTK is a useful library to learn the basic concepts in text analysis and natural language processing, there are other libraries that provide powerful NLP functionality. One of the most important libraries in this category is the [_gensim_ library][gl], which is an open source, Python library to create vector-space models for text data that can be used to create topic models. In the following section, we review how to use the gensim library to perform basic text analysis, before learning how to use gensim  to create topic models. \n",
    "\n",
    "An important task in gensim is to the creation of the vector space model for a text document. The indices into the vector space are mapped to the actual terms (or words) by a dictionary; thus we will need the actual vector space model and this dictionary to use gensim for topic modeling. These concepts are demonstrated in the following few Code cells, where we analyze the course description.\n",
    "\n",
    "-----\n",
    "[gl]: http://radimrehurek.com/gensim/"
   ]
  },
  {
   "cell_type": "code",
   "execution_count": 15,
   "metadata": {},
   "outputs": [
    {
     "name": "stdout",
     "output_type": "stream",
     "text": [
      "[ ['advanced', 'data', 'this', 'class', 'is'],\n",
      "  ['this', 'course', 'will', 'advanced'], ['data', 'science', 'concepts'],\n",
      "  ['concepts'], ['data'], ['students', 'will', 'learn'],\n",
      "  ['statistical', 'data'], ['statistical', 'students', 'will'],\n",
      "  ['learn', 'techniques'], [], ['will'], ['techniques'], ['data,', 'data,'],\n",
      "  ['data,', 'students', 'will'], ['learn'], [], ['data', 'students', 'have'],\n",
      "  [], [], ['this', 'class', 'is'], ['students', 'have'],\n",
      "  ['data', 'science', 'course'], ['have']]\n"
     ]
    }
   ],
   "source": [
    "# Next section follows gensim tutorial\n",
    "\n",
    "# As a text example, we use the following course description.\n",
    "info_course = ['Advanced Data Science: This class is an asynchronous, ',\n",
    "               'online course. This course will introduce advanced ',\n",
    "               'data science concepts by building ',\n",
    "               'on the foundational concepts presented in the ',\n",
    "               'prerequisite course: Foundations of Data Science. ', \n",
    "               'Students will first learn how to perform more ',\n",
    "               'statistical data exploration and constructing and ',\n",
    "               'evaluating statistical models. Next, students will ',\n",
    "               'learn machine learning techniques including supervised ',\n",
    "               'and unsupervised learning, dimensional reduction, and ',\n",
    "               'cluster finding. An emphasis will be placed on the ',\n",
    "               'practical application of these techniques to ',\n",
    "               'high-dimensional numerical data, time series data, ',\n",
    "               'image data, and text data. Finally, students will ',\n",
    "               'learn to use relational databases and cloud computing ',\n",
    "               'software components such as Hadoop, Spark, and NoSQL ',\n",
    "               'data stores. Students must have access to a fairly ',\n",
    "               'modern computer, ideally that supports hardware ',\n",
    "               'virtualization, on which they can install software.', \n",
    "               'This class is open to sophomores, juniors, seniors ',\n",
    "               'and graduate students in any discipline who have ',\n",
    "               'either taken a previous data science course or ',\n",
    "               'have received instructor permission.']\n",
    "\n",
    "# Simple stop words\n",
    "stop_words = set('for a of the and to in on an'.split())\n",
    "\n",
    "# Parse text into words, make lowercase and remove stop words\n",
    "txts = [[word for word in sentance.lower().split() if word not in stop_words]\n",
    "        for sentance in info_course]\n",
    "\n",
    "# Keep only those words appearing more than once\n",
    "# Easy with a Counter, but need a flat list\n",
    "from collections import Counter\n",
    "frequency = Counter([word for txt in txts for word in txt])\n",
    "\n",
    "# Now grab tokens that appear more than once\n",
    "tokens = [[token for token in txt if frequency[token] > 1]\n",
    "          for txt in txts]\n",
    "\n",
    "# Display the tokens\n",
    "import pprint\n",
    "pp = pprint.PrettyPrinter(indent=2, depth=2, width=80, compact=True)\n",
    "\n",
    "pp.pprint(tokens)"
   ]
  },
  {
   "cell_type": "code",
   "execution_count": 16,
   "metadata": {},
   "outputs": [
    {
     "name": "stdout",
     "output_type": "stream",
     "text": [
      "Dictionary(15 unique tokens: ['advanced', 'data', 'this', 'class', 'is']...)\n"
     ]
    }
   ],
   "source": [
    "# Compute a dictionary mapping for given text corpus\n",
    "\n",
    "from gensim import corpora\n",
    "dict_gensim = corpora.Dictionary(tokens)\n",
    "print(dict_gensim)"
   ]
  },
  {
   "cell_type": "code",
   "execution_count": 17,
   "metadata": {},
   "outputs": [
    {
     "name": "stdout",
     "output_type": "stream",
     "text": [
      "{'advanced': 0, 'data': 1, 'this': 2, 'class': 3, 'is': 4, 'course': 5, 'will': 6, 'science': 7, 'concepts': 8, 'students': 9, 'learn': 10, 'statistical': 11, 'techniques': 12, 'data,': 13, 'have': 14}\n"
     ]
    }
   ],
   "source": [
    "# Display mapping between index and word in Bag of Word model.\n",
    "\n",
    "print(dict_gensim.token2id)"
   ]
  },
  {
   "cell_type": "code",
   "execution_count": 18,
   "metadata": {},
   "outputs": [
    {
     "name": "stdout",
     "output_type": "stream",
     "text": [
      "[(1, 2), (2, 1), (4, 1), (5, 1), (7, 1), (8, 1), (10, 1)]\n"
     ]
    }
   ],
   "source": [
    "# Display sample text string as a bag of words.\n",
    "\n",
    "new_txt = 'data science is cool, you should take this course to learn data concepts'\n",
    "new_vec = dict_gensim.doc2bow(new_txt.lower().split())\n",
    "pp.pprint(new_vec)"
   ]
  },
  {
   "cell_type": "code",
   "execution_count": 19,
   "metadata": {},
   "outputs": [
    {
     "name": "stdout",
     "output_type": "stream",
     "text": [
      "[[(0, 1), (1, 1), (2, 1), (3, 1), (4, 1)], [(0, 1), (2, 1), (5, 1), (6, 1)], [(1, 1), (7, 1), (8, 1)], [(8, 1)], [(1, 1)], [(6, 1), (9, 1), (10, 1)], [(1, 1), (11, 1)], [(6, 1), (9, 1), (11, 1)], [(10, 1), (12, 1)], [], [(6, 1)], [(12, 1)], [(13, 2)], [(6, 1), (9, 1), (13, 1)], [(10, 1)], [], [(1, 1), (9, 1), (14, 1)], [], [], [(2, 1), (3, 1), (4, 1)], [(9, 1), (14, 1)], [(1, 1), (5, 1), (7, 1)], [(14, 1)]]\n"
     ]
    }
   ],
   "source": [
    "# Display corpus as bag of words.\n",
    "\n",
    "crps = [dict_gensim.doc2bow(txt) for txt in txts]\n",
    "print(crps)"
   ]
  },
  {
   "cell_type": "markdown",
   "metadata": {},
   "source": [
    "-----\n",
    "\n",
    "[[Back to TOC]](#Table-of-Contents)\n",
    "\n",
    "\n",
    "### Topic Modeling with Gensim\n",
    "\n",
    "We can use the gensim library to perform topic modeling. We first transform our info text document to a TFIDF model. The gensim library requires a dictionary to map indices into the TFIDF model to the words, which we can do with our `dict_gensim` object. In the next few Code cells, we first create our TFIDF document matrix, display the a sample text string, the bag of words model for this text strings, and the TFIDF model of this document. Next, we construct an Latent Dirichlet Allocation model of this document using our dictionary mapping object. Finally, we display the topics, before quantifying the top topic for each sentence in our original corpus.\n",
    "\n",
    "-----"
   ]
  },
  {
   "cell_type": "code",
   "execution_count": 20,
   "metadata": {
    "collapsed": true
   },
   "outputs": [],
   "source": [
    "from gensim import models\n",
    "\n",
    "tfidf = models.TfidfModel(crps)"
   ]
  },
  {
   "cell_type": "code",
   "execution_count": 21,
   "metadata": {},
   "outputs": [
    {
     "name": "stdout",
     "output_type": "stream",
     "text": [
      "data science is cool, you should take this course to learn data concepts\n",
      "[(1, 2), (2, 1), (4, 1), (5, 1), (7, 1), (8, 1), (10, 1)]\n",
      "[ (1, 0.4282554571680886), (2, 0.32458258711331556), (4, 0.38919453737539955),\n",
      "  (5, 0.38919453737539955), (7, 0.38919453737539955), (8, 0.38919453737539955),\n",
      "  (10, 0.32458258711331556)]\n"
     ]
    }
   ],
   "source": [
    "# Print sentance, bago of words model, and TFIDF representation.\n",
    "\n",
    "print(new_txt)\n",
    "print(new_vec)\n",
    "\n",
    "pp.pprint(tfidf[new_vec])"
   ]
  },
  {
   "cell_type": "code",
   "execution_count": 22,
   "metadata": {
    "collapsed": true
   },
   "outputs": [],
   "source": [
    "# Compute LDA model for corpus\n",
    "\n",
    "crps_tfidf = tfidf[crps]\n",
    "lda_gs = models.LdaModel(corpus=crps_tfidf, id2word=dict_gensim, num_topics=3, passes=15)"
   ]
  },
  {
   "cell_type": "code",
   "execution_count": 23,
   "metadata": {
    "scrolled": true
   },
   "outputs": [
    {
     "data": {
      "text/plain": [
       "[(0,\n",
       "  '0.157*\"concepts\" + 0.135*\"this\" + 0.114*\"is\" + 0.114*\"class\" + 0.106*\"advanced\" + 0.081*\"science\" + 0.075*\"data\" + 0.031*\"course\" + 0.028*\"will\" + 0.027*\"have\"'),\n",
       " (1,\n",
       "  '0.240*\"learn\" + 0.190*\"techniques\" + 0.187*\"data,\" + 0.040*\"students\" + 0.038*\"will\" + 0.031*\"data\" + 0.031*\"science\" + 0.031*\"course\" + 0.031*\"have\" + 0.031*\"statistical\"'),\n",
       " (2,\n",
       "  '0.164*\"will\" + 0.153*\"have\" + 0.151*\"students\" + 0.144*\"data\" + 0.105*\"statistical\" + 0.081*\"course\" + 0.052*\"science\" + 0.021*\"advanced\" + 0.019*\"this\" + 0.019*\"learn\"')]"
      ]
     },
     "execution_count": 23,
     "metadata": {},
     "output_type": "execute_result"
    }
   ],
   "source": [
    "# Display topics as functions over their top terms\n",
    "\n",
    "lda_gs.print_topics(3)"
   ]
  },
  {
   "cell_type": "code",
   "execution_count": 24,
   "metadata": {},
   "outputs": [
    {
     "name": "stdout",
     "output_type": "stream",
     "text": [
      "Sentance  0 has primary topic 0 with probability = 0.784\n",
      "Sentance  1 has primary topic 0 with probability = 0.477\n",
      "Sentance  2 has primary topic 0 with probability = 0.723\n",
      "Sentance  3 has primary topic 0 with probability = 0.665\n",
      "Sentance  4 has primary topic 2 with probability = 0.655\n",
      "Sentance  5 has primary topic 2 with probability = 0.490\n",
      "Sentance  6 has primary topic 2 with probability = 0.713\n",
      "Sentance  7 has primary topic 2 with probability = 0.750\n",
      "Sentance  8 has primary topic 1 with probability = 0.722\n",
      "Sentance  9 has primary topic 2 with probability = 0.333\n",
      "Sentance 10 has primary topic 2 with probability = 0.664\n",
      "Sentance 11 has primary topic 1 with probability = 0.666\n",
      "Sentance 12 has primary topic 1 with probability = 0.666\n",
      "Sentance 13 has primary topic 2 with probability = 0.460\n",
      "Sentance 14 has primary topic 1 with probability = 0.666\n",
      "Sentance 15 has primary topic 2 with probability = 0.333\n",
      "Sentance 16 has primary topic 2 with probability = 0.751\n",
      "Sentance 17 has primary topic 2 with probability = 0.333\n",
      "Sentance 18 has primary topic 2 with probability = 0.333\n",
      "Sentance 19 has primary topic 0 with probability = 0.754\n",
      "Sentance 20 has primary topic 2 with probability = 0.721\n",
      "Sentance 21 has primary topic 2 with probability = 0.727\n",
      "Sentance 22 has primary topic 2 with probability = 0.665\n"
     ]
    }
   ],
   "source": [
    "# Determine primary topic for each sentance in original text\n",
    "import operator\n",
    "\n",
    "for idx, txt in enumerate(lda_gs[crps_tfidf]):\n",
    "    srt_txt = sorted(txt, key=operator.itemgetter(1))\n",
    "    print(f'Sentance {idx:2d} has primary topic {srt_txt[-1][0]:1d} ', end='')\n",
    "    print(f'with probability = {srt_txt[-1][1]:4.3f}')"
   ]
  },
  {
   "cell_type": "code",
   "execution_count": 25,
   "metadata": {},
   "outputs": [
    {
     "name": "stdout",
     "output_type": "stream",
     "text": [
      "Topic 0\n",
      "-----------------------------------\n",
      "    will                : 0.1640\n",
      "    have                : 0.1526\n",
      "    students            : 0.1512\n",
      "    data                : 0.1438\n",
      "    statistical         : 0.1052\n",
      "-----------------------------------\n",
      "Topic 1\n",
      "-----------------------------------\n",
      "    concepts            : 0.1574\n",
      "    this                : 0.1349\n",
      "    is                  : 0.1140\n",
      "    class               : 0.1140\n",
      "    advanced            : 0.1058\n",
      "-----------------------------------\n",
      "Topic 2\n",
      "-----------------------------------\n",
      "    learn               : 0.2397\n",
      "    techniques          : 0.1904\n",
      "    data,               : 0.1874\n",
      "    students            : 0.0396\n",
      "    will                : 0.0375\n",
      "-----------------------------------\n"
     ]
    }
   ],
   "source": [
    "ttps = lda_gs.top_topics(corpus=crps_tfidf, topn=5)\n",
    "idx = 0\n",
    "\n",
    "for lst, val in ttps:\n",
    "    print(f'Topic {idx}')\n",
    "    print(35*('-'))\n",
    "    idx += 1\n",
    "    for i, z in lst:\n",
    "        print(f'    {z:20s}: {i:5.4f}')\n",
    "    print(35*('-'))"
   ]
  },
  {
   "cell_type": "markdown",
   "metadata": {},
   "source": [
    "-----\n",
    "\n",
    "[[Back to TOC]](#Table-of-Contents)\n",
    "\n",
    "\n",
    "### Newsgroup Topic Modeling with Gensim\n",
    "\n",
    "We can use the gensim library to perform topic modeling of the twenty newsgroup data. We first need to transform a sparse matrix (as provided by the scikit learn library) into a gensim corpus. We also need to construct a vocabulary dictionary, which we can do by transforming the scikit learn `CountVectorizer` vocabulary into a dictionary that maps between `id` and the `word`. We demonstrate this transformation in the following Code cell for the newsgroup training data.\n",
    "\n",
    "-----"
   ]
  },
  {
   "cell_type": "code",
   "execution_count": 26,
   "metadata": {
    "collapsed": true
   },
   "outputs": [],
   "source": [
    "from gensim import matutils as mat\n",
    "from gensim import models as md\n",
    "from gensim.corpora.dictionary import Dictionary\n",
    "\n",
    "# transform sparse matrix into gensim corpus\n",
    "td_gensim = mat.Sparse2Corpus(train_data, documents_columns=False)\n",
    "\n",
    "# Build temporary dictionary from scikit learn vectorizer\n",
    "# for use with gensim\n",
    "tmp_dct = dict((idv, word) for word, idv in cv.vocabulary_.items())\n",
    "dct = Dictionary.from_corpus(td_gensim, id2word=tmp_dct)"
   ]
  },
  {
   "cell_type": "markdown",
   "metadata": {},
   "source": [
    "-----\n",
    "\n",
    "[[Back to TOC]](#Table-of-Contents)\n",
    "\n",
    "\n",
    "### Latent Semantic Analysis with Gensim\n",
    "\n",
    "We can use the gensim library to perform [Latent Semantic Analysis][wlsa] or LSA; in gensim, however, this technique is called [Latent Semantic Indexing][glsi] (or LSI). LSA assumes that words with similar meanings will occur in close proximity. By leveraging this assumption, we can build and process a term document matrix. After processing, a cosine similarity can be used to identify words that are similar. This technique is applied in the following Code cell, where we build an LSA model with six topics from the newsgroup text. The topics are subsequently displayed as functions of the most important terms in each topic.\n",
    "\n",
    "-----\n",
    "[wlsa]: https://en.wikipedia.org/wiki/Latent_semantic_analysis\n",
    "[glsi]: http://radimrehurek.com/gensim/models/lsimodel.html"
   ]
  },
  {
   "cell_type": "code",
   "execution_count": 27,
   "metadata": {},
   "outputs": [
    {
     "data": {
      "text/plain": [
       "[(0,\n",
       "  '0.167*\"don\" + 0.164*\"just\" + 0.162*\"like\" + 0.161*\"know\" + 0.153*\"people\" + 0.138*\"think\" + 0.128*\"does\" + 0.115*\"good\" + 0.114*\"use\" + 0.110*\"time\"'),\n",
       " (1,\n",
       "  '-0.258*\"god\" + 0.242*\"windows\" + 0.227*\"thanks\" + -0.192*\"people\" + 0.157*\"card\" + 0.147*\"drive\" + 0.122*\"dos\" + -0.115*\"jesus\" + 0.113*\"mail\" + 0.112*\"file\"'),\n",
       " (2,\n",
       "  '0.485*\"god\" + 0.185*\"jesus\" + 0.154*\"windows\" + 0.145*\"does\" + 0.132*\"thanks\" + -0.125*\"year\" + -0.120*\"pitt\" + -0.120*\"edu\" + -0.120*\"geb\" + -0.118*\"dsl\"'),\n",
       " (3,\n",
       "  '-0.261*\"edu\" + -0.236*\"geb\" + -0.234*\"cadre\" + -0.234*\"dsl\" + -0.234*\"n3jxp\" + -0.234*\"chastity\" + -0.233*\"shameful\" + -0.232*\"skepticism\" + -0.232*\"intellect\" + -0.232*\"pitt\"'),\n",
       " (4,\n",
       "  '-0.308*\"key\" + 0.251*\"drive\" + 0.213*\"god\" + -0.181*\"chip\" + -0.176*\"encryption\" + -0.174*\"government\" + -0.157*\"clipper\" + 0.142*\"game\" + -0.139*\"use\" + -0.131*\"keys\"'),\n",
       " (5,\n",
       "  '-0.423*\"drive\" + 0.279*\"thanks\" + -0.231*\"scsi\" + 0.152*\"know\" + 0.144*\"game\" + 0.136*\"mail\" + -0.134*\"key\" + -0.130*\"drives\" + -0.129*\"disk\" + 0.123*\"team\"')]"
      ]
     },
     "execution_count": 27,
     "metadata": {},
     "output_type": "execute_result"
    }
   ],
   "source": [
    "# LSI\n",
    "\n",
    "lsi = md.lsimodel.LsiModel(corpus=td_gensim, id2word=dct, num_topics=6)\n",
    "lsi.print_topics()"
   ]
  },
  {
   "cell_type": "markdown",
   "metadata": {},
   "source": [
    "-----\n",
    "\n",
    "[[Back to TOC]](#Table-of-Contents)\n",
    "\n",
    "\n",
    "### Latent Dirichlet Allocation with Gensim\n",
    "\n",
    "The gensim library also provides an implementation of the [Latent Dirichlet allocation][glda] or LDA. We demonstrate the gensim LDA technique in the following Code cell, where we once again create an LDA model with six topics for the newsgroup text. We subsequently display the topics as functions of the top words within each topic. Finally, we display the top five words in each topic, along with their topic coherence, which is a measure of the words importance to the specific topic.\n",
    "\n",
    "-----\n",
    "\n",
    "[glda]: http://radimrehurek.com/gensim/models/ldamodel.html"
   ]
  },
  {
   "cell_type": "code",
   "execution_count": 28,
   "metadata": {},
   "outputs": [
    {
     "data": {
      "text/plain": [
       "[(0,\n",
       "  '0.011*\"key\" + 0.006*\"keys\" + 0.006*\"clipper\" + 0.006*\"encryption\" + 0.006*\"chip\" + 0.005*\"window\" + 0.004*\"algorithm\" + 0.004*\"nsa\" + 0.004*\"use\" + 0.004*\"public\"'),\n",
       " (1,\n",
       "  '0.006*\"year\" + 0.005*\"game\" + 0.005*\"team\" + 0.004*\"just\" + 0.004*\"good\" + 0.003*\"games\" + 0.003*\"like\" + 0.003*\"bike\" + 0.003*\"think\" + 0.003*\"space\"'),\n",
       " (2,\n",
       "  '0.013*\"pitt\" + 0.011*\"gordon\" + 0.011*\"banks\" + 0.011*\"surrender\" + 0.011*\"cadre\" + 0.011*\"msg\" + 0.010*\"intellect\" + 0.010*\"skepticism\" + 0.010*\"geb\" + 0.010*\"shameful\"'),\n",
       " (3,\n",
       "  '0.006*\"thanks\" + 0.005*\"windows\" + 0.005*\"drive\" + 0.004*\"use\" + 0.004*\"know\" + 0.004*\"does\" + 0.004*\"like\" + 0.004*\"card\" + 0.003*\"new\" + 0.003*\"looking\"'),\n",
       " (4,\n",
       "  '0.006*\"people\" + 0.004*\"god\" + 0.004*\"don\" + 0.004*\"think\" + 0.004*\"just\" + 0.003*\"say\" + 0.003*\"like\" + 0.003*\"know\" + 0.003*\"believe\" + 0.003*\"time\"'),\n",
       " (5,\n",
       "  '0.006*\"duo\" + 0.006*\"helmet\" + 0.004*\"homosexual\" + 0.004*\"homosexuality\" + 0.004*\"smoke\" + 0.003*\"god\" + 0.003*\"deleted\" + 0.003*\"hawks\" + 0.003*\"easter\" + 0.003*\"church\"')]"
      ]
     },
     "execution_count": 28,
     "metadata": {},
     "output_type": "execute_result"
    }
   ],
   "source": [
    "# LDA\n",
    "\n",
    "lda_gs = md.LdaModel(corpus=td_gensim, id2word=dct, num_topics=6, passes=2)\n",
    "lda_gs.show_topics()"
   ]
  },
  {
   "cell_type": "code",
   "execution_count": 29,
   "metadata": {
    "collapsed": true
   },
   "outputs": [],
   "source": [
    "ttps = lda_gs.top_topics(corpus=td_gensim, topn=5)"
   ]
  },
  {
   "cell_type": "code",
   "execution_count": 30,
   "metadata": {},
   "outputs": [
    {
     "name": "stdout",
     "output_type": "stream",
     "text": [
      "Topic 0\n",
      "-----------------------------------\n",
      "    pitt                : 0.0126\n",
      "    gordon              : 0.0115\n",
      "    banks               : 0.0112\n",
      "    surrender           : 0.0108\n",
      "    cadre               : 0.0106\n",
      "-----------------------------------\n",
      "Topic 1\n",
      "-----------------------------------\n",
      "    people              : 0.0060\n",
      "    god                 : 0.0045\n",
      "    don                 : 0.0045\n",
      "    think               : 0.0038\n",
      "    just                : 0.0036\n",
      "-----------------------------------\n",
      "Topic 2\n",
      "-----------------------------------\n",
      "    key                 : 0.0108\n",
      "    keys                : 0.0062\n",
      "    clipper             : 0.0062\n",
      "    encryption          : 0.0056\n",
      "    chip                : 0.0055\n",
      "-----------------------------------\n",
      "Topic 3\n",
      "-----------------------------------\n",
      "    year                : 0.0056\n",
      "    game                : 0.0050\n",
      "    team                : 0.0048\n",
      "    just                : 0.0038\n",
      "    good                : 0.0035\n",
      "-----------------------------------\n",
      "Topic 4\n",
      "-----------------------------------\n",
      "    thanks              : 0.0057\n",
      "    windows             : 0.0048\n",
      "    drive               : 0.0046\n",
      "    use                 : 0.0044\n",
      "    know                : 0.0044\n",
      "-----------------------------------\n",
      "Topic 5\n",
      "-----------------------------------\n",
      "    duo                 : 0.0064\n",
      "    helmet              : 0.0063\n",
      "    homosexual          : 0.0041\n",
      "    homosexuality       : 0.0041\n",
      "    smoke               : 0.0039\n",
      "-----------------------------------\n"
     ]
    }
   ],
   "source": [
    "idx = 0\n",
    "\n",
    "for lst, val in ttps:\n",
    "    print('Topic {0}'.format(idx))\n",
    "    print(35*('-'))\n",
    "    idx += 1\n",
    "    for i, z in lst:\n",
    "        print('    {0:20s}: {1:5.4f}'.format(z, i))\n",
    "    print(35*('-'))"
   ]
  },
  {
   "cell_type": "markdown",
   "metadata": {},
   "source": [
    "-----\n",
    "\n",
    "<font color='red' size = '5'> Student Exercise </font>\n",
    "\n",
    "\n",
    "In the preceding cells, we used the gensim library to perform topic modeling on the twenty newsgroup data set. Now that you have ran the notebook, try making the following changes.\n",
    "\n",
    "1. Increase the number of topics, how do the results change?\n",
    "2. Can you map the topics to the original newsgroups?\n",
    "\n",
    "-----"
   ]
  },
  {
   "cell_type": "markdown",
   "metadata": {},
   "source": [
    "## Ancillary Information\n",
    "\n",
    "The following links are to additional documentation that you might find helpful in learning this material. Reading these web-accessible documents is completely optional.\n",
    "\n",
    "1. Blog article on [topic modeling][botm]\n",
    "2. Wikipedia article on [Latent Dirichlet Allocation (LDA)][wlda] \n",
    "22. Wikipedia article on [Non-negative Matrix Factorization][wnmf] (focus on text-mining)\n",
    "12. Tutorial on using gensim for [topic modeling][gtm] \n",
    "43. [Text Analysis with topic Models][tatm] for the Humanities and Social Sciences\n",
    "101. Blog article on [matrix factorization][bnmf], with application to NMF\n",
    "\n",
    "-----\n",
    "\n",
    "[wlda]: https://en.wikipedia.org/wiki/Latent_Dirichlet_allocation\n",
    "[wtm]: https://en.wikipedia.org/wiki/Topic_model\n",
    "[wnmf]: https://en.wikipedia.org/wiki/Non-negative_matrix_factorization\n",
    "\n",
    "[gtm]: http://radimrehurek.com/gensim/tut2.html\n",
    "[tatm]: https://www.de.dariah.eu/tatom/index.html\n",
    "\n",
    "[bnmf]: http://www.quuxlabs.com/blog/2010/09/matrix-factorization-a-simple-tutorial-and-implementation-in-python/\n",
    "\n",
    "[botm]: https://www.oreilly.com/ideas/topic-models-past-present-and-future"
   ]
  },
  {
   "cell_type": "markdown",
   "metadata": {
    "deletable": false,
    "editable": false
   },
   "source": [
    "**&copy; 2017: Robert J. Brunner at the University of Illinois.**\n",
    "\n",
    "This notebook is released under the [Creative Commons license CC BY-NC-SA 4.0][ll]. Any reproduction, adaptation, distribution, dissemination or making available of this notebook for commercial use is not allowed unless authorized in writing by the copyright holder.\n",
    "\n",
    "[ll]: https://creativecommons.org/licenses/by-nc-sa/4.0/legalcode"
   ]
  }
 ],
 "metadata": {
  "kernelspec": {
   "display_name": "Python 3",
   "language": "python",
   "name": "python3"
  },
  "language_info": {
   "codemirror_mode": {
    "name": "ipython",
    "version": 3
   },
   "file_extension": ".py",
   "mimetype": "text/x-python",
   "name": "python",
   "nbconvert_exporter": "python",
   "pygments_lexer": "ipython3",
   "version": "3.6.1"
  }
 },
 "nbformat": 4,
 "nbformat_minor": 1
}
