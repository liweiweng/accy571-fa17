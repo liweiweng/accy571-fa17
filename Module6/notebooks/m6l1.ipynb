{
 "cells": [
  {
   "cell_type": "markdown",
   "metadata": {},
   "source": [
    "# Module 6: Lesson 1\n",
    "\n",
    "-----\n",
    "\n",
    "## Introduction to Natural Language Processing\n",
    "\n",
    "This lesson introduces natural language processing, or NLP. Natural language processing is used to gain insight from text based data, such as memos, emails, web pages, and other documents that are commonly used in business.\n",
    "\n",
    "### Objectives\n",
    "\n",
    "By the end of this lesson, you will be able to \n",
    "\n",
    "- describe the basic concept of natural language processing,\n",
    "- articulate how natural language processing can be used to learn from data, and\n",
    "- explain how natural language processing is used in business.\n",
    "\n",
    "### Time Estimate\n",
    "\n",
    "Approximately 1 hour.\n",
    "\n",
    "### Activities\n",
    "\n",
    "Video: Watch the [Introduction to Natural Language Processing][lv] video, which will discuss the basic concepts behind NLP and how it can be used in Accountancy and Business.\n",
    "\n",
    "Reading: A Guide to [Natural Language Processing][gnlp]\n",
    "\n",
    "------\n",
    "\n",
    "[gnlp]: https://monkeylearn.com/blog/definitive-guide-natural-language-processing/\n",
    "\n",
    "[lv]: https://mediaspace.illinois.edu/media/t/1_loqk1897/80455691"
   ]
  }
 ],
 "metadata": {
  "kernelspec": {
   "display_name": "Python 3",
   "language": "python",
   "name": "python3"
  },
  "language_info": {
   "codemirror_mode": {
    "name": "ipython",
    "version": 3
   },
   "file_extension": ".py",
   "mimetype": "text/x-python",
   "name": "python",
   "nbconvert_exporter": "python",
   "pygments_lexer": "ipython3",
   "version": "3.6.1"
  }
 },
 "nbformat": 4,
 "nbformat_minor": 2
}
