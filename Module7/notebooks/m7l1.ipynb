{
 "cells": [
  {
   "cell_type": "markdown",
   "metadata": {},
   "source": [
    "# Module 7: Lesson 1\n",
    "\n",
    "-----\n",
    "\n",
    "## Introduction to Social Media\n",
    "\n",
    "This lesson introduces social media with a focus on the different types and uses of social media data.\n",
    "\n",
    "### Objectives\n",
    "\n",
    "By the end of this lesson, you will be able to \n",
    "\n",
    "- describe different forms of social media data,\n",
    "- explain the new types of analysis enabled by social media data, and\n",
    "- identify ways that social media data can empower businesses.\n",
    "\n",
    "### Time Estimate\n",
    "\n",
    "Approximately 1 hour.\n",
    "\n",
    "### Activities\n",
    "\n",
    "Video: Watch the [Introduction to Social Media][lv] video, which will introduce social media data and discuss how it enables new types of analyses.\n",
    "\n",
    "Reading: Article on [social data][dsm] from Deloitte  \n",
    "Reading: Wikipedia article on the [social data revolution][wsd]\n",
    "\n",
    "------\n",
    "\n",
    "[dsm]: https://dupress.deloitte.com/dup-us-en/deloitte-review/issue-9/making-sense-of-social-data.html\n",
    "\n",
    "[wsd]: https://en.wikipedia.org/wiki/Social_data_revolution\n",
    "\n",
    "[lv]: https://mediaspace.illinois.edu/media/"
   ]
  }
 ],
 "metadata": {
  "kernelspec": {
   "display_name": "Python 3",
   "language": "python",
   "name": "python3"
  },
  "language_info": {
   "codemirror_mode": {
    "name": "ipython",
    "version": 3
   },
   "file_extension": ".py",
   "mimetype": "text/x-python",
   "name": "python",
   "nbconvert_exporter": "python",
   "pygments_lexer": "ipython3",
   "version": "3.6.1"
  }
 },
 "nbformat": 4,
 "nbformat_minor": 2
}
