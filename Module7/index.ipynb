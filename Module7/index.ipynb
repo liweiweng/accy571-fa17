{
 "cells": [
  {
   "cell_type": "markdown",
   "metadata": {},
   "source": [
    "# Module 7: Introduction to Social Media\n",
    "\n",
    "In this module, we will introduce social media, which is a form of data that is constructed by users and either distributed to others or publicly released. Popular examples of this type of data include emails, tweets, and web pages. These types of data can be accessed either via build-in Python libraries, public APIs, or simple web scraping. This relatively new form of data can often provide strategic insights into not just the data themselves, but the actual relationships between data, which involves network analysis. Specifically, this module will demonstrate how to parse and classify emails, how to authenticate to twitter to enable searching the twitter data stream, and how to obtain, parse, and process web-accessible data. \n",
    "\n",
    "## Learning Objectives\n",
    "\n",
    "#### By the end of this module, you should be able to:\n",
    "\n",
    "- parse and classify email data by using Python,\n",
    "- use OAUTH to authenticate an application,\n",
    "- perform sentiment analysis on a large text corpus by using Python, and\n",
    "- parse and process web-accessible data by using Python.\n",
    "\n",
    "### Activities and Assignments\n",
    "\n",
    "| Activities and Assignments               | Time Estimate | Deadline* | Points |\n",
    "| :--------------------------------------- | ------------- | --------- | -----: |\n",
    "| **[Module 7 Overview Video][wv]**      | 10 Minutes    | Tuesday  |    N/A |\n",
    "| **[Module 7 Lesson 1: Introduction to Social Media][nb1]** | 1 Hours  | Thursday  |     N/A |\n",
    "| **[Module 7 Lesson 2: Introduction to Social Media: Email][nb2]** | 2 Hours | Thursday  |     N/A |\n",
    "| **[Module 7 Lesson 3: Introduction to Social Media: Twitter][nb3]** | 2 Hours | Thursday  |     N/A |\n",
    "| **[Module 7 Lesson 4: Introduction to Social Media: Web][nb4]** | 2 Hours   | Thursday  |     N/A |\n",
    "| **[Module 7 Quiz][wq]**                    | 30 Minutes    | Friday    |     25|\n",
    "| **[Module 7 Assignment][ma]**                    | 2 hours   | (following) Monday    |  100 |\n",
    "\n",
    "*Please note that unless otherwise noted, the due time is 6pm Central time!\n",
    "\n",
    "----------\n",
    "\n",
    "[nb1]: notebooks/m7l1.ipynb\n",
    "[nb2]: notebooks/m7l2.ipynb\n",
    "[nb3]: notebooks/m7l3.ipynb\n",
    "[nb4]: notebooks/m7l4.ipynb\n",
    "\n",
    "[ma]: https://datascience.business.illinois.edu/user/accy/notebooks/accy571/assignments/Module7/assignment.ipynb\n",
    "\n",
    "[wv]: https://mediaspace.illinois.edu/media/\n",
    "[wq]: https://learn.illinois.edu/mod/quiz/view.php?id=2366464"
   ]
  }
 ],
 "metadata": {
  "kernelspec": {
   "display_name": "Python 3",
   "language": "python",
   "name": "python3"
  },
  "language_info": {
   "codemirror_mode": {
    "name": "ipython",
    "version": 3
   },
   "file_extension": ".py",
   "mimetype": "text/x-python",
   "name": "python",
   "nbconvert_exporter": "python",
   "pygments_lexer": "ipython3",
   "version": "3.6.1"
  }
 },
 "nbformat": 4,
 "nbformat_minor": 2
}
