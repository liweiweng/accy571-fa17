{
 "cells": [
  {
   "cell_type": "markdown",
   "metadata": {},
   "source": [
    "# Module 4: Lesson 4\n",
    "\n",
    "-----\n",
    "\n",
    "## Introduction to Deep Learning\n",
    "\n",
    "In this lesson you will about in deep learning, currently one of the most popular forms of machine learning. First, we introduce deep learning by building on the basic concepts of neural networks. Next, we demonstrate how they can be applied in different contexts, such as image processing and analysis and natural language processing. Finally, in the course notebook, you will see how to use the Keras library to apply deep learning by using Python.\n",
    "\n",
    "### Objectives\n",
    "\n",
    "By the end of this lesson, you will understand \n",
    "\n",
    "- the basic concepts behind deep learning, \n",
    "- the different types of neural networks commonly used in deep learning, and\n",
    "- how to use Keras with TensorFlow to perform simple deep learning.\n",
    "\n",
    "\n",
    "### Time Estimate\n",
    "\n",
    "Approximately 2 hours.\n",
    "\n",
    "### Activities\n",
    "\n",
    "Video: Watch the [XYZ][lv] video, which will discuss .\n",
    "\n",
    "Reading: XYZ [xyz][xyz].\n",
    "\n",
    "\n",
    "Notebook: Read and complete the practice exercises in the [Introduction to Deep Learning][intro2dl] notebook.\n",
    "\n",
    "------\n",
    "\n",
    "[xyz]: https://\n",
    "\n",
    "[lv]: https://mediaspace.illinois.edu/media/\n",
    "\n",
    "[intro2dl]: intro2dl.ipynb"
   ]
  }
 ],
 "metadata": {
  "kernelspec": {
   "display_name": "Python 3",
   "language": "python",
   "name": "python3"
  },
  "language_info": {
   "codemirror_mode": {
    "name": "ipython",
    "version": 3
   },
   "file_extension": ".py",
   "mimetype": "text/x-python",
   "name": "python",
   "nbconvert_exporter": "python",
   "pygments_lexer": "ipython3",
   "version": "3.6.1"
  }
 },
 "nbformat": 4,
 "nbformat_minor": 2
}
