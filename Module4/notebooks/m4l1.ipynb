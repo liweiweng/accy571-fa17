{
 "cells": [
  {
   "cell_type": "markdown",
   "metadata": {},
   "source": [
    "# Module 4: Lesson 1\n",
    "\n",
    "-----\n",
    "\n",
    "## Applied Machine Learning\n",
    "\n",
    "In this lesson, we learn how advanced machine learning techniques are being used to improve how businesses operate, which is becoming increasingly important as we move into a data rich world.\n",
    "\n",
    "### Objectives\n",
    "\n",
    "By the end of this lesson, you will understand \n",
    "\n",
    "- the basic concepts behind several new, advanced machine learning algorithms,\n",
    "- how a recommender system can be used to improve sales, and\n",
    "- how deep learning systems  can dramatically change how a business analyses data.\n",
    "\n",
    "### Time Estimate\n",
    "\n",
    "Approximately 1 hour.\n",
    "\n",
    "### Activities\n",
    "\n",
    "Video: Watch the [Applied Machine Learning][lv] video, which will discuss how advanced algorithms are used in business.\n",
    "\n",
    "Reading: Article on [How Companies are Making Money with Recommender Systems][ars]\n",
    "\n",
    "Reading: Chapter 5 from the 2016 McKinsey Global Institute [The Age of Analytics: Competing in a Data-Driven World][xyz] report.\n",
    "\n",
    "------\n",
    "\n",
    "[ars]: https://sigmoidal.io/recommender-systems/\n",
    "\n",
    "[xyz]: https://www.mckinsey.com/~/media/mckinsey/business%20functions/mckinsey%20analytics/our%20insights/the%20age%20of%20analytics%20competing%20in%20a%20data%20driven%20world/mgi-the-age-of-analytics-full-report.ashx\n",
    "\n",
    "[lv]: https://mediaspace.illinois.edu/media/t/1_ljhifaff/80455691"
   ]
  }
 ],
 "metadata": {
  "kernelspec": {
   "display_name": "Python 3",
   "language": "python",
   "name": "python3"
  },
  "language_info": {
   "codemirror_mode": {
    "name": "ipython",
    "version": 3
   },
   "file_extension": ".py",
   "mimetype": "text/x-python",
   "name": "python",
   "nbconvert_exporter": "python",
   "pygments_lexer": "ipython3",
   "version": "3.6.1"
  }
 },
 "nbformat": 4,
 "nbformat_minor": 2
}
