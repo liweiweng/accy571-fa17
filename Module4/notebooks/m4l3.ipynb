{
 "cells": [
  {
   "cell_type": "markdown",
   "metadata": {},
   "source": [
    "# Module 2: Lesson 3\n",
    "\n",
    "-----\n",
    "\n",
    "## Introduction to Neural Networks\n",
    "\n",
    "In this lesson, you will about neural networks and their application for machine learning tasks. First, we review the basic concepts behind neural networks and how they can easily be constructed in Python.\n",
    "\n",
    "### Objectives\n",
    "\n",
    "By the end of this lesson, you will understand \n",
    "\n",
    "- the basic concepts of an artificial neural network\n",
    "\n",
    "\n",
    "### Time Estimate\n",
    "\n",
    "Approximately 2 hours.\n",
    "\n",
    "### Activities\n",
    "\n",
    "Video: Watch the [XYZ][lv] video, which will discuss .\n",
    "\n",
    "Reading: XYZ [xyz][xyz].\n",
    "\n",
    "- Introduction to Neural Networks, [Part 1][inn1] and [Part 2][inn2]\n",
    "- Wikipedia on [Neural Networks][wnn]\n",
    "[inn1]: https://iamtrask.github.io/2015/07/12/basic-python-network/\n",
    "[inn2]: https://iamtrask.github.io/2015/07/27/python-network-part2/\n",
    "[wnn]: https://en.wikipedia.org/wiki/Artificial_neural_network\n",
    "\n",
    "\n",
    "Notebook: Read and complete the practice exercises in the [XYZ][intro2nn] notebook.\n",
    "\n",
    "------\n",
    "\n",
    "[xyz]: https://\n",
    "\n",
    "[lv]: https://mediaspace.illinois.edu/media/\n",
    "\n",
    "[intro2nn]: intro2nn.ipynb"
   ]
  }
 ],
 "metadata": {
  "kernelspec": {
   "display_name": "Python 3",
   "language": "python",
   "name": "python3"
  },
  "language_info": {
   "codemirror_mode": {
    "name": "ipython",
    "version": 3
   },
   "file_extension": ".py",
   "mimetype": "text/x-python",
   "name": "python",
   "nbconvert_exporter": "python",
   "pygments_lexer": "ipython3",
   "version": "3.6.1"
  }
 },
 "nbformat": 4,
 "nbformat_minor": 2
}
