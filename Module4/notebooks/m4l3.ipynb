{
 "cells": [
  {
   "cell_type": "markdown",
   "metadata": {},
   "source": [
    "# Module 4: Lesson 3\n",
    "\n",
    "-----\n",
    "\n",
    "## Introduction to Neural Networks\n",
    "\n",
    "In this lesson, you will about neural networks and their application for machine learning tasks. First, we review the basic concepts behind neural networks and how they are often used in practice. Next, we will see how neural networks can easily be constructed in Python by using the Scikit Learn library.\n",
    "\n",
    "### Objectives\n",
    "\n",
    "By the end of this lesson, you will understand \n",
    "\n",
    "- the basic concepts of an artificial neural network,\n",
    "- how to construct a neural network for classification by using the scikit learn library, and\n",
    "- how to construct a neural network for regression by using the scikit learn library.\n",
    "\n",
    "\n",
    "### Time Estimate\n",
    "\n",
    "Approximately 2 hours.\n",
    "\n",
    "### Activities\n",
    "\n",
    "Video: Watch the [Introduction to Neural Network][lv] video, which will introduce neural networks and review how they can be used for machine learning tasks.\n",
    "\n",
    "Reading: An introduction to [neural networks][bnn]\n",
    "\n",
    "Reading: Wikipedia article on [Neural Networks][wnn]\n",
    "\n",
    "Notebook: Read and complete the practice exercises in the [Introduction to Neural Networks][intro2nn] notebook.\n",
    "\n",
    "------\n",
    "\n",
    "[wnn]: https://en.wikipedia.org/wiki/Artificial_neural_network\n",
    "[bnn]: https://ml.berkeley.edu/blog/2017/02/04/tutorial-3/\n",
    "\n",
    "[lv]: https://mediaspace.illinois.edu/media/\n",
    "\n",
    "[intro2nn]: intro2nn.ipynb"
   ]
  }
 ],
 "metadata": {
  "kernelspec": {
   "display_name": "Python 3",
   "language": "python",
   "name": "python3"
  },
  "language_info": {
   "codemirror_mode": {
    "name": "ipython",
    "version": 3
   },
   "file_extension": ".py",
   "mimetype": "text/x-python",
   "name": "python",
   "nbconvert_exporter": "python",
   "pygments_lexer": "ipython3",
   "version": "3.6.1"
  }
 },
 "nbformat": 4,
 "nbformat_minor": 2
}
