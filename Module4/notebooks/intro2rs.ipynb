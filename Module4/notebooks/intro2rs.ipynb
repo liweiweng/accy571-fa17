{
 "cells": [
  {
   "cell_type": "markdown",
   "metadata": {},
   "source": [
    "# Introduction to Recommender Systems\n",
    "\n",
    "-----"
   ]
  },
  {
   "cell_type": "markdown",
   "metadata": {},
   "source": [
    "\n",
    "In this notebook, we introduce the concept of a [Recommender System][rs]. Recommender systems are among the most popular machine learning techniques, and, in general, encompass a number of different types of machine learning algorithms that we have covered including classification, regression, and clustering. Some of the most popular recommender system approaches, however, are different and are fundamentally tied to data management. The classic example of a recommender system, is the market basket analysis, where data mining is performed on purchase transaction logs to first learn what types of objects are bought together (e.g., peanut butter and jelly) in order to, second, predict what someone might be interested in buying once they have selected an item (e.g., when peanut butter has been added to the cart, recommend jelly).\n",
    "\n",
    "More formally, the data structures that support this type  of analysis are known as frequent sets, since we collect sets of frequently purchased items. The most famous algorithm in this category is the [_a priori_][wap] algorithm, where we use what we have learned from previous transactions to make predictions before (i.e., _a priori_ information) someone completes a transaction. More generally, these algorithms are known as _collaborative filtering_, since the algorithm collaboratively filters through records of many individuals to identify trends. Formally, these types of algorithms are used to make recommendations, hence the name _recommender systems_. In addition to the traditional _market basket_ analysis, these algorithms are also used to make recommendations for video, such as Netflix or Hulu, and audio sites, such as Pandora or Spotify.\n",
    "\n",
    "In fact, anyone who has shopped online has been exposed to these algorithms. For example, at Amazon, when you are viewing the page for a particular item, you also are presented information on _other items you might be interested in_ and on _what other items people buy instead_. The first case is an example of item-based collaborative filtering, where the results of other items people have purchased together with this item are identified. The second is an example of user-based collaborative filtering, where the results from other, similar users, are used to identify items that might be of interest. Sometimes, however, the [results of this analysis can be problematic][tpg], and one should always be considerate of the impact predictions might have on the end user (this is clearly an area where _big brother_ impacts everyone).\n",
    "\n",
    "In this notebook, we explore a sample data set, movie reviews, that can be used to learn more about recommender systems. Since Python does not (yet) have a standard implementation of recommender systems, we instead develop a single, user-based collaborative filtering example that uses the movie review data to make recommendations for new movies.\n",
    "\n",
    "-----\n",
    "[rs]: https://en.wikipedia.org/wiki/Recommender_system\n",
    "[wap]: https://en.wikipedia.org/wiki/Apriori_algorithm\n",
    "[tpg]: http://www.workplaceethicsadvice.com/2012/02/target-sends-coupons-to-pregnant-girl-and-unawares-dad-explode.html"
   ]
  },
  {
   "cell_type": "markdown",
   "metadata": {},
   "source": [
    "## Table of Contents\n",
    "\n",
    "[Movie Lens Data](#Movie-Lens-Data)\n",
    "\n",
    "[Exploratory Data Analysis](#Exploratory-Data-Analysis)\n",
    "\n",
    "[User Based Collaborative Filtering](#User-Based-Collaborative-Filtering)\n",
    "\n",
    "- [Cosine Similarity](#Cosine-Similarity)\n",
    "\n",
    "- [Single User Recommendation](#Single-User-Recommendation)\n",
    "\n",
    "- [Multiple User Recommendation](#Multiple-User-Recommendation)\n",
    "-----\n",
    "\n",
    "Before proceeding with the _Formalism_ section of this Notebook, we first have our standard notebook setup code.\n",
    "\n",
    "-----"
   ]
  },
  {
   "cell_type": "code",
   "execution_count": 1,
   "metadata": {
    "collapsed": true
   },
   "outputs": [],
   "source": [
    "# Set up Notebook\n",
    "\n",
    "# Standard imports\n",
    "import numpy as np\n",
    "import numpy.ma as ma\n",
    "import pandas as pd\n",
    "\n",
    "# We do this to ignore several specific Pandas warnings\n",
    "import warnings\n",
    "warnings.filterwarnings('ignore')"
   ]
  },
  {
   "cell_type": "markdown",
   "metadata": {},
   "source": [
    "-----\n",
    "\n",
    "[[Back to TOC]](#Table-of-Contents)\n",
    "\n",
    "## Movie Lens Data\n",
    "\n",
    "To begin exploring recommender systems, we will explore the [Movie Lens][ml] data. One problem with recommender systems is that they can use significant resources to make predictions since a large quantity of data is required to make the best predictions. Originally, these algorithms were developed to work with relational database systems, working directly within the database engine for maximal performance. As a result, in this Notebook, we will restrict our analysis to the small Movie Lens data set.\n",
    "\n",
    "We can grab the latest version of the small Movie Lens data set and use within this notebook. Note, to grab the data for yourself, you can execute the following Unix commands, either in a code cell or at the Unix command prompt.\n",
    "\n",
    "```bash\n",
    "\n",
    "wget http://files.grouplens.org/datasets/movielens/ml-latest-small.zip\n",
    "\n",
    "unzip ml-latest-small.zip\n",
    "```\n",
    "\n",
    "The next few Code cells define our local data directory, and if the movie data does not exist, we download the data and _unzip_ it for later use.\n",
    "\n",
    "-----"
   ]
  },
  {
   "cell_type": "code",
   "execution_count": 2,
   "metadata": {
    "collapsed": true
   },
   "outputs": [],
   "source": [
    "# First we find our HOME directory\n",
    "home_dir = !echo $HOME\n",
    "\n",
    "# Define data directory\n",
    "data_dir = home_dir[0] +'/data/'\n",
    "ml_data_dir = data_dir + 'ml-latest-small'"
   ]
  },
  {
   "cell_type": "code",
   "execution_count": 3,
   "metadata": {},
   "outputs": [
    {
     "name": "stdout",
     "output_type": "stream",
     "text": [
      "Archive:  /home/data_scientist/data/ml-latest-small.zip\n",
      "   creating: ml-latest-small/\n",
      "  inflating: ml-latest-small/links.csv  \n",
      "  inflating: ml-latest-small/movies.csv  \n",
      "  inflating: ml-latest-small/ratings.csv  \n",
      "  inflating: ml-latest-small/README.txt  \n",
      "  inflating: ml-latest-small/tags.csv  \n"
     ]
    },
    {
     "name": "stderr",
     "output_type": "stream",
     "text": [
      "--2017-10-23 17:56:22--  http://files.grouplens.org/datasets/movielens/ml-latest-small.zip\n",
      "Resolving files.grouplens.org (files.grouplens.org)... 128.101.34.235\n",
      "Connecting to files.grouplens.org (files.grouplens.org)|128.101.34.235|:80... connected.\n",
      "HTTP request sent, awaiting response... 200 OK\n",
      "Length: 918269 (897K) [application/zip]\n",
      "Saving to: ‘/home/data_scientist/data/ml-latest-small.zip’\n",
      "\n",
      "     0K .......... .......... .......... .......... ..........  5% 1005K 1s\n",
      "    50K .......... .......... .......... .......... .......... 11% 1.44M 1s\n",
      "   100K .......... .......... .......... .......... .......... 16% 8.99M 0s\n",
      "   150K .......... .......... .......... .......... .......... 22% 11.5M 0s\n",
      "   200K .......... .......... .......... .......... .......... 27% 2.61M 0s\n",
      "   250K .......... .......... .......... .......... .......... 33% 9.97M 0s\n",
      "   300K .......... .......... .......... .......... .......... 39% 2.65M 0s\n",
      "   350K .......... .......... .......... .......... .......... 44% 11.1M 0s\n",
      "   400K .......... .......... .......... .......... .......... 50% 10.6M 0s\n",
      "   450K .......... .......... .......... .......... .......... 55% 2.89M 0s\n",
      "   500K .......... .......... .......... .......... .......... 61% 10.6M 0s\n",
      "   550K .......... .......... .......... .......... .......... 66% 8.00M 0s\n",
      "   600K .......... .......... .......... .......... .......... 72% 3.13M 0s\n",
      "   650K .......... .......... .......... .......... .......... 78% 10.3M 0s\n",
      "   700K .......... .......... .......... .......... .......... 83% 11.0M 0s\n",
      "   750K .......... .......... .......... .......... .......... 89% 2.98M 0s\n",
      "   800K .......... .......... .......... .......... .......... 94% 10.1M 0s\n",
      "   850K .......... .......... .......... .......... ......    100% 10.3M=0.2s\n",
      "\n",
      "2017-10-23 17:56:22 (3.94 MB/s) - ‘/home/data_scientist/data/ml-latest-small.zip’ saved [918269/918269]\n",
      "\n"
     ]
    }
   ],
   "source": [
    "%%bash -s \"$data_dir\"\n",
    "\n",
    "# Note, we passed in a Python variable above to the Bash script \n",
    "# which is then accessed via positional parameter, or $1 in this case.\n",
    "\n",
    "# First test if file of interest does not exist\n",
    "if [ ! -e \"$1\"ml-latest-small ] ; then\n",
    "\n",
    "    # If it does not exist, we grab the file from the Internet and\n",
    "    # store it locally in the data directory\n",
    "\n",
    "    wget -O \"$1\"ml-latest-small.zip http://files.grouplens.org/datasets/movielens/ml-latest-small.zip\n",
    "\n",
    "    cd \"$1\"\n",
    "    unzip -o \"$1\"ml-latest-small.zip\n",
    "\n",
    "else\n",
    "   echo \"Files already exist locally.\"\n",
    "fi"
   ]
  },
  {
   "cell_type": "markdown",
   "metadata": {},
   "source": [
    "-----\n",
    "\n",
    "This data set includes a summary document in a file called `README.txt`. This document contains a summary of this data, which is included verbatim below. You can read the entire file either at the command line or via `%load ml-latest-small/README.txt` in a code cell.\n",
    "\n",
    "> Summary\n",
    "> =======\n",
    "\n",
    "> This dataset (ml-latest-small) describes 5-star rating and free-text\n",
    "> tagging activity from [MovieLens](http://movielens.org), a movie\n",
    "> recommendation service. It contains 105339 ratings and 6138 tag\n",
    "> applications across 10329 movies. These data were created by 668 users\n",
    "> between April 03, 1996 and January 09, 2016. This dataset was generated\n",
    "> on January 11, 2016.\n",
    "\n",
    "> Users were selected at random for inclusion. All selected users had\n",
    "> rated at least 20 movies. No demographic information is included. Each\n",
    "> user is represented by an id, and no other information is provided.\n",
    "\n",
    "> The data are contained in four files, `links.csv`, `movies.csv`,\n",
    "> `ratings.csv` and `tags.csv`. More details about the contents and use of\n",
    "> all these files follows.\n",
    "\n",
    "> This is a *development* dataset. As such, it may change over time and is\n",
    "> not an appropriate dataset for shared research results. See available\n",
    "> *benchmark* datasets if that is your intent.\n",
    "\n",
    "> This and other GroupLens data sets are publicly available for download\n",
    "> at <http://grouplens.org/datasets/>.\n",
    "\n",
    "-----\n",
    "\n",
    "In the following code cells, we use Unix commands to display the contents of the small Movie Lens data and the number of ratings included.\n",
    "\n",
    "-----\n",
    "[ml]: http://grouplens.org/datasets/movielens/latest/"
   ]
  },
  {
   "cell_type": "code",
   "execution_count": 4,
   "metadata": {},
   "outputs": [
    {
     "name": "stdout",
     "output_type": "stream",
     "text": [
      "total 3076\r\n",
      "drwxr-xr-x 2 data_scientist users    4096 Oct 17  2016 .\r\n",
      "drwxr-xr-x 4 data_scientist users    4096 Oct 23 17:56 ..\r\n",
      "-rw-r--r-- 1 data_scientist users  183372 Oct 17  2016 links.csv\r\n",
      "-rw-r--r-- 1 data_scientist users  458390 Oct 17  2016 movies.csv\r\n",
      "-rw-r--r-- 1 data_scientist users 2438266 Oct 17  2016 ratings.csv\r\n",
      "-rw-r--r-- 1 data_scientist users    8364 Oct 17  2016 README.txt\r\n",
      "-rw-r--r-- 1 data_scientist users   41902 Oct 17  2016 tags.csv\r\n"
     ]
    }
   ],
   "source": [
    "# Show contents of small movie data set\n",
    "!ls -la $ml_data_dir"
   ]
  },
  {
   "cell_type": "code",
   "execution_count": 5,
   "metadata": {},
   "outputs": [
    {
     "name": "stdout",
     "output_type": "stream",
     "text": [
      "100005 /home/data_scientist/data/ml-latest-small/ratings.csv\r\n"
     ]
    }
   ],
   "source": [
    "# Count number of lines in ratings\n",
    "!wc -l $ml_data_dir/ratings.csv"
   ]
  },
  {
   "cell_type": "markdown",
   "metadata": {},
   "source": [
    "-----\n",
    "\n",
    "[[Back to TOC]](#Table-of-Contents)\n",
    "\n",
    "## Exploratory Data Analysis\n",
    "\n",
    "Before developing our recommendation system, we first explore the Movie Lens data. To simplify this task, we will read the ratings data and the movies data into two separate DataFrames. We then display several rows from each DataFrame, as well as compute and display some basic statistics.\n",
    "\n",
    "-----"
   ]
  },
  {
   "cell_type": "code",
   "execution_count": 6,
   "metadata": {
    "collapsed": true
   },
   "outputs": [],
   "source": [
    "import os\n",
    "\n",
    "# Define full file paths to files\n",
    "ratings_file = os.path.join(ml_data_dir, 'ratings.csv')\n",
    "movies_file = os.path.join(ml_data_dir, 'movies.csv')\n",
    "\n",
    "# Read data into DataFrames\n",
    "ratings = pd.read_csv(ratings_file)\n",
    "movies = pd.read_csv(movies_file)"
   ]
  },
  {
   "cell_type": "code",
   "execution_count": 7,
   "metadata": {},
   "outputs": [
    {
     "data": {
      "text/html": [
       "<div>\n",
       "<table border=\"1\" class=\"dataframe\">\n",
       "  <thead>\n",
       "    <tr style=\"text-align: right;\">\n",
       "      <th></th>\n",
       "      <th>movieId</th>\n",
       "      <th>title</th>\n",
       "      <th>genres</th>\n",
       "    </tr>\n",
       "  </thead>\n",
       "  <tbody>\n",
       "    <tr>\n",
       "      <th>6008</th>\n",
       "      <td>31035</td>\n",
       "      <td>Testament (1983)</td>\n",
       "      <td>Drama</td>\n",
       "    </tr>\n",
       "    <tr>\n",
       "      <th>3093</th>\n",
       "      <td>3869</td>\n",
       "      <td>Naked Gun 2 1/2: The Smell of Fear, The (1991)</td>\n",
       "      <td>Comedy</td>\n",
       "    </tr>\n",
       "    <tr>\n",
       "      <th>7644</th>\n",
       "      <td>80969</td>\n",
       "      <td>Never Let Me Go (2010)</td>\n",
       "      <td>Drama|Romance|Sci-Fi</td>\n",
       "    </tr>\n",
       "    <tr>\n",
       "      <th>4107</th>\n",
       "      <td>5383</td>\n",
       "      <td>Hound of the Baskervilles, The (1959)</td>\n",
       "      <td>Crime|Horror|Mystery</td>\n",
       "    </tr>\n",
       "    <tr>\n",
       "      <th>8480</th>\n",
       "      <td>107406</td>\n",
       "      <td>Snowpiercer (2013)</td>\n",
       "      <td>Action|Drama|Sci-Fi</td>\n",
       "    </tr>\n",
       "  </tbody>\n",
       "</table>\n",
       "</div>"
      ],
      "text/plain": [
       "      movieId                                           title  \\\n",
       "6008    31035                                Testament (1983)   \n",
       "3093     3869  Naked Gun 2 1/2: The Smell of Fear, The (1991)   \n",
       "7644    80969                          Never Let Me Go (2010)   \n",
       "4107     5383           Hound of the Baskervilles, The (1959)   \n",
       "8480   107406                              Snowpiercer (2013)   \n",
       "\n",
       "                    genres  \n",
       "6008                 Drama  \n",
       "3093                Comedy  \n",
       "7644  Drama|Romance|Sci-Fi  \n",
       "4107  Crime|Horror|Mystery  \n",
       "8480   Action|Drama|Sci-Fi  "
      ]
     },
     "execution_count": 7,
     "metadata": {},
     "output_type": "execute_result"
    }
   ],
   "source": [
    "# Sample five random movies\n",
    "movies.sample(5)"
   ]
  },
  {
   "cell_type": "code",
   "execution_count": 8,
   "metadata": {},
   "outputs": [
    {
     "data": {
      "text/html": [
       "<div>\n",
       "<table border=\"1\" class=\"dataframe\">\n",
       "  <thead>\n",
       "    <tr style=\"text-align: right;\">\n",
       "      <th></th>\n",
       "      <th>movieId</th>\n",
       "    </tr>\n",
       "  </thead>\n",
       "  <tbody>\n",
       "    <tr>\n",
       "      <th>count</th>\n",
       "      <td>9125.000000</td>\n",
       "    </tr>\n",
       "    <tr>\n",
       "      <th>mean</th>\n",
       "      <td>31123.291836</td>\n",
       "    </tr>\n",
       "    <tr>\n",
       "      <th>std</th>\n",
       "      <td>40782.633604</td>\n",
       "    </tr>\n",
       "    <tr>\n",
       "      <th>min</th>\n",
       "      <td>1.000000</td>\n",
       "    </tr>\n",
       "    <tr>\n",
       "      <th>25%</th>\n",
       "      <td>2850.000000</td>\n",
       "    </tr>\n",
       "    <tr>\n",
       "      <th>50%</th>\n",
       "      <td>6290.000000</td>\n",
       "    </tr>\n",
       "    <tr>\n",
       "      <th>75%</th>\n",
       "      <td>56274.000000</td>\n",
       "    </tr>\n",
       "    <tr>\n",
       "      <th>max</th>\n",
       "      <td>164979.000000</td>\n",
       "    </tr>\n",
       "  </tbody>\n",
       "</table>\n",
       "</div>"
      ],
      "text/plain": [
       "             movieId\n",
       "count    9125.000000\n",
       "mean    31123.291836\n",
       "std     40782.633604\n",
       "min         1.000000\n",
       "25%      2850.000000\n",
       "50%      6290.000000\n",
       "75%     56274.000000\n",
       "max    164979.000000"
      ]
     },
     "execution_count": 8,
     "metadata": {},
     "output_type": "execute_result"
    }
   ],
   "source": [
    "# Summary statistics for the movies data set\n",
    "movies.describe()"
   ]
  },
  {
   "cell_type": "code",
   "execution_count": 9,
   "metadata": {},
   "outputs": [
    {
     "data": {
      "text/html": [
       "<div>\n",
       "<table border=\"1\" class=\"dataframe\">\n",
       "  <thead>\n",
       "    <tr style=\"text-align: right;\">\n",
       "      <th></th>\n",
       "      <th>userId</th>\n",
       "      <th>movieId</th>\n",
       "      <th>rating</th>\n",
       "      <th>timestamp</th>\n",
       "    </tr>\n",
       "  </thead>\n",
       "  <tbody>\n",
       "    <tr>\n",
       "      <th>19547</th>\n",
       "      <td>130</td>\n",
       "      <td>1957</td>\n",
       "      <td>5.0</td>\n",
       "      <td>1138997823</td>\n",
       "    </tr>\n",
       "    <tr>\n",
       "      <th>28706</th>\n",
       "      <td>212</td>\n",
       "      <td>2427</td>\n",
       "      <td>4.5</td>\n",
       "      <td>1218955624</td>\n",
       "    </tr>\n",
       "    <tr>\n",
       "      <th>25296</th>\n",
       "      <td>185</td>\n",
       "      <td>2033</td>\n",
       "      <td>3.0</td>\n",
       "      <td>1003523404</td>\n",
       "    </tr>\n",
       "    <tr>\n",
       "      <th>12375</th>\n",
       "      <td>78</td>\n",
       "      <td>345</td>\n",
       "      <td>4.5</td>\n",
       "      <td>1327288678</td>\n",
       "    </tr>\n",
       "    <tr>\n",
       "      <th>93146</th>\n",
       "      <td>620</td>\n",
       "      <td>1196</td>\n",
       "      <td>3.5</td>\n",
       "      <td>1455532816</td>\n",
       "    </tr>\n",
       "  </tbody>\n",
       "</table>\n",
       "</div>"
      ],
      "text/plain": [
       "       userId  movieId  rating   timestamp\n",
       "19547     130     1957     5.0  1138997823\n",
       "28706     212     2427     4.5  1218955624\n",
       "25296     185     2033     3.0  1003523404\n",
       "12375      78      345     4.5  1327288678\n",
       "93146     620     1196     3.5  1455532816"
      ]
     },
     "execution_count": 9,
     "metadata": {},
     "output_type": "execute_result"
    }
   ],
   "source": [
    "# Sample five random ratings\n",
    "ratings.sample(5)"
   ]
  },
  {
   "cell_type": "code",
   "execution_count": 10,
   "metadata": {},
   "outputs": [
    {
     "data": {
      "text/html": [
       "<div>\n",
       "<table border=\"1\" class=\"dataframe\">\n",
       "  <thead>\n",
       "    <tr style=\"text-align: right;\">\n",
       "      <th></th>\n",
       "      <th>userId</th>\n",
       "      <th>movieId</th>\n",
       "      <th>rating</th>\n",
       "      <th>timestamp</th>\n",
       "    </tr>\n",
       "  </thead>\n",
       "  <tbody>\n",
       "    <tr>\n",
       "      <th>count</th>\n",
       "      <td>100004.000000</td>\n",
       "      <td>100004.000000</td>\n",
       "      <td>100004.000000</td>\n",
       "      <td>1.000040e+05</td>\n",
       "    </tr>\n",
       "    <tr>\n",
       "      <th>mean</th>\n",
       "      <td>347.011310</td>\n",
       "      <td>12548.664363</td>\n",
       "      <td>3.543608</td>\n",
       "      <td>1.129639e+09</td>\n",
       "    </tr>\n",
       "    <tr>\n",
       "      <th>std</th>\n",
       "      <td>195.163838</td>\n",
       "      <td>26369.198969</td>\n",
       "      <td>1.058064</td>\n",
       "      <td>1.916858e+08</td>\n",
       "    </tr>\n",
       "    <tr>\n",
       "      <th>min</th>\n",
       "      <td>1.000000</td>\n",
       "      <td>1.000000</td>\n",
       "      <td>0.500000</td>\n",
       "      <td>7.896520e+08</td>\n",
       "    </tr>\n",
       "    <tr>\n",
       "      <th>25%</th>\n",
       "      <td>182.000000</td>\n",
       "      <td>1028.000000</td>\n",
       "      <td>3.000000</td>\n",
       "      <td>9.658478e+08</td>\n",
       "    </tr>\n",
       "    <tr>\n",
       "      <th>50%</th>\n",
       "      <td>367.000000</td>\n",
       "      <td>2406.500000</td>\n",
       "      <td>4.000000</td>\n",
       "      <td>1.110422e+09</td>\n",
       "    </tr>\n",
       "    <tr>\n",
       "      <th>75%</th>\n",
       "      <td>520.000000</td>\n",
       "      <td>5418.000000</td>\n",
       "      <td>4.000000</td>\n",
       "      <td>1.296192e+09</td>\n",
       "    </tr>\n",
       "    <tr>\n",
       "      <th>max</th>\n",
       "      <td>671.000000</td>\n",
       "      <td>163949.000000</td>\n",
       "      <td>5.000000</td>\n",
       "      <td>1.476641e+09</td>\n",
       "    </tr>\n",
       "  </tbody>\n",
       "</table>\n",
       "</div>"
      ],
      "text/plain": [
       "              userId        movieId         rating     timestamp\n",
       "count  100004.000000  100004.000000  100004.000000  1.000040e+05\n",
       "mean      347.011310   12548.664363       3.543608  1.129639e+09\n",
       "std       195.163838   26369.198969       1.058064  1.916858e+08\n",
       "min         1.000000       1.000000       0.500000  7.896520e+08\n",
       "25%       182.000000    1028.000000       3.000000  9.658478e+08\n",
       "50%       367.000000    2406.500000       4.000000  1.110422e+09\n",
       "75%       520.000000    5418.000000       4.000000  1.296192e+09\n",
       "max       671.000000  163949.000000       5.000000  1.476641e+09"
      ]
     },
     "execution_count": 10,
     "metadata": {},
     "output_type": "execute_result"
    }
   ],
   "source": [
    "# Summary statistics for the ratings data set\n",
    "ratings.describe()"
   ]
  },
  {
   "cell_type": "code",
   "execution_count": 11,
   "metadata": {},
   "outputs": [
    {
     "data": {
      "text/plain": [
       "9066"
      ]
     },
     "execution_count": 11,
     "metadata": {},
     "output_type": "execute_result"
    }
   ],
   "source": [
    "# Number of unique movies in the ratings data file\n",
    "len(pd.unique(ratings['movieId'].ravel()))"
   ]
  },
  {
   "cell_type": "markdown",
   "metadata": {},
   "source": [
    "-----\n",
    "\n",
    "As the previous cells indicated, the `ratings` and `movies` DataFrames have a common column, `movieId`, which we can use to join these DataFrames together. This allows us to better understand these data, since we can see the name of the movie being rated (as opposed to just a `movieId`. In the next few code cells, we join these two DataFrames, display a few rows from the new DataFrame, and use Pandas functionality to display the most popular (by number of reviews) movies, as well as the movies that have the highest average ratings. \n",
    "\n",
    "The last task employs several useful tools. First, we perform a `groupby` operation where we employ two operations: mean value and size of sample. This creates a new data structure that has a special column that contains the number of reviews (from the size function) and a special column that contains the average rating (from the `mean` function). We can display the most popular (in terms of average rating), by first restricting the data structure to only those movies that have been rated twenty or more times, and display the first few rows of the sorted data in descending order.\n",
    "\n",
    "-----"
   ]
  },
  {
   "cell_type": "code",
   "execution_count": 12,
   "metadata": {
    "collapsed": true
   },
   "outputs": [],
   "source": [
    "# Merge two dataframes, the common column is selected aotumatically\n",
    "mv_lens = pd.merge(movies, ratings)"
   ]
  },
  {
   "cell_type": "code",
   "execution_count": 13,
   "metadata": {},
   "outputs": [
    {
     "data": {
      "text/html": [
       "<div>\n",
       "<table border=\"1\" class=\"dataframe\">\n",
       "  <thead>\n",
       "    <tr style=\"text-align: right;\">\n",
       "      <th></th>\n",
       "      <th>movieId</th>\n",
       "      <th>title</th>\n",
       "      <th>genres</th>\n",
       "      <th>userId</th>\n",
       "      <th>rating</th>\n",
       "      <th>timestamp</th>\n",
       "    </tr>\n",
       "  </thead>\n",
       "  <tbody>\n",
       "    <tr>\n",
       "      <th>0</th>\n",
       "      <td>1</td>\n",
       "      <td>Toy Story (1995)</td>\n",
       "      <td>Adventure|Animation|Children|Comedy|Fantasy</td>\n",
       "      <td>7</td>\n",
       "      <td>3.0</td>\n",
       "      <td>851866703</td>\n",
       "    </tr>\n",
       "    <tr>\n",
       "      <th>1</th>\n",
       "      <td>1</td>\n",
       "      <td>Toy Story (1995)</td>\n",
       "      <td>Adventure|Animation|Children|Comedy|Fantasy</td>\n",
       "      <td>9</td>\n",
       "      <td>4.0</td>\n",
       "      <td>938629179</td>\n",
       "    </tr>\n",
       "    <tr>\n",
       "      <th>2</th>\n",
       "      <td>1</td>\n",
       "      <td>Toy Story (1995)</td>\n",
       "      <td>Adventure|Animation|Children|Comedy|Fantasy</td>\n",
       "      <td>13</td>\n",
       "      <td>5.0</td>\n",
       "      <td>1331380058</td>\n",
       "    </tr>\n",
       "    <tr>\n",
       "      <th>3</th>\n",
       "      <td>1</td>\n",
       "      <td>Toy Story (1995)</td>\n",
       "      <td>Adventure|Animation|Children|Comedy|Fantasy</td>\n",
       "      <td>15</td>\n",
       "      <td>2.0</td>\n",
       "      <td>997938310</td>\n",
       "    </tr>\n",
       "    <tr>\n",
       "      <th>4</th>\n",
       "      <td>1</td>\n",
       "      <td>Toy Story (1995)</td>\n",
       "      <td>Adventure|Animation|Children|Comedy|Fantasy</td>\n",
       "      <td>19</td>\n",
       "      <td>3.0</td>\n",
       "      <td>855190091</td>\n",
       "    </tr>\n",
       "  </tbody>\n",
       "</table>\n",
       "</div>"
      ],
      "text/plain": [
       "   movieId             title                                       genres  \\\n",
       "0        1  Toy Story (1995)  Adventure|Animation|Children|Comedy|Fantasy   \n",
       "1        1  Toy Story (1995)  Adventure|Animation|Children|Comedy|Fantasy   \n",
       "2        1  Toy Story (1995)  Adventure|Animation|Children|Comedy|Fantasy   \n",
       "3        1  Toy Story (1995)  Adventure|Animation|Children|Comedy|Fantasy   \n",
       "4        1  Toy Story (1995)  Adventure|Animation|Children|Comedy|Fantasy   \n",
       "\n",
       "   userId  rating   timestamp  \n",
       "0       7     3.0   851866703  \n",
       "1       9     4.0   938629179  \n",
       "2      13     5.0  1331380058  \n",
       "3      15     2.0   997938310  \n",
       "4      19     3.0   855190091  "
      ]
     },
     "execution_count": 13,
     "metadata": {},
     "output_type": "execute_result"
    }
   ],
   "source": [
    "# Display first five lines of combined DataFrame\n",
    "mv_lens.head()"
   ]
  },
  {
   "cell_type": "code",
   "execution_count": 14,
   "metadata": {},
   "outputs": [
    {
     "data": {
      "text/plain": [
       "Forrest Gump (1994)                          341\n",
       "Pulp Fiction (1994)                          324\n",
       "Shawshank Redemption, The (1994)             311\n",
       "Silence of the Lambs, The (1991)             304\n",
       "Star Wars: Episode IV - A New Hope (1977)    291\n",
       "Name: title, dtype: int64"
      ]
     },
     "execution_count": 14,
     "metadata": {},
     "output_type": "execute_result"
    }
   ],
   "source": [
    "# Display the most commonly rated movies\n",
    "mv_lens.title.value_counts().head()"
   ]
  },
  {
   "cell_type": "code",
   "execution_count": 15,
   "metadata": {},
   "outputs": [
    {
     "data": {
      "text/html": [
       "<div>\n",
       "<table border=\"1\" class=\"dataframe\">\n",
       "  <thead>\n",
       "    <tr>\n",
       "      <th></th>\n",
       "      <th colspan=\"2\" halign=\"left\">rating</th>\n",
       "    </tr>\n",
       "    <tr>\n",
       "      <th></th>\n",
       "      <th>size</th>\n",
       "      <th>mean</th>\n",
       "    </tr>\n",
       "    <tr>\n",
       "      <th>title</th>\n",
       "      <th></th>\n",
       "      <th></th>\n",
       "    </tr>\n",
       "  </thead>\n",
       "  <tbody>\n",
       "    <tr>\n",
       "      <th>Godfather, The (1972)</th>\n",
       "      <td>200.0</td>\n",
       "      <td>4.487500</td>\n",
       "    </tr>\n",
       "    <tr>\n",
       "      <th>Shawshank Redemption, The (1994)</th>\n",
       "      <td>311.0</td>\n",
       "      <td>4.487138</td>\n",
       "    </tr>\n",
       "    <tr>\n",
       "      <th>On the Waterfront (1954)</th>\n",
       "      <td>29.0</td>\n",
       "      <td>4.448276</td>\n",
       "    </tr>\n",
       "    <tr>\n",
       "      <th>All About Eve (1950)</th>\n",
       "      <td>38.0</td>\n",
       "      <td>4.434211</td>\n",
       "    </tr>\n",
       "    <tr>\n",
       "      <th>Ran (1985)</th>\n",
       "      <td>26.0</td>\n",
       "      <td>4.423077</td>\n",
       "    </tr>\n",
       "  </tbody>\n",
       "</table>\n",
       "</div>"
      ],
      "text/plain": [
       "                                 rating          \n",
       "                                   size      mean\n",
       "title                                            \n",
       "Godfather, The (1972)             200.0  4.487500\n",
       "Shawshank Redemption, The (1994)  311.0  4.487138\n",
       "On the Waterfront (1954)           29.0  4.448276\n",
       "All About Eve (1950)               38.0  4.434211\n",
       "Ran (1985)                         26.0  4.423077"
      ]
     },
     "execution_count": 15,
     "metadata": {},
     "output_type": "execute_result"
    }
   ],
   "source": [
    "# Make a new Data structure that holds the movie, number of ratings, and the average rating.\n",
    "mv_stats = mv_lens.groupby('title').agg({'rating': [np.size, np.mean]})\n",
    "\n",
    "# Number of ratings to consider top movie\n",
    "rating_count = 20\n",
    "\n",
    "# Display most popular movies.\n",
    "top_movies = mv_stats['rating']['size'] >= rating_count\n",
    "mv_stats[top_movies].sort_values(by=('rating', 'mean'), ascending=False).head()"
   ]
  },
  {
   "cell_type": "markdown",
   "metadata": {},
   "source": [
    "-----\n",
    "\n",
    "[[Back to TOC]](#Table-of-Contents)\n",
    "\n",
    "## User Based Collaborative Filtering\n",
    "\n",
    "We can now turn our attention to developing a collaborative filter to make recommendations. The basic idea we will employ is to find the user who is most _similar_ to the current user, and use the ratings from this one similar user to make recommendations. To do this, we need two things. First, we need a matrix that contains the movie ratings, indexed by the user id and the movie id. This allows us to find movies to recommend, given a particular user. Second, we need a definition of similarity, which implies a [distance measurement][scdm] (more similar things should be close, while different things should be far apart). There are a number of different distance measures that are employed, including [Euclidean distance][wed], [Manhattan distance][wmd], and [cosine similarity][wcs].\n",
    "\n",
    "In this Notebook, we will employ cosine similarity. However, we will not use the implementation in the scipy library since it is not exactly appropriate for what we need. The cosine similarity treats two sets of data as vectors. For example, we can make a vector for each user where each element in the array corresponds to a rating for a specific movie. obviously, for a rating system with many movies, these vectors are extremely long (in our case, there are $10, 325$ elements). The cosine similarity is calculated by multiplying these two vectors and dividing by their length. Thus, this measurement will be scaled to lie between $-1$ and $1$. If the value is one, the vectors are identical. If the value is minus one, the vectors are exactly opposite of each other. And if the value is zero, the vectors are perpendicular to each other. As a result, the cosine similarity is measuring the angle between the two vectors.\n",
    "\n",
    "To get started, we first construct a pivot table to reference the movie ratings from each user.\n",
    "\n",
    "-----\n",
    "[scdm]: http://docs.scipy.org/doc/scipy/reference/spatial.distance.html\n",
    "\n",
    "[wed]: https://en.wikipedia.org/wiki/Euclidean_distance\n",
    "[wmd]: https://en.wikipedia.org/wiki/Taxicab_geometry\n",
    "[wcs]: https://en.wikipedia.org/wiki/Cosine_similarity"
   ]
  },
  {
   "cell_type": "code",
   "execution_count": 16,
   "metadata": {
    "collapsed": true
   },
   "outputs": [],
   "source": [
    "# Make a pivot table containing ratings indexed by user id and movie id\n",
    "tmp_df = ratings.pivot(index='userId', columns='movieId', values='rating')"
   ]
  },
  {
   "cell_type": "markdown",
   "metadata": {},
   "source": [
    "-----\n",
    "\n",
    "The values in this pivot table hold the actual ratings. For simplicity, we can restrict our analysis to only _favorable_ ratings, which, since the movies are rated on a five-star system, we take to mean ratings greater than three. We convert the pivot table to hold one for favorable ratings and zero for unfavorable ratings and convert the result to a NumPy matrix. The shape of the matrix indicates we have $671$ unique users, who have each rated one or more of $9,066$ movies.\n",
    "\n",
    "-----"
   ]
  },
  {
   "cell_type": "code",
   "execution_count": 17,
   "metadata": {},
   "outputs": [
    {
     "name": "stdout",
     "output_type": "stream",
     "text": [
      "(671, 9066)\n"
     ]
    }
   ],
   "source": [
    "\n",
    "the_data = tmp_df.applymap(lambda x: 1 if x > 3 else 0).as_matrix()\n",
    "print(the_data.shape)"
   ]
  },
  {
   "cell_type": "markdown",
   "metadata": {},
   "source": [
    "-----\n",
    "\n",
    "This matrix is quite large, if we were processing the full movie data set, it would be prohibitively expensive. Fortunately, there is a simple fact that we can leverage. In general, we will not want to include items that haven't been rated enough times. This concept is sometimes called the _support_. Without sufficient ratings, we can't make accurate predictions as the power of this algorithm comes from leveraging data collected from multiple people who (ideally at least) have rated many things.\n",
    "\n",
    "As a result, we will generate a new pivot table, by first grouping the movies together, sorting into descending order, and selecting only those movies that have been reviewed by multiple people (in this case we will select only movies that have been reviewed at least `rating_count` or more times. By default in this notebook, this variable is twenty, which means only those movies rated at least twenty times will be included in our analysis. Next, we create our pivot table as before, and change the ratings into either zero (if rated three or less) or one (if rated four or five). The shape of the matrix is now considerably smaller, with only $136$ unique users and $928$ unique movies.\n",
    "\n",
    "-----"
   ]
  },
  {
   "cell_type": "code",
   "execution_count": 18,
   "metadata": {
    "collapsed": true
   },
   "outputs": [],
   "source": [
    "# Group ratings by movie ID\n",
    "mvrs = ratings.groupby('movieId').size().sort_values(ascending=False)\n",
    "\n",
    "# Select top rated movies\n",
    "tmp_ratings = ratings.ix[mvrs[mvrs > rating_count].index].dropna()"
   ]
  },
  {
   "cell_type": "code",
   "execution_count": 19,
   "metadata": {
    "collapsed": true
   },
   "outputs": [],
   "source": [
    "# Create pivot table\n",
    "tmp_df = tmp_ratings.pivot(index='userId', columns='movieId', values='rating')"
   ]
  },
  {
   "cell_type": "code",
   "execution_count": 20,
   "metadata": {},
   "outputs": [
    {
     "name": "stdout",
     "output_type": "stream",
     "text": [
      "(136, 928)\n"
     ]
    }
   ],
   "source": [
    "#  Map number of ratings to 0 or 1\n",
    "the_data = tmp_df.applymap(lambda x: 1 if x > 3 else 0).as_matrix()\n",
    "print(the_data.shape)"
   ]
  },
  {
   "cell_type": "markdown",
   "metadata": {},
   "source": [
    "-----\n",
    "\n",
    "[[Back to TOC]](#Table-of-Contents)\n",
    "\n",
    "### Cosine Similarity\n",
    "\n",
    "We now create our function to compute the cosine similarity between our two vectors. We use simple NumPy commands, and subsequently demonstrate it being used on sample vectors.\n",
    "\n",
    "----"
   ]
  },
  {
   "cell_type": "code",
   "execution_count": 21,
   "metadata": {
    "collapsed": true
   },
   "outputs": [],
   "source": [
    "# Define the Cosine Similarity function\n",
    "\n",
    "def cosine_similarity(u, v):\n",
    "    return(np.dot(u, v)/np.sqrt((np.dot(u, u) * np.dot(v, v))))"
   ]
  },
  {
   "cell_type": "code",
   "execution_count": 22,
   "metadata": {},
   "outputs": [
    {
     "name": "stdout",
     "output_type": "stream",
     "text": [
      "cosine similarity(a, b) = 0.000\n",
      "cosine similarity(a, c) = 0.333\n",
      "cosine similarity(b, c) = 0.816\n",
      "cosine similarity(a, a) = 1.000\n"
     ]
    }
   ],
   "source": [
    "# Test Cosine Similarity\n",
    "a = np.array([1, 1, 1, 0, 0])\n",
    "b = np.array([0, 0, 0, 1, 1])\n",
    "c = np.array([0, 1, 0, 1, 1])\n",
    "\n",
    "print('cosine similarity(a, b) = {0:4.3f}'.format(cosine_similarity(a, b)))\n",
    "print('cosine similarity(a, c) = {0:4.3f}'.format(cosine_similarity(a, c)))\n",
    "print('cosine similarity(b, c) = {0:4.3f}'.format(cosine_similarity(b, c)))\n",
    "\n",
    "print('cosine similarity(a, a) = {0:4.3f}'.format(cosine_similarity(a, a)))"
   ]
  },
  {
   "cell_type": "markdown",
   "metadata": {},
   "source": [
    "-----\n",
    "\n",
    "[[Back to TOC]](#Table-of-Contents)\n",
    "\n",
    "### Single User Recommendation\n",
    "\n",
    "We now develop the algorithm to make a recommendation for a single user. To do this, we first create a _fake_ user, by selecting several movies as favorable (effectively we simply make a new user vector). Given this new vector, we compute the cosine similarity between this new user and all users in our reduced data user-movie matrix. We identify the user who is most similar by selecting the row in the user-movie matrix with the highest cosine similarity, extract the movies favorably rated by this particular user, remove any that have already been rated by our _fake_ user, and display the results.\n",
    "\n",
    "To simplify the identification of the correct movie title, we add a new column to the DataFrame that holds the joined rating and movie data to map between movieId in our user-movie matrix and the movieID used in the original data.\n",
    "\n",
    "----"
   ]
  },
  {
   "cell_type": "code",
   "execution_count": 23,
   "metadata": {
    "collapsed": true
   },
   "outputs": [],
   "source": [
    "# The user-movie matrix\n",
    "x = the_data\n",
    "\n",
    "# Make a fake user (with movie ratings that will gaurantee a match)\n",
    "y = np.zeros(the_data.shape[1], dtype=np.int32)\n",
    "y[6] = 1 ; y[10] = 1; y[15] = 1; y[64] = 1; y[136] = 1\n",
    "y[180] = 1; y[230] = 1; y[339] = 1; y[622] = 1; y[703] = 1\n",
    "\n",
    "# Add a special index column to map the row in the x matrix to the userIds\n",
    "tmp_df.tmp_idx = np.array(range(x.shape[0]))"
   ]
  },
  {
   "cell_type": "code",
   "execution_count": 24,
   "metadata": {},
   "outputs": [
    {
     "name": "stdout",
     "output_type": "stream",
     "text": [
      "[0 0 0 0 0 0 1 0 0 0 1 0 0 0 0 1 0 0 0 0 0 0 0 0 0 0 0 0 0 0]\n",
      "[0 0 0 0 0 0 0 0 0 0 0 0 0 0 0 1 0 0 0 0 0 0 0 0 0 0 0 1 0 0]\n",
      "\n",
      "Cosine Similarity(y, x[39]) = 0.183\n",
      "\n",
      "[1 1 1 1 1 1 1 1 1 1 1 1 1 1 1 1 1 1 1 1 1 1 1 1 1 1 1 0 1 1]\n"
     ]
    }
   ],
   "source": [
    "# Compute similarity, find maximum value\n",
    "sims = np.apply_along_axis(cosine_similarity, 1, x, y)\n",
    "mx = np.nanmax(sims)\n",
    "\n",
    "# Find the best matching user\n",
    "usr_idx = np.where(sims==mx)[0][0]\n",
    "\n",
    "# Print the first thirty reviews of test user and matched user.\n",
    "print(y[:30])\n",
    "print(x[usr_idx, :30])\n",
    "\n",
    "print('\\nCosine Similarity(y, x[{0:d}]) = {1:4.3f}' \\\n",
    "      .format(usr_idx, cosine_similarity(y, x[usr_idx])), end='\\n\\n')\n",
    "\n",
    "# Now we subtract the vectors\n",
    "# (any negative value is a movie to recommend)\n",
    "mov_vec = y - x[usr_idx]\n",
    "\n",
    "# We want a mask aray, so we zero out any recommended movie.\n",
    "mov_vec[mov_vec >= 0] = 1\n",
    "mov_vec[mov_vec < 0] = 0\n",
    "\n",
    "print(mov_vec[:30])"
   ]
  },
  {
   "cell_type": "code",
   "execution_count": 25,
   "metadata": {},
   "outputs": [
    {
     "name": "stdout",
     "output_type": "stream",
     "text": [
      "\n",
      "2 Movie Recommendations for User = 43.0\n"
     ]
    }
   ],
   "source": [
    "# Print out the number of movies we will recommend.\n",
    "print('\\n{0} Movie Recommendations for User = {1}' \\\n",
    "      .format(mov_vec[mov_vec == 0].shape[0], \n",
    "              tmp_df[tmp_df.tmp_idx == usr_idx].index[0]))"
   ]
  },
  {
   "cell_type": "code",
   "execution_count": 26,
   "metadata": {
    "collapsed": true
   },
   "outputs": [],
   "source": [
    "# Get the columns (movieIds) for the current user\n",
    "mov_ids = tmp_df[tmp_df.tmp_idx == usr_idx].columns"
   ]
  },
  {
   "cell_type": "code",
   "execution_count": 27,
   "metadata": {
    "collapsed": true
   },
   "outputs": [],
   "source": [
    "# Now make a masked array to find movies to recommend\n",
    "# values are the movie ids, mask is the movies the most\n",
    "# similar user liked.\n",
    "\n",
    "ma_mov_idx = ma.array(mov_ids, mask = mov_vec)\n",
    "mov_idx = ma_mov_idx[~ma_mov_idx.mask]        "
   ]
  },
  {
   "cell_type": "code",
   "execution_count": 28,
   "metadata": {},
   "outputs": [
    {
     "name": "stdout",
     "output_type": "stream",
     "text": [
      "------------------------------------------------------------\n",
      "Braveheart (1995)\n",
      "Jurassic Park (1993)\n",
      "------------------------------------------------------------\n",
      "\n"
     ]
    }
   ],
   "source": [
    "# Now make a DataFrame of the moves of interest and display\n",
    "\n",
    "mv_df = movies.ix[movies.movieId.isin(mov_idx)].dropna()\n",
    "\n",
    "print(60*'-')\n",
    "\n",
    "for movie in mv_df.title.values:\n",
    "    print(movie)\n",
    "\n",
    "print(60*'-', end='\\n\\n')"
   ]
  },
  {
   "cell_type": "markdown",
   "metadata": {},
   "source": [
    "-----\n",
    "\n",
    "<font color='red' size = '5'> Student Exercise </font>\n",
    "\n",
    "In the preceding cells, we used cosine similarity to find the user most similar to a test (or fake) user in order to make recommendations. Now that you have run the Notebook, go back and make the following changes to see how the results change.\n",
    "\n",
    "1. Make a new fake user, ensure that there are movies in common with more than one real user. What movies are now recommended? Do they make sense?\n",
    "2. Try changing the `ratings_count` variable higher and lower. How does this change the results of the recommendation? Note this affects both the construction of the user-movie DataFrame and the final matrix.\n",
    "3. The current algorithm uses the only favorable ratings, but that isn't necessary. Try mapping the ratings to the space $-1, 1$ and repeating the analysis. In this mapping, $-1$ corresponds to an unfavorable rating of one. How do the results change?\n",
    "\n",
    "Finally, the current algorithm finds the _best matching_ user and uses that user's ratings to make a recommendation. In reality, we would want to use $n$ best matching users to make a recommendation. Change the algorithm to capture the five most similar users and to display the aggregated results."
   ]
  },
  {
   "cell_type": "markdown",
   "metadata": {
    "collapsed": true
   },
   "source": [
    "-----\n",
    "\n",
    "[[Back to TOC]](#Table-of-Contents)\n",
    "\n",
    "### Multiple User Recommendation\n",
    "\n",
    "The previous example provided recommendations for a single user. We can extend this example to make recommendations for multiple users. In this case, however, we still use the same basic algorithm. First, we divide our data into two samples: training and testing. We then iterate through our testing set to find the best matching user to compute recommendations for the current testing sample user. Finally, the recommendations are displayed for each user in the test sample.\n",
    "\n",
    "-----"
   ]
  },
  {
   "cell_type": "code",
   "execution_count": 29,
   "metadata": {
    "collapsed": true
   },
   "outputs": [],
   "source": [
    "from sklearn.model_selection import train_test_split\n",
    "\n",
    "#Define multiple user data set\n",
    "x, y = the_data, range(the_data.shape[0])\n",
    "\n",
    "# Create train:test splits\n",
    "x_train, x_test, y_train, y_test = \\\n",
    "    train_test_split(x, y, test_size = 0.1, random_state=23)\n",
    "\n",
    "# Add an index into the user-movie DataFrame for the movies that are in the\n",
    "# user-movie matrix.\n",
    "tmp_df.tmp_idx = np.array(y)"
   ]
  },
  {
   "cell_type": "code",
   "execution_count": 30,
   "metadata": {},
   "outputs": [
    {
     "name": "stdout",
     "output_type": "stream",
     "text": [
      "1 Movie Recommendations for User = 21.0\n",
      "------------------------------------------------------------\n",
      "Incredible Hulk, The (2008)\n",
      "------------------------------------------------------------\n",
      "\n",
      "0 Movie Recommendations for User = 4.0\n",
      "------------------------------------------------------------\n",
      "------------------------------------------------------------\n",
      "\n",
      "7 Movie Recommendations for User = 481.0\n",
      "------------------------------------------------------------\n",
      "Pinocchio (1940)\n",
      "Lawrence of Arabia (1962)\n",
      "Beetlejuice (1988)\n",
      "Planet of the Apes (1968)\n",
      "Harry Potter and the Prisoner of Azkaban (2004)\n",
      "Spider-Man 2 (2004)\n",
      "Shaun of the Dead (2004)\n",
      "------------------------------------------------------------\n",
      "\n",
      "34 Movie Recommendations for User = 407.0\n",
      "------------------------------------------------------------\n",
      "Casino (1995)\n",
      "Powder (1995)\n",
      "Twelve Monkeys (a.k.a. 12 Monkeys) (1995)\n",
      "Babe (1995)\n",
      "Usual Suspects, The (1995)\n",
      "Happy Gilmore (1996)\n",
      "Braveheart (1995)\n",
      "Apollo 13 (1995)\n",
      "Beauty of the Day (Belle de jour) (1967)\n",
      "Heavenly Creatures (1994)\n",
      "Blue Sky (1994)\n",
      "Wallace & Gromit: A Close Shave (1995)\n",
      "Maltese Falcon, The (1941)\n",
      "Apocalypse Now (1979)\n",
      "Jerry Maguire (1996)\n",
      "Hamlet (1996)\n",
      "Titanic (1997)\n",
      "In the Heat of the Night (1967)\n",
      "Beetlejuice (1988)\n",
      "Shadow of a Doubt (1943)\n",
      "Rounders (1998)\n",
      "Rush Hour (1998)\n",
      "Nights of Cabiria (Notti di Cabiria, Le) (1957)\n",
      "Dracula (1931)\n",
      "Sixth Sense, The (1999)\n",
      "Boys Don't Cry (1999)\n",
      "Days of Heaven (1978)\n",
      "Goldfinger (1964)\n",
      "Almost Famous (2000)\n",
      "Breathless (À bout de souffle) (1960)\n",
      "Phone Booth (2002)\n",
      "Stagecoach (1939)\n",
      "After Hours (1985)\n",
      "Match Point (2005)\n",
      "------------------------------------------------------------\n",
      "\n",
      "145 Movie Recommendations for User = 11.0\n",
      "------------------------------------------------------------\n",
      "Casino (1995)\n",
      "Chungking Express (Chung Hing sam lam) (1994)\n",
      "Clerks (1994)\n",
      "Exotica (1994)\n",
      "Forget Paris (1995)\n",
      "Hoop Dreams (1994)\n",
      "Star Wars: Episode IV - A New Hope (1977)\n",
      "Léon: The Professional (a.k.a. The Professional) (Léon) (1994)\n",
      "Pulp Fiction (1994)\n",
      "Three Colors: White (Trzy kolory: Bialy) (1994)\n",
      "Red Rock West (1992)\n",
      "Fugitive, The (1993)\n",
      "Executive Decision (1996)\n",
      "Blade Runner (1982)\n",
      "Thirty-Two Short Films About Glenn Gould (1993)\n",
      "True Romance (1993)\n",
      "War Room, The (1993)\n",
      "Batman (1989)\n",
      "Rock, The (1996)\n",
      "Dr. Strangelove or: How I Learned to Stop Worrying and Love the Bomb (1964)\n",
      "Walking and Talking (1996)\n",
      "She's the One (1996)\n",
      "Charade (1963)\n",
      "When We Were Kings (1996)\n",
      "Sex, Lies, and Videotape (1989)\n",
      "Star Wars: Episode V - The Empire Strikes Back (1980)\n",
      "Raiders of the Lost Ark (Indiana Jones and the Raiders of the Lost Ark) (1981)\n",
      "Aliens (1986)\n",
      "Clockwork Orange, A (1971)\n",
      "Apocalypse Now (1979)\n",
      "Once Upon a Time in the West (C'era una volta il West) (1968)\n",
      "Star Wars: Episode VI - Return of the Jedi (1983)\n",
      "Alien (1979)\n",
      "Killer, The (Die xue shuang xiong) (1989)\n",
      "Full Metal Jacket (1987)\n",
      "Grand Day Out with Wallace and Gromit, A (1989)\n",
      "Amadeus (1984)\n",
      "Raging Bull (1980)\n",
      "Right Stuff, The (1983)\n",
      "Harold and Maude (1971)\n",
      "Manhattan (1979)\n",
      "Bridge on the River Kwai, The (1957)\n",
      "Deer Hunter, The (1978)\n",
      "Groundhog Day (1993)\n",
      "Unforgiven (1992)\n",
      "Manchurian Candidate, The (1962)\n",
      "Patton (1970)\n",
      "This Is Spinal Tap (1984)\n",
      "Koyaanisqatsi (a.k.a. Koyaanisqatsi: Life Out of Balance) (1983)\n",
      "Indiana Jones and the Last Crusade (1989)\n",
      "Gandhi (1982)\n",
      "Real Genius (1985)\n",
      "When Harry Met Sally... (1989)\n",
      "Jaws (1975)\n",
      "Raising Arizona (1987)\n",
      "Sneakers (1992)\n",
      "Scream (1996)\n",
      "Waiting for Guffman (1996)\n",
      "Donnie Brasco (1997)\n",
      "Men in Black (a.k.a. MIB) (1997)\n",
      "Sweet Hereafter, The (1997)\n",
      "Wag the Dog (1997)\n",
      "Fallen (1998)\n",
      "Zero Effect (1998)\n",
      "Taste of Cherry (Ta'm e guilass) (1997)\n",
      "Character (Karakter) (1997)\n",
      "Pi (1998)\n",
      "There's Something About Mary (1998)\n",
      "On the Waterfront (1954)\n",
      "Kramer vs. Kramer (1979)\n",
      "Rain Man (1988)\n",
      "Goonies, The (1985)\n",
      "Seven Samurai (Shichinin no samurai) (1954)\n",
      "Tron (1982)\n",
      "Indiana Jones and the Temple of Doom (1984)\n",
      "Weird Science (1985)\n",
      "Happiness (1998)\n",
      "Notting Hill (1999)\n",
      "Eyes Wide Shut (1999)\n",
      "Bowfinger (1999)\n",
      "Ferris Bueller's Day Off (1986)\n",
      "Ipcress File, The (1965)\n",
      "Thunderball (1965)\n",
      "Trading Places (1983)\n",
      "Map of the World, A (1999)\n",
      "Galaxy Quest (1999)\n",
      "Singles (1992)\n",
      "Wonder Boys (2000)\n",
      "Jacob's Ladder (1990)\n",
      "On Her Majesty's Secret Service (1969)\n",
      "Spy Who Loved Me, The (1977)\n",
      "Blood Simple (1984)\n",
      "Girlfight (2000)\n",
      "Meet the Parents (2000)\n",
      "Requiem for a Dream (2000)\n",
      "Diamonds Are Forever (1971)\n",
      "Eureka (Yurîka) (2000)\n",
      "UHF (1989)\n",
      "Black Hawk Down (2001)\n",
      "Maelström (2000)\n",
      "Waydowntown (2000)\n",
      "Husbands and Wives (1992)\n",
      "Secretary (2002)\n",
      "Wrong Guy, The (1997)\n",
      "Punch-Drunk Love (2002)\n",
      "Ring, The (2002)\n",
      "Roger Dodger (2002)\n",
      "Last Seduction, The (1994)\n",
      "Adaptation (2002)\n",
      "Lord of the Rings: The Two Towers, The (2002)\n",
      "Two Weeks Notice (2002)\n",
      "Old School (2003)\n",
      "Barton Fink (1991)\n",
      "Belle époque (1992)\n",
      "28 Days Later (2002)\n",
      "Lost in Translation (2003)\n",
      "Three O'Clock High (1987)\n",
      "Fail-Safe (1964)\n",
      "You Only Live Twice (1967)\n",
      "Grey Gardens (1975)\n",
      "Fahrenheit 9/11 (2004)\n",
      "Primer (2004)\n",
      "National Treasure (2004)\n",
      "Crash (2004)\n",
      "Grizzly Man (2005)\n",
      "Tell No One (Ne le dis à personne) (2006)\n",
      "Hellboy II: The Golden Army (2008)\n",
      "Watchmen (2009)\n",
      "Quantum of Solace (2008)\n",
      "Anvil! The Story of Anvil (2008)\n",
      "Star Trek (2009)\n",
      "Terminator Salvation (2009)\n",
      "District 9 (2009)\n",
      "Informant!, The (2009)\n",
      "How to Train Your Dragon (2010)\n",
      "Kung Fu Panda 2 (2011)\n",
      "Rise of the Planet of the Apes (2011)\n",
      "Moneyball (2011)\n",
      "Girl with the Dragon Tattoo, The (2011)\n",
      "Imposter, The (2012)\n",
      "Pacific Rim (2013)\n",
      "John Wick (2014)\n",
      "Nightcrawler (2014)\n",
      "Amy (2015)\n",
      "Best of Enemies (2015)\n",
      "------------------------------------------------------------\n",
      "\n",
      "18 Movie Recommendations for User = 48.0\n",
      "------------------------------------------------------------\n",
      "Rudy (1993)\n",
      "Schindler's List (1993)\n",
      "Secret Garden, The (1993)\n",
      "Dances with Wolves (1990)\n",
      "My Fair Lady (1964)\n",
      "Wizard of Oz, The (1939)\n",
      "Rain Man (1988)\n",
      "10 Things I Hate About You (1999)\n",
      "Iron Giant, The (1999)\n",
      "Green Mile, The (1999)\n",
      "League of Their Own, A (1992)\n",
      "Shrek (2001)\n",
      "Pearl Harbor (2001)\n",
      "American Pie 2 (2001)\n",
      "Monsters, Inc. (2001)\n",
      "Catch Me If You Can (2002)\n",
      "Band of Brothers (2001)\n",
      "Bourne Ultimatum, The (2007)\n",
      "------------------------------------------------------------\n",
      "\n",
      "8 Movie Recommendations for User = 443.0\n",
      "------------------------------------------------------------\n",
      "Cry, the Beloved Country (1995)\n",
      "Shadowlands (1993)\n",
      "Nightmare Before Christmas, The (1993)\n",
      "Mystery Science Theater 3000: The Movie (1996)\n",
      "Wallace & Gromit: A Close Shave (1995)\n",
      "Monty Python and the Holy Grail (1975)\n",
      "Wallace & Gromit: The Wrong Trousers (1993)\n",
      "Terminator, The (1984)\n",
      "------------------------------------------------------------\n",
      "\n",
      "0 Movie Recommendations for User = 19.0\n",
      "------------------------------------------------------------\n",
      "------------------------------------------------------------\n",
      "\n",
      "0 Movie Recommendations for User = 3.0\n",
      "------------------------------------------------------------\n",
      "------------------------------------------------------------\n",
      "\n",
      "0 Movie Recommendations for User = 30.0\n",
      "------------------------------------------------------------\n",
      "------------------------------------------------------------\n",
      "\n"
     ]
    }
   ],
   "source": [
    "# Iterate through each user in test set.\n",
    "for idx, user in enumerate(x_test):\n",
    "    \n",
    "    # Compute similarity, find maximum value\n",
    "    sims = np.apply_along_axis(cosine_similarity, 1, x_train, user)\n",
    "    mx = np.nanmax(sims)\n",
    "    \n",
    "    # If maximum value is a real value    \n",
    "    if mx > 0:\n",
    "        \n",
    "        # Find the index in the similarity matrix with maximum value\n",
    "        train_idx = np.where(sims==mx)[0][0]\n",
    "        \n",
    "        # Now we subtract the vectors \n",
    "        # (any negative value is a movie to recommend)\n",
    "        mov_vec = user - x_train[train_idx]\n",
    "        \n",
    "        # We make a mask aray, so we zero out any recommended movie.\n",
    "        mov_vec[mov_vec >= 0] = 1\n",
    "        mov_vec[mov_vec < 0] = 0\n",
    "        \n",
    "        # We use the fact that y_train has the indices into the original\n",
    "        # temporary data frame\n",
    "\n",
    "        user_idx = tmp_df[tmp_df.tmp_idx == y_train[train_idx]]\n",
    "\n",
    "        # State how many movies are being recommend for this user id\n",
    "        print('{0} Movie Recommendations for User = {1}' \\\n",
    "              .format(mov_vec[mov_vec == 0].shape[0], \\\n",
    "                      tmp_df[tmp_df.tmp_idx == y_test[idx]].index[0]))\n",
    "        \n",
    "        print(60*'-')\n",
    "        # Now make a masked array to find movies to recommend\n",
    "        # values are the movie ids, mask is the movies the most\n",
    "        # similar user liked.\n",
    "        ma_mov_idx = ma.array(user_idx.columns, mask = mov_vec)\n",
    "        mov_idx = ma_mov_idx[~ma_mov_idx.mask]\n",
    "        \n",
    "        # Now make a DataFrame of the moves of interest and display\n",
    "        mv_df = movies.ix[movies.movieId.isin(mov_idx)].dropna()\n",
    "        for movie in mv_df.title.values:\n",
    "            print(movie)\n",
    "            \n",
    "        print(60*'-', end='\\n\\n')"
   ]
  },
  {
   "cell_type": "markdown",
   "metadata": {},
   "source": [
    "------\n",
    "\n",
    "<font color='red' size = '5'> Student Exercise </font>\n",
    "\n",
    "In the preceding cell, we computed the cosine similarity between test and training data to make recommendations.  Now that you have run the notebook, go back and make the following changes to see how the results change.\n",
    "\n",
    "1. Right now, the algorithm uses **only** the best matching user. Change the algorithm to use the five best matching users to develop a more complete set of movie ratings.\n",
    "\n",
    "2. In some cases, the best matching user does not exist. Change the `rating_count` variable so that all movies are included. How does this change the performance and results of the algorithm?\n",
    "\n",
    "This example has been a user-based collaborative filtering. If we transpose our matrix, however, we have a movie-user matrix, which can be used to make item-based collaborative filtering recommendations. In this case, you will find users who have rated the current movie and use their other ratings to find movies to recommend. Implement this new algorithm by following this description and the previous code.\n",
    "\n",
    "-----"
   ]
  },
  {
   "cell_type": "markdown",
   "metadata": {},
   "source": [
    "## Ancillary Information\n",
    "\n",
    "The following links are to additional documentation that you might find helpful in learning this material. Reading these web-accessible documents is completely optional.\n",
    "\n",
    "1. A nice introduction to [recommendation systems][1] from IBM\n",
    "2. Wikipedia article on [Recommender system][wr]\n",
    "3. Wikipedia article on [Apriori algorithm][wa]\n",
    "4. Wikipedia article on [Cosine similarity][wc]\n",
    "5. An article on [recommender systems][2] from the Encyclopedia of Machine Learning\n",
    "6. Article on [association rules][3]\n",
    "78. Guide to building a [recommender system][rsp] in Python\n",
    "98. How to implement a [recommender system][irs] in Python\n",
    "101. Understanding how a [recommender system][urs] works\n",
    "321. Guide to [item-based filtering][ibf]\n",
    "\n",
    "-----\n",
    "\n",
    "[1]: https://www.ibm.com/developerworks/library/os-recommender1/index.html\n",
    "[wr]: https://en.wikipedia.org/wiki/Recommender_system\n",
    "[wa]: https://en.wikipedia.org/wiki/Apriori_algorithm\n",
    "[wc]: https://en.wikipedia.org/wiki/Cosine_similarity\n",
    "[2]: http://www.prem-melville.com/publications/recommender-systems-eml2010.pdf\n",
    "[3]: http://aimotion.blogspot.com/2013/01/machine-learning-and-data-mining.html\n",
    "[rsp]: https://blogs.gartner.com/martin-kihn/how-to-build-a-recommender-system-in-python/\n",
    "[irs]: https://cambridgespark.com/content/tutorials/implementing-your-own-recommender-systems-in-Python/index.html\n",
    "[urs]: http://guidetodatamining.com/chapter2/\n",
    "[ibf]: http://guidetodatamining.com/chapter3/"
   ]
  },
  {
   "cell_type": "markdown",
   "metadata": {
    "deletable": false,
    "editable": false
   },
   "source": [
    "**&copy; 2017: Robert J. Brunner at the University of Illinois.**\n",
    "\n",
    "This notebook is released under the [Creative Commons license CC BY-NC-SA 4.0][ll]. Any reproduction, adaptation, distribution, dissemination or making available of this notebook for commercial use is not allowed unless authorized in writing by the copyright holder.\n",
    "\n",
    "[ll]: https://creativecommons.org/licenses/by-nc-sa/4.0/legalcode"
   ]
  }
 ],
 "metadata": {
  "kernelspec": {
   "display_name": "Python 3",
   "language": "python",
   "name": "python3"
  },
  "language_info": {
   "codemirror_mode": {
    "name": "ipython",
    "version": 3
   },
   "file_extension": ".py",
   "mimetype": "text/x-python",
   "name": "python",
   "nbconvert_exporter": "python",
   "pygments_lexer": "ipython3",
   "version": "3.6.1"
  }
 },
 "nbformat": 4,
 "nbformat_minor": 1
}
