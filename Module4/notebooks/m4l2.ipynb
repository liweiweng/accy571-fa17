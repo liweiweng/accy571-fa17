{
 "cells": [
  {
   "cell_type": "markdown",
   "metadata": {},
   "source": [
    "# Module 4: Lesson 2\n",
    "\n",
    "-----\n",
    "\n",
    "## Introduction to Recommender Systems\n",
    "\n",
    "In this lesson, you will be introduced to recommendation systems. Anyone who has used Internet sites for shopping has been exposed to a recommendation system. For example, when you shop at Amazon, you will be given recommendations for items that are often bought together and also items that are similar to the current item of interest. The former is an example of user-based collaborative filtering, where the results from other similar users are summarized to make recommendations/ The latter is an example of item-based collaborative filtering, where other similar items are summarized to make recommendations. Recommendation systems are often easy to understand conceptually, since they can be develop from simple association rules (i.e., A goes with B) and have been frequently used with success by both traditional brick-n-mortar shops and online sites.\n",
    "\n",
    "### Objectives\n",
    "\n",
    "By the end of this lesson, you will understand \n",
    "\n",
    "- the difference between user and item based recommendation\n",
    "- the basic concepts of the _a priori_ algorithm\n",
    "- the basic concepts of frequent itemsets, their construction, and their use in making recommendations.\n",
    "- how to develop a simple recommendation algorithm in Python.\n",
    "\n",
    "### Time Estimate\n",
    "\n",
    "Approximately 2 hours.\n",
    "\n",
    "### Activities\n",
    "\n",
    "Video: Watch the [Introduction to Recommender Systems][lv] video, which will discuss how recommendation systems work and can be used to generate new business revenue.\n",
    "\n",
    "Reading: A nice overview article on [recommendation systems][xyz] from IBM.\n",
    "\n",
    "Notebook: Read and complete the practice exercises in the [Introduction to Recommender Systems][intro2rs] notebook.\n",
    "\n",
    "------\n",
    "\n",
    "[xyz]: https://www.ibm.com/developerworks/library/os-recommender1/index.html\n",
    "\n",
    "[lv]: https://mediaspace.illinois.edu/media/\n",
    "\n",
    "[intro2rs]: intro2rs.ipynb"
   ]
  }
 ],
 "metadata": {
  "kernelspec": {
   "display_name": "Python 3",
   "language": "python",
   "name": "python3"
  },
  "language_info": {
   "codemirror_mode": {
    "name": "ipython",
    "version": 3
   },
   "file_extension": ".py",
   "mimetype": "text/x-python",
   "name": "python",
   "nbconvert_exporter": "python",
   "pygments_lexer": "ipython3",
   "version": "3.6.1"
  }
 },
 "nbformat": 4,
 "nbformat_minor": 2
}
