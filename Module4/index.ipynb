{
 "cells": [
  {
   "cell_type": "markdown",
   "metadata": {},
   "source": [
    "# Module 4: \n",
    "\n",
    "XYZ\n",
    "\n",
    "## Learning Objectives\n",
    "\n",
    "#### By the end of this module, you should be able to:\n",
    "\n",
    "- XYZ\n",
    "\n",
    "### Activities and Assignments\n",
    "\n",
    "| Activities and Assignments               | Time Estimate | Deadline* | Points |\n",
    "| :--------------------------------------- | ------------- | --------- | -----: |\n",
    "| **[Module 4 Overview Video][wv]**      | 10 Minutes    | Tuesday |    N/A |\n",
    "| **[Module 4 Lesson 1: Applied Machine Learning][nb1]** | 1 Hour   | Thursday  |     N/A |\n",
    "| **[Module 4 Lesson 2: Introduction to Recommender Systems][nb2]** | 2 Hours | Thursday  |     N/A |\n",
    "| **[Module 4 Lesson 3: Introduction to Neural Networks][nb3]** | 2 Hours | Thursday  |     N/A |\n",
    "| **[Module 4 Lesson 4: Introduction to Deep Learning][nb4]** | 2 Hours   | Thursday  |   N/A |\n",
    "| **[Module 4 Quiz][wq]**               | 30 Minutes    | Friday    |    25  |\n",
    "| **[Module 4 Assignment][ma]**         | 1 hour    | Tuesday    |    100  |\n",
    "\n",
    "*Please note that unless otherwise noted, the due time is 6pm Central time!\n",
    "\n",
    "----------\n",
    "\n",
    "[nb1]: notebooks/m4l1.ipynb\n",
    "[nb2]: notebooks/m4l2.ipynb\n",
    "[nb3]: notebooks/m4l3.ipynb\n",
    "[nb4]: notebooks/m4l4.ipynb\n",
    "\n",
    "[ma]: https://datascience.business.illinois.edu/user/accy/notebooks/accy571/assignments/Module4/assignment.ipynb\n",
    "\n",
    "[wv]: https://mediaspace.illinois.edu/media/\n",
    "[wq]: https://learn.illinois.edu/mod/quiz/"
   ]
  }
 ],
 "metadata": {
  "kernelspec": {
   "display_name": "Python 3",
   "language": "python",
   "name": "python3"
  },
  "language_info": {
   "codemirror_mode": {
    "name": "ipython",
    "version": 3
   },
   "file_extension": ".py",
   "mimetype": "text/x-python",
   "name": "python",
   "nbconvert_exporter": "python",
   "pygments_lexer": "ipython3",
   "version": "3.6.1"
  }
 },
 "nbformat": 4,
 "nbformat_minor": 2
}
