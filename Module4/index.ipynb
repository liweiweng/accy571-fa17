{
 "cells": [
  {
   "cell_type": "markdown",
   "metadata": {},
   "source": [
    "# Module 4: Advanced Machine Learning\n",
    "\n",
    "This week we introduce advanced concepts in machine learning. First, we will learn how advanced machine learning techniques are being used to automate business operations. Second, we will cover recommender systems, which are ubiquitous and used to provide recommendations to a user based on previously collected data either from other users, the current user, or both. Next, we introduce one of the most interesting machine learning algorithms, a neural network, which employs concepts form biology to enable a machine to make predictions, Finally, we will introduce deep learning. Deep learning has become an incredibly popular form of machine learning that generally leveraged some type of neural network to learn from data in order to make predictions. While neural networks have been around for some time, deep learning is fairly new, and has found applications in many areas, especially image processing and natural language processing.\n",
    "\n",
    "## Learning Objectives\n",
    "\n",
    "#### By the end of this module, you should be able to:\n",
    "\n",
    "- explain the basic concepts of a recommendation system and how they are used in business,\n",
    "- explain the basic concepts of a neural network,\n",
    "- articulate how deep learning is similar and different than a neural network, and\n",
    "- apply these algorithms by using Python.\n",
    "\n",
    "### Activities and Assignments\n",
    "\n",
    "| Activities and Assignments               | Time Estimate | Deadline* | Points |\n",
    "| :--------------------------------------- | ------------- | --------- | -----: |\n",
    "| **[Module 4 Overview Video][wv]**      | 10 Minutes    | Tuesday |    N/A |\n",
    "| **[Module 4 Lesson 1: Applied Machine Learning][nb1]** | 1 Hour   | Thursday  |     N/A |\n",
    "| **[Module 4 Lesson 2: Introduction to Recommender Systems][nb2]** | 2 Hours | Thursday  |     N/A |\n",
    "| **[Module 4 Lesson 3: Introduction to Neural Networks][nb3]** | 2 Hours | Thursday  |     N/A |\n",
    "| **[Module 4 Lesson 4: Introduction to Deep Learning][nb4]** | 2 Hours   | Thursday  |   N/A |\n",
    "| **[Module 4 Quiz][wq]**               | 30 Minutes    | Friday    |    25  |\n",
    "| **[Module 4 Assignment][ma]**         | 1 hour    | Tuesday    |    100  |\n",
    "\n",
    "*Please note that unless otherwise noted, the due time is 6pm Central time!\n",
    "\n",
    "----------\n",
    "\n",
    "[nb1]: notebooks/m4l1.ipynb\n",
    "[nb2]: notebooks/m4l2.ipynb\n",
    "[nb3]: notebooks/m4l3.ipynb\n",
    "[nb4]: notebooks/m4l4.ipynb\n",
    "\n",
    "[ma]: https://datascience.business.illinois.edu/user/accy/notebooks/accy571/assignments/Module4/assignment.ipynb\n",
    "\n",
    "[wv]: https://mediaspace.illinois.edu/media/\n",
    "[wq]: https://learn.illinois.edu/mod/quiz/"
   ]
  }
 ],
 "metadata": {
  "kernelspec": {
   "display_name": "Python 3",
   "language": "python",
   "name": "python3"
  },
  "language_info": {
   "codemirror_mode": {
    "name": "ipython",
    "version": 3
   },
   "file_extension": ".py",
   "mimetype": "text/x-python",
   "name": "python",
   "nbconvert_exporter": "python",
   "pygments_lexer": "ipython3",
   "version": "3.6.1"
  }
 },
 "nbformat": 4,
 "nbformat_minor": 2
}
