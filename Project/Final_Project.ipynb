{
 "cells": [
  {
   "cell_type": "markdown",
   "metadata": {},
   "source": [
    "# ACCY 571 Group Project  \n",
    "\n",
    "## Overview \n",
    "-----\n",
    "\n",
    "### Goal   \n",
    "\n",
    "Complete a data analytics project that demonstrates your mastery of the course content.\n",
    "  \n",
    "  1.  Demonstrate the ability to apply machine learning and data analytics concepts from ACCY 570 to summarize data and to produce insightful visualizations.\n",
    "  2.  Show that you can interact with a SQL database to extract relevant data.\n",
    "  3.  Show that you can use text and network analyses to extract key insights from a rich data set.\n",
    "  \n",
    "### Prompt  \n",
    "\n",
    "Your boss at Goliath National Bank sends you the frustratingly vague directive:\n",
    "\n",
    "> We're interested in funding the development of new businesses such as \n",
    "> - restaurants,  \n",
    "> - coffee shops, and  \n",
    "> - bars\n",
    ">  \n",
    "> in the far off land of ____, but we need your team to \n",
    "> **get a better picture of the consumers** before we get make any investments.  \n",
    "\n",
    "Your task is to pick a region or city and use the provided yelp database to characterize the eating/spending habits of of the resident consumers. Your boss hasn't specified exactly what she is expecting you to find, so it is up to you best figure out how to determine the best location.\n",
    "\n",
    "-----"
   ]
  },
  {
   "cell_type": "markdown",
   "metadata": {},
   "source": [
    "  \n",
    "## Criteria\n",
    "-----\n",
    "\n",
    "You will work in groups of __4-5__ students to analyze the provided **Yelp** data set to make a recommendation,\n",
    "based on the features present in this database.\n",
    "\n",
    "You will complete three tasks for this group project:\n",
    "1. A group report in the form of a Jupyter notebook,\n",
    "2. An in-class presentation where your group will present your results, and \n",
    "3. Peer evaluation of the contributions of each member of your group.\n",
    "\n",
    "Your final group report will be a single Jupyter notebook that will integrate Markdown, Python code, and the results from your code, such as data visualizations. Markdown cells should be used to explain any decisions you make regarding the data, to discuss any plots or visualizations generated in your notebook, and the results of your analysis. As a general guideline, the content should be written in a way that a fellow classmate (or an arbitrary data scientist/analyst) should be able to read your report and understand the results, implications, and processes that you followed to achieve your result. If printed (not that you should do this), your report should be at least fifteen pages.\n",
    "\n",
    "Your group will present the material in-class in a format that is left up to each group. For example, you can use presentation software such as MS Powerpoint, PDFs, your Notebook, or Prezi, or, alternatively, you can choose some other presentation style (feel free to discuss your ideas with the course staff). The presentations should cover all steps in your analytics process and highlight your results. The presentation should take between eight to twelve minutes, and will be graded by your discussion teaching assistant.\n",
    "\n",
    "### Rubric\n",
    "  - Notebook Report (40%)\n",
    "  - Class presentation (40%)\n",
    "  - Peer assessment from your group-mates (20%)\n",
    "\n",
    "### General\n",
    "\n",
    "Your report should \n",
    "  1. use proper markdown, \n",
    "  2. include all of the code used for your analysis,\n",
    "  3. include properly labeled plots (e.g., use axis labels and titles),\n",
    "  4. use a consistent style between graphs, and\n",
    "  5. be entirely the work of your own group, **Do not plagiarize code, this includes anything you might find online**.\n",
    "  \n",
    "All code should be written by you and your group.\n",
    "\n",
    "-----"
   ]
  },
  {
   "cell_type": "markdown",
   "metadata": {},
   "source": [
    "### Exploratory Data Analysis (EDA)\n",
    "\n",
    "When exploring the database to determine how to pick the best location (and optionally what type of business or businesses to launch), some ideas to consider are:\n",
    "\n",
    "- What types of restaurants are most popular and where?  \n",
    "  - Can we predict the rating of different types of restaurants? \n",
    "  - How does your city compare to other major cities or nearby towns? \n",
    "  - I.e. do coffee shops fair better in Champaign than elsewhere?\n",
    "- What can be learned from the review text itself? \n",
    "  - Whats the sentiment towards different types of eateries? \n",
    "  - What are reviewers talking about the most?\n",
    "- Do users who visit one business tend to visit certain other businesses? \n",
    "  - I.e. do people who like seven saints tend to like _Distihl_? What about their friends?\n",
    "- Is the restaurant selection diverse or homogenous? \n",
    "  - Are there a lot of a few types of restaurants? \n",
    "  - Has this been changing over time? \n",
    "  - Is there a demand for more types of food?\n",
    "- How much does location matter? \n",
    "  - Are there central hubs where restaurants tend to do well in the reviews?\n",
    "\n",
    "These questions are __NOT__ meant to be comprehensive, they are useful starting points. You should try to answer at least three major questions and at least one new question that your group comes up with on their own (i.e. not on the previous list).\n",
    "\n",
    "-----"
   ]
  },
  {
   "cell_type": "markdown",
   "metadata": {},
   "source": [
    "## Objectives\n",
    "\n",
    "### Exposition\n",
    "\n",
    "1. Break the overarching question **_What are consumer's eating habits?_**' into at least 3 smaller sub-questions. \n",
    "2. Explain how answering these contributes to answering the overarching question.\n",
    "\n",
    "### Pull and Process Data\n",
    "\n",
    "1. Use the yelp database to construct datasets to be used in your analysis.\n",
    "2. Create features, preprocess, normalize, cluster, reduce dimensions, etc. as necessary.\n",
    "\n",
    "### Analysis\n",
    "\n",
    "For each of the questions your group decides to answer, approach them in the following manner:\n",
    "\n",
    "1. Question 1\n",
    "   1. Use graphs, machine learning, data aggregation, or anything else needed to answer the question\n",
    "2. Question 2\n",
    "   1. Use graphs, machine learning, data aggregation, or anything else needed to answer the question\n",
    "3. Question 3\n",
    "   1. Use graphs, machine learning, data aggregation, or anything else needed to answer the question\n",
    "3. Question 4\n",
    "   1. Use graphs, machine learning, data aggregation, or anything else needed to answer the question\n",
    "\n",
    "\n",
    "-----"
   ]
  },
  {
   "cell_type": "markdown",
   "metadata": {},
   "source": [
    "### Conclusion\n",
    "\n",
    "Summarize your results, in plain english, as if this is the only part your boss will read. Note your boss is intelligent but has no interest in code or model output, she is only interested in words, pictures, and metrics.\n",
    "\n",
    "-----"
   ]
  },
  {
   "cell_type": "markdown",
   "metadata": {
    "collapsed": true
   },
   "source": [
    "## Notes\n",
    "\n",
    "- Completing the objectives will most likely __NOT__ proceed linearly. Querying data and subsequently analyzing these data will lead to new insights, which will mean extracting more data and performing new analyses. This entire process will also  influence the types of questions you can ask/answer.\n",
    "- The overall [Database schematic][dbs] is available showing the data and their inherent relationships. This should be a starting point for your queries.\n",
    "  - Note, we have not included the photo dataset, this keeps the data volume to a reasonable size.\n",
    "- There is no unique solution to this project, each group should develop a different approach, analysis pipeline, and result.\n",
    "- Your group should have fun with this! This is an open-ended project, which will be similar to what you face next semester in ACCY 575, and in the real world. The Yelp datasets contain a great deal of very interesting information, this is a chance for you to demonstrate to the class your mastery of the subject material, you should have fun exploring.\n",
    "\n",
    "-----\n",
    "\n",
    "[dbs]: https://s3-media2.fl.yelpcdn.com/assets/srv0/engineering_pages/9c5f7a89fd08/assets/img/dataset/yelp_dataset_schema.png"
   ]
  },
  {
   "cell_type": "code",
   "execution_count": 1,
   "metadata": {
    "collapsed": true
   },
   "outputs": [],
   "source": [
    "# Example query to pull reviews for all businesses in Champaign-Urbana\n",
    "query = '''select b.*,\n",
    "                  c.category,\n",
    "                  r.*\n",
    "           from business as b\n",
    "           left join category as c\n",
    "             on b.id = c.business_id\n",
    "           left join review as r\n",
    "             on b.id = r.business_id\n",
    "           where b.city in (\"Champaign\", \"Urbana\")\n",
    "           '''\n",
    "\n",
    "with sql.connect('/home/data_scientist/accy571/readonly/data/yelp.db') as con:\n",
    "    data = pd.read_sql(query, con)"
   ]
  }
 ],
 "metadata": {
  "kernelspec": {
   "display_name": "Python 3",
   "language": "python",
   "name": "python3"
  },
  "language_info": {
   "codemirror_mode": {
    "name": "ipython",
    "version": 3
   },
   "file_extension": ".py",
   "mimetype": "text/x-python",
   "name": "python",
   "nbconvert_exporter": "python",
   "pygments_lexer": "ipython3",
   "version": "3.6.1"
  }
 },
 "nbformat": 4,
 "nbformat_minor": 2
}
