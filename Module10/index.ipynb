{
 "cells": [
  {
   "cell_type": "markdown",
   "metadata": {},
   "source": [
    "# Module 10: Introduction to Probabilistic Modeling\n",
    "\n",
    "This module introduces probabilistic modeling, and in particular Bayesian Model fitting. In the Bayesian approach, we compute the likelihood of a model given observed data. This is a popular technique since we obtain posterior distributions on our model parameters. First, we will review probabilistic programming, before exploring the general concepts in Bayesian model fitting. This will require using the PyMC3 library to compute model parameters, sample from the likelihood, and evaluate the resulting fit. Next, we will learn about hierarchical model fitting, where both the entire data and subsets of the data are fit at the same time. Finally, we will explore general linear modeling, where he model errors are allowed to be non-Gaussian.\n",
    "\n",
    "\n",
    "## Learning Objectives\n",
    "\n",
    "#### By the end of this module, you should be able to:\n",
    "\n",
    "- articulate the basic concepts of probabilistic programming,\n",
    "- explain Bayesian model regression,\n",
    "- describe the fundamentals of hierarchical model fitting,\n",
    "- explain the basic principles of general linear modeling, and\n",
    "- use the PyMC3 library to perform Bayesian model fitting, including both hierarchical models and general linear models.\n",
    "\n",
    "### Activities and Assignments\n",
    "\n",
    "| Activities and Assignments               | Time Estimate | Deadline* | Points |\n",
    "| :--------------------------------------- | ------------- | --------- | -----: |\n",
    "| **[Module 10 Overview Video][wv]**      | 10 Minutes    | Tuesday |    N/A |\n",
    "| **[Module 10 Lesson 1: Introduction to Probabilistic Programming][nb1]** | 1 Hour   | Thursday  |     N/A |\n",
    "| **[Module 10 Lesson 2: Introduction to Bayesian Modeling][nb2]** | 2 Hours | Thursday  |     N/A |\n",
    "| **[Module 10 Lesson 3: Introduction to Hierarchical Modeling][nb3]** | 2 Hours | Thursday  |     N/A |\n",
    "| **[Module 10 Lesson 4: Introduction to General Linear Models][nb4]** | 2 Hours   | Thursday  |   N/A |\n",
    "| **[Module 10 Quiz][wq]**               | 30 Minutes    | Friday    |    25  |\n",
    "| **[Module 10 Assignment][ma]**         | 2 hours    | (following) Tuesday    |    100  |\n",
    "\n",
    "*Please note that unless otherwise noted, the due time is 6pm Central time!\n",
    "\n",
    "----------\n",
    "\n",
    "[nb1]: notebooks/m10l1.ipynb\n",
    "[nb2]: notebooks/m10l2.ipynb\n",
    "[nb3]: notebooks/m10l3.ipynb\n",
    "[nb4]: notebooks/m10l4.ipynb\n",
    "\n",
    "[ma]: https://datascience.business.illinois.edu/user/accy/notebooks/accy571/assignments/Module10/assignment.ipynb\n",
    "\n",
    "[wv]: https://mediaspace.illinois.edu/media/t/1_9ua89kjm/80455691\n",
    "[wq]: https://learn.illinois.edu/mod/quiz/view.php?id=2366479"
   ]
  }
 ],
 "metadata": {
  "kernelspec": {
   "display_name": "Python 3",
   "language": "python",
   "name": "python3"
  },
  "language_info": {
   "codemirror_mode": {
    "name": "ipython",
    "version": 3
   },
   "file_extension": ".py",
   "mimetype": "text/x-python",
   "name": "python",
   "nbconvert_exporter": "python",
   "pygments_lexer": "ipython3",
   "version": "3.6.1"
  }
 },
 "nbformat": 4,
 "nbformat_minor": 2
}
