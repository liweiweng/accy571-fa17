{
 "cells": [
  {
   "cell_type": "markdown",
   "metadata": {},
   "source": [
    "# Module 10: Lesson 3\n",
    "\n",
    "-----\n",
    "\n",
    "## Introduction to Hierarchical Modeling\n",
    "\n",
    "In this lesson, you will learn about hierarchical modeling, in which a Bayesian model is applied to an entire data set and individual data subsets at the same time. This process, which is known as pooling, enables the entire data to guide the model fitting for data subsets. Ideally this improves the model fits to the individual data subsets. Hierarchical modeling is important in many areas, including Bayesian A/B testing.\n",
    "\n",
    "### Objectives\n",
    "\n",
    "By the end of this lesson, you will be able to:\n",
    "\n",
    "- describe the concept of hierarchical modeling,\n",
    "- explain the differences between pooled and unpooled model fits, and\n",
    "- use the PyMC3 library to perform Bayesian Hierarchical Model fitting. \n",
    "\n",
    "\n",
    "### Time Estimate\n",
    "\n",
    "Approximately 2 hours.\n",
    "\n",
    "### Activities\n",
    "\n",
    "Video: Watch the [Introduction to Hierarchical Modeling][lv] video, which will discuss how to perform hierarchical model fitting and introduce A/B testing.\n",
    "\n",
    "Reading: Tutorial on Bayesian Modeling in Python, [Section 3][bmps3]  \n",
    "Reading: Blog article on [Bayesian A/B/ Testing][bbabt] (Note this was written for PyMC2)  \n",
    "Reading: Introduction to [Hierarchical Modeling with PyMC3][ihm] \n",
    "\n",
    "\n",
    "Notebook: Read and complete the practice exercises in the [Introduction to Hierarchical Modeling][l3nb] notebook.\n",
    "\n",
    "------\n",
    "\n",
    "[bbabt]: http://blog.dominodatalab.com/ab-testing-with-hierarchical-models-in-python/\n",
    "\n",
    "[ihm]: https://pymc-devs.github.io/pymc3/notebooks/GLM-hierarchical.html\n",
    "\n",
    "[bmps3]: http://nbviewer.jupyter.org/github/markdregan/Bayesian-Modelling-in-Python/blob/master/Section%203.%20Hierarchical%20modelling.ipynb\n",
    "\n",
    "[lv]: https://mediaspace.illinois.edu/media/\n",
    "\n",
    "[l3nb]: intro2pp-hm.ipynb"
   ]
  }
 ],
 "metadata": {
  "kernelspec": {
   "display_name": "Python 3",
   "language": "python",
   "name": "python3"
  },
  "language_info": {
   "codemirror_mode": {
    "name": "ipython",
    "version": 3
   },
   "file_extension": ".py",
   "mimetype": "text/x-python",
   "name": "python",
   "nbconvert_exporter": "python",
   "pygments_lexer": "ipython3",
   "version": "3.6.1"
  }
 },
 "nbformat": 4,
 "nbformat_minor": 2
}
