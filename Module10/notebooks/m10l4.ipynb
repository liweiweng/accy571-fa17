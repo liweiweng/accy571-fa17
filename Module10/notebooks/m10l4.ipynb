{
 "cells": [
  {
   "cell_type": "markdown",
   "metadata": {},
   "source": [
    "# Module 10: Lesson 4\n",
    "\n",
    "-----\n",
    "\n",
    "## Introduction to General Linear Models\n",
    "\n",
    "In this lesson, you will learn about general linear models. A general linear model is a flexible approach to computing model fits to the observed data where the model errors can be non-Gaussian. As was the case with linear regression, the model terms can be non-linear, however, they can't include combinations of different terms. For example, a quadratic term is allowed, but we can't have `x1 * x2`. We will use the PyMC3 library to quickly and easily compute general linear models within a Bayesian framework.\n",
    "\n",
    "\n",
    "### Objectives\n",
    "\n",
    "By the end of this lesson, you will be able to:\n",
    "\n",
    "- explain the basic concepts of general linear models,  \n",
    "- describe the application of general linear models in a Bayesian framework, and\n",
    "- use the PyMC3 library to compute general linear models.\n",
    "\n",
    "### Time Estimate\n",
    "\n",
    "Approximately 2 hours.\n",
    "\n",
    "### Activities\n",
    "\n",
    "Video: Watch the [Introduction to General Linear Models][lv] video, which will introduce general linear modeling and demonstrate how to compute a GLM by using PyMC3.\n",
    "\n",
    "Reading: Tutorial on Bayesian Modeling in Python, [Section 4][bmps4]  \n",
    "Reading: PyMC3 [Robust Regression][pymc3rr] Example  \n",
    "Reading: PyMC3 [Robust Regression with Outliers][pymc3rro] Example  \n",
    "Reading: Wikipedia article on [General Linear Models][wglm]  \n",
    "\n",
    "\n",
    "\n",
    "Notebook: Read and complete the practice exercises in the [Introduction to General Linear Models][l3nb] notebook.\n",
    "\n",
    "------\n",
    "\n",
    "[wglm]: https://en.wikipedia.org/wiki/Generalized_linear_model\n",
    "\n",
    "[pymc3rr]: https://pymc-devs.github.io/pymc3/notebooks/GLM-robust.html\n",
    "[pymc3rro]: https://pymc-devs.github.io/pymc3/notebooks/GLM-robust-with-outlier-detection.html\n",
    "[bmps4]: http://nbviewer.jupyter.org/github/markdregan/Bayesian-Modelling-in-Python/blob/master/Section%204.%20Bayesian%20regression.ipynb\n",
    "\n",
    "[lv]: https://mediaspace.illinois.edu/media/\n",
    "\n",
    "[l3nb]: intro2pp-glm.ipynb"
   ]
  }
 ],
 "metadata": {
  "kernelspec": {
   "display_name": "Python 3",
   "language": "python",
   "name": "python3"
  },
  "language_info": {
   "codemirror_mode": {
    "name": "ipython",
    "version": 3
   },
   "file_extension": ".py",
   "mimetype": "text/x-python",
   "name": "python",
   "nbconvert_exporter": "python",
   "pygments_lexer": "ipython3",
   "version": "3.6.1"
  }
 },
 "nbformat": 4,
 "nbformat_minor": 2
}
