{
 "cells": [
  {
   "cell_type": "markdown",
   "metadata": {},
   "source": [
    "# Introduction to Probabilistic Programming\n",
    "\n",
    "-----"
   ]
  },
  {
   "cell_type": "markdown",
   "metadata": {},
   "source": [
    "In this notebook, we build \n",
    "\n",
    "-----\n",
    "\n",
    "[1]: https://github.com/ericmjl/bayesian-analysis-recipes/blob/master/poisson-regression.ipynb\n",
    "[2]: https://gist.github.com/AustinRochford/d83ecc6acd17a632a2b9df788386540b"
   ]
  },
  {
   "cell_type": "markdown",
   "metadata": {},
   "source": [
    "## Table of Contents\n",
    "\n",
    "[](#)\n",
    "\n",
    "[](#)\n",
    "\n",
    "\n",
    "-----\n",
    "\n",
    "Before proceeding with the rest of this notebook, we first include the notebook setup code.\n",
    "\n",
    "-----"
   ]
  },
  {
   "cell_type": "code",
   "execution_count": 1,
   "metadata": {
    "collapsed": true
   },
   "outputs": [],
   "source": [
    "# Set up Notebook\n",
    "\n",
    "% matplotlib inline\n",
    "\n",
    "# Standard imports\n",
    "import numpy as np\n",
    "import pandas as pd\n",
    "import matplotlib.pyplot as plt\n",
    "import seaborn as sns\n",
    "\n",
    "# These two lines suppress warnings that sometimes\n",
    "# occur when making visualizations\n",
    "import warnings\n",
    "warnings.filterwarnings('ignore')\n",
    "\n",
    "# Set global figure properties\n",
    "import matplotlib as mpl\n",
    "mpl.rcParams.update({'axes.titlesize' : 20,\n",
    "                     'axes.labelsize' : 18,\n",
    "                     'legend.fontsize': 16})\n",
    "\n",
    "# Set default Seaborn plotting style\n",
    "sns.set_style('white')"
   ]
  },
  {
   "cell_type": "markdown",
   "metadata": {},
   "source": [
    "-----\n",
    "\n",
    "[[Back to TOC]](#Table-of-Contents)\n",
    "\n",
    "## XXX YYY\n",
    "\n",
    "A \n",
    "\n",
    "-----\n",
    "[wcn]: https://en.wikipedia.org/\n"
   ]
  },
  {
   "cell_type": "code",
   "execution_count": 5,
   "metadata": {
    "collapsed": true
   },
   "outputs": [],
   "source": [
    "# The following example follows the first case study from pymc3 documentation\n",
    "# http://pymc-devs.github.io/pymc3/getting_started/#case-study-1-stochastic-volatility\n",
    "\n",
    "import pymc3 as pm"
   ]
  },
  {
   "cell_type": "code",
   "execution_count": 6,
   "metadata": {
    "collapsed": true
   },
   "outputs": [],
   "source": [
    "n_samples = 10000\n",
    "\n",
    "with pm.Model() as linear_model:\n",
    "    \n",
    "    # First, define stohastic model variables\n",
    "    intercept = pm.Uniform('Intercept', lower = 0, upper = 1)\n",
    "    slope = pm.Normal('Slope', mu = 1.0, sd = 1.0)\n",
    "        \n",
    "    # Now define stochastic variable for observation errors.    \n",
    "    sigma = pm.Normal('sigma', mu = 1., sd = 2.0) #beta=10, testval=1.)\n",
    "\n",
    "    # Expected values using original indepedent variables\n",
    "    # Deterministic Variable\n",
    "    y_exp =  intercept + slope* x\n",
    "    \n",
    "    # Sample values (likelihood)\n",
    "    likelihood = pm.Normal('y', mu=y_exp, sd=sigma, observed=y)"
   ]
  },
  {
   "cell_type": "code",
   "execution_count": null,
   "metadata": {
    "collapsed": true
   },
   "outputs": [],
   "source": [
    "import scipy.stats as sts\n",
    "\n",
    "# Compute priors\n",
    "slope_rv = sts.norm(loc=1.0, scale=1.0)\n",
    "intercept_rv = sts.uniform(loc=0.0, scale=1.0)\n",
    "\n",
    "# Create figure\n",
    "fig, axs = plt.subplots(figsize=(12,6), nrows=1, ncols=2)\n",
    "\n",
    "# Plot slope prior\n",
    "x_pts = np.linspace(-1.75, 3.75, 100)\n",
    "axs[0].plot(x_pts, slope_rv.pdf(x_pts), c=sns.xkcd_rgb['dusty purple'], lw=3)\n",
    "axs[0].set(title='Slope Prior', xlim=(-2, 4), ylim=(0.0, 0.5))\n",
    "\n",
    "# Plot interecpt prior\n",
    "x_pts = np.linspace(-0.5, 1.5, 100)\n",
    "axs[1].plot(x_pts, intercept_rv.pdf(x_pts), c=sns.xkcd_rgb['windows blue'], lw=3)\n",
    "axs[1].set(title='Intercept Prior', ylim=(0.0, 1.1))\n",
    "\n",
    "sns.despine(offset=5, trim=True)"
   ]
  },
  {
   "cell_type": "markdown",
   "metadata": {},
   "source": [
    "-----\n",
    "\n",
    "<font color='red' size = '5'> Student Exercise </font>\n",
    "\n",
    "\n",
    "In the preceding cells, we introduced the **XYZ**. Now that you have run the notebook, go back and make the following changes to see how the results change.\n",
    "\n",
    "1. Change the \n",
    "2. Try \n",
    "3. Try \n",
    "\n",
    "-----"
   ]
  },
  {
   "cell_type": "markdown",
   "metadata": {},
   "source": [
    "## Ancillary Information\n",
    "\n",
    "The following links are to additional documentation that you might find helpful in learning this material. Reading these web-accessible documents is completely optional.\n",
    "\n",
    "12. Wikipedia article on [Probabilistic Programming][wpp] languages\n",
    "3. Introduction to [Probabilistic Programming][gpp]\n",
    "45. Overview of [Probabilistic Programming][ipp]\n",
    "12. Discussion on [Probabilistic Programming][ppe]\n",
    "3. Notebook introduction to [Probabilistic Programming][npp]\n",
    "3. Chapter one on [Introducing PyMC3][bmh1] from _Bayesian Method for Hackers_ by Cam Davidson Pilon\n",
    "12. PyMC3 documentation on [getting started with PyMC3][ipymc3]\n",
    "13. Discussion on algorithms [behind Probabilistic Programming][ffl] along with a [demonstration of Probabilistic Programming][fflrn]\n",
    "14. Chapter one [introducing Probabilistic Programming][mpp1] from _Practical Probabilistic Programming_ by Avi Pfeffer\n",
    "15. Demonstration of Probabilistic Programming by calculating how to prepare for [soccer free kicks][spp]\n",
    "143. Overview of [Probabilistic Programming][opp]\n",
    "22. Notebook demonstration of [Probabilistic Programming][npp]\n",
    "54. Overview on the differences between [frequentist and Bayesian statistical modeling][jvdp]\n",
    "\n",
    "-----\n",
    "\n",
    "[npp]: https://github.com/jdwittenauer/ipython-notebooks/blob/master/notebooks/misc/ProbablisticProgramming.ipynb\n",
    "[gpp]: https://github.com/zipfian/probabilistic-programming-intro\n",
    "[ipp]: https://github.com/fastforwardlabs/probabilistic-programming-from-scratch/blob/master/probabilistic-programming-from-scratch.ipynb\n",
    "\n",
    "[wpp]: https://en.wikipedia.org/wiki/Probabilistic_programming_language\n",
    "\n",
    "[aibpymc3]: http://blog.applied.ai/bayesian-inference-with-pymc3-part-1/\n",
    "\n",
    "[bmh1]: https://github.com/CamDavidsonPilon/Probabilistic-Programming-and-Bayesian-Methods-for-Hackers/blob/master/Chapter1_Introduction/Ch1_Introduction_PyMC3.ipynb\n",
    "\n",
    "[ipymc3]: https://pymc-devs.github.io/pymc3/notebooks/getting_started.html\n",
    "\n",
    "[jvdp]: https://jakevdp.github.io/blog/2014/06/14/frequentism-and-bayesianism-4-bayesian-in-python/\n",
    "\n",
    "[ffl]: http://blog.fastforwardlabs.com/2017/01/30/the-algorithms-behind-probabilistic-programming.html\n",
    "\n",
    "[fflrn]: http://fastforwardlabs.github.io/pre/#/probability/1000000-50/2016/all_boroughs/all_neighborhoods?explainer=true&_k=3dirsi\n",
    "\n",
    "[mpp1]: https://livebook.manning.com/#!/book/practical-probabilistic-programming/chapter-1/1\n",
    "\n",
    "[ppe]: http://www.pl-enthusiast.net/2014/09/08/probabilistic-programming/\n",
    "\n",
    "[bps]: http://austinrochford.com/posts/2017-10-02-bayes-param-survival.html\n",
    "\n",
    "[npp]: http://nbviewer.jupyter.org/github/jdwittenauer/ipython-notebooks/blob/master/notebooks/misc/ProbablisticProgramming.ipynb\n",
    "\n",
    "[opp]: https://gist.github.com/AustinRochford/d83ecc6acd17a632a2b9df788386540b\n",
    "\n",
    "[spp]: http://www.americansocceranalysis.com/home/2017/11/6/whats-the-point-of-practicing-penalties"
   ]
  },
  {
   "cell_type": "markdown",
   "metadata": {
    "deletable": false,
    "editable": false
   },
   "source": [
    "**&copy; 2017: Robert J. Brunner at the University of Illinois.**\n",
    "\n",
    "This notebook is released under the [Creative Commons license CC BY-NC-SA 4.0][ll]. Any reproduction, adaptation, distribution, dissemination or making available of this notebook for commercial use is not allowed unless authorized in writing by the copyright holder.\n",
    "\n",
    "[ll]: https://creativecommons.org/licenses/by-nc-sa/4.0/legalcode"
   ]
  }
 ],
 "metadata": {
  "kernelspec": {
   "display_name": "Python 3",
   "language": "python",
   "name": "python3"
  },
  "language_info": {
   "codemirror_mode": {
    "name": "ipython",
    "version": 3
   },
   "file_extension": ".py",
   "mimetype": "text/x-python",
   "name": "python",
   "nbconvert_exporter": "python",
   "pygments_lexer": "ipython3",
   "version": "3.6.1"
  }
 },
 "nbformat": 4,
 "nbformat_minor": 1
}
