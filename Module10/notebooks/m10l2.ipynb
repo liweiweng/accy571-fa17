{
 "cells": [
  {
   "cell_type": "markdown",
   "metadata": {},
   "source": [
    "# Module 10: Lesson 2\n",
    "\n",
    "-----\n",
    "\n",
    "## Introduction to Bayesian Modeling\n",
    "\n",
    "In this lesson, you will about Bayesian Modeling, in which we apply Bayes rule to compute the likelihood of a model fitting a particular data set. In this approach, we encapsulate our prior knowledge of model parameters, and use the observed data to compute the likelihood of the model. By sampling from this likelihood we can compute posterior distributions for our model parameters, which allows us to fully specify the best fitting model to our data. This sampling process uses a technique known as Monte Carlo Markov Chains (MCMC). To perform Bayesian modeling, we will use the PyMC3 library.\n",
    "\n",
    "\n",
    "### Objectives\n",
    "\n",
    "By the end of this lesson, you will be able to:\n",
    "\n",
    "- explain the basic concepts behind Bayesian modeling,\n",
    "- discuss different prior distributions, and\n",
    "- use the PyMC3 library to perform Bayesian modeling.\n",
    "\n",
    "### Time Estimate\n",
    "\n",
    "Approximately 2 hours.\n",
    "\n",
    "### Activities\n",
    "\n",
    "Video: Watch the [Introduction to Bayesian Modeling][lv] video, which will introduce how to perform Bayesian model fitting by using the PyMC3 library.\n",
    "\n",
    "Reading: Applied AI blog on [Bayesian Inference with PyMC3][aibpymc3]  \n",
    "Reading: Tutorial on Bayesian Modeling in Python, [Section 1][bmps1] and [Section 2][bmps2]  \n",
    "Reading: Introduction to [PyMC3][ipymc3]  \n",
    "\n",
    "Notebook: Read and complete the practice exercises in the [Introduction to Bayesian Modeling][intro2bm] notebook.\n",
    "\n",
    "------\n",
    "\n",
    "[aibpymc3]: http://blog.applied.ai/bayesian-inference-with-pymc3-part-1/\n",
    "\n",
    "[bmps1]: http://nbviewer.jupyter.org/github/markdregan/Bayesian-Modelling-in-Python/blob/master/Section%201.%20Estimating%20model%20parameters.ipynb\n",
    "\n",
    "[bmps2]: http://nbviewer.ipython.org/github/markdregan/Bayesian-Modelling-in-Python/blob/master/Section%202.%20Model%20checking.ipynb\n",
    "\n",
    "[ipymc3]: https://pymc-devs.github.io/pymc3/notebooks/getting_started.html\n",
    "\n",
    "\n",
    "[lv]: https://mediaspace.illinois.edu/media/\n",
    "\n",
    "[intro2bm]: intro2pp-bm.ipynb"
   ]
  }
 ],
 "metadata": {
  "kernelspec": {
   "display_name": "Python 3",
   "language": "python",
   "name": "python3"
  },
  "language_info": {
   "codemirror_mode": {
    "name": "ipython",
    "version": 3
   },
   "file_extension": ".py",
   "mimetype": "text/x-python",
   "name": "python",
   "nbconvert_exporter": "python",
   "pygments_lexer": "ipython3",
   "version": "3.6.1"
  }
 },
 "nbformat": 4,
 "nbformat_minor": 2
}
