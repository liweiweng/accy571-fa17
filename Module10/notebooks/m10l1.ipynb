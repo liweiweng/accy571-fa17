{
 "cells": [
  {
   "cell_type": "markdown",
   "metadata": {},
   "source": [
    "# Module 10: Lesson 1\n",
    "\n",
    "-----\n",
    "\n",
    "##  Introduction to Probabilistic Programming\t\n",
    "\n",
    "Most analytic scripts or programs that we have developed have been deterministic, meaning every time the code runs the same process is repeated generating the same answer. The real world, however, is filled with uncertainty. Will it rain today? How bad will the the traffic be on my commute? How many emails will I have to respond to today? How will our sales change over the next quarter? To develop analytic scripts that can handle uncertainty, we must switch to a new programming paradigm that models the process of interest and performs inference to determine the best model parameters. While more complicated than the traditional approach, this new paradigm generates both answers as well as a quantification of the uncertainty on those answers. To perform probabilistic programming in Python we will use the PyMC3 library.\n",
    "\n",
    "### Objectives\n",
    "\n",
    "By the end of this lesson, you will be able to \n",
    "\n",
    "- build a simple inference model,\n",
    "- explain the basic concepts behind probabilistic programming, and\n",
    "- construct a probabilistic model by using the PyMC3 library.\n",
    "\n",
    "### Time Estimate\n",
    "\n",
    "Approximately 1 hour.\n",
    "\n",
    "### Activities\n",
    "\n",
    "Video: Watch the [Introduction to Probabilistic Programming][lv] video, which will introduce this new programing paradigm and review the construction of a simple model.\n",
    "\n",
    "Reading: A quick overview of [probabilistic programming][ffl] from fast forward labs  \n",
    "Reading: A demonstration of [probabilistic programming][fflrn] from fast forward labs for estimating the likelihood of purchasing real estate in NYC.\n",
    "\n",
    "Notebook: Read and complete the practice exercises in the [Introduction to Probabilistic Programming][intro2pp] notebook.\n",
    "\n",
    "\n",
    "------\n",
    "\n",
    "[ffl]: http://blog.fastforwardlabs.com/2017/01/30/the-algorithms-behind-probabilistic-programming.html\n",
    "\n",
    "[fflrn]: http://fastforwardlabs.github.io/pre/#/probability/1000000-50/2016/all_boroughs/all_neighborhoods?explainer=true&_k=3dirsi\n",
    "\n",
    "[lv]: https://mediaspace.illinois.edu/media/\n",
    "\n",
    "[intro2pp]: intro2pp.ipynb"
   ]
  }
 ],
 "metadata": {
  "kernelspec": {
   "display_name": "Python 3",
   "language": "python",
   "name": "python3"
  },
  "language_info": {
   "codemirror_mode": {
    "name": "ipython",
    "version": 3
   },
   "file_extension": ".py",
   "mimetype": "text/x-python",
   "name": "python",
   "nbconvert_exporter": "python",
   "pygments_lexer": "ipython3",
   "version": "3.6.1"
  }
 },
 "nbformat": 4,
 "nbformat_minor": 2
}
