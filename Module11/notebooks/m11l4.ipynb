{
 "cells": [
  {
   "cell_type": "markdown",
   "metadata": {},
   "source": [
    "# Module 11: Lesson 4\n",
    "\n",
    "-----\n",
    "\n",
    "## Introduction to Fourier Analysis\n",
    "\n",
    "This lesson introduces Fourier analysis, which can be used to decompose, or model, a time series data set into periodic components. \n",
    "\n",
    "### Objectives\n",
    "\n",
    "By the end of this lesson, you will be able to \n",
    "\n",
    "- explain the relation between time and frequency space,\n",
    "- describe how Fourier analysis can model periodic time series components, and\n",
    "- apply Fourier analysis to a simple time series data set in Python.\n",
    "\n",
    "### Time Estimate\n",
    "\n",
    "Approximately 2 hours.\n",
    "\n",
    "### Activities\n",
    "\n",
    "Video: Watch the [Introduction to Fourier Analysis][lv] video, which will discuss how Fourier analysis can effectively model periodic components of time series data.\n",
    "\n",
    "Reading: Read about the different [colors of noise][con]\n",
    "\n",
    "Reading: Read the interactive guide to the [Fourier Transform][beft]\n",
    "\n",
    "Reading: Read the Dummies guide to the [Fourier Transform][pft] using Python\n",
    "\n",
    "Notebook: Read and complete the practice exercises in the [Introduction to Fourier Analysis][intro2fft] notebook.\n",
    "\n",
    "------\n",
    "\n",
    "[con]: https://www.johndcook.com/blog/2015/12/07/colors-of-noise/\n",
    "\n",
    "[beft]: https://betterexplained.com/articles/an-interactive-guide-to-the-fourier-transform/\n",
    "\n",
    "[pft]: https://nipunbatra.github.io/blog/2016/FT.html\n",
    "\n",
    "[lv]: https://mediaspace.illinois.edu/media/t/1_dhj0h8be/80455691\n",
    "\n",
    "[intro2fft]: intro2fft.ipynb"
   ]
  }
 ],
 "metadata": {
  "kernelspec": {
   "display_name": "Python 3",
   "language": "python",
   "name": "python3"
  },
  "language_info": {
   "codemirror_mode": {
    "name": "ipython",
    "version": 3
   },
   "file_extension": ".py",
   "mimetype": "text/x-python",
   "name": "python",
   "nbconvert_exporter": "python",
   "pygments_lexer": "ipython3",
   "version": "3.6.1"
  }
 },
 "nbformat": 4,
 "nbformat_minor": 2
}
