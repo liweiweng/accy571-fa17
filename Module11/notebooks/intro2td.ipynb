{
 "cells": [
  {
   "cell_type": "markdown",
   "metadata": {},
   "source": [
    "# Working with Dates and Times\n",
    "\n",
    "-----"
   ]
  },
  {
   "cell_type": "markdown",
   "metadata": {},
   "source": [
    "In this notebook, we introduce how to work efficiently with dates and times in Python.\n",
    "\n",
    "-----\n"
   ]
  },
  {
   "cell_type": "markdown",
   "metadata": {},
   "source": [
    "## Table of Contents\n",
    "\n",
    "[Time](#Working-with-Times)\n",
    "\n",
    "[Working with Dates](#Working-with-Dates)\n",
    "\n",
    "[Working with Times](#Working-with-Times)\n",
    "\n",
    "\n",
    "[](#)\n",
    "\n",
    "\n",
    "[](#)\n",
    "\n",
    "\n",
    "[](#)\n",
    "\n",
    "\n",
    "-----\n",
    "\n",
    "Before proceeding with the rest of this notebook, we first include the notebook setup code.\n",
    "\n",
    "-----"
   ]
  },
  {
   "cell_type": "code",
   "execution_count": 1,
   "metadata": {
    "collapsed": true
   },
   "outputs": [],
   "source": [
    "# Set up Notebook\n",
    "\n",
    "% matplotlib inline\n",
    "\n",
    "# Standard imports\n",
    "import numpy as np\n",
    "import pandas as pd\n",
    "import matplotlib.pyplot as plt\n",
    "import seaborn as sns\n",
    "\n",
    "# These two lines suppress warnings that sometimes\n",
    "# occur when making visualizations\n",
    "import warnings\n",
    "warnings.filterwarnings('ignore')\n",
    "\n",
    "# Set global figure properties\n",
    "import matplotlib as mpl\n",
    "mpl.rcParams.update({'axes.titlesize' : 20,\n",
    "                     'axes.labelsize' : 18,\n",
    "                     'legend.fontsize': 16})\n",
    "\n",
    "# Set default Seaborn plotting style\n",
    "sns.set_style('white')"
   ]
  },
  {
   "cell_type": "markdown",
   "metadata": {},
   "source": [
    "-----\n",
    "\n",
    "[[Back to TOC]](#Table-of-Contents)\n",
    "\n",
    "## Time\n",
    "\n",
    "TEXT\n",
    "\n",
    "https://docs.python.org/3/library/datetime.html\n",
    "\n",
    "-----\n",
    "\n"
   ]
  },
  {
   "cell_type": "code",
   "execution_count": 2,
   "metadata": {
    "collapsed": true
   },
   "outputs": [],
   "source": [
    "import time as tm"
   ]
  },
  {
   "cell_type": "code",
   "execution_count": 3,
   "metadata": {},
   "outputs": [
    {
     "name": "stdout",
     "output_type": "stream",
     "text": [
      "Thu Jan  1 00:00:00 1970\n"
     ]
    }
   ],
   "source": [
    "print(tm.ctime(0))"
   ]
  },
  {
   "cell_type": "code",
   "execution_count": 4,
   "metadata": {},
   "outputs": [
    {
     "name": "stdout",
     "output_type": "stream",
     "text": [
      "Sun Sep  9 01:46:40 2001\n"
     ]
    }
   ],
   "source": [
    "print(tm.ctime(1E9))"
   ]
  },
  {
   "cell_type": "code",
   "execution_count": 5,
   "metadata": {},
   "outputs": [
    {
     "name": "stdout",
     "output_type": "stream",
     "text": [
      "Sat Nov 20 17:46:40 2286\n"
     ]
    }
   ],
   "source": [
    "print(tm.ctime(1E10))"
   ]
  },
  {
   "cell_type": "code",
   "execution_count": 6,
   "metadata": {},
   "outputs": [
    {
     "data": {
      "text/plain": [
       "time.struct_time(tm_year=2017, tm_mon=11, tm_mday=22, tm_hour=1, tm_min=43, tm_sec=50, tm_wday=2, tm_yday=326, tm_isdst=0)"
      ]
     },
     "execution_count": 6,
     "metadata": {},
     "output_type": "execute_result"
    }
   ],
   "source": [
    "tm.localtime()"
   ]
  },
  {
   "cell_type": "code",
   "execution_count": 7,
   "metadata": {},
   "outputs": [
    {
     "name": "stdout",
     "output_type": "stream",
     "text": [
      "time.struct_time(tm_year=2017, tm_mon=11, tm_mday=22, tm_hour=1, tm_min=43, tm_sec=50, tm_wday=2, tm_yday=326, tm_isdst=0)\n",
      "1511315030.1785784\n"
     ]
    },
    {
     "data": {
      "text/plain": [
       "time.struct_time(tm_year=2017, tm_mon=11, tm_mday=22, tm_hour=1, tm_min=43, tm_sec=50, tm_wday=2, tm_yday=326, tm_isdst=0)"
      ]
     },
     "execution_count": 7,
     "metadata": {},
     "output_type": "execute_result"
    }
   ],
   "source": [
    "print(tm.localtime())\n",
    "print(tm.time())\n",
    "\n",
    "\n",
    "tm.gmtime()"
   ]
  },
  {
   "cell_type": "code",
   "execution_count": 8,
   "metadata": {},
   "outputs": [
    {
     "data": {
      "text/plain": [
       "time.struct_time(tm_year=1970, tm_mon=1, tm_mday=1, tm_hour=0, tm_min=0, tm_sec=0, tm_wday=3, tm_yday=1, tm_isdst=0)"
      ]
     },
     "execution_count": 8,
     "metadata": {},
     "output_type": "execute_result"
    }
   ],
   "source": [
    "tm.gmtime(0)"
   ]
  },
  {
   "cell_type": "code",
   "execution_count": 9,
   "metadata": {},
   "outputs": [
    {
     "data": {
      "text/plain": [
       "1511315030.0"
      ]
     },
     "execution_count": 9,
     "metadata": {},
     "output_type": "execute_result"
    }
   ],
   "source": [
    "tm.mktime(tm.localtime())"
   ]
  },
  {
   "cell_type": "code",
   "execution_count": 10,
   "metadata": {},
   "outputs": [
    {
     "name": "stdout",
     "output_type": "stream",
     "text": [
      "time.struct_time(tm_year=2017, tm_mon=11, tm_mday=22, tm_hour=1, tm_min=43, tm_sec=50, tm_wday=2, tm_yday=326, tm_isdst=0)\n"
     ]
    },
    {
     "data": {
      "text/plain": [
       "0"
      ]
     },
     "execution_count": 10,
     "metadata": {},
     "output_type": "execute_result"
    }
   ],
   "source": [
    "print(tm.localtime())\n",
    "a = tm.localtime()\n",
    "a.tm_gmtoff"
   ]
  },
  {
   "cell_type": "code",
   "execution_count": 13,
   "metadata": {},
   "outputs": [
    {
     "name": "stdout",
     "output_type": "stream",
     "text": [
      "2017-11-22 01:44:35.716091\n",
      "2017-11-22 01:44:35.716986\n",
      "10:02:12.002300\n"
     ]
    }
   ],
   "source": [
    "from datetime import datetime as dt\n",
    "\n",
    "from datetime import time\n",
    "\n",
    "now = time()\n",
    "\n",
    "print(dt.now())\n",
    "print(dt.utcnow())\n",
    "print(time(10, 2, 12, 2300))"
   ]
  },
  {
   "cell_type": "code",
   "execution_count": 15,
   "metadata": {
    "collapsed": true
   },
   "outputs": [],
   "source": [
    "from dateutil import tz\n",
    "\n",
    "HERE = tz.tzlocal()\n",
    "\n",
    "lcl = tz.gettz('America/Chicago')"
   ]
  },
  {
   "cell_type": "code",
   "execution_count": 16,
   "metadata": {},
   "outputs": [
    {
     "data": {
      "text/plain": [
       "tzutc()"
      ]
     },
     "execution_count": 16,
     "metadata": {},
     "output_type": "execute_result"
    }
   ],
   "source": [
    "tz.tzutc()"
   ]
  },
  {
   "cell_type": "code",
   "execution_count": 17,
   "metadata": {},
   "outputs": [
    {
     "data": {
      "text/plain": [
       "datetime.datetime(2017, 11, 22, 1, 44, 54, 176847, tzinfo=tzutc())"
      ]
     },
     "execution_count": 17,
     "metadata": {},
     "output_type": "execute_result"
    }
   ],
   "source": [
    "dt.now(tz.tzutc())"
   ]
  },
  {
   "cell_type": "code",
   "execution_count": 18,
   "metadata": {},
   "outputs": [
    {
     "data": {
      "text/plain": [
       "datetime.datetime(2017, 11, 21, 19, 44, 54, 552697, tzinfo=tzoffset('America/Chicago', -21600))"
      ]
     },
     "execution_count": 18,
     "metadata": {},
     "output_type": "execute_result"
    }
   ],
   "source": [
    "dt.now(tz.tzoffset('America/Chicago', -6 * 3600))"
   ]
  },
  {
   "cell_type": "code",
   "execution_count": 19,
   "metadata": {},
   "outputs": [
    {
     "data": {
      "text/plain": [
       "datetime.datetime(2017, 11, 22, 1, 44, 54, 784465, tzinfo=datetime.timezone(datetime.timedelta(0), 'UTC'))"
      ]
     },
     "execution_count": 19,
     "metadata": {},
     "output_type": "execute_result"
    }
   ],
   "source": [
    "dt.now(tz.tzoffset('America/Chicago', 6)).astimezone()"
   ]
  },
  {
   "cell_type": "code",
   "execution_count": 20,
   "metadata": {},
   "outputs": [
    {
     "data": {
      "text/plain": [
       "'America/Chicago'"
      ]
     },
     "execution_count": 20,
     "metadata": {},
     "output_type": "execute_result"
    }
   ],
   "source": [
    "dt.now(tz.tzoffset('America/Chicago', 6)).tzname()"
   ]
  },
  {
   "cell_type": "code",
   "execution_count": 23,
   "metadata": {},
   "outputs": [
    {
     "data": {
      "text/plain": [
       "'2017-11-22T02:45:01.802655+01:00'"
      ]
     },
     "execution_count": 23,
     "metadata": {},
     "output_type": "execute_result"
    }
   ],
   "source": [
    "dt.now(tz.gettz('Europe/Madrid')).isoformat()"
   ]
  },
  {
   "cell_type": "code",
   "execution_count": 24,
   "metadata": {},
   "outputs": [
    {
     "data": {
      "text/plain": [
       "'2017-11-21T19:45:02.074630-06:00'"
      ]
     },
     "execution_count": 24,
     "metadata": {},
     "output_type": "execute_result"
    }
   ],
   "source": [
    "dt.now(tz.gettz('America/Chicago')).isoformat()"
   ]
  },
  {
   "cell_type": "code",
   "execution_count": 25,
   "metadata": {},
   "outputs": [
    {
     "data": {
      "text/plain": [
       "datetime.datetime(2017, 11, 21, 19, 45, 2, 298063, tzinfo=tzfile('/usr/share/zoneinfo/America/Chicago'))"
      ]
     },
     "execution_count": 25,
     "metadata": {},
     "output_type": "execute_result"
    }
   ],
   "source": [
    "dt.now(tz.gettz('America/Chicago'))"
   ]
  },
  {
   "cell_type": "code",
   "execution_count": null,
   "metadata": {
    "collapsed": true
   },
   "outputs": [],
   "source": []
  },
  {
   "cell_type": "code",
   "execution_count": 26,
   "metadata": {},
   "outputs": [
    {
     "name": "stdout",
     "output_type": "stream",
     "text": [
      "tzfile('/usr/share/zoneinfo/America/Chicago')\n"
     ]
    },
    {
     "ename": "TypeError",
     "evalue": "descriptor 'utcoffset' requires a 'datetime.timezone' object but received a 'tzfile'",
     "output_type": "error",
     "traceback": [
      "\u001b[0;31m---------------------------------------------------------------------------\u001b[0m",
      "\u001b[0;31mTypeError\u001b[0m                                 Traceback (most recent call last)",
      "\u001b[0;32m<ipython-input-26-07e9a92f5f62>\u001b[0m in \u001b[0;36m<module>\u001b[0;34m()\u001b[0m\n\u001b[1;32m      5\u001b[0m \u001b[0mprint\u001b[0m\u001b[0;34m(\u001b[0m\u001b[0mlcl\u001b[0m\u001b[0;34m)\u001b[0m\u001b[0;34m\u001b[0m\u001b[0m\n\u001b[1;32m      6\u001b[0m \u001b[0;34m\u001b[0m\u001b[0m\n\u001b[0;32m----> 7\u001b[0;31m \u001b[0mprint\u001b[0m\u001b[0;34m(\u001b[0m\u001b[0mtimezone\u001b[0m\u001b[0;34m.\u001b[0m\u001b[0mutcoffset\u001b[0m\u001b[0;34m(\u001b[0m\u001b[0mlcl\u001b[0m\u001b[0;34m)\u001b[0m\u001b[0;34m)\u001b[0m\u001b[0;31m# tz.gettz('America/Chicago')))\u001b[0m\u001b[0;34m\u001b[0m\u001b[0m\n\u001b[0m",
      "\u001b[0;31mTypeError\u001b[0m: descriptor 'utcoffset' requires a 'datetime.timezone' object but received a 'tzfile'"
     ]
    }
   ],
   "source": [
    "from datetime import timezone\n",
    "\n",
    "#timezone(HERE)\n",
    "\n",
    "print(lcl)\n",
    "\n",
    "print(timezone.utcoffset(lcl))# tz.gettz('America/Chicago')))"
   ]
  },
  {
   "cell_type": "code",
   "execution_count": 28,
   "metadata": {},
   "outputs": [
    {
     "name": "stdout",
     "output_type": "stream",
     "text": [
      "2017-11-22T01:45:11.060466+00:00\n"
     ]
    }
   ],
   "source": [
    "print(dt.now(HERE).isoformat())\n",
    "\n"
   ]
  },
  {
   "cell_type": "code",
   "execution_count": 29,
   "metadata": {},
   "outputs": [
    {
     "name": "stdout",
     "output_type": "stream",
     "text": [
      "2017-11-21T19:45:15.612152-06:00\n"
     ]
    }
   ],
   "source": [
    "print(dt.now(lcl).isoformat())\n",
    "\n"
   ]
  },
  {
   "cell_type": "code",
   "execution_count": 31,
   "metadata": {},
   "outputs": [
    {
     "data": {
      "text/plain": [
       "datetime.datetime(2017, 11, 21, 19, 45, 47, 366889, tzinfo=tzfile('/usr/share/zoneinfo/America/Chicago'))"
      ]
     },
     "execution_count": 31,
     "metadata": {},
     "output_type": "execute_result"
    }
   ],
   "source": [
    "dt.now(lcl)\n",
    "\n"
   ]
  },
  {
   "cell_type": "code",
   "execution_count": 33,
   "metadata": {},
   "outputs": [
    {
     "name": "stdout",
     "output_type": "stream",
     "text": [
      "2017-11-22T10:45:59.085696+09:00\n",
      "2017-11-22T05:45:59.087180+04:00\n",
      "2017-11-22T01:45:59.088607+00:00\n",
      "2017-11-21T19:45:59.089745-06:00\n"
     ]
    }
   ],
   "source": [
    "print(dt.now(tz.gettz(\"Asia/Tokyo\")).isoformat())\n",
    "print(dt.now(tz.gettz(\"Asia/Dubai\")).isoformat())\n",
    "print(dt.now(tz.gettz(\"Europe/London\")).isoformat())\n",
    "print(dt.now(tz.gettz(\"America/Chicago\")).isoformat())"
   ]
  },
  {
   "cell_type": "markdown",
   "metadata": {},
   "source": [
    "-----\n",
    "\n",
    "[[Back to TOC]](#Table-of-Contents)\n",
    "\n",
    "## XXX\n",
    "\n",
    "TEXT\n",
    "\n",
    "\n",
    "https://catalog.data.gov/dataset/fdic-failed-bank-list/resource/608b288c-46bb-493c-a8ff-a2a0d05b51a0\n",
    "\n",
    "-----\n",
    "\n"
   ]
  },
  {
   "cell_type": "code",
   "execution_count": 34,
   "metadata": {},
   "outputs": [
    {
     "name": "stdout",
     "output_type": "stream",
     "text": [
      "2017-11-22 01:46:05.533346\n",
      "2017-11-21 01:46:05.533346\n",
      "2016-11-23 01:46:05.533346\n"
     ]
    }
   ],
   "source": [
    "from datetime import timedelta\n",
    "\n",
    "today = dt.today()\n",
    "\n",
    "print(today)\n",
    "\n",
    "\n",
    "print(today - timedelta(hours=24))\n",
    "print(today - timedelta(weeks=52))\n",
    "\n",
    "\n"
   ]
  },
  {
   "cell_type": "code",
   "execution_count": 36,
   "metadata": {
    "collapsed": true
   },
   "outputs": [],
   "source": [
    "from datetime import date \n",
    "today = date.today()"
   ]
  },
  {
   "cell_type": "code",
   "execution_count": 37,
   "metadata": {},
   "outputs": [
    {
     "data": {
      "text/plain": [
       "datetime.date(2017, 11, 22)"
      ]
     },
     "execution_count": 37,
     "metadata": {},
     "output_type": "execute_result"
    }
   ],
   "source": [
    "today"
   ]
  },
  {
   "cell_type": "code",
   "execution_count": 38,
   "metadata": {
    "collapsed": true
   },
   "outputs": [],
   "source": [
    "df = pd.read_csv('http://www.fdic.gov/bank/individual/failed/banklist.csv', parse_dates=[5])"
   ]
  },
  {
   "cell_type": "code",
   "execution_count": 39,
   "metadata": {},
   "outputs": [
    {
     "data": {
      "text/html": [
       "<div>\n",
       "<table border=\"1\" class=\"dataframe\">\n",
       "  <thead>\n",
       "    <tr style=\"text-align: right;\">\n",
       "      <th></th>\n",
       "      <th>Bank Name</th>\n",
       "      <th>City</th>\n",
       "      <th>ST</th>\n",
       "      <th>CERT</th>\n",
       "      <th>Acquiring Institution</th>\n",
       "      <th>Closing Date</th>\n",
       "      <th>Updated Date</th>\n",
       "    </tr>\n",
       "  </thead>\n",
       "  <tbody>\n",
       "    <tr>\n",
       "      <th>436</th>\n",
       "      <td>Integrity Bank</td>\n",
       "      <td>Jupiter</td>\n",
       "      <td>FL</td>\n",
       "      <td>57604</td>\n",
       "      <td>Stonegate Bank</td>\n",
       "      <td>2009-07-31</td>\n",
       "      <td>20-Aug-12</td>\n",
       "    </tr>\n",
       "    <tr>\n",
       "      <th>231</th>\n",
       "      <td>WestBridge Bank and Trust Company</td>\n",
       "      <td>Chesterfield</td>\n",
       "      <td>MO</td>\n",
       "      <td>58205</td>\n",
       "      <td>Midland States Bank</td>\n",
       "      <td>2010-10-15</td>\n",
       "      <td>9-Feb-17</td>\n",
       "    </tr>\n",
       "    <tr>\n",
       "      <th>346</th>\n",
       "      <td>1st American State Bank of Minnesota</td>\n",
       "      <td>Hancock</td>\n",
       "      <td>MN</td>\n",
       "      <td>15448</td>\n",
       "      <td>Community Development Bank, FSB</td>\n",
       "      <td>2010-02-05</td>\n",
       "      <td>1-Nov-13</td>\n",
       "    </tr>\n",
       "    <tr>\n",
       "      <th>247</th>\n",
       "      <td>Pacific State Bank</td>\n",
       "      <td>Stockton</td>\n",
       "      <td>CA</td>\n",
       "      <td>27090</td>\n",
       "      <td>Rabobank, N.A.</td>\n",
       "      <td>2010-08-20</td>\n",
       "      <td>12-Sep-12</td>\n",
       "    </tr>\n",
       "    <tr>\n",
       "      <th>93</th>\n",
       "      <td>Inter Savings Bank, fsb D/B/A InterBank, fsb</td>\n",
       "      <td>Maple Grove</td>\n",
       "      <td>MN</td>\n",
       "      <td>31495</td>\n",
       "      <td>Great Southern Bank</td>\n",
       "      <td>2012-04-27</td>\n",
       "      <td>17-May-13</td>\n",
       "    </tr>\n",
       "  </tbody>\n",
       "</table>\n",
       "</div>"
      ],
      "text/plain": [
       "                                        Bank Name          City  ST   CERT  \\\n",
       "436                                Integrity Bank       Jupiter  FL  57604   \n",
       "231             WestBridge Bank and Trust Company  Chesterfield  MO  58205   \n",
       "346          1st American State Bank of Minnesota       Hancock  MN  15448   \n",
       "247                            Pacific State Bank      Stockton  CA  27090   \n",
       "93   Inter Savings Bank, fsb D/B/A InterBank, fsb   Maple Grove  MN  31495   \n",
       "\n",
       "               Acquiring Institution Closing Date Updated Date  \n",
       "436                   Stonegate Bank   2009-07-31    20-Aug-12  \n",
       "231              Midland States Bank   2010-10-15     9-Feb-17  \n",
       "346  Community Development Bank, FSB   2010-02-05     1-Nov-13  \n",
       "247                   Rabobank, N.A.   2010-08-20    12-Sep-12  \n",
       "93               Great Southern Bank   2012-04-27    17-May-13  "
      ]
     },
     "execution_count": 39,
     "metadata": {},
     "output_type": "execute_result"
    }
   ],
   "source": [
    "df.sample(5)"
   ]
  },
  {
   "cell_type": "code",
   "execution_count": 40,
   "metadata": {},
   "outputs": [
    {
     "data": {
      "text/html": [
       "<div>\n",
       "<table border=\"1\" class=\"dataframe\">\n",
       "  <thead>\n",
       "    <tr style=\"text-align: right;\">\n",
       "      <th></th>\n",
       "      <th>Bank Name</th>\n",
       "      <th>City</th>\n",
       "      <th>ST</th>\n",
       "      <th>CERT</th>\n",
       "      <th>Acquiring Institution</th>\n",
       "      <th>Closing Date</th>\n",
       "      <th>Updated Date</th>\n",
       "    </tr>\n",
       "  </thead>\n",
       "  <tbody>\n",
       "    <tr>\n",
       "      <th>0</th>\n",
       "      <td>The Farmers and Merchants State Bank of Argonia</td>\n",
       "      <td>Argonia</td>\n",
       "      <td>KS</td>\n",
       "      <td>17719</td>\n",
       "      <td>Conway Bank</td>\n",
       "      <td>2017-10-13</td>\n",
       "      <td>13-Oct-17</td>\n",
       "    </tr>\n",
       "    <tr>\n",
       "      <th>1</th>\n",
       "      <td>Fayette County Bank</td>\n",
       "      <td>Saint Elmo</td>\n",
       "      <td>IL</td>\n",
       "      <td>1802</td>\n",
       "      <td>United Fidelity Bank, fsb</td>\n",
       "      <td>2017-05-26</td>\n",
       "      <td>26-Jul-17</td>\n",
       "    </tr>\n",
       "    <tr>\n",
       "      <th>2</th>\n",
       "      <td>Guaranty Bank, (d/b/a BestBank in Georgia &amp; Mi...</td>\n",
       "      <td>Milwaukee</td>\n",
       "      <td>WI</td>\n",
       "      <td>30003</td>\n",
       "      <td>First-Citizens Bank &amp; Trust Company</td>\n",
       "      <td>2017-05-05</td>\n",
       "      <td>26-Jul-17</td>\n",
       "    </tr>\n",
       "    <tr>\n",
       "      <th>3</th>\n",
       "      <td>First NBC Bank</td>\n",
       "      <td>New Orleans</td>\n",
       "      <td>LA</td>\n",
       "      <td>58302</td>\n",
       "      <td>Whitney Bank</td>\n",
       "      <td>2017-04-28</td>\n",
       "      <td>26-Jul-17</td>\n",
       "    </tr>\n",
       "    <tr>\n",
       "      <th>4</th>\n",
       "      <td>Proficio Bank</td>\n",
       "      <td>Cottonwood Heights</td>\n",
       "      <td>UT</td>\n",
       "      <td>35495</td>\n",
       "      <td>Cache Valley Bank</td>\n",
       "      <td>2017-03-03</td>\n",
       "      <td>18-May-17</td>\n",
       "    </tr>\n",
       "  </tbody>\n",
       "</table>\n",
       "</div>"
      ],
      "text/plain": [
       "                                           Bank Name                City  ST  \\\n",
       "0    The Farmers and Merchants State Bank of Argonia             Argonia  KS   \n",
       "1                                Fayette County Bank          Saint Elmo  IL   \n",
       "2  Guaranty Bank, (d/b/a BestBank in Georgia & Mi...           Milwaukee  WI   \n",
       "3                                     First NBC Bank         New Orleans  LA   \n",
       "4                                      Proficio Bank  Cottonwood Heights  UT   \n",
       "\n",
       "    CERT                Acquiring Institution Closing Date Updated Date  \n",
       "0  17719                          Conway Bank   2017-10-13    13-Oct-17  \n",
       "1   1802            United Fidelity Bank, fsb   2017-05-26    26-Jul-17  \n",
       "2  30003  First-Citizens Bank & Trust Company   2017-05-05    26-Jul-17  \n",
       "3  58302                         Whitney Bank   2017-04-28    26-Jul-17  \n",
       "4  35495                    Cache Valley Bank   2017-03-03    18-May-17  "
      ]
     },
     "execution_count": 40,
     "metadata": {},
     "output_type": "execute_result"
    }
   ],
   "source": [
    "df.head()"
   ]
  },
  {
   "cell_type": "code",
   "execution_count": 41,
   "metadata": {},
   "outputs": [
    {
     "data": {
      "text/html": [
       "<div>\n",
       "<table border=\"1\" class=\"dataframe\">\n",
       "  <thead>\n",
       "    <tr style=\"text-align: right;\">\n",
       "      <th></th>\n",
       "      <th>CERT</th>\n",
       "    </tr>\n",
       "  </thead>\n",
       "  <tbody>\n",
       "    <tr>\n",
       "      <th>count</th>\n",
       "      <td>554.000000</td>\n",
       "    </tr>\n",
       "    <tr>\n",
       "      <th>mean</th>\n",
       "      <td>31704.362816</td>\n",
       "    </tr>\n",
       "    <tr>\n",
       "      <th>std</th>\n",
       "      <td>16416.536733</td>\n",
       "    </tr>\n",
       "    <tr>\n",
       "      <th>min</th>\n",
       "      <td>91.000000</td>\n",
       "    </tr>\n",
       "    <tr>\n",
       "      <th>25%</th>\n",
       "      <td>20302.500000</td>\n",
       "    </tr>\n",
       "    <tr>\n",
       "      <th>50%</th>\n",
       "      <td>32201.500000</td>\n",
       "    </tr>\n",
       "    <tr>\n",
       "      <th>75%</th>\n",
       "      <td>35368.000000</td>\n",
       "    </tr>\n",
       "    <tr>\n",
       "      <th>max</th>\n",
       "      <td>58701.000000</td>\n",
       "    </tr>\n",
       "  </tbody>\n",
       "</table>\n",
       "</div>"
      ],
      "text/plain": [
       "               CERT\n",
       "count    554.000000\n",
       "mean   31704.362816\n",
       "std    16416.536733\n",
       "min       91.000000\n",
       "25%    20302.500000\n",
       "50%    32201.500000\n",
       "75%    35368.000000\n",
       "max    58701.000000"
      ]
     },
     "execution_count": 41,
     "metadata": {},
     "output_type": "execute_result"
    }
   ],
   "source": [
    "df.describe()"
   ]
  },
  {
   "cell_type": "code",
   "execution_count": 47,
   "metadata": {},
   "outputs": [
    {
     "data": {
      "text/plain": [
       "0     2017-10-13\n",
       "1     2017-05-26\n",
       "2     2017-05-05\n",
       "3     2017-04-28\n",
       "4     2017-03-03\n",
       "5     2017-01-27\n",
       "6     2017-01-13\n",
       "7     2016-09-23\n",
       "8     2016-08-19\n",
       "9     2016-05-06\n",
       "10    2016-04-29\n",
       "11    2016-03-11\n",
       "12    2015-10-02\n",
       "13    2015-10-02\n",
       "14    2015-07-10\n",
       "15    2015-05-08\n",
       "16    2015-02-27\n",
       "17    2015-02-13\n",
       "18    2015-01-23\n",
       "19    2015-01-16\n",
       "20    2014-12-19\n",
       "21    2014-11-07\n",
       "22    2014-10-24\n",
       "23    2014-10-17\n",
       "24    2014-07-25\n",
       "25    2014-07-18\n",
       "26    2014-06-27\n",
       "27    2014-06-20\n",
       "28    2014-06-20\n",
       "29    2014-05-30\n",
       "         ...    \n",
       "524   2008-05-09\n",
       "525   2008-03-07\n",
       "526   2008-01-25\n",
       "527   2007-10-04\n",
       "528   2007-09-28\n",
       "529   2007-02-02\n",
       "530   2004-06-25\n",
       "531   2004-03-19\n",
       "532   2004-03-12\n",
       "533   2004-02-14\n",
       "534   2003-11-14\n",
       "535   2003-05-09\n",
       "536   2003-02-07\n",
       "537   2002-12-17\n",
       "538   2002-11-08\n",
       "539   2002-09-30\n",
       "540   2002-06-27\n",
       "541   2002-06-26\n",
       "542   2002-03-28\n",
       "543   2002-03-01\n",
       "544   2002-02-07\n",
       "545   2002-02-01\n",
       "546   2002-01-18\n",
       "547   2002-01-11\n",
       "548   2001-09-07\n",
       "549   2001-07-27\n",
       "550   2001-05-03\n",
       "551   2001-02-02\n",
       "552   2000-12-14\n",
       "553   2000-10-13\n",
       "Name: Closing Date, dtype: datetime64[ns]"
      ]
     },
     "execution_count": 47,
     "metadata": {},
     "output_type": "execute_result"
    }
   ],
   "source": [
    "pd.to_datetime(df['Closing Date'], format='%d-%b-%y')"
   ]
  },
  {
   "cell_type": "code",
   "execution_count": 48,
   "metadata": {},
   "outputs": [
    {
     "data": {
      "text/plain": [
       "Timestamp('2000-10-13 00:00:00')"
      ]
     },
     "execution_count": 48,
     "metadata": {},
     "output_type": "execute_result"
    }
   ],
   "source": [
    "aa = '13-Oct-00'\n",
    "pd.to_datetime(aa, format='%d-%b-%y')"
   ]
  },
  {
   "cell_type": "code",
   "execution_count": 49,
   "metadata": {
    "collapsed": true,
    "scrolled": true
   },
   "outputs": [],
   "source": [
    "cd = pd.to_datetime(df['Closing Date'], format='%d-%b-%y')"
   ]
  },
  {
   "cell_type": "code",
   "execution_count": 50,
   "metadata": {},
   "outputs": [
    {
     "data": {
      "text/plain": [
       "DatetimeIndex(['2017-05-26', '2017-05-05', '2017-04-28', '2017-03-03'], dtype='datetime64[ns]', name='Closing Date', freq=None)"
      ]
     },
     "execution_count": 50,
     "metadata": {},
     "output_type": "execute_result"
    }
   ],
   "source": [
    "cd.dt.values[1:5]"
   ]
  },
  {
   "cell_type": "markdown",
   "metadata": {},
   "source": [
    "-----\n",
    "\n",
    "<font color='red' size = '5'> Student Exercise </font>\n",
    "\n",
    "\n",
    "In the preceding cells, we introduced XXX and used this approach to fit a model to data with uncertainty. Now that you have run the notebook, go back and make the following changes to see how the results change.\n",
    "\n",
    "1. Change the \n",
    "1. Change the \n",
    "2. Try using a\n",
    "3. Try changing \n",
    "\n",
    "-----"
   ]
  },
  {
   "cell_type": "markdown",
   "metadata": {},
   "source": [
    "## Ancillary Information\n",
    "\n",
    "The following links are to additional documentation that you might find helpful in learning this material. Reading these web-accessible documents is completely optional.\n",
    "\n",
    "12. Wikipedia article on [Time Zone Database][wtzd]\n",
    "1. Python [`time` module][ptm] and [Python `datetime` module][pdtm]\n",
    "2. Informative tutorial introducing Python [time and datetime][tad] modules\n",
    "3. Summary sheet of [string time formatting codes][so]\n",
    "4. A Python [date and time][dt1] tutorial\n",
    "4. Another Python [date and time][dt2] tutorial\n",
    "4. Another Python [date and time][dt3] tutorial\n",
    "4. Another Python [date and time][dt4] tutorial\n",
    "4. And another Python [date and time][dt5] tutorial\n",
    "5. A tutorial on using Python [string format methods for working with times and dates][tsft]\n",
    "6. Set of tutorial on doing basic time and date operations, including [getting the current time and date][ptct]\n",
    "7. Python tutorial on [working with times and dates][ptt] including the use of Pandas.\n",
    "8. Tutorial on using pandas for times and dates, [part 1][ptd1] and [part 2][ptd2]\n",
    "111. Review of the Python [DateTime][pdtm] module\n",
    "112. Documentation for the Python [Dateutil][dud] module\n",
    "\n",
    "-----\n",
    "\n",
    "[wtzd]: https://en.wikipedia.org/wiki/Tz_database\n",
    "\n",
    "[ptm]: https://docs.python.org/3/library/time.html\n",
    "[pdtm]: https://docs.python.org/3/library/datetime.html\n",
    "\n",
    "[tad]: http://o7planning.org/en/11443/python-date-time-tutorial\n",
    "[so]: http://strftime.org\n",
    "\n",
    "[dt1]: https://intellipaat.com/tutorial/python-tutorial/python-date-and-time/\n",
    "[dt2]: https://www.webcodegeeks.com/python/python-datetime-tutorial/\n",
    "\n",
    "[ptct]: https://www.saltycrane.com/blog/2008/06/how-to-get-current-date-and-time-in/\n",
    "[dt3]: http://www.pythonforbeginners.com/basics/python-datetime-timedelta/\n",
    "\n",
    "[tsft]: https://www.tutorialspoint.com/python/time_strptime.htm\n",
    "[dt4]: https://www.tutorialspoint.com/python/python_date_time.htm\n",
    "[dt5]: https://opensource.com/article/17/5/understanding-datetime-python-primer\n",
    "[ptt]: http://www.marcelscharth.com/python/time.html\n",
    "[ptd1]: http://earthpy.org/pandas-basics.html\n",
    "[ptd2]: http://earthpy.org/time_series_analysis_with_pandas_part_2.html\n",
    "\n",
    "[dud]: https://dateutil.readthedocs.io/en/stable/\n",
    "[pdtm]: https://pymotw.com/2/datetime/"
   ]
  },
  {
   "cell_type": "markdown",
   "metadata": {
    "deletable": false,
    "editable": false
   },
   "source": [
    "**&copy; 2017: Robert J. Brunner at the University of Illinois.**\n",
    "\n",
    "This notebook is released under the [Creative Commons license CC BY-NC-SA 4.0][ll]. Any reproduction, adaptation, distribution, dissemination or making available of this notebook for commercial use is not allowed unless authorized in writing by the copyright holder.\n",
    "\n",
    "[ll]: https://creativecommons.org/licenses/by-nc-sa/4.0/legalcode"
   ]
  }
 ],
 "metadata": {
  "kernelspec": {
   "display_name": "Python 3",
   "language": "python",
   "name": "python3"
  },
  "language_info": {
   "codemirror_mode": {
    "name": "ipython",
    "version": 3
   },
   "file_extension": ".py",
   "mimetype": "text/x-python",
   "name": "python",
   "nbconvert_exporter": "python",
   "pygments_lexer": "ipython3",
   "version": "3.6.1"
  }
 },
 "nbformat": 4,
 "nbformat_minor": 1
}
