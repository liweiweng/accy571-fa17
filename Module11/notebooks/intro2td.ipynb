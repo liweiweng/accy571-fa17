{
 "cells": [
  {
   "cell_type": "markdown",
   "metadata": {},
   "source": [
    "# Working with Dates and Times\n",
    "\n",
    "-----"
   ]
  },
  {
   "cell_type": "markdown",
   "metadata": {},
   "source": [
    "In this notebook, we introduce how to work efficiently with dates and times in Python.\n",
    "\n",
    "-----\n"
   ]
  },
  {
   "cell_type": "markdown",
   "metadata": {},
   "source": [
    "## Table of Contents\n",
    "\n",
    "[Time](#Working-with-Times)\n",
    "\n",
    "[Datetime](#Datetime)\n",
    "\n",
    "[Timezone](#Timezone)\n",
    "\n",
    "[Timedelta](#Timedelta)\n"
   ]
  },
  {
   "cell_type": "markdown",
   "metadata": {},
   "source": [
    "-----\n",
    "\n",
    "[[Back to TOC]](#Table-of-Contents)\n",
    "\n",
    "## Time\n",
    "\n",
    "While it might seem that working with time in a program would be simple, the reality is that handling time data is complicated by several challenges. For a discussion of these issues, see the official Python [time documentation][td]. First, computers are designed to work with numerical data, so what is the numerical representation for a time? The simple solution for this problem is to define an epoch, or starting point for time data, which in Python (or Unix systems in general) is typically taken to be midnight, or 00:00:00, on January 1, 1970. \n",
    "\n",
    "Second, time is relative, and is measured relative to a time zone. For example, in Champaign-Urbana, we are in the US Central time zone. Programmatically, Time zones are often indicated by the largest major city. Thus, for the University of Illinois we would programmatically refer to our time zone by 'America/Chicago'.\n",
    "\n",
    "These issues, and the way we deal with them in Python, are demonstrated in the following Code cells. First, we import the `time` module, and demonstrate how to convert between the time (in seconds) since the start of the current epoch and the corresponding time representation by using the `ctime` function. These times can, of course, extend into the future. We can perform the conversion in the other direction (time to seconds since the start of the epoch) by using the `time` function.\n",
    "\n",
    "\n",
    "-----\n",
    "\n",
    "[td]: https://docs.python.org/3/library/time.html\n",
    "\n",
    "\n"
   ]
  },
  {
   "cell_type": "code",
   "execution_count": 1,
   "metadata": {},
   "outputs": [
    {
     "name": "stdout",
     "output_type": "stream",
     "text": [
      "Thu Jan  1 00:00:00 1970\n"
     ]
    }
   ],
   "source": [
    "import time as tm\n",
    "\n",
    "# Starting time\n",
    "print(tm.ctime(0))"
   ]
  },
  {
   "cell_type": "code",
   "execution_count": 2,
   "metadata": {},
   "outputs": [
    {
     "name": "stdout",
     "output_type": "stream",
     "text": [
      "Sun Sep  9 01:46:40 2001\n"
     ]
    }
   ],
   "source": [
    "# Time for one billion seconds\n",
    "print(tm.ctime(1E9))"
   ]
  },
  {
   "cell_type": "code",
   "execution_count": 3,
   "metadata": {},
   "outputs": [
    {
     "name": "stdout",
     "output_type": "stream",
     "text": [
      "Sat Nov 20 17:46:40 2286\n"
     ]
    }
   ],
   "source": [
    "# Time for ten billion seconds\n",
    "print(tm.ctime(1E10))"
   ]
  },
  {
   "cell_type": "code",
   "execution_count": 4,
   "metadata": {},
   "outputs": [
    {
     "name": "stdout",
     "output_type": "stream",
     "text": [
      "1511891316.7454758\n"
     ]
    }
   ],
   "source": [
    "# Convert from current time to the seconds since the start of the epoch.\n",
    "print(tm.time())"
   ]
  },
  {
   "cell_type": "markdown",
   "metadata": {},
   "source": [
    "-----\n",
    "\n",
    "We can also deal with time as a structure that holds the full date and time representation, this information can be obtained easily by calling the `localtime` function. By default, the current time (in the standard timezone, which is GMT) will be returned, but by passing in the number of seconds, the corresponding time in the current epoch will be returned. We can also, obtain the current epoch (on any given platform) by calling the `gmtime` function.\n",
    "\n",
    "-----"
   ]
  },
  {
   "cell_type": "code",
   "execution_count": 5,
   "metadata": {},
   "outputs": [
    {
     "data": {
      "text/plain": [
       "time.struct_time(tm_year=2017, tm_mon=11, tm_mday=28, tm_hour=17, tm_min=48, tm_sec=36, tm_wday=1, tm_yday=332, tm_isdst=0)"
      ]
     },
     "execution_count": 5,
     "metadata": {},
     "output_type": "execute_result"
    }
   ],
   "source": [
    "# Get local time\n",
    "tm.localtime()"
   ]
  },
  {
   "cell_type": "code",
   "execution_count": 6,
   "metadata": {},
   "outputs": [
    {
     "name": "stdout",
     "output_type": "stream",
     "text": [
      "Corresponding date (Day/Month/Year): 9/9/2001\n",
      "This is the 252 day in 2001.\n"
     ]
    }
   ],
   "source": [
    "# Get and display date info\n",
    "x = tm.localtime(1E9)\n",
    "\n",
    "print(f'Corresponding date (Day/Month/Year): {x.tm_mday}/{x.tm_mon}/{x.tm_year}')\n",
    "print(f'This is the {x.tm_yday} day in {x.tm_year}.')"
   ]
  },
  {
   "cell_type": "code",
   "execution_count": 7,
   "metadata": {},
   "outputs": [
    {
     "data": {
      "text/plain": [
       "time.struct_time(tm_year=1970, tm_mon=1, tm_mday=1, tm_hour=0, tm_min=0, tm_sec=0, tm_wday=3, tm_yday=1, tm_isdst=0)"
      ]
     },
     "execution_count": 7,
     "metadata": {},
     "output_type": "execute_result"
    }
   ],
   "source": [
    "# Get GMT time\n",
    "tm.gmtime(0)"
   ]
  },
  {
   "cell_type": "markdown",
   "metadata": {},
   "source": [
    "-----\n",
    "\n",
    "## Datetime\n",
    "\n",
    "To deal effectively with dates and times from around the world, Python provides the [`datetime` module][dt]. By default, the times are represented in the universal coordinated time, or timezone zero. This module also includes functionality for dealing with times in the `time` module, and for dates in the `date` module. Several basic functions are demonstrated for each of these modules in the following Code cells.\n",
    "\n",
    "-----\n",
    "\n",
    "[dt]: https://docs.python.org/3.5/library/datetime.html"
   ]
  },
  {
   "cell_type": "code",
   "execution_count": 3,
   "metadata": {},
   "outputs": [
    {
     "name": "stdout",
     "output_type": "stream",
     "text": [
      "2017-11-28 19:06:32.858972\n",
      "2017-11-28 19:06:32.859582\n",
      "14:02:12.002105\n"
     ]
    }
   ],
   "source": [
    "# Work with time and dates\n",
    "from datetime import datetime as dt\n",
    "from datetime import time\n",
    "\n",
    "print(dt.now())\n",
    "print(dt.utcnow())\n",
    "print(time(14, 2, 12, 2105))"
   ]
  },
  {
   "cell_type": "code",
   "execution_count": 9,
   "metadata": {},
   "outputs": [
    {
     "name": "stdout",
     "output_type": "stream",
     "text": [
      "2017-11-28\n"
     ]
    }
   ],
   "source": [
    "# Display dates\n",
    "from datetime import date \n",
    "today = date.today()\n",
    "print(today.isoformat())"
   ]
  },
  {
   "cell_type": "code",
   "execution_count": 10,
   "metadata": {},
   "outputs": [
    {
     "data": {
      "text/plain": [
       "datetime.date(2017, 11, 28)"
      ]
     },
     "execution_count": 10,
     "metadata": {},
     "output_type": "execute_result"
    }
   ],
   "source": [
    "today"
   ]
  },
  {
   "cell_type": "markdown",
   "metadata": {},
   "source": [
    "-----\n",
    "\n",
    "## Timezone\n",
    "\n",
    "To be effective, these Python time and date functions need to be able to deal with timezones. By default, the functionality for this is declared in the [`tzinfo` abstract class][tz]. This allows different implementations that all conform to the same standard. But the challenge to developers is to ensure a fast and reliable implementation is available and can be used for our analyses. In this notebook, we will use the `dateutil` module, which provides timezone support. This is demonstrated in the following Code cells, where we obtain the time zone for 'America/Chicago' by using the `gettz` function, and display the date and time in this representation, the full `datetime` object, as well as the current time in several other timezones around the world.\n",
    "\n",
    "-----\n",
    "\n",
    "[tz]: https://docs.python.org/3.5/library/datetime.html#datetime.tzinfo"
   ]
  },
  {
   "cell_type": "code",
   "execution_count": 11,
   "metadata": {
    "collapsed": true
   },
   "outputs": [],
   "source": [
    "from dateutil import tz\n",
    "\n",
    "lcl = tz.gettz('America/Chicago')"
   ]
  },
  {
   "cell_type": "code",
   "execution_count": 12,
   "metadata": {},
   "outputs": [
    {
     "name": "stdout",
     "output_type": "stream",
     "text": [
      "2017-11-28T11:48:37.076748-06:00\n"
     ]
    }
   ],
   "source": [
    "print(dt.now(lcl).isoformat())"
   ]
  },
  {
   "cell_type": "code",
   "execution_count": 13,
   "metadata": {},
   "outputs": [
    {
     "data": {
      "text/plain": [
       "datetime.datetime(2017, 11, 28, 11, 48, 37, 122644, tzinfo=tzfile('/usr/share/zoneinfo/America/Chicago'))"
      ]
     },
     "execution_count": 13,
     "metadata": {},
     "output_type": "execute_result"
    }
   ],
   "source": [
    "dt.now(lcl)"
   ]
  },
  {
   "cell_type": "code",
   "execution_count": 14,
   "metadata": {},
   "outputs": [
    {
     "name": "stdout",
     "output_type": "stream",
     "text": [
      "Tokyo:  2017-11-29T02:48:37.151369+09:00\n",
      "Dubai:  2017-11-28T21:48:37.151874+04:00\n",
      "London:  2017-11-28T17:48:37.152475+00:00\n",
      "Madrid:  2017-11-28T18:48:37.152969+01:00\n",
      "Chicago:  2017-11-28T11:48:37.153796-06:00\n"
     ]
    }
   ],
   "source": [
    "print('Tokyo: ', dt.now(tz.gettz(\"Asia/Tokyo\")).isoformat())\n",
    "print('Dubai: ', dt.now(tz.gettz(\"Asia/Dubai\")).isoformat())\n",
    "print('London: ', dt.now(tz.gettz(\"Europe/London\")).isoformat())\n",
    "print('Madrid: ', dt.now(tz.gettz('Europe/Madrid')).isoformat())\n",
    "print('Chicago: ', dt.now(tz.gettz(\"America/Chicago\")).isoformat())"
   ]
  },
  {
   "cell_type": "markdown",
   "metadata": {},
   "source": [
    "-----\n",
    "\n",
    "Of course, this module provides additional functionality, including obtaining the name of the relevant time zone, performing math on times and dates, and formatted display of the full date time information.\n",
    "\n",
    "-----"
   ]
  },
  {
   "cell_type": "code",
   "execution_count": 15,
   "metadata": {},
   "outputs": [
    {
     "data": {
      "text/plain": [
       "datetime.datetime(2017, 11, 28, 11, 48, 37, 170014, tzinfo=tzfile('/usr/share/zoneinfo/America/Chicago'))"
      ]
     },
     "execution_count": 15,
     "metadata": {},
     "output_type": "execute_result"
    }
   ],
   "source": [
    "dt.now(tz.gettz('America/Chicago'))"
   ]
  },
  {
   "cell_type": "code",
   "execution_count": 16,
   "metadata": {},
   "outputs": [
    {
     "data": {
      "text/plain": [
       "'America/Chicago'"
      ]
     },
     "execution_count": 16,
     "metadata": {},
     "output_type": "execute_result"
    }
   ],
   "source": [
    "dt.now(tz.tzoffset('America/Chicago', 6)).tzname()"
   ]
  },
  {
   "cell_type": "code",
   "execution_count": 17,
   "metadata": {},
   "outputs": [
    {
     "data": {
      "text/plain": [
       "datetime.datetime(2017, 11, 28, 11, 48, 37, 210601, tzinfo=tzoffset('America/Chicago', -21600))"
      ]
     },
     "execution_count": 17,
     "metadata": {},
     "output_type": "execute_result"
    }
   ],
   "source": [
    "dt.now(tz.tzoffset('America/Chicago', -6 * 3600))"
   ]
  },
  {
   "cell_type": "code",
   "execution_count": 18,
   "metadata": {},
   "outputs": [
    {
     "data": {
      "text/plain": [
       "datetime.datetime(2017, 11, 28, 17, 48, 37, 229106, tzinfo=datetime.timezone(datetime.timedelta(0), 'UTC'))"
      ]
     },
     "execution_count": 18,
     "metadata": {},
     "output_type": "execute_result"
    }
   ],
   "source": [
    "dt.now(tz.tzoffset('America/Chicago', 6)).astimezone()"
   ]
  },
  {
   "cell_type": "code",
   "execution_count": 19,
   "metadata": {},
   "outputs": [
    {
     "data": {
      "text/plain": [
       "'2017-11-28T11:48:37.247501-06:00'"
      ]
     },
     "execution_count": 19,
     "metadata": {},
     "output_type": "execute_result"
    }
   ],
   "source": [
    "dt.now(tz.gettz('America/Chicago')).isoformat()"
   ]
  },
  {
   "cell_type": "markdown",
   "metadata": {},
   "source": [
    "-----\n",
    "\n",
    "[[Back to TOC]](#Table-of-Contents)\n",
    "\n",
    "## TimeDelta\n",
    "\n",
    "To simplify processing time and date information, Python provides the [`timedelta` class][tdm]. This allows math operations to be performed on times and dates by using standard conventions, like the number of hours in a day, or the number of days in a week. The following Code cells demonstrate several ways to perform date computations by using this module.\n",
    "\n",
    "\n",
    "-----\n",
    "\n",
    "[tdm]: https://docs.python.org/3.5/library/datetime.html#timedelta-objects"
   ]
  },
  {
   "cell_type": "code",
   "execution_count": 20,
   "metadata": {},
   "outputs": [
    {
     "name": "stdout",
     "output_type": "stream",
     "text": [
      "2017-11-28 17:48:37.264252\n"
     ]
    }
   ],
   "source": [
    "from datetime import timedelta\n",
    "\n",
    "today = dt.today()\n",
    "print(today)"
   ]
  },
  {
   "cell_type": "code",
   "execution_count": 21,
   "metadata": {},
   "outputs": [
    {
     "name": "stdout",
     "output_type": "stream",
     "text": [
      "2017-11-27 17:48:37.264252\n"
     ]
    }
   ],
   "source": [
    "print(today - timedelta(hours=24))"
   ]
  },
  {
   "cell_type": "code",
   "execution_count": 22,
   "metadata": {},
   "outputs": [
    {
     "name": "stdout",
     "output_type": "stream",
     "text": [
      "2016-11-29 17:48:37.264252\n"
     ]
    }
   ],
   "source": [
    "print(today - timedelta(weeks=52))"
   ]
  },
  {
   "cell_type": "code",
   "execution_count": 23,
   "metadata": {},
   "outputs": [
    {
     "name": "stdout",
     "output_type": "stream",
     "text": [
      "2019-11-26 17:48:37.264252\n"
     ]
    }
   ],
   "source": [
    "print(today + timedelta(weeks=104))"
   ]
  },
  {
   "cell_type": "code",
   "execution_count": 24,
   "metadata": {},
   "outputs": [
    {
     "name": "stdout",
     "output_type": "stream",
     "text": [
      "2019-11-26 11:48:37.264252-06:00\n"
     ]
    }
   ],
   "source": [
    "print((today + timedelta(weeks=104)).astimezone(tz.gettz('America/Chicago')))"
   ]
  },
  {
   "cell_type": "markdown",
   "metadata": {},
   "source": [
    "-----\n",
    "\n",
    "<font color='red' size = '5'> Student Exercise </font>\n",
    "\n",
    "\n",
    "In the preceding cells, we introduced working with times and dates in Python. Now that you have run the notebook, go back and make the following changes to see how the results change.\n",
    "\n",
    "1. Change the timezone to a new location.\n",
    "2. Compute the date and time corresponding to 2.5 billion seconds since the start of the epoch.\n",
    "3. Compute the day of the week that corresponds to 5000 days from today.\n",
    "\n",
    "-----"
   ]
  },
  {
   "cell_type": "markdown",
   "metadata": {},
   "source": [
    "## Ancillary Information\n",
    "\n",
    "The following links are to additional documentation that you might find helpful in learning this material. Reading these web-accessible documents is completely optional.\n",
    "\n",
    "12. Wikipedia article on [Time Zone Database][wtzd]\n",
    "1. Python [`time` module][ptm] and [Python `datetime` module][pdtm]\n",
    "2. Informative tutorial introducing Python [time and datetime][tad] modules\n",
    "3. Summary sheet of [string time formatting codes][so]\n",
    "4. A Python [date and time][dt1] tutorial\n",
    "4. Another Python [date and time][dt2] tutorial\n",
    "4. Another Python [date and time][dt3] tutorial\n",
    "4. Another Python [date and time][dt4] tutorial\n",
    "4. And another Python [date and time][dt5] tutorial\n",
    "5. A tutorial on using Python [string format methods for working with times and dates][tsft]\n",
    "6. Set of tutorial on doing basic time and date operations, including [getting the current time and date][ptct]\n",
    "7. Python tutorial on [working with times and dates][ptt] including the use of Pandas.\n",
    "8. Tutorial on using pandas for times and dates, [part 1][ptd1] and [part 2][ptd2]\n",
    "111. Review of the Python [DateTime][pdtm] module\n",
    "112. Documentation for the Python [Dateutil][dud] module\n",
    "\n",
    "-----\n",
    "\n",
    "[wtzd]: https://en.wikipedia.org/wiki/Tz_database\n",
    "\n",
    "[ptm]: https://docs.python.org/3/library/time.html\n",
    "[pdtm]: https://docs.python.org/3/library/datetime.html\n",
    "\n",
    "[tad]: http://o7planning.org/en/11443/python-date-time-tutorial\n",
    "[so]: http://strftime.org\n",
    "\n",
    "[dt1]: https://intellipaat.com/tutorial/python-tutorial/python-date-and-time/\n",
    "[dt2]: https://www.webcodegeeks.com/python/python-datetime-tutorial/\n",
    "\n",
    "[ptct]: https://www.saltycrane.com/blog/2008/06/how-to-get-current-date-and-time-in/\n",
    "[dt3]: http://www.pythonforbeginners.com/basics/python-datetime-timedelta/\n",
    "\n",
    "[tsft]: https://www.tutorialspoint.com/python/time_strptime.htm\n",
    "[dt4]: https://www.tutorialspoint.com/python/python_date_time.htm\n",
    "[dt5]: https://opensource.com/article/17/5/understanding-datetime-python-primer\n",
    "[ptt]: http://www.marcelscharth.com/python/time.html\n",
    "[ptd1]: http://earthpy.org/pandas-basics.html\n",
    "[ptd2]: http://earthpy.org/time_series_analysis_with_pandas_part_2.html\n",
    "\n",
    "[dud]: https://dateutil.readthedocs.io/en/stable/\n",
    "[pdtm]: https://pymotw.com/2/datetime/"
   ]
  },
  {
   "cell_type": "markdown",
   "metadata": {
    "deletable": false,
    "editable": false
   },
   "source": [
    "**&copy; 2017: Robert J. Brunner at the University of Illinois.**\n",
    "\n",
    "This notebook is released under the [Creative Commons license CC BY-NC-SA 4.0][ll]. Any reproduction, adaptation, distribution, dissemination or making available of this notebook for commercial use is not allowed unless authorized in writing by the copyright holder.\n",
    "\n",
    "[ll]: https://creativecommons.org/licenses/by-nc-sa/4.0/legalcode"
   ]
  }
 ],
 "metadata": {
  "kernelspec": {
   "display_name": "Python 3",
   "language": "python",
   "name": "python3"
  },
  "language_info": {
   "codemirror_mode": {
    "name": "ipython",
    "version": 3
   },
   "file_extension": ".py",
   "mimetype": "text/x-python",
   "name": "python",
   "nbconvert_exporter": "python",
   "pygments_lexer": "ipython3",
   "version": "3.6.1"
  }
 },
 "nbformat": 4,
 "nbformat_minor": 1
}
