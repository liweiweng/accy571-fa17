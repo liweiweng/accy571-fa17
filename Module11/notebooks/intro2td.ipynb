{
 "cells": [
  {
   "cell_type": "markdown",
   "metadata": {},
   "source": [
    "# Working with Dates and Times\n",
    "\n",
    "-----"
   ]
  },
  {
   "cell_type": "markdown",
   "metadata": {},
   "source": [
    "In this notebook, we introduce how to work efficiently with dates and times in Python.\n",
    "\n",
    "-----\n"
   ]
  },
  {
   "cell_type": "markdown",
   "metadata": {},
   "source": [
    "## Table of Contents\n",
    "\n",
    "[Time](#Working-with-Times)\n",
    "\n",
    "[Datetime](#Datetime)\n",
    "\n",
    "[Timezone](#Timezone)\n",
    "\n",
    "[Timedelta](#Timedelta)\n",
    "\n",
    "-----\n",
    "\n",
    "Before proceeding with the rest of this notebook, we first include the notebook setup code.\n",
    "\n",
    "-----"
   ]
  },
  {
   "cell_type": "code",
   "execution_count": 1,
   "metadata": {
    "collapsed": true
   },
   "outputs": [],
   "source": [
    "# Set up Notebook\n",
    "\n",
    "% matplotlib inline\n",
    "\n",
    "# Standard imports\n",
    "import numpy as np\n",
    "import pandas as pd\n",
    "import matplotlib.pyplot as plt\n",
    "import seaborn as sns\n",
    "\n",
    "# These two lines suppress warnings that sometimes\n",
    "# occur when making visualizations\n",
    "import warnings\n",
    "warnings.filterwarnings('ignore')\n",
    "\n",
    "# Set global figure properties\n",
    "import matplotlib as mpl\n",
    "mpl.rcParams.update({'axes.titlesize' : 20,\n",
    "                     'axes.labelsize' : 18,\n",
    "                     'legend.fontsize': 16})\n",
    "\n",
    "# Set default Seaborn plotting style\n",
    "sns.set_style('white')"
   ]
  },
  {
   "cell_type": "markdown",
   "metadata": {},
   "source": [
    "-----\n",
    "\n",
    "[[Back to TOC]](#Table-of-Contents)\n",
    "\n",
    "## Time\n",
    "\n",
    "TEXT\n",
    "\n",
    "https://docs.python.org/3/library/datetime.html\n",
    "\n",
    "-----\n",
    "\n"
   ]
  },
  {
   "cell_type": "code",
   "execution_count": 2,
   "metadata": {
    "collapsed": true
   },
   "outputs": [],
   "source": [
    "import time as tm"
   ]
  },
  {
   "cell_type": "code",
   "execution_count": 3,
   "metadata": {},
   "outputs": [
    {
     "name": "stdout",
     "output_type": "stream",
     "text": [
      "Thu Jan  1 00:00:00 1970\n"
     ]
    }
   ],
   "source": [
    "print(tm.ctime(0))"
   ]
  },
  {
   "cell_type": "code",
   "execution_count": 4,
   "metadata": {},
   "outputs": [
    {
     "name": "stdout",
     "output_type": "stream",
     "text": [
      "Sun Sep  9 01:46:40 2001\n"
     ]
    }
   ],
   "source": [
    "print(tm.ctime(1E9))"
   ]
  },
  {
   "cell_type": "code",
   "execution_count": 5,
   "metadata": {},
   "outputs": [
    {
     "name": "stdout",
     "output_type": "stream",
     "text": [
      "Sat Nov 20 17:46:40 2286\n"
     ]
    }
   ],
   "source": [
    "print(tm.ctime(1E10))"
   ]
  },
  {
   "cell_type": "code",
   "execution_count": 6,
   "metadata": {},
   "outputs": [
    {
     "data": {
      "text/plain": [
       "time.struct_time(tm_year=2017, tm_mon=11, tm_mday=27, tm_hour=1, tm_min=4, tm_sec=56, tm_wday=0, tm_yday=331, tm_isdst=0)"
      ]
     },
     "execution_count": 6,
     "metadata": {},
     "output_type": "execute_result"
    }
   ],
   "source": [
    "tm.localtime()"
   ]
  },
  {
   "cell_type": "code",
   "execution_count": 7,
   "metadata": {},
   "outputs": [
    {
     "name": "stdout",
     "output_type": "stream",
     "text": [
      "time.struct_time(tm_year=2017, tm_mon=11, tm_mday=27, tm_hour=1, tm_min=4, tm_sec=56, tm_wday=0, tm_yday=331, tm_isdst=0)\n",
      "1511744696.5592897\n"
     ]
    },
    {
     "data": {
      "text/plain": [
       "time.struct_time(tm_year=2017, tm_mon=11, tm_mday=27, tm_hour=1, tm_min=4, tm_sec=56, tm_wday=0, tm_yday=331, tm_isdst=0)"
      ]
     },
     "execution_count": 7,
     "metadata": {},
     "output_type": "execute_result"
    }
   ],
   "source": [
    "print(tm.localtime())\n",
    "print(tm.time())\n",
    "\n",
    "\n",
    "tm.gmtime()"
   ]
  },
  {
   "cell_type": "code",
   "execution_count": 8,
   "metadata": {},
   "outputs": [
    {
     "data": {
      "text/plain": [
       "time.struct_time(tm_year=1970, tm_mon=1, tm_mday=1, tm_hour=0, tm_min=0, tm_sec=0, tm_wday=3, tm_yday=1, tm_isdst=0)"
      ]
     },
     "execution_count": 8,
     "metadata": {},
     "output_type": "execute_result"
    }
   ],
   "source": [
    "tm.gmtime(0)"
   ]
  },
  {
   "cell_type": "code",
   "execution_count": 9,
   "metadata": {},
   "outputs": [
    {
     "data": {
      "text/plain": [
       "1511744696.0"
      ]
     },
     "execution_count": 9,
     "metadata": {},
     "output_type": "execute_result"
    }
   ],
   "source": [
    "tm.mktime(tm.localtime())"
   ]
  },
  {
   "cell_type": "code",
   "execution_count": 10,
   "metadata": {},
   "outputs": [
    {
     "name": "stdout",
     "output_type": "stream",
     "text": [
      "time.struct_time(tm_year=2017, tm_mon=11, tm_mday=27, tm_hour=1, tm_min=4, tm_sec=56, tm_wday=0, tm_yday=331, tm_isdst=0)\n"
     ]
    },
    {
     "data": {
      "text/plain": [
       "0"
      ]
     },
     "execution_count": 10,
     "metadata": {},
     "output_type": "execute_result"
    }
   ],
   "source": [
    "print(tm.localtime())\n",
    "a = tm.localtime()\n",
    "a.tm_gmtoff"
   ]
  },
  {
   "cell_type": "markdown",
   "metadata": {},
   "source": [
    "-----\n",
    "\n",
    "## Datetime\n",
    "\n",
    "-----"
   ]
  },
  {
   "cell_type": "code",
   "execution_count": 11,
   "metadata": {},
   "outputs": [
    {
     "name": "stdout",
     "output_type": "stream",
     "text": [
      "2017-11-27 01:04:56.634394\n",
      "2017-11-27 01:04:56.635214\n",
      "10:02:12.002300\n"
     ]
    }
   ],
   "source": [
    "from datetime import datetime as dt\n",
    "\n",
    "from datetime import time\n",
    "\n",
    "now = time()\n",
    "\n",
    "print(dt.now())\n",
    "print(dt.utcnow())\n",
    "print(time(10, 2, 12, 2300))"
   ]
  },
  {
   "cell_type": "code",
   "execution_count": 12,
   "metadata": {
    "collapsed": true
   },
   "outputs": [],
   "source": [
    "from datetime import date \n",
    "today = date.today()"
   ]
  },
  {
   "cell_type": "code",
   "execution_count": 13,
   "metadata": {},
   "outputs": [
    {
     "data": {
      "text/plain": [
       "datetime.date(2017, 11, 27)"
      ]
     },
     "execution_count": 13,
     "metadata": {},
     "output_type": "execute_result"
    }
   ],
   "source": [
    "today"
   ]
  },
  {
   "cell_type": "markdown",
   "metadata": {},
   "source": [
    "-----\n",
    "\n",
    "## Timezone\n",
    "\n",
    "-----"
   ]
  },
  {
   "cell_type": "code",
   "execution_count": 14,
   "metadata": {
    "collapsed": true
   },
   "outputs": [],
   "source": [
    "from dateutil import tz\n",
    "\n",
    "HERE = tz.tzlocal()\n",
    "\n",
    "lcl = tz.gettz('America/Chicago')"
   ]
  },
  {
   "cell_type": "code",
   "execution_count": 15,
   "metadata": {},
   "outputs": [
    {
     "name": "stdout",
     "output_type": "stream",
     "text": [
      "2017-11-27T01:04:56.721455+00:00\n"
     ]
    }
   ],
   "source": [
    "print(dt.now(HERE).isoformat())"
   ]
  },
  {
   "cell_type": "code",
   "execution_count": 16,
   "metadata": {},
   "outputs": [
    {
     "name": "stdout",
     "output_type": "stream",
     "text": [
      "2017-11-26T19:04:56.741208-06:00\n"
     ]
    }
   ],
   "source": [
    "print(dt.now(lcl).isoformat())"
   ]
  },
  {
   "cell_type": "code",
   "execution_count": 17,
   "metadata": {},
   "outputs": [
    {
     "data": {
      "text/plain": [
       "datetime.datetime(2017, 11, 26, 19, 4, 56, 759521, tzinfo=tzfile('/usr/share/zoneinfo/America/Chicago'))"
      ]
     },
     "execution_count": 17,
     "metadata": {},
     "output_type": "execute_result"
    }
   ],
   "source": [
    "dt.now(lcl)"
   ]
  },
  {
   "cell_type": "code",
   "execution_count": 18,
   "metadata": {},
   "outputs": [
    {
     "name": "stdout",
     "output_type": "stream",
     "text": [
      "2017-11-27T10:04:56.779405+09:00\n",
      "2017-11-27T05:04:56.780138+04:00\n",
      "2017-11-27T01:04:56.781436+00:00\n",
      "2017-11-26T19:04:56.782500-06:00\n"
     ]
    }
   ],
   "source": [
    "print(dt.now(tz.gettz(\"Asia/Tokyo\")).isoformat())\n",
    "print(dt.now(tz.gettz(\"Asia/Dubai\")).isoformat())\n",
    "print(dt.now(tz.gettz(\"Europe/London\")).isoformat())\n",
    "print(dt.now(tz.gettz(\"America/Chicago\")).isoformat())"
   ]
  },
  {
   "cell_type": "markdown",
   "metadata": {},
   "source": [
    "-----\n",
    "\n",
    "TEXT\n",
    "\n",
    "-----"
   ]
  },
  {
   "cell_type": "code",
   "execution_count": 19,
   "metadata": {},
   "outputs": [
    {
     "data": {
      "text/plain": [
       "'America/Chicago'"
      ]
     },
     "execution_count": 19,
     "metadata": {},
     "output_type": "execute_result"
    }
   ],
   "source": [
    "dt.now(tz.tzoffset('America/Chicago', 6)).tzname()"
   ]
  },
  {
   "cell_type": "code",
   "execution_count": 20,
   "metadata": {},
   "outputs": [
    {
     "data": {
      "text/plain": [
       "datetime.datetime(2017, 11, 26, 19, 4, 56, 816814, tzinfo=tzoffset('America/Chicago', -21600))"
      ]
     },
     "execution_count": 20,
     "metadata": {},
     "output_type": "execute_result"
    }
   ],
   "source": [
    "dt.now(tz.tzoffset('America/Chicago', -6 * 3600))"
   ]
  },
  {
   "cell_type": "code",
   "execution_count": 21,
   "metadata": {},
   "outputs": [
    {
     "data": {
      "text/plain": [
       "datetime.datetime(2017, 11, 27, 1, 4, 56, 836716, tzinfo=datetime.timezone(datetime.timedelta(0), 'UTC'))"
      ]
     },
     "execution_count": 21,
     "metadata": {},
     "output_type": "execute_result"
    }
   ],
   "source": [
    "dt.now(tz.tzoffset('America/Chicago', 6)).astimezone()"
   ]
  },
  {
   "cell_type": "code",
   "execution_count": 22,
   "metadata": {},
   "outputs": [
    {
     "data": {
      "text/plain": [
       "'2017-11-27T02:04:56.855608+01:00'"
      ]
     },
     "execution_count": 22,
     "metadata": {},
     "output_type": "execute_result"
    }
   ],
   "source": [
    "dt.now(tz.gettz('Europe/Madrid')).isoformat()"
   ]
  },
  {
   "cell_type": "code",
   "execution_count": 23,
   "metadata": {},
   "outputs": [
    {
     "data": {
      "text/plain": [
       "'2017-11-26T19:04:56.875294-06:00'"
      ]
     },
     "execution_count": 23,
     "metadata": {},
     "output_type": "execute_result"
    }
   ],
   "source": [
    "dt.now(tz.gettz('America/Chicago')).isoformat()"
   ]
  },
  {
   "cell_type": "code",
   "execution_count": 24,
   "metadata": {},
   "outputs": [
    {
     "data": {
      "text/plain": [
       "datetime.datetime(2017, 11, 26, 19, 4, 56, 893373, tzinfo=tzfile('/usr/share/zoneinfo/America/Chicago'))"
      ]
     },
     "execution_count": 24,
     "metadata": {},
     "output_type": "execute_result"
    }
   ],
   "source": [
    "dt.now(tz.gettz('America/Chicago'))"
   ]
  },
  {
   "cell_type": "markdown",
   "metadata": {},
   "source": [
    "-----\n",
    "\n",
    "[[Back to TOC]](#Table-of-Contents)\n",
    "\n",
    "## TimeDelta\n",
    "\n",
    "TEXT\n",
    "\n",
    "\n",
    "https://catalog.data.gov/dataset/fdic-failed-bank-list/resource/608b288c-46bb-493c-a8ff-a2a0d05b51a0\n",
    "\n",
    "-----\n",
    "\n"
   ]
  },
  {
   "cell_type": "code",
   "execution_count": 25,
   "metadata": {},
   "outputs": [
    {
     "name": "stdout",
     "output_type": "stream",
     "text": [
      "2017-11-27 01:04:56.912229\n"
     ]
    }
   ],
   "source": [
    "from datetime import timedelta\n",
    "\n",
    "today = dt.today()\n",
    "print(today)"
   ]
  },
  {
   "cell_type": "code",
   "execution_count": 26,
   "metadata": {},
   "outputs": [
    {
     "name": "stdout",
     "output_type": "stream",
     "text": [
      "2017-11-26 01:04:56.912229\n"
     ]
    }
   ],
   "source": [
    "print(today - timedelta(hours=24))"
   ]
  },
  {
   "cell_type": "code",
   "execution_count": 27,
   "metadata": {},
   "outputs": [
    {
     "name": "stdout",
     "output_type": "stream",
     "text": [
      "2016-11-28 01:04:56.912229\n"
     ]
    }
   ],
   "source": [
    "print(today - timedelta(weeks=52))"
   ]
  },
  {
   "cell_type": "code",
   "execution_count": 28,
   "metadata": {},
   "outputs": [
    {
     "name": "stdout",
     "output_type": "stream",
     "text": [
      "2019-11-25 01:04:56.912229\n"
     ]
    }
   ],
   "source": [
    "print(today + timedelta(weeks=104))"
   ]
  },
  {
   "cell_type": "code",
   "execution_count": 29,
   "metadata": {},
   "outputs": [
    {
     "name": "stdout",
     "output_type": "stream",
     "text": [
      "2019-11-24 19:04:56.912229-06:00\n"
     ]
    }
   ],
   "source": [
    "print((today + timedelta(weeks=104)).astimezone(tz.gettz('America/Chicago')))"
   ]
  },
  {
   "cell_type": "markdown",
   "metadata": {},
   "source": [
    "-----\n",
    "\n",
    "<font color='red' size = '5'> Student Exercise </font>\n",
    "\n",
    "\n",
    "In the preceding cells, we introduced XXX and used this approach to fit a model to data with uncertainty. Now that you have run the notebook, go back and make the following changes to see how the results change.\n",
    "\n",
    "1. Change the \n",
    "1. Change the \n",
    "2. Try using a\n",
    "3. Try changing \n",
    "\n",
    "-----"
   ]
  },
  {
   "cell_type": "markdown",
   "metadata": {},
   "source": [
    "## Ancillary Information\n",
    "\n",
    "The following links are to additional documentation that you might find helpful in learning this material. Reading these web-accessible documents is completely optional.\n",
    "\n",
    "12. Wikipedia article on [Time Zone Database][wtzd]\n",
    "1. Python [`time` module][ptm] and [Python `datetime` module][pdtm]\n",
    "2. Informative tutorial introducing Python [time and datetime][tad] modules\n",
    "3. Summary sheet of [string time formatting codes][so]\n",
    "4. A Python [date and time][dt1] tutorial\n",
    "4. Another Python [date and time][dt2] tutorial\n",
    "4. Another Python [date and time][dt3] tutorial\n",
    "4. Another Python [date and time][dt4] tutorial\n",
    "4. And another Python [date and time][dt5] tutorial\n",
    "5. A tutorial on using Python [string format methods for working with times and dates][tsft]\n",
    "6. Set of tutorial on doing basic time and date operations, including [getting the current time and date][ptct]\n",
    "7. Python tutorial on [working with times and dates][ptt] including the use of Pandas.\n",
    "8. Tutorial on using pandas for times and dates, [part 1][ptd1] and [part 2][ptd2]\n",
    "111. Review of the Python [DateTime][pdtm] module\n",
    "112. Documentation for the Python [Dateutil][dud] module\n",
    "\n",
    "-----\n",
    "\n",
    "[wtzd]: https://en.wikipedia.org/wiki/Tz_database\n",
    "\n",
    "[ptm]: https://docs.python.org/3/library/time.html\n",
    "[pdtm]: https://docs.python.org/3/library/datetime.html\n",
    "\n",
    "[tad]: http://o7planning.org/en/11443/python-date-time-tutorial\n",
    "[so]: http://strftime.org\n",
    "\n",
    "[dt1]: https://intellipaat.com/tutorial/python-tutorial/python-date-and-time/\n",
    "[dt2]: https://www.webcodegeeks.com/python/python-datetime-tutorial/\n",
    "\n",
    "[ptct]: https://www.saltycrane.com/blog/2008/06/how-to-get-current-date-and-time-in/\n",
    "[dt3]: http://www.pythonforbeginners.com/basics/python-datetime-timedelta/\n",
    "\n",
    "[tsft]: https://www.tutorialspoint.com/python/time_strptime.htm\n",
    "[dt4]: https://www.tutorialspoint.com/python/python_date_time.htm\n",
    "[dt5]: https://opensource.com/article/17/5/understanding-datetime-python-primer\n",
    "[ptt]: http://www.marcelscharth.com/python/time.html\n",
    "[ptd1]: http://earthpy.org/pandas-basics.html\n",
    "[ptd2]: http://earthpy.org/time_series_analysis_with_pandas_part_2.html\n",
    "\n",
    "[dud]: https://dateutil.readthedocs.io/en/stable/\n",
    "[pdtm]: https://pymotw.com/2/datetime/"
   ]
  },
  {
   "cell_type": "markdown",
   "metadata": {
    "deletable": false,
    "editable": false
   },
   "source": [
    "**&copy; 2017: Robert J. Brunner at the University of Illinois.**\n",
    "\n",
    "This notebook is released under the [Creative Commons license CC BY-NC-SA 4.0][ll]. Any reproduction, adaptation, distribution, dissemination or making available of this notebook for commercial use is not allowed unless authorized in writing by the copyright holder.\n",
    "\n",
    "[ll]: https://creativecommons.org/licenses/by-nc-sa/4.0/legalcode"
   ]
  }
 ],
 "metadata": {
  "kernelspec": {
   "display_name": "Python 3",
   "language": "python",
   "name": "python3"
  },
  "language_info": {
   "codemirror_mode": {
    "name": "ipython",
    "version": 3
   },
   "file_extension": ".py",
   "mimetype": "text/x-python",
   "name": "python",
   "nbconvert_exporter": "python",
   "pygments_lexer": "ipython3",
   "version": "3.6.1"
  }
 },
 "nbformat": 4,
 "nbformat_minor": 1
}
