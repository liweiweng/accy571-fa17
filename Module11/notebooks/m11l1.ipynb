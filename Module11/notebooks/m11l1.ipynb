{
 "cells": [
  {
   "cell_type": "markdown",
   "metadata": {},
   "source": [
    "# Module 11: Lesson 1\n",
    "\n",
    "-----\n",
    "\n",
    "## Introduction to Time Series Data\n",
    "\n",
    "In this lesson, you will learn about time series data by reading about how business generate and consume different time series data sets. These readings include discussions on economic forecasting and retail sales, both of which leverage data that are sampled at different times to make predictions about future events.\n",
    "\n",
    "\n",
    "\n",
    "### Objectives\n",
    "\n",
    "By the end of this lesson, you will be able to \n",
    "\n",
    "- articulate the advantages and challenges presented by time series data for predictive modeling,\n",
    "- discuss how economic forecasting uses time series data, and\n",
    "- explain how historical retail sales can be used to predict future sales.\n",
    "\n",
    "### Time Estimate\n",
    "\n",
    "Approximately 1 hour.\n",
    "\n",
    "### Activities\n",
    "\n",
    "Video: Watch the [Introduction to Time Series Data][lv] video, which will introduce time series data and how they can be analyzed to provide unique insights.\n",
    "\n",
    "Reading: Read the Deloitte articles discussing economic outlooks in the [Asia-Pacific][aeo] region and in the [United States][useo].\n",
    "\n",
    "Reading: Read about the holiday [retail sales forecast][hrs] from Deloitte for the calendar year 2014.\n",
    "\n",
    "------\n",
    "\n",
    "\n",
    "[aeo]: https://dupress.deloitte.com/dup-us-en/economy/asia-pacific-economic-outlook/2017/q2-asia-retail-spending-boom.html\n",
    "\n",
    "[useo]: https://dupress.deloitte.com/dup-us-en/economy/us-economic-forecast/2017-q3.html\n",
    "\n",
    "[hrs]: https://dupress.deloitte.com/dup-us-en/economy/behind-the-numbers/2014-holiday-retail-sales-forecast.html\n",
    "\n",
    "[lv]: https://mediaspace.illinois.edu/media/"
   ]
  }
 ],
 "metadata": {
  "kernelspec": {
   "display_name": "Python 3",
   "language": "python",
   "name": "python3"
  },
  "language_info": {
   "codemirror_mode": {
    "name": "ipython",
    "version": 3
   },
   "file_extension": ".py",
   "mimetype": "text/x-python",
   "name": "python",
   "nbconvert_exporter": "python",
   "pygments_lexer": "ipython3",
   "version": "3.6.1"
  }
 },
 "nbformat": 4,
 "nbformat_minor": 2
}
