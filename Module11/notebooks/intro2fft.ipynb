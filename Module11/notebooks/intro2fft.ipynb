{
 "cells": [
  {
   "cell_type": "markdown",
   "metadata": {},
   "source": [
    "# Introduction to Fourier Transforms\n",
    "\n",
    "-----"
   ]
  },
  {
   "cell_type": "markdown",
   "metadata": {},
   "source": [
    "In this notebook, we introduce fourier transforms.\n",
    "\n",
    "-----\n"
   ]
  },
  {
   "cell_type": "markdown",
   "metadata": {},
   "source": [
    "## Table of Contents\n",
    "\n",
    "\n",
    "[](#)\n",
    "\n",
    "\n",
    "[](#)\n",
    "\n",
    "\n",
    "[](#)\n",
    "\n",
    "\n",
    "-----\n",
    "\n",
    "Before proceeding with the rest of this notebook, we first include the notebook setup code.\n",
    "\n",
    "-----"
   ]
  },
  {
   "cell_type": "code",
   "execution_count": 1,
   "metadata": {
    "collapsed": true
   },
   "outputs": [],
   "source": [
    "# Set up Notebook\n",
    "\n",
    "% matplotlib inline\n",
    "\n",
    "# Standard imports\n",
    "import numpy as np\n",
    "import pandas as pd\n",
    "import matplotlib.pyplot as plt\n",
    "import seaborn as sns\n",
    "\n",
    "# These two lines suppress warnings that sometimes\n",
    "# occur when making visualizations\n",
    "import warnings\n",
    "warnings.filterwarnings('ignore')\n",
    "\n",
    "# Set global figure properties\n",
    "import matplotlib as mpl\n",
    "mpl.rcParams.update({'axes.titlesize' : 20,\n",
    "                     'axes.labelsize' : 18,\n",
    "                     'legend.fontsize': 16})\n",
    "\n",
    "# Set default Seaborn plotting style\n",
    "sns.set_style('white')"
   ]
  },
  {
   "cell_type": "markdown",
   "metadata": {},
   "source": [
    "-----\n",
    "\n",
    "[[Back to TOC]](#Table-of-Contents)\n",
    "\n",
    "## XXX\n",
    "\n",
    "TEXT\n",
    "\n",
    "-----\n",
    "\n"
   ]
  },
  {
   "cell_type": "markdown",
   "metadata": {},
   "source": [
    "-----\n",
    "\n",
    "<font color='red' size = '5'> Student Exercise </font>\n",
    "\n",
    "\n",
    "In the preceding cells, we introduced XXX and used this approach to fit a model to data with uncertainty. Now that you have run the notebook, go back and make the following changes to see how the results change.\n",
    "\n",
    "1. Change the \n",
    "1. Change the \n",
    "2. Try using a\n",
    "3. Try changing \n",
    "\n",
    "-----"
   ]
  },
  {
   "cell_type": "markdown",
   "metadata": {},
   "source": [
    "## Ancillary Information\n",
    "\n",
    "The following links are to additional documentation that you might find helpful in learning this material. Reading these web-accessible documents is completely optional.\n",
    "\n",
    "12. Wikipedia article on [Fourier analysis][wfa]\n",
    "2. Tutorial on [Fourier Transform][begft]\n",
    "3. Python based [Introduction to the Fast Fourier Transform][tfft]\n",
    "4. Understanding the [Fast Fourier Transform][efft] with Python\n",
    "5. Tutorial on [Fourier analysis][tfa] \n",
    "\n",
    "-----\n",
    "\n",
    "[wfa]: https://en.wikipedia.org/wiki/Fourier_analysis\n",
    "\n",
    "[qna]: https://www.quantstart.com/articles/White-Noise-and-Random-Walks-in-Time-Series-Analysis\n",
    "\n",
    "[bfa]: https://www.safaribooksonline.com/library/view/elegant-scipy/9781491922927/ch04.html\n",
    "\n",
    "[begft]: https://betterexplained.com/articles/an-interactive-guide-to-the-fourier-transform/\n",
    "\n",
    "[tfft]: https://jeremykun.com/2012/07/18/the-fast-fourier-transform/\n",
    "\n",
    "[efft]: https://jakevdp.github.io/blog/2013/08/28/understanding-the-fft/\n",
    "\n",
    "[sfft]: https://docs.scipy.org/doc/scipy/reference/tutorial/fftpack.html\n",
    "\n",
    "[tfa]: https://www.gaussianwaves.com/2013/05/a-tutorial-on-fourier-analysis-fourier-series/\n",
    "\n",
    "[fssw]: http://firsttimeprogrammer.blogspot.com/2015/04/fourier-series-and-square-wave.html\n",
    "\n",
    "[pfam]: https://www.plot.ly/matplotlib/fft/\n",
    "\n",
    "[faps]: http://linuxgazette.net/115/andreasen.html (Sunspots FFT)\n",
    "\n",
    "[fap]: https://www.asee.org/public/conferences/56/papers/12461/download\n",
    "\n",
    "[pfsp]: https://glowingpython.blogspot.com/2011/08/how-to-plot-frequency-spectrum-with.html\n",
    "\n",
    "[bspp]: http://samcarcagno.altervista.org/blog/basic-sound-processing-python/\n",
    "\n",
    "[wrp]: http://jseabold.net/blog/2012/02/23/wavelet-regression-in-python/"
   ]
  },
  {
   "cell_type": "markdown",
   "metadata": {
    "deletable": false,
    "editable": false
   },
   "source": [
    "**&copy; 2017: Robert J. Brunner at the University of Illinois.**\n",
    "\n",
    "This notebook is released under the [Creative Commons license CC BY-NC-SA 4.0][ll]. Any reproduction, adaptation, distribution, dissemination or making available of this notebook for commercial use is not allowed unless authorized in writing by the copyright holder.\n",
    "\n",
    "[ll]: https://creativecommons.org/licenses/by-nc-sa/4.0/legalcode"
   ]
  }
 ],
 "metadata": {
  "kernelspec": {
   "display_name": "Python 3",
   "language": "python",
   "name": "python3"
  },
  "language_info": {
   "codemirror_mode": {
    "name": "ipython",
    "version": 3
   },
   "file_extension": ".py",
   "mimetype": "text/x-python",
   "name": "python",
   "nbconvert_exporter": "python",
   "pygments_lexer": "ipython3",
   "version": "3.6.1"
  }
 },
 "nbformat": 4,
 "nbformat_minor": 1
}
