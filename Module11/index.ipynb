{
 "cells": [
  {
   "cell_type": "markdown",
   "metadata": {},
   "source": [
    "# Module 11: Introduction to Time Series Data\n",
    "\n",
    "This module introduces time and date data, which provide unique learning opportunities and challenges. First, we will review how business use historical time series data to make generate forecasts. Second, we will discuss how to properly handle time and date features within a Python program. Next, we will extend this discussion to handle data indexed (or tagged) by time and date information, which is known as time series data. Finally, we will learn about Fourier analysis, which separates time series data into constituent, periodic components.\n",
    "\n",
    "## Learning Objectives\n",
    "\n",
    "#### By the end of this module, you should be able to:\n",
    "\n",
    "- discuss different ways businesses use time series data to forecast future events,\n",
    "- work effectively with time and date data by using Python,\n",
    "- use the Pandas library to manipulate data sets that include time and date features, and\n",
    "- apply Fourier analysis to identify periodic components within a time series data set.\n",
    "\n",
    "### Activities and Assignments\n",
    "\n",
    "| Activities and Assignments               | Time Estimate | Deadline* | Points |\n",
    "| :--------------------------------------- | ------------- | --------- | -----: |\n",
    "| **[Module 11 Overview Video][wv]**      | 10 Minutes    | Tuesday  |    N/A |\n",
    "| **[Module 11 Lesson 1: Introduction to Time Series Data][nb1]** | 1 Hour  | Thursday  |     N/A |\n",
    "| **[Module 11 Lesson 2: Working with Times and Dates][nb2]** | 2 Hours | Thursday  |     N/A |\n",
    "| **[Module 11 Lesson 3: Analyzing Time Series Data][nb3]** | 2 Hours | Thursday  |     N/A |\n",
    "| **[Module 11 Lesson 4: Introduction to Fourier Analysis][nb4]** | 2 Hours   | Thursday  |     N/A |\n",
    "| **[Module 11 Quiz][wq]**                    | 30 Minutes    | Friday    |     25|\n",
    "| **[Module 11 Assignment][ma]**                    | 2 hours   | (following) Monday    |  100 |\n",
    "\n",
    "*Please note that unless otherwise noted, the due time is 6pm Central time!\n",
    "\n",
    "----------\n",
    "\n",
    "[nb1]: notebooks/m11l1.ipynb\n",
    "[nb2]: notebooks/m11l2.ipynb\n",
    "[nb3]: notebooks/m11l3.ipynb\n",
    "[nb4]: notebooks/m11l4.ipynb\n",
    "\n",
    "[ma]: https://datascience.business.illinois.edu/user/accy/notebooks/accy571/assignments/Module11/assignment.ipynb\n",
    "\n",
    "[wv]: https://mediaspace.illinois.edu/media/\n",
    "[wq]: https://learn.illinois.edu/mod/quiz/view.php?id=2366491"
   ]
  }
 ],
 "metadata": {
  "kernelspec": {
   "display_name": "Python 3",
   "language": "python",
   "name": "python3"
  },
  "language_info": {
   "codemirror_mode": {
    "name": "ipython",
    "version": 3
   },
   "file_extension": ".py",
   "mimetype": "text/x-python",
   "name": "python",
   "nbconvert_exporter": "python",
   "pygments_lexer": "ipython3",
   "version": "3.6.1"
  }
 },
 "nbformat": 4,
 "nbformat_minor": 2
}
