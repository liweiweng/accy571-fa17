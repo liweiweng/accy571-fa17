{
 "cells": [
  {
   "cell_type": "markdown",
   "metadata": {},
   "source": [
    "# Introduction to Hidden Markov Models\n",
    "\n",
    "-----"
   ]
  },
  {
   "cell_type": "markdown",
   "metadata": {},
   "source": [
    "In this notebook, we introduce fourier transforms.\n",
    "\n",
    "-----\n"
   ]
  },
  {
   "cell_type": "markdown",
   "metadata": {},
   "source": [
    "## Table of Contents\n",
    "\n",
    "\n",
    "[](#)\n",
    "\n",
    "\n",
    "[](#)\n",
    "\n",
    "\n",
    "[](#)\n",
    "\n",
    "\n",
    "-----\n",
    "\n",
    "Before proceeding with the rest of this notebook, we first include the notebook setup code.\n",
    "\n",
    "-----"
   ]
  },
  {
   "cell_type": "code",
   "execution_count": 1,
   "metadata": {
    "collapsed": true
   },
   "outputs": [],
   "source": [
    "# Set up Notebook\n",
    "\n",
    "% matplotlib inline\n",
    "\n",
    "# Standard imports\n",
    "import numpy as np\n",
    "import pandas as pd\n",
    "import matplotlib.pyplot as plt\n",
    "import seaborn as sns\n",
    "\n",
    "# These two lines suppress warnings that sometimes\n",
    "# occur when making visualizations\n",
    "import warnings\n",
    "warnings.filterwarnings('ignore')\n",
    "\n",
    "# Set global figure properties\n",
    "import matplotlib as mpl\n",
    "mpl.rcParams.update({'axes.titlesize' : 20,\n",
    "                     'axes.labelsize' : 18,\n",
    "                     'legend.fontsize': 16})\n",
    "\n",
    "# Set default Seaborn plotting style\n",
    "sns.set_style('white')"
   ]
  },
  {
   "cell_type": "markdown",
   "metadata": {},
   "source": [
    "-----\n",
    "\n",
    "[[Back to TOC]](#Table-of-Contents)\n",
    "\n",
    "## XXX\n",
    "\n",
    "TEXT\n",
    "\n",
    "-----\n",
    "\n"
   ]
  },
  {
   "cell_type": "markdown",
   "metadata": {},
   "source": [
    "-----\n",
    "\n",
    "<font color='red' size = '5'> Student Exercise </font>\n",
    "\n",
    "\n",
    "In the preceding cells, we introduced XXX and used this approach to fit a model to data with uncertainty. Now that you have run the notebook, go back and make the following changes to see how the results change.\n",
    "\n",
    "1. Change the \n",
    "1. Change the \n",
    "2. Try using a\n",
    "3. Try changing \n",
    "\n",
    "-----"
   ]
  },
  {
   "cell_type": "markdown",
   "metadata": {},
   "source": [
    "## Ancillary Information\n",
    "\n",
    "The following links are to additional documentation that you might find helpful in learning this material. Reading these web-accessible documents is completely optional.\n",
    "\n",
    "12. Wikipedia article on [hidden Markov models][whmm]\n",
    "21. Introduction to [hidden Markov models][qhmm] using Python\n",
    "3. [Hidden Markov model][phmmi] tutorial for stock prices using Python \n",
    "4. Multipart tutorial on [hidden Markov models][hmmr] in finance, using R\n",
    "5. Another multipart tutorial on [hidden Markov models][hmmrd] in finance, using R\n",
    "11. Introduction to [hidden Markov models][qhmm] using R from a quantitative finance perspective\n",
    "6. Presentation introducing [hidden Markov models][phmmo]\n",
    "7. Tutorial on [hidden Markov models][thmm] for speech recognition\n",
    "\n",
    "-----\n",
    "\n",
    "[whmm]: https://en.wikipedia.org/wiki/Hidden_Markov_model\n",
    "\n",
    "[qhmm]: https://www.quantstart.com/articles/hidden-markov-models-an-introduction\n",
    "\n",
    "[phmmi]: http://www.blackarbs.com/blog/introduction-hidden-markov-models-python-networkx-sklearn/2/9/2017\n",
    "\n",
    "[pchmm]: https://github.com/alexsosn/MarslandMLAlgo/blob/master/Ch16/HMM.py\n",
    "\n",
    "[thmm]: https://codefying.com/2016/09/15/a-tutorial-on-hidden-markov-model-with-a-stock-price-example/\n",
    "\n",
    "[hmmrd]: https://www.quantstart.com/articles/hidden-markov-models-for-regime-detection-using-r\n",
    "\n",
    "[hmmr]: http://gekkoquant.com/2014/05/18/hidden-markov-models-model-description-part-1-of-4/\n",
    "\n",
    "[phmmo]: http://www.robots.ox.ac.uk/~vgg/rg/slides/hmm.pdf\n",
    "\n",
    "[thmm]: http://www-stat.wharton.upenn.edu/~steele/Courses/956/ResourceDetails/HiddenMarkovModels/HMMTutorial/rabiner89.pdf"
   ]
  },
  {
   "cell_type": "markdown",
   "metadata": {
    "deletable": false,
    "editable": false
   },
   "source": [
    "**&copy; 2017: Robert J. Brunner at the University of Illinois.**\n",
    "\n",
    "This notebook is released under the [Creative Commons license CC BY-NC-SA 4.0][ll]. Any reproduction, adaptation, distribution, dissemination or making available of this notebook for commercial use is not allowed unless authorized in writing by the copyright holder.\n",
    "\n",
    "[ll]: https://creativecommons.org/licenses/by-nc-sa/4.0/legalcode"
   ]
  }
 ],
 "metadata": {
  "kernelspec": {
   "display_name": "Python 3",
   "language": "python",
   "name": "python3"
  },
  "language_info": {
   "codemirror_mode": {
    "name": "ipython",
    "version": 3
   },
   "file_extension": ".py",
   "mimetype": "text/x-python",
   "name": "python",
   "nbconvert_exporter": "python",
   "pygments_lexer": "ipython3",
   "version": "3.6.1"
  }
 },
 "nbformat": 4,
 "nbformat_minor": 2
}
