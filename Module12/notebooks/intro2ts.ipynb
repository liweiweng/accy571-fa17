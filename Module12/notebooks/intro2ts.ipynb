{
 "cells": [
  {
   "cell_type": "markdown",
   "metadata": {},
   "source": [
    "# Introduction to Time Series Analysis\n",
    "\n",
    "-----"
   ]
  },
  {
   "cell_type": "markdown",
   "metadata": {},
   "source": [
    "In this notebook, we introduce fourier transforms.\n",
    "\n",
    "-----\n"
   ]
  },
  {
   "cell_type": "markdown",
   "metadata": {},
   "source": [
    "## Table of Contents\n",
    "\n",
    "\n",
    "[](#)\n",
    "\n",
    "\n",
    "[](#)\n",
    "\n",
    "\n",
    "[](#)\n",
    "\n",
    "\n",
    "-----\n",
    "\n",
    "Before proceeding with the rest of this notebook, we first include the notebook setup code.\n",
    "\n",
    "-----"
   ]
  },
  {
   "cell_type": "code",
   "execution_count": 1,
   "metadata": {
    "collapsed": true
   },
   "outputs": [],
   "source": [
    "# Set up Notebook\n",
    "\n",
    "% matplotlib inline\n",
    "\n",
    "# Standard imports\n",
    "import numpy as np\n",
    "import pandas as pd\n",
    "import matplotlib.pyplot as plt\n",
    "import seaborn as sns\n",
    "\n",
    "# These two lines suppress warnings that sometimes\n",
    "# occur when making visualizations\n",
    "import warnings\n",
    "warnings.filterwarnings('ignore')\n",
    "\n",
    "# Set global figure properties\n",
    "import matplotlib as mpl\n",
    "mpl.rcParams.update({'axes.titlesize' : 20,\n",
    "                     'axes.labelsize' : 18,\n",
    "                     'legend.fontsize': 16})\n",
    "\n",
    "# Set default Seaborn plotting style\n",
    "sns.set_style('white')"
   ]
  },
  {
   "cell_type": "markdown",
   "metadata": {},
   "source": [
    "-----\n",
    "\n",
    "[[Back to TOC]](#Table-of-Contents)\n",
    "\n",
    "## XXX\n",
    "\n",
    "TEXT\n",
    "\n",
    "-----\n",
    "\n"
   ]
  },
  {
   "cell_type": "markdown",
   "metadata": {},
   "source": [
    "-----\n",
    "\n",
    "<font color='red' size = '5'> Student Exercise </font>\n",
    "\n",
    "\n",
    "In the preceding cells, we introduced XXX and used this approach to fit a model to data with uncertainty. Now that you have run the notebook, go back and make the following changes to see how the results change.\n",
    "\n",
    "1. Change the \n",
    "1. Change the \n",
    "2. Try using a\n",
    "3. Try changing \n",
    "\n",
    "-----"
   ]
  },
  {
   "cell_type": "markdown",
   "metadata": {},
   "source": [
    "## Ancillary Information\n",
    "\n",
    "The following links are to additional documentation that you might find helpful in learning this material. Reading these web-accessible documents is completely optional.\n",
    "\n",
    "12. Wikipedia article on [forecasting][wf]\n",
    "1. Introduction to machine learning for [time series forecasting][tsfpq] in Python\n",
    "3. [Time series forecasting][tsfp] in Python\n",
    "3. Python based [time series analysis][ptsa] article\n",
    "4. Python based article on [ARIMA models][pam]\n",
    "4. Python based article on [SARIMA models][psam]\n",
    "4. Python based article on [ARIMAX models][paxm]\n",
    "4. Python based article on [GARCH models][pgm]\n",
    "5. Article on [time series forecasting][bapts] using Python\n",
    "6. Multipart article on time series forecasting using R, [Part I][p1r], [Part II][p2r], and [Part III][p3r]\n",
    "\n",
    "7. Introduction to [time series analysis][tsrb] using R\n",
    "8. Business [time series forecasting][btsf] text\n",
    "9. First course on [time series analysis][ctsa] text using SAS\n",
    "10. Online course material for [time series analysis][psuts] from Penn State University\n",
    "10. Online course material for [time series analysis][ucbts] from University of California, Berkeley\n",
    "11. Cheatsheet on what [forecasting model to use and why][dwuts]\n",
    "11. Cheatsheet on [summary rules for ARIMA models][srts]\n",
    "12. Notebook demonstrating how to apply [time series analysis][ntsg] in Python\n",
    "13. (older) presentation by creator of Pandas on [time series modeling][tsm] in Python\n",
    "\n",
    "-----\n",
    "\n",
    "[wf]: https://en.wikipedia.org/wiki/Forecasting\n",
    "\n",
    "[tsfp]: https://www.analyticsvidhya.com/blog/2016/02/time-series-forecasting-codes-python/\n",
    "[ptsa]: https://bicorner.com/2015/11/16/time-series-analysis-using-ipython/\n",
    "[pam]: http://barnesanalytics.com/basics-of-arima-models-with-statsmodels-in-python\n",
    "[psam]: http://barnesanalytics.com/sarima-models-using-statsmodels-in-python\n",
    "[paxm]: http://barnesanalytics.com/analyzing-multivariate-time-series-using-arimax-in-python-with-statsmodels\n",
    "[pgm]: http://barnesanalytics.com/garch-models-in-python\n",
    "[bapts]: http://www.blackarbs.com/blog/time-series-analysis-in-python-linear-models-to-garch/11/1/2016\n",
    "[p1r]: https://www.quantstart.com/articles/ARIMA-GARCH-Trading-Strategy-on-the-SP500-Stock-Market-Index-Using-R\n",
    "[p2r]: https://www.quantstart.com/articles/Autoregressive-Moving-Average-ARMA-p-q-Models-for-Time-Series-Analysis-Part-2\n",
    "[p3r]: https://www.quantstart.com/articles/Autoregressive-Moving-Average-ARMA-p-q-Models-for-Time-Series-Analysis-Part-3\n",
    "[tsrb]: http://www.stat.pitt.edu/stoffer/tsa4/tsaEZ.pdf\n",
    "[btsf]: http://home.ubalt.edu/ntsbarsh/Business-stat/stat-data/Forecast.htm\n",
    "[ctsa]: http://www.statistik-mathematik.uni-wuerzburg.de/fileadmin/10040800/user_upload/time_series/the_book/2012-August-01-times.pdf\n",
    "[psuts]: https://onlinecourses.science.psu.edu/stat510/node/47\n",
    "[ucbts]: https://www.stat.berkeley.edu/~bartlett/courses/153-fall2010/lectures/1.\n",
    "\n",
    "[dwuts]: http://people.duke.edu/~rnau/whatuse.htm\n",
    "[srts]: http://people.duke.edu/~rnau/arimrule.htm\n",
    "[ntsg]: https://github.com/twiecki/financial-analysis-python-tutorial/blob/master/2.%20Pandas%20replication%20of%20Google%20Trends%20paper.ipynb\n",
    "[tsm]: http://conference.scipy.org/scipy2011/slides/mckinney_time_series.pdf\n",
    "[tsfpq]: https://www.quantstart.com/articles/Forecasting-Financial-Time-Series-Part-1"
   ]
  },
  {
   "cell_type": "markdown",
   "metadata": {
    "deletable": false,
    "editable": false
   },
   "source": [
    "**&copy; 2017: Robert J. Brunner at the University of Illinois.**\n",
    "\n",
    "This notebook is released under the [Creative Commons license CC BY-NC-SA 4.0][ll]. Any reproduction, adaptation, distribution, dissemination or making available of this notebook for commercial use is not allowed unless authorized in writing by the copyright holder.\n",
    "\n",
    "[ll]: https://creativecommons.org/licenses/by-nc-sa/4.0/legalcode"
   ]
  }
 ],
 "metadata": {
  "kernelspec": {
   "display_name": "Python 3",
   "language": "python",
   "name": "python3"
  },
  "language_info": {
   "codemirror_mode": {
    "name": "ipython",
    "version": 3
   },
   "file_extension": ".py",
   "mimetype": "text/x-python",
   "name": "python",
   "nbconvert_exporter": "python",
   "pygments_lexer": "ipython3",
   "version": "3.6.1"
  }
 },
 "nbformat": 4,
 "nbformat_minor": 2
}
