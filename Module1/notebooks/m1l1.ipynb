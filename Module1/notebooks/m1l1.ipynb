{
 "cells": [
  {
   "cell_type": "markdown",
   "metadata": {},
   "source": [
    "# Module 1: Lesson 1\n",
    "\n",
    "-----\n",
    "\n",
    "## Introduction to Data\n",
    "\n",
    "Data takes many forms including numerical, text, image, audio, and even video. All of these different data formats can be used in data analytics. Learning to recognize the value in these different formats, and in being able to read, process, and write data from these different formats is an increasingly important skill. In this lesson, you will read about ways analytics can be applied to data, including data that were historically considered outside the role of the business analyst. \n",
    "\n",
    "### Objectives\n",
    "\n",
    "By the end of this lesson, you will understand \n",
    "\n",
    "- that data are a critical business asset,\n",
    "- that data are generated in an increasingly diverse manner,\n",
    "- data analysts must handle data in diverse formats, and\n",
    "- deep insights can be gained by analyzing heterogenous data.\n",
    "\n",
    "### Time Estimate\n",
    "\n",
    "Approximately 1 hour.\n",
    "\n",
    "### Activities\n",
    "\n",
    "Video: Watch the [Introduction to Data][lv] video, which will discuss the challenge of analyzing data from stored in different formats.\n",
    "\n",
    "Reading: Chapters 2 and 3 from the 2016 McKinsey Global Institute [The Age of Analytics: Competing in a Data-Driven World][xyz] report.\n",
    "\n",
    "------\n",
    "\n",
    "[xyz]: https://www.mckinsey.com/~/media/mckinsey/business%20functions/mckinsey%20analytics/our%20insights/the%20age%20of%20analytics%20competing%20in%20a%20data%20driven%20world/mgi-the-age-of-analytics-full-report.ashx\n",
    "\n",
    "[lv]: https://mediaspace.illinois.edu/media/t/1_3stynhd0"
   ]
  }
 ],
 "metadata": {
  "kernelspec": {
   "display_name": "Python 3",
   "language": "python",
   "name": "python3"
  },
  "language_info": {
   "codemirror_mode": {
    "name": "ipython",
    "version": 3
   },
   "file_extension": ".py",
   "mimetype": "text/x-python",
   "name": "python",
   "nbconvert_exporter": "python",
   "pygments_lexer": "ipython3",
   "version": "3.6.1"
  }
 },
 "nbformat": 4,
 "nbformat_minor": 2
}
