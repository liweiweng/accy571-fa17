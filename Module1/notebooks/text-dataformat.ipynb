{
 "cells": [
  {
   "cell_type": "markdown",
   "metadata": {},
   "source": [
    "<DIV ALIGN=CENTER>\n",
    "\n",
    "# Introduction to Text Data Format\n",
    "## Professor Robert J. Brunner\n",
    "  \n",
    "</DIV>  \n",
    "-----\n",
    "-----"
   ]
  },
  {
   "cell_type": "markdown",
   "metadata": {},
   "source": [
    "## Introduction\n",
    "\n",
    "We have already touched upon data formats in the context of data\n",
    "persistence. But one of the most important tasks when starting a data\n",
    "analysis project is understanding the format of a data file and how to\n",
    "best extract the necessary information from the data, whatever the\n",
    "format. In this notebook, we explore different text data format, and present\n",
    "how to read and write data in this format by using standard, built-in\n",
    "Python tools.\n",
    "\n",
    "-----\n",
    "\n"
   ]
  },
  {
   "cell_type": "markdown",
   "metadata": {},
   "source": [
    "## Table of Contents\n",
    "\n",
    "[XX](#XX-YY)\n",
    "\n",
    "-----\n",
    "\n",
    "Before proceeding with the rest of this notebook, we first have our standard notebook setup code.\n",
    "\n",
    "-----"
   ]
  },
  {
   "cell_type": "markdown",
   "metadata": {},
   "source": [
    "Before we begin, however, we need to read in test data to be able to\n",
    "have data that we can write and read to different text based formats.\n",
    "Since understanding the following code is actually one of the points of\n",
    "this Notebook, first run the notebook, and return to this code cell\n",
    "after completing the rest of the Notebook.\n",
    "\n",
    "First, we make a temporary directory to store the data being processed before we \n",
    "grab the data of interest from the appropriate website. Next,\n",
    "we read that data into a Python list for subsequent processing.\n",
    "\n",
    "-----"
   ]
  },
  {
   "cell_type": "code",
   "execution_count": 1,
   "metadata": {},
   "outputs": [],
   "source": [
    "# We delete the old directory first (assuming it exists)\n",
    "# Before creaitng the new temp working directory\n",
    "!rm -rf /home/data_scientist/temp\n",
    "!mkdir /home/data_scientist/temp"
   ]
  },
  {
   "cell_type": "code",
   "execution_count": 2,
   "metadata": {},
   "outputs": [
    {
     "name": "stdout",
     "output_type": "stream",
     "text": [
      "--2016-10-14 17:11:50--  http://stat-computing.org/dataexpo/2009/airports.csv\n",
      "Resolving stat-computing.org (stat-computing.org)... 54.231.177.35\n",
      "Connecting to stat-computing.org (stat-computing.org)|54.231.177.35|:80... connected.\n",
      "HTTP request sent, awaiting response... 200 OK\n",
      "Length: 244438 (239K) [text/csv]\n",
      "Saving to: ‘/home/data_scientist/temp/airports.csv’\n",
      "\n",
      "/home/data_scientis 100%[=====================>] 238.71K   357KB/s   in 0.7s   \n",
      "\n",
      "2016-10-14 17:11:51 (357 KB/s) - ‘/home/data_scientist/temp/airports.csv’ saved [244438/244438]\n",
      "\n"
     ]
    }
   ],
   "source": [
    "# Grab the working data\n",
    "!wget -O /home/data_scientist/temp/airports.csv http://stat-computing.org/dataexpo/2009/airports.csv"
   ]
  },
  {
   "cell_type": "code",
   "execution_count": 3,
   "metadata": {},
   "outputs": [
    {
     "name": "stdout",
     "output_type": "stream",
     "text": [
      "[['iata', 'airport', 'city', 'state', 'country', 'lat', 'long'], ['00M', 'Thigpen ', 'Bay Springs', 'MS', 'USA', '31.95376472', '-89.23450472'], ['00R', 'Livingston Municipal', 'Livingston', 'TX', 'USA', '30.68586111', '-95.01792778']]\n"
     ]
    }
   ],
   "source": [
    "import csv\n",
    "\n",
    "airports = []\n",
    "\n",
    "with open('/home/data_scientist/temp/airports.csv', 'r') as csvfile:\n",
    "    \n",
    "    for row in csv.reader(csvfile, delimiter=','):\n",
    "        airports.append(row)\n",
    "\n",
    "print(airports[0:3])"
   ]
  },
  {
   "cell_type": "markdown",
   "metadata": {},
   "source": [
    "-----\n",
    "[[Back to TOC]](#Table-of-Contents)\n",
    "\n",
    "## Formatted Text\n",
    "\n",
    "The first data format we will discuss are formatted text files. These\n",
    "types of files are seemingly ubiquitous, despite (or perhaps because of)\n",
    "relying on a predominantly ASCII character encoding. This type of data\n",
    "format actually comes in two varieties: fixed-width format, and\n",
    "delimiter separated value format.\n",
    "\n",
    "Fixed-width format files are preferred by some programming languages, for\n",
    "example, Fortran, and also are easy to view when displayed. But they can\n",
    "be non-trivial to decode in C-based programming languages, including\n",
    "Python. To demonstrate a fixed width format, we can write and\n",
    "subsequently read the airport data we extracted from the SQLite3\n",
    "database. To write this data as a fixed width data format, we first need\n",
    "to construct appropriate [string formatting codes][sfc]. \n",
    "\n",
    "In the following code cell, we construct two format code strings, the\n",
    "first one is for the header row that contains the column labels, while\n",
    "the second one is for the data rows. These format codes are fairly easy\n",
    "to understand, we first enclose each string substitution in curly braces\n",
    "`{ }`, and use numbers to indicate the order of substitution. Next, we\n",
    "provide a colon `:` character to indicate the presence of a formatting\n",
    "code, which consists of numbers and a letter code. The numbers following\n",
    "the colon indicate the field width (in characters) and for\n",
    "floating-point data, the numbers after the period specify the precision\n",
    "(or numbers after the decimal point) of the value. The character code\n",
    "indicates the type of data to encode: 's' for string, and 'f' for\n",
    "floating-point. Thus, for example, `{1:29s}` means first format code\n",
    "substitution, with a representation that is 29 characters wide that will\n",
    "accept a string.\n",
    "\n",
    "-----\n",
    "\n",
    "[sfc]: https://docs.python.org/3.4/library/string.html#format-string-syntax"
   ]
  },
  {
   "cell_type": "code",
   "execution_count": 4,
   "metadata": {},
   "outputs": [],
   "source": [
    "# First we define our format specification codes\n",
    "hfmt = \"{0:5s}{1:29s}{2:27s}{3:6s}{4:10s}{5:12s}{6:10s}\\n\"\n",
    "fmt = \"{0:5s}{1:29s}{2:30s}{3:3s}{4:4s}{5:14.8f}{6:14.8f}\\n\"\n",
    "\n",
    "# We need to treat the first row special since it is the header row\n",
    "flag = True\n",
    "\n",
    "# Now open file and write out airports.\n",
    "with open('/home/data_scientist/temp/fixed-width.txt', 'w') as fout:\n",
    "    for row in airports:\n",
    "\n",
    "        # We output first line special since it is a header row.\n",
    "        if flag:\n",
    "            fout.write(hfmt.format(row[0], row[1], row[2], row[3], row[4], \\\n",
    "                                   row[5], row[6]))\n",
    "            flag = False\n",
    "        \n",
    "        else:\n",
    "            fout.write(fmt.format(row[0], row[1], row[2], row[3], row[4], \\\n",
    "                                  float(row[5]), float(row[6])))"
   ]
  },
  {
   "cell_type": "markdown",
   "metadata": {},
   "source": [
    "-----\n",
    "\n",
    "After running the previous code cell, we have a new file called\n",
    "`fixed-width.txt` that contains the list of airports in a fixed width\n",
    "format file. We can first verify this by either using the Unix command\n",
    "line tools to display the files contents, or simply use the `head`\n",
    "command to see the first few lines.\n",
    "\n",
    "-----"
   ]
  },
  {
   "cell_type": "code",
   "execution_count": 5,
   "metadata": {},
   "outputs": [
    {
     "name": "stdout",
     "output_type": "stream",
     "text": [
      "iata airport                      city                       state country   lat         long      \r\n",
      "00M  Thigpen                      Bay Springs                   MS USA    31.95376472  -89.23450472\r\n",
      "00R  Livingston Municipal         Livingston                    TX USA    30.68586111  -95.01792778\r\n",
      "00V  Meadow Lake                  Colorado Springs              CO USA    38.94574889 -104.56989330\r\n",
      "01G  Perry-Warsaw                 Perry                         NY USA    42.74134667  -78.05208056\r\n"
     ]
    }
   ],
   "source": [
    "!head -5 /home/data_scientist/temp/fixed-width.txt"
   ]
  },
  {
   "cell_type": "markdown",
   "metadata": {},
   "source": [
    "-----\n",
    "\n",
    "One of the hardest parts of dealing with fixed-width format data is\n",
    "quantifying the actual widths of each column. As demonstrated by the\n",
    "previous example, if you know the field widths ahead of time the\n",
    "challenge is greatly simplified. However, for unknown data, simply\n",
    "viewing the data is often not particularly helpful. In this case a good\n",
    "approach is to print out the numerical column values above a few rows of\n",
    "data to simplify determining the widths of each field. This is\n",
    "demonstrated in the following code cell.\n",
    "\n",
    "----"
   ]
  },
  {
   "cell_type": "code",
   "execution_count": 6,
   "metadata": {},
   "outputs": [
    {
     "name": "stdout",
     "output_type": "stream",
     "text": [
      "          111111111122222222223333333333444444444455555555556666666666777777777788888888889999999999\n",
      "0123456789012345678901234567890123456789012345678901234567890123456789012345678901234567890123456789\n",
      "----------------------------------------------------------------------------------------------------\n",
      "iata airport                      city                       state country   lat         long      \n",
      "00M  Thigpen                      Bay Springs                   MS USA    31.95376472  -89.23450472\n",
      "00R  Livingston Municipal         Livingston                    TX USA    30.68586111  -95.01792778\n",
      "00V  Meadow Lake                  Colorado Springs              CO USA    38.94574889 -104.56989330\n",
      "01G  Perry-Warsaw                 Perry                         NY USA    42.74134667  -78.05208056\n",
      "01J  Hilliard Airpark             Hilliard                      FL USA    30.68801250  -81.90594389\n"
     ]
    }
   ],
   "source": [
    "# Now lets quantify fixed width fields\n",
    "\n",
    "# We print out the character markers\n",
    "\n",
    "# First, we create a string of ten space characers, and join to that \n",
    "# strings of the numbers 1 - 9, each repeated ten times.\n",
    "\n",
    "print ((' ' * 10) + ''.join([str(i)*10 for i in range(1, 10)]))\n",
    "\n",
    "# The second line is simply a repeat of the digits 0-9 ten times, \n",
    "# followed by a line of dashes\n",
    "print('0123456789'*10)\n",
    "print('-'*100)\n",
    "\n",
    "# We only want to output a few lines, so we count the rows\n",
    "rCount = 0\n",
    "\n",
    "# Now Read in file data.\n",
    "with open('/home/data_scientist/temp/fixed-width.txt', 'r') as fin:\n",
    "    \n",
    "    for row in fin:\n",
    "        \n",
    "        # We skip last character, which is newline\n",
    "        print(row[:-1])\n",
    "        \n",
    "        # We only want to print out first five rows.\n",
    "        rCount += 1\n",
    "        if rCount > 5: \n",
    "            break"
   ]
  },
  {
   "cell_type": "markdown",
   "metadata": {},
   "source": [
    "-----\n",
    "\n",
    "From this output, we can see the widths of each column. For example, the\n",
    "first column extends from column 0 to column 4, while the second column\n",
    "extends across columns 5-33, inclusive. With this information, we could\n",
    "next read each row as a string, pull out the respective characters for\n",
    "each field, strip any leading or trailing white space, and convert the\n",
    "character data to the appropriate format. This code sample, however, is\n",
    "left as an exercise for the breakout session. An alternative technique\n",
    "would be to use Regular Expressions, discused in the [Introduction to\n",
    "Data Parsing][idp] notebook to exactly match the requisite number of\n",
    "characters and convert the results appropriately.\n",
    "\n",
    "-----\n",
    "\n",
    "[idp]: intro2dp.ipynb"
   ]
  },
  {
   "cell_type": "markdown",
   "metadata": {},
   "source": [
    "-----\n",
    "[[Back to TOC]](#Table-of-Contents)\n",
    "\n",
    "### Delimiter Separated Values\n",
    "\n",
    "A more popular formatted text data format is the delimiter separated\n",
    "value format where a specific delimiter character is used to\n",
    "distinguish between values in different columns. Traditionally, the\n",
    "delimiter most frequently used is the comma, leading to the\n",
    "comma-separated value (CSV) format. However, other delimiters are also\n",
    "used, including whitespace characters like the space or tab characters,\n",
    "or specific, infrequently used characters like the vertical bar `|`. \n",
    "\n",
    "We can easily read and write delimiter separated value formats by using\n",
    "the read and rite methods in the [`csv` module][csv]. These methods\n",
    "include an optional `delimiter` parameter that can be used to specify\n",
    "the actual value to use to distinguish between consecutive values in\n",
    "row. Other parameters can also be used to control how to escape the\n",
    "delimiter character and how to indicate the end of a line.\n",
    "\n",
    "-----\n",
    "[csv]: https://docs.python.org/3/library/csv.html"
   ]
  },
  {
   "cell_type": "code",
   "execution_count": 7,
   "metadata": {},
   "outputs": [],
   "source": [
    "# We will write a CSV file using the | character as a delimiter\n",
    "import csv\n",
    "\n",
    "with open('/home/data_scientist/temp/data.csv', 'w') as csvfile:\n",
    "    \n",
    "    # We need out csv writer stream\n",
    "    fout = csv.writer(csvfile, delimiter='|')\n",
    "    \n",
    "    # Now write each airport out using the delimiter\n",
    "    for airport in airports:\n",
    "        fout.writerow(airport)"
   ]
  },
  {
   "cell_type": "markdown",
   "metadata": {},
   "source": [
    "-----\n",
    "\n",
    "This simple code block demonstrated how to write out a vertical-bar\n",
    "separated value file. We can either view the file contents by using\n",
    "Unix command line tools or by using the IPython Notebook, as\n",
    "demonstrated in the next cell.\n",
    "\n",
    "-----"
   ]
  },
  {
   "cell_type": "code",
   "execution_count": 8,
   "metadata": {},
   "outputs": [
    {
     "name": "stdout",
     "output_type": "stream",
     "text": [
      "iata|airport|city|state|country|lat|long\r",
      "\r\n",
      "00M|Thigpen |Bay Springs|MS|USA|31.95376472|-89.23450472\r",
      "\r\n",
      "00R|Livingston Municipal|Livingston|TX|USA|30.68586111|-95.01792778\r",
      "\r\n",
      "00V|Meadow Lake|Colorado Springs|CO|USA|38.94574889|-104.5698933\r",
      "\r\n",
      "01G|Perry-Warsaw|Perry|NY|USA|42.74134667|-78.05208056\r",
      "\r\n"
     ]
    }
   ],
   "source": [
    "!head -5 /home/data_scientist/temp/data.csv"
   ]
  },
  {
   "cell_type": "markdown",
   "metadata": {},
   "source": [
    "----- \n",
    "\n",
    "Reading the data into a Python program is straightforward, simply use\n",
    "the `csv.reader` method to iterate through the rows in the file. We\n",
    "demonstrate this in the following code cell, where we convert the data\n",
    "to fixed-width format to improve the readability of the resulting output.\n",
    "\n",
    "-----"
   ]
  },
  {
   "cell_type": "code",
   "execution_count": 9,
   "metadata": {
    "scrolled": true
   },
   "outputs": [
    {
     "name": "stdout",
     "output_type": "stream",
     "text": [
      "iata airport                      city                       state country   lat         long      \n",
      "00M  Thigpen                      Bay Springs                   MS USA    31.95376472  -89.23450472\n",
      "00R  Livingston Municipal         Livingston                    TX USA    30.68586111  -95.01792778\n",
      "00V  Meadow Lake                  Colorado Springs              CO USA    38.94574889 -104.56989330\n",
      "01G  Perry-Warsaw                 Perry                         NY USA    42.74134667  -78.05208056\n",
      "01J  Hilliard Airpark             Hilliard                      FL USA    30.68801250  -81.90594389\n"
     ]
    }
   ],
   "source": [
    "# We can read the data and display by usiung our previous string format codes.\n",
    "hfmt = \"{0:5s}{1:29s}{2:27s}{3:6s}{4:10s}{5:12s}{6:10s}\"\n",
    "fmt = \"{0:5s}{1:29s}{2:30s}{3:3s}{4:4s}{5:14.8f}{6:14.8f}\"\n",
    "\n",
    "# First line is header row\n",
    "rCount = 0\n",
    "\n",
    "# Now Read in file data.\n",
    "            \n",
    "with open('/home/data_scientist/temp/data.csv', 'r') as csvfile:\n",
    "    for row in csv.reader(csvfile, delimiter='|'):\n",
    "\n",
    "        # We output first line special since it is a header row.\n",
    "        if rCount == 0:\n",
    "            print(hfmt.format(row[0], row[1], row[2], row[3], row[4], \\\n",
    "                              row[5], row[6]))\n",
    "    \n",
    "        # Else we simply print the row\n",
    "        else:\n",
    "            print(fmt.format(row[0], row[1], row[2], row[3], row[4], \\\n",
    "                             float(row[5]), float(row[6])))\n",
    "        \n",
    "        # We only want to print out first five rows.\n",
    "        rCount += 1\n",
    "        if rCount > 5: \n",
    "            break"
   ]
  },
  {
   "cell_type": "markdown",
   "metadata": {},
   "source": [
    "-----\n",
    "\n",
    "<font color='red' size = '5'> Student Exercise </font>\n",
    "\n",
    "Earlier in this notebook, we used XYZ. By using the preceding Code cells, try to make the following changes to see if your ability to identify outliers is improved.\n",
    "\n",
    "3. Try \n",
    "4. Try adding \n",
    "2. Change the \n",
    "\n",
    "-----"
   ]
  },
  {
   "cell_type": "markdown",
   "metadata": {},
   "source": [
    "## Ancillary Information\n",
    "\n",
    "The following links are to additional documentation that you might find helpful in learning this material. Reading these web-accessible documents is completely optional.\n",
    "\n",
    "4. A nice introduction on [][1]\n",
    "1. An overview of [][2]\n",
    "2. Wikipedia provides a [][3] \n",
    "43. Article discussing [][4] \n",
    "\n",
    "-----\n",
    "\n",
    "[4]: http://\n",
    "\n",
    "[1]: http://\n",
    "[2]: https://\n",
    "[3]: https://\n"
   ]
  },
  {
   "cell_type": "markdown",
   "metadata": {
    "deletable": false,
    "editable": false
   },
   "source": [
    "**&copy; 2017: Robert J. Brunner at the University of Illinois.**\n",
    "\n",
    "This notebook is released under the [Creative Commons license CC BY-NC-SA 4.0][ll]. Any reproduction, adaptation, distribution, dissemination or making available of this notebook for commercial use is not allowed unless authorized in writing by the copyright holder.\n",
    "\n",
    "[ll]: https://creativecommons.org/licenses/by-nc-sa/4.0/legalcode"
   ]
  }
 ],
 "metadata": {
  "kernelspec": {
   "display_name": "Python 3",
   "language": "python",
   "name": "python3"
  },
  "language_info": {
   "codemirror_mode": {
    "name": "ipython",
    "version": 3
   },
   "file_extension": ".py",
   "mimetype": "text/x-python",
   "name": "python",
   "nbconvert_exporter": "python",
   "pygments_lexer": "ipython3",
   "version": "3.6.1"
  }
 },
 "nbformat": 4,
 "nbformat_minor": 1
}
