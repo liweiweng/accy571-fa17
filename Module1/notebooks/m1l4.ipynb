{
 "cells": [
  {
   "cell_type": "markdown",
   "metadata": {},
   "source": [
    "# Module 1: Lesson 4\n",
    "\n",
    "-----\n",
    "\n",
    "##  Introduction to XML\n",
    "\n",
    "In this lesson, you will learn about the eXtensible Markup Language (XML) Data format, how to parse an XML document, and how to read and write an XML file.\n",
    "\n",
    "### Objectives\n",
    "\n",
    "By the end of this lesson, you will understand \n",
    "\n",
    "- the nature of the XML file format,\n",
    "- how to parse an XML document,\n",
    "- how to read data from a XML format file, and\n",
    "- how to write data to a XML format file.\n",
    "\n",
    "### Time Estimate\n",
    "\n",
    "Approximately 2 hours.\n",
    "\n",
    "### Activities\n",
    "\n",
    "Video: Watch the [Introduction to XML][lv] video, which will discuss .\n",
    "\n",
    "Reading: Read the Wikipedia article on the [XML format][xyz], you can stop when you reach the _Related specifications_ section.\n",
    "\n",
    "Notebook: Read and complete the practice exercises in the [Introduction to XML][intro2xml] notebook.\n",
    "\n",
    "------\n",
    "\n",
    "[xyz]: https://en.wikipedia.org/wiki/XML\n",
    "\n",
    "[lv]: https://mediaspace.illinois.edu/media/t/1_swfvdxw9\n",
    "\n",
    "[intro2xml]: xml-dataformat.ipynb"
   ]
  }
 ],
 "metadata": {
  "kernelspec": {
   "display_name": "Python 3",
   "language": "python",
   "name": "python3"
  },
  "language_info": {
   "codemirror_mode": {
    "name": "ipython",
    "version": 3
   },
   "file_extension": ".py",
   "mimetype": "text/x-python",
   "name": "python",
   "nbconvert_exporter": "python",
   "pygments_lexer": "ipython3",
   "version": "3.6.1"
  }
 },
 "nbformat": 4,
 "nbformat_minor": 2
}
