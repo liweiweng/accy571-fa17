{
 "cells": [
  {
   "cell_type": "markdown",
   "metadata": {},
   "source": [
    "# Module 1: Lesson 2\n",
    "\n",
    "-----\n",
    "\n",
    "## Introduction to Text Formats\n",
    "\n",
    "In this lesson, you will learn about the two different kinds of text files by reading from and writing data to both a delimiter separated file and a fixed-width format file.\n",
    "\n",
    "### Objectives\n",
    "\n",
    "By the end of this lesson, you will understand \n",
    "\n",
    "-  how to read and write a delimiter separated file, and\n",
    "-  how to read and write a fixed width format file.\n",
    "\n",
    "### Time Estimate\n",
    "\n",
    "Approximately 1 hour.\n",
    "\n",
    "### Activities\n",
    "\n",
    "Video: Watch the [Introduction to Text Formats][lv] video, which will discuss both fixed width text files and delimiter separated value format files.\n",
    "\n",
    "Reading: Read the Wikipedia article on the [Delimiter separated value format][xyz1].\n",
    "\n",
    "Reading: Read the Wikipedia article on the [Comma separated value format][xyz2].\n",
    "\n",
    "Notebook: Read and complete the practice exercises in the [Introduction to Text Formats][intro2text] notebook.\n",
    "\n",
    "------\n",
    "\n",
    "[xyz1]: https://en.wikipedia.org/wiki/Delimiter-separated_values\n",
    "\n",
    "[xyz2]: https://en.wikipedia.org/wiki/Comma-separated_values\n",
    "\n",
    "[lv]: https://mediaspace.illinois.edu/media/t/1_bnjrglb2\n",
    "\n",
    "[intro2text]: text-dataformat.ipynb"
   ]
  }
 ],
 "metadata": {
  "kernelspec": {
   "display_name": "Python 3",
   "language": "python",
   "name": "python3"
  },
  "language_info": {
   "codemirror_mode": {
    "name": "ipython",
    "version": 3
   },
   "file_extension": ".py",
   "mimetype": "text/x-python",
   "name": "python",
   "nbconvert_exporter": "python",
   "pygments_lexer": "ipython3",
   "version": "3.6.1"
  }
 },
 "nbformat": 4,
 "nbformat_minor": 2
}
