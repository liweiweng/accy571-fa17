{
 "cells": [
  {
   "cell_type": "markdown",
   "metadata": {},
   "source": [
    "# Module 1: Lesson 3\n",
    "\n",
    "-----\n",
    "\n",
    "## Introduction to JSON\n",
    "\n",
    "In this lesson, you will learn about creating, and reading from a JavaScript Object Notation (JSON) file.\n",
    "\n",
    "### Objectives\n",
    "\n",
    "By the end of this lesson, you will understand \n",
    "\n",
    "- the nature of the JSON file format,\n",
    "- how to read data from a JSON format file, and\n",
    "- how to write data to a JSON format file.\n",
    "\n",
    "### Time Estimate\n",
    "\n",
    "Approximately 1 hour.\n",
    "\n",
    "### Activities\n",
    "\n",
    "Video: Watch the [Introduction to JSON][lv] video, which will introduce the JSON file format and discus why it is useful in different situations.\n",
    "\n",
    "Reading: Read the Wikipedia article on the [JSON format][xyz], you can stop when you reach the _Schema and metadata_ section.\n",
    "\n",
    "Notebook: Read and complete the practice exercises in the [Introduction to JSON][intro2json] notebook.\n",
    "\n",
    "------\n",
    "\n",
    "[xyz]: https://en.wikipedia.org/wiki/JSON\n",
    "\n",
    "[lv]: https://mediaspace.illinois.edu/media/\n",
    "\n",
    "[intro2json]: json-dataformats.ipynb"
   ]
  }
 ],
 "metadata": {
  "kernelspec": {
   "display_name": "Python 3",
   "language": "python",
   "name": "python3"
  },
  "language_info": {
   "codemirror_mode": {
    "name": "ipython",
    "version": 3
   },
   "file_extension": ".py",
   "mimetype": "text/x-python",
   "name": "python",
   "nbconvert_exporter": "python",
   "pygments_lexer": "ipython3",
   "version": "3.6.1"
  }
 },
 "nbformat": 4,
 "nbformat_minor": 2
}
