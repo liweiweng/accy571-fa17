{
 "cells": [
  {
   "cell_type": "markdown",
   "metadata": {},
   "source": [
    "# Introduction to JSON Data Format\n",
    "\n",
    "-----"
   ]
  },
  {
   "cell_type": "markdown",
   "metadata": {},
   "source": [
    "When we first discussed reading and writing data from a Python program, we introduced the concept of a file format. In addition, the introduction to text format notebook demonstrated basic text format files. In this notebook, we extend that concept to another text-based file format, the JavaScript Object Notation, or JSON, format. Specifically, we will introduce the basic concepts behind JSON format files, and demonstrate how to read and write data in this format by using standard, built-in Python tools.\n",
    "\n",
    "-----"
   ]
  },
  {
   "cell_type": "markdown",
   "metadata": {},
   "source": [
    "## Table of Contents\n",
    "\n",
    "\n",
    "[Data Acquisition](#Data-Acquisition)\n",
    "\n",
    "[JSON](#JSON)\n"
   ]
  },
  {
   "cell_type": "markdown",
   "metadata": {},
   "source": [
    "-----\n",
    "[[Back to TOC]](#Table-of-Contents)\n",
    "\n",
    "## Data Acquisition\n",
    "\n",
    "Before we begin, we need test data that we can read and write in a JSON format. The next three Code cells are identical to those in the [Introduction to Text Format][tdf] notebook and perform the following operations:\n",
    "- define variables to indicate where data will be stored locally, \n",
    "- use `wget` to download the airport data if necessary, \n",
    "- reads the 2009 airport data into a Python list by using the `csv` module, and\n",
    "- displays the first three rows.\n",
    "\n",
    "-----\n",
    "\n",
    "[tdf]: text-dataformat.ipynb"
   ]
  },
  {
   "cell_type": "code",
   "execution_count": 1,
   "metadata": {
    "collapsed": true
   },
   "outputs": [],
   "source": [
    "# Airport 2009 data from stat-computing.org\n",
    "\n",
    "# First we find our HOME directory\n",
    "home_dir = !echo $HOME\n",
    "\n",
    "# Define data directory\n",
    "data_dir = home_dir[0] +'/data/'\n",
    "\n",
    "# Second we construct the full path, below our \n",
    "# HOME directory to file location\n",
    "data_file=data_dir + 'airports.csv'"
   ]
  },
  {
   "cell_type": "code",
   "execution_count": 2,
   "metadata": {},
   "outputs": [
    {
     "name": "stdout",
     "output_type": "stream",
     "text": [
      "File already exists locally.\n"
     ]
    }
   ],
   "source": [
    "%%bash -s \"$data_file\"\n",
    "\n",
    "# Note, we passed in a Python variable above to the Bash script \n",
    "# which is then accessed via positional parameter, or $1 in this case.\n",
    "\n",
    "# First test if file of interest does not exist\n",
    "if [ ! -f \"$1\" ] ; then\n",
    "\n",
    "# If it does not exist, we grab the file from the Internet and\n",
    "# store it locally in the data directory\n",
    "\n",
    "wget -O \"$1\" http://stat-computing.org/dataexpo/2009/airports.csv\n",
    "\n",
    "else\n",
    "    \n",
    "    echo \"File already exists locally.\"\n",
    "fi"
   ]
  },
  {
   "cell_type": "code",
   "execution_count": 3,
   "metadata": {},
   "outputs": [
    {
     "name": "stdout",
     "output_type": "stream",
     "text": [
      "[['iata', 'airport', 'city', 'state', 'country', 'lat', 'long'], ['00M', 'Thigpen ', 'Bay Springs', 'MS', 'USA', '31.95376472', '-89.23450472'], ['00R', 'Livingston Municipal', 'Livingston', 'TX', 'USA', '30.68586111', '-95.01792778']]\n"
     ]
    }
   ],
   "source": [
    "import csv\n",
    "\n",
    "airports = []\n",
    "\n",
    "# Open file and extract flights as list of strings\n",
    "with open(data_file, 'r') as csvfile:\n",
    "    \n",
    "    for row in csv.reader(csvfile, delimiter=','):\n",
    "        airports.append(row)\n",
    "\n",
    "# Display first three rows\n",
    "print(airports[0:3])"
   ]
  },
  {
   "cell_type": "markdown",
   "metadata": {},
   "source": [
    "-----\n",
    "[[Back to TOC]](#Table-of-Contents)\n",
    "\n",
    "### JSON\n",
    "\n",
    "[JavaScript Object Notation][json], or JSON, is a text-based data interchange format that is easy to read and write both for humans and programs. JSON is a [standard][st], published by the [ECMA International][ecma] standard organization, which was originally known as the European Computer Manufacturers Association, but is now a more global organization for the development of global computer and electronic standards. JSON is language independent but uses a syntax that is familiar to anyone who knows a C-based language, like Python. JSON is built on two types of constructs: a dictionary and a list, and the standard dictates how data are mapped into these constructs.\n",
    "\n",
    "The JSON standard is fairly simple, as it defines an object, an array, a value, a string, and a number data formats, upon which most of the rest of the standard is based. This makes writing and reading JSON data formats fairly straightforward. In Python, this functionality is provided by the built-in [`json`][jspy] module, which simplifies the process of [reading or writing][jsd] Python data structures _serialize_ a data hierarchy into a string representation via the `dump` method, and can _deserialize_ via the `load` module. These processes are demonstrated in the next few code cells.\n",
    "\n",
    "-----\n",
    "\n",
    "[json]: http://www.json.org\n",
    "[st]: http://www.ecma-international.org/publications/files/ECMA-ST/ECMA-404.pdf\n",
    "[ecma]: http://www.ecma-international.org\n",
    "[jspy]: https://docs.python.org/3/library/json.html\n",
    "[jsd]: https://docs.python.org/3/tutorial/inputoutput.html#saving-structured-data-with-json"
   ]
  },
  {
   "cell_type": "code",
   "execution_count": 4,
   "metadata": {
    "collapsed": true
   },
   "outputs": [],
   "source": [
    "import json\n",
    "\n",
    "# Dump data to JSON file\n",
    "with open(data_dir + 'data.json', 'w') as fout:\n",
    "    json.dump(airports, fout)"
   ]
  },
  {
   "cell_type": "markdown",
   "metadata": {},
   "source": [
    "----- \n",
    "\n",
    "We display the contents of our new JSON file in the following code cell; however, since this data format doesn't automatically split data over different lines, the entire file is contained in a single line. This can complicate viewing the data, but does not affect the utility of this data format in programmatic instances. To only display the first three rows, we use the `-c` flag to the `head` command, which limits the number of characters displayed to 235.\n",
    "\n",
    "-----"
   ]
  },
  {
   "cell_type": "code",
   "execution_count": 5,
   "metadata": {},
   "outputs": [
    {
     "name": "stdout",
     "output_type": "stream",
     "text": [
      "[[\"iata\", \"airport\", \"city\", \"state\", \"country\", \"lat\", \"long\"], [\"00M\", \"Thigpen \", \"Bay Springs\", \"MS\", \"USA\", \"31.95376472\", \"-89.23450472\"], [\"00R\", \"Livingston Municipal\", \"Livingston\", \"TX\", \"USA\", \"30.68586111\", \"-95.01792778\"],"
     ]
    }
   ],
   "source": [
    "# Show first three rows\n",
    "!head -c 235 $data_dir/data.json"
   ]
  },
  {
   "cell_type": "markdown",
   "metadata": {},
   "source": [
    "-----\n",
    "\n",
    "The beauty of a self-describing data format like JSON is that reading and reconstructing data from this format is straightforward. As demonstrated in the next code cell, we simply open the file and load the JSON formatted data.\n",
    "\n",
    "-----"
   ]
  },
  {
   "cell_type": "code",
   "execution_count": 6,
   "metadata": {},
   "outputs": [
    {
     "name": "stdout",
     "output_type": "stream",
     "text": [
      "[['iata', 'airport', 'city', 'state', 'country', 'lat', 'long'], ['00M', 'Thigpen ', 'Bay Springs', 'MS', 'USA', '31.95376472', '-89.23450472'], ['00R', 'Livingston Municipal', 'Livingston', 'TX', 'USA', '30.68586111', '-95.01792778'], ['00V', 'Meadow Lake', 'Colorado Springs', 'CO', 'USA', '38.94574889', '-104.5698933'], ['01G', 'Perry-Warsaw', 'Perry', 'NY', 'USA', '42.74134667', '-78.05208056']] \n",
      " --------------------------------------------------------------------------------\n",
      "[['iata', 'airport', 'city', 'state', 'country', 'lat', 'long'],\n",
      " ['00M', 'Thigpen ', 'Bay Springs', 'MS', 'USA', '31.95376472', '-89.23450472'],\n",
      " ['00R',\n",
      "  'Livingston Municipal',\n",
      "  'Livingston',\n",
      "  'TX',\n",
      "  'USA',\n",
      "  '30.68586111',\n",
      "  '-95.01792778'],\n",
      " ['00V',\n",
      "  'Meadow Lake',\n",
      "  'Colorado Springs',\n",
      "  'CO',\n",
      "  'USA',\n",
      "  '38.94574889',\n",
      "  '-104.5698933'],\n",
      " ['01G', 'Perry-Warsaw', 'Perry', 'NY', 'USA', '42.74134667', '-78.05208056']]\n"
     ]
    }
   ],
   "source": [
    "# First we can display the first five rows of the original data for comparison.\n",
    "print(airports[:5], '\\n', '-'*80)\n",
    "\n",
    "# We use the pretty-print method to \n",
    "from pprint import pprint\n",
    "\n",
    "# Open file and read the JSON formatted data\n",
    "with open(data_dir + 'data.json', 'r') as fin:\n",
    "    data = json.load(fin)\n",
    "\n",
    "# Pretty-print the first few rows\n",
    "pprint(data[:5])"
   ]
  },
  {
   "cell_type": "markdown",
   "metadata": {},
   "source": [
    "-----\n",
    "\n",
    "In this notebook, we demonstrated how to simply read and write basic text data in JSON format. The JSON format enables a much richer set of data to be processed, however, and is used in a number of situations, such as social media, to communicate complex data hierarchies between agents.\n",
    "\n",
    "-----"
   ]
  },
  {
   "cell_type": "markdown",
   "metadata": {},
   "source": [
    "<font color='red' size = '5'> Student Exercise </font>\n",
    "\n",
    "Earlier in this notebook, we used the `json` module to read and write JSON format files. Now that you have run the cells in this notebook, go back to the relevant cells and make these changes. Be sure to understand how your changes impact the file input and output process.\n",
    "\n",
    "3. Try writing only airports that are in the state of Illinois to the JSON file.\n",
    "56. The examples reading JSON files treated the data as strings. Change the code to strip leading and trailing white space and to convert all numerical data to floating-point values in the generated list.\n",
    "\n",
    "-----"
   ]
  },
  {
   "cell_type": "markdown",
   "metadata": {},
   "source": [
    "## Ancillary Information\n",
    "\n",
    "The following links are to additional documentation that you might find helpful in learning this material. Reading these web-accessible documents is completely optional.\n",
    "\n",
    "4. [JSON Tutorial][4] by W3Schools.\n",
    "54. The [JSON](http://json.org/) format\n",
    "43. Article from MongoDB on storing big data in a [JSON](http://smallworldbigdata.com/tag/json/) like format\n",
    "\n",
    "-----\n",
    "\n",
    "[4]: http://www.w3schools.com/json/default.asp"
   ]
  },
  {
   "cell_type": "markdown",
   "metadata": {
    "deletable": false,
    "editable": false
   },
   "source": [
    "**&copy; 2017: Robert J. Brunner at the University of Illinois.**\n",
    "\n",
    "This notebook is released under the [Creative Commons license CC BY-NC-SA 4.0][ll]. Any reproduction, adaptation, distribution, dissemination or making available of this notebook for commercial use is not allowed unless authorized in writing by the copyright holder.\n",
    "\n",
    "[ll]: https://creativecommons.org/licenses/by-nc-sa/4.0/legalcode"
   ]
  }
 ],
 "metadata": {
  "kernelspec": {
   "display_name": "Python 3",
   "language": "python",
   "name": "python3"
  },
  "language_info": {
   "codemirror_mode": {
    "name": "ipython",
    "version": 3
   },
   "file_extension": ".py",
   "mimetype": "text/x-python",
   "name": "python",
   "nbconvert_exporter": "python",
   "pygments_lexer": "ipython3",
   "version": "3.6.1"
  }
 },
 "nbformat": 4,
 "nbformat_minor": 1
}
