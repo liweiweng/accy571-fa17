{
 "cells": [
  {
   "cell_type": "markdown",
   "metadata": {},
   "source": [
    "# Introduction to XML Data Format\n",
    "\n",
    "-----"
   ]
  },
  {
   "cell_type": "markdown",
   "metadata": {},
   "source": [
    "## Introduction\n",
    "\n",
    "We have already touched upon data formats in the context of data\n",
    "persistence. But one of the most important tasks when starting a data\n",
    "analysis project is understanding the format of a data file and how to\n",
    "best extract the necessary information from the data, whatever the\n",
    "format. In this notebook, we explore the XML data format, and present\n",
    "how to read and write data in this format by using standard, built-in\n",
    "Python tools.\n",
    "\n",
    "-----\n",
    "\n"
   ]
  },
  {
   "cell_type": "markdown",
   "metadata": {},
   "source": [
    "## Table of Contents\n",
    "\n",
    "[XX](#XX-YY)\n",
    "\n",
    "-----\n",
    "\n",
    "Before proceeding with the rest of this notebook, we first have our standard notebook setup code.\n",
    "\n",
    "-----"
   ]
  },
  {
   "cell_type": "markdown",
   "metadata": {},
   "source": [
    "Before we begin, however, we need to read in test data to be able to\n",
    "have data that we can write and read to an XML format.\n",
    "\n",
    "This Notebook will only work after the [Text Data Format][tdf] notebook\n",
    "has been successfully completed.\n",
    "\n",
    "-----\n",
    "\n",
    "[tdf]: text-dataformat.ipynb"
   ]
  },
  {
   "cell_type": "code",
   "execution_count": 1,
   "metadata": {},
   "outputs": [
    {
     "name": "stdout",
     "output_type": "stream",
     "text": [
      "[['iata', 'airport', 'city', 'state', 'country', 'lat', 'long'], ['00M', 'Thigpen ', 'Bay Springs', 'MS', 'USA', '31.95376472', '-89.23450472'], ['00R', 'Livingston Municipal', 'Livingston', 'TX', 'USA', '30.68586111', '-95.01792778']]\n"
     ]
    }
   ],
   "source": [
    "# Note, that we implicitly assume the text-dataformat notebook has already been executed\n",
    "# which will create the temp directory and download the airports.csv data\n",
    "import csv\n",
    "\n",
    "airports = []\n",
    "\n",
    "with open('/home/data_scientist/temp/airports.csv', 'r') as csvfile:\n",
    "    \n",
    "    for row in csv.reader(csvfile, delimiter=','):\n",
    "        airports.append(row)\n",
    "\n",
    "print(airports[0:3])"
   ]
  },
  {
   "cell_type": "markdown",
   "metadata": {},
   "source": [
    "-----\n",
    "[[Back to TOC]](#Table-of-Contents)\n",
    "\n",
    "\n",
    "## XML\n",
    "\n",
    "[Extensible Markup Language][xml], or XML, is a simple, self-describing\n",
    "text-based data format. XML is a standard developed by the W3C, or\n",
    "World-Wide Web Consortium, originally for large scale publishing, but\n",
    "with the growth of the web it has taken on new roles. XML is based on\n",
    "the concept of element, that can have attributes and values. Elements\n",
    "can be nested, which can indicate parent-child relationships or a form of\n",
    "containerization. While you may not ever deal directly with XML files,\n",
    "you wil interact with other data formats that are based on XML, such as\n",
    "the latest version of HyperTextMarkup Language (HTML5) or Scalable\n",
    "Vector Graphics format (SVG).\n",
    "\n",
    "Given its structured format, you don't simply read an XML document, you\n",
    "must parse the document to build up a model of the elements and their\n",
    "relationships. The [`ElementTree`][xmlpy] parsing model is implemented\n",
    "within the standard Python distribution in the `xml` library. T0 write\n",
    "an XML file, we simply need to create an instance of this, for example\n",
    "by passing a string into the class constructor, and then writing this\n",
    "XML encoded data to a file. One caveat with this entire process,\n",
    "however, is that the following five characters: `<`, `>`, `&`, `'`, and\n",
    "`\"` are used by the actual markup language, they must be replaced by\n",
    "their corresponding _entity code_. For these five characters, that can\n",
    "be easily done by using the `html`.escape` method as shown in the\n",
    "following code cell.\n",
    "\n",
    "-----\n",
    "[xml]: http://www.w3.org/XML/\n",
    "[w3c]: http://www.w3.org\n",
    "[html5]: http://www.w3.org/TR/html5/\n",
    "[svg]: http://www.w3.org/Graphics/SVG/\n",
    "[xmlpy]: https://docs.python.org/3/library/markup.html"
   ]
  },
  {
   "cell_type": "code",
   "execution_count": 2,
   "metadata": {},
   "outputs": [],
   "source": [
    "import html \n",
    "import xml.etree.ElementTree as ET\n",
    "\n",
    "data = '<?xml version=\"1.0\"?>\\n' + '<airports>\\n'\n",
    "\n",
    "for airport in airports[1:]:\n",
    "    data += '    <airport name=\"{0}\">\\n'.format(html.escape(airport[1]))\n",
    "    data += '        <iata>' + str(airport[0]) + '</iata>\\n'\n",
    "    data += '        <city>' + str(airport[2]) + '</city>\\n'\n",
    "    data += '        <state>' + str(airport[3]) + '</state>\\n'\n",
    "    data += '        <country>' + str(airport[4]) + '</country>\\n'\n",
    "    data += '        <latitude>' + str(airport[5]) + '</latitude>\\n'\n",
    "    data += '        <longitude>' + str(airport[6]) + '</longitude>\\n'\n",
    "\n",
    "    data += '    </airport>\\n'\n",
    "\n",
    "data += '</airports>\\n'\n",
    "\n",
    "tree = ET.ElementTree(ET.fromstring(data))\n",
    "\n",
    "\n",
    "with open('/home/data_scientist/temp/data.xml', 'w') as fout:\n",
    "    tree.write(fout, encoding='unicode')\n"
   ]
  },
  {
   "cell_type": "markdown",
   "metadata": {},
   "source": [
    "-----\n",
    "\n",
    "Since the XML format is text based, we can easily view the contents of\n",
    "our new XML file by using the `head` command, as done before. In this\n",
    "case, the XML format is our own creation, but if we were following a\n",
    "standard, additional information would be present to indicate the full\n",
    "document provenance.\n",
    "\n",
    "-----"
   ]
  },
  {
   "cell_type": "code",
   "execution_count": 3,
   "metadata": {},
   "outputs": [
    {
     "name": "stdout",
     "output_type": "stream",
     "text": [
      "<airports>\r\n",
      "    <airport name=\"Thigpen \">\r\n",
      "        <iata>00M</iata>\r\n",
      "        <city>Bay Springs</city>\r\n",
      "        <state>MS</state>\r\n",
      "        <country>USA</country>\r\n",
      "        <latitude>31.95376472</latitude>\r\n",
      "        <longitude>-89.23450472</longitude>\r\n",
      "    </airport>\r\n"
     ]
    }
   ],
   "source": [
    "!head -9 /home/data_scientist/temp/data.xml"
   ]
  },
  {
   "cell_type": "markdown",
   "metadata": {},
   "source": [
    "-----\n",
    "\n",
    "As the XML document contents demonstrate above, the XML format can be\n",
    "quite verbose. However, the document's contents are clearly visible and\n",
    "are easily understood. This enables an XML document to be [parsed][ps]\n",
    "based on a rough knowledge of the document. First we need to create and\n",
    "`ElementTree` object and parse the contents of the document, which we\n",
    "can do with the `parse` method and passing in the name of our XML\n",
    "document file. \n",
    "\n",
    "When parsing an XML document, we have a tree model for the XML elements\n",
    "contained in the document. The base of this model is the _root_ element,\n",
    "which is returned by the `parse` method. While there are a number of\n",
    "methods that can be used to find or iterate through elements in the\n",
    "document, in our case we simply want to process each `airport` element;\n",
    "thus we use the `findall` method to find all `airport` elements. The\n",
    "child elements of each `airport` element can be accessed like a Python\n",
    "`list`. The text within an element is accessed by requesting the `text`\n",
    "attribute for that element, while an element attribute is accessed like\n",
    "a `dictionary` where the name of the attribute acts as the _key_ to\n",
    "request a particular _value_. These techniques are demonstrated in the\n",
    "next code cell, where we read in our new XML document, and extract the\n",
    "airport information.\n",
    "\n",
    "-----\n",
    "\n",
    "[ps]: https://docs.python.org/3/library/xml.etree.elementtree.html#parsing-xml"
   ]
  },
  {
   "cell_type": "code",
   "execution_count": 4,
   "metadata": {},
   "outputs": [
    {
     "name": "stdout",
     "output_type": "stream",
     "text": [
      "[['iata', 'airport', 'city', 'state', 'country', 'lat', 'long'], ['00M', 'Thigpen ', 'Bay Springs', 'MS', 'USA', '31.95376472', '-89.23450472'], ['00R', 'Livingston Municipal', 'Livingston', 'TX', 'USA', '30.68586111', '-95.01792778'], ['00V', 'Meadow Lake', 'Colorado Springs', 'CO', 'USA', '38.94574889', '-104.5698933'], ['01G', 'Perry-Warsaw', 'Perry', 'NY', 'USA', '42.74134667', '-78.05208056']]\n"
     ]
    }
   ],
   "source": [
    "data = [[\"iata\", \"airport\", \"city\", \"state\", \"country\", \"lat\", \"long\"]]\n",
    "\n",
    "tree = ET.parse('/home/data_scientist/temp/data.xml')\n",
    "root = tree.getroot()\n",
    "\n",
    "for airport in root.findall('airport'):\n",
    "    row = []\n",
    "    row.append(airport[0].text)\n",
    "    row.append(airport.attrib['name'])\n",
    "    row.append(airport[1].text)\n",
    "    row.append(airport[2].text)\n",
    "    row.append(airport[3].text)\n",
    "    row.append(airport[4].text)\n",
    "    row.append(airport[5].text)\n",
    "\n",
    "    data.append(row)\n",
    "    \n",
    "print(data[:5])"
   ]
  },
  {
   "cell_type": "markdown",
   "metadata": {},
   "source": [
    "-----\n",
    "\n",
    "The preceding data formats: fixed-width, delimiter separated value,\n",
    "JSON, and XML are the primary text-based data formats that data\n",
    "scientists need to be able to use. While easy to read and relatively\n",
    "easy to parse, they are not always the best solution, especially for\n",
    "large, numerical data. While specialized binary formats exist, which are\n",
    "often domain-specific formats, there is one widely used format that\n",
    "continues to gain ground in data science applications.\n",
    "\n",
    "-----"
   ]
  },
  {
   "cell_type": "markdown",
   "metadata": {},
   "source": [
    "-----\n",
    "\n",
    "<font color='red' size = '5'> Student Exercise </font>\n",
    "\n",
    "Earlier in this notebook, we used XYZ. By using the preceding Code cells, try to make the following changes to see if your ability to identify outliers is improved.\n",
    "\n",
    "3. Try \n",
    "4. Try adding \n",
    "2. Change the \n",
    "\n",
    "-----"
   ]
  },
  {
   "cell_type": "markdown",
   "metadata": {},
   "source": [
    "## Ancillary Information\n",
    "\n",
    "The following links are to additional documentation that you might find helpful in learning this material. Reading these web-accessible documents is completely optional.\n",
    "\n",
    "1. [XML Tutorial][1] by W3Schools.\n",
    "2. [HTML Tutorial][2], an XML specified document language, by W3Schools.\n",
    "3. [SVG Tutorial][3], an XML specified image language, by W3Schools.\n",
    "4. A nice introduction on [][41]\n",
    "1. An overview of [][42]\n",
    "\n",
    "-----\n",
    "\n",
    "[1]: http://www.w3schools.com/xml/default.asp\n",
    "[2]: http://www.w3schools.com/html/default.asp\n",
    "[3]: http://www.w3schools.com/svg/default.asp\n",
    "\n",
    "[41]: http://\n",
    "[42]: https://\n",
    "[43]: https://\n"
   ]
  },
  {
   "cell_type": "markdown",
   "metadata": {
    "deletable": false,
    "editable": false
   },
   "source": [
    "**&copy; 2017: Robert J. Brunner at the University of Illinois.**\n",
    "\n",
    "This notebook is released under the [Creative Commons license CC BY-NC-SA 4.0][ll]. Any reproduction, adaptation, distribution, dissemination or making available of this notebook for commercial use is not allowed unless authorized in writing by the copyright holder.\n",
    "\n",
    "[ll]: https://creativecommons.org/licenses/by-nc-sa/4.0/legalcode"
   ]
  }
 ],
 "metadata": {
  "kernelspec": {
   "display_name": "Python 3",
   "language": "python",
   "name": "python3"
  },
  "language_info": {
   "codemirror_mode": {
    "name": "ipython",
    "version": 3
   },
   "file_extension": ".py",
   "mimetype": "text/x-python",
   "name": "python",
   "nbconvert_exporter": "python",
   "pygments_lexer": "ipython3",
   "version": "3.6.1"
  }
 },
 "nbformat": 4,
 "nbformat_minor": 1
}
