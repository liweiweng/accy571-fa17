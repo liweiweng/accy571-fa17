{
 "cells": [
  {
   "cell_type": "markdown",
   "metadata": {},
   "source": [
    "# Introduction to XML Data Format\n",
    "\n",
    "-----"
   ]
  },
  {
   "cell_type": "markdown",
   "metadata": {},
   "source": [
    "We have already touched upon data formats when introducing reading and writing data to file from within a Python program. But one of the most important tasks when starting a data analysis project is understanding the format of a data file and how to best extract the necessary information from the data, whatever the format. In this notebook, we explore the eXtensible Markup Language (XML) data format, and present how to read and write data in this format by using standard, built-in Python tools.\n",
    "\n",
    "-----\n",
    "\n",
    "\n",
    "\n"
   ]
  },
  {
   "cell_type": "markdown",
   "metadata": {},
   "source": [
    "## Table of Contents\n",
    "\n",
    "[Data Acquisition](#Data-Acquisition)\n",
    "\n",
    "[XML](#XML)\n"
   ]
  },
  {
   "cell_type": "markdown",
   "metadata": {},
   "source": [
    "-----\n",
    "[[Back to TOC]](#Table-of-Contents)\n",
    "\n",
    "## Data Acquisition\n",
    "\n",
    "Before we begin, we need test data that we can read and write in an XML format. The next three Code cells are identical to those in the [Introduction to Text Format][tdf] notebook and perform the following operations:\n",
    "- define variables to indicate where data will be stored locally, \n",
    "- use `wget` to download the airport data if necessary, \n",
    "- reads the 2009 airport data into a Python list by using the `csv` module, and\n",
    "- displays the first three rows.\n",
    "\n",
    "-----\n",
    "\n",
    "[tdf]: text-dataformat.ipynb"
   ]
  },
  {
   "cell_type": "code",
   "execution_count": 1,
   "metadata": {
    "collapsed": true
   },
   "outputs": [],
   "source": [
    "# Airport 2009 data from stat-computing.org\n",
    "\n",
    "# First we find our HOME directory\n",
    "home_dir = !echo $HOME\n",
    "\n",
    "# Define data directory\n",
    "data_dir = home_dir[0] +'/data/'\n",
    "\n",
    "# Second we construct the full path, below our \n",
    "# HOME directory to file location\n",
    "data_file=data_dir + 'airports.csv'"
   ]
  },
  {
   "cell_type": "code",
   "execution_count": 2,
   "metadata": {},
   "outputs": [
    {
     "name": "stdout",
     "output_type": "stream",
     "text": [
      "File already exists locally.\n"
     ]
    }
   ],
   "source": [
    "%%bash -s \"$data_file\"\n",
    "\n",
    "# Note, we passed in a Python variable above to the Bash script \n",
    "# which is then accessed via positional parameter, or $1 in this case.\n",
    "\n",
    "# First test if file of interest does not exist\n",
    "if [ ! -f \"$1\" ] ; then\n",
    "\n",
    "# If it does not exist, we grab the file from the Internet and\n",
    "# store it locally in the data directory\n",
    "\n",
    "wget -O \"$1\" http://stat-computing.org/dataexpo/2009/airports.csv\n",
    "\n",
    "else\n",
    "    \n",
    "    echo \"File already exists locally.\"\n",
    "fi"
   ]
  },
  {
   "cell_type": "code",
   "execution_count": 3,
   "metadata": {},
   "outputs": [
    {
     "name": "stdout",
     "output_type": "stream",
     "text": [
      "[['iata', 'airport', 'city', 'state', 'country', 'lat', 'long'], ['00M', 'Thigpen ', 'Bay Springs', 'MS', 'USA', '31.95376472', '-89.23450472'], ['00R', 'Livingston Municipal', 'Livingston', 'TX', 'USA', '30.68586111', '-95.01792778']]\n"
     ]
    }
   ],
   "source": [
    "import csv\n",
    "\n",
    "airports = []\n",
    "\n",
    "# Open file and extract flights as list of strings\n",
    "with open(data_file, 'r') as csvfile:\n",
    "    \n",
    "    for row in csv.reader(csvfile, delimiter=','):\n",
    "        airports.append(row)\n",
    "\n",
    "# Display first three rows\n",
    "print(airports[0:3])"
   ]
  },
  {
   "cell_type": "markdown",
   "metadata": {},
   "source": [
    "-----\n",
    "[[Back to TOC]](#Table-of-Contents)\n",
    "\n",
    "\n",
    "## XML\n",
    "\n",
    "[Extensible Markup Language][xml], or XML, is a simple, self-describing text-based data format. XML is a standard developed by the W3C, or World-Wide Web Consortium, originally for large scale publishing, but with the growth of the web it has taken on new roles. XML is based on the concept of element, that can have attributes and values. Elements can be nested, which can indicate parent-child relationships or a form of containerization. While you may never deal directly with XML files, you will interact with other data formats that are based on XML, such as the latest version of HyperTextMarkup Language (HTML5) or the Scalable Vector Graphics format (SVG).\n",
    "\n",
    "Given its structured format, you don't simply read an XML document, you must parse the document to build up a model of the elements and their relationships. The [`ElementTree`][xmlpy] parsing model is implemented within the standard Python distribution in the `xml` library. To write an XML file, we simply need to create an instance of this, for example by passing a string into the class constructor, and then writing this XML encoded data to a file. One caveat with this entire process, however, is that the following five characters: `<`, `>`, `&`, `'`, and `\"` are used by the actual markup language, they must be replaced by their corresponding _entity code_. For these five characters, that can be easily done by using the `html.escape` method as shown in the following code cell.\n",
    "\n",
    "-----\n",
    "[xml]: http://www.w3.org/XML/\n",
    "[w3c]: http://www.w3.org\n",
    "[html5]: http://www.w3.org/TR/html5/\n",
    "[svg]: http://www.w3.org/Graphics/SVG/\n",
    "[xmlpy]: https://docs.python.org/3/library/markup.html"
   ]
  },
  {
   "cell_type": "code",
   "execution_count": 4,
   "metadata": {
    "collapsed": true
   },
   "outputs": [],
   "source": [
    "# import relevant modules\n",
    "import html \n",
    "import xml.etree.ElementTree as ET\n",
    "\n",
    "# Define out XML document\n",
    "data = '<?xml version=\"1.0\"?>\\n' + '<airports>\\n'\n",
    "\n",
    "# We create a new element for every airpot, \n",
    "# skipping first row, which is a header row\n",
    "for airport in airports[1:]:\n",
    "    data += '    <airport name=\"{0}\">\\n'.format(html.escape(airport[1]))\n",
    "    data += '        <iata>' + str(airport[0]) + '</iata>\\n'\n",
    "    data += '        <city>' + str(airport[2]) + '</city>\\n'\n",
    "    data += '        <state>' + str(airport[3]) + '</state>\\n'\n",
    "    data += '        <country>' + str(airport[4]) + '</country>\\n'\n",
    "    data += '        <latitude>' + str(airport[5]) + '</latitude>\\n'\n",
    "    data += '        <longitude>' + str(airport[6]) + '</longitude>\\n'\n",
    "\n",
    "    data += '    </airport>\\n'\n",
    "\n",
    "data += '</airports>\\n'\n",
    "\n",
    "# Create DOM tree\n",
    "tree = ET.ElementTree(ET.fromstring(data))\n",
    "\n",
    "# Write out document tree\n",
    "with open(data_dir + 'data.xml', 'w') as fout:\n",
    "    tree.write(fout, encoding='unicode')"
   ]
  },
  {
   "cell_type": "markdown",
   "metadata": {},
   "source": [
    "-----\n",
    "\n",
    "Since the XML format is text based, we can easily view the contents of our new XML file by using the `head` command, as done before. In this case, the XML format is our own creation, but if we were following a standard, additional information would be present to indicate the full document provenance.\n",
    "\n",
    "-----"
   ]
  },
  {
   "cell_type": "code",
   "execution_count": 5,
   "metadata": {},
   "outputs": [
    {
     "name": "stdout",
     "output_type": "stream",
     "text": [
      "<airports>\r\n",
      "    <airport name=\"Thigpen \">\r\n",
      "        <iata>00M</iata>\r\n",
      "        <city>Bay Springs</city>\r\n",
      "        <state>MS</state>\r\n",
      "        <country>USA</country>\r\n",
      "        <latitude>31.95376472</latitude>\r\n",
      "        <longitude>-89.23450472</longitude>\r\n",
      "    </airport>\r\n"
     ]
    }
   ],
   "source": [
    "!head -9 $data_dir/data.xml"
   ]
  },
  {
   "cell_type": "markdown",
   "metadata": {},
   "source": [
    "-----\n",
    "\n",
    "As the XML document contents demonstrate above, the XML format can be quite verbose. However, the document's contents are clearly visible and are easily understood. This enables an XML document to be [parsed][ps] based on a rough knowledge of the document. First we need to create and `ElementTree` object and parse the contents of the document, which we can do with the `parse` method and passing in the name of our XML document file. \n",
    "\n",
    "When parsing an XML document, we have a tree model for the XML elements contained in the document. The base of this model is the _root_ element, which is returned by the `parse` method. While there are a number of methods that can be used to find or iterate through elements in the document, in our case we simply want to process each `airport` element; thus we use the `findall` method to find all `airport` elements. The child elements of each `airport` element can be accessed like a Python `list`. The text within an element is accessed by requesting the `text` attribute for that element, while an element attribute is accessed like a `dictionary` where the name of the attribute acts as the _key_ to request a particular _value_. These techniques are demonstrated in the next code cell, where we read in our new XML document, and extract the airport information.\n",
    "\n",
    "-----\n",
    "\n",
    "[ps]: https://docs.python.org/3/library/xml.etree.elementtree.html#parsing-xml"
   ]
  },
  {
   "cell_type": "code",
   "execution_count": 6,
   "metadata": {},
   "outputs": [
    {
     "name": "stdout",
     "output_type": "stream",
     "text": [
      "[['iata', 'airport', 'city', 'state', 'country', 'lat', 'long'], ['00M', 'Thigpen ', 'Bay Springs', 'MS', 'USA', '31.95376472', '-89.23450472'], ['00R', 'Livingston Municipal', 'Livingston', 'TX', 'USA', '30.68586111', '-95.01792778'], ['00V', 'Meadow Lake', 'Colorado Springs', 'CO', 'USA', '38.94574889', '-104.5698933'], ['01G', 'Perry-Warsaw', 'Perry', 'NY', 'USA', '42.74134667', '-78.05208056']]\n"
     ]
    }
   ],
   "source": [
    "# Define elements\n",
    "data = [[\"iata\", \"airport\", \"city\", \"state\", \"country\", \"lat\", \"long\"]]\n",
    "\n",
    "# Load tree and parse\n",
    "tree = ET.parse(data_dir + 'data.xml')\n",
    "root = tree.getroot()\n",
    "\n",
    "# Find all airport elements, iterate through them and extract entries\n",
    "for airport in root.findall('airport'):\n",
    "    row = []\n",
    "    row.append(airport[0].text)\n",
    "    row.append(airport.attrib['name'])\n",
    "    row.append(airport[1].text)\n",
    "    row.append(airport[2].text)\n",
    "    row.append(airport[3].text)\n",
    "    row.append(airport[4].text)\n",
    "    row.append(airport[5].text)\n",
    "\n",
    "    data.append(row)\n",
    "  \n",
    "# Display first five rows\n",
    "print(data[:5])"
   ]
  },
  {
   "cell_type": "markdown",
   "metadata": {},
   "source": [
    "-----\n",
    "\n",
    "The XML data format is, along with the JSON and text-based format, one of the most common file formats that data scientists must be able to use. While easy to read and relatively easy to parse, they are not always the best solution, especially for large, numerical data. However, being familiar with these formats will simplify many data processing tasks.\n",
    "\n",
    "-----"
   ]
  },
  {
   "cell_type": "markdown",
   "metadata": {},
   "source": [
    "\n",
    "<font color='red' size = '5'> Student Exercise </font>\n",
    "\n",
    "Earlier in this notebook, we used the `xml` module to read and write XML format files. Now that you have run the cells in this notebook, go back to the relevant cells and make these changes. Be sure to understand how your changes impact the file input and output process.\n",
    "\n",
    "3. Try to write only those airports in the state of Illinois to an XML file.\n",
    "56. The examples reading XML files treated the data as strings. Change the code to strip leading and trailing white space and to convert all numerical data (for example, latitude and longitude) to floating-point values in the generated list.\n",
    "\n",
    "-----"
   ]
  },
  {
   "cell_type": "markdown",
   "metadata": {},
   "source": [
    "## Ancillary Information\n",
    "\n",
    "The following links are to additional documentation that you might find helpful in learning this material. Reading these web-accessible documents is completely optional.\n",
    "\n",
    "1. [XML Tutorial][1] by W3Schools.\n",
    "2. [HTML Tutorial][2], an XML specified document language, by W3Schools.\n",
    "3. [SVG Tutorial][3], an XML specified image language, by W3Schools.\n",
    "4. The [XML](http://www.w3.org/XML/) format \n",
    "5. The [SVG](https://en.wikipedia.org/wiki/Scalable_Vector_Graphics) format (an XML-based image specification)\n",
    "6. The [HTML](https://en.wikipedia.org/wiki/HTML) format (an XML-based\n",
    "document specification).\n",
    "\n",
    "-----\n",
    "\n",
    "[1]: http://www.w3schools.com/xml/default.asp\n",
    "[2]: http://www.w3schools.com/html/default.asp\n",
    "[3]: http://www.w3schools.com/svg/default.asp"
   ]
  },
  {
   "cell_type": "markdown",
   "metadata": {
    "deletable": false,
    "editable": false
   },
   "source": [
    "**&copy; 2017: Robert J. Brunner at the University of Illinois.**\n",
    "\n",
    "This notebook is released under the [Creative Commons license CC BY-NC-SA 4.0][ll]. Any reproduction, adaptation, distribution, dissemination or making available of this notebook for commercial use is not allowed unless authorized in writing by the copyright holder.\n",
    "\n",
    "[ll]: https://creativecommons.org/licenses/by-nc-sa/4.0/legalcode"
   ]
  }
 ],
 "metadata": {
  "kernelspec": {
   "display_name": "Python 3",
   "language": "python",
   "name": "python3"
  },
  "language_info": {
   "codemirror_mode": {
    "name": "ipython",
    "version": 3
   },
   "file_extension": ".py",
   "mimetype": "text/x-python",
   "name": "python",
   "nbconvert_exporter": "python",
   "pygments_lexer": "ipython3",
   "version": "3.6.1"
  }
 },
 "nbformat": 4,
 "nbformat_minor": 1
}
