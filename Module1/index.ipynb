{
 "cells": [
  {
   "cell_type": "markdown",
   "metadata": {},
   "source": [
    "# Module 1: Introduction to Data Formats\n",
    "\n",
    "In this module, you will learn about different data formats. First, we will learn about diverse data formats and how they can be used to improve how business function. Second, we discuss the text data format, which will include the `.csv` and `.txt` files. Third, we will introduce the JSON format and learn how it can be used to for data processing, data transmission, and persistent data storage. Finally, we will discuss XML files and how to read, process, and write them.\n",
    "\n",
    "## Learning Objectives\n",
    "\n",
    "#### By the end of this module, you will\n",
    "\n",
    "- understand the importance of diverse data formats in solving analytics challenges,\n",
    "- understand why different data formats are commonly used,\n",
    "- understand how to read and write a CSV file,\n",
    "- understand how to read and write a JSON formatted file, and\n",
    "- understand how to read and write an XML formatted file.\n",
    "\n",
    "### Activities and Assignments\n",
    "\n",
    "| Activities and Assignments               | Time Estimate | Deadline* | Points |\n",
    "| :--------------------------------------- | ------------- | --------- | -----: |\n",
    "| **[Module 1 Overview Video][wv]**      | 10 Minutes    | Tuesday  |    N/A |\n",
    "| **[Module 1 Lesson 1: Introduction to Data][nb1]** | 1 Hour  | Thursday  |     N/A |\n",
    "| **[Module 1 Lesson 2: Introduction to Text Formats][nb2]** | 1 Hour | Thursday  |     N/A |\n",
    "| **[Module 1 Lesson 3: Introduction to JSON][nb3]** | 1 Hour | Thursday  |     N/A |\n",
    "| **[Module 1 Lesson 4: Introduction to XML][nb4]** | 2 Hours   | Thursday  |     N/A |\n",
    "| **[Module 1 Quiz][wq]**                    | 30 Minutes    | Friday    |     25|\n",
    "| **[Module 1 Assignment][ma]**                    | 1 hour   | (following) Monday    |  100 |\n",
    "\n",
    "*Please note that unless otherwise noted, the due time is 6pm Central time!\n",
    "\n",
    "----------\n",
    "\n",
    "[nb1]: notebooks/m1l1.ipynb\n",
    "[nb2]: notebooks/m1l2.ipynb\n",
    "[nb3]: notebooks/m1l3.ipynb\n",
    "[nb4]: notebooks/m1l4.ipynb\n",
    "\n",
    "[ma]: https://datascience.business.illinois.edu/user/accy/notebooks/accy571/assignments/Module1/assignment.ipynb\n",
    "\n",
    "[wv]: https://mediaspace.illinois.edu/media/t/1_v6ll5qwx\n",
    "[wq]: https://learn.illinois.edu/mod/quiz/view.php?id=2366425"
   ]
  }
 ],
 "metadata": {
  "kernelspec": {
   "display_name": "Python 3",
   "language": "python",
   "name": "python3"
  },
  "language_info": {
   "codemirror_mode": {
    "name": "ipython",
    "version": 3
   },
   "file_extension": ".py",
   "mimetype": "text/x-python",
   "name": "python",
   "nbconvert_exporter": "python",
   "pygments_lexer": "ipython3",
   "version": "3.6.1"
  }
 },
 "nbformat": 4,
 "nbformat_minor": 2
}
